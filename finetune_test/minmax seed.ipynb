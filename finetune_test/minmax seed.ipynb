{
 "cells": [
  {
   "cell_type": "code",
   "execution_count": 2,
   "id": "catholic-copyright",
   "metadata": {},
   "outputs": [],
   "source": [
    "import open3d\n",
    "import numpy as np\n",
    "import os"
   ]
  },
  {
   "cell_type": "code",
   "execution_count": 3,
   "id": "separate-eleven",
   "metadata": {},
   "outputs": [],
   "source": [
    "cip = []\n",
    "for root, structure, files in os.walk('/p/project/delia-mp/cherepashkin1/phenoseed/598'):\n",
    "    for file in files:\n",
    "        if 'Surface' in file:\n",
    "            cip.append(os.path.join(root,file))"
   ]
  },
  {
   "cell_type": "code",
   "execution_count": 9,
   "id": "voluntary-intent",
   "metadata": {},
   "outputs": [
    {
     "name": "stdout",
     "output_type": "stream",
     "text": [
      "[-33.97182354 -27.22106119 -56.44155316]\n"
     ]
    }
   ],
   "source": [
    "for i in range(1):\n",
    "    pcd = open3d.io.read_point_cloud(cip[i])\n",
    "    img = np.asarray(pcd.points)\n",
    "    img = img - np.mean(img,0)\n",
    "    minv = np.min(img,0)\n",
    "    maxv = np.max"
   ]
  },
  {
   "cell_type": "code",
   "execution_count": 10,
   "id": "comic-timothy",
   "metadata": {},
   "outputs": [],
   "source": [
    "import wandb"
   ]
  },
  {
   "cell_type": "code",
   "execution_count": 12,
   "id": "minute-mount",
   "metadata": {},
   "outputs": [
    {
     "name": "stderr",
     "output_type": "stream",
     "text": [
      "ERROR - 2021-10-30 01:07:26,718 - jupyter - Failed to detect the name of this notebook, you can set it manually with the WANDB_NOTEBOOK_NAME environment variable to enable code saving.\n"
     ]
    },
    {
     "data": {
      "text/html": [
       "W&B syncing is set to `offline` in this directory.  <br/>\n",
       "Run `wandb online` or set WANDB_MODE=online to enable cloud syncing."
      ],
      "text/plain": [
       "<IPython.core.display.HTML object>"
      ]
     },
     "metadata": {},
     "output_type": "display_data"
    },
    {
     "data": {
      "text/html": [
       "<button onClick=\"this.nextSibling.style.display='block';this.style.display='none';\">Display W&B run</button><iframe src=\"?jupyter=true\" style=\"border:none;width:100%;height:420px;display:none;\"></iframe>"
      ],
      "text/plain": [
       "<wandb.sdk.wandb_run.Run at 0x7f575c63a2e0>"
      ]
     },
     "execution_count": 12,
     "metadata": {},
     "output_type": "execute_result"
    },
    {
     "name": "stderr",
     "output_type": "stream",
     "text": [
      "2021-10-30 01:07:45.356386: I tensorflow/stream_executor/platform/default/dso_loader.cc:53] Successfully opened dynamic library libcudart.so.11.0\n",
      "Thread HandlerThread:\n",
      "Traceback (most recent call last):\n",
      "  File \"/p/project/delia-mp/cherepashkin1/virt_enves/venv0/venv/lib/python3.8/site-packages/wandb/sdk/internal/internal_util.py\", line 52, in run\n",
      "    self._run()\n",
      "  File \"/p/project/delia-mp/cherepashkin1/virt_enves/venv0/venv/lib/python3.8/site-packages/wandb/sdk/internal/internal_util.py\", line 102, in _run\n",
      "    self._process(record)\n",
      "  File \"/p/project/delia-mp/cherepashkin1/virt_enves/venv0/venv/lib/python3.8/site-packages/wandb/sdk/internal/internal.py\", line 246, in _process\n",
      "    self._hm.handle(record)\n",
      "  File \"/p/project/delia-mp/cherepashkin1/virt_enves/venv0/venv/lib/python3.8/site-packages/wandb/sdk/internal/handler.py\", line 122, in handle\n",
      "    handler(record)\n",
      "  File \"/p/project/delia-mp/cherepashkin1/virt_enves/venv0/venv/lib/python3.8/site-packages/wandb/sdk/internal/handler.py\", line 132, in handle_request\n",
      "    handler(record)\n",
      "  File \"/p/project/delia-mp/cherepashkin1/virt_enves/venv0/venv/lib/python3.8/site-packages/wandb/sdk/internal/handler.py\", line 584, in handle_request_run_start\n",
      "    self._system_stats = stats.SystemStats(pid=pid, interface=self._interface)\n",
      "  File \"/p/project/delia-mp/cherepashkin1/virt_enves/venv0/venv/lib/python3.8/site-packages/wandb/sdk/internal/stats.py\", line 98, in __init__\n",
      "    if tpu.is_tpu_available():\n",
      "  File \"/p/project/delia-mp/cherepashkin1/virt_enves/venv0/venv/lib/python3.8/site-packages/wandb/sdk/internal/tpu.py\", line 91, in is_tpu_available\n",
      "    from tensorflow.python.distribute.cluster_resolver import tpu_cluster_resolver  # type: ignore  # noqa\n",
      "  File \"/p/software/jurecadc/stages/2020/software/TensorFlow/2.5.0-gcccoremkl-10.3.0-2021.2.0-Python-3.8.5/lib/python3.8/site-packages/tensorflow/__init__.py\", line 444, in <module>\n",
      "    _ll.load_library(_main_dir)\n",
      "  File \"/p/software/jurecadc/stages/2020/software/TensorFlow/2.5.0-gcccoremkl-10.3.0-2021.2.0-Python-3.8.5/lib/python3.8/site-packages/tensorflow/python/framework/load_library.py\", line 154, in load_library\n",
      "    py_tf.TF_LoadLibrary(lib)\n",
      "tensorflow.python.framework.errors_impl.NotFoundError: /p/home/jusers/cherepashkin1/jureca/.local/lib/python3.8/site-packages/tensorflow/core/kernels/libtfkernel_sobol_op.so: undefined symbol: _ZNK10tensorflow8OpKernel11TraceStringERKNS_15OpKernelContextEb\n",
      "wandb: ERROR Internal wandb error: file data was not synced\n"
     ]
    }
   ],
   "source": [
    "wandb.init(mode=\"offline\")"
   ]
  },
  {
   "cell_type": "code",
   "execution_count": null,
   "id": "democratic-productivity",
   "metadata": {},
   "outputs": [],
   "source": [
    "output = output*2*100*0.05-100*0.05"
   ]
  }
 ],
 "metadata": {
  "kernelspec": {
   "display_name": "venv0",
   "language": "python",
   "name": "venv0"
  },
  "language_info": {
   "codemirror_mode": {
    "name": "ipython",
    "version": 3
   },
   "file_extension": ".py",
   "mimetype": "text/x-python",
   "name": "python",
   "nbconvert_exporter": "python",
   "pygments_lexer": "ipython3",
   "version": "3.8.5"
  }
 },
 "nbformat": 4,
 "nbformat_minor": 5
}
