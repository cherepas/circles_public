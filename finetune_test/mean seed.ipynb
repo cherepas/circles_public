{
 "cells": [
  {
   "cell_type": "code",
   "execution_count": 4,
   "metadata": {},
   "outputs": [
    {
     "name": "stdout",
     "output_type": "stream",
     "text": [
      "Jupyter environment detected. Enabling Open3D WebVisualizer.\n",
      "[Open3D INFO] WebRTC GUI backend enabled.\n",
      "[Open3D INFO] WebRTCWindowSystem: HTTP handshake server disabled.\n"
     ]
    }
   ],
   "source": [
    "import numpy as np\n",
    "import open3d\n",
    "import matplotlib.pyplot as plt\n",
    "import os\n",
    "from numpy import linalg as LA"
   ]
  },
  {
   "cell_type": "code",
   "execution_count": 3,
   "metadata": {},
   "outputs": [],
   "source": [
    "mainpath = '/p/home/jusers/cherepashkin1/jureca/cherepashkin1/phenoseed/598' \n",
    "cip = []\n",
    "i=0\n",
    "for root, directories, filenames in os.walk(mainpath): \n",
    "    for filename in filenames:\n",
    "        if 'Surface.ply' in filename:\n",
    "            cip.append(os.path.join(root,filename))"
   ]
  },
  {
   "cell_type": "code",
   "execution_count": 5,
   "metadata": {},
   "outputs": [
    {
     "data": {
      "text/plain": [
       "'/p/home/jusers/cherepashkin1/jureca/cherepashkin1/phenoseed/598/1484741/1495098_Surface.ply'"
      ]
     },
     "execution_count": 5,
     "metadata": {},
     "output_type": "execute_result"
    }
   ],
   "source": [
    "cip[0]"
   ]
  },
  {
   "cell_type": "code",
   "execution_count": 29,
   "metadata": {},
   "outputs": [],
   "source": [
    "mimg = np.zeros([58014,3])\n",
    "for i in range(len(cip)):\n",
    "    pcd = open3d.io.read_point_cloud(cip[i])\n",
    "    img = np.asarray(pcd.points)\n",
    "\n",
    "    X = img[:, 0]\n",
    "    Y = img[:, 1]\n",
    "    Z = img[:, 2]\n",
    "    C = np.zeros([3, 3])\n",
    "    C[0, 0] = np.matmul(X, X.transpose())\n",
    "    C[0, 1] = np.matmul(X, Y.transpose())\n",
    "    C[0, 2] = np.matmul(X, Z.transpose())\n",
    "    C[1, 0] = C[0, 1]\n",
    "    C[1, 1] = np.matmul(Y, Y.transpose())\n",
    "    C[1, 2] = np.matmul(Y, Z.transpose())\n",
    "    C[2, 0] = C[0, 2]\n",
    "    C[2, 1] = C[1, 2]\n",
    "    C[2, 2] = np.matmul(Z, Z.transpose())\n",
    "    w, v = LA.eig(C)\n",
    "    img = np.matmul(v.transpose(), img.transpose()).transpose()\n",
    "    img = img - np.mean(img,0)\n",
    "    img = np.concatenate(\n",
    "        (img, np.zeros([58014 - img.shape[0], 3])), axis=0)\n",
    "    mimg = mimg + img \n",
    "mimg = mimg/len(cip)"
   ]
  },
  {
   "cell_type": "code",
   "execution_count": 32,
   "metadata": {},
   "outputs": [
    {
     "data": {
      "text/plain": [
       "array([[-18.63070166,  54.01200809,  -2.81046257],\n",
       "       [-20.54494949,  50.36276217,  -2.6738631 ],\n",
       "       [-19.88700758,  51.11504038,  -2.63936762],\n",
       "       ...,\n",
       "       [  0.        ,   0.        ,   0.        ],\n",
       "       [  0.        ,   0.        ,   0.        ],\n",
       "       [  0.        ,   0.        ,   0.        ]])"
      ]
     },
     "execution_count": 32,
     "metadata": {},
     "output_type": "execute_result"
    }
   ],
   "source": [
    "img"
   ]
  },
  {
   "cell_type": "code",
   "execution_count": 31,
   "metadata": {},
   "outputs": [
    {
     "data": {
      "text/plain": [
       "array([[-2.68342319e+00,  9.96540728e+00, -3.57229850e+00],\n",
       "       [-2.61216120e+00,  1.00566050e+01, -3.56369202e+00],\n",
       "       [-2.54962385e+00,  1.01288849e+01, -3.57985555e+00],\n",
       "       ...,\n",
       "       [-4.61084443e-03,  1.68687093e-02, -1.31897118e-03],\n",
       "       [-4.74741477e-03,  1.67539121e-02, -1.25572979e-03],\n",
       "       [-4.65760297e-03,  1.70363741e-02, -1.11559755e-03]])"
      ]
     },
     "execution_count": 31,
     "metadata": {},
     "output_type": "execute_result"
    }
   ],
   "source": [
    "mimg"
   ]
  },
  {
   "cell_type": "code",
   "execution_count": 30,
   "metadata": {},
   "outputs": [
    {
     "data": {
      "text/plain": [
       "<mpl_toolkits.mplot3d.art3d.Path3DCollection at 0x7faf14d350a0>"
      ]
     },
     "execution_count": 30,
     "metadata": {},
     "output_type": "execute_result"
    },
    {
     "data": {
      "image/png": "[encoded data removed]",
      "text/plain": [
       "<Figure size 432x288 with 1 Axes>"
      ]
     },
     "metadata": {
      "needs_background": "light"
     },
     "output_type": "display_data"
    }
   ],
   "source": [
    "#plt.scatter()\n",
    "fig = plt.figure()\n",
    "ax = fig.add_subplot(projection='3d')\n",
    "ax.scatter(mimg[:,0],mimg[:,1],mimg[:,2], c='r')"
   ]
  },
  {
   "cell_type": "code",
   "execution_count": 7,
   "metadata": {},
   "outputs": [
    {
     "data": {
      "text/plain": [
       "(58014, 3)"
      ]
     },
     "execution_count": 7,
     "metadata": {},
     "output_type": "execute_result"
    }
   ],
   "source": [
    "img.shape"
   ]
  },
  {
   "cell_type": "markdown",
   "metadata": {},
   "source": [
    "# average on sampling"
   ]
  },
  {
   "cell_type": "code",
   "execution_count": null,
   "metadata": {},
   "outputs": [],
   "source": []
  },
  {
   "cell_type": "code",
   "execution_count": 34,
   "metadata": {},
   "outputs": [],
   "source": [
    "mainpath = '/p/home/jusers/cherepashkin1/jureca/cherepashkin1/phenoseed_csv/598csv9' \n",
    "cip = []\n",
    "i=0\n",
    "for root, directories, filenames in os.walk(mainpath): \n",
    "    for filename in filenames:\n",
    "        if 'F_N.csv' in filename:\n",
    "            cip.append(os.path.join(root,filename))"
   ]
  },
  {
   "cell_type": "code",
   "execution_count": 35,
   "metadata": {},
   "outputs": [
    {
     "data": {
      "text/plain": [
       "'/p/home/jusers/cherepashkin1/jureca/cherepashkin1/phenoseed_csv/598csv9/1484741/1495025_F_N.csv'"
      ]
     },
     "execution_count": 35,
     "metadata": {},
     "output_type": "execute_result"
    }
   ],
   "source": [
    "cip[0]"
   ]
  },
  {
   "cell_type": "code",
   "execution_count": 40,
   "metadata": {},
   "outputs": [],
   "source": [
    "F_Na = np.zeros(441)\n",
    "for i in range(len(cip)):\n",
    "    F_N = np.genfromtxt(cip[i],delimiter=',')\n",
    "    F_Na = F_N + F_Na\n",
    "F_Na = F_Na/len(cip)"
   ]
  },
  {
   "cell_type": "code",
   "execution_count": 44,
   "metadata": {},
   "outputs": [],
   "source": [
    "np.savetxt('F_Na.csv',F_Na,delimiter=',')"
   ]
  },
  {
   "cell_type": "code",
   "execution_count": 94,
   "metadata": {},
   "outputs": [
    {
     "data": {
      "text/plain": [
       "False"
      ]
     },
     "execution_count": 94,
     "metadata": {},
     "output_type": "execute_result"
    }
   ],
   "source": [
    "any([False,False,False])"
   ]
  },
  {
   "cell_type": "code",
   "execution_count": 103,
   "metadata": {},
   "outputs": [
    {
     "ename": "AttributeError",
     "evalue": "module 'numpy' has no attribute 'uniuque'",
     "output_type": "error",
     "traceback": [
      "\u001b[0;31m---------------------------------------------------------------------------\u001b[0m",
      "\u001b[0;31mAttributeError\u001b[0m                            Traceback (most recent call last)",
      "\u001b[0;32m<ipython-input-103-a55b53f94612>\u001b[0m in \u001b[0;36m<module>\u001b[0;34m\u001b[0m\n\u001b[0;32m----> 1\u001b[0;31m \u001b[0mnp\u001b[0m\u001b[0;34m.\u001b[0m\u001b[0muniuque\u001b[0m\u001b[0;34m(\u001b[0m\u001b[0mexception_list\u001b[0m\u001b[0;34m)\u001b[0m\u001b[0;34m\u001b[0m\u001b[0;34m\u001b[0m\u001b[0m\n\u001b[0m",
      "\u001b[0;32m/p/software/jurecadc/stages/2020/software/SciPy-Stack/2020-gcccoremkl-9.3.0-2020.2.254-Python-3.8.5/lib/python3.8/site-packages/numpy-1.19.1-py3.8-linux-x86_64.egg/numpy/__init__.py\u001b[0m in \u001b[0;36m__getattr__\u001b[0;34m(attr)\u001b[0m\n\u001b[1;32m    212\u001b[0m                 \u001b[0;32mreturn\u001b[0m \u001b[0mTester\u001b[0m\u001b[0;34m\u001b[0m\u001b[0;34m\u001b[0m\u001b[0m\n\u001b[1;32m    213\u001b[0m             \u001b[0;32melse\u001b[0m\u001b[0;34m:\u001b[0m\u001b[0;34m\u001b[0m\u001b[0;34m\u001b[0m\u001b[0m\n\u001b[0;32m--> 214\u001b[0;31m                 raise AttributeError(\"module {!r} has no attribute \"\n\u001b[0m\u001b[1;32m    215\u001b[0m                                      \"{!r}\".format(__name__, attr))\n\u001b[1;32m    216\u001b[0m \u001b[0;34m\u001b[0m\u001b[0m\n",
      "\u001b[0;31mAttributeError\u001b[0m: module 'numpy' has no attribute 'uniuque'"
     ]
    }
   ],
   "source": [
    "np.uniuque(exception_list)"
   ]
  },
  {
   "cell_type": "code",
   "execution_count": 117,
   "metadata": {},
   "outputs": [],
   "source": [
    "exception_list = []\n",
    "F_Nm = np.zeros([len(cip)-len(exception_list),441])\n",
    "j = 0\n",
    "cip2 = []\n",
    "for i in range(len(cip)):\n",
    "    if not any(exception in cip[i] for exception in exception_list):\n",
    "        F_Nm[j,:] = np.genfromtxt(cip[i],delimiter=',')\n",
    "        cip2.append(cip[i])\n",
    "        j+=1"
   ]
  },
  {
   "cell_type": "code",
   "execution_count": 118,
   "metadata": {},
   "outputs": [
    {
     "data": {
      "text/plain": [
       "(5270, 441)"
      ]
     },
     "execution_count": 118,
     "metadata": {},
     "output_type": "execute_result"
    }
   ],
   "source": [
    "F_Nm.shape"
   ]
  },
  {
   "cell_type": "code",
   "execution_count": 51,
   "metadata": {},
   "outputs": [
    {
     "data": {
      "text/plain": [
       "'/p/home/jusers/cherepashkin1/jureca/cherepashkin1/phenoseed_csv/598csv9/1484722/1492640_F_N.csv'"
      ]
     },
     "execution_count": 51,
     "metadata": {},
     "output_type": "execute_result"
    }
   ],
   "source": [
    "cip[1678]"
   ]
  },
  {
   "cell_type": "code",
   "execution_count": 58,
   "metadata": {},
   "outputs": [
    {
     "name": "stdout",
     "output_type": "stream",
     "text": [
      "/p/home/jusers/cherepashkin1/jureca/cherepashkin1/phenoseed_csv/598csv9/1484722/1492640_F_N.csv\n",
      "/p/home/jusers/cherepashkin1/jureca/cherepashkin1/phenoseed_csv/598csv9/1484755/1500137_F_N.csv\n",
      "/p/home/jusers/cherepashkin1/jureca/cherepashkin1/phenoseed_csv/598csv9/1484754/1500038_F_N.csv\n",
      "/p/home/jusers/cherepashkin1/jureca/cherepashkin1/phenoseed_csv/598csv9/1484725/1493000_F_N.csv\n"
     ]
    }
   ],
   "source": [
    "print(cip[1678])\n",
    "print(cip[2270])\n",
    "print(cip[5027])\n",
    "print(cip[3038])"
   ]
  },
  {
   "cell_type": "code",
   "execution_count": 104,
   "metadata": {},
   "outputs": [
    {
     "name": "stdout",
     "output_type": "stream",
     "text": [
      "\"1484741/1495025\",\n",
      "\"1484741/1495085\",\n",
      "\"1484741/1495041\",\n",
      "\"1484741/1495014\",\n",
      "\"1484741/1495133\",\n",
      "\"1484741/1495072\",\n",
      "\"1484741/1495030\",\n"
     ]
    }
   ],
   "source": [
    "exceptions_idx = [1678, 2270, 5027, 1634, 1105, 1123, 3038]\n",
    "exception_list = []\n",
    "for i in range(len(exceptions_idx)):\n",
    "    exception_list.append(str(cip[i][-23:-8]))\n",
    "    print('\"'+str(cip[i][-23:-8])+'\",')"
   ]
  },
  {
   "cell_type": "code",
   "execution_count": 105,
   "metadata": {},
   "outputs": [
    {
     "data": {
      "text/plain": [
       "['1484741/1495025',\n",
       " '1484741/1495085',\n",
       " '1484741/1495041',\n",
       " '1484741/1495014',\n",
       " '1484741/1495133',\n",
       " '1484741/1495072',\n",
       " '1484741/1495030']"
      ]
     },
     "execution_count": 105,
     "metadata": {},
     "output_type": "execute_result"
    }
   ],
   "source": [
    "exception_list"
   ]
  },
  {
   "cell_type": "code",
   "execution_count": 74,
   "metadata": {},
   "outputs": [],
   "source": [
    "exception_list = [\n",
    "    \"1484741/1495025\",\n",
    "    \"1484741/1495085\",\n",
    "    \"1484741/1495041\",\n",
    "    \"1484741/1495014\"]"
   ]
  },
  {
   "cell_type": "code",
   "execution_count": 75,
   "metadata": {},
   "outputs": [
    {
     "data": {
      "text/plain": [
       "'1484741/1495025'"
      ]
     },
     "execution_count": 75,
     "metadata": {},
     "output_type": "execute_result"
    }
   ],
   "source": [
    "exception_list[0]"
   ]
  },
  {
   "cell_type": "code",
   "execution_count": 109,
   "metadata": {},
   "outputs": [
    {
     "data": {
      "text/plain": [
       "(array([1671, 2263, 5020]),)"
      ]
     },
     "execution_count": 109,
     "metadata": {},
     "output_type": "execute_result"
    }
   ],
   "source": [
    "np.where(F_Nm[:,0]>200)"
   ]
  },
  {
   "cell_type": "code",
   "execution_count": 79,
   "metadata": {},
   "outputs": [
    {
     "data": {
      "text/plain": [
       "(array([1634, 1678, 2270, 5027]),)"
      ]
     },
     "execution_count": 79,
     "metadata": {},
     "output_type": "execute_result"
    }
   ],
   "source": [
    "np.where(F_Nm[:,1]<-100)"
   ]
  },
  {
   "cell_type": "code",
   "execution_count": 82,
   "metadata": {},
   "outputs": [
    {
     "data": {
      "text/plain": [
       "(array([1105, 1123, 3038]),)"
      ]
     },
     "execution_count": 82,
     "metadata": {},
     "output_type": "execute_result"
    }
   ],
   "source": [
    "np.where(F_Nm[:,1]>50)"
   ]
  },
  {
   "cell_type": "code",
   "execution_count": 50,
   "metadata": {},
   "outputs": [],
   "source": [
    "np.savetxt('outlier0.csv',F_Nm[1678],delimiter=',')"
   ]
  },
  {
   "cell_type": "code",
   "execution_count": 149,
   "metadata": {},
   "outputs": [
    {
     "data": {
      "text/plain": [
       "[<matplotlib.lines.Line2D at 0x7faf2ca7aee0>]"
      ]
     },
     "execution_count": 149,
     "metadata": {},
     "output_type": "execute_result"
    },
    {
     "data": {
      "image/png": "[encoded data removed]",
      "text/plain": [
       "<Figure size 432x288 with 1 Axes>"
      ]
     },
     "metadata": {
      "needs_background": "light"
     },
     "output_type": "display_data"
    }
   ],
   "source": [
    "plt.plot(F_Nm[:,1])"
   ]
  },
  {
   "cell_type": "code",
   "execution_count": 178,
   "metadata": {},
   "outputs": [],
   "source": [
    "a = np.unique(np.concatenate(\n",
    "                    (\n",
    "                    np.where(F_Nm[:,0]>200)[0], \n",
    "                    np.where(F_Nm[:,0]<-100)[0],\n",
    "                    np.where(F_Nm[:,1]<-200)[0],\n",
    "                    np.where(F_Nm[:,1]>50)[0],\n",
    "                    np.where(F_Nm[:,2]<-20)[0],\n",
    "                    np.where(F_Nm[:,3]<-20)[0],\n",
    "                    np.where(F_Nm[:,3]>20)[0],\n",
    "                    )))"
   ]
  },
  {
   "cell_type": "code",
   "execution_count": 224,
   "metadata": {},
   "outputs": [],
   "source": [
    "a = a.astype(int)"
   ]
  },
  {
   "cell_type": "code",
   "execution_count": 247,
   "metadata": {},
   "outputs": [
    {
     "data": {
      "text/plain": [
       "array([ 157,  287,  298,  300,  310,  324,  351,  400,  403,  446,  534,\n",
       "        684,  786, 1083, 1101, 1105, 1112, 1123, 1170, 1173, 1180, 1386,\n",
       "       1574, 1603, 1615, 1634, 1639, 1649, 1659, 1678, 1727, 1784, 1992,\n",
       "       2067, 2191, 2216, 2226, 2255, 2259, 2270, 2420, 2601, 2656, 2722,\n",
       "       2825, 3038, 3187, 3320, 3331, 3427, 3490, 3500, 3503, 3509, 3516,\n",
       "       3521, 3536, 3547, 3573, 3581, 3600, 3695, 3788, 4093, 4411, 4924,\n",
       "       4938, 4964, 4975, 5012, 5017, 5027, 5046, 5135])"
      ]
     },
     "execution_count": 247,
     "metadata": {},
     "output_type": "execute_result"
    }
   ],
   "source": [
    "a"
   ]
  },
  {
   "cell_type": "code",
   "execution_count": 240,
   "metadata": {},
   "outputs": [
    {
     "data": {
      "text/plain": [
       "5270"
      ]
     },
     "execution_count": 240,
     "metadata": {},
     "output_type": "execute_result"
    }
   ],
   "source": [
    "len(cip2)"
   ]
  },
  {
   "cell_type": "code",
   "execution_count": 242,
   "metadata": {},
   "outputs": [
    {
     "ename": "TypeError",
     "evalue": "list indices must be integers or slices, not list",
     "output_type": "error",
     "traceback": [
      "\u001b[0;31m---------------------------------------------------------------------------\u001b[0m",
      "\u001b[0;31mTypeError\u001b[0m                                 Traceback (most recent call last)",
      "\u001b[0;32m<ipython-input-242-2a0a08a7258b>\u001b[0m in \u001b[0;36m<module>\u001b[0;34m\u001b[0m\n\u001b[0;32m----> 1\u001b[0;31m \u001b[0mcip2\u001b[0m\u001b[0;34m[\u001b[0m\u001b[0mlist\u001b[0m\u001b[0;34m(\u001b[0m\u001b[0ma\u001b[0m\u001b[0;34m)\u001b[0m\u001b[0;34m]\u001b[0m\u001b[0;34m\u001b[0m\u001b[0;34m\u001b[0m\u001b[0m\n\u001b[0m",
      "\u001b[0;31mTypeError\u001b[0m: list indices must be integers or slices, not list"
     ]
    }
   ],
   "source": [
    "cip2[list(a)]"
   ]
  },
  {
   "cell_type": "code",
   "execution_count": 260,
   "metadata": {},
   "outputs": [],
   "source": [
    "c = [cip2[index][-23:-8] for index in a]"
   ]
  },
  {
   "cell_type": "markdown",
   "metadata": {},
   "source": [
    "##### with open('excpath', \"w\") as f:\n",
    "    for element in exception_list:\n",
    "        f.write(element + \"\\n\")"
   ]
  },
  {
   "cell_type": "code",
   "execution_count": 269,
   "metadata": {},
   "outputs": [],
   "source": [
    "with open('598_exceptions.txt', \"w\") as f:\n",
    "    for element in c:\n",
    "        f.write(element + \"\\n\")"
   ]
  },
  {
   "cell_type": "code",
   "execution_count": 261,
   "metadata": {},
   "outputs": [
    {
     "data": {
      "text/plain": [
       "['1484746/1496708',\n",
       " '1484753/1499926',\n",
       " '1484753/1499888',\n",
       " '1484753/1499857',\n",
       " '1484753/1499876',\n",
       " '1484753/1499941',\n",
       " '1484753/1499858',\n",
       " '1484758/1500505',\n",
       " '1484758/1500518',\n",
       " '1484758/1500517',\n",
       " '1484717/1492020',\n",
       " '1484733/1494044',\n",
       " '1484740/1494895',\n",
       " '1484757/1500366',\n",
       " '1484757/1500375',\n",
       " '1484757/1500472',\n",
       " '1484757/1500439',\n",
       " '1484757/1500409',\n",
       " '1484757/1500378',\n",
       " '1484757/1500434',\n",
       " '1484757/1500435',\n",
       " '1484744/1496403',\n",
       " '1484756/1500326',\n",
       " '1484756/1500329',\n",
       " '1484756/1500334',\n",
       " '1484756/1500332',\n",
       " '1484756/1500278',\n",
       " '1484756/1500264',\n",
       " '1484756/1500255',\n",
       " '1484722/1492640',\n",
       " '1484722/1492651',\n",
       " '1484722/1492687',\n",
       " '1484739/1494723',\n",
       " '1484750/1499535',\n",
       " '1484755/1500079',\n",
       " '1484755/1500084',\n",
       " '1484755/1500207',\n",
       " '1484755/1500165',\n",
       " '1484755/1500159',\n",
       " '1484755/1500137',\n",
       " '1484719/1492354',\n",
       " '1484726/1493113',\n",
       " '1484738/1494603',\n",
       " '1484738/1494622',\n",
       " '1484720/1492389',\n",
       " '1484725/1493000',\n",
       " '1484732/1493964',\n",
       " '1484737/1494472',\n",
       " '1484737/1494534',\n",
       " '1484749/1499418',\n",
       " '1484760/1500780',\n",
       " '1484760/1500762',\n",
       " '1484760/1500754',\n",
       " '1484760/1500856',\n",
       " '1484760/1500797',\n",
       " '1484760/1500857',\n",
       " '1484760/1500811',\n",
       " '1484760/1500859',\n",
       " '1484760/1500851',\n",
       " '1484760/1500794',\n",
       " '1484724/1492949',\n",
       " '1484724/1492910',\n",
       " '1484731/1493704',\n",
       " '1484743/1495658',\n",
       " '1484723/1492741',\n",
       " '1484754/1500068',\n",
       " '1484754/1500005',\n",
       " '1484754/1499988',\n",
       " '1484754/1499977',\n",
       " '1484754/1500044',\n",
       " '1484754/1499992',\n",
       " '1484754/1500038',\n",
       " '1484759/1500612',\n",
       " '1484759/1500673']"
      ]
     },
     "execution_count": 261,
     "metadata": {},
     "output_type": "execute_result"
    }
   ],
   "source": [
    "c"
   ]
  },
  {
   "cell_type": "code",
   "execution_count": 259,
   "metadata": {},
   "outputs": [
    {
     "data": {
      "text/plain": [
       "'1484746/1496708'"
      ]
     },
     "execution_count": 259,
     "metadata": {},
     "output_type": "execute_result"
    }
   ],
   "source": [
    "c[0][-23:-8]"
   ]
  },
  {
   "cell_type": "code",
   "execution_count": 246,
   "metadata": {},
   "outputs": [
    {
     "data": {
      "text/plain": [
       "74"
      ]
     },
     "execution_count": 246,
     "metadata": {},
     "output_type": "execute_result"
    }
   ],
   "source": [
    "len(c)"
   ]
  },
  {
   "cell_type": "code",
   "execution_count": 226,
   "metadata": {},
   "outputs": [],
   "source": [
    "mask_array = np.zeros(F_Nm.shape[0], dtype=int)\n",
    "\n",
    "mask_array[a] = 1\n",
    "mask2 = np.repeat(mask_array,F_Nm.shape[1])"
   ]
  },
  {
   "cell_type": "code",
   "execution_count": 181,
   "metadata": {},
   "outputs": [],
   "source": [
    "import numpy.ma as ma"
   ]
  },
  {
   "cell_type": "code",
   "execution_count": 227,
   "metadata": {},
   "outputs": [],
   "source": [
    "mx = ma.masked_array(F_Nm, mask=mask2)"
   ]
  },
  {
   "cell_type": "code",
   "execution_count": 228,
   "metadata": {},
   "outputs": [
    {
     "data": {
      "text/plain": [
       "[<matplotlib.lines.Line2D at 0x7faeec6cf8e0>]"
      ]
     },
     "execution_count": 228,
     "metadata": {},
     "output_type": "execute_result"
    },
    {
     "data": {
      "image/png": "[encoded data removed]",
      "text/plain": [
       "<Figure size 432x288 with 1 Axes>"
      ]
     },
     "metadata": {
      "needs_background": "light"
     },
     "output_type": "display_data"
    }
   ],
   "source": [
    "plt.plot(mx[:,7])"
   ]
  },
  {
   "cell_type": "code",
   "execution_count": 204,
   "metadata": {},
   "outputs": [
    {
     "data": {
      "text/plain": [
       "array([1678, 2270, 3038, 5027])"
      ]
     },
     "execution_count": 204,
     "metadata": {},
     "output_type": "execute_result"
    }
   ],
   "source": [
    "np.where(np.abs(F_Nm[:,i] - np.mean(F_Nm[:,i])) > 4 * np.std(F_Nm[:,i]))[0]"
   ]
  },
  {
   "cell_type": "code",
   "execution_count": 219,
   "metadata": {},
   "outputs": [],
   "source": [
    "a = []\n",
    "for i in range(441):\n",
    "    a = np.concatenate((a,np.where(abs(F_Nm[:,i] - np.mean(F_Nm[:,i])) > 6 * np.std(F_Nm[:,i]))[0]))"
   ]
  },
  {
   "cell_type": "code",
   "execution_count": 220,
   "metadata": {},
   "outputs": [],
   "source": [
    "a = np.unique(a)"
   ]
  },
  {
   "cell_type": "code",
   "execution_count": 221,
   "metadata": {},
   "outputs": [
    {
     "data": {
      "text/plain": [
       "(74,)"
      ]
     },
     "execution_count": 221,
     "metadata": {},
     "output_type": "execute_result"
    }
   ],
   "source": [
    "a.shape"
   ]
  },
  {
   "cell_type": "code",
   "execution_count": 235,
   "metadata": {},
   "outputs": [
    {
     "name": "stderr",
     "output_type": "stream",
     "text": [
      "<ipython-input-235-bd682b2368c0>:1: RuntimeWarning: invalid value encountered in log10\n",
      "  plt.plot(np.log10(F_Nm[:,0]))\n"
     ]
    },
    {
     "data": {
      "text/plain": [
       "Text(0, 0.5, 'log10(F_N[0] amplitude)')"
      ]
     },
     "execution_count": 235,
     "metadata": {},
     "output_type": "execute_result"
    },
    {
     "data": {
      "image/png": "[encoded data removed]",
      "text/plain": [
       "<Figure size 432x288 with 1 Axes>"
      ]
     },
     "metadata": {
      "needs_background": "light"
     },
     "output_type": "display_data"
    }
   ],
   "source": [
    "plt.plot(np.log10(F_Nm[:,0]))\n",
    "plt.xlabel('seed idx')\n",
    "plt.ylabel('log10(F_N[0] amplitude)')"
   ]
  },
  {
   "cell_type": "code",
   "execution_count": 232,
   "metadata": {},
   "outputs": [
    {
     "data": {
      "text/plain": [
       "(-100.0, 1500.0)"
      ]
     },
     "execution_count": 232,
     "metadata": {},
     "output_type": "execute_result"
    },
    {
     "data": {
      "image/png": "[encoded data removed]",
      "text/plain": [
       "<Figure size 432x288 with 1 Axes>"
      ]
     },
     "metadata": {
      "needs_background": "light"
     },
     "output_type": "display_data"
    }
   ],
   "source": [
    "plt.plot(mx[:,0])\n",
    "plt.ylim(-100,1500)"
   ]
  },
  {
   "cell_type": "code",
   "execution_count": null,
   "metadata": {},
   "outputs": [],
   "source": [
    "for i in range(441):\n",
    "    plt.figure(i)\n",
    "    plt.plot(mx[:,i])\n",
    "    plt.title(str(i))"
   ]
  },
  {
   "cell_type": "code",
   "execution_count": null,
   "metadata": {},
   "outputs": [],
   "source": [
    "F_Nm"
   ]
  },
  {
   "cell_type": "code",
   "execution_count": null,
   "metadata": {},
   "outputs": [],
   "source": [
    "for i in range(441):\n",
    "    "
   ]
  },
  {
   "cell_type": "code",
   "execution_count": 236,
   "metadata": {},
   "outputs": [],
   "source": [
    "mainpath = '/p/home/jusers/cherepashkin1/jureca/cherepashkin1/phenoseed/598' \n",
    "cip = []\n",
    "i=0\n",
    "for root, directories, filenames in os.walk(mainpath): \n",
    "    for filename in filenames:\n",
    "        if '1492640_Surface' in filename:\n",
    "            cip.append(os.path.join(root,filename))"
   ]
  },
  {
   "cell_type": "code",
   "execution_count": 237,
   "metadata": {},
   "outputs": [
    {
     "data": {
      "text/plain": [
       "['/p/home/jusers/cherepashkin1/jureca/cherepashkin1/phenoseed/598/1484722/1492640_Surface.ply']"
      ]
     },
     "execution_count": 237,
     "metadata": {},
     "output_type": "execute_result"
    }
   ],
   "source": [
    "cip[]"
   ]
  },
  {
   "cell_type": "code",
   "execution_count": null,
   "metadata": {},
   "outputs": [],
   "source": [
    "df = "
   ]
  },
  {
   "cell_type": "code",
   "execution_count": 250,
   "metadata": {},
   "outputs": [],
   "source": [
    "import pandas as pd"
   ]
  },
  {
   "cell_type": "code",
   "execution_count": 252,
   "metadata": {},
   "outputs": [],
   "source": [
    "df = pd.read_csv('/p/home/jusers/cherepashkin1/jureca/cherepashkin1/phenoseed_csv/pathes_to: 598.csv')"
   ]
  },
  {
   "cell_type": "code",
   "execution_count": 263,
   "metadata": {},
   "outputs": [
    {
     "data": {
      "text/html": [
       "<div>\n",
       "<style scoped>\n",
       "    .dataframe tbody tr th:only-of-type {\n",
       "        vertical-align: middle;\n",
       "    }\n",
       "\n",
       "    .dataframe tbody tr th {\n",
       "        vertical-align: top;\n",
       "    }\n",
       "\n",
       "    .dataframe thead th {\n",
       "        text-align: right;\n",
       "    }\n",
       "</style>\n",
       "<table border=\"1\" class=\"dataframe\">\n",
       "  <thead>\n",
       "    <tr style=\"text-align: right;\">\n",
       "      <th></th>\n",
       "      <th>file_name</th>\n",
       "      <th>zero_angle</th>\n",
       "    </tr>\n",
       "  </thead>\n",
       "  <tbody>\n",
       "    <tr>\n",
       "      <th>0</th>\n",
       "      <td>598csv/1484720/1492412</td>\n",
       "      <td>7</td>\n",
       "    </tr>\n",
       "    <tr>\n",
       "      <th>1</th>\n",
       "      <td>598csv/1484719/1492243</td>\n",
       "      <td>14</td>\n",
       "    </tr>\n",
       "    <tr>\n",
       "      <th>2</th>\n",
       "      <td>598csv/1484738/1494635</td>\n",
       "      <td>13</td>\n",
       "    </tr>\n",
       "    <tr>\n",
       "      <th>3</th>\n",
       "      <td>598csv/1484755/1500157</td>\n",
       "      <td>6</td>\n",
       "    </tr>\n",
       "    <tr>\n",
       "      <th>4</th>\n",
       "      <td>598csv/1484738/1494634</td>\n",
       "      <td>8</td>\n",
       "    </tr>\n",
       "    <tr>\n",
       "      <th>...</th>\n",
       "      <td>...</td>\n",
       "      <td>...</td>\n",
       "    </tr>\n",
       "    <tr>\n",
       "      <th>5265</th>\n",
       "      <td>598csv/1484734/1494120</td>\n",
       "      <td>23</td>\n",
       "    </tr>\n",
       "    <tr>\n",
       "      <th>5266</th>\n",
       "      <td>598csv/1484719/1492267</td>\n",
       "      <td>13</td>\n",
       "    </tr>\n",
       "    <tr>\n",
       "      <th>5267</th>\n",
       "      <td>598csv/1484756/1500240</td>\n",
       "      <td>20</td>\n",
       "    </tr>\n",
       "    <tr>\n",
       "      <th>5268</th>\n",
       "      <td>598csv/1484752/1499783</td>\n",
       "      <td>24</td>\n",
       "    </tr>\n",
       "    <tr>\n",
       "      <th>5269</th>\n",
       "      <td>598csv/1484743/1495681</td>\n",
       "      <td>7</td>\n",
       "    </tr>\n",
       "  </tbody>\n",
       "</table>\n",
       "<p>5270 rows × 2 columns</p>\n",
       "</div>"
      ],
      "text/plain": [
       "                   file_name  zero_angle\n",
       "0     598csv/1484720/1492412           7\n",
       "1     598csv/1484719/1492243          14\n",
       "2     598csv/1484738/1494635          13\n",
       "3     598csv/1484755/1500157           6\n",
       "4     598csv/1484738/1494634           8\n",
       "...                      ...         ...\n",
       "5265  598csv/1484734/1494120          23\n",
       "5266  598csv/1484719/1492267          13\n",
       "5267  598csv/1484756/1500240          20\n",
       "5268  598csv/1484752/1499783          24\n",
       "5269  598csv/1484743/1495681           7\n",
       "\n",
       "[5270 rows x 2 columns]"
      ]
     },
     "execution_count": 263,
     "metadata": {},
     "output_type": "execute_result"
    }
   ],
   "source": [
    "df"
   ]
  },
  {
   "cell_type": "code",
   "execution_count": 264,
   "metadata": {},
   "outputs": [],
   "source": [
    "for st in c:\n",
    "    df = df[~df.file_name.str.contains(st)]"
   ]
  },
  {
   "cell_type": "code",
   "execution_count": 265,
   "metadata": {},
   "outputs": [
    {
     "data": {
      "text/plain": [
       "5196"
      ]
     },
     "execution_count": 265,
     "metadata": {},
     "output_type": "execute_result"
    }
   ],
   "source": [
    "len(df)"
   ]
  },
  {
   "cell_type": "code",
   "execution_count": 266,
   "metadata": {},
   "outputs": [
    {
     "data": {
      "text/plain": [
       "74"
      ]
     },
     "execution_count": 266,
     "metadata": {},
     "output_type": "execute_result"
    }
   ],
   "source": [
    "5270-5196"
   ]
  },
  {
   "cell_type": "code",
   "execution_count": 2,
   "metadata": {},
   "outputs": [],
   "source": [
    "with open('/p/home/jusers/cherepashkin1/jureca/cherepashkin1/phenoseed_csv/598_exceptions.txt','r') as f:\n",
    "    exc = f.readlines()"
   ]
  },
  {
   "cell_type": "code",
   "execution_count": 6,
   "metadata": {},
   "outputs": [],
   "source": [
    "exc = [exc[i].replace('\\n','') for i in range(len(exc))]"
   ]
  },
  {
   "cell_type": "code",
   "execution_count": 7,
   "metadata": {},
   "outputs": [
    {
     "data": {
      "text/plain": [
       "['1484746/1496708',\n",
       " '1484753/1499926',\n",
       " '1484753/1499888',\n",
       " '1484753/1499857',\n",
       " '1484753/1499876',\n",
       " '1484753/1499941',\n",
       " '1484753/1499858',\n",
       " '1484758/1500505',\n",
       " '1484758/1500518',\n",
       " '1484758/1500517',\n",
       " '1484717/1492020',\n",
       " '1484733/1494044',\n",
       " '1484740/1494895',\n",
       " '1484757/1500366',\n",
       " '1484757/1500375',\n",
       " '1484757/1500472',\n",
       " '1484757/1500439',\n",
       " '1484757/1500409',\n",
       " '1484757/1500378',\n",
       " '1484757/1500434',\n",
       " '1484757/1500435',\n",
       " '1484744/1496403',\n",
       " '1484756/1500326',\n",
       " '1484756/1500329',\n",
       " '1484756/1500334',\n",
       " '1484756/1500332',\n",
       " '1484756/1500278',\n",
       " '1484756/1500264',\n",
       " '1484756/1500255',\n",
       " '1484722/1492640',\n",
       " '1484722/1492651',\n",
       " '1484722/1492687',\n",
       " '1484739/1494723',\n",
       " '1484750/1499535',\n",
       " '1484755/1500079',\n",
       " '1484755/1500084',\n",
       " '1484755/1500207',\n",
       " '1484755/1500165',\n",
       " '1484755/1500159',\n",
       " '1484755/1500137',\n",
       " '1484719/1492354',\n",
       " '1484726/1493113',\n",
       " '1484738/1494603',\n",
       " '1484738/1494622',\n",
       " '1484720/1492389',\n",
       " '1484725/1493000',\n",
       " '1484732/1493964',\n",
       " '1484737/1494472',\n",
       " '1484737/1494534',\n",
       " '1484749/1499418',\n",
       " '1484760/1500780',\n",
       " '1484760/1500762',\n",
       " '1484760/1500754',\n",
       " '1484760/1500856',\n",
       " '1484760/1500797',\n",
       " '1484760/1500857',\n",
       " '1484760/1500811',\n",
       " '1484760/1500859',\n",
       " '1484760/1500851',\n",
       " '1484760/1500794',\n",
       " '1484724/1492949',\n",
       " '1484724/1492910',\n",
       " '1484731/1493704',\n",
       " '1484743/1495658',\n",
       " '1484723/1492741',\n",
       " '1484754/1500068',\n",
       " '1484754/1500005',\n",
       " '1484754/1499988',\n",
       " '1484754/1499977',\n",
       " '1484754/1500044',\n",
       " '1484754/1499992',\n",
       " '1484754/1500038',\n",
       " '1484759/1500612',\n",
       " '1484759/1500673']"
      ]
     },
     "execution_count": 7,
     "metadata": {},
     "output_type": "execute_result"
    }
   ],
   "source": [
    "exc"
   ]
  },
  {
   "cell_type": "code",
   "execution_count": null,
   "metadata": {},
   "outputs": [],
   "source": []
  },
  {
   "cell_type": "code",
   "execution_count": 12,
   "metadata": {},
   "outputs": [],
   "source": [
    "mainpath = '/p/home/jusers/cherepashkin1/jureca/cherepashkin1/phenoseed_csv/598csv10' \n",
    "cip = []\n",
    "i=0\n",
    "for root, directories, filenames in os.walk(mainpath): \n",
    "    for filename in filenames:\n",
    "        if 'F_N.csv' in filename:\n",
    "            cip.append(os.path.join(root,filename))"
   ]
  },
  {
   "cell_type": "code",
   "execution_count": 14,
   "metadata": {},
   "outputs": [],
   "source": [
    "cip2 = []\n",
    "j=0\n",
    "F_Nm = np.zeros([len(cip)-len(exc),441])\n",
    "for i in range(len(cip)):\n",
    "    if not any(exception in cip[i] for exception in exc):\n",
    "        F_Nm[j,:] = np.genfromtxt(cip[i],delimiter=',')\n",
    "        cip2.append(cip[i])\n",
    "        j+=1"
   ]
  },
  {
   "cell_type": "code",
   "execution_count": 15,
   "metadata": {},
   "outputs": [
    {
     "data": {
      "text/plain": [
       "(5196, 441)"
      ]
     },
     "execution_count": 15,
     "metadata": {},
     "output_type": "execute_result"
    }
   ],
   "source": [
    "F_Nm.shape"
   ]
  },
  {
   "cell_type": "code",
   "execution_count": 19,
   "metadata": {},
   "outputs": [],
   "source": [
    "F_N = np.mean(F_Nm,axis=0)"
   ]
  },
  {
   "cell_type": "code",
   "execution_count": 22,
   "metadata": {},
   "outputs": [],
   "source": [
    "np.savetxt('mean norm F_N.csv',F_N)"
   ]
  },
  {
   "cell_type": "code",
   "execution_count": 5,
   "metadata": {},
   "outputs": [],
   "source": [
    "#Y_Nm = np.genfromtxt('/p/home/jusers/cherepashkin1/jureca/cherepashkin1/phenoseed_csv/Y_N_500.csv',delimiter=',')\n",
    "dirs = np.genfromtxt('/p/home/jusers/cherepashkin1/jureca/cherepashkin1/phenoseed_csv/bX_500.csv',delimiter=',')"
   ]
  },
  {
   "cell_type": "code",
   "execution_count": 1,
   "metadata": {},
   "outputs": [],
   "source": [
    "import torch"
   ]
  },
  {
   "cell_type": "code",
   "execution_count": 6,
   "metadata": {},
   "outputs": [],
   "source": [
    "dirs = torch.Tensor(dirs)"
   ]
  },
  {
   "cell_type": "code",
   "execution_count": 7,
   "metadata": {},
   "outputs": [],
   "source": [
    "dirsm = dirs[:2, :].repeat(40, 1, 1)"
   ]
  },
  {
   "cell_type": "code",
   "execution_count": 8,
   "metadata": {},
   "outputs": [
    {
     "data": {
      "text/plain": [
       "torch.Size([40, 2, 500])"
      ]
     },
     "execution_count": 8,
     "metadata": {},
     "output_type": "execute_result"
    }
   ],
   "source": [
    "dirsm.shape"
   ]
  },
  {
   "cell_type": "code",
   "execution_count": 27,
   "metadata": {},
   "outputs": [
    {
     "data": {
      "text/plain": [
       "(72, 500)"
      ]
     },
     "execution_count": 27,
     "metadata": {},
     "output_type": "execute_result"
    }
   ],
   "source": [
    "dirs.shape"
   ]
  },
  {
   "cell_type": "code",
   "execution_count": 28,
   "metadata": {},
   "outputs": [],
   "source": [
    "dirs0 = dirs[:2,:]"
   ]
  },
  {
   "cell_type": "code",
   "execution_count": 24,
   "metadata": {},
   "outputs": [],
   "source": [
    "Y_N = Y_Nm[:500,:]"
   ]
  },
  {
   "cell_type": "code",
   "execution_count": 25,
   "metadata": {},
   "outputs": [
    {
     "data": {
      "text/plain": [
       "(500, 441)"
      ]
     },
     "execution_count": 25,
     "metadata": {},
     "output_type": "execute_result"
    }
   ],
   "source": [
    "Y_N.shape"
   ]
  },
  {
   "cell_type": "code",
   "execution_count": 29,
   "metadata": {},
   "outputs": [
    {
     "data": {
      "text/plain": [
       "(2, 500)"
      ]
     },
     "execution_count": 29,
     "metadata": {},
     "output_type": "execute_result"
    }
   ],
   "source": [
    "dirs0.shape"
   ]
  },
  {
   "cell_type": "code",
   "execution_count": 34,
   "metadata": {},
   "outputs": [],
   "source": [
    "dirs0 = dirs0.transpose()"
   ]
  },
  {
   "cell_type": "code",
   "execution_count": 35,
   "metadata": {},
   "outputs": [
    {
     "data": {
      "text/plain": [
       "(500, 2)"
      ]
     },
     "execution_count": 35,
     "metadata": {},
     "output_type": "execute_result"
    }
   ],
   "source": [
    "dirs0.shape"
   ]
  },
  {
   "cell_type": "code",
   "execution_count": 32,
   "metadata": {},
   "outputs": [],
   "source": []
  },
  {
   "cell_type": "code",
   "execution_count": 33,
   "metadata": {},
   "outputs": [
    {
     "data": {
      "text/plain": [
       "(500,)"
      ]
     },
     "execution_count": 33,
     "metadata": {},
     "output_type": "execute_result"
    }
   ],
   "source": [
    "F.shape"
   ]
  },
  {
   "cell_type": "code",
   "execution_count": 42,
   "metadata": {},
   "outputs": [
    {
     "data": {
      "text/plain": [
       "(5196, 441)"
      ]
     },
     "execution_count": 42,
     "metadata": {},
     "output_type": "execute_result"
    }
   ],
   "source": [
    "F_Nm.shape"
   ]
  },
  {
   "cell_type": "code",
   "execution_count": 46,
   "metadata": {},
   "outputs": [
    {
     "data": {
      "text/plain": [
       "5196"
      ]
     },
     "execution_count": 46,
     "metadata": {},
     "output_type": "execute_result"
    }
   ],
   "source": [
    "F_Nm.shape[0]"
   ]
  },
  {
   "cell_type": "code",
   "execution_count": 44,
   "metadata": {},
   "outputs": [],
   "source": [
    "p1 = np.zeros([500,3])\n",
    "for j in range(F_Nm.shape[0]):\n",
    "    F = np.matmul(Y_N,F_Nm[j,:])\n",
    "    p = np.zeros([3,500])\n",
    "    p[0,:] = F*np.cos(dirs0[:,0])*np.sin(dirs0[:,1])\n",
    "    p[1,:] = F*np.sin(dirs0[:,0])*np.sin(dirs0[:,1])\n",
    "    p[2,:] = F*np.cos(dirs0[:,1])\n",
    "    p = p.transpose()\n",
    "    p1 = p1 + p"
   ]
  },
  {
   "cell_type": "code",
   "execution_count": 47,
   "metadata": {},
   "outputs": [],
   "source": [
    "p1 = p1/F_Nm.shape[0]"
   ]
  },
  {
   "cell_type": "code",
   "execution_count": 39,
   "metadata": {},
   "outputs": [],
   "source": [
    "p = p.transpose()"
   ]
  },
  {
   "cell_type": "code",
   "execution_count": 41,
   "metadata": {},
   "outputs": [
    {
     "data": {
      "text/plain": [
       "<mpl_toolkits.mplot3d.art3d.Path3DCollection at 0x7fb375c883a0>"
      ]
     },
     "execution_count": 41,
     "metadata": {},
     "output_type": "execute_result"
    },
    {
     "data": {
      "image/png": "[encoded data removed]",
      "text/plain": [
       "<Figure size 432x288 with 1 Axes>"
      ]
     },
     "metadata": {
      "needs_background": "light"
     },
     "output_type": "display_data"
    }
   ],
   "source": [
    "fig = plt.figure()\n",
    "ax = fig.add_subplot(projection='3d')\n",
    "ax.scatter(p[:,0],p[:,1],p[:,2], c='g')"
   ]
  },
  {
   "cell_type": "code",
   "execution_count": 48,
   "metadata": {},
   "outputs": [
    {
     "data": {
      "text/plain": [
       "<mpl_toolkits.mplot3d.art3d.Path3DCollection at 0x7fb369dda8e0>"
      ]
     },
     "execution_count": 48,
     "metadata": {},
     "output_type": "execute_result"
    },
    {
     "data": {
      "image/png": "[encoded data removed]",
      "text/plain": [
       "<Figure size 432x288 with 1 Axes>"
      ]
     },
     "metadata": {
      "needs_background": "light"
     },
     "output_type": "display_data"
    }
   ],
   "source": [
    "fig = plt.figure()\n",
    "ax = fig.add_subplot(projection='3d')\n",
    "ax.scatter(p1[:,0],p1[:,1],p1[:,2], c='g')"
   ]
  },
  {
   "cell_type": "code",
   "execution_count": 9,
   "metadata": {},
   "outputs": [
    {
     "data": {
      "text/plain": [
       "'/p/home/jusers/cherepashkin1/jureca/circles/finetune_test'"
      ]
     },
     "execution_count": 9,
     "metadata": {},
     "output_type": "execute_result"
    }
   ],
   "source": [
    "os.getcwd()"
   ]
  },
  {
   "cell_type": "code",
   "execution_count": 10,
   "metadata": {},
   "outputs": [],
   "source": [
    "import shutil "
   ]
  },
  {
   "cell_type": "code",
   "execution_count": null,
   "metadata": {},
   "outputs": [],
   "source": []
  },
  {
   "cell_type": "code",
   "execution_count": 19,
   "metadata": {},
   "outputs": [],
   "source": [
    "mainpath = '/p/home/jusers/cherepashkin1/jureca/seed2sh/598/' \n",
    "cip = []\n",
    "i=0\n",
    "for root, directories, filenames in os.walk(mainpath): \n",
    "    if root.count('/')==9:\n",
    "#         print(root)\n",
    "        cip.append(root)\n",
    "#     for filename in filenames:\n",
    "#         print(os.path.join(root,filename))\n",
    "#         if 'Surface.ply' in filename:\n",
    "#             cip.append(os.path.join(root,filename))"
   ]
  },
  {
   "cell_type": "code",
   "execution_count": 20,
   "metadata": {},
   "outputs": [
    {
     "data": {
      "text/plain": [
       "5283"
      ]
     },
     "execution_count": 20,
     "metadata": {},
     "output_type": "execute_result"
    }
   ],
   "source": [
    "len(cip)"
   ]
  },
  {
   "cell_type": "code",
   "execution_count": 29,
   "metadata": {},
   "outputs": [],
   "source": [
    "cip.sort()"
   ]
  },
  {
   "cell_type": "code",
   "execution_count": 30,
   "metadata": {},
   "outputs": [
    {
     "data": {
      "text/plain": [
       "['/p/home/jusers/cherepashkin1/jureca/seed2sh/598/1484717/1491988',\n",
       " '/p/home/jusers/cherepashkin1/jureca/seed2sh/598/1484717/1491989',\n",
       " '/p/home/jusers/cherepashkin1/jureca/seed2sh/598/1484717/1491990',\n",
       " '/p/home/jusers/cherepashkin1/jureca/seed2sh/598/1484717/1491991',\n",
       " '/p/home/jusers/cherepashkin1/jureca/seed2sh/598/1484717/1491992',\n",
       " '/p/home/jusers/cherepashkin1/jureca/seed2sh/598/1484717/1491993',\n",
       " '/p/home/jusers/cherepashkin1/jureca/seed2sh/598/1484717/1491994',\n",
       " '/p/home/jusers/cherepashkin1/jureca/seed2sh/598/1484717/1491995',\n",
       " '/p/home/jusers/cherepashkin1/jureca/seed2sh/598/1484717/1491996',\n",
       " '/p/home/jusers/cherepashkin1/jureca/seed2sh/598/1484717/1491997',\n",
       " '/p/home/jusers/cherepashkin1/jureca/seed2sh/598/1484717/1491998',\n",
       " '/p/home/jusers/cherepashkin1/jureca/seed2sh/598/1484717/1491999',\n",
       " '/p/home/jusers/cherepashkin1/jureca/seed2sh/598/1484717/1492000',\n",
       " '/p/home/jusers/cherepashkin1/jureca/seed2sh/598/1484717/1492001',\n",
       " '/p/home/jusers/cherepashkin1/jureca/seed2sh/598/1484717/1492002',\n",
       " '/p/home/jusers/cherepashkin1/jureca/seed2sh/598/1484717/1492003',\n",
       " '/p/home/jusers/cherepashkin1/jureca/seed2sh/598/1484717/1492004',\n",
       " '/p/home/jusers/cherepashkin1/jureca/seed2sh/598/1484717/1492005',\n",
       " '/p/home/jusers/cherepashkin1/jureca/seed2sh/598/1484717/1492006',\n",
       " '/p/home/jusers/cherepashkin1/jureca/seed2sh/598/1484717/1492007',\n",
       " '/p/home/jusers/cherepashkin1/jureca/seed2sh/598/1484717/1492008',\n",
       " '/p/home/jusers/cherepashkin1/jureca/seed2sh/598/1484717/1492009',\n",
       " '/p/home/jusers/cherepashkin1/jureca/seed2sh/598/1484717/1492010',\n",
       " '/p/home/jusers/cherepashkin1/jureca/seed2sh/598/1484717/1492011',\n",
       " '/p/home/jusers/cherepashkin1/jureca/seed2sh/598/1484717/1492012',\n",
       " '/p/home/jusers/cherepashkin1/jureca/seed2sh/598/1484717/1492013',\n",
       " '/p/home/jusers/cherepashkin1/jureca/seed2sh/598/1484717/1492014',\n",
       " '/p/home/jusers/cherepashkin1/jureca/seed2sh/598/1484717/1492015',\n",
       " '/p/home/jusers/cherepashkin1/jureca/seed2sh/598/1484717/1492016',\n",
       " '/p/home/jusers/cherepashkin1/jureca/seed2sh/598/1484717/1492017',\n",
       " '/p/home/jusers/cherepashkin1/jureca/seed2sh/598/1484717/1492018',\n",
       " '/p/home/jusers/cherepashkin1/jureca/seed2sh/598/1484717/1492019',\n",
       " '/p/home/jusers/cherepashkin1/jureca/seed2sh/598/1484717/1492020',\n",
       " '/p/home/jusers/cherepashkin1/jureca/seed2sh/598/1484717/1492021',\n",
       " '/p/home/jusers/cherepashkin1/jureca/seed2sh/598/1484717/1492022',\n",
       " '/p/home/jusers/cherepashkin1/jureca/seed2sh/598/1484717/1492023',\n",
       " '/p/home/jusers/cherepashkin1/jureca/seed2sh/598/1484717/1492024',\n",
       " '/p/home/jusers/cherepashkin1/jureca/seed2sh/598/1484717/1492025',\n",
       " '/p/home/jusers/cherepashkin1/jureca/seed2sh/598/1484717/1492026',\n",
       " '/p/home/jusers/cherepashkin1/jureca/seed2sh/598/1484717/1492027',\n",
       " '/p/home/jusers/cherepashkin1/jureca/seed2sh/598/1484717/1492028',\n",
       " '/p/home/jusers/cherepashkin1/jureca/seed2sh/598/1484717/1492029',\n",
       " '/p/home/jusers/cherepashkin1/jureca/seed2sh/598/1484717/1492030',\n",
       " '/p/home/jusers/cherepashkin1/jureca/seed2sh/598/1484717/1492031',\n",
       " '/p/home/jusers/cherepashkin1/jureca/seed2sh/598/1484717/1492032',\n",
       " '/p/home/jusers/cherepashkin1/jureca/seed2sh/598/1484717/1492033',\n",
       " '/p/home/jusers/cherepashkin1/jureca/seed2sh/598/1484717/1492034',\n",
       " '/p/home/jusers/cherepashkin1/jureca/seed2sh/598/1484717/1492035',\n",
       " '/p/home/jusers/cherepashkin1/jureca/seed2sh/598/1484717/1492036',\n",
       " '/p/home/jusers/cherepashkin1/jureca/seed2sh/598/1484717/1492037',\n",
       " '/p/home/jusers/cherepashkin1/jureca/seed2sh/598/1484717/1492038',\n",
       " '/p/home/jusers/cherepashkin1/jureca/seed2sh/598/1484717/1492039',\n",
       " '/p/home/jusers/cherepashkin1/jureca/seed2sh/598/1484717/1492040',\n",
       " '/p/home/jusers/cherepashkin1/jureca/seed2sh/598/1484717/1492041',\n",
       " '/p/home/jusers/cherepashkin1/jureca/seed2sh/598/1484717/1492042',\n",
       " '/p/home/jusers/cherepashkin1/jureca/seed2sh/598/1484717/1492043',\n",
       " '/p/home/jusers/cherepashkin1/jureca/seed2sh/598/1484717/1492044',\n",
       " '/p/home/jusers/cherepashkin1/jureca/seed2sh/598/1484717/1492045',\n",
       " '/p/home/jusers/cherepashkin1/jureca/seed2sh/598/1484717/1492046',\n",
       " '/p/home/jusers/cherepashkin1/jureca/seed2sh/598/1484717/1492047',\n",
       " '/p/home/jusers/cherepashkin1/jureca/seed2sh/598/1484717/1492048',\n",
       " '/p/home/jusers/cherepashkin1/jureca/seed2sh/598/1484717/1492049',\n",
       " '/p/home/jusers/cherepashkin1/jureca/seed2sh/598/1484717/1492050',\n",
       " '/p/home/jusers/cherepashkin1/jureca/seed2sh/598/1484717/1492051',\n",
       " '/p/home/jusers/cherepashkin1/jureca/seed2sh/598/1484717/1492052',\n",
       " '/p/home/jusers/cherepashkin1/jureca/seed2sh/598/1484717/1492053',\n",
       " '/p/home/jusers/cherepashkin1/jureca/seed2sh/598/1484717/1492054',\n",
       " '/p/home/jusers/cherepashkin1/jureca/seed2sh/598/1484717/1492055',\n",
       " '/p/home/jusers/cherepashkin1/jureca/seed2sh/598/1484717/1492056',\n",
       " '/p/home/jusers/cherepashkin1/jureca/seed2sh/598/1484717/1492057',\n",
       " '/p/home/jusers/cherepashkin1/jureca/seed2sh/598/1484717/1492058',\n",
       " '/p/home/jusers/cherepashkin1/jureca/seed2sh/598/1484717/1492059',\n",
       " '/p/home/jusers/cherepashkin1/jureca/seed2sh/598/1484717/1492060',\n",
       " '/p/home/jusers/cherepashkin1/jureca/seed2sh/598/1484717/1492061',\n",
       " '/p/home/jusers/cherepashkin1/jureca/seed2sh/598/1484717/1492062',\n",
       " '/p/home/jusers/cherepashkin1/jureca/seed2sh/598/1484717/1492063',\n",
       " '/p/home/jusers/cherepashkin1/jureca/seed2sh/598/1484717/1492064',\n",
       " '/p/home/jusers/cherepashkin1/jureca/seed2sh/598/1484717/1492065',\n",
       " '/p/home/jusers/cherepashkin1/jureca/seed2sh/598/1484717/1492066',\n",
       " '/p/home/jusers/cherepashkin1/jureca/seed2sh/598/1484717/1492067',\n",
       " '/p/home/jusers/cherepashkin1/jureca/seed2sh/598/1484717/1492068',\n",
       " '/p/home/jusers/cherepashkin1/jureca/seed2sh/598/1484717/1492069',\n",
       " '/p/home/jusers/cherepashkin1/jureca/seed2sh/598/1484717/1492070',\n",
       " '/p/home/jusers/cherepashkin1/jureca/seed2sh/598/1484717/1492071',\n",
       " '/p/home/jusers/cherepashkin1/jureca/seed2sh/598/1484717/1492072',\n",
       " '/p/home/jusers/cherepashkin1/jureca/seed2sh/598/1484717/1492073',\n",
       " '/p/home/jusers/cherepashkin1/jureca/seed2sh/598/1484717/1492074',\n",
       " '/p/home/jusers/cherepashkin1/jureca/seed2sh/598/1484717/1492075',\n",
       " '/p/home/jusers/cherepashkin1/jureca/seed2sh/598/1484717/1492076',\n",
       " '/p/home/jusers/cherepashkin1/jureca/seed2sh/598/1484717/1492077',\n",
       " '/p/home/jusers/cherepashkin1/jureca/seed2sh/598/1484717/1492078',\n",
       " '/p/home/jusers/cherepashkin1/jureca/seed2sh/598/1484717/1492079',\n",
       " '/p/home/jusers/cherepashkin1/jureca/seed2sh/598/1484717/1492080',\n",
       " '/p/home/jusers/cherepashkin1/jureca/seed2sh/598/1484717/1492081',\n",
       " '/p/home/jusers/cherepashkin1/jureca/seed2sh/598/1484717/1492082',\n",
       " '/p/home/jusers/cherepashkin1/jureca/seed2sh/598/1484717/1492083',\n",
       " '/p/home/jusers/cherepashkin1/jureca/seed2sh/598/1484717/1492084',\n",
       " '/p/home/jusers/cherepashkin1/jureca/seed2sh/598/1484717/1492085',\n",
       " '/p/home/jusers/cherepashkin1/jureca/seed2sh/598/1484717/1492087',\n",
       " '/p/home/jusers/cherepashkin1/jureca/seed2sh/598/1484717/1492088',\n",
       " '/p/home/jusers/cherepashkin1/jureca/seed2sh/598/1484717/1492089',\n",
       " '/p/home/jusers/cherepashkin1/jureca/seed2sh/598/1484717/1492090',\n",
       " '/p/home/jusers/cherepashkin1/jureca/seed2sh/598/1484717/1492091',\n",
       " '/p/home/jusers/cherepashkin1/jureca/seed2sh/598/1484717/1492092',\n",
       " '/p/home/jusers/cherepashkin1/jureca/seed2sh/598/1484717/1492093',\n",
       " '/p/home/jusers/cherepashkin1/jureca/seed2sh/598/1484717/1492094',\n",
       " '/p/home/jusers/cherepashkin1/jureca/seed2sh/598/1484717/1492095',\n",
       " '/p/home/jusers/cherepashkin1/jureca/seed2sh/598/1484717/1492096',\n",
       " '/p/home/jusers/cherepashkin1/jureca/seed2sh/598/1484717/1492097',\n",
       " '/p/home/jusers/cherepashkin1/jureca/seed2sh/598/1484717/1492098',\n",
       " '/p/home/jusers/cherepashkin1/jureca/seed2sh/598/1484717/1492099',\n",
       " '/p/home/jusers/cherepashkin1/jureca/seed2sh/598/1484717/1492100',\n",
       " '/p/home/jusers/cherepashkin1/jureca/seed2sh/598/1484717/1492101',\n",
       " '/p/home/jusers/cherepashkin1/jureca/seed2sh/598/1484717/1492102',\n",
       " '/p/home/jusers/cherepashkin1/jureca/seed2sh/598/1484717/1492103',\n",
       " '/p/home/jusers/cherepashkin1/jureca/seed2sh/598/1484717/1492104',\n",
       " '/p/home/jusers/cherepashkin1/jureca/seed2sh/598/1484717/1492105',\n",
       " '/p/home/jusers/cherepashkin1/jureca/seed2sh/598/1484717/1492106',\n",
       " '/p/home/jusers/cherepashkin1/jureca/seed2sh/598/1484717/1492107',\n",
       " '/p/home/jusers/cherepashkin1/jureca/seed2sh/598/1484717/1492108',\n",
       " '/p/home/jusers/cherepashkin1/jureca/seed2sh/598/1484718/1492109',\n",
       " '/p/home/jusers/cherepashkin1/jureca/seed2sh/598/1484718/1492110',\n",
       " '/p/home/jusers/cherepashkin1/jureca/seed2sh/598/1484718/1492111',\n",
       " '/p/home/jusers/cherepashkin1/jureca/seed2sh/598/1484718/1492112',\n",
       " '/p/home/jusers/cherepashkin1/jureca/seed2sh/598/1484718/1492113',\n",
       " '/p/home/jusers/cherepashkin1/jureca/seed2sh/598/1484718/1492114',\n",
       " '/p/home/jusers/cherepashkin1/jureca/seed2sh/598/1484718/1492115',\n",
       " '/p/home/jusers/cherepashkin1/jureca/seed2sh/598/1484718/1492116',\n",
       " '/p/home/jusers/cherepashkin1/jureca/seed2sh/598/1484718/1492117',\n",
       " '/p/home/jusers/cherepashkin1/jureca/seed2sh/598/1484718/1492118',\n",
       " '/p/home/jusers/cherepashkin1/jureca/seed2sh/598/1484718/1492119',\n",
       " '/p/home/jusers/cherepashkin1/jureca/seed2sh/598/1484718/1492120',\n",
       " '/p/home/jusers/cherepashkin1/jureca/seed2sh/598/1484718/1492121',\n",
       " '/p/home/jusers/cherepashkin1/jureca/seed2sh/598/1484718/1492122',\n",
       " '/p/home/jusers/cherepashkin1/jureca/seed2sh/598/1484718/1492123',\n",
       " '/p/home/jusers/cherepashkin1/jureca/seed2sh/598/1484718/1492124',\n",
       " '/p/home/jusers/cherepashkin1/jureca/seed2sh/598/1484718/1492125',\n",
       " '/p/home/jusers/cherepashkin1/jureca/seed2sh/598/1484718/1492126',\n",
       " '/p/home/jusers/cherepashkin1/jureca/seed2sh/598/1484718/1492127',\n",
       " '/p/home/jusers/cherepashkin1/jureca/seed2sh/598/1484718/1492128',\n",
       " '/p/home/jusers/cherepashkin1/jureca/seed2sh/598/1484718/1492129',\n",
       " '/p/home/jusers/cherepashkin1/jureca/seed2sh/598/1484718/1492130',\n",
       " '/p/home/jusers/cherepashkin1/jureca/seed2sh/598/1484718/1492131',\n",
       " '/p/home/jusers/cherepashkin1/jureca/seed2sh/598/1484718/1492132',\n",
       " '/p/home/jusers/cherepashkin1/jureca/seed2sh/598/1484718/1492133',\n",
       " '/p/home/jusers/cherepashkin1/jureca/seed2sh/598/1484718/1492134',\n",
       " '/p/home/jusers/cherepashkin1/jureca/seed2sh/598/1484718/1492135',\n",
       " '/p/home/jusers/cherepashkin1/jureca/seed2sh/598/1484718/1492136',\n",
       " '/p/home/jusers/cherepashkin1/jureca/seed2sh/598/1484718/1492137',\n",
       " '/p/home/jusers/cherepashkin1/jureca/seed2sh/598/1484718/1492138',\n",
       " '/p/home/jusers/cherepashkin1/jureca/seed2sh/598/1484718/1492139',\n",
       " '/p/home/jusers/cherepashkin1/jureca/seed2sh/598/1484718/1492140',\n",
       " '/p/home/jusers/cherepashkin1/jureca/seed2sh/598/1484718/1492141',\n",
       " '/p/home/jusers/cherepashkin1/jureca/seed2sh/598/1484718/1492142',\n",
       " '/p/home/jusers/cherepashkin1/jureca/seed2sh/598/1484718/1492143',\n",
       " '/p/home/jusers/cherepashkin1/jureca/seed2sh/598/1484718/1492144',\n",
       " '/p/home/jusers/cherepashkin1/jureca/seed2sh/598/1484718/1492145',\n",
       " '/p/home/jusers/cherepashkin1/jureca/seed2sh/598/1484718/1492146',\n",
       " '/p/home/jusers/cherepashkin1/jureca/seed2sh/598/1484718/1492147',\n",
       " '/p/home/jusers/cherepashkin1/jureca/seed2sh/598/1484718/1492148',\n",
       " '/p/home/jusers/cherepashkin1/jureca/seed2sh/598/1484718/1492149',\n",
       " '/p/home/jusers/cherepashkin1/jureca/seed2sh/598/1484718/1492150',\n",
       " '/p/home/jusers/cherepashkin1/jureca/seed2sh/598/1484718/1492151',\n",
       " '/p/home/jusers/cherepashkin1/jureca/seed2sh/598/1484718/1492152',\n",
       " '/p/home/jusers/cherepashkin1/jureca/seed2sh/598/1484718/1492153',\n",
       " '/p/home/jusers/cherepashkin1/jureca/seed2sh/598/1484718/1492154',\n",
       " '/p/home/jusers/cherepashkin1/jureca/seed2sh/598/1484718/1492155',\n",
       " '/p/home/jusers/cherepashkin1/jureca/seed2sh/598/1484718/1492156',\n",
       " '/p/home/jusers/cherepashkin1/jureca/seed2sh/598/1484718/1492157',\n",
       " '/p/home/jusers/cherepashkin1/jureca/seed2sh/598/1484718/1492158',\n",
       " '/p/home/jusers/cherepashkin1/jureca/seed2sh/598/1484718/1492159',\n",
       " '/p/home/jusers/cherepashkin1/jureca/seed2sh/598/1484718/1492160',\n",
       " '/p/home/jusers/cherepashkin1/jureca/seed2sh/598/1484718/1492161',\n",
       " '/p/home/jusers/cherepashkin1/jureca/seed2sh/598/1484718/1492162',\n",
       " '/p/home/jusers/cherepashkin1/jureca/seed2sh/598/1484718/1492163',\n",
       " '/p/home/jusers/cherepashkin1/jureca/seed2sh/598/1484718/1492164',\n",
       " '/p/home/jusers/cherepashkin1/jureca/seed2sh/598/1484718/1492165',\n",
       " '/p/home/jusers/cherepashkin1/jureca/seed2sh/598/1484718/1492166',\n",
       " '/p/home/jusers/cherepashkin1/jureca/seed2sh/598/1484718/1492167',\n",
       " '/p/home/jusers/cherepashkin1/jureca/seed2sh/598/1484718/1492168',\n",
       " '/p/home/jusers/cherepashkin1/jureca/seed2sh/598/1484718/1492169',\n",
       " '/p/home/jusers/cherepashkin1/jureca/seed2sh/598/1484718/1492170',\n",
       " '/p/home/jusers/cherepashkin1/jureca/seed2sh/598/1484718/1492171',\n",
       " '/p/home/jusers/cherepashkin1/jureca/seed2sh/598/1484718/1492172',\n",
       " '/p/home/jusers/cherepashkin1/jureca/seed2sh/598/1484718/1492173',\n",
       " '/p/home/jusers/cherepashkin1/jureca/seed2sh/598/1484718/1492174',\n",
       " '/p/home/jusers/cherepashkin1/jureca/seed2sh/598/1484718/1492175',\n",
       " '/p/home/jusers/cherepashkin1/jureca/seed2sh/598/1484718/1492176',\n",
       " '/p/home/jusers/cherepashkin1/jureca/seed2sh/598/1484718/1492177',\n",
       " '/p/home/jusers/cherepashkin1/jureca/seed2sh/598/1484718/1492178',\n",
       " '/p/home/jusers/cherepashkin1/jureca/seed2sh/598/1484718/1492179',\n",
       " '/p/home/jusers/cherepashkin1/jureca/seed2sh/598/1484718/1492180',\n",
       " '/p/home/jusers/cherepashkin1/jureca/seed2sh/598/1484718/1492181',\n",
       " '/p/home/jusers/cherepashkin1/jureca/seed2sh/598/1484718/1492182',\n",
       " '/p/home/jusers/cherepashkin1/jureca/seed2sh/598/1484718/1492183',\n",
       " '/p/home/jusers/cherepashkin1/jureca/seed2sh/598/1484718/1492184',\n",
       " '/p/home/jusers/cherepashkin1/jureca/seed2sh/598/1484718/1492185',\n",
       " '/p/home/jusers/cherepashkin1/jureca/seed2sh/598/1484718/1492186',\n",
       " '/p/home/jusers/cherepashkin1/jureca/seed2sh/598/1484718/1492187',\n",
       " '/p/home/jusers/cherepashkin1/jureca/seed2sh/598/1484718/1492188',\n",
       " '/p/home/jusers/cherepashkin1/jureca/seed2sh/598/1484718/1492189',\n",
       " '/p/home/jusers/cherepashkin1/jureca/seed2sh/598/1484718/1492190',\n",
       " '/p/home/jusers/cherepashkin1/jureca/seed2sh/598/1484718/1492191',\n",
       " '/p/home/jusers/cherepashkin1/jureca/seed2sh/598/1484718/1492192',\n",
       " '/p/home/jusers/cherepashkin1/jureca/seed2sh/598/1484718/1492193',\n",
       " '/p/home/jusers/cherepashkin1/jureca/seed2sh/598/1484718/1492194',\n",
       " '/p/home/jusers/cherepashkin1/jureca/seed2sh/598/1484718/1492195',\n",
       " '/p/home/jusers/cherepashkin1/jureca/seed2sh/598/1484718/1492196',\n",
       " '/p/home/jusers/cherepashkin1/jureca/seed2sh/598/1484718/1492197',\n",
       " '/p/home/jusers/cherepashkin1/jureca/seed2sh/598/1484718/1492198',\n",
       " '/p/home/jusers/cherepashkin1/jureca/seed2sh/598/1484718/1492199',\n",
       " '/p/home/jusers/cherepashkin1/jureca/seed2sh/598/1484718/1492200',\n",
       " '/p/home/jusers/cherepashkin1/jureca/seed2sh/598/1484718/1492201',\n",
       " '/p/home/jusers/cherepashkin1/jureca/seed2sh/598/1484718/1492202',\n",
       " '/p/home/jusers/cherepashkin1/jureca/seed2sh/598/1484718/1492203',\n",
       " '/p/home/jusers/cherepashkin1/jureca/seed2sh/598/1484718/1492204',\n",
       " '/p/home/jusers/cherepashkin1/jureca/seed2sh/598/1484718/1492205',\n",
       " '/p/home/jusers/cherepashkin1/jureca/seed2sh/598/1484718/1492206',\n",
       " '/p/home/jusers/cherepashkin1/jureca/seed2sh/598/1484718/1492207',\n",
       " '/p/home/jusers/cherepashkin1/jureca/seed2sh/598/1484718/1492208',\n",
       " '/p/home/jusers/cherepashkin1/jureca/seed2sh/598/1484718/1492209',\n",
       " '/p/home/jusers/cherepashkin1/jureca/seed2sh/598/1484718/1492210',\n",
       " '/p/home/jusers/cherepashkin1/jureca/seed2sh/598/1484718/1492211',\n",
       " '/p/home/jusers/cherepashkin1/jureca/seed2sh/598/1484718/1492212',\n",
       " '/p/home/jusers/cherepashkin1/jureca/seed2sh/598/1484718/1492213',\n",
       " '/p/home/jusers/cherepashkin1/jureca/seed2sh/598/1484718/1492214',\n",
       " '/p/home/jusers/cherepashkin1/jureca/seed2sh/598/1484718/1492215',\n",
       " '/p/home/jusers/cherepashkin1/jureca/seed2sh/598/1484718/1492216',\n",
       " '/p/home/jusers/cherepashkin1/jureca/seed2sh/598/1484718/1492217',\n",
       " '/p/home/jusers/cherepashkin1/jureca/seed2sh/598/1484718/1492218',\n",
       " '/p/home/jusers/cherepashkin1/jureca/seed2sh/598/1484718/1492219',\n",
       " '/p/home/jusers/cherepashkin1/jureca/seed2sh/598/1484718/1492220',\n",
       " '/p/home/jusers/cherepashkin1/jureca/seed2sh/598/1484718/1492221',\n",
       " '/p/home/jusers/cherepashkin1/jureca/seed2sh/598/1484718/1492222',\n",
       " '/p/home/jusers/cherepashkin1/jureca/seed2sh/598/1484718/1492223',\n",
       " '/p/home/jusers/cherepashkin1/jureca/seed2sh/598/1484718/1492224',\n",
       " '/p/home/jusers/cherepashkin1/jureca/seed2sh/598/1484718/1492225',\n",
       " '/p/home/jusers/cherepashkin1/jureca/seed2sh/598/1484718/1492226',\n",
       " '/p/home/jusers/cherepashkin1/jureca/seed2sh/598/1484718/1492227',\n",
       " '/p/home/jusers/cherepashkin1/jureca/seed2sh/598/1484718/1492228',\n",
       " '/p/home/jusers/cherepashkin1/jureca/seed2sh/598/1484719/1492229',\n",
       " '/p/home/jusers/cherepashkin1/jureca/seed2sh/598/1484719/1492230',\n",
       " '/p/home/jusers/cherepashkin1/jureca/seed2sh/598/1484719/1492231',\n",
       " '/p/home/jusers/cherepashkin1/jureca/seed2sh/598/1484719/1492232',\n",
       " '/p/home/jusers/cherepashkin1/jureca/seed2sh/598/1484719/1492233',\n",
       " '/p/home/jusers/cherepashkin1/jureca/seed2sh/598/1484719/1492234',\n",
       " '/p/home/jusers/cherepashkin1/jureca/seed2sh/598/1484719/1492235',\n",
       " '/p/home/jusers/cherepashkin1/jureca/seed2sh/598/1484719/1492236',\n",
       " '/p/home/jusers/cherepashkin1/jureca/seed2sh/598/1484719/1492237',\n",
       " '/p/home/jusers/cherepashkin1/jureca/seed2sh/598/1484719/1492238',\n",
       " '/p/home/jusers/cherepashkin1/jureca/seed2sh/598/1484719/1492239',\n",
       " '/p/home/jusers/cherepashkin1/jureca/seed2sh/598/1484719/1492240',\n",
       " '/p/home/jusers/cherepashkin1/jureca/seed2sh/598/1484719/1492241',\n",
       " '/p/home/jusers/cherepashkin1/jureca/seed2sh/598/1484719/1492242',\n",
       " '/p/home/jusers/cherepashkin1/jureca/seed2sh/598/1484719/1492243',\n",
       " '/p/home/jusers/cherepashkin1/jureca/seed2sh/598/1484719/1492244',\n",
       " '/p/home/jusers/cherepashkin1/jureca/seed2sh/598/1484719/1492245',\n",
       " '/p/home/jusers/cherepashkin1/jureca/seed2sh/598/1484719/1492246',\n",
       " '/p/home/jusers/cherepashkin1/jureca/seed2sh/598/1484719/1492247',\n",
       " '/p/home/jusers/cherepashkin1/jureca/seed2sh/598/1484719/1492248',\n",
       " '/p/home/jusers/cherepashkin1/jureca/seed2sh/598/1484719/1492249',\n",
       " '/p/home/jusers/cherepashkin1/jureca/seed2sh/598/1484719/1492250',\n",
       " '/p/home/jusers/cherepashkin1/jureca/seed2sh/598/1484719/1492251',\n",
       " '/p/home/jusers/cherepashkin1/jureca/seed2sh/598/1484719/1492252',\n",
       " '/p/home/jusers/cherepashkin1/jureca/seed2sh/598/1484719/1492253',\n",
       " '/p/home/jusers/cherepashkin1/jureca/seed2sh/598/1484719/1492254',\n",
       " '/p/home/jusers/cherepashkin1/jureca/seed2sh/598/1484719/1492264',\n",
       " '/p/home/jusers/cherepashkin1/jureca/seed2sh/598/1484719/1492265',\n",
       " '/p/home/jusers/cherepashkin1/jureca/seed2sh/598/1484719/1492266',\n",
       " '/p/home/jusers/cherepashkin1/jureca/seed2sh/598/1484719/1492267',\n",
       " '/p/home/jusers/cherepashkin1/jureca/seed2sh/598/1484719/1492268',\n",
       " '/p/home/jusers/cherepashkin1/jureca/seed2sh/598/1484719/1492269',\n",
       " '/p/home/jusers/cherepashkin1/jureca/seed2sh/598/1484719/1492270',\n",
       " '/p/home/jusers/cherepashkin1/jureca/seed2sh/598/1484719/1492271',\n",
       " '/p/home/jusers/cherepashkin1/jureca/seed2sh/598/1484719/1492272',\n",
       " '/p/home/jusers/cherepashkin1/jureca/seed2sh/598/1484719/1492273',\n",
       " '/p/home/jusers/cherepashkin1/jureca/seed2sh/598/1484719/1492274',\n",
       " '/p/home/jusers/cherepashkin1/jureca/seed2sh/598/1484719/1492275',\n",
       " '/p/home/jusers/cherepashkin1/jureca/seed2sh/598/1484719/1492276',\n",
       " '/p/home/jusers/cherepashkin1/jureca/seed2sh/598/1484719/1492277',\n",
       " '/p/home/jusers/cherepashkin1/jureca/seed2sh/598/1484719/1492278',\n",
       " '/p/home/jusers/cherepashkin1/jureca/seed2sh/598/1484719/1492279',\n",
       " '/p/home/jusers/cherepashkin1/jureca/seed2sh/598/1484719/1492280',\n",
       " '/p/home/jusers/cherepashkin1/jureca/seed2sh/598/1484719/1492281',\n",
       " '/p/home/jusers/cherepashkin1/jureca/seed2sh/598/1484719/1492282',\n",
       " '/p/home/jusers/cherepashkin1/jureca/seed2sh/598/1484719/1492283',\n",
       " '/p/home/jusers/cherepashkin1/jureca/seed2sh/598/1484719/1492284',\n",
       " '/p/home/jusers/cherepashkin1/jureca/seed2sh/598/1484719/1492285',\n",
       " '/p/home/jusers/cherepashkin1/jureca/seed2sh/598/1484719/1492286',\n",
       " '/p/home/jusers/cherepashkin1/jureca/seed2sh/598/1484719/1492287',\n",
       " '/p/home/jusers/cherepashkin1/jureca/seed2sh/598/1484719/1492288',\n",
       " '/p/home/jusers/cherepashkin1/jureca/seed2sh/598/1484719/1492289',\n",
       " '/p/home/jusers/cherepashkin1/jureca/seed2sh/598/1484719/1492290',\n",
       " '/p/home/jusers/cherepashkin1/jureca/seed2sh/598/1484719/1492291',\n",
       " '/p/home/jusers/cherepashkin1/jureca/seed2sh/598/1484719/1492292',\n",
       " '/p/home/jusers/cherepashkin1/jureca/seed2sh/598/1484719/1492293',\n",
       " '/p/home/jusers/cherepashkin1/jureca/seed2sh/598/1484719/1492294',\n",
       " '/p/home/jusers/cherepashkin1/jureca/seed2sh/598/1484719/1492295',\n",
       " '/p/home/jusers/cherepashkin1/jureca/seed2sh/598/1484719/1492296',\n",
       " '/p/home/jusers/cherepashkin1/jureca/seed2sh/598/1484719/1492297',\n",
       " '/p/home/jusers/cherepashkin1/jureca/seed2sh/598/1484719/1492298',\n",
       " '/p/home/jusers/cherepashkin1/jureca/seed2sh/598/1484719/1492299',\n",
       " '/p/home/jusers/cherepashkin1/jureca/seed2sh/598/1484719/1492300',\n",
       " '/p/home/jusers/cherepashkin1/jureca/seed2sh/598/1484719/1492301',\n",
       " '/p/home/jusers/cherepashkin1/jureca/seed2sh/598/1484719/1492302',\n",
       " '/p/home/jusers/cherepashkin1/jureca/seed2sh/598/1484719/1492303',\n",
       " '/p/home/jusers/cherepashkin1/jureca/seed2sh/598/1484719/1492304',\n",
       " '/p/home/jusers/cherepashkin1/jureca/seed2sh/598/1484719/1492305',\n",
       " '/p/home/jusers/cherepashkin1/jureca/seed2sh/598/1484719/1492306',\n",
       " '/p/home/jusers/cherepashkin1/jureca/seed2sh/598/1484719/1492307',\n",
       " '/p/home/jusers/cherepashkin1/jureca/seed2sh/598/1484719/1492308',\n",
       " '/p/home/jusers/cherepashkin1/jureca/seed2sh/598/1484719/1492309',\n",
       " '/p/home/jusers/cherepashkin1/jureca/seed2sh/598/1484719/1492310',\n",
       " '/p/home/jusers/cherepashkin1/jureca/seed2sh/598/1484719/1492311',\n",
       " '/p/home/jusers/cherepashkin1/jureca/seed2sh/598/1484719/1492312',\n",
       " '/p/home/jusers/cherepashkin1/jureca/seed2sh/598/1484719/1492313',\n",
       " '/p/home/jusers/cherepashkin1/jureca/seed2sh/598/1484719/1492314',\n",
       " '/p/home/jusers/cherepashkin1/jureca/seed2sh/598/1484719/1492315',\n",
       " '/p/home/jusers/cherepashkin1/jureca/seed2sh/598/1484719/1492316',\n",
       " '/p/home/jusers/cherepashkin1/jureca/seed2sh/598/1484719/1492317',\n",
       " '/p/home/jusers/cherepashkin1/jureca/seed2sh/598/1484719/1492318',\n",
       " '/p/home/jusers/cherepashkin1/jureca/seed2sh/598/1484719/1492319',\n",
       " '/p/home/jusers/cherepashkin1/jureca/seed2sh/598/1484719/1492320',\n",
       " '/p/home/jusers/cherepashkin1/jureca/seed2sh/598/1484719/1492321',\n",
       " '/p/home/jusers/cherepashkin1/jureca/seed2sh/598/1484719/1492322',\n",
       " '/p/home/jusers/cherepashkin1/jureca/seed2sh/598/1484719/1492323',\n",
       " '/p/home/jusers/cherepashkin1/jureca/seed2sh/598/1484719/1492324',\n",
       " '/p/home/jusers/cherepashkin1/jureca/seed2sh/598/1484719/1492325',\n",
       " '/p/home/jusers/cherepashkin1/jureca/seed2sh/598/1484719/1492326',\n",
       " '/p/home/jusers/cherepashkin1/jureca/seed2sh/598/1484719/1492327',\n",
       " '/p/home/jusers/cherepashkin1/jureca/seed2sh/598/1484719/1492328',\n",
       " '/p/home/jusers/cherepashkin1/jureca/seed2sh/598/1484719/1492329',\n",
       " '/p/home/jusers/cherepashkin1/jureca/seed2sh/598/1484719/1492330',\n",
       " '/p/home/jusers/cherepashkin1/jureca/seed2sh/598/1484719/1492331',\n",
       " '/p/home/jusers/cherepashkin1/jureca/seed2sh/598/1484719/1492332',\n",
       " '/p/home/jusers/cherepashkin1/jureca/seed2sh/598/1484719/1492333',\n",
       " '/p/home/jusers/cherepashkin1/jureca/seed2sh/598/1484719/1492334',\n",
       " '/p/home/jusers/cherepashkin1/jureca/seed2sh/598/1484719/1492335',\n",
       " '/p/home/jusers/cherepashkin1/jureca/seed2sh/598/1484719/1492336',\n",
       " '/p/home/jusers/cherepashkin1/jureca/seed2sh/598/1484719/1492337',\n",
       " '/p/home/jusers/cherepashkin1/jureca/seed2sh/598/1484719/1492338',\n",
       " '/p/home/jusers/cherepashkin1/jureca/seed2sh/598/1484719/1492339',\n",
       " '/p/home/jusers/cherepashkin1/jureca/seed2sh/598/1484719/1492340',\n",
       " '/p/home/jusers/cherepashkin1/jureca/seed2sh/598/1484719/1492341',\n",
       " '/p/home/jusers/cherepashkin1/jureca/seed2sh/598/1484719/1492342',\n",
       " '/p/home/jusers/cherepashkin1/jureca/seed2sh/598/1484719/1492343',\n",
       " '/p/home/jusers/cherepashkin1/jureca/seed2sh/598/1484719/1492344',\n",
       " '/p/home/jusers/cherepashkin1/jureca/seed2sh/598/1484719/1492345',\n",
       " '/p/home/jusers/cherepashkin1/jureca/seed2sh/598/1484719/1492346',\n",
       " '/p/home/jusers/cherepashkin1/jureca/seed2sh/598/1484719/1492347',\n",
       " '/p/home/jusers/cherepashkin1/jureca/seed2sh/598/1484719/1492348',\n",
       " '/p/home/jusers/cherepashkin1/jureca/seed2sh/598/1484719/1492349',\n",
       " '/p/home/jusers/cherepashkin1/jureca/seed2sh/598/1484719/1492350',\n",
       " '/p/home/jusers/cherepashkin1/jureca/seed2sh/598/1484719/1492351',\n",
       " '/p/home/jusers/cherepashkin1/jureca/seed2sh/598/1484719/1492352',\n",
       " '/p/home/jusers/cherepashkin1/jureca/seed2sh/598/1484719/1492353',\n",
       " '/p/home/jusers/cherepashkin1/jureca/seed2sh/598/1484719/1492354',\n",
       " '/p/home/jusers/cherepashkin1/jureca/seed2sh/598/1484719/1492355',\n",
       " '/p/home/jusers/cherepashkin1/jureca/seed2sh/598/1484719/1492356',\n",
       " '/p/home/jusers/cherepashkin1/jureca/seed2sh/598/1484719/1492357',\n",
       " '/p/home/jusers/cherepashkin1/jureca/seed2sh/598/1484719/1492358',\n",
       " '/p/home/jusers/cherepashkin1/jureca/seed2sh/598/1484720/1492359',\n",
       " '/p/home/jusers/cherepashkin1/jureca/seed2sh/598/1484720/1492360',\n",
       " '/p/home/jusers/cherepashkin1/jureca/seed2sh/598/1484720/1492361',\n",
       " '/p/home/jusers/cherepashkin1/jureca/seed2sh/598/1484720/1492362',\n",
       " '/p/home/jusers/cherepashkin1/jureca/seed2sh/598/1484720/1492363',\n",
       " '/p/home/jusers/cherepashkin1/jureca/seed2sh/598/1484720/1492364',\n",
       " '/p/home/jusers/cherepashkin1/jureca/seed2sh/598/1484720/1492365',\n",
       " '/p/home/jusers/cherepashkin1/jureca/seed2sh/598/1484720/1492366',\n",
       " '/p/home/jusers/cherepashkin1/jureca/seed2sh/598/1484720/1492367',\n",
       " '/p/home/jusers/cherepashkin1/jureca/seed2sh/598/1484720/1492368',\n",
       " '/p/home/jusers/cherepashkin1/jureca/seed2sh/598/1484720/1492369',\n",
       " '/p/home/jusers/cherepashkin1/jureca/seed2sh/598/1484720/1492370',\n",
       " '/p/home/jusers/cherepashkin1/jureca/seed2sh/598/1484720/1492371',\n",
       " '/p/home/jusers/cherepashkin1/jureca/seed2sh/598/1484720/1492372',\n",
       " '/p/home/jusers/cherepashkin1/jureca/seed2sh/598/1484720/1492373',\n",
       " '/p/home/jusers/cherepashkin1/jureca/seed2sh/598/1484720/1492374',\n",
       " '/p/home/jusers/cherepashkin1/jureca/seed2sh/598/1484720/1492375',\n",
       " '/p/home/jusers/cherepashkin1/jureca/seed2sh/598/1484720/1492376',\n",
       " '/p/home/jusers/cherepashkin1/jureca/seed2sh/598/1484720/1492377',\n",
       " '/p/home/jusers/cherepashkin1/jureca/seed2sh/598/1484720/1492378',\n",
       " '/p/home/jusers/cherepashkin1/jureca/seed2sh/598/1484720/1492379',\n",
       " '/p/home/jusers/cherepashkin1/jureca/seed2sh/598/1484720/1492380',\n",
       " '/p/home/jusers/cherepashkin1/jureca/seed2sh/598/1484720/1492381',\n",
       " '/p/home/jusers/cherepashkin1/jureca/seed2sh/598/1484720/1492382',\n",
       " '/p/home/jusers/cherepashkin1/jureca/seed2sh/598/1484720/1492383',\n",
       " '/p/home/jusers/cherepashkin1/jureca/seed2sh/598/1484720/1492384',\n",
       " '/p/home/jusers/cherepashkin1/jureca/seed2sh/598/1484720/1492385',\n",
       " '/p/home/jusers/cherepashkin1/jureca/seed2sh/598/1484720/1492386',\n",
       " '/p/home/jusers/cherepashkin1/jureca/seed2sh/598/1484720/1492387',\n",
       " '/p/home/jusers/cherepashkin1/jureca/seed2sh/598/1484720/1492388',\n",
       " '/p/home/jusers/cherepashkin1/jureca/seed2sh/598/1484720/1492389',\n",
       " '/p/home/jusers/cherepashkin1/jureca/seed2sh/598/1484720/1492390',\n",
       " '/p/home/jusers/cherepashkin1/jureca/seed2sh/598/1484720/1492391',\n",
       " '/p/home/jusers/cherepashkin1/jureca/seed2sh/598/1484720/1492392',\n",
       " '/p/home/jusers/cherepashkin1/jureca/seed2sh/598/1484720/1492393',\n",
       " '/p/home/jusers/cherepashkin1/jureca/seed2sh/598/1484720/1492394',\n",
       " '/p/home/jusers/cherepashkin1/jureca/seed2sh/598/1484720/1492395',\n",
       " '/p/home/jusers/cherepashkin1/jureca/seed2sh/598/1484720/1492396',\n",
       " '/p/home/jusers/cherepashkin1/jureca/seed2sh/598/1484720/1492397',\n",
       " '/p/home/jusers/cherepashkin1/jureca/seed2sh/598/1484720/1492399',\n",
       " '/p/home/jusers/cherepashkin1/jureca/seed2sh/598/1484720/1492400',\n",
       " '/p/home/jusers/cherepashkin1/jureca/seed2sh/598/1484720/1492401',\n",
       " '/p/home/jusers/cherepashkin1/jureca/seed2sh/598/1484720/1492402',\n",
       " '/p/home/jusers/cherepashkin1/jureca/seed2sh/598/1484720/1492403',\n",
       " '/p/home/jusers/cherepashkin1/jureca/seed2sh/598/1484720/1492404',\n",
       " '/p/home/jusers/cherepashkin1/jureca/seed2sh/598/1484720/1492405',\n",
       " '/p/home/jusers/cherepashkin1/jureca/seed2sh/598/1484720/1492406',\n",
       " '/p/home/jusers/cherepashkin1/jureca/seed2sh/598/1484720/1492407',\n",
       " '/p/home/jusers/cherepashkin1/jureca/seed2sh/598/1484720/1492408',\n",
       " '/p/home/jusers/cherepashkin1/jureca/seed2sh/598/1484720/1492409',\n",
       " '/p/home/jusers/cherepashkin1/jureca/seed2sh/598/1484720/1492410',\n",
       " '/p/home/jusers/cherepashkin1/jureca/seed2sh/598/1484720/1492411',\n",
       " '/p/home/jusers/cherepashkin1/jureca/seed2sh/598/1484720/1492412',\n",
       " '/p/home/jusers/cherepashkin1/jureca/seed2sh/598/1484720/1492413',\n",
       " '/p/home/jusers/cherepashkin1/jureca/seed2sh/598/1484720/1492414',\n",
       " '/p/home/jusers/cherepashkin1/jureca/seed2sh/598/1484720/1492415',\n",
       " '/p/home/jusers/cherepashkin1/jureca/seed2sh/598/1484720/1492416',\n",
       " '/p/home/jusers/cherepashkin1/jureca/seed2sh/598/1484720/1492417',\n",
       " '/p/home/jusers/cherepashkin1/jureca/seed2sh/598/1484720/1492418',\n",
       " '/p/home/jusers/cherepashkin1/jureca/seed2sh/598/1484720/1492419',\n",
       " '/p/home/jusers/cherepashkin1/jureca/seed2sh/598/1484720/1492420',\n",
       " '/p/home/jusers/cherepashkin1/jureca/seed2sh/598/1484720/1492421',\n",
       " '/p/home/jusers/cherepashkin1/jureca/seed2sh/598/1484720/1492422',\n",
       " '/p/home/jusers/cherepashkin1/jureca/seed2sh/598/1484720/1492423',\n",
       " '/p/home/jusers/cherepashkin1/jureca/seed2sh/598/1484720/1492424',\n",
       " '/p/home/jusers/cherepashkin1/jureca/seed2sh/598/1484720/1492425',\n",
       " '/p/home/jusers/cherepashkin1/jureca/seed2sh/598/1484720/1492426',\n",
       " '/p/home/jusers/cherepashkin1/jureca/seed2sh/598/1484720/1492427',\n",
       " '/p/home/jusers/cherepashkin1/jureca/seed2sh/598/1484720/1492428',\n",
       " '/p/home/jusers/cherepashkin1/jureca/seed2sh/598/1484720/1492429',\n",
       " '/p/home/jusers/cherepashkin1/jureca/seed2sh/598/1484720/1492430',\n",
       " '/p/home/jusers/cherepashkin1/jureca/seed2sh/598/1484720/1492431',\n",
       " '/p/home/jusers/cherepashkin1/jureca/seed2sh/598/1484720/1492432',\n",
       " '/p/home/jusers/cherepashkin1/jureca/seed2sh/598/1484720/1492433',\n",
       " '/p/home/jusers/cherepashkin1/jureca/seed2sh/598/1484720/1492434',\n",
       " '/p/home/jusers/cherepashkin1/jureca/seed2sh/598/1484720/1492435',\n",
       " '/p/home/jusers/cherepashkin1/jureca/seed2sh/598/1484720/1492436',\n",
       " '/p/home/jusers/cherepashkin1/jureca/seed2sh/598/1484720/1492437',\n",
       " '/p/home/jusers/cherepashkin1/jureca/seed2sh/598/1484720/1492438',\n",
       " '/p/home/jusers/cherepashkin1/jureca/seed2sh/598/1484720/1492439',\n",
       " '/p/home/jusers/cherepashkin1/jureca/seed2sh/598/1484720/1492440',\n",
       " '/p/home/jusers/cherepashkin1/jureca/seed2sh/598/1484720/1492441',\n",
       " '/p/home/jusers/cherepashkin1/jureca/seed2sh/598/1484720/1492442',\n",
       " '/p/home/jusers/cherepashkin1/jureca/seed2sh/598/1484720/1492443',\n",
       " '/p/home/jusers/cherepashkin1/jureca/seed2sh/598/1484720/1492444',\n",
       " '/p/home/jusers/cherepashkin1/jureca/seed2sh/598/1484720/1492445',\n",
       " '/p/home/jusers/cherepashkin1/jureca/seed2sh/598/1484720/1492446',\n",
       " '/p/home/jusers/cherepashkin1/jureca/seed2sh/598/1484720/1492447',\n",
       " '/p/home/jusers/cherepashkin1/jureca/seed2sh/598/1484720/1492448',\n",
       " '/p/home/jusers/cherepashkin1/jureca/seed2sh/598/1484720/1492449',\n",
       " '/p/home/jusers/cherepashkin1/jureca/seed2sh/598/1484720/1492450',\n",
       " '/p/home/jusers/cherepashkin1/jureca/seed2sh/598/1484720/1492451',\n",
       " '/p/home/jusers/cherepashkin1/jureca/seed2sh/598/1484720/1492452',\n",
       " '/p/home/jusers/cherepashkin1/jureca/seed2sh/598/1484720/1492453',\n",
       " '/p/home/jusers/cherepashkin1/jureca/seed2sh/598/1484720/1492454',\n",
       " '/p/home/jusers/cherepashkin1/jureca/seed2sh/598/1484720/1492455',\n",
       " '/p/home/jusers/cherepashkin1/jureca/seed2sh/598/1484720/1492456',\n",
       " '/p/home/jusers/cherepashkin1/jureca/seed2sh/598/1484720/1492457',\n",
       " '/p/home/jusers/cherepashkin1/jureca/seed2sh/598/1484720/1492458',\n",
       " '/p/home/jusers/cherepashkin1/jureca/seed2sh/598/1484720/1492459',\n",
       " '/p/home/jusers/cherepashkin1/jureca/seed2sh/598/1484720/1492460',\n",
       " '/p/home/jusers/cherepashkin1/jureca/seed2sh/598/1484720/1492461',\n",
       " '/p/home/jusers/cherepashkin1/jureca/seed2sh/598/1484720/1492462',\n",
       " '/p/home/jusers/cherepashkin1/jureca/seed2sh/598/1484720/1492463',\n",
       " '/p/home/jusers/cherepashkin1/jureca/seed2sh/598/1484720/1492464',\n",
       " '/p/home/jusers/cherepashkin1/jureca/seed2sh/598/1484720/1492465',\n",
       " '/p/home/jusers/cherepashkin1/jureca/seed2sh/598/1484720/1492466',\n",
       " '/p/home/jusers/cherepashkin1/jureca/seed2sh/598/1484720/1492467',\n",
       " '/p/home/jusers/cherepashkin1/jureca/seed2sh/598/1484720/1492468',\n",
       " '/p/home/jusers/cherepashkin1/jureca/seed2sh/598/1484720/1492469',\n",
       " '/p/home/jusers/cherepashkin1/jureca/seed2sh/598/1484720/1492470',\n",
       " '/p/home/jusers/cherepashkin1/jureca/seed2sh/598/1484720/1492471',\n",
       " '/p/home/jusers/cherepashkin1/jureca/seed2sh/598/1484720/1492472',\n",
       " '/p/home/jusers/cherepashkin1/jureca/seed2sh/598/1484720/1492473',\n",
       " '/p/home/jusers/cherepashkin1/jureca/seed2sh/598/1484720/1492474',\n",
       " '/p/home/jusers/cherepashkin1/jureca/seed2sh/598/1484720/1492475',\n",
       " '/p/home/jusers/cherepashkin1/jureca/seed2sh/598/1484720/1492476',\n",
       " '/p/home/jusers/cherepashkin1/jureca/seed2sh/598/1484720/1492477',\n",
       " '/p/home/jusers/cherepashkin1/jureca/seed2sh/598/1484720/1492478',\n",
       " '/p/home/jusers/cherepashkin1/jureca/seed2sh/598/1484720/1492479',\n",
       " '/p/home/jusers/cherepashkin1/jureca/seed2sh/598/1484721/1492480',\n",
       " '/p/home/jusers/cherepashkin1/jureca/seed2sh/598/1484721/1492481',\n",
       " '/p/home/jusers/cherepashkin1/jureca/seed2sh/598/1484721/1492482',\n",
       " '/p/home/jusers/cherepashkin1/jureca/seed2sh/598/1484721/1492483',\n",
       " '/p/home/jusers/cherepashkin1/jureca/seed2sh/598/1484721/1492484',\n",
       " '/p/home/jusers/cherepashkin1/jureca/seed2sh/598/1484721/1492485',\n",
       " '/p/home/jusers/cherepashkin1/jureca/seed2sh/598/1484721/1492486',\n",
       " '/p/home/jusers/cherepashkin1/jureca/seed2sh/598/1484721/1492487',\n",
       " '/p/home/jusers/cherepashkin1/jureca/seed2sh/598/1484721/1492488',\n",
       " '/p/home/jusers/cherepashkin1/jureca/seed2sh/598/1484721/1492489',\n",
       " '/p/home/jusers/cherepashkin1/jureca/seed2sh/598/1484721/1492490',\n",
       " '/p/home/jusers/cherepashkin1/jureca/seed2sh/598/1484721/1492491',\n",
       " '/p/home/jusers/cherepashkin1/jureca/seed2sh/598/1484721/1492492',\n",
       " '/p/home/jusers/cherepashkin1/jureca/seed2sh/598/1484721/1492493',\n",
       " '/p/home/jusers/cherepashkin1/jureca/seed2sh/598/1484721/1492494',\n",
       " '/p/home/jusers/cherepashkin1/jureca/seed2sh/598/1484721/1492495',\n",
       " '/p/home/jusers/cherepashkin1/jureca/seed2sh/598/1484721/1492496',\n",
       " '/p/home/jusers/cherepashkin1/jureca/seed2sh/598/1484721/1492497',\n",
       " '/p/home/jusers/cherepashkin1/jureca/seed2sh/598/1484721/1492498',\n",
       " '/p/home/jusers/cherepashkin1/jureca/seed2sh/598/1484721/1492499',\n",
       " '/p/home/jusers/cherepashkin1/jureca/seed2sh/598/1484721/1492500',\n",
       " '/p/home/jusers/cherepashkin1/jureca/seed2sh/598/1484721/1492501',\n",
       " '/p/home/jusers/cherepashkin1/jureca/seed2sh/598/1484721/1492502',\n",
       " '/p/home/jusers/cherepashkin1/jureca/seed2sh/598/1484721/1492503',\n",
       " '/p/home/jusers/cherepashkin1/jureca/seed2sh/598/1484721/1492504',\n",
       " '/p/home/jusers/cherepashkin1/jureca/seed2sh/598/1484721/1492505',\n",
       " '/p/home/jusers/cherepashkin1/jureca/seed2sh/598/1484721/1492506',\n",
       " '/p/home/jusers/cherepashkin1/jureca/seed2sh/598/1484721/1492507',\n",
       " '/p/home/jusers/cherepashkin1/jureca/seed2sh/598/1484721/1492508',\n",
       " '/p/home/jusers/cherepashkin1/jureca/seed2sh/598/1484721/1492509',\n",
       " '/p/home/jusers/cherepashkin1/jureca/seed2sh/598/1484721/1492510',\n",
       " '/p/home/jusers/cherepashkin1/jureca/seed2sh/598/1484721/1492511',\n",
       " '/p/home/jusers/cherepashkin1/jureca/seed2sh/598/1484721/1492512',\n",
       " '/p/home/jusers/cherepashkin1/jureca/seed2sh/598/1484721/1492513',\n",
       " '/p/home/jusers/cherepashkin1/jureca/seed2sh/598/1484721/1492514',\n",
       " '/p/home/jusers/cherepashkin1/jureca/seed2sh/598/1484721/1492515',\n",
       " '/p/home/jusers/cherepashkin1/jureca/seed2sh/598/1484721/1492516',\n",
       " '/p/home/jusers/cherepashkin1/jureca/seed2sh/598/1484721/1492517',\n",
       " '/p/home/jusers/cherepashkin1/jureca/seed2sh/598/1484721/1492518',\n",
       " '/p/home/jusers/cherepashkin1/jureca/seed2sh/598/1484721/1492519',\n",
       " '/p/home/jusers/cherepashkin1/jureca/seed2sh/598/1484721/1492520',\n",
       " '/p/home/jusers/cherepashkin1/jureca/seed2sh/598/1484721/1492521',\n",
       " '/p/home/jusers/cherepashkin1/jureca/seed2sh/598/1484721/1492522',\n",
       " '/p/home/jusers/cherepashkin1/jureca/seed2sh/598/1484721/1492523',\n",
       " '/p/home/jusers/cherepashkin1/jureca/seed2sh/598/1484721/1492524',\n",
       " '/p/home/jusers/cherepashkin1/jureca/seed2sh/598/1484721/1492525',\n",
       " '/p/home/jusers/cherepashkin1/jureca/seed2sh/598/1484721/1492526',\n",
       " '/p/home/jusers/cherepashkin1/jureca/seed2sh/598/1484721/1492527',\n",
       " '/p/home/jusers/cherepashkin1/jureca/seed2sh/598/1484721/1492528',\n",
       " '/p/home/jusers/cherepashkin1/jureca/seed2sh/598/1484721/1492529',\n",
       " '/p/home/jusers/cherepashkin1/jureca/seed2sh/598/1484721/1492530',\n",
       " '/p/home/jusers/cherepashkin1/jureca/seed2sh/598/1484721/1492531',\n",
       " '/p/home/jusers/cherepashkin1/jureca/seed2sh/598/1484721/1492532',\n",
       " '/p/home/jusers/cherepashkin1/jureca/seed2sh/598/1484721/1492533',\n",
       " '/p/home/jusers/cherepashkin1/jureca/seed2sh/598/1484721/1492534',\n",
       " '/p/home/jusers/cherepashkin1/jureca/seed2sh/598/1484721/1492535',\n",
       " '/p/home/jusers/cherepashkin1/jureca/seed2sh/598/1484721/1492536',\n",
       " '/p/home/jusers/cherepashkin1/jureca/seed2sh/598/1484721/1492537',\n",
       " '/p/home/jusers/cherepashkin1/jureca/seed2sh/598/1484721/1492538',\n",
       " '/p/home/jusers/cherepashkin1/jureca/seed2sh/598/1484721/1492539',\n",
       " '/p/home/jusers/cherepashkin1/jureca/seed2sh/598/1484721/1492540',\n",
       " '/p/home/jusers/cherepashkin1/jureca/seed2sh/598/1484721/1492541',\n",
       " '/p/home/jusers/cherepashkin1/jureca/seed2sh/598/1484721/1492542',\n",
       " '/p/home/jusers/cherepashkin1/jureca/seed2sh/598/1484721/1492543',\n",
       " '/p/home/jusers/cherepashkin1/jureca/seed2sh/598/1484721/1492544',\n",
       " '/p/home/jusers/cherepashkin1/jureca/seed2sh/598/1484721/1492545',\n",
       " '/p/home/jusers/cherepashkin1/jureca/seed2sh/598/1484721/1492546',\n",
       " '/p/home/jusers/cherepashkin1/jureca/seed2sh/598/1484721/1492547',\n",
       " '/p/home/jusers/cherepashkin1/jureca/seed2sh/598/1484721/1492548',\n",
       " '/p/home/jusers/cherepashkin1/jureca/seed2sh/598/1484721/1492549',\n",
       " '/p/home/jusers/cherepashkin1/jureca/seed2sh/598/1484721/1492550',\n",
       " '/p/home/jusers/cherepashkin1/jureca/seed2sh/598/1484721/1492551',\n",
       " '/p/home/jusers/cherepashkin1/jureca/seed2sh/598/1484721/1492552',\n",
       " '/p/home/jusers/cherepashkin1/jureca/seed2sh/598/1484721/1492553',\n",
       " '/p/home/jusers/cherepashkin1/jureca/seed2sh/598/1484721/1492554',\n",
       " '/p/home/jusers/cherepashkin1/jureca/seed2sh/598/1484721/1492555',\n",
       " '/p/home/jusers/cherepashkin1/jureca/seed2sh/598/1484721/1492556',\n",
       " '/p/home/jusers/cherepashkin1/jureca/seed2sh/598/1484721/1492557',\n",
       " '/p/home/jusers/cherepashkin1/jureca/seed2sh/598/1484721/1492558',\n",
       " '/p/home/jusers/cherepashkin1/jureca/seed2sh/598/1484721/1492559',\n",
       " '/p/home/jusers/cherepashkin1/jureca/seed2sh/598/1484721/1492560',\n",
       " '/p/home/jusers/cherepashkin1/jureca/seed2sh/598/1484721/1492561',\n",
       " '/p/home/jusers/cherepashkin1/jureca/seed2sh/598/1484721/1492562',\n",
       " '/p/home/jusers/cherepashkin1/jureca/seed2sh/598/1484721/1492563',\n",
       " '/p/home/jusers/cherepashkin1/jureca/seed2sh/598/1484721/1492564',\n",
       " '/p/home/jusers/cherepashkin1/jureca/seed2sh/598/1484721/1492565',\n",
       " '/p/home/jusers/cherepashkin1/jureca/seed2sh/598/1484721/1492566',\n",
       " '/p/home/jusers/cherepashkin1/jureca/seed2sh/598/1484721/1492567',\n",
       " '/p/home/jusers/cherepashkin1/jureca/seed2sh/598/1484721/1492568',\n",
       " '/p/home/jusers/cherepashkin1/jureca/seed2sh/598/1484721/1492569',\n",
       " '/p/home/jusers/cherepashkin1/jureca/seed2sh/598/1484721/1492570',\n",
       " '/p/home/jusers/cherepashkin1/jureca/seed2sh/598/1484721/1492571',\n",
       " '/p/home/jusers/cherepashkin1/jureca/seed2sh/598/1484721/1492572',\n",
       " '/p/home/jusers/cherepashkin1/jureca/seed2sh/598/1484721/1492573',\n",
       " '/p/home/jusers/cherepashkin1/jureca/seed2sh/598/1484721/1492574',\n",
       " '/p/home/jusers/cherepashkin1/jureca/seed2sh/598/1484721/1492575',\n",
       " '/p/home/jusers/cherepashkin1/jureca/seed2sh/598/1484721/1492576',\n",
       " '/p/home/jusers/cherepashkin1/jureca/seed2sh/598/1484721/1492577',\n",
       " '/p/home/jusers/cherepashkin1/jureca/seed2sh/598/1484721/1492578',\n",
       " '/p/home/jusers/cherepashkin1/jureca/seed2sh/598/1484721/1492579',\n",
       " '/p/home/jusers/cherepashkin1/jureca/seed2sh/598/1484721/1492580',\n",
       " '/p/home/jusers/cherepashkin1/jureca/seed2sh/598/1484721/1492581',\n",
       " '/p/home/jusers/cherepashkin1/jureca/seed2sh/598/1484721/1492582',\n",
       " '/p/home/jusers/cherepashkin1/jureca/seed2sh/598/1484721/1492583',\n",
       " '/p/home/jusers/cherepashkin1/jureca/seed2sh/598/1484721/1492584',\n",
       " '/p/home/jusers/cherepashkin1/jureca/seed2sh/598/1484721/1492585',\n",
       " '/p/home/jusers/cherepashkin1/jureca/seed2sh/598/1484721/1492586',\n",
       " '/p/home/jusers/cherepashkin1/jureca/seed2sh/598/1484721/1492587',\n",
       " '/p/home/jusers/cherepashkin1/jureca/seed2sh/598/1484721/1492588',\n",
       " '/p/home/jusers/cherepashkin1/jureca/seed2sh/598/1484721/1492589',\n",
       " '/p/home/jusers/cherepashkin1/jureca/seed2sh/598/1484721/1492590',\n",
       " '/p/home/jusers/cherepashkin1/jureca/seed2sh/598/1484721/1492591',\n",
       " '/p/home/jusers/cherepashkin1/jureca/seed2sh/598/1484721/1492592',\n",
       " '/p/home/jusers/cherepashkin1/jureca/seed2sh/598/1484721/1492593',\n",
       " '/p/home/jusers/cherepashkin1/jureca/seed2sh/598/1484721/1492594',\n",
       " '/p/home/jusers/cherepashkin1/jureca/seed2sh/598/1484721/1492595',\n",
       " '/p/home/jusers/cherepashkin1/jureca/seed2sh/598/1484721/1492596',\n",
       " '/p/home/jusers/cherepashkin1/jureca/seed2sh/598/1484721/1492597',\n",
       " '/p/home/jusers/cherepashkin1/jureca/seed2sh/598/1484721/1492598',\n",
       " '/p/home/jusers/cherepashkin1/jureca/seed2sh/598/1484721/1492599',\n",
       " '/p/home/jusers/cherepashkin1/jureca/seed2sh/598/1484722/1492600',\n",
       " '/p/home/jusers/cherepashkin1/jureca/seed2sh/598/1484722/1492601',\n",
       " '/p/home/jusers/cherepashkin1/jureca/seed2sh/598/1484722/1492602',\n",
       " '/p/home/jusers/cherepashkin1/jureca/seed2sh/598/1484722/1492603',\n",
       " '/p/home/jusers/cherepashkin1/jureca/seed2sh/598/1484722/1492604',\n",
       " '/p/home/jusers/cherepashkin1/jureca/seed2sh/598/1484722/1492605',\n",
       " '/p/home/jusers/cherepashkin1/jureca/seed2sh/598/1484722/1492606',\n",
       " '/p/home/jusers/cherepashkin1/jureca/seed2sh/598/1484722/1492607',\n",
       " '/p/home/jusers/cherepashkin1/jureca/seed2sh/598/1484722/1492608',\n",
       " '/p/home/jusers/cherepashkin1/jureca/seed2sh/598/1484722/1492609',\n",
       " '/p/home/jusers/cherepashkin1/jureca/seed2sh/598/1484722/1492610',\n",
       " '/p/home/jusers/cherepashkin1/jureca/seed2sh/598/1484722/1492611',\n",
       " '/p/home/jusers/cherepashkin1/jureca/seed2sh/598/1484722/1492612',\n",
       " '/p/home/jusers/cherepashkin1/jureca/seed2sh/598/1484722/1492613',\n",
       " '/p/home/jusers/cherepashkin1/jureca/seed2sh/598/1484722/1492614',\n",
       " '/p/home/jusers/cherepashkin1/jureca/seed2sh/598/1484722/1492615',\n",
       " '/p/home/jusers/cherepashkin1/jureca/seed2sh/598/1484722/1492616',\n",
       " '/p/home/jusers/cherepashkin1/jureca/seed2sh/598/1484722/1492617',\n",
       " '/p/home/jusers/cherepashkin1/jureca/seed2sh/598/1484722/1492618',\n",
       " '/p/home/jusers/cherepashkin1/jureca/seed2sh/598/1484722/1492619',\n",
       " '/p/home/jusers/cherepashkin1/jureca/seed2sh/598/1484722/1492620',\n",
       " '/p/home/jusers/cherepashkin1/jureca/seed2sh/598/1484722/1492621',\n",
       " '/p/home/jusers/cherepashkin1/jureca/seed2sh/598/1484722/1492622',\n",
       " '/p/home/jusers/cherepashkin1/jureca/seed2sh/598/1484722/1492623',\n",
       " '/p/home/jusers/cherepashkin1/jureca/seed2sh/598/1484722/1492624',\n",
       " '/p/home/jusers/cherepashkin1/jureca/seed2sh/598/1484722/1492625',\n",
       " '/p/home/jusers/cherepashkin1/jureca/seed2sh/598/1484722/1492626',\n",
       " '/p/home/jusers/cherepashkin1/jureca/seed2sh/598/1484722/1492627',\n",
       " '/p/home/jusers/cherepashkin1/jureca/seed2sh/598/1484722/1492628',\n",
       " '/p/home/jusers/cherepashkin1/jureca/seed2sh/598/1484722/1492629',\n",
       " '/p/home/jusers/cherepashkin1/jureca/seed2sh/598/1484722/1492630',\n",
       " '/p/home/jusers/cherepashkin1/jureca/seed2sh/598/1484722/1492631',\n",
       " '/p/home/jusers/cherepashkin1/jureca/seed2sh/598/1484722/1492632',\n",
       " '/p/home/jusers/cherepashkin1/jureca/seed2sh/598/1484722/1492633',\n",
       " '/p/home/jusers/cherepashkin1/jureca/seed2sh/598/1484722/1492634',\n",
       " '/p/home/jusers/cherepashkin1/jureca/seed2sh/598/1484722/1492635',\n",
       " '/p/home/jusers/cherepashkin1/jureca/seed2sh/598/1484722/1492636',\n",
       " '/p/home/jusers/cherepashkin1/jureca/seed2sh/598/1484722/1492637',\n",
       " '/p/home/jusers/cherepashkin1/jureca/seed2sh/598/1484722/1492638',\n",
       " '/p/home/jusers/cherepashkin1/jureca/seed2sh/598/1484722/1492639',\n",
       " '/p/home/jusers/cherepashkin1/jureca/seed2sh/598/1484722/1492640',\n",
       " '/p/home/jusers/cherepashkin1/jureca/seed2sh/598/1484722/1492641',\n",
       " '/p/home/jusers/cherepashkin1/jureca/seed2sh/598/1484722/1492642',\n",
       " '/p/home/jusers/cherepashkin1/jureca/seed2sh/598/1484722/1492643',\n",
       " '/p/home/jusers/cherepashkin1/jureca/seed2sh/598/1484722/1492644',\n",
       " '/p/home/jusers/cherepashkin1/jureca/seed2sh/598/1484722/1492645',\n",
       " '/p/home/jusers/cherepashkin1/jureca/seed2sh/598/1484722/1492646',\n",
       " '/p/home/jusers/cherepashkin1/jureca/seed2sh/598/1484722/1492647',\n",
       " '/p/home/jusers/cherepashkin1/jureca/seed2sh/598/1484722/1492648',\n",
       " '/p/home/jusers/cherepashkin1/jureca/seed2sh/598/1484722/1492649',\n",
       " '/p/home/jusers/cherepashkin1/jureca/seed2sh/598/1484722/1492650',\n",
       " '/p/home/jusers/cherepashkin1/jureca/seed2sh/598/1484722/1492651',\n",
       " '/p/home/jusers/cherepashkin1/jureca/seed2sh/598/1484722/1492652',\n",
       " '/p/home/jusers/cherepashkin1/jureca/seed2sh/598/1484722/1492653',\n",
       " '/p/home/jusers/cherepashkin1/jureca/seed2sh/598/1484722/1492654',\n",
       " '/p/home/jusers/cherepashkin1/jureca/seed2sh/598/1484722/1492655',\n",
       " '/p/home/jusers/cherepashkin1/jureca/seed2sh/598/1484722/1492656',\n",
       " '/p/home/jusers/cherepashkin1/jureca/seed2sh/598/1484722/1492657',\n",
       " '/p/home/jusers/cherepashkin1/jureca/seed2sh/598/1484722/1492658',\n",
       " '/p/home/jusers/cherepashkin1/jureca/seed2sh/598/1484722/1492659',\n",
       " '/p/home/jusers/cherepashkin1/jureca/seed2sh/598/1484722/1492660',\n",
       " '/p/home/jusers/cherepashkin1/jureca/seed2sh/598/1484722/1492661',\n",
       " '/p/home/jusers/cherepashkin1/jureca/seed2sh/598/1484722/1492662',\n",
       " '/p/home/jusers/cherepashkin1/jureca/seed2sh/598/1484722/1492663',\n",
       " '/p/home/jusers/cherepashkin1/jureca/seed2sh/598/1484722/1492664',\n",
       " '/p/home/jusers/cherepashkin1/jureca/seed2sh/598/1484722/1492665',\n",
       " '/p/home/jusers/cherepashkin1/jureca/seed2sh/598/1484722/1492666',\n",
       " '/p/home/jusers/cherepashkin1/jureca/seed2sh/598/1484722/1492667',\n",
       " '/p/home/jusers/cherepashkin1/jureca/seed2sh/598/1484722/1492668',\n",
       " '/p/home/jusers/cherepashkin1/jureca/seed2sh/598/1484722/1492669',\n",
       " '/p/home/jusers/cherepashkin1/jureca/seed2sh/598/1484722/1492670',\n",
       " '/p/home/jusers/cherepashkin1/jureca/seed2sh/598/1484722/1492671',\n",
       " '/p/home/jusers/cherepashkin1/jureca/seed2sh/598/1484722/1492672',\n",
       " '/p/home/jusers/cherepashkin1/jureca/seed2sh/598/1484722/1492673',\n",
       " '/p/home/jusers/cherepashkin1/jureca/seed2sh/598/1484722/1492674',\n",
       " '/p/home/jusers/cherepashkin1/jureca/seed2sh/598/1484722/1492675',\n",
       " '/p/home/jusers/cherepashkin1/jureca/seed2sh/598/1484722/1492676',\n",
       " '/p/home/jusers/cherepashkin1/jureca/seed2sh/598/1484722/1492677',\n",
       " '/p/home/jusers/cherepashkin1/jureca/seed2sh/598/1484722/1492678',\n",
       " '/p/home/jusers/cherepashkin1/jureca/seed2sh/598/1484722/1492679',\n",
       " '/p/home/jusers/cherepashkin1/jureca/seed2sh/598/1484722/1492680',\n",
       " '/p/home/jusers/cherepashkin1/jureca/seed2sh/598/1484722/1492681',\n",
       " '/p/home/jusers/cherepashkin1/jureca/seed2sh/598/1484722/1492682',\n",
       " '/p/home/jusers/cherepashkin1/jureca/seed2sh/598/1484722/1492683',\n",
       " '/p/home/jusers/cherepashkin1/jureca/seed2sh/598/1484722/1492684',\n",
       " '/p/home/jusers/cherepashkin1/jureca/seed2sh/598/1484722/1492685',\n",
       " '/p/home/jusers/cherepashkin1/jureca/seed2sh/598/1484722/1492686',\n",
       " '/p/home/jusers/cherepashkin1/jureca/seed2sh/598/1484722/1492687',\n",
       " '/p/home/jusers/cherepashkin1/jureca/seed2sh/598/1484722/1492688',\n",
       " '/p/home/jusers/cherepashkin1/jureca/seed2sh/598/1484722/1492689',\n",
       " '/p/home/jusers/cherepashkin1/jureca/seed2sh/598/1484722/1492690',\n",
       " '/p/home/jusers/cherepashkin1/jureca/seed2sh/598/1484722/1492691',\n",
       " '/p/home/jusers/cherepashkin1/jureca/seed2sh/598/1484722/1492692',\n",
       " '/p/home/jusers/cherepashkin1/jureca/seed2sh/598/1484722/1492693',\n",
       " '/p/home/jusers/cherepashkin1/jureca/seed2sh/598/1484722/1492694',\n",
       " '/p/home/jusers/cherepashkin1/jureca/seed2sh/598/1484722/1492695',\n",
       " '/p/home/jusers/cherepashkin1/jureca/seed2sh/598/1484722/1492696',\n",
       " '/p/home/jusers/cherepashkin1/jureca/seed2sh/598/1484722/1492697',\n",
       " '/p/home/jusers/cherepashkin1/jureca/seed2sh/598/1484722/1492698',\n",
       " '/p/home/jusers/cherepashkin1/jureca/seed2sh/598/1484722/1492699',\n",
       " '/p/home/jusers/cherepashkin1/jureca/seed2sh/598/1484722/1492700',\n",
       " '/p/home/jusers/cherepashkin1/jureca/seed2sh/598/1484722/1492701',\n",
       " '/p/home/jusers/cherepashkin1/jureca/seed2sh/598/1484722/1492702',\n",
       " '/p/home/jusers/cherepashkin1/jureca/seed2sh/598/1484722/1492703',\n",
       " '/p/home/jusers/cherepashkin1/jureca/seed2sh/598/1484722/1492704',\n",
       " '/p/home/jusers/cherepashkin1/jureca/seed2sh/598/1484722/1492705',\n",
       " '/p/home/jusers/cherepashkin1/jureca/seed2sh/598/1484722/1492706',\n",
       " '/p/home/jusers/cherepashkin1/jureca/seed2sh/598/1484722/1492707',\n",
       " '/p/home/jusers/cherepashkin1/jureca/seed2sh/598/1484722/1492708',\n",
       " '/p/home/jusers/cherepashkin1/jureca/seed2sh/598/1484722/1492709',\n",
       " '/p/home/jusers/cherepashkin1/jureca/seed2sh/598/1484722/1492710',\n",
       " '/p/home/jusers/cherepashkin1/jureca/seed2sh/598/1484722/1492711',\n",
       " '/p/home/jusers/cherepashkin1/jureca/seed2sh/598/1484722/1492712',\n",
       " '/p/home/jusers/cherepashkin1/jureca/seed2sh/598/1484722/1492713',\n",
       " '/p/home/jusers/cherepashkin1/jureca/seed2sh/598/1484722/1492716',\n",
       " '/p/home/jusers/cherepashkin1/jureca/seed2sh/598/1484722/1492717',\n",
       " '/p/home/jusers/cherepashkin1/jureca/seed2sh/598/1484722/1492718',\n",
       " '/p/home/jusers/cherepashkin1/jureca/seed2sh/598/1484722/1492719',\n",
       " '/p/home/jusers/cherepashkin1/jureca/seed2sh/598/1484722/1492720',\n",
       " '/p/home/jusers/cherepashkin1/jureca/seed2sh/598/1484722/1492721',\n",
       " '/p/home/jusers/cherepashkin1/jureca/seed2sh/598/1484723/1492722',\n",
       " '/p/home/jusers/cherepashkin1/jureca/seed2sh/598/1484723/1492723',\n",
       " '/p/home/jusers/cherepashkin1/jureca/seed2sh/598/1484723/1492724',\n",
       " '/p/home/jusers/cherepashkin1/jureca/seed2sh/598/1484723/1492725',\n",
       " '/p/home/jusers/cherepashkin1/jureca/seed2sh/598/1484723/1492726',\n",
       " '/p/home/jusers/cherepashkin1/jureca/seed2sh/598/1484723/1492727',\n",
       " '/p/home/jusers/cherepashkin1/jureca/seed2sh/598/1484723/1492728',\n",
       " '/p/home/jusers/cherepashkin1/jureca/seed2sh/598/1484723/1492729',\n",
       " '/p/home/jusers/cherepashkin1/jureca/seed2sh/598/1484723/1492730',\n",
       " '/p/home/jusers/cherepashkin1/jureca/seed2sh/598/1484723/1492731',\n",
       " '/p/home/jusers/cherepashkin1/jureca/seed2sh/598/1484723/1492732',\n",
       " '/p/home/jusers/cherepashkin1/jureca/seed2sh/598/1484723/1492733',\n",
       " '/p/home/jusers/cherepashkin1/jureca/seed2sh/598/1484723/1492734',\n",
       " '/p/home/jusers/cherepashkin1/jureca/seed2sh/598/1484723/1492735',\n",
       " '/p/home/jusers/cherepashkin1/jureca/seed2sh/598/1484723/1492736',\n",
       " '/p/home/jusers/cherepashkin1/jureca/seed2sh/598/1484723/1492737',\n",
       " '/p/home/jusers/cherepashkin1/jureca/seed2sh/598/1484723/1492738',\n",
       " '/p/home/jusers/cherepashkin1/jureca/seed2sh/598/1484723/1492739',\n",
       " '/p/home/jusers/cherepashkin1/jureca/seed2sh/598/1484723/1492740',\n",
       " '/p/home/jusers/cherepashkin1/jureca/seed2sh/598/1484723/1492741',\n",
       " '/p/home/jusers/cherepashkin1/jureca/seed2sh/598/1484723/1492742',\n",
       " '/p/home/jusers/cherepashkin1/jureca/seed2sh/598/1484723/1492743',\n",
       " '/p/home/jusers/cherepashkin1/jureca/seed2sh/598/1484723/1492744',\n",
       " '/p/home/jusers/cherepashkin1/jureca/seed2sh/598/1484723/1492745',\n",
       " '/p/home/jusers/cherepashkin1/jureca/seed2sh/598/1484723/1492746',\n",
       " '/p/home/jusers/cherepashkin1/jureca/seed2sh/598/1484723/1492747',\n",
       " '/p/home/jusers/cherepashkin1/jureca/seed2sh/598/1484723/1492748',\n",
       " '/p/home/jusers/cherepashkin1/jureca/seed2sh/598/1484723/1492749',\n",
       " '/p/home/jusers/cherepashkin1/jureca/seed2sh/598/1484723/1492750',\n",
       " '/p/home/jusers/cherepashkin1/jureca/seed2sh/598/1484723/1492751',\n",
       " '/p/home/jusers/cherepashkin1/jureca/seed2sh/598/1484723/1492752',\n",
       " '/p/home/jusers/cherepashkin1/jureca/seed2sh/598/1484723/1492753',\n",
       " '/p/home/jusers/cherepashkin1/jureca/seed2sh/598/1484723/1492754',\n",
       " '/p/home/jusers/cherepashkin1/jureca/seed2sh/598/1484723/1492755',\n",
       " '/p/home/jusers/cherepashkin1/jureca/seed2sh/598/1484723/1492757',\n",
       " '/p/home/jusers/cherepashkin1/jureca/seed2sh/598/1484723/1492758',\n",
       " '/p/home/jusers/cherepashkin1/jureca/seed2sh/598/1484723/1492759',\n",
       " '/p/home/jusers/cherepashkin1/jureca/seed2sh/598/1484723/1492760',\n",
       " '/p/home/jusers/cherepashkin1/jureca/seed2sh/598/1484723/1492761',\n",
       " '/p/home/jusers/cherepashkin1/jureca/seed2sh/598/1484723/1492762',\n",
       " '/p/home/jusers/cherepashkin1/jureca/seed2sh/598/1484723/1492763',\n",
       " '/p/home/jusers/cherepashkin1/jureca/seed2sh/598/1484723/1492764',\n",
       " '/p/home/jusers/cherepashkin1/jureca/seed2sh/598/1484723/1492765',\n",
       " '/p/home/jusers/cherepashkin1/jureca/seed2sh/598/1484723/1492768',\n",
       " '/p/home/jusers/cherepashkin1/jureca/seed2sh/598/1484723/1492769',\n",
       " '/p/home/jusers/cherepashkin1/jureca/seed2sh/598/1484723/1492770',\n",
       " '/p/home/jusers/cherepashkin1/jureca/seed2sh/598/1484723/1492771',\n",
       " '/p/home/jusers/cherepashkin1/jureca/seed2sh/598/1484723/1492772',\n",
       " '/p/home/jusers/cherepashkin1/jureca/seed2sh/598/1484723/1492773',\n",
       " '/p/home/jusers/cherepashkin1/jureca/seed2sh/598/1484723/1492774',\n",
       " '/p/home/jusers/cherepashkin1/jureca/seed2sh/598/1484723/1492775',\n",
       " '/p/home/jusers/cherepashkin1/jureca/seed2sh/598/1484723/1492776',\n",
       " '/p/home/jusers/cherepashkin1/jureca/seed2sh/598/1484723/1492777',\n",
       " '/p/home/jusers/cherepashkin1/jureca/seed2sh/598/1484723/1492779',\n",
       " '/p/home/jusers/cherepashkin1/jureca/seed2sh/598/1484723/1492780',\n",
       " '/p/home/jusers/cherepashkin1/jureca/seed2sh/598/1484723/1492781',\n",
       " '/p/home/jusers/cherepashkin1/jureca/seed2sh/598/1484723/1492782',\n",
       " '/p/home/jusers/cherepashkin1/jureca/seed2sh/598/1484723/1492783',\n",
       " '/p/home/jusers/cherepashkin1/jureca/seed2sh/598/1484723/1492784',\n",
       " '/p/home/jusers/cherepashkin1/jureca/seed2sh/598/1484723/1492785',\n",
       " '/p/home/jusers/cherepashkin1/jureca/seed2sh/598/1484723/1492786',\n",
       " '/p/home/jusers/cherepashkin1/jureca/seed2sh/598/1484723/1492787',\n",
       " '/p/home/jusers/cherepashkin1/jureca/seed2sh/598/1484723/1492788',\n",
       " '/p/home/jusers/cherepashkin1/jureca/seed2sh/598/1484723/1492789',\n",
       " '/p/home/jusers/cherepashkin1/jureca/seed2sh/598/1484723/1492790',\n",
       " '/p/home/jusers/cherepashkin1/jureca/seed2sh/598/1484723/1492791',\n",
       " '/p/home/jusers/cherepashkin1/jureca/seed2sh/598/1484723/1492792',\n",
       " '/p/home/jusers/cherepashkin1/jureca/seed2sh/598/1484723/1492793',\n",
       " '/p/home/jusers/cherepashkin1/jureca/seed2sh/598/1484723/1492794',\n",
       " '/p/home/jusers/cherepashkin1/jureca/seed2sh/598/1484723/1492795',\n",
       " '/p/home/jusers/cherepashkin1/jureca/seed2sh/598/1484723/1492796',\n",
       " '/p/home/jusers/cherepashkin1/jureca/seed2sh/598/1484723/1492797',\n",
       " '/p/home/jusers/cherepashkin1/jureca/seed2sh/598/1484723/1492799',\n",
       " '/p/home/jusers/cherepashkin1/jureca/seed2sh/598/1484723/1492800',\n",
       " '/p/home/jusers/cherepashkin1/jureca/seed2sh/598/1484723/1492801',\n",
       " '/p/home/jusers/cherepashkin1/jureca/seed2sh/598/1484723/1492802',\n",
       " '/p/home/jusers/cherepashkin1/jureca/seed2sh/598/1484723/1492803',\n",
       " '/p/home/jusers/cherepashkin1/jureca/seed2sh/598/1484723/1492804',\n",
       " '/p/home/jusers/cherepashkin1/jureca/seed2sh/598/1484723/1492805',\n",
       " '/p/home/jusers/cherepashkin1/jureca/seed2sh/598/1484723/1492806',\n",
       " '/p/home/jusers/cherepashkin1/jureca/seed2sh/598/1484723/1492807',\n",
       " '/p/home/jusers/cherepashkin1/jureca/seed2sh/598/1484723/1492808',\n",
       " '/p/home/jusers/cherepashkin1/jureca/seed2sh/598/1484723/1492809',\n",
       " '/p/home/jusers/cherepashkin1/jureca/seed2sh/598/1484723/1492810',\n",
       " '/p/home/jusers/cherepashkin1/jureca/seed2sh/598/1484723/1492811',\n",
       " '/p/home/jusers/cherepashkin1/jureca/seed2sh/598/1484723/1492812',\n",
       " '/p/home/jusers/cherepashkin1/jureca/seed2sh/598/1484723/1492813',\n",
       " '/p/home/jusers/cherepashkin1/jureca/seed2sh/598/1484723/1492814',\n",
       " '/p/home/jusers/cherepashkin1/jureca/seed2sh/598/1484723/1492815',\n",
       " '/p/home/jusers/cherepashkin1/jureca/seed2sh/598/1484723/1492816',\n",
       " '/p/home/jusers/cherepashkin1/jureca/seed2sh/598/1484723/1492817',\n",
       " '/p/home/jusers/cherepashkin1/jureca/seed2sh/598/1484723/1492818',\n",
       " '/p/home/jusers/cherepashkin1/jureca/seed2sh/598/1484723/1492819',\n",
       " '/p/home/jusers/cherepashkin1/jureca/seed2sh/598/1484723/1492820',\n",
       " '/p/home/jusers/cherepashkin1/jureca/seed2sh/598/1484723/1492821',\n",
       " '/p/home/jusers/cherepashkin1/jureca/seed2sh/598/1484723/1492822',\n",
       " '/p/home/jusers/cherepashkin1/jureca/seed2sh/598/1484723/1492823',\n",
       " '/p/home/jusers/cherepashkin1/jureca/seed2sh/598/1484723/1492824',\n",
       " '/p/home/jusers/cherepashkin1/jureca/seed2sh/598/1484723/1492825',\n",
       " '/p/home/jusers/cherepashkin1/jureca/seed2sh/598/1484723/1492826',\n",
       " '/p/home/jusers/cherepashkin1/jureca/seed2sh/598/1484723/1492827',\n",
       " '/p/home/jusers/cherepashkin1/jureca/seed2sh/598/1484723/1492828',\n",
       " '/p/home/jusers/cherepashkin1/jureca/seed2sh/598/1484723/1492829',\n",
       " '/p/home/jusers/cherepashkin1/jureca/seed2sh/598/1484723/1492830',\n",
       " '/p/home/jusers/cherepashkin1/jureca/seed2sh/598/1484723/1492831',\n",
       " '/p/home/jusers/cherepashkin1/jureca/seed2sh/598/1484723/1492832',\n",
       " '/p/home/jusers/cherepashkin1/jureca/seed2sh/598/1484723/1492833',\n",
       " '/p/home/jusers/cherepashkin1/jureca/seed2sh/598/1484723/1492834',\n",
       " '/p/home/jusers/cherepashkin1/jureca/seed2sh/598/1484723/1492835',\n",
       " '/p/home/jusers/cherepashkin1/jureca/seed2sh/598/1484723/1492836',\n",
       " '/p/home/jusers/cherepashkin1/jureca/seed2sh/598/1484723/1492837',\n",
       " '/p/home/jusers/cherepashkin1/jureca/seed2sh/598/1484723/1492838',\n",
       " '/p/home/jusers/cherepashkin1/jureca/seed2sh/598/1484723/1492839',\n",
       " '/p/home/jusers/cherepashkin1/jureca/seed2sh/598/1484723/1492840',\n",
       " '/p/home/jusers/cherepashkin1/jureca/seed2sh/598/1484723/1492841',\n",
       " '/p/home/jusers/cherepashkin1/jureca/seed2sh/598/1484723/1492842',\n",
       " '/p/home/jusers/cherepashkin1/jureca/seed2sh/598/1484723/1492843',\n",
       " '/p/home/jusers/cherepashkin1/jureca/seed2sh/598/1484723/1492844',\n",
       " '/p/home/jusers/cherepashkin1/jureca/seed2sh/598/1484723/1492845',\n",
       " '/p/home/jusers/cherepashkin1/jureca/seed2sh/598/1484723/1492846',\n",
       " '/p/home/jusers/cherepashkin1/jureca/seed2sh/598/1484724/1492847',\n",
       " '/p/home/jusers/cherepashkin1/jureca/seed2sh/598/1484724/1492848',\n",
       " '/p/home/jusers/cherepashkin1/jureca/seed2sh/598/1484724/1492849',\n",
       " '/p/home/jusers/cherepashkin1/jureca/seed2sh/598/1484724/1492850',\n",
       " '/p/home/jusers/cherepashkin1/jureca/seed2sh/598/1484724/1492851',\n",
       " '/p/home/jusers/cherepashkin1/jureca/seed2sh/598/1484724/1492852',\n",
       " '/p/home/jusers/cherepashkin1/jureca/seed2sh/598/1484724/1492853',\n",
       " '/p/home/jusers/cherepashkin1/jureca/seed2sh/598/1484724/1492854',\n",
       " '/p/home/jusers/cherepashkin1/jureca/seed2sh/598/1484724/1492855',\n",
       " '/p/home/jusers/cherepashkin1/jureca/seed2sh/598/1484724/1492856',\n",
       " '/p/home/jusers/cherepashkin1/jureca/seed2sh/598/1484724/1492857',\n",
       " '/p/home/jusers/cherepashkin1/jureca/seed2sh/598/1484724/1492858',\n",
       " '/p/home/jusers/cherepashkin1/jureca/seed2sh/598/1484724/1492859',\n",
       " '/p/home/jusers/cherepashkin1/jureca/seed2sh/598/1484724/1492860',\n",
       " '/p/home/jusers/cherepashkin1/jureca/seed2sh/598/1484724/1492861',\n",
       " '/p/home/jusers/cherepashkin1/jureca/seed2sh/598/1484724/1492862',\n",
       " '/p/home/jusers/cherepashkin1/jureca/seed2sh/598/1484724/1492863',\n",
       " '/p/home/jusers/cherepashkin1/jureca/seed2sh/598/1484724/1492864',\n",
       " '/p/home/jusers/cherepashkin1/jureca/seed2sh/598/1484724/1492865',\n",
       " '/p/home/jusers/cherepashkin1/jureca/seed2sh/598/1484724/1492866',\n",
       " '/p/home/jusers/cherepashkin1/jureca/seed2sh/598/1484724/1492867',\n",
       " '/p/home/jusers/cherepashkin1/jureca/seed2sh/598/1484724/1492868',\n",
       " '/p/home/jusers/cherepashkin1/jureca/seed2sh/598/1484724/1492869',\n",
       " '/p/home/jusers/cherepashkin1/jureca/seed2sh/598/1484724/1492870',\n",
       " '/p/home/jusers/cherepashkin1/jureca/seed2sh/598/1484724/1492871',\n",
       " '/p/home/jusers/cherepashkin1/jureca/seed2sh/598/1484724/1492872',\n",
       " '/p/home/jusers/cherepashkin1/jureca/seed2sh/598/1484724/1492873',\n",
       " '/p/home/jusers/cherepashkin1/jureca/seed2sh/598/1484724/1492874',\n",
       " '/p/home/jusers/cherepashkin1/jureca/seed2sh/598/1484724/1492875',\n",
       " '/p/home/jusers/cherepashkin1/jureca/seed2sh/598/1484724/1492876',\n",
       " '/p/home/jusers/cherepashkin1/jureca/seed2sh/598/1484724/1492877',\n",
       " '/p/home/jusers/cherepashkin1/jureca/seed2sh/598/1484724/1492878',\n",
       " '/p/home/jusers/cherepashkin1/jureca/seed2sh/598/1484724/1492879',\n",
       " '/p/home/jusers/cherepashkin1/jureca/seed2sh/598/1484724/1492880',\n",
       " '/p/home/jusers/cherepashkin1/jureca/seed2sh/598/1484724/1492881',\n",
       " '/p/home/jusers/cherepashkin1/jureca/seed2sh/598/1484724/1492882',\n",
       " '/p/home/jusers/cherepashkin1/jureca/seed2sh/598/1484724/1492883',\n",
       " '/p/home/jusers/cherepashkin1/jureca/seed2sh/598/1484724/1492884',\n",
       " '/p/home/jusers/cherepashkin1/jureca/seed2sh/598/1484724/1492885',\n",
       " '/p/home/jusers/cherepashkin1/jureca/seed2sh/598/1484724/1492886',\n",
       " '/p/home/jusers/cherepashkin1/jureca/seed2sh/598/1484724/1492887',\n",
       " '/p/home/jusers/cherepashkin1/jureca/seed2sh/598/1484724/1492888',\n",
       " '/p/home/jusers/cherepashkin1/jureca/seed2sh/598/1484724/1492889',\n",
       " '/p/home/jusers/cherepashkin1/jureca/seed2sh/598/1484724/1492890',\n",
       " '/p/home/jusers/cherepashkin1/jureca/seed2sh/598/1484724/1492891',\n",
       " '/p/home/jusers/cherepashkin1/jureca/seed2sh/598/1484724/1492892',\n",
       " '/p/home/jusers/cherepashkin1/jureca/seed2sh/598/1484724/1492893',\n",
       " '/p/home/jusers/cherepashkin1/jureca/seed2sh/598/1484724/1492894',\n",
       " '/p/home/jusers/cherepashkin1/jureca/seed2sh/598/1484724/1492895',\n",
       " '/p/home/jusers/cherepashkin1/jureca/seed2sh/598/1484724/1492896',\n",
       " '/p/home/jusers/cherepashkin1/jureca/seed2sh/598/1484724/1492897',\n",
       " '/p/home/jusers/cherepashkin1/jureca/seed2sh/598/1484724/1492898',\n",
       " '/p/home/jusers/cherepashkin1/jureca/seed2sh/598/1484724/1492899',\n",
       " '/p/home/jusers/cherepashkin1/jureca/seed2sh/598/1484724/1492900',\n",
       " '/p/home/jusers/cherepashkin1/jureca/seed2sh/598/1484724/1492901',\n",
       " '/p/home/jusers/cherepashkin1/jureca/seed2sh/598/1484724/1492902',\n",
       " '/p/home/jusers/cherepashkin1/jureca/seed2sh/598/1484724/1492903',\n",
       " '/p/home/jusers/cherepashkin1/jureca/seed2sh/598/1484724/1492904',\n",
       " '/p/home/jusers/cherepashkin1/jureca/seed2sh/598/1484724/1492905',\n",
       " '/p/home/jusers/cherepashkin1/jureca/seed2sh/598/1484724/1492906',\n",
       " '/p/home/jusers/cherepashkin1/jureca/seed2sh/598/1484724/1492907',\n",
       " '/p/home/jusers/cherepashkin1/jureca/seed2sh/598/1484724/1492908',\n",
       " '/p/home/jusers/cherepashkin1/jureca/seed2sh/598/1484724/1492909',\n",
       " '/p/home/jusers/cherepashkin1/jureca/seed2sh/598/1484724/1492910',\n",
       " '/p/home/jusers/cherepashkin1/jureca/seed2sh/598/1484724/1492911',\n",
       " '/p/home/jusers/cherepashkin1/jureca/seed2sh/598/1484724/1492912',\n",
       " '/p/home/jusers/cherepashkin1/jureca/seed2sh/598/1484724/1492913',\n",
       " '/p/home/jusers/cherepashkin1/jureca/seed2sh/598/1484724/1492914',\n",
       " '/p/home/jusers/cherepashkin1/jureca/seed2sh/598/1484724/1492915',\n",
       " '/p/home/jusers/cherepashkin1/jureca/seed2sh/598/1484724/1492916',\n",
       " '/p/home/jusers/cherepashkin1/jureca/seed2sh/598/1484724/1492917',\n",
       " '/p/home/jusers/cherepashkin1/jureca/seed2sh/598/1484724/1492918',\n",
       " '/p/home/jusers/cherepashkin1/jureca/seed2sh/598/1484724/1492919',\n",
       " '/p/home/jusers/cherepashkin1/jureca/seed2sh/598/1484724/1492920',\n",
       " '/p/home/jusers/cherepashkin1/jureca/seed2sh/598/1484724/1492921',\n",
       " '/p/home/jusers/cherepashkin1/jureca/seed2sh/598/1484724/1492922',\n",
       " '/p/home/jusers/cherepashkin1/jureca/seed2sh/598/1484724/1492923',\n",
       " '/p/home/jusers/cherepashkin1/jureca/seed2sh/598/1484724/1492924',\n",
       " '/p/home/jusers/cherepashkin1/jureca/seed2sh/598/1484724/1492925',\n",
       " '/p/home/jusers/cherepashkin1/jureca/seed2sh/598/1484724/1492926',\n",
       " '/p/home/jusers/cherepashkin1/jureca/seed2sh/598/1484724/1492927',\n",
       " '/p/home/jusers/cherepashkin1/jureca/seed2sh/598/1484724/1492928',\n",
       " '/p/home/jusers/cherepashkin1/jureca/seed2sh/598/1484724/1492929',\n",
       " '/p/home/jusers/cherepashkin1/jureca/seed2sh/598/1484724/1492930',\n",
       " '/p/home/jusers/cherepashkin1/jureca/seed2sh/598/1484724/1492931',\n",
       " '/p/home/jusers/cherepashkin1/jureca/seed2sh/598/1484724/1492932',\n",
       " '/p/home/jusers/cherepashkin1/jureca/seed2sh/598/1484724/1492933',\n",
       " '/p/home/jusers/cherepashkin1/jureca/seed2sh/598/1484724/1492934',\n",
       " '/p/home/jusers/cherepashkin1/jureca/seed2sh/598/1484724/1492935',\n",
       " '/p/home/jusers/cherepashkin1/jureca/seed2sh/598/1484724/1492936',\n",
       " '/p/home/jusers/cherepashkin1/jureca/seed2sh/598/1484724/1492937',\n",
       " '/p/home/jusers/cherepashkin1/jureca/seed2sh/598/1484724/1492938',\n",
       " '/p/home/jusers/cherepashkin1/jureca/seed2sh/598/1484724/1492939',\n",
       " '/p/home/jusers/cherepashkin1/jureca/seed2sh/598/1484724/1492940',\n",
       " '/p/home/jusers/cherepashkin1/jureca/seed2sh/598/1484724/1492941',\n",
       " '/p/home/jusers/cherepashkin1/jureca/seed2sh/598/1484724/1492942',\n",
       " '/p/home/jusers/cherepashkin1/jureca/seed2sh/598/1484724/1492943',\n",
       " '/p/home/jusers/cherepashkin1/jureca/seed2sh/598/1484724/1492944',\n",
       " '/p/home/jusers/cherepashkin1/jureca/seed2sh/598/1484724/1492945',\n",
       " '/p/home/jusers/cherepashkin1/jureca/seed2sh/598/1484724/1492946',\n",
       " '/p/home/jusers/cherepashkin1/jureca/seed2sh/598/1484724/1492947',\n",
       " '/p/home/jusers/cherepashkin1/jureca/seed2sh/598/1484724/1492948',\n",
       " '/p/home/jusers/cherepashkin1/jureca/seed2sh/598/1484724/1492949',\n",
       " '/p/home/jusers/cherepashkin1/jureca/seed2sh/598/1484724/1492950',\n",
       " '/p/home/jusers/cherepashkin1/jureca/seed2sh/598/1484724/1492951',\n",
       " '/p/home/jusers/cherepashkin1/jureca/seed2sh/598/1484724/1492952',\n",
       " '/p/home/jusers/cherepashkin1/jureca/seed2sh/598/1484724/1492953',\n",
       " '/p/home/jusers/cherepashkin1/jureca/seed2sh/598/1484724/1492954',\n",
       " '/p/home/jusers/cherepashkin1/jureca/seed2sh/598/1484724/1492955',\n",
       " '/p/home/jusers/cherepashkin1/jureca/seed2sh/598/1484724/1492956',\n",
       " '/p/home/jusers/cherepashkin1/jureca/seed2sh/598/1484724/1492957',\n",
       " '/p/home/jusers/cherepashkin1/jureca/seed2sh/598/1484724/1492958',\n",
       " '/p/home/jusers/cherepashkin1/jureca/seed2sh/598/1484724/1492959',\n",
       " '/p/home/jusers/cherepashkin1/jureca/seed2sh/598/1484724/1492960',\n",
       " '/p/home/jusers/cherepashkin1/jureca/seed2sh/598/1484724/1492961',\n",
       " '/p/home/jusers/cherepashkin1/jureca/seed2sh/598/1484724/1492962',\n",
       " '/p/home/jusers/cherepashkin1/jureca/seed2sh/598/1484724/1492963',\n",
       " '/p/home/jusers/cherepashkin1/jureca/seed2sh/598/1484724/1492964',\n",
       " '/p/home/jusers/cherepashkin1/jureca/seed2sh/598/1484724/1492965',\n",
       " '/p/home/jusers/cherepashkin1/jureca/seed2sh/598/1484724/1492966',\n",
       " '/p/home/jusers/cherepashkin1/jureca/seed2sh/598/1484725/1492967',\n",
       " '/p/home/jusers/cherepashkin1/jureca/seed2sh/598/1484725/1492968',\n",
       " '/p/home/jusers/cherepashkin1/jureca/seed2sh/598/1484725/1492969',\n",
       " '/p/home/jusers/cherepashkin1/jureca/seed2sh/598/1484725/1492970',\n",
       " '/p/home/jusers/cherepashkin1/jureca/seed2sh/598/1484725/1492971',\n",
       " '/p/home/jusers/cherepashkin1/jureca/seed2sh/598/1484725/1492972',\n",
       " '/p/home/jusers/cherepashkin1/jureca/seed2sh/598/1484725/1492973',\n",
       " '/p/home/jusers/cherepashkin1/jureca/seed2sh/598/1484725/1492974',\n",
       " '/p/home/jusers/cherepashkin1/jureca/seed2sh/598/1484725/1492975',\n",
       " '/p/home/jusers/cherepashkin1/jureca/seed2sh/598/1484725/1492976',\n",
       " '/p/home/jusers/cherepashkin1/jureca/seed2sh/598/1484725/1492977',\n",
       " '/p/home/jusers/cherepashkin1/jureca/seed2sh/598/1484725/1492978',\n",
       " '/p/home/jusers/cherepashkin1/jureca/seed2sh/598/1484725/1492979',\n",
       " '/p/home/jusers/cherepashkin1/jureca/seed2sh/598/1484725/1492980',\n",
       " '/p/home/jusers/cherepashkin1/jureca/seed2sh/598/1484725/1492981',\n",
       " '/p/home/jusers/cherepashkin1/jureca/seed2sh/598/1484725/1492982',\n",
       " '/p/home/jusers/cherepashkin1/jureca/seed2sh/598/1484725/1492983',\n",
       " '/p/home/jusers/cherepashkin1/jureca/seed2sh/598/1484725/1492984',\n",
       " '/p/home/jusers/cherepashkin1/jureca/seed2sh/598/1484725/1492985',\n",
       " '/p/home/jusers/cherepashkin1/jureca/seed2sh/598/1484725/1492986',\n",
       " '/p/home/jusers/cherepashkin1/jureca/seed2sh/598/1484725/1492987',\n",
       " '/p/home/jusers/cherepashkin1/jureca/seed2sh/598/1484725/1492988',\n",
       " '/p/home/jusers/cherepashkin1/jureca/seed2sh/598/1484725/1492989',\n",
       " '/p/home/jusers/cherepashkin1/jureca/seed2sh/598/1484725/1492990',\n",
       " '/p/home/jusers/cherepashkin1/jureca/seed2sh/598/1484725/1492991',\n",
       " '/p/home/jusers/cherepashkin1/jureca/seed2sh/598/1484725/1492992',\n",
       " '/p/home/jusers/cherepashkin1/jureca/seed2sh/598/1484725/1492993',\n",
       " '/p/home/jusers/cherepashkin1/jureca/seed2sh/598/1484725/1492994',\n",
       " '/p/home/jusers/cherepashkin1/jureca/seed2sh/598/1484725/1492995',\n",
       " '/p/home/jusers/cherepashkin1/jureca/seed2sh/598/1484725/1492996',\n",
       " '/p/home/jusers/cherepashkin1/jureca/seed2sh/598/1484725/1492997',\n",
       " '/p/home/jusers/cherepashkin1/jureca/seed2sh/598/1484725/1492998',\n",
       " '/p/home/jusers/cherepashkin1/jureca/seed2sh/598/1484725/1492999',\n",
       " '/p/home/jusers/cherepashkin1/jureca/seed2sh/598/1484725/1493000',\n",
       " '/p/home/jusers/cherepashkin1/jureca/seed2sh/598/1484725/1493001',\n",
       " '/p/home/jusers/cherepashkin1/jureca/seed2sh/598/1484725/1493002',\n",
       " '/p/home/jusers/cherepashkin1/jureca/seed2sh/598/1484725/1493003',\n",
       " '/p/home/jusers/cherepashkin1/jureca/seed2sh/598/1484725/1493004',\n",
       " '/p/home/jusers/cherepashkin1/jureca/seed2sh/598/1484725/1493005',\n",
       " ...]"
      ]
     },
     "execution_count": 30,
     "metadata": {},
     "output_type": "execute_result"
    }
   ],
   "source": [
    "cip"
   ]
  },
  {
   "cell_type": "code",
   "execution_count": 24,
   "metadata": {},
   "outputs": [
    {
     "data": {
      "text/plain": [
       "'/p/home/jusers/cherepashkin1/jureca/seed2sh/598/1484741/1495117'"
      ]
     },
     "execution_count": 24,
     "metadata": {},
     "output_type": "execute_result"
    }
   ],
   "source": [
    "cip[0]"
   ]
  },
  {
   "cell_type": "code",
   "execution_count": 23,
   "metadata": {},
   "outputs": [
    {
     "data": {
      "text/plain": [
       "'1495117'"
      ]
     },
     "execution_count": 23,
     "metadata": {},
     "output_type": "execute_result"
    }
   ],
   "source": [
    "cip[0].split('/')[-1]"
   ]
  },
  {
   "cell_type": "code",
   "execution_count": 33,
   "metadata": {},
   "outputs": [],
   "source": [
    "for i in range(100):\n",
    "#     shutil.copy('/p/home/jusers/cherepashkin1/jureca/seed2sh/rotation_000.tif',os.path.join(cip[i],'rotation_000.tif'))\n",
    "    shutil.copy('/p/home/jusers/cherepashkin1/jureca/seed2sh/1491988_F_N.csv',os.path.join(cip[i].replace('598','598csv')[:-7],cip[i].split('/')[-1]+'_F_N.csv'))"
   ]
  },
  {
   "cell_type": "code",
   "execution_count": 26,
   "metadata": {},
   "outputs": [
    {
     "data": {
      "text/plain": [
       "'/p/home/jusers/cherepashkin1/jureca/seed2sh/598/1484741/1495130/rotation_000.tif'"
      ]
     },
     "execution_count": 26,
     "metadata": {},
     "output_type": "execute_result"
    }
   ],
   "source": [
    "os.path.join(cip[i],'rotation_000.tif')"
   ]
  },
  {
   "cell_type": "code",
   "execution_count": 32,
   "metadata": {},
   "outputs": [
    {
     "data": {
      "text/plain": [
       "'/p/home/jusers/cherepashkin1/jureca/seed2sh/598csv/1484717/'"
      ]
     },
     "execution_count": 32,
     "metadata": {},
     "output_type": "execute_result"
    }
   ],
   "source": [
    "cip[i].replace('598','598csv')[:-7]"
   ]
  },
  {
   "cell_type": "code",
   "execution_count": 34,
   "metadata": {},
   "outputs": [],
   "source": [
    "import pandas as pd"
   ]
  },
  {
   "cell_type": "code",
   "execution_count": 36,
   "metadata": {},
   "outputs": [],
   "source": [
    "df = pd.read_csv('/p/home/jusers/cherepashkin1/jureca/cherepashkin1/phenoseed_csv/pathes_to: 598.csv')"
   ]
  },
  {
   "cell_type": "code",
   "execution_count": 37,
   "metadata": {},
   "outputs": [],
   "source": [
    "df = df.sort_values(by=['file_name'])"
   ]
  },
  {
   "cell_type": "code",
   "execution_count": 39,
   "metadata": {},
   "outputs": [],
   "source": [
    "df.to_csv('/p/home/jusers/cherepashkin1/jureca/seed2sh/pathes_to: 598.csv', index=False)"
   ]
  },
  {
   "cell_type": "code",
   "execution_count": 41,
   "metadata": {},
   "outputs": [
    {
     "name": "stdout",
     "output_type": "stream",
     "text": [
      "/usr/bin/sh: __file__: command not found\n"
     ]
    }
   ],
   "source": [
    "__file__"
   ]
  },
  {
   "cell_type": "code",
   "execution_count": 43,
   "metadata": {},
   "outputs": [
    {
     "data": {
      "text/html": [
       "<div>\n",
       "<style scoped>\n",
       "    .dataframe tbody tr th:only-of-type {\n",
       "        vertical-align: middle;\n",
       "    }\n",
       "\n",
       "    .dataframe tbody tr th {\n",
       "        vertical-align: top;\n",
       "    }\n",
       "\n",
       "    .dataframe thead th {\n",
       "        text-align: right;\n",
       "    }\n",
       "</style>\n",
       "<table border=\"1\" class=\"dataframe\">\n",
       "  <thead>\n",
       "    <tr style=\"text-align: right;\">\n",
       "      <th></th>\n",
       "      <th>file_name</th>\n",
       "      <th>zero_angle</th>\n",
       "    </tr>\n",
       "  </thead>\n",
       "  <tbody>\n",
       "    <tr>\n",
       "      <th>5105</th>\n",
       "      <td>598csv/1484717/1491988</td>\n",
       "      <td>8</td>\n",
       "    </tr>\n",
       "    <tr>\n",
       "      <th>1665</th>\n",
       "      <td>598csv/1484717/1491989</td>\n",
       "      <td>9</td>\n",
       "    </tr>\n",
       "    <tr>\n",
       "      <th>4250</th>\n",
       "      <td>598csv/1484717/1491990</td>\n",
       "      <td>8</td>\n",
       "    </tr>\n",
       "    <tr>\n",
       "      <th>4993</th>\n",
       "      <td>598csv/1484717/1491991</td>\n",
       "      <td>5</td>\n",
       "    </tr>\n",
       "    <tr>\n",
       "      <th>3386</th>\n",
       "      <td>598csv/1484717/1491992</td>\n",
       "      <td>11</td>\n",
       "    </tr>\n",
       "    <tr>\n",
       "      <th>...</th>\n",
       "      <td>...</td>\n",
       "      <td>...</td>\n",
       "    </tr>\n",
       "    <tr>\n",
       "      <th>1178</th>\n",
       "      <td>598csv/1484717/1492083</td>\n",
       "      <td>9</td>\n",
       "    </tr>\n",
       "    <tr>\n",
       "      <th>3570</th>\n",
       "      <td>598csv/1484717/1492084</td>\n",
       "      <td>9</td>\n",
       "    </tr>\n",
       "    <tr>\n",
       "      <th>5240</th>\n",
       "      <td>598csv/1484717/1492085</td>\n",
       "      <td>2</td>\n",
       "    </tr>\n",
       "    <tr>\n",
       "      <th>364</th>\n",
       "      <td>598csv/1484717/1492087</td>\n",
       "      <td>8</td>\n",
       "    </tr>\n",
       "    <tr>\n",
       "      <th>4532</th>\n",
       "      <td>598csv/1484717/1492088</td>\n",
       "      <td>8</td>\n",
       "    </tr>\n",
       "  </tbody>\n",
       "</table>\n",
       "<p>100 rows × 2 columns</p>\n",
       "</div>"
      ],
      "text/plain": [
       "                   file_name  zero_angle\n",
       "5105  598csv/1484717/1491988           8\n",
       "1665  598csv/1484717/1491989           9\n",
       "4250  598csv/1484717/1491990           8\n",
       "4993  598csv/1484717/1491991           5\n",
       "3386  598csv/1484717/1491992          11\n",
       "...                      ...         ...\n",
       "1178  598csv/1484717/1492083           9\n",
       "3570  598csv/1484717/1492084           9\n",
       "5240  598csv/1484717/1492085           2\n",
       "364   598csv/1484717/1492087           8\n",
       "4532  598csv/1484717/1492088           8\n",
       "\n",
       "[100 rows x 2 columns]"
      ]
     },
     "execution_count": 43,
     "metadata": {},
     "output_type": "execute_result"
    }
   ],
   "source": [
    "df[:100]"
   ]
  },
  {
   "cell_type": "code",
   "execution_count": 4,
   "metadata": {},
   "outputs": [],
   "source": [
    "import h5py\n",
    "import numpy as np"
   ]
  },
  {
   "cell_type": "code",
   "execution_count": 5,
   "metadata": {},
   "outputs": [],
   "source": [
    "F_Nw = np.array(h5py.File('C:/cherepashkin1/phenoseed_csv/598csv11_F_N.h5','r').get('dataset'))"
   ]
  },
  {
   "cell_type": "code",
   "execution_count": 6,
   "metadata": {},
   "outputs": [
    {
     "data": {
      "text/plain": [
       "(5270, 441)"
      ]
     },
     "execution_count": 6,
     "metadata": {},
     "output_type": "execute_result"
    }
   ],
   "source": [
    "F_Nw.shape"
   ]
  },
  {
   "cell_type": "code",
   "execution_count": 7,
   "metadata": {},
   "outputs": [],
   "source": [
    "with open('C:/circles/finetune_test/598_exceptions.txt', \"r\") as f:\n",
    "    exception_list = f.readlines()"
   ]
  },
  {
   "cell_type": "code",
   "execution_count": 8,
   "metadata": {},
   "outputs": [],
   "source": [
    "with open('C:/cherepashkin1/phenoseed_csv/598csv11_F_N_file_names.txt', \"r\") as f:\n",
    "    filen = f.readlines()"
   ]
  },
  {
   "cell_type": "code",
   "execution_count": 13,
   "metadata": {},
   "outputs": [
    {
     "data": {
      "text/plain": [
       "'1484755/1500207\\n'"
      ]
     },
     "execution_count": 13,
     "metadata": {},
     "output_type": "execute_result"
    }
   ],
   "source": [
    "exception_list[0]"
   ]
  },
  {
   "cell_type": "code",
   "execution_count": 14,
   "metadata": {},
   "outputs": [
    {
     "data": {
      "text/plain": [
       "'1484717_1491988\\n'"
      ]
     },
     "execution_count": 14,
     "metadata": {},
     "output_type": "execute_result"
    }
   ],
   "source": [
    "filen[0]"
   ]
  },
  {
   "cell_type": "code",
   "execution_count": null,
   "metadata": {},
   "outputs": [],
   "source": []
  },
  {
   "cell_type": "code",
   "execution_count": 17,
   "metadata": {},
   "outputs": [],
   "source": [
    "cip2 = filen\n",
    "for e in exception_list:\n",
    "    cip2 = [ x for x in cip2 if e.replace('/', '_') not in x ]"
   ]
  },
  {
   "cell_type": "code",
   "execution_count": 19,
   "metadata": {},
   "outputs": [
    {
     "data": {
      "text/plain": [
       "5270"
      ]
     },
     "execution_count": 19,
     "metadata": {},
     "output_type": "execute_result"
    }
   ],
   "source": [
    "len(filen)"
   ]
  },
  {
   "cell_type": "code",
   "execution_count": 18,
   "metadata": {},
   "outputs": [
    {
     "data": {
      "text/plain": [
       "5193"
      ]
     },
     "execution_count": 18,
     "metadata": {},
     "output_type": "execute_result"
    }
   ],
   "source": [
    "len(cip2)"
   ]
  },
  {
   "cell_type": "code",
   "execution_count": 20,
   "metadata": {},
   "outputs": [
    {
     "data": {
      "text/plain": [
       "'1484717_1491988\\n'"
      ]
     },
     "execution_count": 20,
     "metadata": {},
     "output_type": "execute_result"
    }
   ],
   "source": [
    "cip2[0]"
   ]
  },
  {
   "cell_type": "code",
   "execution_count": 11,
   "metadata": {},
   "outputs": [
    {
     "ename": "KeyboardInterrupt",
     "evalue": "",
     "output_type": "error",
     "traceback": [
      "\u001b[1;31m---------------------------------------------------------------------------\u001b[0m",
      "\u001b[1;31mKeyboardInterrupt\u001b[0m                         Traceback (most recent call last)",
      "\u001b[1;32m<ipython-input-11-ab79fd86d555>\u001b[0m in \u001b[0;36m<module>\u001b[1;34m\u001b[0m\n\u001b[0;32m      4\u001b[0m     \u001b[1;31m# print(pathl)\u001b[0m\u001b[1;33m\u001b[0m\u001b[1;33m\u001b[0m\u001b[1;33m\u001b[0m\u001b[0m\n\u001b[0;32m      5\u001b[0m     \u001b[1;32mfor\u001b[0m \u001b[0mpath\u001b[0m \u001b[1;32min\u001b[0m \u001b[0mpathl\u001b[0m\u001b[1;33m:\u001b[0m\u001b[1;33m\u001b[0m\u001b[1;33m\u001b[0m\u001b[0m\n\u001b[1;32m----> 6\u001b[1;33m         indices.append([i for i, s in\\\n\u001b[0m\u001b[0;32m      7\u001b[0m          enumerate(filen) if path in s][0])\n\u001b[0;32m      8\u001b[0m \u001b[1;31m# print(indices)\u001b[0m\u001b[1;33m\u001b[0m\u001b[1;33m\u001b[0m\u001b[1;33m\u001b[0m\u001b[0m\n",
      "\u001b[1;32m<ipython-input-11-ab79fd86d555>\u001b[0m in \u001b[0;36m<listcomp>\u001b[1;34m(.0)\u001b[0m\n\u001b[0;32m      4\u001b[0m     \u001b[1;31m# print(pathl)\u001b[0m\u001b[1;33m\u001b[0m\u001b[1;33m\u001b[0m\u001b[1;33m\u001b[0m\u001b[0m\n\u001b[0;32m      5\u001b[0m     \u001b[1;32mfor\u001b[0m \u001b[0mpath\u001b[0m \u001b[1;32min\u001b[0m \u001b[0mpathl\u001b[0m\u001b[1;33m:\u001b[0m\u001b[1;33m\u001b[0m\u001b[1;33m\u001b[0m\u001b[0m\n\u001b[1;32m----> 6\u001b[1;33m         indices.append([i for i, s in\\\n\u001b[0m\u001b[0;32m      7\u001b[0m          enumerate(filen) if path in s][0])\n\u001b[0;32m      8\u001b[0m \u001b[1;31m# print(indices)\u001b[0m\u001b[1;33m\u001b[0m\u001b[1;33m\u001b[0m\u001b[1;33m\u001b[0m\u001b[0m\n",
      "\u001b[1;31mKeyboardInterrupt\u001b[0m: "
     ]
    }
   ],
   "source": [
    "indices = []\n",
    "for pathes in filen:\n",
    "    pathl = [path.replace('598csv11/','').replace('/','_') for path in pathes]\n",
    "    # print(pathl)\n",
    "    for path in pathl:\n",
    "        indices.append([i for i, s in\\\n",
    "         enumerate(filen) if path in s][0])\n",
    "# print(indices)\n",
    "f_n = F_Nw[indices,:]"
   ]
  },
  {
   "cell_type": "code",
   "execution_count": null,
   "metadata": {},
   "outputs": [],
   "source": [
    "\n",
    "for path in pathl:\n",
    "    "
   ]
  },
  {
   "cell_type": "code",
   "execution_count": 26,
   "metadata": {},
   "outputs": [],
   "source": [
    "idx = []\n",
    "for i in cip2:\n",
    "    idx.append()"
   ]
  },
  {
   "cell_type": "code",
   "execution_count": 29,
   "metadata": {},
   "outputs": [],
   "source": [
    "idx = [filen.index(i) for i in cip2]"
   ]
  },
  {
   "cell_type": "code",
   "execution_count": 28,
   "metadata": {},
   "outputs": [
    {
     "data": {
      "text/plain": [
       "5193"
      ]
     },
     "execution_count": 28,
     "metadata": {},
     "output_type": "execute_result"
    }
   ],
   "source": [
    "len(idx)"
   ]
  },
  {
   "cell_type": "code",
   "execution_count": 30,
   "metadata": {},
   "outputs": [],
   "source": [
    "F_N = F_Nw[idx,:]"
   ]
  },
  {
   "cell_type": "code",
   "execution_count": 31,
   "metadata": {},
   "outputs": [
    {
     "data": {
      "text/plain": [
       "(5193, 441)"
      ]
     },
     "execution_count": 31,
     "metadata": {},
     "output_type": "execute_result"
    }
   ],
   "source": [
    "F_N.shape"
   ]
  },
  {
   "cell_type": "code",
   "execution_count": 33,
   "metadata": {},
   "outputs": [
    {
     "data": {
      "text/plain": [
       "(5193,)"
      ]
     },
     "execution_count": 33,
     "metadata": {},
     "output_type": "execute_result"
    }
   ],
   "source": [
    "np.mean(F_N,axis=1).shape"
   ]
  },
  {
   "cell_type": "code",
   "execution_count": 34,
   "metadata": {},
   "outputs": [],
   "source": [
    "import matplotlib.pyplot as plt"
   ]
  },
  {
   "cell_type": "code",
   "execution_count": 40,
   "metadata": {},
   "outputs": [
    {
     "data": {
      "text/plain": [
       "<matplotlib.image.AxesImage at 0x2746739ec40>"
      ]
     },
     "execution_count": 40,
     "metadata": {},
     "output_type": "execute_result"
    },
    {
     "data": {
      "image/png": "[encoded data removed]",
      "text/plain": [
       "<Figure size 432x288 with 1 Axes>"
      ]
     },
     "metadata": {
      "needs_background": "light"
     },
     "output_type": "display_data"
    }
   ],
   "source": [
    "plt.imshow(F_N2)"
   ]
  },
  {
   "cell_type": "code",
   "execution_count": 39,
   "metadata": {},
   "outputs": [],
   "source": [
    "F_N2 = (F_N.transpose() - np.mean(F_N.transpose(),axis=0))/np.std(F_N.transpose(),axis=0)"
   ]
  },
  {
   "cell_type": "code",
   "execution_count": 62,
   "metadata": {},
   "outputs": [
    {
     "data": {
      "text/plain": [
       "(1, 5193)"
      ]
     },
     "execution_count": 62,
     "metadata": {},
     "output_type": "execute_result"
    }
   ],
   "source": [
    "np.expand_dims(np.mean(F_N,axis=1),axis=0).shape"
   ]
  },
  {
   "cell_type": "code",
   "execution_count": 64,
   "metadata": {},
   "outputs": [
    {
     "data": {
      "text/plain": [
       "441"
      ]
     },
     "execution_count": 64,
     "metadata": {},
     "output_type": "execute_result"
    }
   ],
   "source": [
    "F_N.shape[1]"
   ]
  },
  {
   "cell_type": "code",
   "execution_count": 78,
   "metadata": {},
   "outputs": [
    {
     "data": {
      "text/plain": [
       "(1, 441)"
      ]
     },
     "execution_count": 78,
     "metadata": {},
     "output_type": "execute_result"
    }
   ],
   "source": [
    "np.expand_dims(np.mean(F_N,axis=0),axis=0).shape"
   ]
  },
  {
   "cell_type": "code",
   "execution_count": 85,
   "metadata": {},
   "outputs": [
    {
     "data": {
      "text/plain": [
       "(441, 5193)"
      ]
     },
     "execution_count": 85,
     "metadata": {},
     "output_type": "execute_result"
    }
   ],
   "source": [
    "np.repeat(np.expand_dims(np.mean(F_N,axis=0),axis=1),F_N.shape[0],axis=1).shape"
   ]
  },
  {
   "cell_type": "code",
   "execution_count": 86,
   "metadata": {},
   "outputs": [],
   "source": [
    "meanv = np.repeat(np.expand_dims(np.mean(F_N,axis=0),axis=1),F_N.shape[0],axis=1)\n",
    "stdv = np.repeat(np.expand_dims(np.std(F_N,axis=0),axis=1),F_N.shape[0],axis=1)"
   ]
  },
  {
   "cell_type": "code",
   "execution_count": 148,
   "metadata": {},
   "outputs": [
    {
     "data": {
      "image/png": "[encoded data removed]",
      "text/plain": [
       "<Figure size 576x360 with 1 Axes>"
      ]
     },
     "metadata": {
      "needs_background": "light"
     },
     "output_type": "display_data"
    }
   ],
   "source": [
    "fig = plt.figure(figsize=(8,5))\n",
    "for i in range(441):\n",
    "    plt.scatter(np.mean(F_N,axis=0)[i],np.std(F_N,axis=0)[i])\n",
    "plt.title('Distribution of spherical harmonics along samples', fontsize = 18)\n",
    "# plt.xlim([-7,10])\n",
    "plt.grid()\n",
    "plt.locator_params(axis=\"x\", nbins=6)\n",
    "plt.locator_params(axis=\"y\", nbins=6)\n",
    "plt.xlabel('mean along samples', fontsize=18)\n",
    "plt.ylabel('std along samples', fontsize=18)\n",
    "plt.savefig('mean_std_scatter.pdf')\n",
    "plt.savefig('mean_std_scatter.png')"
   ]
  },
  {
   "cell_type": "code",
   "execution_count": 129,
   "metadata": {},
   "outputs": [
    {
     "data": {
      "image/png": "[encoded data removed]",
      "text/plain": [
       "<Figure size 432x288 with 1 Axes>"
      ]
     },
     "execution_count": 129,
     "metadata": {},
     "output_type": "execute_result"
    }
   ],
   "source": [
    "fig"
   ]
  },
  {
   "cell_type": "code",
   "execution_count": 125,
   "metadata": {},
   "outputs": [
    {
     "data": {
      "text/plain": [
       "<matplotlib.collections.PathCollection at 0x274055d3d00>"
      ]
     },
     "execution_count": 125,
     "metadata": {},
     "output_type": "execute_result"
    },
    {
     "data": {
      "image/png": "[encoded data removed]",
      "text/plain": [
       "<Figure size 432x288 with 1 Axes>"
      ]
     },
     "metadata": {
      "needs_background": "light"
     },
     "output_type": "display_data"
    }
   ],
   "source": [
    "a = np.array([[ 1, 2, 3, 4, 5, 6, 7, 8 ],\n",
    "              [ 1, 4, 8, 14, 12, 7, 3, 2 ]])\n",
    "\n",
    "categories = np.array([0, 2, 1, 1, 1, 2, 0, 0])\n",
    "\n",
    "colormap = np.array(['r', 'g', 'b'])\n",
    "\n",
    "plt.scatter(a[0], a[1], s=100, c=colormap[categories])"
   ]
  },
  {
   "cell_type": "code",
   "execution_count": 81,
   "metadata": {},
   "outputs": [
    {
     "data": {
      "text/plain": [
       "(5193, 441)"
      ]
     },
     "execution_count": 81,
     "metadata": {},
     "output_type": "execute_result"
    }
   ],
   "source": [
    "F_N.shape"
   ]
  },
  {
   "cell_type": "code",
   "execution_count": 87,
   "metadata": {},
   "outputs": [],
   "source": [
    "F_N2 = (F_N.transpose() - meanv)/stdv"
   ]
  },
  {
   "cell_type": "code",
   "execution_count": 88,
   "metadata": {},
   "outputs": [
    {
     "data": {
      "text/plain": [
       "(441, 5193)"
      ]
     },
     "execution_count": 88,
     "metadata": {},
     "output_type": "execute_result"
    }
   ],
   "source": [
    "F_N2.shape"
   ]
  },
  {
   "cell_type": "code",
   "execution_count": 89,
   "metadata": {},
   "outputs": [
    {
     "data": {
      "text/plain": [
       "1.6780466226385268e-14"
      ]
     },
     "execution_count": 89,
     "metadata": {},
     "output_type": "execute_result"
    }
   ],
   "source": [
    "np.mean(F_N2[0,:])"
   ]
  },
  {
   "cell_type": "code",
   "execution_count": 90,
   "metadata": {},
   "outputs": [
    {
     "data": {
      "text/plain": [
       "0.9999999999999989"
      ]
     },
     "execution_count": 90,
     "metadata": {},
     "output_type": "execute_result"
    }
   ],
   "source": [
    "np.std(F_N2[0,:])"
   ]
  },
  {
   "cell_type": "code",
   "execution_count": 91,
   "metadata": {},
   "outputs": [
    {
     "data": {
      "text/plain": [
       "<matplotlib.image.AxesImage at 0x27478e3f8e0>"
      ]
     },
     "execution_count": 91,
     "metadata": {},
     "output_type": "execute_result"
    },
    {
     "data": {
      "image/png": "[encoded data removed]",
      "text/plain": [
       "<Figure size 432x288 with 1 Axes>"
      ]
     },
     "metadata": {
      "needs_background": "light"
     },
     "output_type": "display_data"
    }
   ],
   "source": [
    "plt.imshow(F_N2)"
   ]
  },
  {
   "cell_type": "code",
   "execution_count": 45,
   "metadata": {},
   "outputs": [],
   "source": [
    "x = F_N[:,0]"
   ]
  },
  {
   "cell_type": "code",
   "execution_count": 49,
   "metadata": {},
   "outputs": [],
   "source": [
    "x2 = (x - np.mean(x))/np.std(x)"
   ]
  },
  {
   "cell_type": "code",
   "execution_count": 50,
   "metadata": {},
   "outputs": [
    {
     "data": {
      "text/plain": [
       "-1.4284741308175324e-15"
      ]
     },
     "execution_count": 50,
     "metadata": {},
     "output_type": "execute_result"
    }
   ],
   "source": [
    "np.mean(x2)"
   ]
  },
  {
   "cell_type": "code",
   "execution_count": 52,
   "metadata": {},
   "outputs": [
    {
     "data": {
      "text/plain": [
       "1.0"
      ]
     },
     "execution_count": 52,
     "metadata": {},
     "output_type": "execute_result"
    }
   ],
   "source": [
    "np.std(x2)"
   ]
  },
  {
   "cell_type": "code",
   "execution_count": 54,
   "metadata": {},
   "outputs": [
    {
     "data": {
      "text/plain": [
       "[<matplotlib.lines.Line2D at 0x27478dfad60>]"
      ]
     },
     "execution_count": 54,
     "metadata": {},
     "output_type": "execute_result"
    },
    {
     "data": {
      "image/png": "[encoded data removed]",
      "text/plain": [
       "<Figure size 432x288 with 1 Axes>"
      ]
     },
     "metadata": {
      "needs_background": "light"
     },
     "output_type": "display_data"
    }
   ],
   "source": [
    "plt.plot(x2)"
   ]
  },
  {
   "cell_type": "code",
   "execution_count": 96,
   "metadata": {},
   "outputs": [
    {
     "data": {
      "text/plain": [
       "(5193, 441)"
      ]
     },
     "execution_count": 96,
     "metadata": {},
     "output_type": "execute_result"
    }
   ],
   "source": [
    "F_N.shape"
   ]
  },
  {
   "cell_type": "code",
   "execution_count": 149,
   "metadata": {},
   "outputs": [
    {
     "data": {
      "image/png": "[encoded data removed]",
      "text/plain": [
       "<Figure size 576x360 with 1 Axes>"
      ]
     },
     "metadata": {
      "needs_background": "light"
     },
     "output_type": "display_data"
    }
   ],
   "source": [
    "fit = plt.figure(figsize=(8, 5))\n",
    "for i in range(0,100):\n",
    "    data = F_N[:,i]\n",
    "    binwidth = 2\n",
    "    _ = plt.hist(data,bins=np.arange(min(data), max(data) + binwidth, binwidth))\n",
    "plt.title('Histogram of spherical harmonics along samples', fontsize = 18)\n",
    "# plt.xlim([-7,10])\n",
    "plt.xlabel('amplitude', fontsize=18)\n",
    "plt.ylabel('count', fontsize=18)\n",
    "plt.grid()\n",
    "plt.locator_params(axis=\"x\", nbins=6)\n",
    "plt.locator_params(axis=\"y\", nbins=6)\n",
    "plt.savefig('mean_seed_hist.pdf')\n",
    "plt.savefig('mean_seed_hist.png')\n",
    "#     plt.xlim([-15,15])"
   ]
  },
  {
   "cell_type": "code",
   "execution_count": null,
   "metadata": {},
   "outputs": [],
   "source": []
  },
  {
   "cell_type": "code",
   "execution_count": null,
   "metadata": {},
   "outputs": [],
   "source": []
  },
  {
   "cell_type": "code",
   "execution_count": 92,
   "metadata": {},
   "outputs": [
    {
     "data": {
      "text/plain": [
       "[<matplotlib.lines.Line2D at 0x274775b1d30>]"
      ]
     },
     "execution_count": 92,
     "metadata": {},
     "output_type": "execute_result"
    },
    {
     "data": {
      "image/png": "[encoded data removed]",
      "text/plain": [
       "<Figure size 432x288 with 1 Axes>"
      ]
     },
     "metadata": {
      "needs_background": "light"
     },
     "output_type": "display_data"
    }
   ],
   "source": [
    "plt.plot(F_N2[0,:])"
   ]
  },
  {
   "cell_type": "code",
   "execution_count": 93,
   "metadata": {},
   "outputs": [
    {
     "data": {
      "text/plain": [
       "[<matplotlib.lines.Line2D at 0x27400057190>]"
      ]
     },
     "execution_count": 93,
     "metadata": {},
     "output_type": "execute_result"
    },
    {
     "data": {
      "image/png": "[encoded data removed]",
      "text/plain": [
       "<Figure size 432x288 with 1 Axes>"
      ]
     },
     "metadata": {
      "needs_background": "light"
     },
     "output_type": "display_data"
    }
   ],
   "source": [
    "plt.plot(F_N2[1,:])"
   ]
  },
  {
   "cell_type": "code",
   "execution_count": 44,
   "metadata": {},
   "outputs": [
    {
     "data": {
      "text/plain": [
       "[<matplotlib.lines.Line2D at 0x27477838ee0>]"
      ]
     },
     "execution_count": 44,
     "metadata": {},
     "output_type": "execute_result"
    },
    {
     "data": {
      "image/png": "[encoded data removed]",
      "text/plain": [
       "<Figure size 432x288 with 1 Axes>"
      ]
     },
     "metadata": {
      "needs_background": "light"
     },
     "output_type": "display_data"
    }
   ],
   "source": [
    "plt.plot(F_N[:,0])"
   ]
  },
  {
   "cell_type": "code",
   "execution_count": 24,
   "metadata": {},
   "outputs": [
    {
     "data": {
      "text/plain": [
       "'1484717_1491988\\n'"
      ]
     },
     "execution_count": 24,
     "metadata": {},
     "output_type": "execute_result"
    }
   ],
   "source": [
    "filen[0]"
   ]
  },
  {
   "cell_type": "code",
   "execution_count": 25,
   "metadata": {},
   "outputs": [
    {
     "data": {
      "text/plain": [
       "'1484717_1491988\\n'"
      ]
     },
     "execution_count": 25,
     "metadata": {},
     "output_type": "execute_result"
    }
   ],
   "source": [
    "cip2[0]"
   ]
  },
  {
   "cell_type": "code",
   "execution_count": 23,
   "metadata": {},
   "outputs": [
    {
     "data": {
      "text/plain": [
       "0"
      ]
     },
     "execution_count": 23,
     "metadata": {},
     "output_type": "execute_result"
    }
   ],
   "source": [
    "idx"
   ]
  },
  {
   "cell_type": "code",
   "execution_count": null,
   "metadata": {},
   "outputs": [],
   "source": [
    "indices = []\n",
    "indices.append([i for i, s in enumerate(cip2) if path in s][0])"
   ]
  },
  {
   "cell_type": "code",
   "execution_count": 151,
   "metadata": {},
   "outputs": [],
   "source": [
    "from sklearn.decomposition import PCA"
   ]
  },
  {
   "cell_type": "code",
   "execution_count": 160,
   "metadata": {},
   "outputs": [],
   "source": [
    "pca = PCA(n_components=2)\n",
    "pcv = pca.fit_transform(F_N2.transpose())"
   ]
  },
  {
   "cell_type": "code",
   "execution_count": 161,
   "metadata": {},
   "outputs": [
    {
     "data": {
      "text/plain": [
       "(5193, 2)"
      ]
     },
     "execution_count": 161,
     "metadata": {},
     "output_type": "execute_result"
    }
   ],
   "source": [
    "pcv.shape"
   ]
  },
  {
   "cell_type": "code",
   "execution_count": 162,
   "metadata": {},
   "outputs": [
    {
     "data": {
      "text/plain": [
       "array([1.15987841, 5.33868606])"
      ]
     },
     "execution_count": 162,
     "metadata": {},
     "output_type": "execute_result"
    }
   ],
   "source": [
    "pcv[0]"
   ]
  },
  {
   "cell_type": "code",
   "execution_count": 167,
   "metadata": {},
   "outputs": [
    {
     "data": {
      "text/plain": [
       "0.9999999999999989"
      ]
     },
     "execution_count": 167,
     "metadata": {},
     "output_type": "execute_result"
    }
   ],
   "source": [
    "np.std(F_N2[0])"
   ]
  },
  {
   "cell_type": "code",
   "execution_count": 171,
   "metadata": {},
   "outputs": [
    {
     "data": {
      "image/png": "[encoded data removed]",
      "text/plain": [
       "<Figure size 576x576 with 1 Axes>"
      ]
     },
     "metadata": {
      "needs_background": "light"
     },
     "output_type": "display_data"
    }
   ],
   "source": [
    "fit = plt.figure(figsize=(8, 8))\n",
    "plt.scatter(pcv[:,0],pcv[:,1])\n",
    "plt.title('PCA on spherical harmonics, every dot is a seed', fontsize = 18)\n",
    "# plt.xlim([-7,10])\n",
    "plt.xlabel('component 1', fontsize=18)\n",
    "plt.ylabel('component 2', fontsize=18)\n",
    "plt.grid()\n",
    "plt.locator_params(axis=\"x\", nbins=6)\n",
    "plt.locator_params(axis=\"y\", nbins=6)\n",
    "plt.savefig('mean_seed_pca.pdf')\n",
    "plt.savefig('mean_seed_pca.png')"
   ]
  },
  {
   "cell_type": "code",
   "execution_count": null,
   "metadata": {},
   "outputs": [],
   "source": []
  }
 ],
 "metadata": {
  "kernelspec": {
   "display_name": "Python 3",
   "language": "python",
   "name": "python3"
  },
  "language_info": {
   "codemirror_mode": {
    "name": "ipython",
    "version": 3
   },
   "file_extension": ".py",
   "mimetype": "text/x-python",
   "name": "python",
   "nbconvert_exporter": "python",
   "pygments_lexer": "ipython3",
   "version": "3.8.5"
  }
 },
 "nbformat": 4,
 "nbformat_minor": 5
}
