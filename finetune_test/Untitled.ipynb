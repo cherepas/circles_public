{
 "cells": [
  {
   "cell_type": "code",
   "execution_count": 38,
   "id": "sticky-termination",
   "metadata": {},
   "outputs": [],
   "source": [
    "import os"
   ]
  },
  {
   "cell_type": "code",
   "execution_count": 39,
   "id": "annoying-irish",
   "metadata": {},
   "outputs": [],
   "source": [
    "mainpath = '/p/home/jusers/cherepashkin1/jureca/cherepashkin1/phenoseed_csv/598csv'"
   ]
  },
  {
   "cell_type": "code",
   "execution_count": 40,
   "id": "technical-snapshot",
   "metadata": {},
   "outputs": [],
   "source": [
    "cip = []\n",
    "for root, directories, filenames in os.walk(mainpath): \n",
    "    for filename in filenames:\n",
    "        os.rename(os.path.join(root,filename),os.path.join(root[:-7],filename))\n",
    "#         if 'F_N_500.csv' in filename:\n",
    "#         print(root[:-7])\n",
    "#         print(os.path.join(root,filename))\n",
    "#         if filename[-len(lastfilename):] == lastfilename:\n",
    "#             cip.append(os.path.join(root,filename))"
   ]
  },
  {
   "cell_type": "code",
   "execution_count": 9,
   "id": "phantom-couple",
   "metadata": {},
   "outputs": [],
   "source": [
    "cip = []\n",
    "for root, directories, filenames in os.walk(mainpath): \n",
    "    for filename in filenames:\n",
    "        cip.append(os.path.join(root,filename))\n",
    "#         if 'F_N_500.csv' in filename:\n",
    "#         print(root[:-7])\n",
    "#         print(os.path.join(root,filename))\n",
    "#         if filename[-len(lastfilename):] == lastfilename:\n",
    "#             cip.append(os.path.join(root,filename))"
   ]
  },
  {
   "cell_type": "code",
   "execution_count": 30,
   "id": "catholic-ireland",
   "metadata": {},
   "outputs": [
    {
     "data": {
      "text/plain": [
       "2012.0"
      ]
     },
     "execution_count": 30,
     "metadata": {},
     "output_type": "execute_result"
    }
   ],
   "source": [
    "len(cip)/2"
   ]
  },
  {
   "cell_type": "code",
   "execution_count": null,
   "id": "asian-reference",
   "metadata": {},
   "outputs": [],
   "source": [
    "def rewalk(mainpath, lastfilename):\n",
    "    cip = []\n",
    "    for root, directories, filenames in os.walk(mainpath): \n",
    "        for filename in filenames:\n",
    "            if filename[-len(lastfilename):] == lastfilename:\n",
    "                cip.append(os.path.join(root,filename))\n",
    "    return(cip)"
   ]
  },
  {
   "cell_type": "code",
   "execution_count": 13,
   "id": "celtic-treasure",
   "metadata": {},
   "outputs": [],
   "source": [
    "import numpy as np"
   ]
  },
  {
   "cell_type": "code",
   "execution_count": 15,
   "id": "played-pioneer",
   "metadata": {},
   "outputs": [],
   "source": [
    "f_na = np.genfromtxt('/p/home/jusers/cherepashkin1/jureca/cherepashkin1/phenoseed_csv/598csv/1484717/1491988_F_N_500.csv', delimiter=',')"
   ]
  },
  {
   "cell_type": "code",
   "execution_count": 19,
   "id": "greater-booth",
   "metadata": {},
   "outputs": [
    {
     "data": {
      "text/plain": [
       "(441,)"
      ]
     },
     "execution_count": 19,
     "metadata": {},
     "output_type": "execute_result"
    }
   ],
   "source": [
    "np.squeeze(f_na[1]).shape"
   ]
  },
  {
   "cell_type": "code",
   "execution_count": null,
   "id": "expressed-great",
   "metadata": {},
   "outputs": [],
   "source": [
    "f_na = np.genfromtxt('/p/home/jusers/cherepashkin1/jureca/cherepashkin1/phenoseed_csv/598csv/"
   ]
  },
  {
   "cell_type": "code",
   "execution_count": 20,
   "id": "protected-watson",
   "metadata": {},
   "outputs": [],
   "source": [
    "import pandas as pd"
   ]
  },
  {
   "cell_type": "code",
   "execution_count": 21,
   "id": "senior-vanilla",
   "metadata": {},
   "outputs": [],
   "source": [
    "lframe = pd.read_csv('/p/home/jusers/cherepashkin1/jureca/cherepashkin1/phenoseed_csv/old/pathes_to: 598.csv')"
   ]
  },
  {
   "cell_type": "code",
   "execution_count": 22,
   "id": "dried-feelings",
   "metadata": {},
   "outputs": [
    {
     "data": {
      "text/html": [
       "<div>\n",
       "<style scoped>\n",
       "    .dataframe tbody tr th:only-of-type {\n",
       "        vertical-align: middle;\n",
       "    }\n",
       "\n",
       "    .dataframe tbody tr th {\n",
       "        vertical-align: top;\n",
       "    }\n",
       "\n",
       "    .dataframe thead th {\n",
       "        text-align: right;\n",
       "    }\n",
       "</style>\n",
       "<table border=\"1\" class=\"dataframe\">\n",
       "  <thead>\n",
       "    <tr style=\"text-align: right;\">\n",
       "      <th></th>\n",
       "      <th>file_name</th>\n",
       "      <th>zero_angle</th>\n",
       "    </tr>\n",
       "  </thead>\n",
       "  <tbody>\n",
       "    <tr>\n",
       "      <th>0</th>\n",
       "      <td>598csv/1484720/1492412</td>\n",
       "      <td>7</td>\n",
       "    </tr>\n",
       "    <tr>\n",
       "      <th>1</th>\n",
       "      <td>598csv/1484719/1492243</td>\n",
       "      <td>14</td>\n",
       "    </tr>\n",
       "    <tr>\n",
       "      <th>2</th>\n",
       "      <td>598csv/1484738/1494635</td>\n",
       "      <td>13</td>\n",
       "    </tr>\n",
       "    <tr>\n",
       "      <th>3</th>\n",
       "      <td>598csv/1484755/1500157</td>\n",
       "      <td>6</td>\n",
       "    </tr>\n",
       "    <tr>\n",
       "      <th>4</th>\n",
       "      <td>598csv/1484738/1494634</td>\n",
       "      <td>8</td>\n",
       "    </tr>\n",
       "    <tr>\n",
       "      <th>...</th>\n",
       "      <td>...</td>\n",
       "      <td>...</td>\n",
       "    </tr>\n",
       "    <tr>\n",
       "      <th>5265</th>\n",
       "      <td>598csv/1484734/1494120</td>\n",
       "      <td>23</td>\n",
       "    </tr>\n",
       "    <tr>\n",
       "      <th>5266</th>\n",
       "      <td>598csv/1484719/1492267</td>\n",
       "      <td>13</td>\n",
       "    </tr>\n",
       "    <tr>\n",
       "      <th>5267</th>\n",
       "      <td>598csv/1484756/1500240</td>\n",
       "      <td>20</td>\n",
       "    </tr>\n",
       "    <tr>\n",
       "      <th>5268</th>\n",
       "      <td>598csv/1484752/1499783</td>\n",
       "      <td>24</td>\n",
       "    </tr>\n",
       "    <tr>\n",
       "      <th>5269</th>\n",
       "      <td>598csv/1484743/1495681</td>\n",
       "      <td>7</td>\n",
       "    </tr>\n",
       "  </tbody>\n",
       "</table>\n",
       "<p>5270 rows × 2 columns</p>\n",
       "</div>"
      ],
      "text/plain": [
       "                   file_name  zero_angle\n",
       "0     598csv/1484720/1492412           7\n",
       "1     598csv/1484719/1492243          14\n",
       "2     598csv/1484738/1494635          13\n",
       "3     598csv/1484755/1500157           6\n",
       "4     598csv/1484738/1494634           8\n",
       "...                      ...         ...\n",
       "5265  598csv/1484734/1494120          23\n",
       "5266  598csv/1484719/1492267          13\n",
       "5267  598csv/1484756/1500240          20\n",
       "5268  598csv/1484752/1499783          24\n",
       "5269  598csv/1484743/1495681           7\n",
       "\n",
       "[5270 rows x 2 columns]"
      ]
     },
     "execution_count": 22,
     "metadata": {},
     "output_type": "execute_result"
    }
   ],
   "source": [
    "lframe"
   ]
  },
  {
   "cell_type": "code",
   "execution_count": 27,
   "id": "demographic-portfolio",
   "metadata": {},
   "outputs": [],
   "source": [
    "lframe = lframe.sort_values(by='file_name')"
   ]
  },
  {
   "cell_type": "code",
   "execution_count": 31,
   "id": "relevant-pathology",
   "metadata": {},
   "outputs": [],
   "source": [
    "lframe = lframe[:2000]"
   ]
  },
  {
   "cell_type": "code",
   "execution_count": 32,
   "id": "specialized-classroom",
   "metadata": {},
   "outputs": [
    {
     "data": {
      "text/plain": [
       "2000"
      ]
     },
     "execution_count": 32,
     "metadata": {},
     "output_type": "execute_result"
    }
   ],
   "source": [
    "len(lframe)"
   ]
  },
  {
   "cell_type": "code",
   "execution_count": 33,
   "id": "combined-division",
   "metadata": {},
   "outputs": [],
   "source": [
    "lframe.to_csv('/p/home/jusers/cherepashkin1/jureca/cherepashkin1/phenoseed_csv/pathes_to: 598.csv', index=False)"
   ]
  },
  {
   "cell_type": "code",
   "execution_count": 1,
   "id": "attempted-martial",
   "metadata": {},
   "outputs": [],
   "source": [
    "import numpy as np\n",
    "import torch"
   ]
  },
  {
   "cell_type": "code",
   "execution_count": 8,
   "id": "labeled-insurance",
   "metadata": {},
   "outputs": [
    {
     "data": {
      "text/plain": [
       "array([0])"
      ]
     },
     "execution_count": 8,
     "metadata": {},
     "output_type": "execute_result"
    }
   ],
   "source": [
    "np.array([10*int(36*i/1) for i in range(1)])"
   ]
  },
  {
   "cell_type": "code",
   "execution_count": 2,
   "id": "indian-brunei",
   "metadata": {},
   "outputs": [],
   "source": [
    "y_n = torch.zeros([18000,441])"
   ]
  },
  {
   "cell_type": "code",
   "execution_count": 6,
   "id": "universal-istanbul",
   "metadata": {},
   "outputs": [],
   "source": [
    "angles_list = [np.array([0]), np.array([1])]"
   ]
  },
  {
   "cell_type": "code",
   "execution_count": 10,
   "id": "recent-rachel",
   "metadata": {},
   "outputs": [],
   "source": [
    "y_n2 = torch.unsqueeze(y_n, axis=0)\n",
    "y_n2 = y_n2.repeat(40, 1, 1)"
   ]
  },
  {
   "cell_type": "code",
   "execution_count": 11,
   "id": "acoustic-house",
   "metadata": {},
   "outputs": [
    {
     "data": {
      "text/plain": [
       "torch.Size([40, 18000, 441])"
      ]
     },
     "execution_count": 11,
     "metadata": {},
     "output_type": "execute_result"
    }
   ],
   "source": [
    "y_n2.shape"
   ]
  },
  {
   "cell_type": "code",
   "execution_count": 33,
   "id": "leading-retreat",
   "metadata": {},
   "outputs": [],
   "source": []
  },
  {
   "cell_type": "code",
   "execution_count": 34,
   "id": "informal-rouge",
   "metadata": {},
   "outputs": [],
   "source": [
    "y_n2 = torch.zeros(40,500,441)\n",
    "for i,angle in enumerate(angles_list):\n",
    "    y_n2[i] = y_n[int(angle)*500:(int(angle)+1)*500,:]\n",
    "    "
   ]
  },
  {
   "cell_type": "code",
   "execution_count": 35,
   "id": "valuable-outside",
   "metadata": {},
   "outputs": [
    {
     "data": {
      "text/plain": [
       "torch.Size([2, 500, 441])"
      ]
     },
     "execution_count": 35,
     "metadata": {},
     "output_type": "execute_result"
    }
   ],
   "source": [
    "y_n2.shape"
   ]
  },
  {
   "cell_type": "code",
   "execution_count": 28,
   "id": "palestinian-massage",
   "metadata": {},
   "outputs": [
    {
     "data": {
      "text/plain": [
       "0"
      ]
     },
     "execution_count": 28,
     "metadata": {},
     "output_type": "execute_result"
    }
   ],
   "source": [
    "max(int(angle)-1,0)*500"
   ]
  },
  {
   "cell_type": "code",
   "execution_count": 29,
   "id": "chemical-possession",
   "metadata": {},
   "outputs": [
    {
     "data": {
      "text/plain": [
       "0"
      ]
     },
     "execution_count": 29,
     "metadata": {},
     "output_type": "execute_result"
    }
   ],
   "source": [
    "int(angle)*500"
   ]
  },
  {
   "cell_type": "code",
   "execution_count": 51,
   "id": "dried-stock",
   "metadata": {},
   "outputs": [],
   "source": [
    "a = torch.zeros([40,500, 441]).cuda()\n",
    "b = torch.zeros([40,441]).cuda()\n",
    "c = torch.zeros([40,500]).cuda()\n",
    "for i in range(40):\n",
    "    c[i] = torch.matmul(a[i],b[i])"
   ]
  },
  {
   "cell_type": "code",
   "execution_count": 52,
   "id": "interpreted-austin",
   "metadata": {},
   "outputs": [
    {
     "data": {
      "text/plain": [
       "torch.Size([40, 500])"
      ]
     },
     "execution_count": 52,
     "metadata": {},
     "output_type": "execute_result"
    }
   ],
   "source": [
    "c.shape"
   ]
  },
  {
   "cell_type": "code",
   "execution_count": 49,
   "id": "smaller-representative",
   "metadata": {},
   "outputs": [
    {
     "ename": "SyntaxError",
     "evalue": "invalid syntax (<ipython-input-49-63daaabfc98f>, line 1)",
     "output_type": "error",
     "traceback": [
      "\u001b[0;36m  File \u001b[0;32m\"<ipython-input-49-63daaabfc98f>\"\u001b[0;36m, line \u001b[0;32m1\u001b[0m\n\u001b[0;31m    (torch.zeros([500, 441]).*torch.zeros([441])).shape\u001b[0m\n\u001b[0m                             ^\u001b[0m\n\u001b[0;31mSyntaxError\u001b[0m\u001b[0;31m:\u001b[0m invalid syntax\n"
     ]
    }
   ],
   "source": [
    "(torch.zeros([500, 441])*torch.zeros([441])).shape"
   ]
  },
  {
   "cell_type": "code",
   "execution_count": 4,
   "id": "illegal-terry",
   "metadata": {},
   "outputs": [],
   "source": [
    "import numpy as np\n",
    "import torch\n",
    "import os"
   ]
  },
  {
   "cell_type": "code",
   "execution_count": 16,
   "id": "understanding-lending",
   "metadata": {},
   "outputs": [],
   "source": [
    "mainpath = '/p/home/jusers/cherepashkin1/jureca/cherepashkin1/phenoseed_csv'\n",
    "classicnorm = ''\n",
    "bX = np.genfromtxt(os.path.join(\n",
    "    mainpath, 'bX_500' +\n",
    "    classicnorm+'.csv').replace('\\\\', '/'),\n",
    "    delimiter=',')\n",
    "bX = np.transpose(bX)\n",
    "bX = torch.Tensor(bX).cuda()\n",
    "dirs = torch.zeros(40,\n",
    "                   500,\n",
    "                   2).cuda()\n",
    "angles_list = np.zeros(40)\n",
    "for i, angle in enumerate(angles_list):\n",
    "    dirs[i] = \\\n",
    "        bX[:, int(angle/10)*2:\n",
    "            (int(angle/10) +\n",
    "             1)*2] "
   ]
  },
  {
   "cell_type": "code",
   "execution_count": 17,
   "id": "endangered-tourism",
   "metadata": {},
   "outputs": [
    {
     "data": {
      "text/plain": [
       "torch.Size([40, 500, 2])"
      ]
     },
     "execution_count": 17,
     "metadata": {},
     "output_type": "execute_result"
    }
   ],
   "source": [
    "dirs.shape"
   ]
  },
  {
   "cell_type": "code",
   "execution_count": 13,
   "id": "hollow-lawrence",
   "metadata": {},
   "outputs": [
    {
     "data": {
      "text/plain": [
       "500"
      ]
     },
     "execution_count": 13,
     "metadata": {},
     "output_type": "execute_result"
    }
   ],
   "source": [
    "(int(angle/10) +\n",
    "             1)*500"
   ]
  },
  {
   "cell_type": "code",
   "execution_count": 14,
   "id": "arabic-sterling",
   "metadata": {},
   "outputs": [],
   "source": [
    "d = bX[0:500,:]"
   ]
  },
  {
   "cell_type": "code",
   "execution_count": 15,
   "id": "mathematical-editor",
   "metadata": {},
   "outputs": [
    {
     "data": {
      "text/plain": [
       "torch.Size([500, 72])"
      ]
     },
     "execution_count": 15,
     "metadata": {},
     "output_type": "execute_result"
    }
   ],
   "source": [
    "d.shape"
   ]
  },
  {
   "cell_type": "code",
   "execution_count": 19,
   "id": "choice-portrait",
   "metadata": {},
   "outputs": [
    {
     "ename": "TypeError",
     "evalue": "_vhstack_dispatcher() takes 1 positional argument but 2 were given",
     "output_type": "error",
     "traceback": [
      "\u001b[0;31m---------------------------------------------------------------------------\u001b[0m",
      "\u001b[0;31mTypeError\u001b[0m                                 Traceback (most recent call last)",
      "\u001b[0;32m<ipython-input-19-72dd4a1f43a4>\u001b[0m in \u001b[0;36m<module>\u001b[0;34m\u001b[0m\n\u001b[0;32m----> 1\u001b[0;31m \u001b[0mnp\u001b[0m\u001b[0;34m.\u001b[0m\u001b[0mhstack\u001b[0m\u001b[0;34m(\u001b[0m\u001b[0mnp\u001b[0m\u001b[0;34m.\u001b[0m\u001b[0mrepeat\u001b[0m\u001b[0;34m(\u001b[0m\u001b[0;36m32\u001b[0m\u001b[0;34m,\u001b[0m \u001b[0;36m1\u001b[0m\u001b[0;34m)\u001b[0m\u001b[0;34m,\u001b[0m\u001b[0;36m441\u001b[0m\u001b[0;34m)\u001b[0m\u001b[0;34m\u001b[0m\u001b[0;34m\u001b[0m\u001b[0m\n\u001b[0m",
      "\u001b[0;32m<__array_function__ internals>\u001b[0m in \u001b[0;36mhstack\u001b[0;34m(*args, **kwargs)\u001b[0m\n",
      "\u001b[0;31mTypeError\u001b[0m: _vhstack_dispatcher() takes 1 positional argument but 2 were given"
     ]
    }
   ],
   "source": [
    "np.hstack(np.repeat(32, 1),441)"
   ]
  },
  {
   "cell_type": "code",
   "execution_count": 24,
   "id": "powered-reputation",
   "metadata": {},
   "outputs": [],
   "source": [
    "p = np.random.rand(40,1500)"
   ]
  },
  {
   "cell_type": "code",
   "execution_count": 25,
   "id": "cardiac-korean",
   "metadata": {},
   "outputs": [],
   "source": [
    "o = p[0]"
   ]
  },
  {
   "cell_type": "code",
   "execution_count": 26,
   "id": "documentary-conference",
   "metadata": {},
   "outputs": [
    {
     "data": {
      "text/plain": [
       "(1500,)"
      ]
     },
     "execution_count": 26,
     "metadata": {},
     "output_type": "execute_result"
    }
   ],
   "source": [
    "o.shape"
   ]
  },
  {
   "cell_type": "code",
   "execution_count": 27,
   "id": "german-movement",
   "metadata": {},
   "outputs": [],
   "source": []
  },
  {
   "cell_type": "code",
   "execution_count": null,
   "id": "bridal-accordance",
   "metadata": {},
   "outputs": [],
   "source": [
    "ax = fig.add_subplot(projection='3d')\n",
    "Yx, Yy, Yz = plot_Y(ax, coef, xyz, phi, theta)"
   ]
  },
  {
   "cell_type": "code",
   "execution_count": 29,
   "id": "designing-revelation",
   "metadata": {},
   "outputs": [],
   "source": [
    "import matplotlib.pyplot as plt"
   ]
  },
  {
   "cell_type": "code",
   "execution_count": 31,
   "id": "cordless-combine",
   "metadata": {},
   "outputs": [
    {
     "data": {
      "image/png": "[encoded data removed]",
      "text/plain": [
       "<Figure size 432x288 with 1 Axes>"
      ]
     },
     "metadata": {
      "needs_background": "light"
     },
     "output_type": "display_data"
    }
   ],
   "source": [
    "x = o[:500]\n",
    "y = o[500:1000]\n",
    "z = o[1000:]\n",
    "fig = plt.figure()\n",
    "ax = fig.add_subplot(projection='3d')\n",
    "ax.scatter(x, y, z)\n",
    "# n = 100\n",
    "\n",
    "# For each set of style and range settings, plot n random points in the box\n",
    "# defined by x in [23, 32], y in [0, 100], z in [zlow, zhigh].\n",
    "# for m, zlow, zhigh in [('o', -50, -25), ('^', -30, -5)]:\n",
    "#     xs = randrange(n, 23, 32)\n",
    "#     ys = randrange(n, 0, 100)\n",
    "#     zs = randrange(n, zlow, zhigh)\n",
    "\n",
    "\n",
    "# ax.set_xlabel('X Label')\n",
    "# ax.set_ylabel('Y Label')\n",
    "# ax.set_zlabel('Z Label')\n",
    "\n",
    "plt.show()"
   ]
  },
  {
   "cell_type": "code",
   "execution_count": 56,
   "id": "elementary-merchant",
   "metadata": {},
   "outputs": [],
   "source": [
    "import numpy as np"
   ]
  },
  {
   "cell_type": "code",
   "execution_count": 58,
   "id": "modified-yield",
   "metadata": {},
   "outputs": [],
   "source": [
    "E = [[1, 0, 0, 0],\\\n",
    "     [0, 1, 0, 0],\\\n",
    "     [0, 0, 1, 0]]\n",
    "prmat = np.random.rand(144,4)"
   ]
  },
  {
   "cell_type": "code",
   "execution_count": 59,
   "id": "improved-radar",
   "metadata": {},
   "outputs": [],
   "source": [
    "C = np.divide(np.matmul(E,prmat[4:8,:]),np.matmul(E,prmat[0:4,:]))"
   ]
  },
  {
   "cell_type": "code",
   "execution_count": 60,
   "id": "sustainable-folks",
   "metadata": {},
   "outputs": [
    {
     "data": {
      "text/plain": [
       "(3, 4)"
      ]
     },
     "execution_count": 60,
     "metadata": {},
     "output_type": "execute_result"
    }
   ],
   "source": [
    "C.shape"
   ]
  },
  {
   "cell_type": "code",
   "execution_count": 80,
   "id": "daily-surface",
   "metadata": {},
   "outputs": [],
   "source": [
    "prmat = np.genfromtxt(os.path.join(\n",
    "    '/p/home/jusers/cherepashkin1/jureca/cherepashkin1/phenoseed_csv', 'prmat.csv').replace('\\\\', '/'),\n",
    "    delimiter=',')"
   ]
  },
  {
   "cell_type": "code",
   "execution_count": 81,
   "id": "forbidden-sacrifice",
   "metadata": {},
   "outputs": [],
   "source": [
    "E = [[1, 0, 0, 0],\n",
    "     [0, 1, 0, 0],\n",
    "     [0, 0, 1, 0]]"
   ]
  },
  {
   "cell_type": "code",
   "execution_count": 70,
   "id": "charitable-dispatch",
   "metadata": {},
   "outputs": [
    {
     "data": {
      "text/plain": [
       "array([[ 7.2120618e+02, -4.7264862e+00, -8.8180713e-03, -8.8180713e-03],\n",
       "       [ 0.0000000e+00,  7.4039063e+02,  0.0000000e+00,  0.0000000e+00],\n",
       "       [-1.7357628e+02, -2.6805235e+01, -5.0009768e-02, -5.0009768e-02]])"
      ]
     },
     "execution_count": 70,
     "metadata": {},
     "output_type": "execute_result"
    }
   ],
   "source": [
    "np.matmul(E,prmat[4:8,:])"
   ]
  },
  {
   "cell_type": "code",
   "execution_count": 69,
   "id": "grand-nothing",
   "metadata": {},
   "outputs": [
    {
     "name": "stderr",
     "output_type": "stream",
     "text": [
      "<ipython-input-69-237bf71a185f>:1: RuntimeWarning: divide by zero encountered in true_divide\n",
      "  np.divide(np.matmul(E,prmat[4:8,:]),np.matmul(E,prmat[0:4,:]))\n",
      "<ipython-input-69-237bf71a185f>:1: RuntimeWarning: invalid value encountered in true_divide\n",
      "  np.divide(np.matmul(E,prmat[4:8,:]),np.matmul(E,prmat[0:4,:]))\n"
     ]
    },
    {
     "data": {
      "text/plain": [
       "array([[0.97408875,       -inf,       -inf,       -inf],\n",
       "       [       nan, 1.        ,        nan,        nan],\n",
       "       [3.79790835, 0.98480772, 0.98480774, 0.98480774]])"
      ]
     },
     "execution_count": 69,
     "metadata": {},
     "output_type": "execute_result"
    }
   ],
   "source": [
    "np.divide(np.matmul(E,prmat[4:8,:]),np.matmul(E,prmat[0:4,:]))"
   ]
  },
  {
   "cell_type": "code",
   "execution_count": 83,
   "id": "innocent-zambia",
   "metadata": {},
   "outputs": [],
   "source": [
    "C = np.zeros([36,3,3])\n",
    "for i in range(36):\n",
    "    C[i,:,:] = np.matmul(np.matmul(E,prmat[4*i:4*(i+1),:]),\n",
    "                         np.linalg.pinv(np.matmul(E,prmat[0:4,:])))"
   ]
  },
  {
   "cell_type": "code",
   "execution_count": 77,
   "id": "australian-exhaust",
   "metadata": {},
   "outputs": [
    {
     "data": {
      "text/plain": [
       "array([[ 9.90342270e-01,  2.56217600e-03,  4.15382901e-02,\n",
       "         5.54438430e-05],\n",
       "       [-8.10759793e-04,  9.99624662e-01,  1.93530312e-02,\n",
       "        -8.12207535e-06],\n",
       "       [-1.32175103e-01,  1.91998028e-02, -5.16469312e-03,\n",
       "         4.15471385e-04],\n",
       "       [ 2.22943165e+01,  9.72550237e-02,  9.36281684e-01,\n",
       "         9.91094995e-01]])"
      ]
     },
     "execution_count": 77,
     "metadata": {},
     "output_type": "execute_result"
    }
   ],
   "source": [
    "np.matmul(prmat[4:8,:],np.linalg.pinv(prmat[0:4,:]))"
   ]
  },
  {
   "cell_type": "code",
   "execution_count": 74,
   "id": "great-protein",
   "metadata": {},
   "outputs": [
    {
     "data": {
      "text/plain": [
       "array([[ 9.74088746e-01, -0.00000000e+00,  2.11715752e-17],\n",
       "       [ 1.56736615e-18,  1.00000000e+00,  8.51888493e-17],\n",
       "       [ 5.35951149e-03, -0.00000000e+00,  4.92403870e-01],\n",
       "       [ 5.35951149e-03, -0.00000000e+00,  4.92403870e-01]])"
      ]
     },
     "execution_count": 74,
     "metadata": {},
     "output_type": "execute_result"
    }
   ],
   "source": [
    "np.transpose(np.matmul(E,prmat[4:8,:]))*np.linalg.pinv(np.matmul(E,prmat[0:4,:]))"
   ]
  },
  {
   "cell_type": "code",
   "execution_count": 61,
   "id": "intelligent-series",
   "metadata": {},
   "outputs": [
    {
     "name": "stdout",
     "output_type": "stream",
     "text": [
      "torch.Size([4, 4])\n"
     ]
    },
    {
     "ename": "RuntimeError",
     "evalue": "size mismatch, get 4, 4x4,1500",
     "output_type": "error",
     "traceback": [
      "\u001b[0;31m---------------------------------------------------------------------------\u001b[0m",
      "\u001b[0;31mRuntimeError\u001b[0m                              Traceback (most recent call last)",
      "\u001b[0;32m<ipython-input-61-1d85c0548635>\u001b[0m in \u001b[0;36m<module>\u001b[0;34m\u001b[0m\n\u001b[1;32m     21\u001b[0m \u001b[0;34m\u001b[0m\u001b[0m\n\u001b[1;32m     22\u001b[0m \u001b[0;34m\u001b[0m\u001b[0m\n\u001b[0;32m---> 23\u001b[0;31m     \u001b[0mp\u001b[0m\u001b[0;34m[\u001b[0m\u001b[0mi\u001b[0m\u001b[0;34m,\u001b[0m\u001b[0;34m:\u001b[0m\u001b[0;34m]\u001b[0m \u001b[0;34m=\u001b[0m \u001b[0mtorch\u001b[0m\u001b[0;34m.\u001b[0m\u001b[0mmatmul\u001b[0m\u001b[0;34m(\u001b[0m\u001b[0mC\u001b[0m\u001b[0;34m,\u001b[0m\u001b[0mp\u001b[0m\u001b[0;34m[\u001b[0m\u001b[0mi\u001b[0m\u001b[0;34m,\u001b[0m\u001b[0;34m:\u001b[0m\u001b[0;34m]\u001b[0m\u001b[0;34m)\u001b[0m\u001b[0;34m\u001b[0m\u001b[0;34m\u001b[0m\u001b[0m\n\u001b[0m",
      "\u001b[0;31mRuntimeError\u001b[0m: size mismatch, get 4, 4x4,1500"
     ]
    }
   ],
   "source": [
    "p = torch.zeros(\\\n",
    "    40,500*3).cuda()\n",
    "# prmat = torch.zeros(144,4).cuda()\n",
    "\n",
    "E = torch.Tensor(E).cuda()\n",
    "#print(E)\n",
    "for i in range(40):\n",
    "#     Far = torch.matmul(y_n2[i], f_n[i])\n",
    "#     p[i,:nsp]=Far*torch.cos(dirs[i,:,0])*\\\n",
    "#         torch.sin(dirs[i,:,1])\n",
    "#     p[i,nsp:2*nsp]=Far*torch.sin(dirs[i,:,0])*\\\n",
    "#         torch.sin(dirs[i,:,1])\n",
    "#     p[i,2*nsp:]=Far*torch.cos(dirs[i,:,1])\n",
    "#     print(int(angles_list[i]/10))\n",
    "    C = torch.matmul(E, prmat[4:8,:])/torch.matmul(E, prmat[0:4,:])\n",
    "#     C = (E*prmat[4:8,:])/(E*prmat[0:4,:])\n",
    "    print(C.shape)\n",
    "#     print((E*prmat[0:4,:]/E*prmat[:4,:]).shape)\n",
    "\n",
    "    \n",
    "    p[i,:] = torch.matmul(C,p[i,:])"
   ]
  },
  {
   "cell_type": "code",
   "execution_count": 86,
   "id": "composed-bishop",
   "metadata": {},
   "outputs": [],
   "source": [
    "a = np.zeros([3,3])\n",
    "b = np.zeros([500,3])"
   ]
  },
  {
   "cell_type": "code",
   "execution_count": 115,
   "id": "specific-strap",
   "metadata": {},
   "outputs": [
    {
     "name": "stdout",
     "output_type": "stream",
     "text": [
      "[2 3]\n"
     ]
    }
   ],
   "source": [
    "c = np.array([[1,2,0,0],[2,3,0,0]])\n",
    "print(np.trim_zeros(c[i,:]))"
   ]
  },
  {
   "cell_type": "code",
   "execution_count": 119,
   "id": "fantastic-google",
   "metadata": {},
   "outputs": [
    {
     "ename": "TypeError",
     "evalue": "list indices must be integers or slices, not tuple",
     "output_type": "error",
     "traceback": [
      "\u001b[0;31m---------------------------------------------------------------------------\u001b[0m",
      "\u001b[0;31mTypeError\u001b[0m                                 Traceback (most recent call last)",
      "\u001b[0;32m<ipython-input-119-91def82a8fd4>\u001b[0m in \u001b[0;36m<module>\u001b[0;34m\u001b[0m\n\u001b[1;32m      1\u001b[0m \u001b[0mc\u001b[0m \u001b[0;34m=\u001b[0m \u001b[0;34m[\u001b[0m\u001b[0;34m[\u001b[0m\u001b[0;36m1\u001b[0m\u001b[0;34m,\u001b[0m\u001b[0;36m2\u001b[0m\u001b[0;34m,\u001b[0m\u001b[0;36m0\u001b[0m\u001b[0;34m,\u001b[0m\u001b[0;36m0\u001b[0m\u001b[0;34m]\u001b[0m\u001b[0;34m,\u001b[0m\u001b[0;34m[\u001b[0m\u001b[0;36m2\u001b[0m\u001b[0;34m,\u001b[0m\u001b[0;36m3\u001b[0m\u001b[0;34m,\u001b[0m\u001b[0;36m0\u001b[0m\u001b[0;34m,\u001b[0m\u001b[0;36m0\u001b[0m\u001b[0;34m]\u001b[0m\u001b[0;34m]\u001b[0m\u001b[0;34m\u001b[0m\u001b[0;34m\u001b[0m\u001b[0m\n\u001b[0;32m----> 2\u001b[0;31m \u001b[0mprint\u001b[0m\u001b[0;34m(\u001b[0m\u001b[0mnp\u001b[0m\u001b[0;34m.\u001b[0m\u001b[0mtrim_zeros\u001b[0m\u001b[0;34m(\u001b[0m\u001b[0mc\u001b[0m\u001b[0;34m[\u001b[0m\u001b[0mi\u001b[0m\u001b[0;34m,\u001b[0m\u001b[0;34m:\u001b[0m\u001b[0;34m]\u001b[0m\u001b[0;34m)\u001b[0m\u001b[0;34m)\u001b[0m\u001b[0;34m\u001b[0m\u001b[0;34m\u001b[0m\u001b[0m\n\u001b[0m",
      "\u001b[0;31mTypeError\u001b[0m: list indices must be integers or slices, not tuple"
     ]
    }
   ],
   "source": [
    "c = [[1,2,0,0],[2,3,0,0]]\n",
    "print(np.trim_zeros(c[i,:]))"
   ]
  },
  {
   "cell_type": "code",
   "execution_count": 116,
   "id": "orange-powell",
   "metadata": {},
   "outputs": [],
   "source": [
    "for i in range(2):\n",
    "    d = np.trim_zeros(c[i,:])"
   ]
  },
  {
   "cell_type": "code",
   "execution_count": 117,
   "id": "utility-bracelet",
   "metadata": {},
   "outputs": [],
   "source": [
    "d = [np.trim_zeros(c[0,:]),np.trim_zeros(c[1,:])]"
   ]
  },
  {
   "cell_type": "code",
   "execution_count": 118,
   "id": "hearing-advertiser",
   "metadata": {},
   "outputs": [
    {
     "data": {
      "text/plain": [
       "[array([1, 2]), array([2, 3])]"
      ]
     },
     "execution_count": 118,
     "metadata": {},
     "output_type": "execute_result"
    }
   ],
   "source": [
    "d"
   ]
  },
  {
   "cell_type": "code",
   "execution_count": 105,
   "id": "imperial-black",
   "metadata": {},
   "outputs": [
    {
     "data": {
      "text/plain": [
       "array([[1, 1, 1],\n",
       "       [2, 2, 2]])"
      ]
     },
     "execution_count": 105,
     "metadata": {},
     "output_type": "execute_result"
    }
   ],
   "source": [
    "c"
   ]
  },
  {
   "cell_type": "code",
   "execution_count": 122,
   "id": "psychological-single",
   "metadata": {},
   "outputs": [],
   "source": [
    "import pandas as pd"
   ]
  },
  {
   "cell_type": "code",
   "execution_count": 123,
   "id": "stainless-surface",
   "metadata": {},
   "outputs": [],
   "source": [
    "lframe = pd.read_csv('/p/home/jusers/cherepashkin1/jureca/cherepashkin1/phenoseed_csv/pathes_to: 598.csv')"
   ]
  },
  {
   "cell_type": "code",
   "execution_count": 124,
   "id": "controversial-cancer",
   "metadata": {},
   "outputs": [
    {
     "data": {
      "text/html": [
       "<div>\n",
       "<style scoped>\n",
       "    .dataframe tbody tr th:only-of-type {\n",
       "        vertical-align: middle;\n",
       "    }\n",
       "\n",
       "    .dataframe tbody tr th {\n",
       "        vertical-align: top;\n",
       "    }\n",
       "\n",
       "    .dataframe thead th {\n",
       "        text-align: right;\n",
       "    }\n",
       "</style>\n",
       "<table border=\"1\" class=\"dataframe\">\n",
       "  <thead>\n",
       "    <tr style=\"text-align: right;\">\n",
       "      <th></th>\n",
       "      <th>file_name</th>\n",
       "      <th>zero_angle</th>\n",
       "    </tr>\n",
       "  </thead>\n",
       "  <tbody>\n",
       "    <tr>\n",
       "      <th>0</th>\n",
       "      <td>598csv/1484720/1492412</td>\n",
       "      <td>7</td>\n",
       "    </tr>\n",
       "    <tr>\n",
       "      <th>1</th>\n",
       "      <td>598csv/1484719/1492243</td>\n",
       "      <td>14</td>\n",
       "    </tr>\n",
       "    <tr>\n",
       "      <th>2</th>\n",
       "      <td>598csv/1484738/1494635</td>\n",
       "      <td>13</td>\n",
       "    </tr>\n",
       "    <tr>\n",
       "      <th>3</th>\n",
       "      <td>598csv/1484755/1500157</td>\n",
       "      <td>6</td>\n",
       "    </tr>\n",
       "    <tr>\n",
       "      <th>4</th>\n",
       "      <td>598csv/1484738/1494634</td>\n",
       "      <td>8</td>\n",
       "    </tr>\n",
       "    <tr>\n",
       "      <th>...</th>\n",
       "      <td>...</td>\n",
       "      <td>...</td>\n",
       "    </tr>\n",
       "    <tr>\n",
       "      <th>5265</th>\n",
       "      <td>598csv/1484734/1494120</td>\n",
       "      <td>23</td>\n",
       "    </tr>\n",
       "    <tr>\n",
       "      <th>5266</th>\n",
       "      <td>598csv/1484719/1492267</td>\n",
       "      <td>13</td>\n",
       "    </tr>\n",
       "    <tr>\n",
       "      <th>5267</th>\n",
       "      <td>598csv/1484756/1500240</td>\n",
       "      <td>20</td>\n",
       "    </tr>\n",
       "    <tr>\n",
       "      <th>5268</th>\n",
       "      <td>598csv/1484752/1499783</td>\n",
       "      <td>24</td>\n",
       "    </tr>\n",
       "    <tr>\n",
       "      <th>5269</th>\n",
       "      <td>598csv/1484743/1495681</td>\n",
       "      <td>7</td>\n",
       "    </tr>\n",
       "  </tbody>\n",
       "</table>\n",
       "<p>5270 rows × 2 columns</p>\n",
       "</div>"
      ],
      "text/plain": [
       "                   file_name  zero_angle\n",
       "0     598csv/1484720/1492412           7\n",
       "1     598csv/1484719/1492243          14\n",
       "2     598csv/1484738/1494635          13\n",
       "3     598csv/1484755/1500157           6\n",
       "4     598csv/1484738/1494634           8\n",
       "...                      ...         ...\n",
       "5265  598csv/1484734/1494120          23\n",
       "5266  598csv/1484719/1492267          13\n",
       "5267  598csv/1484756/1500240          20\n",
       "5268  598csv/1484752/1499783          24\n",
       "5269  598csv/1484743/1495681           7\n",
       "\n",
       "[5270 rows x 2 columns]"
      ]
     },
     "execution_count": 124,
     "metadata": {},
     "output_type": "execute_result"
    }
   ],
   "source": [
    "lframe"
   ]
  },
  {
   "cell_type": "code",
   "execution_count": null,
   "id": "designing-nothing",
   "metadata": {},
   "outputs": [],
   "source": [
    "df = pd.DataFrame(columns=('A', 'B'))\n",
    "for i in range(3):\n",
    "   df.loc[i] = [i, i + 1]"
   ]
  },
  {
   "cell_type": "code",
   "execution_count": 150,
   "id": "turkish-style",
   "metadata": {},
   "outputs": [],
   "source": [
    "angles_list = np.random.randint(0,35,5)"
   ]
  },
  {
   "cell_type": "code",
   "execution_count": 151,
   "id": "incorrect-gentleman",
   "metadata": {},
   "outputs": [
    {
     "data": {
      "text/plain": [
       "array([21, 27, 17, 34,  5])"
      ]
     },
     "execution_count": 151,
     "metadata": {},
     "output_type": "execute_result"
    }
   ],
   "source": [
    "angles_list"
   ]
  },
  {
   "cell_type": "code",
   "execution_count": 152,
   "id": "sustainable-necessity",
   "metadata": {},
   "outputs": [],
   "source": [
    "lframe2 = pd.DataFrame(columns=('file_name', 'angle'))\n",
    "for idx in range(5):\n",
    "    for j, angle in enumerate(angles_list):\n",
    "        if lframe.iloc[idx, 1]+angle > 36:\n",
    "            angle = lframe.iloc[idx, 1]+angle-36\n",
    "        else:\n",
    "            angle = lframe.iloc[idx, 1]+angle\n",
    "        lframe2.loc[idx*len(angles_list)+j] = [lframe.iloc[idx, 0], angle]"
   ]
  },
  {
   "cell_type": "code",
   "execution_count": 153,
   "id": "korean-perception",
   "metadata": {},
   "outputs": [
    {
     "data": {
      "text/html": [
       "<div>\n",
       "<style scoped>\n",
       "    .dataframe tbody tr th:only-of-type {\n",
       "        vertical-align: middle;\n",
       "    }\n",
       "\n",
       "    .dataframe tbody tr th {\n",
       "        vertical-align: top;\n",
       "    }\n",
       "\n",
       "    .dataframe thead th {\n",
       "        text-align: right;\n",
       "    }\n",
       "</style>\n",
       "<table border=\"1\" class=\"dataframe\">\n",
       "  <thead>\n",
       "    <tr style=\"text-align: right;\">\n",
       "      <th></th>\n",
       "      <th>file_name</th>\n",
       "      <th>angle</th>\n",
       "    </tr>\n",
       "  </thead>\n",
       "  <tbody>\n",
       "    <tr>\n",
       "      <th>0</th>\n",
       "      <td>598csv/1484720/1492412</td>\n",
       "      <td>28</td>\n",
       "    </tr>\n",
       "    <tr>\n",
       "      <th>1</th>\n",
       "      <td>598csv/1484720/1492412</td>\n",
       "      <td>34</td>\n",
       "    </tr>\n",
       "    <tr>\n",
       "      <th>2</th>\n",
       "      <td>598csv/1484720/1492412</td>\n",
       "      <td>24</td>\n",
       "    </tr>\n",
       "    <tr>\n",
       "      <th>3</th>\n",
       "      <td>598csv/1484720/1492412</td>\n",
       "      <td>5</td>\n",
       "    </tr>\n",
       "    <tr>\n",
       "      <th>4</th>\n",
       "      <td>598csv/1484720/1492412</td>\n",
       "      <td>12</td>\n",
       "    </tr>\n",
       "    <tr>\n",
       "      <th>5</th>\n",
       "      <td>598csv/1484719/1492243</td>\n",
       "      <td>35</td>\n",
       "    </tr>\n",
       "    <tr>\n",
       "      <th>6</th>\n",
       "      <td>598csv/1484719/1492243</td>\n",
       "      <td>5</td>\n",
       "    </tr>\n",
       "    <tr>\n",
       "      <th>7</th>\n",
       "      <td>598csv/1484719/1492243</td>\n",
       "      <td>31</td>\n",
       "    </tr>\n",
       "    <tr>\n",
       "      <th>8</th>\n",
       "      <td>598csv/1484719/1492243</td>\n",
       "      <td>12</td>\n",
       "    </tr>\n",
       "    <tr>\n",
       "      <th>9</th>\n",
       "      <td>598csv/1484719/1492243</td>\n",
       "      <td>19</td>\n",
       "    </tr>\n",
       "    <tr>\n",
       "      <th>10</th>\n",
       "      <td>598csv/1484738/1494635</td>\n",
       "      <td>34</td>\n",
       "    </tr>\n",
       "    <tr>\n",
       "      <th>11</th>\n",
       "      <td>598csv/1484738/1494635</td>\n",
       "      <td>4</td>\n",
       "    </tr>\n",
       "    <tr>\n",
       "      <th>12</th>\n",
       "      <td>598csv/1484738/1494635</td>\n",
       "      <td>30</td>\n",
       "    </tr>\n",
       "    <tr>\n",
       "      <th>13</th>\n",
       "      <td>598csv/1484738/1494635</td>\n",
       "      <td>11</td>\n",
       "    </tr>\n",
       "    <tr>\n",
       "      <th>14</th>\n",
       "      <td>598csv/1484738/1494635</td>\n",
       "      <td>18</td>\n",
       "    </tr>\n",
       "    <tr>\n",
       "      <th>15</th>\n",
       "      <td>598csv/1484755/1500157</td>\n",
       "      <td>27</td>\n",
       "    </tr>\n",
       "    <tr>\n",
       "      <th>16</th>\n",
       "      <td>598csv/1484755/1500157</td>\n",
       "      <td>33</td>\n",
       "    </tr>\n",
       "    <tr>\n",
       "      <th>17</th>\n",
       "      <td>598csv/1484755/1500157</td>\n",
       "      <td>23</td>\n",
       "    </tr>\n",
       "    <tr>\n",
       "      <th>18</th>\n",
       "      <td>598csv/1484755/1500157</td>\n",
       "      <td>4</td>\n",
       "    </tr>\n",
       "    <tr>\n",
       "      <th>19</th>\n",
       "      <td>598csv/1484755/1500157</td>\n",
       "      <td>11</td>\n",
       "    </tr>\n",
       "    <tr>\n",
       "      <th>20</th>\n",
       "      <td>598csv/1484738/1494634</td>\n",
       "      <td>29</td>\n",
       "    </tr>\n",
       "    <tr>\n",
       "      <th>21</th>\n",
       "      <td>598csv/1484738/1494634</td>\n",
       "      <td>35</td>\n",
       "    </tr>\n",
       "    <tr>\n",
       "      <th>22</th>\n",
       "      <td>598csv/1484738/1494634</td>\n",
       "      <td>25</td>\n",
       "    </tr>\n",
       "    <tr>\n",
       "      <th>23</th>\n",
       "      <td>598csv/1484738/1494634</td>\n",
       "      <td>6</td>\n",
       "    </tr>\n",
       "    <tr>\n",
       "      <th>24</th>\n",
       "      <td>598csv/1484738/1494634</td>\n",
       "      <td>13</td>\n",
       "    </tr>\n",
       "  </tbody>\n",
       "</table>\n",
       "</div>"
      ],
      "text/plain": [
       "                 file_name angle\n",
       "0   598csv/1484720/1492412    28\n",
       "1   598csv/1484720/1492412    34\n",
       "2   598csv/1484720/1492412    24\n",
       "3   598csv/1484720/1492412     5\n",
       "4   598csv/1484720/1492412    12\n",
       "5   598csv/1484719/1492243    35\n",
       "6   598csv/1484719/1492243     5\n",
       "7   598csv/1484719/1492243    31\n",
       "8   598csv/1484719/1492243    12\n",
       "9   598csv/1484719/1492243    19\n",
       "10  598csv/1484738/1494635    34\n",
       "11  598csv/1484738/1494635     4\n",
       "12  598csv/1484738/1494635    30\n",
       "13  598csv/1484738/1494635    11\n",
       "14  598csv/1484738/1494635    18\n",
       "15  598csv/1484755/1500157    27\n",
       "16  598csv/1484755/1500157    33\n",
       "17  598csv/1484755/1500157    23\n",
       "18  598csv/1484755/1500157     4\n",
       "19  598csv/1484755/1500157    11\n",
       "20  598csv/1484738/1494634    29\n",
       "21  598csv/1484738/1494634    35\n",
       "22  598csv/1484738/1494634    25\n",
       "23  598csv/1484738/1494634     6\n",
       "24  598csv/1484738/1494634    13"
      ]
     },
     "execution_count": 153,
     "metadata": {},
     "output_type": "execute_result"
    }
   ],
   "source": [
    "lframe2"
   ]
  },
  {
   "cell_type": "code",
   "execution_count": 154,
   "id": "supposed-replication",
   "metadata": {},
   "outputs": [],
   "source": [
    "enim = 0 if not True else 1"
   ]
  },
  {
   "cell_type": "code",
   "execution_count": 155,
   "id": "utility-richmond",
   "metadata": {},
   "outputs": [
    {
     "data": {
      "text/plain": [
       "1"
      ]
     },
     "execution_count": 155,
     "metadata": {},
     "output_type": "execute_result"
    }
   ],
   "source": [
    "enim"
   ]
  },
  {
   "cell_type": "code",
   "execution_count": 163,
   "id": "expanded-wireless",
   "metadata": {},
   "outputs": [
    {
     "data": {
      "text/plain": [
       "True"
      ]
     },
     "execution_count": 163,
     "metadata": {},
     "output_type": "execute_result"
    }
   ],
   "source": [
    "a = False\n",
    "b = True\n",
    "not a or not b"
   ]
  },
  {
   "cell_type": "code",
   "execution_count": 164,
   "id": "affiliated-touch",
   "metadata": {},
   "outputs": [
    {
     "data": {
      "text/plain": [
       "True"
      ]
     },
     "execution_count": 164,
     "metadata": {},
     "output_type": "execute_result"
    }
   ],
   "source": [
    "not(a and b)"
   ]
  },
  {
   "cell_type": "code",
   "execution_count": 165,
   "id": "deluxe-static",
   "metadata": {},
   "outputs": [],
   "source": [
    "a = np.zeros(1500)\n",
    "a = np.reshape(a,(3,500))"
   ]
  },
  {
   "cell_type": "code",
   "execution_count": 166,
   "id": "static-savings",
   "metadata": {},
   "outputs": [
    {
     "data": {
      "text/plain": [
       "(3, 500)"
      ]
     },
     "execution_count": 166,
     "metadata": {},
     "output_type": "execute_result"
    }
   ],
   "source": [
    "a.shape"
   ]
  },
  {
   "cell_type": "code",
   "execution_count": 169,
   "id": "revolutionary-specification",
   "metadata": {},
   "outputs": [
    {
     "data": {
      "text/plain": [
       "numpy.ndarray"
      ]
     },
     "execution_count": 169,
     "metadata": {},
     "output_type": "execute_result"
    }
   ],
   "source": [
    "type(a)"
   ]
  },
  {
   "cell_type": "code",
   "execution_count": 171,
   "id": "mature-medline",
   "metadata": {},
   "outputs": [
    {
     "data": {
      "text/plain": [
       "array([1500])"
      ]
     },
     "execution_count": 171,
     "metadata": {},
     "output_type": "execute_result"
    }
   ],
   "source": [
    "np.hstack((np.repeat(32, 0),1500))"
   ]
  },
  {
   "cell_type": "code",
   "execution_count": 206,
   "id": "fabulous-bullet",
   "metadata": {},
   "outputs": [],
   "source": [
    "o = np.genfromtxt('/p/home/jusers/cherepashkin1/jureca/cherepashkin1/598test/plot_output/e054/050/o', delimiter = ',')\n",
    "gt = np.genfromtxt('/p/home/jusers/cherepashkin1/jureca/cherepashkin1/598test/plot_output/e054/050/gt', delimiter = ',')"
   ]
  },
  {
   "cell_type": "code",
   "execution_count": 176,
   "id": "ideal-generation",
   "metadata": {},
   "outputs": [],
   "source": [
    "nsp = 500"
   ]
  },
  {
   "cell_type": "code",
   "execution_count": 216,
   "id": "final-lottery",
   "metadata": {},
   "outputs": [
    {
     "data": {
      "image/png": "[encoded data removed]",
      "text/plain": [
       "<Figure size 432x288 with 1 Axes>"
      ]
     },
     "metadata": {
      "needs_background": "light"
     },
     "output_type": "display_data"
    }
   ],
   "source": [
    "fig = plt.figure()\n",
    "ax = fig.add_subplot(projection='3d')\n",
    "oo = o[0]\n",
    "oo = np.transpose(oo.reshape((nsp,3)))\n",
    "#oo = oo.reshape((3,nsp))\n",
    "#gt0 = 100*np.random.rand(3,nsp)\n",
    "ax.scatter(oo[0, :], oo[1, :], oo[2, :], c='g')\n",
    "plt.show()"
   ]
  },
  {
   "cell_type": "code",
   "execution_count": 217,
   "id": "moved-joyce",
   "metadata": {},
   "outputs": [
    {
     "data": {
      "image/png": "[encoded data removed]",
      "text/plain": [
       "<Figure size 432x288 with 1 Axes>"
      ]
     },
     "metadata": {
      "needs_background": "light"
     },
     "output_type": "display_data"
    }
   ],
   "source": [
    "fig = plt.figure()\n",
    "ax = fig.add_subplot(projection='3d')\n",
    "oo = o[0]\n",
    "# oo = np.transpose(oo.reshape((nsp,3)))\n",
    "oo = oo.reshape((3,nsp))\n",
    "#gt0 = 100*np.random.rand(3,nsp)\n",
    "ax.scatter(oo[0, :], oo[1, :], oo[2, :], c='g')\n",
    "plt.show()"
   ]
  },
  {
   "cell_type": "code",
   "execution_count": 199,
   "id": "final-observer",
   "metadata": {},
   "outputs": [
    {
     "data": {
      "text/plain": [
       "(24, 1500)"
      ]
     },
     "execution_count": 199,
     "metadata": {},
     "output_type": "execute_result"
    }
   ],
   "source": [
    "gt.shape"
   ]
  },
  {
   "cell_type": "code",
   "execution_count": 200,
   "id": "institutional-lucas",
   "metadata": {},
   "outputs": [],
   "source": [
    "gt0=gt[0]"
   ]
  },
  {
   "cell_type": "code",
   "execution_count": 209,
   "id": "casual-desktop",
   "metadata": {},
   "outputs": [
    {
     "data": {
      "image/png": "[encoded data removed]",
      "text/plain": [
       "<Figure size 432x288 with 1 Axes>"
      ]
     },
     "metadata": {
      "needs_background": "light"
     },
     "output_type": "display_data"
    }
   ],
   "source": [
    "gt0 = np.reshape(gt0,(3,500))\n",
    "fig = plt.figure()\n",
    "ax = fig.add_subplot(projection='3d')\n",
    "ax.scatter(gt0[0, :], gt0[1, :], gt0[2, :], c = 'g')\n",
    "ax.scatter(oo[0, :], oo[1, :], oo[2, :], c='r')\n",
    "plt.show()"
   ]
  },
  {
   "cell_type": "code",
   "execution_count": 213,
   "id": "productive-hammer",
   "metadata": {},
   "outputs": [
    {
     "data": {
      "text/plain": [
       "0.25301361675566975"
      ]
     },
     "execution_count": 213,
     "metadata": {},
     "output_type": "execute_result"
    }
   ],
   "source": [
    "np.sum(np.abs(np.reshape(gt,(gt.shape[0], -1))\\\n",
    "                                       -o))/500/3/5270/0.8"
   ]
  },
  {
   "cell_type": "code",
   "execution_count": 227,
   "id": "incorporated-escape",
   "metadata": {},
   "outputs": [
    {
     "data": {
      "text/plain": [
       "44.44605867674599"
      ]
     },
     "execution_count": 227,
     "metadata": {},
     "output_type": "execute_result"
    }
   ],
   "source": [
    "np.sum(np.abs(np.reshape(gt,(gt.shape[0], -1))\\\n",
    "                                       -o))/500/3/24"
   ]
  },
  {
   "cell_type": "code",
   "execution_count": 229,
   "id": "piano-paste",
   "metadata": {},
   "outputs": [
    {
     "data": {
      "text/plain": [
       "44.44605867674599"
      ]
     },
     "execution_count": 229,
     "metadata": {},
     "output_type": "execute_result"
    }
   ],
   "source": [
    "np.mean(np.abs(np.reshape(gt,(gt.shape[0], -1))-o))"
   ]
  },
  {
   "cell_type": "code",
   "execution_count": 220,
   "id": "satisfied-adaptation",
   "metadata": {},
   "outputs": [],
   "source": [
    "ans = np.reshape(gt,(gt.shape[0], -1))-o"
   ]
  },
  {
   "cell_type": "code",
   "execution_count": 221,
   "id": "growing-dancing",
   "metadata": {},
   "outputs": [
    {
     "data": {
      "text/plain": [
       "(24, 1500)"
      ]
     },
     "execution_count": 221,
     "metadata": {},
     "output_type": "execute_result"
    }
   ],
   "source": [
    "ans.shape"
   ]
  },
  {
   "cell_type": "code",
   "execution_count": 224,
   "id": "existing-walker",
   "metadata": {},
   "outputs": [
    {
     "data": {
      "text/plain": [
       "[<matplotlib.lines.Line2D at 0x7fdd1a171e80>]"
      ]
     },
     "execution_count": 224,
     "metadata": {},
     "output_type": "execute_result"
    },
    {
     "data": {
      "image/png": "[encoded data removed]",
      "text/plain": [
       "<Figure size 432x288 with 1 Axes>"
      ]
     },
     "metadata": {
      "needs_background": "light"
     },
     "output_type": "display_data"
    }
   ],
   "source": [
    "plt.plot(ans[0,:])"
   ]
  },
  {
   "cell_type": "code",
   "execution_count": 204,
   "id": "cooked-topic",
   "metadata": {},
   "outputs": [
    {
     "data": {
      "text/plain": [
       "array([-0.54922979, -0.14721808, -0.01391124])"
      ]
     },
     "execution_count": 204,
     "metadata": {},
     "output_type": "execute_result"
    }
   ],
   "source": [
    "np.mean(gt0,axis=1)"
   ]
  },
  {
   "cell_type": "code",
   "execution_count": null,
   "id": "accredited-facial",
   "metadata": {},
   "outputs": [],
   "source": [
    "p = torch.zeros(\\\n",
    "    inputs.shape[0],3,nsp).cuda()\n",
    "for i in range(inputs.shape[0]):\n",
    "    Far = torch.matmul(y_n2[i], f_n[i])\n",
    "    p[i,0,:]=Far*torch.cos(dirs[i,:,0])*\\\n",
    "        torch.sin(dirs[i,:,1])\n",
    "    p[i,1,:]=Far*torch.sin(dirs[i,:,0])*\\\n",
    "        torch.sin(dirs[i,:,1])\n",
    "    p[i,2,:]=Far*torch.cos(dirs[i,:,1])\n",
    "    p[i,:,:] = torch.matmul(\n",
    "        torch.transpose(torch.squeeze(\n",
    "            C[int(angles_list[i]/10),:,:]),0,1),p[i,:,:])"
   ]
  },
  {
   "cell_type": "code",
   "execution_count": 196,
   "id": "special-rehabilitation",
   "metadata": {},
   "outputs": [],
   "source": [
    "a = np.zeros([40,3,500])\n",
    "b = np.reshape(a,(40,-1))"
   ]
  },
  {
   "cell_type": "code",
   "execution_count": 197,
   "id": "solved-vintage",
   "metadata": {},
   "outputs": [
    {
     "data": {
      "text/plain": [
       "(40, 1500)"
      ]
     },
     "execution_count": 197,
     "metadata": {},
     "output_type": "execute_result"
    }
   ],
   "source": [
    "b.shape"
   ]
  },
  {
   "cell_type": "code",
   "execution_count": 231,
   "id": "figured-sight",
   "metadata": {},
   "outputs": [],
   "source": [
    "a = np.load('/p/home/jusers/cherepashkin1/jureca/cherepashkin1/598test/plot_output/e054/051/lossar.npy')"
   ]
  },
  {
   "cell_type": "code",
   "execution_count": 235,
   "id": "swedish-chance",
   "metadata": {},
   "outputs": [
    {
     "data": {
      "text/plain": [
       "(0.0, 200.0)"
      ]
     },
     "execution_count": 235,
     "metadata": {},
     "output_type": "execute_result"
    },
    {
     "data": {
      "image/png": "[encoded data removed]",
      "text/plain": [
       "<Figure size 432x288 with 1 Axes>"
      ]
     },
     "metadata": {
      "needs_background": "light"
     },
     "output_type": "display_data"
    }
   ],
   "source": [
    "plt.plot(a[0,:])\n",
    "plt.plot(a[1,:])\n",
    "plt.ylim(0,200)"
   ]
  },
  {
   "cell_type": "code",
   "execution_count": 2,
   "id": "binding-improvement",
   "metadata": {},
   "outputs": [],
   "source": [
    "import os"
   ]
  },
  {
   "cell_type": "code",
   "execution_count": 4,
   "id": "suffering-guess",
   "metadata": {},
   "outputs": [
    {
     "data": {
      "text/plain": [
       "'/p/home/jusers/cherepashkin1/jureca/circles/finetune_test'"
      ]
     },
     "execution_count": 4,
     "metadata": {},
     "output_type": "execute_result"
    }
   ],
   "source": [
    "os.getcwd()"
   ]
  },
  {
   "cell_type": "code",
   "execution_count": null,
   "id": "behind-pleasure",
   "metadata": {},
   "outputs": [],
   "source": [
    "from chamferdist import "
   ]
  },
  {
   "cell_type": "code",
   "execution_count": 5,
   "id": "norwegian-attachment",
   "metadata": {},
   "outputs": [
    {
     "ename": "ImportError",
     "evalue": "cannot import name '_C' from 'chamferdist' (unknown location)",
     "output_type": "error",
     "traceback": [
      "\u001b[0;31m---------------------------------------------------------------------------\u001b[0m",
      "\u001b[0;31mImportError\u001b[0m                               Traceback (most recent call last)",
      "\u001b[0;32m<ipython-input-5-619083904156>\u001b[0m in \u001b[0;36m<module>\u001b[0;34m\u001b[0m\n\u001b[0;32m----> 1\u001b[0;31m \u001b[0;32mimport\u001b[0m \u001b[0mchamfer\u001b[0m\u001b[0;34m\u001b[0m\u001b[0;34m\u001b[0m\u001b[0m\n\u001b[0m",
      "\u001b[0;32m~/circles/finetune_test/chamfer.py\u001b[0m in \u001b[0;36m<module>\u001b[0;34m\u001b[0m\n\u001b[1;32m     10\u001b[0m \u001b[0;34m\u001b[0m\u001b[0m\n\u001b[1;32m     11\u001b[0m \u001b[0;31m# Throws an error without this import\u001b[0m\u001b[0;34m\u001b[0m\u001b[0;34m\u001b[0m\u001b[0;34m\u001b[0m\u001b[0m\n\u001b[0;32m---> 12\u001b[0;31m \u001b[0;32mfrom\u001b[0m \u001b[0mchamferdist\u001b[0m \u001b[0;32mimport\u001b[0m \u001b[0m_C\u001b[0m\u001b[0;34m\u001b[0m\u001b[0;34m\u001b[0m\u001b[0m\n\u001b[0m\u001b[1;32m     13\u001b[0m \u001b[0;32mfrom\u001b[0m \u001b[0mtorch\u001b[0m\u001b[0;34m.\u001b[0m\u001b[0mautograd\u001b[0m \u001b[0;32mimport\u001b[0m \u001b[0mFunction\u001b[0m\u001b[0;34m\u001b[0m\u001b[0;34m\u001b[0m\u001b[0m\n\u001b[1;32m     14\u001b[0m \u001b[0;32mfrom\u001b[0m \u001b[0mtorch\u001b[0m\u001b[0;34m.\u001b[0m\u001b[0mautograd\u001b[0m\u001b[0;34m.\u001b[0m\u001b[0mfunction\u001b[0m \u001b[0;32mimport\u001b[0m \u001b[0monce_differentiable\u001b[0m\u001b[0;34m\u001b[0m\u001b[0;34m\u001b[0m\u001b[0m\n",
      "\u001b[0;31mImportError\u001b[0m: cannot import name '_C' from 'chamferdist' (unknown location)"
     ]
    }
   ],
   "source": [
    "import chamfer"
   ]
  },
  {
   "cell_type": "code",
   "execution_count": 2,
   "id": "certain-premises",
   "metadata": {},
   "outputs": [
    {
     "name": "stdout",
     "output_type": "stream",
     "text": [
      "/usr/bin/sh: /p/home/jusers/cherepashkin1/juwels/scalable_dl/sdl_venv/sdl_venv/venv/bin/pip: /p/home/jusers/cherepashkin1/juwels/scalable_dl/sdl_venv/sdl_venv/venv/bin/python: bad interpreter: No such file or directory\n"
     ]
    }
   ],
   "source": [
    "!pip install chamferdist"
   ]
  },
  {
   "cell_type": "code",
   "execution_count": 1,
   "id": "asian-weekend",
   "metadata": {},
   "outputs": [
    {
     "ename": "ImportError",
     "evalue": "cannot import name 'ChamferDistance' from 'chamferdist' (unknown location)",
     "output_type": "error",
     "traceback": [
      "\u001b[0;31m---------------------------------------------------------------------------\u001b[0m",
      "\u001b[0;31mImportError\u001b[0m                               Traceback (most recent call last)",
      "\u001b[0;32m<ipython-input-1-7211d19c5ca8>\u001b[0m in \u001b[0;36m<module>\u001b[0;34m\u001b[0m\n\u001b[0;32m----> 1\u001b[0;31m \u001b[0;32mfrom\u001b[0m \u001b[0mchamferdist\u001b[0m \u001b[0;32mimport\u001b[0m \u001b[0mChamferDistance\u001b[0m\u001b[0;34m\u001b[0m\u001b[0;34m\u001b[0m\u001b[0m\n\u001b[0m",
      "\u001b[0;31mImportError\u001b[0m: cannot import name 'ChamferDistance' from 'chamferdist' (unknown location)"
     ]
    }
   ],
   "source": [
    "from chamferdist import ChamferDistance"
   ]
  },
  {
   "cell_type": "code",
   "execution_count": 4,
   "id": "organizational-plaintiff",
   "metadata": {},
   "outputs": [
    {
     "data": {
      "text/plain": [
       "'/p/home/jusers/cherepashkin1/jureca/circles/finetune_test'"
      ]
     },
     "execution_count": 4,
     "metadata": {},
     "output_type": "execute_result"
    }
   ],
   "source": [
    "os.getcwd()"
   ]
  },
  {
   "cell_type": "code",
   "execution_count": 6,
   "id": "adapted-plane",
   "metadata": {},
   "outputs": [
    {
     "name": "stderr",
     "output_type": "stream",
     "text": [
      "/p/software/jurecadc/stages/2020/software/PyTorch/1.7.0-gcccoremkl-9.3.0-2020.2.254-Python-3.8.5/lib/python3.8/site-packages/torch/utils/cpp_extension.py:253: UserWarning: \n",
      "\n",
      "                               !! WARNING !!\n",
      "\n",
      "!!!!!!!!!!!!!!!!!!!!!!!!!!!!!!!!!!!!!!!!!!!!!!!!!!!!!!!!!!!!!!!!!!!!!!!!!!!!!!!\n",
      "Your compiler (c++) is not compatible with the compiler Pytorch was\n",
      "built with for this platform, which is g++ on linux. Please\n",
      "use g++ to to compile your extension. Alternatively, you may\n",
      "compile PyTorch from source using c++, and then you can also use\n",
      "c++ to compile your extension.\n",
      "\n",
      "See https://github.com/pytorch/pytorch/blob/master/CONTRIBUTING.md for help\n",
      "with compiling PyTorch from source.\n",
      "!!!!!!!!!!!!!!!!!!!!!!!!!!!!!!!!!!!!!!!!!!!!!!!!!!!!!!!!!!!!!!!!!!!!!!!!!!!!!!!\n",
      "\n",
      "                              !! WARNING !!\n",
      "\n",
      "  warnings.warn(WRONG_COMPILER_WARNING.format(\n"
     ]
    }
   ],
   "source": [
    "import torch\n",
    "import os\n",
    "from torch.utils.cpp_extension import load\n",
    "\n",
    "\n",
    "#f_path = os.path.dirname(__file__)\n",
    "f_path = os.getcwd()\n",
    "cd = load(name=\"cd\",\n",
    "          sources=[ f_path + '/chamfer_distance.cpp',\n",
    "                    f_path + '/chamfer_distance.cu'])\n",
    "\n",
    "\n",
    "class ChamferDistanceFunction(torch.autograd.Function):\n",
    "    @staticmethod\n",
    "    def forward(ctx, xyz1, xyz2):\n",
    "        batchsize, n, _ = xyz1.size()\n",
    "        _, m, _ = xyz2.size()\n",
    "        xyz1 = xyz1.contiguous()\n",
    "        xyz2 = xyz2.contiguous()\n",
    "        dist1 = torch.zeros(batchsize, n)\n",
    "        dist2 = torch.zeros(batchsize, m)\n",
    "\n",
    "        idx1 = torch.zeros(batchsize, n, dtype=torch.int)\n",
    "        idx2 = torch.zeros(batchsize, m, dtype=torch.int)\n",
    "\n",
    "        if not xyz1.is_cuda:\n",
    "            cd.forward(xyz1, xyz2, dist1, dist2, idx1, idx2)\n",
    "        else:\n",
    "            dist1 = dist1.cuda()\n",
    "            dist2 = dist2.cuda()\n",
    "            idx1 = idx1.cuda()\n",
    "            idx2 = idx2.cuda()\n",
    "            cd.forward_cuda(xyz1, xyz2, dist1, dist2, idx1, idx2)\n",
    "\n",
    "        ctx.save_for_backward(xyz1, xyz2, idx1, idx2)\n",
    "\n",
    "        return dist1, dist2, idx1, idx2\n",
    "\n",
    "    @staticmethod\n",
    "    def backward(ctx, graddist1, graddist2):\n",
    "        xyz1, xyz2, idx1, idx2 = ctx.saved_tensors\n",
    "\n",
    "        graddist1 = graddist1.contiguous()\n",
    "        graddist2 = graddist2.contiguous()\n",
    "\n",
    "        gradxyz1 = torch.zeros(xyz1.size())\n",
    "        gradxyz2 = torch.zeros(xyz2.size())\n",
    "\n",
    "        if not graddist1.is_cuda:\n",
    "            cd.backward(xyz1, xyz2, gradxyz1, gradxyz2, graddist1, graddist2, idx1, idx2)\n",
    "        else:\n",
    "            gradxyz1 = gradxyz1.cuda()\n",
    "            gradxyz2 = gradxyz2.cuda()\n",
    "            cd.backward_cuda(xyz1, xyz2, gradxyz1, gradxyz2, graddist1, graddist2, idx1, idx2)\n",
    "\n",
    "        return gradxyz1, gradxyz2\n",
    "\n",
    "\n",
    "class ChamferDistance(torch.nn.Module):\n",
    "    def forward(self, xyz1, xyz2):\n",
    "        return ChamferDistanceFunction.apply(xyz1, xyz2)"
   ]
  },
  {
   "cell_type": "code",
   "execution_count": 13,
   "id": "limited-warrant",
   "metadata": {},
   "outputs": [],
   "source": [
    "import numpy as np\n",
    "import matplotlib.pyplot as plt"
   ]
  },
  {
   "cell_type": "code",
   "execution_count": 14,
   "id": "welcome-recycling",
   "metadata": {},
   "outputs": [],
   "source": [
    "lossar = np.load('/p/home/jusers/cherepashkin1/jureca/cherepashkin1/598test/plot_output/e054/065/lossar.npy')"
   ]
  },
  {
   "cell_type": "code",
   "execution_count": 21,
   "id": "wound-philip",
   "metadata": {},
   "outputs": [
    {
     "data": {
      "text/plain": [
       "Text(0, 0.5, 'loss')"
      ]
     },
     "execution_count": 21,
     "metadata": {},
     "output_type": "execute_result"
    },
    {
     "data": {
      "image/png": "[encoded data removed]",
      "text/plain": [
       "<Figure size 432x288 with 1 Axes>"
      ]
     },
     "metadata": {
      "needs_background": "light"
     },
     "output_type": "display_data"
    }
   ],
   "source": [
    "plt.plot(lossar[0,:])\n",
    "plt.plot(lossar[1,:])\n",
    "plt.ylim(0,5)\n",
    "plt.xlabel('epoch')\n",
    "plt.ylabel('loss')"
   ]
  },
  {
   "cell_type": "code",
   "execution_count": 3,
   "id": "apparent-branch",
   "metadata": {},
   "outputs": [
    {
     "ename": "ModuleNotFoundError",
     "evalue": "No module named 'wandb'",
     "output_type": "error",
     "traceback": [
      "\u001b[0;31m---------------------------------------------------------------------------\u001b[0m",
      "\u001b[0;31mModuleNotFoundError\u001b[0m                       Traceback (most recent call last)",
      "\u001b[0;32m<ipython-input-3-cd35ee5d166e>\u001b[0m in \u001b[0;36m<module>\u001b[0;34m\u001b[0m\n\u001b[0;32m----> 1\u001b[0;31m \u001b[0;32mimport\u001b[0m \u001b[0mwandb\u001b[0m\u001b[0;34m\u001b[0m\u001b[0;34m\u001b[0m\u001b[0m\n\u001b[0m",
      "\u001b[0;31mModuleNotFoundError\u001b[0m: No module named 'wandb'"
     ]
    }
   ],
   "source": [
    "import wandb"
   ]
  },
  {
   "cell_type": "code",
   "execution_count": 1,
   "id": "blank-semiconductor",
   "metadata": {},
   "outputs": [],
   "source": [
    "import numpy as np"
   ]
  },
  {
   "cell_type": "code",
   "execution_count": 2,
   "id": "protected-drive",
   "metadata": {},
   "outputs": [
    {
     "data": {
      "text/plain": [
       "array([0., 0., 0., 0., 0.])"
      ]
     },
     "execution_count": 2,
     "metadata": {},
     "output_type": "execute_result"
    }
   ],
   "source": [
    "np.zeros(5)"
   ]
  },
  {
   "cell_type": "code",
   "execution_count": null,
   "id": "stuck-story",
   "metadata": {},
   "outputs": [],
   "source": []
  }
 ],
 "metadata": {
  "kernelspec": {
   "display_name": "Python 3",
   "language": "python",
   "name": "python3"
  },
  "language_info": {
   "codemirror_mode": {
    "name": "ipython",
    "version": 3
   },
   "file_extension": ".py",
   "mimetype": "text/x-python",
   "name": "python",
   "nbconvert_exporter": "python",
   "pygments_lexer": "ipython3",
   "version": "3.8.5"
  }
 },
 "nbformat": 4,
 "nbformat_minor": 5
}
