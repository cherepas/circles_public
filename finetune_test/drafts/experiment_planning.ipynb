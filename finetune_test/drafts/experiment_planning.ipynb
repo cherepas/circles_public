{
 "cells": [
  {
   "cell_type": "code",
   "execution_count": null,
   "metadata": {},
   "outputs": [],
   "source": []
  },
  {
   "cell_type": "code",
   "execution_count": null,
   "metadata": {},
   "outputs": [],
   "source": [
    "import numpy as np"
   ]
  },
  {
   "cell_type": "code",
   "execution_count": null,
   "metadata": {},
   "outputs": [],
   "source": [
    "from itertools import combinations\n",
    "\n",
    "\n",
    "def place_ones(size, count):\n",
    "    for positions in combinations(range(size), count):\n",
    "        p = [0] * size\n",
    "\n",
    "        for i in positions:\n",
    "            p[i] = 1\n",
    "\n",
    "        yield p"
   ]
  },
  {
   "cell_type": "code",
   "execution_count": null,
   "metadata": {},
   "outputs": [],
   "source": [
    "k = 4\n",
    "maxk = 4\n",
    "nl = list()\n",
    "while k > 0:\n",
    "    nl += list(place_ones(maxk,k))\n",
    "    k-=1\n",
    "nl+=[[0]*maxk]\n",
    "exa = np.array(nl)\n",
    "print(exa.shape)\n",
    "print(exa)"
   ]
  },
  {
   "cell_type": "code",
   "execution_count": null,
   "metadata": {},
   "outputs": [],
   "source": []
  },
  {
   "cell_type": "code",
   "execution_count": null,
   "metadata": {},
   "outputs": [],
   "source": [
    "numpar = 4\n",
    "nl = list(place_ones(numpar,1))\n",
    "nl+=[[0,]*numpar]\n",
    "nl+=[[1,]*numpar]\n",
    "nl+=[[0,]*numpar]\n",
    "exa = np.array(nl)\n",
    "print(exa.shape)\n",
    "print(exa)"
   ]
  },
  {
   "cell_type": "code",
   "execution_count": null,
   "metadata": {},
   "outputs": [],
   "source": [
    "#exa = [[1, 0, 0, 0],[0, 1, 0, 0],[0, 0, 1, 0],[0, 0, 0, 1],[0, 0, 0, 0],[0, 0, 0, 0],[0, 0, 0, 0],[1, 1, 1, 1]]\n",
    "#exa = bool(exa)\n",
    "exa = np.array(exa, dtype=bool)\n",
    "#ampcrop,minmax,minmax3dimage,downsample,normalize,center,amplcrop"
   ]
  },
  {
   "cell_type": "code",
   "execution_count": null,
   "metadata": {},
   "outputs": [],
   "source": [
    "exa[0][1]"
   ]
  },
  {
   "cell_type": "code",
   "execution_count": null,
   "metadata": {},
   "outputs": [],
   "source": [
    "exb = np.zeros((exa.shape[0],exa.shape[1]),dtype=object)\n",
    "for i in range(exa.shape[0]):\n",
    "    for j in range(exa.shape[1]):\n",
    "        if exa[i,j]:\n",
    "            exb[i,j] = 'true'\n",
    "        else:\n",
    "            exb[i,j] = 'false'"
   ]
  },
  {
   "cell_type": "code",
   "execution_count": null,
   "metadata": {},
   "outputs": [],
   "source": [
    "exb = np.zeros((exa.shape[0],exa.shape[1]),dtype=object)\n",
    "for i in range(exa.shape[0]):\n",
    "    for j in range(exa.shape[1]):\n",
    "        if exa[i,j]:\n",
    "            exb[i,j] = ' -'\n",
    "        else:\n",
    "            exb[i,j] = ' -no-'"
   ]
  },
  {
   "cell_type": "code",
   "execution_count": null,
   "metadata": {},
   "outputs": [],
   "source": [
    "print(exb)"
   ]
  },
  {
   "cell_type": "code",
   "execution_count": null,
   "metadata": {},
   "outputs": [],
   "source": [
    "print(exa.shape[0])"
   ]
  },
  {
   "cell_type": "code",
   "execution_count": null,
   "metadata": {},
   "outputs": [],
   "source": [
    "ampcrop_l = [441, 441, 441, 441, 220, 441, 441, 220]\n",
    "downsample_l = [1,1,1,1,1,1,1,1]\n",
    "datatype_l = [1001,1001,1001,1001,1000,1000,1001]\n",
    "#datatype_l = ['1001', '1001', '1001', '1001', '1000', '1000', '1001']"
   ]
  },
  {
   "cell_type": "code",
   "execution_count": null,
   "metadata": {},
   "outputs": [],
   "source": [
    "s = list()\n",
    "exb = exa\n",
    "for i in range(exa.shape[0]):\n",
    "    s.append(' -minmax '+str(exb[i][0])+' -minmax3dimage '+str(exb[i][1]) + \\\n",
    "    ' -normalize '+ str(exb[i][2]) + ' -center '+ str(exb[i][3])+' -classicnorm ' + str(datatype_l[i])\n",
    ")"
   ]
  },
  {
   "cell_type": "code",
   "execution_count": null,
   "metadata": {},
   "outputs": [],
   "source": [
    "expnum = '016'"
   ]
  },
  {
   "cell_type": "code",
   "execution_count": null,
   "metadata": {},
   "outputs": [],
   "source": [
    "s = list()\n",
    "#exb = exa\n",
    "varn = ['minimax3dimage','normalize','center','classicnorm']\n",
    "for i in range(exb.shape[0]):\n",
    "    news=str()\n",
    "    for j in range(len(varn)):\n",
    "        news+=str(exb[i][j])+varn[j]\n",
    "    s.append(news+' -expnum ' + expnum)"
   ]
  },
  {
   "cell_type": "code",
   "execution_count": null,
   "metadata": {},
   "outputs": [],
   "source": [
    "s[2]"
   ]
  },
  {
   "cell_type": "code",
   "execution_count": null,
   "metadata": {},
   "outputs": [],
   "source": [
    "bsa = np.arange(10,100,10)\n",
    "#bsa = np.arange(50,550,50)\n",
    "#print(bsa)\n",
    "s = list()\n",
    "for i in range(bsa.shape[0]):\n",
    "    s.append(' -bs '+str(bsa[i]))"
   ]
  },
  {
   "cell_type": "code",
   "execution_count": null,
   "metadata": {},
   "outputs": [],
   "source": [
    "print(s[0])"
   ]
  },
  {
   "cell_type": "code",
   "execution_count": null,
   "metadata": {},
   "outputs": [],
   "source": [
    "#data_transforms"
   ]
  },
  {
   "cell_type": "code",
   "execution_count": null,
   "metadata": {},
   "outputs": [],
   "source": [
    "os.chdir('/p/home/jusers/cherepashkin1/jureca/circles/finetune_test')"
   ]
  },
  {
   "cell_type": "code",
   "execution_count": null,
   "metadata": {},
   "outputs": [],
   "source": [
    "file1 = open(\"template.txt\",\"r+\") \n",
    "  \n",
    "print(\"Output of Read function is \")\n",
    "template = file1.read()\n",
    "print(template)\n",
    "print()\n",
    "file1.close()"
   ]
  },
  {
   "cell_type": "code",
   "execution_count": null,
   "metadata": {},
   "outputs": [],
   "source": [
    "expnum = '017'"
   ]
  },
  {
   "cell_type": "code",
   "execution_count": null,
   "metadata": {},
   "outputs": [],
   "source": [
    "os.mkdir('/p/home/jusers/cherepashkin1/jureca/circles/finetune_test/experiments/'+expnum)\n",
    "os.mkdir('/p/home/jusers/cherepashkin1/jureca/circles/finetune_test/experiments/'+expnum+'/output')"
   ]
  },
  {
   "cell_type": "code",
   "execution_count": null,
   "metadata": {},
   "outputs": [],
   "source": [
    "for i,item in enumerate(s):\n",
    "    with open(\"./experiments/\"+expnum+\"/sh-{}.sh\".format(i), \"w\") as f:\n",
    "        f.write(template)\n",
    "        f.write(item)"
   ]
  },
  {
   "cell_type": "code",
   "execution_count": null,
   "metadata": {},
   "outputs": [],
   "source": [
    "#os.mkdir('/p/home/jusers/cherepashkin1/jureca/circles/finetune_test/experiments/013/output')"
   ]
  },
  {
   "cell_type": "markdown",
   "metadata": {},
   "source": [
    "# Grid search experiment setup"
   ]
  },
  {
   "cell_type": "code",
   "execution_count": null,
   "metadata": {},
   "outputs": [],
   "source": [
    "expnum = '019'"
   ]
  },
  {
   "cell_type": "code",
   "execution_count": null,
   "metadata": {},
   "outputs": [],
   "source": [
    "hdm = 'hidden_dim = np.hstack((np.repeat(128, 10),512))'"
   ]
  },
  {
   "cell_type": "code",
   "execution_count": null,
   "metadata": {},
   "outputs": [],
   "source": [
    "exec(hdm)"
   ]
  },
  {
   "cell_type": "code",
   "execution_count": null,
   "metadata": {},
   "outputs": [],
   "source": [
    "hidden_dim"
   ]
  },
  {
   "cell_type": "code",
   "execution_count": null,
   "metadata": {},
   "outputs": [],
   "source": [
    "import os"
   ]
  },
  {
   "cell_type": "code",
   "execution_count": null,
   "metadata": {},
   "outputs": [],
   "source": [
    "s = list()\n",
    "for i in range(1,11,1):\n",
    "    s.append(' -expnum \"' + expnum + '\" -hidden_dim \"hidden_dim = np.hstack((np.repeat(128, '+str(i)+'),441))\"')"
   ]
  },
  {
   "cell_type": "code",
   "execution_count": null,
   "metadata": {},
   "outputs": [],
   "source": [
    "s[0]"
   ]
  },
  {
   "cell_type": "code",
   "execution_count": null,
   "metadata": {},
   "outputs": [],
   "source": [
    "os.mkdir('/p/home/jusers/cherepashkin1/jureca/circles/finetune_test/experiments/'+expnum)\n",
    "os.mkdir('/p/home/jusers/cherepashkin1/jureca/circles/finetune_test/experiments/'+expnum+'/output')"
   ]
  },
  {
   "cell_type": "code",
   "execution_count": null,
   "metadata": {},
   "outputs": [],
   "source": []
  },
  {
   "cell_type": "code",
   "execution_count": null,
   "metadata": {},
   "outputs": [],
   "source": [
    "file1 = open(\"/p/home/jusers/cherepashkin1/jureca/circles/finetune_test/template.txt\",\"r+\") \n",
    "  \n",
    "print(\"Output of Read function is \")\n",
    "template = file1.read()\n",
    "print(template)\n",
    "print()\n",
    "file1.close()"
   ]
  },
  {
   "cell_type": "code",
   "execution_count": null,
   "metadata": {},
   "outputs": [],
   "source": [
    "for i,item in enumerate(s):\n",
    "    with open(\"/p/home/jusers/cherepashkin1/jureca/circles/finetune_test/experiments/\"+expnum+\"/sh-{}.sh\".format(i), \"w\") as f:\n",
    "        f.write(template)\n",
    "        f.write(item)"
   ]
  },
  {
   "cell_type": "markdown",
   "metadata": {},
   "source": [
    "## Grid search: neurons in FC layers"
   ]
  },
  {
   "cell_type": "code",
   "execution_count": null,
   "metadata": {},
   "outputs": [],
   "source": [
    "import os\n",
    "import numpy as np"
   ]
  },
  {
   "cell_type": "code",
   "execution_count": null,
   "metadata": {},
   "outputs": [],
   "source": [
    "expnum = '021'"
   ]
  },
  {
   "cell_type": "code",
   "execution_count": null,
   "metadata": {},
   "outputs": [],
   "source": [
    "s = list()\n",
    "for i in range(50,155,5):\n",
    "    s.append(' -expnum \"' + expnum + '\" -hidden_dim \"hidden_dim = np.hstack((np.repeat('+str(i)+', '+str(3)+'),441))\"')"
   ]
  },
  {
   "cell_type": "code",
   "execution_count": null,
   "metadata": {},
   "outputs": [],
   "source": [
    "s"
   ]
  },
  {
   "cell_type": "code",
   "execution_count": null,
   "metadata": {},
   "outputs": [],
   "source": [
    "os.mkdir('/p/home/jusers/cherepashkin1/jureca/circles/finetune_test/experiments/'+expnum)\n",
    "os.mkdir('/p/home/jusers/cherepashkin1/jureca/circles/finetune_test/experiments/'+expnum+'/output')"
   ]
  },
  {
   "cell_type": "code",
   "execution_count": null,
   "metadata": {},
   "outputs": [],
   "source": [
    "file1 = open(\"template.txt\",\"r+\") \n",
    "  \n",
    "print(\"Output of Read function is \")\n",
    "template = file1.read()\n",
    "print(template)\n",
    "print()\n",
    "file1.close()"
   ]
  },
  {
   "cell_type": "code",
   "execution_count": null,
   "metadata": {},
   "outputs": [],
   "source": [
    "for i,item in enumerate(s):\n",
    "    with open(\"./experiments/\"+expnum+\"/sh-{}.sh\".format(i), \"w\") as f:\n",
    "        f.write(template)\n",
    "        f.write(item)"
   ]
  },
  {
   "cell_type": "code",
   "execution_count": null,
   "metadata": {},
   "outputs": [],
   "source": [
    "print(s[0])"
   ]
  },
  {
   "cell_type": "code",
   "execution_count": null,
   "metadata": {},
   "outputs": [],
   "source": [
    "import torchvision\n",
    "from torchvision import transforms"
   ]
  },
  {
   "cell_type": "code",
   "execution_count": null,
   "metadata": {},
   "outputs": [],
   "source": [
    "minmax,minmax3dimage,normalize,center=['']*4\n",
    "inmax_f,minmax3dimage_f,normalize_f,center_f=[True]*4\n",
    "if minmax_f:\n",
    "    minmax = 'Minmax(tmean[:,:ampl]), '\n",
    "else: \n",
    "    minmax = ''  \n",
    "if minmax3dimage_f:\n",
    "    minmax3dimage = 'Minmax3Dimage((0.60117054538415,110.972068294924)), '\n",
    "else: \n",
    "    minmax3dimage = '' \n",
    "if normalize_f:\n",
    "    normalize = 'Normalize(), '\n",
    "else: \n",
    "    normalize = ''\n",
    "if center_f:\n",
    "    center = 'Center(), '\n",
    "else: \n",
    "    center = ''    \n",
    "exec(\"data_transforms = {\\'train\\': transforms.Compose([\"+\\\n",
    "     minmax+minmax3dimage+normalize+center+\\\n",
    "     \"AmpCrop(opt.ampl),Downsample(opt.downsample),ToTensor(device)]),\\\n",
    "     'val': transforms.Compose([\"+\\\n",
    "     minmax+minmax3dimage+normalize+center+\\\n",
    "     \"AmpCrop(opt.ampl),Downsample(opt.downsample),ToTensor(device)])}\")"
   ]
  },
  {
   "cell_type": "markdown",
   "metadata": {},
   "source": [
    "# Name folder with automatic increment"
   ]
  },
  {
   "cell_type": "code",
   "execution_count": null,
   "metadata": {},
   "outputs": [],
   "source": [
    "os.chdir('/p/home/jusers/cherepashkin1/jureca/cherepashkin1/598test/plot_output/000')"
   ]
  },
  {
   "cell_type": "code",
   "execution_count": null,
   "metadata": {},
   "outputs": [],
   "source": [
    "pwd = os.getcwd()"
   ]
  },
  {
   "cell_type": "code",
   "execution_count": null,
   "metadata": {},
   "outputs": [],
   "source": [
    "i = 0\n",
    "while True:\n",
    "    n = str(i)\n",
    "    dir1 = pwd+'/'+n.zfill(3)\n",
    "    if not os.path.exists(dir1):\n",
    "        os.mkdir(dir1)\n",
    "        break\n",
    "    else:\n",
    "        i+=1\n",
    "        continue"
   ]
  },
  {
   "cell_type": "code",
   "execution_count": null,
   "metadata": {},
   "outputs": [],
   "source": [
    "n = '11'\n",
    "n.zfill(3)"
   ]
  },
  {
   "cell_type": "markdown",
   "metadata": {},
   "source": [
    "# learning rate search"
   ]
  },
  {
   "cell_type": "code",
   "execution_count": null,
   "metadata": {},
   "outputs": [],
   "source": [
    "expnum = '022'"
   ]
  },
  {
   "cell_type": "code",
   "execution_count": null,
   "metadata": {},
   "outputs": [],
   "source": [
    "np.arange(1e-4,1e-2,)"
   ]
  },
  {
   "cell_type": "code",
   "execution_count": null,
   "metadata": {},
   "outputs": [],
   "source": [
    "s = list()\n",
    "#[5e-6, 1e-5, 5e-5, 1e-4, 5e-3, 1e-3, 5e-3, 1e-2]\n",
    "for lr in np.arange(5e-4,1e-2,5e-4):\n",
    "    #print(i)\n",
    "    s.append(' -expnum ' + expnum + ' -lr ' + str(lr) + ' -hidden_dim \"hidden_dim = np.hstack((np.repeat(128, '+str(3)+'),441))\"')"
   ]
  },
  {
   "cell_type": "code",
   "execution_count": null,
   "metadata": {},
   "outputs": [],
   "source": [
    "s"
   ]
  },
  {
   "cell_type": "code",
   "execution_count": null,
   "metadata": {},
   "outputs": [],
   "source": []
  },
  {
   "cell_type": "code",
   "execution_count": null,
   "metadata": {},
   "outputs": [],
   "source": [
    "file1 = open(\"template.txt\",\"r+\") \n",
    "  \n",
    "print(\"Output of Read function is \")\n",
    "template = file1.read()\n",
    "print(template)\n",
    "print()\n",
    "file1.close()"
   ]
  },
  {
   "cell_type": "code",
   "execution_count": null,
   "metadata": {},
   "outputs": [],
   "source": [
    "os.mkdir('/p/home/jusers/cherepashkin1/jureca/circles/finetune_test/experiments/'+expnum)\n",
    "os.mkdir('/p/home/jusers/cherepashkin1/jureca/circles/finetune_test/experiments/'+expnum+'/output')"
   ]
  },
  {
   "cell_type": "code",
   "execution_count": null,
   "metadata": {},
   "outputs": [],
   "source": [
    "for i,item in enumerate(s):\n",
    "    with open(\"./experiments/\"+expnum+\"/sh-{}.sh\".format(i), \"w\") as f:\n",
    "        f.write(template)\n",
    "        f.write(item)"
   ]
  },
  {
   "cell_type": "markdown",
   "metadata": {},
   "source": [
    "# search of different size of output vector"
   ]
  },
  {
   "cell_type": "code",
   "execution_count": null,
   "metadata": {},
   "outputs": [],
   "source": [
    "expnum = '023'"
   ]
  },
  {
   "cell_type": "code",
   "execution_count": null,
   "metadata": {},
   "outputs": [],
   "source": [
    "s = list()\n",
    "#[5e-6, 1e-5, 5e-5, 1e-4, 5e-3, 1e-3, 5e-3, 1e-2]\n",
    "for i in np.arange(5,20):\n",
    "    #print(i)\n",
    "    s.append(' -expnum ' + expnum + ' -ampl ' + \\\n",
    "             str(i**2)+' -hidden_dim \"hidden_dim = np.hstack((np.repeat(128, 3),' + str(i**2) + '))\"' )"
   ]
  },
  {
   "cell_type": "code",
   "execution_count": null,
   "metadata": {},
   "outputs": [],
   "source": [
    "s"
   ]
  },
  {
   "cell_type": "code",
   "execution_count": null,
   "metadata": {},
   "outputs": [],
   "source": [
    "file1 = open(\"template.txt\",\"r+\") \n",
    "  \n",
    "print(\"Output of Read function is \")\n",
    "template = file1.read()\n",
    "print(template)\n",
    "print()\n",
    "file1.close()"
   ]
  },
  {
   "cell_type": "code",
   "execution_count": null,
   "metadata": {},
   "outputs": [],
   "source": [
    "for i,item in enumerate(s):\n",
    "    with open(\"./experiments/\"+expnum+\"/sh-{}.sh\".format(i), \"w\") as f:\n",
    "        f.write(template)\n",
    "        f.write(item)"
   ]
  },
  {
   "cell_type": "markdown",
   "metadata": {},
   "source": [
    "# Vary num input images"
   ]
  },
  {
   "cell_type": "code",
   "execution_count": null,
   "metadata": {},
   "outputs": [],
   "source": [
    "import numpy as np"
   ]
  },
  {
   "cell_type": "code",
   "execution_count": null,
   "metadata": {},
   "outputs": [],
   "source": [
    "expnum = '027'"
   ]
  },
  {
   "cell_type": "code",
   "execution_count": 48,
   "metadata": {},
   "outputs": [],
   "source": [
    "s = list()\n",
    "#[5e-6, 1e-5, 5e-5, 1e-4, 5e-3, 1e-3, 5e-3, 1e-2]\n",
    "for i in np.arange(1,37,3):\n",
    "    #print(i)\n",
    "    s.append(' -expnum ' + expnum + ' -num_input_images ' + str(i))"
   ]
  },
  {
   "cell_type": "code",
   "execution_count": 49,
   "metadata": {},
   "outputs": [
    {
     "data": {
      "text/plain": [
       "[' -expnum 027 -num_input_images 1',\n",
       " ' -expnum 027 -num_input_images 4',\n",
       " ' -expnum 027 -num_input_images 7',\n",
       " ' -expnum 027 -num_input_images 10',\n",
       " ' -expnum 027 -num_input_images 13',\n",
       " ' -expnum 027 -num_input_images 16',\n",
       " ' -expnum 027 -num_input_images 19',\n",
       " ' -expnum 027 -num_input_images 22',\n",
       " ' -expnum 027 -num_input_images 25',\n",
       " ' -expnum 027 -num_input_images 28',\n",
       " ' -expnum 027 -num_input_images 31',\n",
       " ' -expnum 027 -num_input_images 34']"
      ]
     },
     "execution_count": 49,
     "metadata": {},
     "output_type": "execute_result"
    }
   ],
   "source": [
    "s"
   ]
  },
  {
   "cell_type": "code",
   "execution_count": null,
   "metadata": {},
   "outputs": [],
   "source": [
    "mainpath = '/p/home/jusers/cherepashkin1/jureca/circles/finetune_test/experiments/027/sh-0.sh'\n",
    "file1 = open(mainpath,\"r+\") \n",
    "  \n",
    "print(\"Output of Read function is \")\n",
    "template = file1.read()\n",
    "print(template)\n",
    "print()\n",
    "file1.close()"
   ]
  },
  {
   "cell_type": "code",
   "execution_count": null,
   "metadata": {},
   "outputs": [],
   "source": [
    "for i,item in enumerate(s):\n",
    "    with open(\"./experiments/\"+expnum+\"/sh-{}.sh\".format(i), \"w\") as f:\n",
    "        f.write(template)\n",
    "        f.write(item)"
   ]
  },
  {
   "cell_type": "code",
   "execution_count": 47,
   "metadata": {},
   "outputs": [
    {
     "name": "stdout",
     "output_type": "stream",
     "text": [
      "0\n",
      "10\n",
      "20\n",
      "30\n",
      "40\n",
      "60\n",
      "70\n",
      "80\n",
      "90\n",
      "100\n",
      "120\n",
      "130\n",
      "140\n",
      "150\n",
      "160\n",
      "180\n",
      "190\n",
      "200\n",
      "210\n",
      "220\n",
      "240\n",
      "250\n",
      "260\n",
      "270\n",
      "280\n",
      "300\n",
      "310\n",
      "320\n",
      "330\n",
      "340\n"
     ]
    }
   ],
   "source": [
    "nim = 30\n",
    "for i in range(nim):\n",
    "#    print(360)\n",
    "    print(10*int(36*i/nim))"
   ]
  },
  {
   "cell_type": "code",
   "execution_count": null,
   "metadata": {},
   "outputs": [],
   "source": [
    "for i in range(1,37):\n",
    "    print(360/i)"
   ]
  },
  {
   "cell_type": "code",
   "execution_count": 33,
   "metadata": {},
   "outputs": [
    {
     "ename": "NameError",
     "evalue": "name 'floor' is not defined",
     "output_type": "error",
     "traceback": [
      "\u001b[0;31m---------------------------------------------------------------------------\u001b[0m",
      "\u001b[0;31mNameError\u001b[0m                                 Traceback (most recent call last)",
      "\u001b[0;32m<ipython-input-33-a20d82571d5a>\u001b[0m in \u001b[0;36m<module>\u001b[0;34m\u001b[0m\n\u001b[0;32m----> 1\u001b[0;31m \u001b[0mfloor\u001b[0m\u001b[0;34m(\u001b[0m\u001b[0;36m5.5\u001b[0m\u001b[0;34m)\u001b[0m\u001b[0;34m\u001b[0m\u001b[0;34m\u001b[0m\u001b[0m\n\u001b[0m",
      "\u001b[0;31mNameError\u001b[0m: name 'floor' is not defined"
     ]
    }
   ],
   "source": [
    "i(5.5)"
   ]
  },
  {
   "cell_type": "code",
   "execution_count": 50,
   "metadata": {},
   "outputs": [
    {
     "data": {
      "text/plain": [
       "7"
      ]
     },
     "execution_count": 50,
     "metadata": {},
     "output_type": "execute_result"
    }
   ],
   "source": [
    "len( [96, 128, 256, 256, 256, 256, 256])"
   ]
  },
  {
   "cell_type": "markdown",
   "metadata": {},
   "source": [
    "# Vary number of conv layers"
   ]
  },
  {
   "cell_type": "code",
   "execution_count": null,
   "metadata": {},
   "outputs": [],
   "source": []
  },
  {
   "cell_type": "code",
   "execution_count": 55,
   "metadata": {},
   "outputs": [],
   "source": [
    "expnum = '026'"
   ]
  },
  {
   "cell_type": "code",
   "execution_count": 58,
   "metadata": {},
   "outputs": [],
   "source": [
    "s = list()\n",
    "for i in range(1,11,1):\n",
    "    s.append(' -chidden_dim \"chidden_dim = np.hstack((96,128,np.repeat(256, '+str(i)+')))\"')"
   ]
  },
  {
   "cell_type": "code",
   "execution_count": 59,
   "metadata": {},
   "outputs": [
    {
     "data": {
      "text/plain": [
       "' -chidden_dim \"chidden_dim = np.hstack((96,128,np.repeat(256, 1)))\"'"
      ]
     },
     "execution_count": 59,
     "metadata": {},
     "output_type": "execute_result"
    }
   ],
   "source": [
    "s[0]"
   ]
  },
  {
   "cell_type": "code",
   "execution_count": 60,
   "metadata": {},
   "outputs": [
    {
     "ename": "NameError",
     "evalue": "name 'os' is not defined",
     "output_type": "error",
     "traceback": [
      "\u001b[0;31m---------------------------------------------------------------------------\u001b[0m",
      "\u001b[0;31mNameError\u001b[0m                                 Traceback (most recent call last)",
      "\u001b[0;32m<ipython-input-60-fcf60fec158a>\u001b[0m in \u001b[0;36m<module>\u001b[0;34m\u001b[0m\n\u001b[0;32m----> 1\u001b[0;31m \u001b[0mos\u001b[0m\u001b[0;34m.\u001b[0m\u001b[0mmkdir\u001b[0m\u001b[0;34m(\u001b[0m\u001b[0;34m'/p/home/jusers/cherepashkin1/jureca/circles/finetune_test/experiments/'\u001b[0m\u001b[0;34m+\u001b[0m\u001b[0mexpnum\u001b[0m\u001b[0;34m)\u001b[0m\u001b[0;34m\u001b[0m\u001b[0;34m\u001b[0m\u001b[0m\n\u001b[0m\u001b[1;32m      2\u001b[0m \u001b[0mos\u001b[0m\u001b[0;34m.\u001b[0m\u001b[0mmkdir\u001b[0m\u001b[0;34m(\u001b[0m\u001b[0;34m'/p/home/jusers/cherepashkin1/jureca/circles/finetune_test/experiments/'\u001b[0m\u001b[0;34m+\u001b[0m\u001b[0mexpnum\u001b[0m\u001b[0;34m+\u001b[0m\u001b[0;34m'/output'\u001b[0m\u001b[0;34m)\u001b[0m\u001b[0;34m\u001b[0m\u001b[0;34m\u001b[0m\u001b[0m\n",
      "\u001b[0;31mNameError\u001b[0m: name 'os' is not defined"
     ]
    }
   ],
   "source": [
    "os.mkdir('/p/home/jusers/cherepashkin1/jureca/circles/finetune_test/experiments/'+expnum)\n",
    "os.mkdir('/p/home/jusers/cherepashkin1/jureca/circles/finetune_test/experiments/'+expnum+'/output')"
   ]
  },
  {
   "cell_type": "code",
   "execution_count": null,
   "metadata": {},
   "outputs": [],
   "source": []
  },
  {
   "cell_type": "code",
   "execution_count": 61,
   "metadata": {},
   "outputs": [
    {
     "name": "stdout",
     "output_type": "stream",
     "text": [
      "Output of Read function is \n",
      "#!/bin/bash\n",
      "#SBATCH --nodes=2\n",
      "#SBATCH --ntasks=8\n",
      "#SBATCH --ntasks-per-node=4\n",
      "#SBATCH --cpus-per-task=24\n",
      "#SBATCH --output=./output/sh3d-%j.out\n",
      "#SBATCH --error=./output/sh3d-%j.err\n",
      "#SBATCH --time=23:00:00\n",
      "#SBATCH --partition=dc-gpu\n",
      "#SBATCH --gres=gpu:4\n",
      "\n",
      "#SBATCH --account=delia-mp\n",
      "\n",
      "#source /p/project/training2107/course2021_working_environment/activate.sh\n",
      "module load GCC/9.3.0 OpenMPI/4.1.0rc1 Python/3.8.5 Horovod/0.20.3-Python-3.8.5 PyTorch/1.7.0-Python-3.8.5 scikit/2020-Python-3.8.5 torchvision/0.8.2-Python-3.8.5 \n",
      "#OpenMPI/4.1.0rc1 OpenMPI mpi4py TensorFlow \n",
      "HOROVOD_MPI_THREADS_DISABLE=0\n",
      "source /p/home/jusers/cherepashkin1/juwels/scalable_dl/sdl_venv/sdl_venv/activate.sh\n",
      "# make sure all GPUs on a node are visible\n",
      "export CUDA_VISIBLE_DEVICES=\"0,1,2,3\"\n",
      "\n",
      "srun --cpu-bind=none,v python3 -u /p/home/jusers/cherepashkin1/jureca/circles/finetune_test/sh-clean-hvd.py -bn 5000 -epoch 20 -bs 50 -no_minmax -no_normalize -no_center -classicnorm -lr 5e-3 -ampl 441 -weight_decay 0  -expnum 027 -num_input_images 1 -expnum 027 -num_input_images 1\n",
      "\n"
     ]
    }
   ],
   "source": [
    "mainpath = '/p/home/jusers/cherepashkin1/jureca/circles/finetune_test/experiments/027/sh-0.sh'\n",
    "\n",
    "file1 = open(mainpath,\"r+\") \n",
    "  \n",
    "print(\"Output of Read function is \")\n",
    "template = file1.read()\n",
    "print(template)\n",
    "print()\n",
    "file1.close()"
   ]
  },
  {
   "cell_type": "code",
   "execution_count": 62,
   "metadata": {},
   "outputs": [],
   "source": [
    "for i,item in enumerate(s):\n",
    "    with open(\"/p/home/jusers/cherepashkin1/jureca/circles/finetune_test/experiments/\"+expnum+\"/sh-{}.sh\".format(i), \"w\") as f:\n",
    "        f.write(template)\n",
    "        f.write(item)"
   ]
  },
  {
   "cell_type": "code",
   "execution_count": null,
   "metadata": {},
   "outputs": [],
   "source": []
  },
  {
   "cell_type": "markdown",
   "metadata": {},
   "source": [
    "# Vary number of filters in conv layers"
   ]
  },
  {
   "cell_type": "code",
   "execution_count": 73,
   "metadata": {},
   "outputs": [],
   "source": [
    "import os"
   ]
  },
  {
   "cell_type": "code",
   "execution_count": 74,
   "metadata": {},
   "outputs": [],
   "source": [
    "expnum = '028'"
   ]
  },
  {
   "cell_type": "code",
   "execution_count": 75,
   "metadata": {},
   "outputs": [],
   "source": [
    "s = list()\n",
    "for i in [16,32,48,64,96,128,192,256]:\n",
    "    s.append(' -expnum '+expnum+' -chidden_dim \"chidden_dim = np.hstack((96,128,np.repeat('+str(i)+', 2)))\"')"
   ]
  },
  {
   "cell_type": "code",
   "execution_count": 76,
   "metadata": {},
   "outputs": [
    {
     "data": {
      "text/plain": [
       "' -expnum 028 -chidden_dim \"chidden_dim = np.hstack((96,128,np.repeat(16, 2)))\"'"
      ]
     },
     "execution_count": 76,
     "metadata": {},
     "output_type": "execute_result"
    }
   ],
   "source": [
    "s[0]"
   ]
  },
  {
   "cell_type": "code",
   "execution_count": 68,
   "metadata": {},
   "outputs": [],
   "source": [
    "os.mkdir('/p/home/jusers/cherepashkin1/jureca/circles/finetune_test/experiments/'+expnum)\n",
    "os.mkdir('/p/home/jusers/cherepashkin1/jureca/circles/finetune_test/experiments/'+expnum+'/output')"
   ]
  },
  {
   "cell_type": "code",
   "execution_count": null,
   "metadata": {},
   "outputs": [],
   "source": []
  },
  {
   "cell_type": "code",
   "execution_count": 81,
   "metadata": {},
   "outputs": [
    {
     "name": "stdout",
     "output_type": "stream",
     "text": [
      "Output of Read function is \n",
      "#!/bin/bash\n",
      "#SBATCH --nodes=2\n",
      "#SBATCH --ntasks=8\n",
      "#SBATCH --ntasks-per-node=4\n",
      "#SBATCH --cpus-per-task=24\n",
      "#SBATCH --output=./output/sh3d-%j.out\n",
      "#SBATCH --error=./output/sh3d-%j.err\n",
      "#SBATCH --time=23:00:00\n",
      "#SBATCH --partition=dc-gpu\n",
      "#SBATCH --gres=gpu:4\n",
      "\n",
      "#SBATCH --account=delia-mp\n",
      "\n",
      "#source /p/project/training2107/course2021_working_environment/activate.sh\n",
      "module load GCC/9.3.0 OpenMPI/4.1.0rc1 Python/3.8.5 Horovod/0.20.3-Python-3.8.5 PyTorch/1.7.0-Python-3.8.5 scikit/2020-Python-3.8.5 torchvision/0.8.2-Python-3.8.5 \n",
      "#OpenMPI/4.1.0rc1 OpenMPI mpi4py TensorFlow \n",
      "HOROVOD_MPI_THREADS_DISABLE=0\n",
      "source /p/home/jusers/cherepashkin1/juwels/scalable_dl/sdl_venv/sdl_venv/activate.sh\n",
      "# make sure all GPUs on a node are visible\n",
      "export CUDA_VISIBLE_DEVICES=\"0,1,2,3\"\n",
      "\n",
      "srun --cpu-bind=none,v python3 -u /p/home/jusers/cherepashkin1/jureca/circles/finetune_test/sh-clean-hvd.py -bn 5000 -epoch 100 -bs 50 -no_minmax -no_normalize -no_center -classicnorm -lr 5e-3 -ampl 441 -weight_decay 0 -num_input_images 1\n",
      "\n"
     ]
    }
   ],
   "source": [
    "mainpath = '/p/home/jusers/cherepashkin1/jureca/circles/finetune_test/template.txt'\n",
    "\n",
    "file1 = open(mainpath,\"r+\") \n",
    "  \n",
    "print(\"Output of Read function is \")\n",
    "template = file1.read()\n",
    "print(template)\n",
    "print()\n",
    "file1.close()"
   ]
  },
  {
   "cell_type": "code",
   "execution_count": 82,
   "metadata": {},
   "outputs": [],
   "source": [
    "for i,item in enumerate(s):\n",
    "    with open(\"/p/home/jusers/cherepashkin1/jureca/circles/finetune_test/experiments/\"+expnum+\"/sh-{}.sh\".format(i), \"w\") as f:\n",
    "        f.write(template)\n",
    "        f.write(item)"
   ]
  },
  {
   "cell_type": "markdown",
   "metadata": {},
   "source": [
    "# 029 Vary downsample"
   ]
  },
  {
   "cell_type": "code",
   "execution_count": null,
   "metadata": {},
   "outputs": [],
   "source": []
  },
  {
   "cell_type": "code",
   "execution_count": 73,
   "metadata": {},
   "outputs": [],
   "source": [
    "import os"
   ]
  },
  {
   "cell_type": "code",
   "execution_count": 83,
   "metadata": {},
   "outputs": [],
   "source": [
    "expnum = '029'"
   ]
  },
  {
   "cell_type": "code",
   "execution_count": 85,
   "metadata": {},
   "outputs": [],
   "source": [
    "s = list()\n",
    "for i in [1,1.5,2,2.5,3,5,10,20]:\n",
    "    s.append(' -expnum '+expnum+' -downsample ' +str(i))"
   ]
  },
  {
   "cell_type": "code",
   "execution_count": 86,
   "metadata": {},
   "outputs": [
    {
     "data": {
      "text/plain": [
       "' -expnum 029 -downsample 1'"
      ]
     },
     "execution_count": 86,
     "metadata": {},
     "output_type": "execute_result"
    }
   ],
   "source": [
    "s[0]"
   ]
  },
  {
   "cell_type": "code",
   "execution_count": 87,
   "metadata": {},
   "outputs": [],
   "source": [
    "os.mkdir('/p/home/jusers/cherepashkin1/jureca/circles/finetune_test/experiments/'+expnum)\n",
    "os.mkdir('/p/home/jusers/cherepashkin1/jureca/circles/finetune_test/experiments/'+expnum+'/output')"
   ]
  },
  {
   "cell_type": "code",
   "execution_count": null,
   "metadata": {},
   "outputs": [],
   "source": []
  },
  {
   "cell_type": "code",
   "execution_count": 90,
   "metadata": {},
   "outputs": [
    {
     "name": "stdout",
     "output_type": "stream",
     "text": [
      "Output of Read function is \n",
      "#!/bin/bash\n",
      "#SBATCH --nodes=2\n",
      "#SBATCH --ntasks=8\n",
      "#SBATCH --ntasks-per-node=4\n",
      "#SBATCH --cpus-per-task=24\n",
      "#SBATCH --output=./output/sh3d-%j.out\n",
      "#SBATCH --error=./output/sh3d-%j.err\n",
      "#SBATCH --time=23:00:00\n",
      "#SBATCH --partition=dc-gpu\n",
      "#SBATCH --gres=gpu:4\n",
      "\n",
      "#SBATCH --account=delia-mp\n",
      "\n",
      "#source /p/project/training2107/course2021_working_environment/activate.sh\n",
      "module load GCC/9.3.0 OpenMPI/4.1.0rc1 Python/3.8.5 Horovod/0.20.3-Python-3.8.5 PyTorch/1.7.0-Python-3.8.5 scikit/2020-Python-3.8.5 torchvision/0.8.2-Python-3.8.5 \n",
      "#OpenMPI/4.1.0rc1 OpenMPI mpi4py TensorFlow \n",
      "HOROVOD_MPI_THREADS_DISABLE=0\n",
      "source /p/home/jusers/cherepashkin1/juwels/scalable_dl/sdl_venv/sdl_venv/activate.sh\n",
      "# make sure all GPUs on a node are visible\n",
      "export CUDA_VISIBLE_DEVICES=\"0,1,2,3\"\n",
      "\n",
      "srun --cpu-bind=none,v python3 -u /p/home/jusers/cherepashkin1/jureca/circles/finetune_test/sh-clean-hvd.py -bn 5000 -epoch 100 -bs 50 -no_minmax -no_normalize -no_center -classicnorm -lr 5e-3 -ampl 441 -weight_decay 0 -num_input_images 1\n",
      "\n"
     ]
    }
   ],
   "source": [
    "mainpath = '/p/home/jusers/cherepashkin1/jureca/circles/finetune_test/template.txt'\n",
    "\n",
    "file1 = open(mainpath,\"r+\") \n",
    "  \n",
    "print(\"Output of Read function is \")\n",
    "template = file1.read()\n",
    "print(template)\n",
    "print()\n",
    "file1.close()"
   ]
  },
  {
   "cell_type": "code",
   "execution_count": 92,
   "metadata": {},
   "outputs": [],
   "source": [
    "for i,item in enumerate(s):\n",
    "    with open(\"/p/home/jusers/cherepashkin1/jureca/circles/finetune_test/experiments/\"+expnum+\"/sh-{}.sh\".format(i), \"w\") as f:\n",
    "        f.write(template)\n",
    "        f.write(item)"
   ]
  },
  {
   "cell_type": "markdown",
   "metadata": {},
   "source": [
    "# 030 Vary kernel size"
   ]
  },
  {
   "cell_type": "code",
   "execution_count": 147,
   "metadata": {},
   "outputs": [],
   "source": [
    "def getsize(new_hi,ker,srd): \n",
    "    pad = np.asarray((0,0))\n",
    "    dil = np.asarray((1,1))\n",
    "    new_size = np.asarray(new_hi)\n",
    "    ker = np.asarray(ker)\n",
    "    srd = np.asarray(srd)\n",
    "    return(tuple((np.squeeze(\\\n",
    "        (new_size+2*pad-dil*[ker-1]-1)/srd+1\\\n",
    "        )).astype(int)))"
   ]
  },
  {
   "cell_type": "code",
   "execution_count": 148,
   "metadata": {},
   "outputs": [
    {
     "name": "stdout",
     "output_type": "stream",
     "text": [
      "109 199\n"
     ]
    }
   ],
   "source": [
    "(new_h, new_w) = (225,405)\n",
    "(new_h, new_w) = getsize((new_h, new_w),7,1)\n",
    "(new_h, new_w) = getsize((new_h, new_w),2,2)\n",
    "print(new_h, new_w)"
   ]
  },
  {
   "cell_type": "code",
   "execution_count": 152,
   "metadata": {},
   "outputs": [],
   "source": [
    "import torch.nn as nn"
   ]
  },
  {
   "cell_type": "code",
   "execution_count": 156,
   "metadata": {},
   "outputs": [],
   "source": [
    "rescale_val = 225\n",
    "current_dim = 1\n",
    "chidden_dim = np.hstack((96,128,np.repeat(256, 3)))\n",
    "kernel_sizes = np.hstack((7,np.repeat(1, 5)))\n",
    "srd = 1\n",
    "(new_h, new_w) = (rescale_val, 1.8*rescale_val)\n",
    "layers = nn.ModuleList()\n",
    "for i in range(len(chidden_dim)):\n",
    "    layers.append(nn.Conv2d(current_dim, chidden_dim[i], kernel_sizes[i]))\n",
    "    current_dim = chidden_dim[i]\n",
    "    (new_h, new_w) = getsize((new_h, new_w),kernel_sizes[i],srd)\n",
    "    (new_h, new_w) = getsize((new_h, new_w),2,2)"
   ]
  },
  {
   "cell_type": "code",
   "execution_count": 157,
   "metadata": {},
   "outputs": [
    {
     "name": "stdout",
     "output_type": "stream",
     "text": [
      "6 12\n"
     ]
    }
   ],
   "source": [
    "print(new_h, new_w)"
   ]
  },
  {
   "cell_type": "code",
   "execution_count": 112,
   "metadata": {},
   "outputs": [],
   "source": [
    "a = np.hstack((7,np.repeat(3, 5)))"
   ]
  },
  {
   "cell_type": "code",
   "execution_count": 113,
   "metadata": {},
   "outputs": [
    {
     "name": "stdout",
     "output_type": "stream",
     "text": [
      "(6,)\n"
     ]
    }
   ],
   "source": [
    "print(a.shape)"
   ]
  },
  {
   "cell_type": "code",
   "execution_count": 111,
   "metadata": {},
   "outputs": [
    {
     "ename": "AttributeError",
     "evalue": "'list' object has no attribute 'shape'",
     "output_type": "error",
     "traceback": [
      "\u001b[0;31m---------------------------------------------------------------------------\u001b[0m",
      "\u001b[0;31mAttributeError\u001b[0m                            Traceback (most recent call last)",
      "\u001b[0;32m<ipython-input-111-6f8ab5099782>\u001b[0m in \u001b[0;36m<module>\u001b[0;34m\u001b[0m\n\u001b[1;32m      1\u001b[0m \u001b[0ma\u001b[0m \u001b[0;34m=\u001b[0m \u001b[0;34m[\u001b[0m\u001b[0;36m1\u001b[0m\u001b[0;34m,\u001b[0m \u001b[0;36m2\u001b[0m\u001b[0;34m,\u001b[0m \u001b[0;36m3\u001b[0m\u001b[0;34m]\u001b[0m\u001b[0;34m\u001b[0m\u001b[0;34m\u001b[0m\u001b[0m\n\u001b[0;32m----> 2\u001b[0;31m \u001b[0mprint\u001b[0m\u001b[0;34m(\u001b[0m\u001b[0ma\u001b[0m\u001b[0;34m.\u001b[0m\u001b[0mshape\u001b[0m\u001b[0;34m)\u001b[0m\u001b[0;34m\u001b[0m\u001b[0;34m\u001b[0m\u001b[0m\n\u001b[0m",
      "\u001b[0;31mAttributeError\u001b[0m: 'list' object has no attribute 'shape'"
     ]
    }
   ],
   "source": [
    "a = [1, 2, 3]\n",
    "print(a.shape)"
   ]
  },
  {
   "cell_type": "code",
   "execution_count": null,
   "metadata": {},
   "outputs": [],
   "source": []
  },
  {
   "cell_type": "markdown",
   "metadata": {},
   "source": [
    "# Vary kernel size"
   ]
  },
  {
   "cell_type": "code",
   "execution_count": 73,
   "metadata": {},
   "outputs": [],
   "source": [
    "import os"
   ]
  },
  {
   "cell_type": "code",
   "execution_count": 117,
   "metadata": {},
   "outputs": [],
   "source": [
    "expnum = '030'"
   ]
  },
  {
   "cell_type": "code",
   "execution_count": 118,
   "metadata": {},
   "outputs": [],
   "source": [
    "s = list()\n",
    "for i in [1,2,3,4,5,6,7]:\n",
    "    s.append(' -expnum '+expnum+' -kernel_sizes \"kernel_sizes = np.hstack((7,np.repeat('+str(i)+', 5)))\"')"
   ]
  },
  {
   "cell_type": "code",
   "execution_count": 119,
   "metadata": {},
   "outputs": [
    {
     "data": {
      "text/plain": [
       "' -expnum 030 -kernel_sizes \"kernel_sizes = np.hstack((7,np.repeat(1, 5)))\"'"
      ]
     },
     "execution_count": 119,
     "metadata": {},
     "output_type": "execute_result"
    }
   ],
   "source": [
    "s[0]"
   ]
  },
  {
   "cell_type": "code",
   "execution_count": 120,
   "metadata": {},
   "outputs": [],
   "source": [
    "os.mkdir('/p/home/jusers/cherepashkin1/jureca/circles/finetune_test/experiments/'+expnum)\n",
    "os.mkdir('/p/home/jusers/cherepashkin1/jureca/circles/finetune_test/experiments/'+expnum+'/output')"
   ]
  },
  {
   "cell_type": "code",
   "execution_count": null,
   "metadata": {},
   "outputs": [],
   "source": []
  },
  {
   "cell_type": "code",
   "execution_count": 121,
   "metadata": {},
   "outputs": [
    {
     "name": "stdout",
     "output_type": "stream",
     "text": [
      "Output of Read function is \n",
      "#!/bin/bash\n",
      "#SBATCH --nodes=2\n",
      "#SBATCH --ntasks=8\n",
      "#SBATCH --ntasks-per-node=4\n",
      "#SBATCH --cpus-per-task=24\n",
      "#SBATCH --output=./output/sh3d-%j.out\n",
      "#SBATCH --error=./output/sh3d-%j.err\n",
      "#SBATCH --time=23:00:00\n",
      "#SBATCH --partition=dc-gpu\n",
      "#SBATCH --gres=gpu:4\n",
      "\n",
      "#SBATCH --account=delia-mp\n",
      "\n",
      "#source /p/project/training2107/course2021_working_environment/activate.sh\n",
      "module load GCC/9.3.0 OpenMPI/4.1.0rc1 Python/3.8.5 Horovod/0.20.3-Python-3.8.5 PyTorch/1.7.0-Python-3.8.5 scikit/2020-Python-3.8.5 torchvision/0.8.2-Python-3.8.5 \n",
      "#OpenMPI/4.1.0rc1 OpenMPI mpi4py TensorFlow \n",
      "HOROVOD_MPI_THREADS_DISABLE=0\n",
      "source /p/home/jusers/cherepashkin1/juwels/scalable_dl/sdl_venv/sdl_venv/activate.sh\n",
      "# make sure all GPUs on a node are visible\n",
      "export CUDA_VISIBLE_DEVICES=\"0,1,2,3\"\n",
      "\n",
      "srun --cpu-bind=none,v python3 -u /p/home/jusers/cherepashkin1/jureca/circles/finetune_test/sh-clean-hvd.py -bn 5000 -epoch 100 -bs 50 -no_minmax -no_normalize -no_center -classicnorm -lr 5e-3 -ampl 441 -weight_decay 0 -num_input_images 1\n",
      "\n"
     ]
    }
   ],
   "source": [
    "mainpath = '/p/home/jusers/cherepashkin1/jureca/circles/finetune_test/template.txt'\n",
    "\n",
    "file1 = open(mainpath,\"r+\") \n",
    "  \n",
    "print(\"Output of Read function is \")\n",
    "template = file1.read()\n",
    "print(template)\n",
    "print()\n",
    "file1.close()"
   ]
  },
  {
   "cell_type": "code",
   "execution_count": 122,
   "metadata": {},
   "outputs": [],
   "source": [
    "for i,item in enumerate(s):\n",
    "    with open(\"/p/home/jusers/cherepashkin1/jureca/circles/finetune_test/experiments/\"+expnum+\"/sh-{}.sh\".format(i), \"w\") as f:\n",
    "        f.write(template)\n",
    "        f.write(item)"
   ]
  },
  {
   "cell_type": "markdown",
   "metadata": {},
   "source": [
    "# Vary rescale"
   ]
  },
  {
   "cell_type": "code",
   "execution_count": 169,
   "metadata": {},
   "outputs": [],
   "source": [
    "expnum = '031'"
   ]
  },
  {
   "cell_type": "code",
   "execution_count": 170,
   "metadata": {},
   "outputs": [],
   "source": [
    "s = list()\n",
    "for i in range(100,1100,100):\n",
    "    s.append(' -expnum '+expnum+' -rescale '+str(i))"
   ]
  },
  {
   "cell_type": "code",
   "execution_count": 171,
   "metadata": {},
   "outputs": [
    {
     "data": {
      "text/plain": [
       "' -expnum 031 -rescale 1000'"
      ]
     },
     "execution_count": 171,
     "metadata": {},
     "output_type": "execute_result"
    }
   ],
   "source": [
    "s[9]"
   ]
  },
  {
   "cell_type": "code",
   "execution_count": 172,
   "metadata": {},
   "outputs": [],
   "source": [
    "os.mkdir('/p/home/jusers/cherepashkin1/jureca/circles/finetune_test/experiments/'+expnum)\n",
    "os.mkdir('/p/home/jusers/cherepashkin1/jureca/circles/finetune_test/experiments/'+expnum+'/output')"
   ]
  },
  {
   "cell_type": "code",
   "execution_count": 173,
   "metadata": {},
   "outputs": [
    {
     "data": {
      "text/plain": [
       "True"
      ]
     },
     "execution_count": 173,
     "metadata": {},
     "output_type": "execute_result"
    }
   ],
   "source": [
    "1!=(1,2)"
   ]
  },
  {
   "cell_type": "code",
   "execution_count": 174,
   "metadata": {},
   "outputs": [
    {
     "name": "stdout",
     "output_type": "stream",
     "text": [
      "Output of Read function is \n",
      "#!/bin/bash\n",
      "#SBATCH --nodes=2\n",
      "#SBATCH --ntasks=8\n",
      "#SBATCH --ntasks-per-node=4\n",
      "#SBATCH --cpus-per-task=24\n",
      "#SBATCH --output=./output/sh3d-%j.out\n",
      "#SBATCH --error=./output/sh3d-%j.err\n",
      "#SBATCH --time=23:00:00\n",
      "#SBATCH --partition=dc-gpu\n",
      "#SBATCH --gres=gpu:4\n",
      "\n",
      "#SBATCH --account=delia-mp\n",
      "\n",
      "#source /p/project/training2107/course2021_working_environment/activate.sh\n",
      "module load GCC/9.3.0 OpenMPI/4.1.0rc1 Python/3.8.5 Horovod/0.20.3-Python-3.8.5 PyTorch/1.7.0-Python-3.8.5 scikit/2020-Python-3.8.5 torchvision/0.8.2-Python-3.8.5 \n",
      "#OpenMPI/4.1.0rc1 OpenMPI mpi4py TensorFlow \n",
      "HOROVOD_MPI_THREADS_DISABLE=0\n",
      "source /p/home/jusers/cherepashkin1/juwels/scalable_dl/sdl_venv/sdl_venv/activate.sh\n",
      "# make sure all GPUs on a node are visible\n",
      "export CUDA_VISIBLE_DEVICES=\"0,1,2,3\"\n",
      "\n",
      "srun --cpu-bind=none,v python3 -u /p/home/jusers/cherepashkin1/jureca/circles/finetune_test/sh-clean-hvd.py -bn 5000 -epoch 100 -bs 50 -no_minmax -no_normalize -no_center -classicnorm -lr 5e-3 -ampl 441 -weight_decay 0 -num_input_images 1\n",
      "\n"
     ]
    }
   ],
   "source": [
    "mainpath = '/p/home/jusers/cherepashkin1/jureca/circles/finetune_test/template.txt'\n",
    "\n",
    "file1 = open(mainpath,\"r+\") \n",
    "  \n",
    "print(\"Output of Read function is \")\n",
    "template = file1.read()\n",
    "print(template)\n",
    "print()\n",
    "file1.close()"
   ]
  },
  {
   "cell_type": "code",
   "execution_count": 175,
   "metadata": {},
   "outputs": [],
   "source": [
    "for i,item in enumerate(s):\n",
    "    with open(\"/p/home/jusers/cherepashkin1/jureca/circles/finetune_test/experiments/\"+expnum+\"/sh-{}.sh\".format(i), \"w\") as f:\n",
    "        f.write(template)\n",
    "        f.write(item)"
   ]
  },
  {
   "cell_type": "code",
   "execution_count": null,
   "metadata": {},
   "outputs": [],
   "source": []
  }
 ],
 "metadata": {
  "kernelspec": {
   "display_name": "Python 3",
   "language": "python",
   "name": "python3"
  },
  "language_info": {
   "codemirror_mode": {
    "name": "ipython",
    "version": 3
   },
   "file_extension": ".py",
   "mimetype": "text/x-python",
   "name": "python",
   "nbconvert_exporter": "python",
   "pygments_lexer": "ipython3",
   "version": "3.8.5"
  }
 },
 "nbformat": 4,
 "nbformat_minor": 4
}
