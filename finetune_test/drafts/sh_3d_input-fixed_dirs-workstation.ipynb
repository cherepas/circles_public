{
 "cells": [
  {
   "cell_type": "code",
   "execution_count": 1,
   "metadata": {
    "collapsed": false,
    "jupyter": {
     "outputs_hidden": false
    }
   },
   "outputs": [],
   "source": [
    "%matplotlib inline"
   ]
  },
  {
   "cell_type": "markdown",
   "metadata": {},
   "source": [
    "\n",
    "Finetuning Torchvision Models\n",
    "=============================\n",
    "\n",
    "**Author:** `Nathan Inkawhich <https://github.com/inkawhich>`__\n",
    "\n",
    "\n"
   ]
  },
  {
   "cell_type": "markdown",
   "metadata": {},
   "source": [
    "In this tutorial we will take a deeper look at how to finetune and\n",
    "feature extract the `torchvision\n",
    "models <https://pytorch.org/docs/stable/torchvision/models.html>`__, all\n",
    "of which have been pretrained on the 1000-class Imagenet dataset. This\n",
    "tutorial will give an indepth look at how to work with several modern\n",
    "CNN architectures, and will build an intuition for finetuning any\n",
    "PyTorch model. Since each model architecture is different, there is no\n",
    "boilerplate finetuning code that will work in all scenarios. Rather, the\n",
    "researcher must look at the existing architecture and make custom\n",
    "adjustments for each model.\n",
    "\n",
    "In this document we will perform two types of transfer learning:\n",
    "finetuning and feature extraction. In **finetuning**, we start with a\n",
    "pretrained model and update *all* of the model’s parameters for our new\n",
    "task, in essence retraining the whole model. In **feature extraction**,\n",
    "we start with a pretrained model and only update the final layer weights\n",
    "from which we derive predictions. It is called feature extraction\n",
    "because we use the pretrained CNN as a fixed feature-extractor, and only\n",
    "change the output layer. For more technical information about transfer\n",
    "learning see `here <https://cs231n.github.io/transfer-learning/>`__ and\n",
    "`here <https://ruder.io/transfer-learning/>`__.\n",
    "\n",
    "In general both transfer learning methods follow the same few steps:\n",
    "\n",
    "-  Initialize the pretrained model\n",
    "-  Reshape the final layer(s) to have the same number of outputs as the\n",
    "   number of classes in the new dataset\n",
    "-  Define for the optimization algorithm which parameters we want to\n",
    "   update during training\n",
    "-  Run the training step\n",
    "\n",
    "\n"
   ]
  },
  {
   "cell_type": "code",
   "execution_count": 2,
   "metadata": {
    "collapsed": false,
    "jupyter": {
     "outputs_hidden": false
    }
   },
   "outputs": [
    {
     "name": "stdout",
     "output_type": "stream",
     "text": [
      "PyTorch Version:  1.7.1\n",
      "Torchvision Version:  0.8.2\n"
     ]
    }
   ],
   "source": [
    "from __future__ import print_function \n",
    "from __future__ import division\n",
    "import torch\n",
    "import torch.nn as nn\n",
    "import torch.nn.functional as F\n",
    "import torch.optim as optim\n",
    "import numpy as np\n",
    "import torchvision\n",
    "from torchvision import datasets, models, transforms\n",
    "import matplotlib.pyplot as plt\n",
    "import time\n",
    "import os\n",
    "import copy\n",
    "print(\"PyTorch Version: \",torch.__version__)\n",
    "print(\"Torchvision Version: \",torchvision.__version__)\n",
    "from torch.utils.data import Dataset, DataLoader\n",
    "import pandas as pd"
   ]
  },
  {
   "cell_type": "code",
   "execution_count": 3,
   "metadata": {},
   "outputs": [
    {
     "name": "stdout",
     "output_type": "stream",
     "text": [
      "cuda\n"
     ]
    }
   ],
   "source": [
    "if torch.cuda.device_count()>1:\n",
    "    device = torch.device('cuda:2')\n",
    "elif torch.cuda.device_count()==1:\n",
    "    device = torch.device('cuda')\n",
    "else: \n",
    "    device = torch.device('cpu')\n",
    "print(device)"
   ]
  },
  {
   "cell_type": "markdown",
   "metadata": {},
   "source": [
    "Inputs\n",
    "------\n",
    "\n",
    "Here are all of the parameters to change for the run. We will use the\n",
    "*hymenoptera_data* dataset which can be downloaded\n",
    "`here <https://download.pytorch.org/tutorial/hymenoptera_data.zip>`__.\n",
    "This dataset contains two classes, **bees** and **ants**, and is\n",
    "structured such that we can use the\n",
    "`ImageFolder <https://pytorch.org/docs/stable/torchvision/datasets.html#torchvision.datasets.ImageFolder>`__\n",
    "dataset, rather than writing our own custom dataset. Download the data\n",
    "and set the ``data_dir`` input to the root directory of the dataset. The\n",
    "``model_name`` input is the name of the model you wish to use and must\n",
    "be selected from this list:\n",
    "\n",
    "::\n",
    "\n",
    "   [resnet, alexnet, vgg, squeezenet, densenet, inception]\n",
    "\n",
    "The other inputs are as follows: ``num_classes`` is the number of\n",
    "classes in the dataset, ``batch_size`` is the batch size used for\n",
    "training and may be adjusted according to the capability of your\n",
    "machine, ``num_epochs`` is the number of training epochs we want to run,\n",
    "and ``feature_extract`` is a boolean that defines if we are finetuning\n",
    "or feature extracting. If ``feature_extract = False``, the model is\n",
    "finetuned and all model parameters are updated. If\n",
    "``feature_extract = True``, only the last layer parameters are updated,\n",
    "the others remain fixed.\n",
    "\n",
    "\n"
   ]
  },
  {
   "cell_type": "code",
   "execution_count": 4,
   "metadata": {},
   "outputs": [],
   "source": [
    "# mpl = [r'D:\\seva\\hymenoptera_data',  r'D:/data/hymenoptera_data'] \n",
    "# mpl = [s.replace('\\\\','/') for s in mpl]\n",
    "# i = 0\n",
    "# while not os.path.exists(mpl[i]):\n",
    "#     print(i)\n",
    "#     i+=1\n",
    "# data_dir = mpl[i]\n",
    "# print(data_dir)"
   ]
  },
  {
   "cell_type": "code",
   "execution_count": 5,
   "metadata": {},
   "outputs": [
    {
     "name": "stdout",
     "output_type": "stream",
     "text": [
      "0\n",
      "1\n",
      "D:/seva/598_processing\n"
     ]
    }
   ],
   "source": [
    "depth = 2**8-1.\n",
    "D_out = 441\n",
    "C_in = 3 #how many views of one seed\n",
    "mpl = [r'/home/cherepashkin/data/598_processing',  r'D:\\data\\seeds\\598', r'D:\\seva\\598_processing'.replace('\\\\','/')] \n",
    "mpl = [s.replace('\\\\','/') for s in mpl]\n",
    "i = 0\n",
    "while not os.path.exists(mpl[i]):\n",
    "    print(i)\n",
    "    i+=1\n",
    "data_dir = mpl[i]\n",
    "print(data_dir)\n"
   ]
  },
  {
   "cell_type": "code",
   "execution_count": 6,
   "metadata": {
    "collapsed": false,
    "jupyter": {
     "outputs_hidden": false
    }
   },
   "outputs": [],
   "source": [
    "# Top level data directory. Here we assume the format of the directory conforms \n",
    "#   to the ImageFolder structure\n",
    "#data_dir = D:\\seva\\hymenoptera_data\n",
    "#    \"D:/data/hymenoptera_data\"\n",
    "    #\"\"./data/hymenoptera_data\"\n",
    "data_dir\n",
    "\n",
    "# Models to choose from [resnet, alexnet, vgg, squeezenet, densenet, inception]\n",
    "model_name = \"densenet\"\n",
    "\n",
    "# Batch size for training (change depending on how much memory you have)\n",
    "batch_size = 8\n",
    "\n",
    "# Number of epochs to train for \n",
    "num_epochs = 15\n",
    "\n",
    "# Flag for feature extracting. When False, we finetune the whole model, \n",
    "#   when True we only update the reshaped layer params\n",
    "feature_extract = True\n",
    "\n",
    "#number of spherical harmonics amplituds to regress\n",
    "ampl = 16\n",
    "\n",
    "# Number of classes in the dataset\n",
    "num_classes = ampl\n",
    "\n",
    "#downsample ply, taking point every ds steps\n",
    "ds = 10"
   ]
  },
  {
   "cell_type": "markdown",
   "metadata": {},
   "source": [
    "Helper Functions - train_model\n",
    "----------------\n",
    "\n",
    "Before we write the code for adjusting the models, lets define a few\n",
    "helper functions.\n",
    "\n",
    "Model Training and Validation Code\n",
    "~~~~~~~~~~~~~~~~~~~~~~~~~~~~~~~~~~\n",
    "\n",
    "The ``train_model`` function handles the training and validation of a\n",
    "given model. As input, it takes a PyTorch model, a dictionary of\n",
    "dataloaders, a loss function, an optimizer, a specified number of epochs\n",
    "to train and validate for, and a boolean flag for when the model is an\n",
    "Inception model. The *is_inception* flag is used to accomodate the\n",
    "*Inception v3* model, as that architecture uses an auxiliary output and\n",
    "the overall model loss respects both the auxiliary output and the final\n",
    "output, as described\n",
    "`here <https://discuss.pytorch.org/t/how-to-optimize-inception-model-with-auxiliary-classifiers/7958>`__.\n",
    "The function trains for the specified number of epochs and after each\n",
    "epoch runs a full validation step. It also keeps track of the best\n",
    "performing model (in terms of validation accuracy), and at the end of\n",
    "training returns the best performing model. After each epoch, the\n",
    "training and validation accuracies are printed.\n",
    "\n",
    "\n"
   ]
  },
  {
   "cell_type": "code",
   "execution_count": 7,
   "metadata": {},
   "outputs": [
    {
     "ename": "NameError",
     "evalue": "name 'tmean' is not defined",
     "output_type": "error",
     "traceback": [
      "\u001b[1;31m---------------------------------------------------------------------------\u001b[0m",
      "\u001b[1;31mNameError\u001b[0m                                 Traceback (most recent call last)",
      "\u001b[1;32m<ipython-input-7-77ff4c98dff3>\u001b[0m in \u001b[0;36m<module>\u001b[1;34m\u001b[0m\n\u001b[1;32m----> 1\u001b[1;33m \u001b[0mprint\u001b[0m\u001b[1;33m(\u001b[0m\u001b[0mtmean\u001b[0m\u001b[1;33m[\u001b[0m\u001b[1;33m:\u001b[0m\u001b[1;33m,\u001b[0m\u001b[1;33m:\u001b[0m\u001b[0mampl\u001b[0m\u001b[1;33m]\u001b[0m\u001b[1;33m)\u001b[0m\u001b[1;33m\u001b[0m\u001b[1;33m\u001b[0m\u001b[0m\n\u001b[0m",
      "\u001b[1;31mNameError\u001b[0m: name 'tmean' is not defined"
     ]
    }
   ],
   "source": [
    "print(tmean[:,:ampl])"
   ]
  },
  {
   "cell_type": "code",
   "execution_count": null,
   "metadata": {},
   "outputs": [],
   "source": [
    "#weightv = torch.tensor([0.99, 0.001, 0.001, 0.001, 0.001, 0.001, 0.001, 0.001, 0.001]).to(device)"
   ]
  },
  {
   "cell_type": "code",
   "execution_count": 8,
   "metadata": {},
   "outputs": [],
   "source": [
    "def my_loss(output, target):\n",
    "    l = torch.mean(torch.multiply(weightv,(output - target))**2)\n",
    "    return l"
   ]
  },
  {
   "cell_type": "code",
   "execution_count": 9,
   "metadata": {},
   "outputs": [],
   "source": [
    "#my_loss(torch.zeros([8,9]),torch.zeros([8,9]))"
   ]
  },
  {
   "cell_type": "code",
   "execution_count": 10,
   "metadata": {
    "collapsed": false,
    "jupyter": {
     "outputs_hidden": false
    }
   },
   "outputs": [],
   "source": [
    "def train_model(model, dataloaders, criterion, optimizer, num_epochs=25, is_inception=False):\n",
    "    since = time.time()\n",
    "\n",
    "    val_acc_history = []\n",
    "    \n",
    "#    best_model_wts = copy.deepcopy(model.state_dict())\n",
    "    best_acc = 0.0\n",
    "    lossar = np.zeros([2,num_epochs])\n",
    "    for epoch in range(num_epochs):\n",
    "        print('Epoch {}/{}'.format(epoch, num_epochs - 1))\n",
    "        print('-' * 10)\n",
    "\n",
    "        # Each epoch has a training and validation phase\n",
    "        for phase in ['train', 'val']:\n",
    "            if phase == 'train':\n",
    "                model.train()  # Set model to training mode\n",
    "            else:\n",
    "                model.eval()   # Set model to evaluate mode\n",
    "\n",
    "            running_loss = 0.0\n",
    "            running_corrects = 0\n",
    "            rloss = 0.0\n",
    "            \n",
    "            # Iterate over data.\n",
    "            for i_batch, sample_batched in enumerate(dataloaders[phase]):\n",
    "#                 print(len(dataloaders[phase]))\n",
    "                if i_batch == bn:\n",
    "                    break\n",
    "                inputs = sample_batched['image']\n",
    "                labels = sample_batched['landmarks']\n",
    "#             for inputs, labels in dataloaders[phase]:\n",
    "#                 inputs = inputs.to(device)\n",
    "#                 labels = labels.to(device)\n",
    "                # zero the parameter gradients\n",
    "                optimizer.zero_grad()\n",
    "                # forward\n",
    "                # track history if only in train\n",
    "                with torch.set_grad_enabled(phase == 'train'):\n",
    "                    # Get model outputs and calculate loss\n",
    "                    # Special case for inception because in training it has an auxiliary output. In train\n",
    "                    #   mode we calculate the loss by summing the final output and the auxiliary output\n",
    "                    #   but in testing we only consider the final output.\n",
    "                    if is_inception and phase == 'train':\n",
    "                        # From https://discuss.pytorch.org/t/how-to-optimize-inception-model-with-auxiliary-classifiers/7958\n",
    "                        outputs, aux_outputs = model(inputs)\n",
    "                        loss1 = criterion(outputs, labels)\n",
    "                        loss2 = criterion(aux_outputs, labels)\n",
    "                        loss = loss1 + 0.4*loss2\n",
    "                    else:\n",
    "#                         print(inputs.shape)\n",
    "                        F = torch.sum(torch.mul(inputs,inputs), axis = 0)\n",
    "#                         print(F.shape)\n",
    "#                         x = torch.zeros([8, 1161, 3])\n",
    "                        x = inputs\n",
    "                        y = torch.zeros([x.shape[0], x.shape[1]])\n",
    "                        y = y.to(device)\n",
    "                        for i in range(x.shape[0]):\n",
    "                            y[i,:] = torch.sqrt(x[i,:,0]*x[i,:,0]+x[i,:,1]*x[i,:,1]+x[i,:,2]*x[i,:,2])\n",
    "                        y = torch.unsqueeze(y,0)\n",
    "                        outputs = model(y)\n",
    "                        # self-supervised part\n",
    "                        \n",
    "                        loss = criterion(outputs, labels)\n",
    "#                         F = torch.matmul(outputs,Y_N2)\n",
    "#                         loss = criterion(, inputs)\n",
    "                        #loss = my_loss(outputs,labels)\n",
    "                    _, preds = torch.max(outputs, 1)\n",
    "\n",
    "                    # backward + optimize only if in training phase\n",
    "                    if phase == 'train':\n",
    "                        loss.backward()\n",
    "                        optimizer.step()\n",
    "\n",
    "                # statistics\n",
    "                running_loss += loss.item() * inputs.size(0)\n",
    "                rloss += loss.item()\n",
    "#                running_corrects += torch.sum(preds == labels.data)\n",
    "            \n",
    "            epoch_loss = running_loss / len(dataloaders[phase].dataset)\n",
    "            if bn < len(dataloaders[phase].dataset):\n",
    "                ebn = bn\n",
    "            else:\n",
    "                ebn = len(dataloaders[phase].dataset)\n",
    "            if phase == 'train':\n",
    "                lossar[0][epoch] = rloss/ebn\n",
    "            else: \n",
    "                lossar[1][epoch] = rloss/ebn          \n",
    "#            epoch_acc = running_corrects.double() / len(dataloaders[phase].dataset)\n",
    "\n",
    "            print('{} Loss: {:.6f}'.format(phase, rloss/ebn))\n",
    "#            print('{} Loss: {:.4f} Acc: {:.4f}'.format(phase, epoch_loss,epoch_acc))\n",
    "\n",
    "            # deep copy the model\n",
    "#            if phase == 'val' and epoch_acc > best_acc:\n",
    "#                best_acc = epoch_acc\n",
    "#            best_model_wts = copy.deepcopy(model.state_dict())\n",
    "#             if phase == 'val':\n",
    "#                 val_acc_history.append(epoch_acc)\n",
    "            val_acc_history = []\n",
    "\n",
    "        print()\n",
    "\n",
    "    time_elapsed = time.time() - since\n",
    "    print('Training complete in {:.0f}m {:.0f}s'.format(time_elapsed // 60, time_elapsed % 60))\n",
    "#    print('Best val Acc: {:4f}'.format(best_acc))\n",
    "\n",
    "    # load best model weights\n",
    "#    model.load_state_dict(best_model_wts)\n",
    "    return model, lossar"
   ]
  },
  {
   "cell_type": "code",
   "execution_count": 11,
   "metadata": {},
   "outputs": [
    {
     "ename": "NameError",
     "evalue": "name 'inputs' is not defined",
     "output_type": "error",
     "traceback": [
      "\u001b[1;31m---------------------------------------------------------------------------\u001b[0m",
      "\u001b[1;31mNameError\u001b[0m                                 Traceback (most recent call last)",
      "\u001b[1;32m<ipython-input-11-70d616b67f89>\u001b[0m in \u001b[0;36m<module>\u001b[1;34m\u001b[0m\n\u001b[1;32m----> 1\u001b[1;33m \u001b[0minputs\u001b[0m\u001b[1;33m.\u001b[0m\u001b[0mshape\u001b[0m\u001b[1;33m\u001b[0m\u001b[1;33m\u001b[0m\u001b[0m\n\u001b[0m",
      "\u001b[1;31mNameError\u001b[0m: name 'inputs' is not defined"
     ]
    }
   ],
   "source": [
    "inputs.shape"
   ]
  },
  {
   "cell_type": "markdown",
   "metadata": {},
   "source": [
    "Set Model Parameters’ .requires_grad attribute\n",
    "~~~~~~~~~~~~~~~~~~~~~~~~~~~~~~~~~~~~~~~~~~~~~~\n",
    "\n",
    "This helper function sets the ``.requires_grad`` attribute of the\n",
    "parameters in the model to False when we are feature extracting. By\n",
    "default, when we load a pretrained model all of the parameters have\n",
    "``.requires_grad=True``, which is fine if we are training from scratch\n",
    "or finetuning. However, if we are feature extracting and only want to\n",
    "compute gradients for the newly initialized layer then we want all of\n",
    "the other parameters to not require gradients. This will make more sense\n",
    "later.\n",
    "\n",
    "\n"
   ]
  },
  {
   "cell_type": "code",
   "execution_count": 12,
   "metadata": {
    "collapsed": false,
    "jupyter": {
     "outputs_hidden": false
    }
   },
   "outputs": [],
   "source": [
    "def set_parameter_requires_grad(model, feature_extracting):\n",
    "    if feature_extracting:\n",
    "        for param in model.parameters():\n",
    "            param.requires_grad = False"
   ]
  },
  {
   "cell_type": "markdown",
   "metadata": {},
   "source": [
    "# Initialize and Reshape the Networks"
   ]
  },
  {
   "cell_type": "code",
   "execution_count": 13,
   "metadata": {
    "collapsed": false,
    "jupyter": {
     "outputs_hidden": false
    }
   },
   "outputs": [],
   "source": [
    "def initialize_model(model_name, num_classes, feature_extract, use_pretrained=True):\n",
    "    # Initialize these variables which will be set in this if statement. Each of these\n",
    "    #   variables is model specific.\n",
    "    model_ft = None\n",
    "    input_size = 0\n",
    "\n",
    "    if model_name == \"resnet\":\n",
    "        \"\"\" Resnet18\n",
    "        \"\"\"\n",
    "        model_ft = models.resnet18(pretrained=use_pretrained)\n",
    "        set_parameter_requires_grad(model_ft, feature_extract)\n",
    "        num_ftrs = model_ft.fc.in_features\n",
    "        model_ft.fc = nn.Linear(num_ftrs, num_classes)\n",
    "        input_size = 224\n",
    "\n",
    "    elif model_name == \"alexnet\":\n",
    "        \"\"\" Alexnet\n",
    "        \"\"\"\n",
    "        model_ft = models.alexnet(pretrained=use_pretrained)\n",
    "        set_parameter_requires_grad(model_ft, feature_extract)\n",
    "        num_ftrs = model_ft.classifier[6].in_features\n",
    "        model_ft.classifier[6] = nn.Linear(num_ftrs,num_classes)\n",
    "        input_size = 224\n",
    "\n",
    "    elif model_name == \"vgg\":\n",
    "        \"\"\" VGG11_bn\n",
    "        \"\"\"\n",
    "        model_ft = models.vgg11_bn(pretrained=use_pretrained)\n",
    "        set_parameter_requires_grad(model_ft, feature_extract)\n",
    "        num_ftrs = model_ft.classifier[6].in_features\n",
    "        model_ft.classifier[6] = nn.Linear(num_ftrs,num_classes)\n",
    "        input_size = 224\n",
    "\n",
    "    elif model_name == \"squeezenet\":\n",
    "        \"\"\" Squeezenet\n",
    "        \"\"\"\n",
    "        model_ft = models.squeezenet1_0(pretrained=use_pretrained)\n",
    "        set_parameter_requires_grad(model_ft, feature_extract)\n",
    "        model_ft.classifier[1] = nn.Conv2d(512, num_classes, kernel_size=(1,1), stride=(1,1))\n",
    "        model_ft.num_classes = num_classes\n",
    "        input_size = 224\n",
    "\n",
    "    elif model_name == \"densenet\":\n",
    "        \"\"\" Densenet\n",
    "        \"\"\"\n",
    "        model_ft = models.densenet121(pretrained=use_pretrained)\n",
    "        set_parameter_requires_grad(model_ft, feature_extract)\n",
    "        num_ftrs = model_ft.classifier.in_features\n",
    "        model_ft.classifier = nn.Linear(num_ftrs, num_classes) \n",
    "        input_size = 224\n",
    "\n",
    "    elif model_name == \"inception\":\n",
    "        \"\"\" Inception v3 \n",
    "        Be careful, expects (299,299) sized images and has auxiliary output\n",
    "        \"\"\"\n",
    "        model_ft = models.inception_v3(pretrained=use_pretrained)\n",
    "        set_parameter_requires_grad(model_ft, feature_extract)\n",
    "        # Handle the auxilary net\n",
    "        num_ftrs = model_ft.AuxLogits.fc.in_features\n",
    "        model_ft.AuxLogits.fc = nn.Linear(num_ftrs, num_classes)\n",
    "        # Handle the primary net\n",
    "        num_ftrs = model_ft.fc.in_features\n",
    "        model_ft.fc = nn.Linear(num_ftrs,num_classes)\n",
    "        input_size = 299\n",
    "\n",
    "    else:\n",
    "        print(\"Invalid model name, exiting...\")\n",
    "        exit()\n",
    "    \n",
    "    return model_ft, input_size\n",
    "\n"
   ]
  },
  {
   "cell_type": "code",
   "execution_count": 14,
   "metadata": {},
   "outputs": [],
   "source": [
    "# Initialize the model for this run\n",
    "model_ft, input_size = initialize_model(model_name, num_classes, feature_extract, use_pretrained=True)\n",
    "\n",
    "# Print the model we just instantiated\n",
    "#print(model_ft)"
   ]
  },
  {
   "cell_type": "markdown",
   "metadata": {},
   "source": [
    "## search of the min max of the sh amplitudes"
   ]
  },
  {
   "cell_type": "code",
   "execution_count": 15,
   "metadata": {},
   "outputs": [],
   "source": [
    "# mainpath = data_dir + '\\train'\n",
    "# D_out = 441\n",
    "# if not(os.path.isfile('tmean.csv') and os.path.isfile(mainpath+'/sh.csv')):\n",
    "#     cip = []\n",
    "#     for root, directories, filenames in os.walk(mainpath): \n",
    "#         for filename in filenames:\n",
    "#             if filename[-8:] == 'F_20.csv':\n",
    "#                 cip.append(os.path.join(root,filename))\n",
    "#     labels = np.zeros([len(cip),D_out])\n",
    "#     for i in range(len(cip)):\n",
    "#         labels[i,:] = torch.tensor(np.genfromtxt(cip[i], delimiter='\\n'))\n",
    "#     tmean = np.zeros([4,D_out])\n",
    "#     tmean[0,:] = np.mean(labels, axis = 0)\n",
    "#     tmean[1,:] = np.std(labels, axis = 0)\n",
    "#     tmean[2,:] = np.min(labels, axis = 0)\n",
    "#     tmean[3,:] = np.max(labels, axis = 0)\n",
    "#     numpy.savetxt(\"tmean.csv\", tmean, delimiter=\",\")\n",
    "#     landmarks_frame = pd.DataFrame(data=labels,index=range(len(cip)),\\\n",
    "#                                    columns=['f'+str(i) for i in range(D_out)])\n",
    "#     landmarks_frame.insert(0, 'file_name', \\\n",
    "#                            [cip[i][-24:-9] for i in range(len(cip))])\n",
    "#     landmarks_frame.to_csv(mainpath+'/sh_paramters.csv', index=False)\n"
   ]
  },
  {
   "cell_type": "code",
   "execution_count": 16,
   "metadata": {},
   "outputs": [],
   "source": [
    "tmean = np.genfromtxt(\"tmean.csv\", delimiter=',')"
   ]
  },
  {
   "cell_type": "markdown",
   "metadata": {},
   "source": [
    "Load Data\n",
    "---------\n",
    "\n",
    "Now that we know what the input size must be, we can initialize the data\n",
    "transforms, image datasets, and the dataloaders. Notice, the models were\n",
    "pretrained with the hard-coded normalization values, as described\n",
    "`here <https://pytorch.org/docs/master/torchvision/models.html>`__.\n",
    "\n",
    "\n"
   ]
  },
  {
   "cell_type": "code",
   "execution_count": null,
   "metadata": {},
   "outputs": [],
   "source": []
  },
  {
   "cell_type": "code",
   "execution_count": 17,
   "metadata": {},
   "outputs": [],
   "source": [
    "class Seed3D_Dataset(Dataset):\n",
    "    \"\"\"seed point cloud dataset.\"\"\"\n",
    "\n",
    "    def __init__(self, root_dir, transform=None):\n",
    "        \"\"\"\n",
    "        Args:\n",
    "            csv_file (string): Path to the csv file with annotations.\n",
    "            root_dir (string): Directory with all the images.\n",
    "            transform (callable, optional): Optional transform to be applied\n",
    "                on a sample.\n",
    "        \"\"\"\n",
    "        self.landmarks_frame = pd.read_csv(os.path.join(root_dir,'F_N_1001.csv'))\n",
    "        self.root_dir = root_dir\n",
    "        self.transform = transform\n",
    "\n",
    "    def __len__(self):\n",
    "        return len(self.landmarks_frame)\n",
    "\n",
    "    def __getitem__(self, idx):\n",
    "        if torch.is_tensor(idx):\n",
    "            idx = idx.tolist()\n",
    "#        img = np.zeros([40000, 3, 1])\n",
    "        rd = self.root_dir.replace('598test','598_processing')\n",
    "        img_name = \\\n",
    "        os.path.join(rd,\\\n",
    "                     self.landmarks_frame.iloc[idx, 0]+'_Surface.ply').replace('\\\\','/')\n",
    "        img = np.genfromtxt(img_name, skip_header = 7, skip_footer = 1)\n",
    "        img = np.concatenate((img, np.zeros([58014-img.shape[0],3])), axis=0)\n",
    "        landmarks = self.landmarks_frame.iloc[idx, 1:]\n",
    "        landmarks = np.array([landmarks])\n",
    "        landmarks = landmarks.astype('float').reshape(-1, D_out)\n",
    "        sample = {'image': img, 'landmarks': landmarks}\n",
    "        if self.transform:\n",
    "            sample = self.transform(sample)\n",
    "        return sample"
   ]
  },
  {
   "cell_type": "code",
   "execution_count": 18,
   "metadata": {},
   "outputs": [],
   "source": [
    "fn = pd.read_csv(os.path.join('D:/seva/598test/train','F_N_1001.csv'))"
   ]
  },
  {
   "cell_type": "code",
   "execution_count": 19,
   "metadata": {},
   "outputs": [
    {
     "data": {
      "text/plain": [
       "4072"
      ]
     },
     "execution_count": 19,
     "metadata": {},
     "output_type": "execute_result"
    }
   ],
   "source": [
    "len(fn)"
   ]
  },
  {
   "cell_type": "code",
   "execution_count": 20,
   "metadata": {},
   "outputs": [],
   "source": [
    "#pwd"
   ]
  },
  {
   "cell_type": "code",
   "execution_count": 21,
   "metadata": {},
   "outputs": [],
   "source": [
    "#print(data_dir,os.path.join(data_dir,'/sh_paramters.csv'))"
   ]
  },
  {
   "cell_type": "code",
   "execution_count": 22,
   "metadata": {},
   "outputs": [],
   "source": [
    "#print(os.path.isfile('tmean.csv'),os.path.isfile(os.path.join(data_dir,'/sh_paramters.csv')))\n",
    "#print(not(os.path.isfile('tmean.csv') and os.path.isfile(mainpath+'/sh_paramters.csv')))"
   ]
  },
  {
   "cell_type": "code",
   "execution_count": 23,
   "metadata": {},
   "outputs": [],
   "source": [
    "from numpy import linalg as LA"
   ]
  },
  {
   "cell_type": "code",
   "execution_count": 24,
   "metadata": {},
   "outputs": [],
   "source": [
    "class AmpCrop(object):\n",
    "    \"\"\"Crop the label, spherical harmonics amplitude.\"\"\"\n",
    "    def __init__(self, ampl):\n",
    "        self.ampl = ampl\n",
    "    def __call__(self, sample):\n",
    "        image, landmarks = sample['image'], sample['landmarks']\n",
    "        return {'image': image,\n",
    "                'landmarks': landmarks[:,:self.ampl]}\n",
    "class ToTensor(object):\n",
    "    \"\"\"Convert ndarrays in sample to Tensors.\"\"\"\n",
    "    def __init__(self, device):\n",
    "#        assert isinstance(device, str)\n",
    "        self.device = device\n",
    "    def __call__(self, sample):\n",
    "        image, landmarks = sample['image'], sample['landmarks']\n",
    "\n",
    "        landmarks = np.squeeze(landmarks)\n",
    "        return {'image': torch.Tensor(image).to(self.device),\n",
    "                'landmarks': torch.Tensor(landmarks).to(self.device)}\n",
    "class Minmax3Dimage(object):\n",
    "    \"\"\"Normalize 3D input data to be laying in [0,1]\"\"\"\n",
    "    def __init__(self,minmax):\n",
    "        minf = minmax[0]\n",
    "        maxf = minmax[1]\n",
    "        self.minf = minf\n",
    "        self.maxf = maxf\n",
    "#        assert isinstance(device, str)\n",
    "    def __call__(self, sample):\n",
    "        image, landmarks = sample['image'], sample['landmarks']\n",
    "        image = (image-self.minf)/(self.maxf-self.minf)\n",
    "        #         for i in range(3):\n",
    "#             image[:,i] = (image[:,i]-np.min(image,axis=0)[i])/\\\n",
    "#             (np.max(image,axis=0)[i]-np.min(image,axis=0)[i])\n",
    "        return {'image': image,\n",
    "                'landmarks': landmarks}\n",
    "\n",
    "class Downsample(object):\n",
    "    \"\"\"Downsample the input ply file.\"\"\"\n",
    "    def __init__(self, ds):\n",
    "        #assert isinstance(output_size, (int, tuple))\n",
    "        self.ds = ds\n",
    "    def __call__(self, sample):\n",
    "        image, landmarks = sample['image'], sample['landmarks']\n",
    "        ds_image = image[::self.ds,:]\n",
    "        return {'image': ds_image,\n",
    "                'landmarks': landmarks}\n",
    "class Shuffleinput(object):\n",
    "    \"\"\"Shuffle the rows of input ply file.\"\"\"\n",
    "    def __init__(self, shuffle_seed):\n",
    "        #assert isinstance(output_size, (int, tuple))\n",
    "        self.shuffle_seed = shuffle_seed\n",
    "    def __call__(self, sample):\n",
    "        np.random.seed(self.shuffle_seed)\n",
    "        image, landmarks = sample['image'], sample['landmarks']\n",
    "        np.random.shuffle(image) \n",
    "        return {'image': image,\n",
    "                'landmarks': landmarks}\n",
    "class Minmax(object):\n",
    "    \"\"\"Normalize the input data to lay in [0,1].\"\"\"\n",
    "    def __init__(self, tmean):\n",
    "#        assert isinstance(tmean, numpy.ndarray)\n",
    "        self.tmean = tmean\n",
    "    def __call__(self, sample):\n",
    "        image, landmarks = sample['image'], sample['landmarks']\n",
    "#        print(type(landmarks))\n",
    "#        print(type(self.tmean[3]))\n",
    "#        landmarks = (landmarks - self.tmean[2])/(self.tmean[3]-self.tmean[2])\n",
    "        landmarks = (landmarks - np.min(self.tmean[2]))/(np.max(self.tmean[3])-np.min(self.tmean[2]))\n",
    "        \n",
    "        return {'image': image,\n",
    "                'landmarks': landmarks}\n",
    "class Reshape(object):\n",
    "    \"\"\"Normalize the input data to lay in [0,1].\"\"\"\n",
    "    def __init__(self, input_layer):\n",
    "#        assert isinstance(tmean, numpy.ndarray)\n",
    "        self.input_layer = input_layer\n",
    "    def __call__(self, sample):\n",
    "        image, landmarks = sample['image'], sample['landmarks']\n",
    "#        print(type(landmarks))\n",
    "#        print(type(self.tmean[3]))\n",
    "        padval = self.input_layer**2-image.shape[0]\n",
    "        if padval >= 0:\n",
    "            image = np.pad(image, ((0,padval),(0,0)), mode='constant')\n",
    "        else: \n",
    "            image = image[:self.input_layer**2]\n",
    "        image = np.reshape(image, [3,self.input_layer,self.input_layer])\n",
    "#        landmarks = (landmarks - self.tmean[2])/(self.tmean[3]-self.tmean[2]) \n",
    "        return {'image': image,\n",
    "                'landmarks': landmarks}\n",
    "class Normalize(object):\n",
    "    \"\"\"Normalize the input data to lay in [0,1].\"\"\"\n",
    "    def __init__(self):\n",
    "#        assert isinstance(tmean, numpy.ndarray)\n",
    "        a = 1\n",
    "    def __call__(self, sample):\n",
    "        image, landmarks = sample['image'], sample['landmarks']\n",
    "#        print(type(landmarks))\n",
    "#        print(type(self.tmean[3]))\n",
    "        X = image[:,0]\n",
    "        Y = image[:,1]\n",
    "        Z = image[:,2]\n",
    "        C = np.zeros([3,3])\n",
    "        C[0,0] = np.matmul(X,X.transpose())\n",
    "        C[0,1] = np.matmul(X,Y.transpose())\n",
    "        C[0,2] = np.matmul(X,Z.transpose())\n",
    "        C[1,0] = C[0,1]\n",
    "        C[1,1] = np.matmul(Y,Y.transpose())\n",
    "        C[1,2] = np.matmul(Y,Z.transpose())\n",
    "        C[2,0] = C[0,2]\n",
    "        C[2,1] = C[1,2]\n",
    "        C[2,2] = np.matmul(Z,Z.transpose())\n",
    "        w,v = LA.eig(C)\n",
    "        image = np.matmul(v.transpose(),image.transpose()).transpose()\n",
    "        return {'image': image,\n",
    "                'landmarks': landmarks}"
   ]
  },
  {
   "cell_type": "code",
   "execution_count": 25,
   "metadata": {},
   "outputs": [
    {
     "data": {
      "text/plain": [
       "array([-11610.34032578, -11610.34032578, -11610.34032578, -11610.34032578,\n",
       "       -11610.34032578])"
      ]
     },
     "execution_count": 25,
     "metadata": {},
     "output_type": "execute_result"
    }
   ],
   "source": [
    "np.zeros(5)+np.min(tmean[2])"
   ]
  },
  {
   "cell_type": "code",
   "execution_count": 26,
   "metadata": {},
   "outputs": [],
   "source": [
    "# a=np.zeros([50000,3])\n",
    "# a = np.pad(a, ((0,229**2-50000),(0,0)), mode='constant')\n",
    "# a = np.reshape(a, [229,229,3])\n",
    "# print(a.shape)\n",
    "# #a.reshape([])\n"
   ]
  },
  {
   "cell_type": "code",
   "execution_count": 27,
   "metadata": {},
   "outputs": [],
   "source": [
    "def getsize(new_hi,ker,srd): \n",
    "    pad = (0,0)\n",
    "    dil = np.asarray((1,1))\n",
    "    return(tuple((np.squeeze((np.asarray(new_hi)+\\\n",
    "    2*np.asarray(pad)-dil*[np.asarray(ker)-1]+1)/\\\n",
    "                             np.asarray(srd))).astype(int)))\n",
    "class TNet(nn.Module):\n",
    "    def __init__(self) :\n",
    "        super().__init__()\n",
    "#         new_h, ampl, m_kernel, m_stride, hidden_dim, C_in, ratio = \\\n",
    "#         tuple(tupa[i] for i in list(range(6, 10))+[11,16,17])\n",
    "        new_h = 58014\n",
    "        ampl = 9\n",
    "        m_kernel = 1\n",
    "        m_stride = 1\n",
    "        hidden_dim = 20\n",
    "        C_in = 1\n",
    "        new_w = 3\n",
    "        self.pool = nn.MaxPool2d(m_kernel,m_stride)\n",
    "        idt = tuple(map(lambda x: x, \\\n",
    "                getsize((new_h,new_w,m_kernel,m_stride))))\n",
    "        input_dim = idt[0]*idt[1]*C_in\n",
    "#        print(idt)\n",
    "        current_dim = input_dim\n",
    "        self.layers = nn.ModuleList()\n",
    "        for hdim in hidden_dim:\n",
    "            self.layers.append(nn.Linear(current_dim, hdim))\n",
    "            current_dim = hdim\n",
    "        self.layers.append(nn.Linear(current_dim, ampl))\n",
    "        \n",
    "    def forward(self, x):\n",
    "#        print('start',x.shape)\n",
    "        x = self.pool(x)\n",
    "#        print('view',x.shape)\n",
    "        x = x.view(x.shape[0],-1)\n",
    "        for layer in self.layers[:-1]:\n",
    "#            print(x.shape)\n",
    "            x = F.leaky_relu(layer(x))\n",
    "        out = F.softmax(self.layers[-1](x))\n",
    "        return out  \n",
    "nnarchitectures = {'TNet':TNet}\n"
   ]
  },
  {
   "cell_type": "code",
   "execution_count": 28,
   "metadata": {},
   "outputs": [],
   "source": [
    "new_h = 58014\n",
    "new_w = 3\n",
    "ampl = 9\n",
    "m_kernel = 1\n",
    "m_stride = 2\n",
    "hidden_dim = 20\n",
    "C_in = 1\n",
    "\n",
    "#self.pool = nn.MaxPool2d(m_kernel,m_stride)\n",
    "idt = tuple(map(lambda x: x, getsize((new_h,new_w),m_kernel,m_stride)))\n",
    "idt = tuple(map(lambda x: x, getsize(idt,2,2)))"
   ]
  },
  {
   "cell_type": "code",
   "execution_count": 29,
   "metadata": {},
   "outputs": [
    {
     "data": {
      "text/plain": [
       "(14503, 1)"
      ]
     },
     "execution_count": 29,
     "metadata": {},
     "output_type": "execute_result"
    }
   ],
   "source": [
    "idt"
   ]
  },
  {
   "cell_type": "code",
   "execution_count": 30,
   "metadata": {},
   "outputs": [
    {
     "data": {
      "text/plain": [
       "29006"
      ]
     },
     "execution_count": 30,
     "metadata": {},
     "output_type": "execute_result"
    }
   ],
   "source": [
    "int((new_h-m_kernel)/m_stride)"
   ]
  },
  {
   "cell_type": "code",
   "execution_count": 31,
   "metadata": {},
   "outputs": [],
   "source": [
    "class CNet(torch.nn.Module):\n",
    "    def __init__(self):\n",
    "        super(CNet, self).__init__()\n",
    "#         C_in = 1\n",
    "#         D_out = 9\n",
    "        hn1 = int(1e4)\n",
    "        hn2 = int(1e4)\n",
    "        hn3 = int(1e4)\n",
    "        hn4 = int(1e4)\n",
    "        hn5 = int(1e4)\n",
    "        hn6 = int(1e4)\n",
    "        hn7 = int(1e4)\n",
    "        self.conv0 = nn.Conv2d(1, 25, 1)\n",
    "        self.pool = nn.MaxPool2d(2, 2)\n",
    "        self.conv1 = nn.Conv2d(25, 25, 1)\n",
    "        self.conv2 = nn.Conv2d(25, 25, 1)\n",
    "        self.linear1 = torch.nn.Linear(58000, hn1)\n",
    "        self.linear2 = torch.nn.Linear(hn1, hn2)\n",
    "        self.linear3 = torch.nn.Linear(hn2, hn3)\n",
    "        self.linear4 = torch.nn.Linear(hn3, hn4)\n",
    "        self.linear5 = torch.nn.Linear(hn4, hn5)\n",
    "        self.linear6 = torch.nn.Linear(hn5, hn6)\n",
    "        self.linear7 = torch.nn.Linear(hn6, hn7)\n",
    "        self.linear8 = torch.nn.Linear(hn7, 441)\n",
    "\n",
    "#         self.conv1 = nn.Conv2d(6, 16, 5)\n",
    "\n",
    "#         self.linear0 = torch.nn.Linear(290000, 441)\n",
    "\n",
    "    def forward(self, x):\n",
    "        x = torch.unsqueeze(x, 1)\n",
    "#         print(x.shape)\n",
    "        x = self.pool(F.relu(self.conv0(x)))\n",
    "        x = F.relu(self.conv1(x))\n",
    "        x = F.relu(self.conv2(x))\n",
    "#         print(t.mean(x))\n",
    "#         x = self.pool(F.relu(self.conv1(x)))\n",
    "        x = x.view(x.shape[0], -1)\n",
    "#         x = x.view(-1, x.size(1)*x.size(2)*x.size(3))\n",
    "        print(x.shape)\n",
    "#     16, 464112\n",
    "        x = self.linear1(x)\n",
    "        x = self.linear2(x)\n",
    "        x = self.linear3(x)\n",
    "        x = self.linear4(x)\n",
    "        x = self.linear5(x)\n",
    "        x = self.linear6(x)\n",
    "        x = self.linear7(x)\n",
    "        x = self.linear8(x)\n",
    "#         x = F.relu(self.linear0(x))\n",
    "#         x = F.relu(self.linear1(x))\n",
    "        #x = self.linear1(x)\n",
    "        return x\n",
    "# class FCL(torch.nn.Module):\n",
    "#     def __init__(self,ampl):\n",
    "\n",
    "#     def forward(self, x):\n",
    "#         x = x.view(x.shape[0], -1)\n",
    "#         x = self.linear1(x)\n",
    "#         x = self.linear2(x)\n",
    "#         x = self.linear3(x)\n",
    "#         x = self.linear4(x)\n",
    "#         return x"
   ]
  },
  {
   "cell_type": "markdown",
   "metadata": {},
   "source": [
    "## FCL"
   ]
  },
  {
   "cell_type": "code",
   "execution_count": 32,
   "metadata": {},
   "outputs": [],
   "source": [
    "# class FCL(torch.nn.Module):\n",
    "#     def __init__(self,ampl):\n",
    "#         super().__init__()\n",
    "#         hn1 = int(1e4)\n",
    "#         hn2 = int(1e4)\n",
    "# #         hn3 = int(1e4)\n",
    "#         self.linear1 = torch.nn.Linear(1743, hn1)\n",
    "#         self.linear2 = torch.nn.Linear(hn1, hn2)\n",
    "#         self.linear3 = torch.nn.Linear(hn2, ampl)\n",
    "# #         self.linear4 = torch.nn.Linear(hn3, ampl)\n",
    "#     def forward(self, x):\n",
    "#         x = x.view(x.shape[0], -1)\n",
    "# #         print(x.shape)\n",
    "#         x = self.linear1(x)\n",
    "#         x = self.linear2(x)\n",
    "#         x = self.linear3(x)\n",
    "# #         x = self.linear4(x)\n",
    "#         return x"
   ]
  },
  {
   "cell_type": "code",
   "execution_count": 33,
   "metadata": {},
   "outputs": [],
   "source": [
    "class FCL(torch.nn.Module):\n",
    "    def __init__(self,ampl):\n",
    "        super().__init__()\n",
    "        hn1 = int(1e4)\n",
    "        hn2 = int(1e4)\n",
    "        hn3 = int(1e4)\n",
    "        self.linear1 = torch.nn.Linear(1161, hn1)\n",
    "        self.linear2 = torch.nn.Linear(hn1, hn2)\n",
    "        self.linear3 = torch.nn.Linear(hn2, hn3)\n",
    "        self.linear4 = torch.nn.Linear(hn3, ampl)\n",
    "    def forward(self, x):\n",
    "        x = x.view(x.shape[0], -1)\n",
    "#         print(x.shape)\n",
    "        x = self.linear1(x)\n",
    "        x = self.linear2(x)\n",
    "        x = self.linear3(x)\n",
    "        x = self.linear4(x)\n",
    "        return x"
   ]
  },
  {
   "cell_type": "code",
   "execution_count": 34,
   "metadata": {},
   "outputs": [],
   "source": [
    "class TNet(nn.Module):\n",
    "    def __init__(self) :\n",
    "        super().__init__()\n",
    "#         self.pool = nn.MaxPool2d(m_kernel,m_stride)\n",
    "#         idt = tuple(map(lambda x: x, \\\n",
    "#                 getsize((new_h, int(new_h*ratio)),m_kernel,m_stride)))\n",
    "        input_dim = 1161\n",
    "        ampl = 441\n",
    "        rep = '(np.repeat(1024, 10),512)'\n",
    "        hidar = {rep : (np.repeat(1024, 10),512)}\n",
    "        hidden_dim = np.hstack(hidar[rep])\n",
    "#        print(idt)\n",
    "        current_dim = input_dim\n",
    "        self.layers = nn.ModuleList()\n",
    "        for hdim in hidden_dim:\n",
    "            self.layers.append(nn.Linear(current_dim, hdim))\n",
    "            current_dim = hdim\n",
    "        self.layers.append(nn.Linear(current_dim, ampl))\n",
    "        \n",
    "    def forward(self, x):\n",
    "#        print('start',x.shape)\n",
    "#         x = self.pool(x)\n",
    "#        print('view',x.shape)\n",
    "        x = x.view(x.shape[0],-1)\n",
    "#         print(x.shape)\n",
    "        for layer in self.layers[:-1]:\n",
    "#            print(x.shape)\n",
    "            x = F.leaky_relu(layer(x))\n",
    "        out = F.softmax(self.layers[-1](x))\n",
    "        return out  \n",
    "nnarchitectures = {'TNet':TNet}"
   ]
  },
  {
   "cell_type": "code",
   "execution_count": 35,
   "metadata": {},
   "outputs": [
    {
     "name": "stdout",
     "output_type": "stream",
     "text": [
      "Initializing Datasets and Dataloaders...\n"
     ]
    }
   ],
   "source": [
    "ampl = 16\n",
    "batch_size = 8\n",
    "data_dir = 'D:/seva/598test'\n",
    "model_name = \"densenet\"\n",
    "ds = 50\n",
    "data_transforms = {\n",
    "    'train': transforms.Compose([\n",
    "#             AmpCrop(ampl),\\\n",
    "#             Minmax(tmean[:,:ampl]),\\\n",
    "            Minmax3Dimage((0.60117054538415,110.972068294924)),\\\n",
    "           Downsample(ds),\\\n",
    "#           Shuffleinput(0),\\\n",
    "#             Normalize(),\\\n",
    "#             Reshape(224),\\\n",
    "            ToTensor(device)\n",
    "    ]),\n",
    "    'val': transforms.Compose([\n",
    "#             AmpCrop(ampl),\\\n",
    "#             Minmax(tmean[:,:ampl]),\\\n",
    "            Minmax3Dimage((0.60117054538415,110.972068294924)),\\\n",
    "           Downsample(ds),\\\n",
    "#           Shuffleinput(0),\\\n",
    "#             Normalize(),\\\n",
    "#             Reshape(224),\\\n",
    "            ToTensor(device)\n",
    "    ]),\n",
    "}\n",
    "print(\"Initializing Datasets and Dataloaders...\")\n",
    "\n",
    "# Create training and validation datasets\n",
    "image_datasets = {x: Seed3D_Dataset(root_dir=os.path.join(data_dir,x), \\\n",
    "                                    transform=data_transforms[x]) \n",
    "                  for x in ['train', 'val']}\n",
    "# Create training and validation dataloaders\n",
    "dataloaders_dict = {x: torch.utils.data.DataLoader(image_datasets[x], batch_size=batch_size, shuffle=False, num_workers=0) for x in ['train', 'val']}\n",
    "\n",
    "# Detect if we have a GPU available\n",
    "device = torch.device(\"cuda:0\" if torch.cuda.is_available() else \"cpu\")\n",
    "\n",
    "# dataset = Seed3D_Dataset(csv_file=mainpath+'/sh_paramters.csv', root_dir=data_dir, transform=data_transform)\n",
    "# dataloader = DataLoader(dataset, bs,\n",
    "#                         shuffle=False, num_workers=0)"
   ]
  },
  {
   "cell_type": "code",
   "execution_count": 36,
   "metadata": {},
   "outputs": [],
   "source": [
    "# phase = 'train'\n",
    "# bn = 100\n",
    "# for i_batch, sample_batched in enumerate(dataloaders_dict[phase]):\n",
    "#     print(i_batch)\n",
    "#     if i_batch == bn:\n",
    "#         break\n",
    "#     inputs = sample_batched['image']\n",
    "#     labels = sample_batched['landmarks']"
   ]
  },
  {
   "cell_type": "markdown",
   "metadata": {},
   "source": [
    "Create the Optimizer\n",
    "--------------------\n",
    "\n",
    "Now that the model structure is correct, the final step for finetuning\n",
    "and feature extracting is to create an optimizer that only updates the\n",
    "desired parameters. Recall that after loading the pretrained model, but\n",
    "before reshaping, if ``feature_extract=True`` we manually set all of the\n",
    "parameter’s ``.requires_grad`` attributes to False. Then the\n",
    "reinitialized layer’s parameters have ``.requires_grad=True`` by\n",
    "default. So now we know that *all parameters that have\n",
    ".requires_grad=True should be optimized.* Next, we make a list of such\n",
    "parameters and input this list to the SGD algorithm constructor.\n",
    "\n",
    "To verify this, check out the printed parameters to learn. When\n",
    "finetuning, this list should be long and include all of the model\n",
    "parameters. However, when feature extracting this list should be short\n",
    "and only include the weights and biases of the reshaped layers.\n",
    "\n",
    "\n"
   ]
  },
  {
   "cell_type": "code",
   "execution_count": 37,
   "metadata": {
    "collapsed": false,
    "jupyter": {
     "outputs_hidden": false
    }
   },
   "outputs": [
    {
     "name": "stdout",
     "output_type": "stream",
     "text": [
      "Params to learn:\n",
      "\t classifier.weight\n",
      "\t classifier.bias\n"
     ]
    }
   ],
   "source": [
    "# Send the model to GPU\n",
    "model_ft = model_ft.to(device)\n",
    "\n",
    "# Gather the parameters to be optimized/updated in this run. If we are\n",
    "#  finetuning we will be updating all parameters. However, if we are \n",
    "#  doing feature extract method, we will only update the parameters\n",
    "#  that we have just initialized, i.e. the parameters with requires_grad\n",
    "#  is True.\n",
    "params_to_update = model_ft.parameters()\n",
    "print(\"Params to learn:\")\n",
    "if feature_extract:\n",
    "    params_to_update = []\n",
    "    for name,param in model_ft.named_parameters():\n",
    "        if param.requires_grad == True:\n",
    "            params_to_update.append(param)\n",
    "            print(\"\\t\",name)\n",
    "else:\n",
    "    for name,param in model_ft.named_parameters():\n",
    "        if param.requires_grad == True:\n",
    "            print(\"\\t\",name)\n",
    "\n",
    "# Observe that all parameters are being optimized\n",
    "optimizer_ft = optim.SGD(params_to_update, lr=0.001, momentum=0.9)"
   ]
  },
  {
   "cell_type": "markdown",
   "metadata": {},
   "source": [
    "Run Training and Validation Step\n",
    "--------------------------------\n",
    "\n",
    "Finally, the last step is to setup the loss for the model, then run the\n",
    "training and validation function for the set number of epochs. Notice,\n",
    "depending on the number of epochs this step may take a while on a CPU.\n",
    "Also, the default learning rate is not optimal for all of the models, so\n",
    "to achieve maximum accuracy it would be necessary to tune for each model\n",
    "separately.\n",
    "\n",
    "\n"
   ]
  },
  {
   "cell_type": "code",
   "execution_count": null,
   "metadata": {},
   "outputs": [],
   "source": []
  },
  {
   "cell_type": "code",
   "execution_count": 38,
   "metadata": {
    "collapsed": false,
    "jupyter": {
     "outputs_hidden": false
    }
   },
   "outputs": [
    {
     "name": "stdout",
     "output_type": "stream",
     "text": [
      "Epoch 0/9\n",
      "----------\n",
      "torch.Size([1, 58000])\n"
     ]
    },
    {
     "name": "stderr",
     "output_type": "stream",
     "text": [
      "C:\\Users\\v.cherepashkin\\Anaconda3\\envs\\sh\\lib\\site-packages\\torch\\nn\\modules\\loss.py:446: UserWarning: Using a target size (torch.Size([8, 441])) that is different to the input size (torch.Size([1, 441])). This will likely lead to incorrect results due to broadcasting. Please ensure they have the same size.\n",
      "  return F.mse_loss(input, target, reduction=self.reduction)\n"
     ]
    },
    {
     "ename": "RuntimeError",
     "evalue": "CUDA out of memory. Tried to allocate 2.16 GiB (GPU 0; 11.00 GiB total capacity; 8.86 GiB already allocated; 640.50 MiB free; 8.87 GiB reserved in total by PyTorch)",
     "output_type": "error",
     "traceback": [
      "\u001b[1;31m---------------------------------------------------------------------------\u001b[0m",
      "\u001b[1;31mRuntimeError\u001b[0m                              Traceback (most recent call last)",
      "\u001b[1;32m<ipython-input-38-0651cdee62d2>\u001b[0m in \u001b[0;36m<module>\u001b[1;34m\u001b[0m\n\u001b[0;32m     20\u001b[0m             \u001b[0meps\u001b[0m\u001b[1;33m=\u001b[0m\u001b[1;36m1e-08\u001b[0m\u001b[1;33m,\u001b[0m \u001b[0mweight_decay\u001b[0m\u001b[1;33m=\u001b[0m\u001b[1;36m0\u001b[0m\u001b[1;33m,\u001b[0m\u001b[0;31m \u001b[0m\u001b[0;31m\\\u001b[0m\u001b[1;33m\u001b[0m\u001b[1;33m\u001b[0m\u001b[0m\n\u001b[0;32m     21\u001b[0m             amsgrad=False)\n\u001b[1;32m---> 22\u001b[1;33m \u001b[0mmodel\u001b[0m\u001b[1;33m,\u001b[0m \u001b[0mlossar\u001b[0m \u001b[1;33m=\u001b[0m \u001b[0mtrain_model\u001b[0m\u001b[1;33m(\u001b[0m\u001b[0msmodel\u001b[0m\u001b[1;33m,\u001b[0m \u001b[0mdataloaders_dict\u001b[0m\u001b[1;33m,\u001b[0m \u001b[0mcriterion\u001b[0m\u001b[1;33m,\u001b[0m \u001b[0mscratch_optimizer\u001b[0m\u001b[1;33m,\u001b[0m \u001b[0mnum_epochs\u001b[0m\u001b[1;33m=\u001b[0m\u001b[0mnum_epochs\u001b[0m\u001b[1;33m,\u001b[0m \u001b[0mis_inception\u001b[0m\u001b[1;33m=\u001b[0m\u001b[1;33m(\u001b[0m\u001b[0mmodel_name\u001b[0m\u001b[1;33m==\u001b[0m\u001b[1;34m\"inception\"\u001b[0m\u001b[1;33m)\u001b[0m\u001b[1;33m)\u001b[0m\u001b[1;33m\u001b[0m\u001b[1;33m\u001b[0m\u001b[0m\n\u001b[0m",
      "\u001b[1;32m<ipython-input-10-127e8e1fb31f>\u001b[0m in \u001b[0;36mtrain_model\u001b[1;34m(model, dataloaders, criterion, optimizer, num_epochs, is_inception)\u001b[0m\n\u001b[0;32m     70\u001b[0m                     \u001b[1;32mif\u001b[0m \u001b[0mphase\u001b[0m \u001b[1;33m==\u001b[0m \u001b[1;34m'train'\u001b[0m\u001b[1;33m:\u001b[0m\u001b[1;33m\u001b[0m\u001b[1;33m\u001b[0m\u001b[0m\n\u001b[0;32m     71\u001b[0m                         \u001b[0mloss\u001b[0m\u001b[1;33m.\u001b[0m\u001b[0mbackward\u001b[0m\u001b[1;33m(\u001b[0m\u001b[1;33m)\u001b[0m\u001b[1;33m\u001b[0m\u001b[1;33m\u001b[0m\u001b[0m\n\u001b[1;32m---> 72\u001b[1;33m                         \u001b[0moptimizer\u001b[0m\u001b[1;33m.\u001b[0m\u001b[0mstep\u001b[0m\u001b[1;33m(\u001b[0m\u001b[1;33m)\u001b[0m\u001b[1;33m\u001b[0m\u001b[1;33m\u001b[0m\u001b[0m\n\u001b[0m\u001b[0;32m     73\u001b[0m \u001b[1;33m\u001b[0m\u001b[0m\n\u001b[0;32m     74\u001b[0m                 \u001b[1;31m# statistics\u001b[0m\u001b[1;33m\u001b[0m\u001b[1;33m\u001b[0m\u001b[1;33m\u001b[0m\u001b[0m\n",
      "\u001b[1;32m~\\Anaconda3\\envs\\sh\\lib\\site-packages\\torch\\autograd\\grad_mode.py\u001b[0m in \u001b[0;36mdecorate_context\u001b[1;34m(*args, **kwargs)\u001b[0m\n\u001b[0;32m     24\u001b[0m         \u001b[1;32mdef\u001b[0m \u001b[0mdecorate_context\u001b[0m\u001b[1;33m(\u001b[0m\u001b[1;33m*\u001b[0m\u001b[0margs\u001b[0m\u001b[1;33m,\u001b[0m \u001b[1;33m**\u001b[0m\u001b[0mkwargs\u001b[0m\u001b[1;33m)\u001b[0m\u001b[1;33m:\u001b[0m\u001b[1;33m\u001b[0m\u001b[1;33m\u001b[0m\u001b[0m\n\u001b[0;32m     25\u001b[0m             \u001b[1;32mwith\u001b[0m \u001b[0mself\u001b[0m\u001b[1;33m.\u001b[0m\u001b[0m__class__\u001b[0m\u001b[1;33m(\u001b[0m\u001b[1;33m)\u001b[0m\u001b[1;33m:\u001b[0m\u001b[1;33m\u001b[0m\u001b[1;33m\u001b[0m\u001b[0m\n\u001b[1;32m---> 26\u001b[1;33m                 \u001b[1;32mreturn\u001b[0m \u001b[0mfunc\u001b[0m\u001b[1;33m(\u001b[0m\u001b[1;33m*\u001b[0m\u001b[0margs\u001b[0m\u001b[1;33m,\u001b[0m \u001b[1;33m**\u001b[0m\u001b[0mkwargs\u001b[0m\u001b[1;33m)\u001b[0m\u001b[1;33m\u001b[0m\u001b[1;33m\u001b[0m\u001b[0m\n\u001b[0m\u001b[0;32m     27\u001b[0m         \u001b[1;32mreturn\u001b[0m \u001b[0mcast\u001b[0m\u001b[1;33m(\u001b[0m\u001b[0mF\u001b[0m\u001b[1;33m,\u001b[0m \u001b[0mdecorate_context\u001b[0m\u001b[1;33m)\u001b[0m\u001b[1;33m\u001b[0m\u001b[1;33m\u001b[0m\u001b[0m\n\u001b[0;32m     28\u001b[0m \u001b[1;33m\u001b[0m\u001b[0m\n",
      "\u001b[1;32m~\\Anaconda3\\envs\\sh\\lib\\site-packages\\torch\\optim\\adam.py\u001b[0m in \u001b[0;36mstep\u001b[1;34m(self, closure)\u001b[0m\n\u001b[0;32m     87\u001b[0m                         \u001b[0mstate\u001b[0m\u001b[1;33m[\u001b[0m\u001b[1;34m'step'\u001b[0m\u001b[1;33m]\u001b[0m \u001b[1;33m=\u001b[0m \u001b[1;36m0\u001b[0m\u001b[1;33m\u001b[0m\u001b[1;33m\u001b[0m\u001b[0m\n\u001b[0;32m     88\u001b[0m                         \u001b[1;31m# Exponential moving average of gradient values\u001b[0m\u001b[1;33m\u001b[0m\u001b[1;33m\u001b[0m\u001b[1;33m\u001b[0m\u001b[0m\n\u001b[1;32m---> 89\u001b[1;33m                         \u001b[0mstate\u001b[0m\u001b[1;33m[\u001b[0m\u001b[1;34m'exp_avg'\u001b[0m\u001b[1;33m]\u001b[0m \u001b[1;33m=\u001b[0m \u001b[0mtorch\u001b[0m\u001b[1;33m.\u001b[0m\u001b[0mzeros_like\u001b[0m\u001b[1;33m(\u001b[0m\u001b[0mp\u001b[0m\u001b[1;33m,\u001b[0m \u001b[0mmemory_format\u001b[0m\u001b[1;33m=\u001b[0m\u001b[0mtorch\u001b[0m\u001b[1;33m.\u001b[0m\u001b[0mpreserve_format\u001b[0m\u001b[1;33m)\u001b[0m\u001b[1;33m\u001b[0m\u001b[1;33m\u001b[0m\u001b[0m\n\u001b[0m\u001b[0;32m     90\u001b[0m                         \u001b[1;31m# Exponential moving average of squared gradient values\u001b[0m\u001b[1;33m\u001b[0m\u001b[1;33m\u001b[0m\u001b[1;33m\u001b[0m\u001b[0m\n\u001b[0;32m     91\u001b[0m                         \u001b[0mstate\u001b[0m\u001b[1;33m[\u001b[0m\u001b[1;34m'exp_avg_sq'\u001b[0m\u001b[1;33m]\u001b[0m \u001b[1;33m=\u001b[0m \u001b[0mtorch\u001b[0m\u001b[1;33m.\u001b[0m\u001b[0mzeros_like\u001b[0m\u001b[1;33m(\u001b[0m\u001b[0mp\u001b[0m\u001b[1;33m,\u001b[0m \u001b[0mmemory_format\u001b[0m\u001b[1;33m=\u001b[0m\u001b[0mtorch\u001b[0m\u001b[1;33m.\u001b[0m\u001b[0mpreserve_format\u001b[0m\u001b[1;33m)\u001b[0m\u001b[1;33m\u001b[0m\u001b[1;33m\u001b[0m\u001b[0m\n",
      "\u001b[1;31mRuntimeError\u001b[0m: CUDA out of memory. Tried to allocate 2.16 GiB (GPU 0; 11.00 GiB total capacity; 8.86 GiB already allocated; 640.50 MiB free; 8.87 GiB reserved in total by PyTorch)"
     ]
    }
   ],
   "source": [
    "# Setup the loss fxn\n",
    "#criterion = nn.CrossEntropyLoss()\n",
    "criterion = nn.MSELoss(reduction='mean')\n",
    "bn = 10\n",
    "num_epochs = 10\n",
    "# model_name = 'densenet'\n",
    "lossar = np.zeros([2,num_epochs])\n",
    "#scratch_optimizer = optim.SGD(scratch_model.parameters(), lr=0.001, momentum=0.9)\n",
    "#for i,lr in enumerate([0.0001, 0.0005, 0.001, 0.005]):\n",
    "num_classes = 441\n",
    "ampl = num_classes\n",
    "# smodel, input_size = initialize_model(model_name, num_classes, feature_extract=False, use_pretrained=False)\n",
    "# Train and evaluate\n",
    "#smodel = FCL(ampl)\n",
    "#smodel = TNet()\n",
    "smodel = CNet()\n",
    "smodel.to(device)\n",
    "scratch_optimizer = torch.optim.Adam(smodel.parameters(), \\\n",
    "            lr=5e-5, betas=(0.9, 0.999),\\\n",
    "            eps=1e-08, weight_decay=0, \\\n",
    "            amsgrad=False)\n",
    "model, lossar = train_model(smodel, dataloaders_dict, criterion, scratch_optimizer, num_epochs=num_epochs, is_inception=(model_name==\"inception\"))"
   ]
  },
  {
   "cell_type": "code",
   "execution_count": 12,
   "metadata": {},
   "outputs": [
    {
     "data": {
      "text/plain": [
       "torch.Size([8, 1161])"
      ]
     },
     "execution_count": 12,
     "metadata": {},
     "output_type": "execute_result"
    }
   ],
   "source": [
    "x = torch.zeros([8, 1161, 3])\n",
    "y = torch.zeros([8, 1161])\n",
    "for i in range(x.shape[0]):\n",
    "    y[i,:] = torch.sqrt(x[i,:,0]*x[i,:,0]+x[i,:,1]*x[i,:,1]+x[i,:,2]*x[i,:,2])\n",
    "y.shape"
   ]
  },
  {
   "cell_type": "code",
   "execution_count": 13,
   "metadata": {},
   "outputs": [
    {
     "name": "stderr",
     "output_type": "stream",
     "text": [
      "<ipython-input-13-6170f263e974>:9: MatplotlibDeprecationWarning: Passing the minor parameter of set_ticks() positionally is deprecated since Matplotlib 3.2; the parameter will become keyword-only two minor releases later.\n",
      "  axes.set_xticks(np.arange(0, int(num_epochs*1.1)),\\\n"
     ]
    },
    {
     "data": {
      "text/plain": [
       "Text(0, 0.5, 'MSE Loss')"
      ]
     },
     "execution_count": 13,
     "metadata": {},
     "output_type": "execute_result"
    },
    {
     "data": {
      "image/png": "[encoded data removed]",
      "text/plain": [
       "<Figure size 648x360 with 1 Axes>"
      ]
     },
     "metadata": {
      "needs_background": "light"
     },
     "output_type": "display_data"
    }
   ],
   "source": [
    "plt.rcParams[\"figure.figsize\"] = (9,5)\n",
    "fig = plt.figure()\n",
    "axes = plt.gca()\n",
    "# ymin, ymax = , 2\n",
    "# axes.set_ylim([ymin,ymax])\n",
    "labels_text = ['train', 'val']\n",
    "for i in range(2):\n",
    "    plt.plot(np.arange(lossar.shape[1]),lossar[i,:],label=labels_text[i],linewidth=3)\n",
    "axes.set_xticks(np.arange(0, int(num_epochs*1.1)),\\\n",
    "                          max(int(num_epochs*0.1),1))\n",
    "plt.grid()\n",
    "plt.legend(bbox_to_anchor=(1.05, 1), loc='best', borderaxespad=0., \\\n",
    "           fontsize = 24)\n",
    "plt.xticks(fontsize=24)\n",
    "plt.yticks(fontsize=24)\n",
    "plt.autoscale(enable=True, axis='both', tight=None)\n",
    "# ymin, ymax = -, 2\n",
    "# axes.set_ylim([ymin,ymax])\n",
    "ymin, ymax = 0,2\n",
    "axes.set_ylim([ymin,ymax])\n",
    "plt.xlabel('Epoch', fontsize=24)\n",
    "plt.ylabel('MSE Loss', fontsize=24)"
   ]
  },
  {
   "cell_type": "code",
   "execution_count": 94,
   "metadata": {},
   "outputs": [
    {
     "name": "stderr",
     "output_type": "stream",
     "text": [
      "<ipython-input-94-ddb51a87ee12>:9: MatplotlibDeprecationWarning: Passing the minor parameter of set_ticks() positionally is deprecated since Matplotlib 3.2; the parameter will become keyword-only two minor releases later.\n",
      "  axes.set_xticks(np.arange(0, int(num_epochs*1.1)),\\\n"
     ]
    },
    {
     "data": {
      "text/plain": [
       "Text(0, 0.5, 'log10(MSE Loss)')"
      ]
     },
     "execution_count": 94,
     "metadata": {},
     "output_type": "execute_result"
    },
    {
     "data": {
      "image/png": "[encoded data removed]",
      "text/plain": [
       "<Figure size 648x360 with 1 Axes>"
      ]
     },
     "metadata": {
      "needs_background": "light"
     },
     "output_type": "display_data"
    }
   ],
   "source": [
    "plt.rcParams[\"figure.figsize\"] = (9,5)\n",
    "fig = plt.figure()\n",
    "axes = plt.gca()\n",
    "# ymin, ymax = , 2\n",
    "# axes.set_ylim([ymin,ymax])\n",
    "labels_text = ['train', 'val']\n",
    "for i in range(2):\n",
    "    plt.plot(np.arange(lossar.shape[1]),lossar[i,:],label=labels_text[i],linewidth=3)\n",
    "axes.set_xticks(np.arange(0, int(num_epochs*1.1)),\\\n",
    "                          max(int(num_epochs*0.1),1))\n",
    "plt.grid()\n",
    "plt.legend(bbox_to_anchor=(1.05, 1), loc='best', borderaxespad=0., \\\n",
    "           fontsize = 24)\n",
    "plt.xticks(fontsize=24)\n",
    "plt.yticks(fontsize=24)\n",
    "plt.autoscale(enable=True, axis='both', tight=None)\n",
    "# ymin, ymax = -, 2\n",
    "# axes.set_ylim([ymin,ymax])\n",
    "ymin, ymax = 0,100\n",
    "axes.set_ylim([ymin,ymax])\n",
    "plt.xlabel('Epoch', fontsize=24)\n",
    "plt.ylabel('log10(MSE Loss)', fontsize=24)"
   ]
  },
  {
   "cell_type": "markdown",
   "metadata": {},
   "source": [
    "## Return SH coefficient vector from the trained model"
   ]
  },
  {
   "cell_type": "code",
   "execution_count": null,
   "metadata": {},
   "outputs": [],
   "source": [
    "print(tmean[:,:ampl].shape)"
   ]
  },
  {
   "cell_type": "code",
   "execution_count": 68,
   "metadata": {},
   "outputs": [],
   "source": [
    "phase = 'val'\n",
    "bn = 1\n",
    "ampl = 441\n",
    "dataloaders = dataloaders_dict\n",
    "for i_batch, sample_batched in enumerate(dataloaders[phase]):\n",
    "    if i_batch == bn:\n",
    "        break\n",
    "    inputs = sample_batched['image']\n",
    "    x = inputs\n",
    "    y = torch.zeros([x.shape[0], x.shape[1]])\n",
    "    y = y.to(device)\n",
    "    for i in range(x.shape[0]):\n",
    "        y[i,:] = torch.sqrt(x[i,:,0]*x[i,:,0]+x[i,:,1]*x[i,:,1]+x[i,:,2]*x[i,:,2])\n",
    "    gt = sample_batched['landmarks']\n",
    "    o = model(y)\n",
    "\n",
    "#    print(model(inputs).shape)\n",
    "#    output = np.multiply(model(inputs).detach().cpu().numpy(),tmean[3,:ampl]-tmean[2,:ampl])+tmean[2,:ampl]\n",
    "#    real_output = np.multiply(gt.detach().cpu().numpy(),tmean[3,:ampl]-tmean[2,:ampl])+tmean[2,:ampl]\n",
    "#     print(output[0])\n",
    "#     print(real_output[0])"
   ]
  },
  {
   "cell_type": "code",
   "execution_count": 69,
   "metadata": {},
   "outputs": [],
   "source": [
    "o = o.detach().cpu().numpy()\n",
    "gt = gt.detach().cpu().numpy()"
   ]
  },
  {
   "cell_type": "code",
   "execution_count": 70,
   "metadata": {},
   "outputs": [],
   "source": [
    "np.savetxt('D:/seva/598test/F_N2output', o[0], delimiter = ',')"
   ]
  },
  {
   "cell_type": "code",
   "execution_count": 90,
   "metadata": {},
   "outputs": [],
   "source": [
    "def reject_outliers(data, m=2):\n",
    "    return data[abs(data - np.mean(data)) < m * np.std(data)]"
   ]
  },
  {
   "cell_type": "code",
   "execution_count": 91,
   "metadata": {},
   "outputs": [],
   "source": [
    "phase = 'train'\n",
    "bn = 5000\n",
    "ampl = 441\n",
    "#dataloaders = dataloaders_dict['val']\n",
    "mr = np.zeros([441,150])\n",
    "for i_batch, sample_batched in enumerate(dataloaders_dict['val']):\n",
    "    if i_batch == bn:\n",
    "        break\n",
    "    inputs = sample_batched['image']\n",
    "    gt = sample_batched['landmarks']\n",
    "    o = model(inputs)\n",
    "    o = o.detach().cpu().numpy()\n",
    "    gt = gt.detach().cpu().numpy()\n",
    "#     print(np.mean((o-gt)/gt,axis = 1))\n",
    "    for i in range(441):\n",
    "        mr[i,i_batch] = np.mean(reject_outliers((o[:,i]-gt[:,i])/gt[:,i], m=2))\n",
    "#     if abs(mr[192,i_batch])>100:\n",
    "#         print(i_batch)\n",
    "#    newar = np.mean(mr,axis=1)\n",
    "        \n",
    "#    print(model(inputs).shape)\n",
    "#    output = np.multiply(model(inputs).detach().cpu().numpy(),tmean[3,:ampl]-tmean[2,:ampl])+tmean[2,:ampl]\n",
    "#    real_output = np.multiply(gt.detach().cpu().numpy(),tmean[3,:ampl]-tmean[2,:ampl])+tmean[2,:ampl]\n",
    "#     print(output[0])\n",
    "#     print(real_output[0])"
   ]
  },
  {
   "cell_type": "code",
   "execution_count": 87,
   "metadata": {},
   "outputs": [
    {
     "data": {
      "text/plain": [
       "(6, 441)"
      ]
     },
     "execution_count": 87,
     "metadata": {},
     "output_type": "execute_result"
    }
   ],
   "source": [
    "o.shape"
   ]
  },
  {
   "cell_type": "code",
   "execution_count": 89,
   "metadata": {},
   "outputs": [
    {
     "name": "stdout",
     "output_type": "stream",
     "text": [
      "-0.16552381 1.3217894e-07\n"
     ]
    }
   ],
   "source": [
    "for i_batch, sample_batched in enumerate(dataloaders_dict['val']):\n",
    "    if i_batch == 94:\n",
    "        inputs = sample_batched['image']\n",
    "        gt = sample_batched['landmarks']\n",
    "        o = model(inputs)\n",
    "        o = o.detach().cpu().numpy()\n",
    "        gt = gt.detach().cpu().numpy()\n",
    "        print(o[7,192],gt[7,192])\n",
    "#         print((o[7,192]-gt[7,192])/gt[7,192])\n",
    "#         for i in range(8):\n",
    "#             print((o[i,192]-gt[i,192])/gt[i,192])"
   ]
  },
  {
   "cell_type": "code",
   "execution_count": 68,
   "metadata": {},
   "outputs": [
    {
     "data": {
      "text/plain": [
       "(441, 150)"
      ]
     },
     "execution_count": 68,
     "metadata": {},
     "output_type": "execute_result"
    }
   ],
   "source": [
    "mr.shape"
   ]
  },
  {
   "cell_type": "code",
   "execution_count": 92,
   "metadata": {},
   "outputs": [
    {
     "data": {
      "text/plain": [
       "[<matplotlib.lines.Line2D at 0x22cb6835d60>]"
      ]
     },
     "execution_count": 92,
     "metadata": {},
     "output_type": "execute_result"
    },
    {
     "data": {
      "image/png": "[encoded data removed]",
      "text/plain": [
       "<Figure size 648x360 with 1 Axes>"
      ]
     },
     "metadata": {
      "needs_background": "light"
     },
     "output_type": "display_data"
    }
   ],
   "source": [
    "plt.plot(np.mean(mr,axis=1))"
   ]
  },
  {
   "cell_type": "code",
   "execution_count": 69,
   "metadata": {},
   "outputs": [
    {
     "data": {
      "text/plain": [
       "[<matplotlib.lines.Line2D at 0x22cba0df940>]"
      ]
     },
     "execution_count": 69,
     "metadata": {},
     "output_type": "execute_result"
    },
    {
     "data": {
      "image/png": "[encoded data removed]",
      "text/plain": [
       "<Figure size 648x360 with 1 Axes>"
      ]
     },
     "metadata": {
      "needs_background": "light"
     },
     "output_type": "display_data"
    }
   ],
   "source": [
    "plt.plot(np.mean(mr,axis=1))"
   ]
  },
  {
   "cell_type": "code",
   "execution_count": 71,
   "metadata": {},
   "outputs": [
    {
     "data": {
      "text/plain": [
       "192"
      ]
     },
     "execution_count": 71,
     "metadata": {},
     "output_type": "execute_result"
    }
   ],
   "source": [
    "np.argmin(np.mean(mr,axis=1))"
   ]
  },
  {
   "cell_type": "code",
   "execution_count": 64,
   "metadata": {},
   "outputs": [
    {
     "data": {
      "text/plain": [
       "620.0239587095876"
      ]
     },
     "execution_count": 64,
     "metadata": {},
     "output_type": "execute_result"
    }
   ],
   "source": [
    "newar = np.mean(mr,axis=1)\n",
    "newar[192]"
   ]
  },
  {
   "cell_type": "code",
   "execution_count": 82,
   "metadata": {},
   "outputs": [
    {
     "name": "stdout",
     "output_type": "stream",
     "text": [
      "-0.8329451\n"
     ]
    }
   ],
   "source": [
    "co = o[5,192]\n",
    "cgt = gt[5,192]\n",
    "print((co-cgt)/cgt)"
   ]
  },
  {
   "cell_type": "code",
   "execution_count": 74,
   "metadata": {},
   "outputs": [
    {
     "data": {
      "text/plain": [
       "-0.11618999"
      ]
     },
     "execution_count": 74,
     "metadata": {},
     "output_type": "execute_result"
    }
   ],
   "source": [
    "gt[0,192]"
   ]
  },
  {
   "cell_type": "code",
   "execution_count": 55,
   "metadata": {},
   "outputs": [
    {
     "data": {
      "text/plain": [
       "[<matplotlib.lines.Line2D at 0x288a020c9a0>]"
      ]
     },
     "execution_count": 55,
     "metadata": {},
     "output_type": "execute_result"
    },
    {
     "data": {
      "image/png": "[encoded data removed]",
      "text/plain": [
       "<Figure size 648x360 with 1 Axes>"
      ]
     },
     "metadata": {
      "needs_background": "light"
     },
     "output_type": "display_data"
    }
   ],
   "source": [
    "plt.plot(mr)"
   ]
  },
  {
   "cell_type": "code",
   "execution_count": 43,
   "metadata": {},
   "outputs": [
    {
     "ename": "NameError",
     "evalue": "name 'model' is not defined",
     "output_type": "error",
     "traceback": [
      "\u001b[1;31m---------------------------------------------------------------------------\u001b[0m",
      "\u001b[1;31mNameError\u001b[0m                                 Traceback (most recent call last)",
      "\u001b[1;32m<ipython-input-43-2e9f74b6e708>\u001b[0m in \u001b[0;36m<module>\u001b[1;34m\u001b[0m\n\u001b[0;32m      6\u001b[0m     \u001b[0minputs\u001b[0m \u001b[1;33m=\u001b[0m \u001b[0msample_batched\u001b[0m\u001b[1;33m[\u001b[0m\u001b[1;34m'image'\u001b[0m\u001b[1;33m]\u001b[0m\u001b[1;33m\u001b[0m\u001b[1;33m\u001b[0m\u001b[0m\n\u001b[0;32m      7\u001b[0m     \u001b[0mgt\u001b[0m \u001b[1;33m=\u001b[0m \u001b[0msample_batched\u001b[0m\u001b[1;33m[\u001b[0m\u001b[1;34m'landmarks'\u001b[0m\u001b[1;33m]\u001b[0m\u001b[1;33m\u001b[0m\u001b[1;33m\u001b[0m\u001b[0m\n\u001b[1;32m----> 8\u001b[1;33m     \u001b[0mo\u001b[0m \u001b[1;33m=\u001b[0m \u001b[0mmodel\u001b[0m\u001b[1;33m(\u001b[0m\u001b[0minputs\u001b[0m\u001b[1;33m)\u001b[0m\u001b[1;33m\u001b[0m\u001b[1;33m\u001b[0m\u001b[0m\n\u001b[0m\u001b[0;32m      9\u001b[0m     \u001b[0mloss\u001b[0m\u001b[1;33m=\u001b[0m\u001b[0mcriterion\u001b[0m\u001b[1;33m(\u001b[0m\u001b[0mo\u001b[0m\u001b[1;33m,\u001b[0m\u001b[0mgt\u001b[0m\u001b[1;33m)\u001b[0m\u001b[1;33m\u001b[0m\u001b[1;33m\u001b[0m\u001b[0m\n\u001b[0;32m     10\u001b[0m     \u001b[0mrloss\u001b[0m\u001b[1;33m+=\u001b[0m\u001b[0mloss\u001b[0m\u001b[1;33m.\u001b[0m\u001b[0mitem\u001b[0m\u001b[1;33m(\u001b[0m\u001b[1;33m)\u001b[0m\u001b[1;33m\u001b[0m\u001b[1;33m\u001b[0m\u001b[0m\n",
      "\u001b[1;31mNameError\u001b[0m: name 'model' is not defined"
     ]
    }
   ],
   "source": [
    "bn = 1\n",
    "rloss = 0.0\n",
    "for i_batch, sample_batched in enumerate(dataloaders_dict['train']):\n",
    "    if i_batch == bn:\n",
    "        break\n",
    "    inputs = sample_batched['image']\n",
    "    gt = sample_batched['landmarks']\n",
    "    o = model(inputs)\n",
    "    loss=criterion(o,gt)\n",
    "    rloss+=loss.item()"
   ]
  },
  {
   "cell_type": "code",
   "execution_count": 105,
   "metadata": {},
   "outputs": [
    {
     "name": "stdout",
     "output_type": "stream",
     "text": [
      "1.5302246678620577\n"
     ]
    }
   ],
   "source": [
    "print(rloss/bn)"
   ]
  },
  {
   "cell_type": "code",
   "execution_count": 34,
   "metadata": {
    "collapsed": false,
    "jupyter": {
     "outputs_hidden": false
    }
   },
   "outputs": [
    {
     "name": "stdout",
     "output_type": "stream",
     "text": [
      "Epoch 0/15\n",
      "----------\n",
      "train Loss: 0.004336\n",
      "val Loss: 0.012033\n",
      "\n",
      "Epoch 1/15\n",
      "----------\n",
      "train Loss: 0.004088\n",
      "val Loss: 0.010768\n",
      "\n",
      "Epoch 2/15\n",
      "----------\n",
      "train Loss: 0.003511\n",
      "val Loss: 0.007991\n",
      "\n",
      "Epoch 3/15\n",
      "----------\n",
      "train Loss: 0.002351\n",
      "val Loss: 0.003401\n",
      "\n",
      "Epoch 4/15\n",
      "----------\n",
      "train Loss: 0.000772\n",
      "val Loss: 0.000828\n",
      "\n",
      "Epoch 5/15\n",
      "----------\n",
      "train Loss: 0.000525\n",
      "val Loss: 0.003587\n",
      "\n",
      "Epoch 6/15\n",
      "----------\n",
      "train Loss: 0.000573\n",
      "val Loss: 0.000919\n",
      "\n",
      "Epoch 7/15\n",
      "----------\n",
      "train Loss: 0.000221\n",
      "val Loss: 0.000741\n",
      "\n",
      "Epoch 8/15\n",
      "----------\n",
      "train Loss: 0.000361\n",
      "val Loss: 0.000850\n",
      "\n",
      "Epoch 9/15\n",
      "----------\n",
      "train Loss: 0.000319\n",
      "val Loss: 0.000602\n",
      "\n",
      "Epoch 10/15\n",
      "----------\n",
      "train Loss: 0.000204\n",
      "val Loss: 0.000882\n",
      "\n",
      "Epoch 11/15\n",
      "----------\n",
      "train Loss: 0.000232\n",
      "val Loss: 0.001050\n",
      "\n",
      "Epoch 12/15\n",
      "----------\n",
      "train Loss: 0.000217\n",
      "val Loss: 0.000702\n",
      "\n",
      "Epoch 13/15\n",
      "----------\n",
      "train Loss: 0.000191\n",
      "val Loss: 0.000596\n",
      "\n",
      "Epoch 14/15\n",
      "----------\n",
      "train Loss: 0.000205\n",
      "val Loss: 0.000596\n",
      "\n",
      "Epoch 15/15\n",
      "----------\n",
      "train Loss: 0.000193\n",
      "val Loss: 0.000662\n",
      "\n",
      "Training complete in 2m 16s\n",
      "Epoch 0/15\n",
      "----------\n"
     ]
    },
    {
     "ename": "RuntimeError",
     "evalue": "CUDA out of memory. Tried to allocate 382.00 MiB (GPU 0; 11.00 GiB total capacity; 8.83 GiB already allocated; 306.50 MiB free; 9.19 GiB reserved in total by PyTorch)",
     "output_type": "error",
     "traceback": [
      "\u001b[1;31m---------------------------------------------------------------------------\u001b[0m",
      "\u001b[1;31mRuntimeError\u001b[0m                              Traceback (most recent call last)",
      "\u001b[1;32m<ipython-input-34-ac30b4458b3e>\u001b[0m in \u001b[0;36m<module>\u001b[1;34m\u001b[0m\n\u001b[0;32m     17\u001b[0m                 \u001b[0meps\u001b[0m\u001b[1;33m=\u001b[0m\u001b[1;36m1e-08\u001b[0m\u001b[1;33m,\u001b[0m \u001b[0mweight_decay\u001b[0m\u001b[1;33m=\u001b[0m\u001b[1;36m0\u001b[0m\u001b[1;33m,\u001b[0m\u001b[0;31m \u001b[0m\u001b[0;31m\\\u001b[0m\u001b[1;33m\u001b[0m\u001b[1;33m\u001b[0m\u001b[0m\n\u001b[0;32m     18\u001b[0m                 amsgrad=False)\n\u001b[1;32m---> 19\u001b[1;33m     \u001b[0mmodel\u001b[0m\u001b[1;33m,\u001b[0m \u001b[0mlossar\u001b[0m\u001b[1;33m[\u001b[0m\u001b[0mi\u001b[0m\u001b[1;33m]\u001b[0m \u001b[1;33m=\u001b[0m \u001b[0mtrain_model\u001b[0m\u001b[1;33m(\u001b[0m\u001b[0msmodel\u001b[0m\u001b[1;33m,\u001b[0m \u001b[0mdataloaders_dict\u001b[0m\u001b[1;33m,\u001b[0m \u001b[0mcriterion\u001b[0m\u001b[1;33m,\u001b[0m \u001b[0mscratch_optimizer\u001b[0m\u001b[1;33m,\u001b[0m \u001b[0mnum_epochs\u001b[0m\u001b[1;33m=\u001b[0m\u001b[0mnum_epochs\u001b[0m\u001b[1;33m,\u001b[0m \u001b[0mis_inception\u001b[0m\u001b[1;33m=\u001b[0m\u001b[1;33m(\u001b[0m\u001b[0mmodel_name\u001b[0m\u001b[1;33m==\u001b[0m\u001b[1;34m\"inception\"\u001b[0m\u001b[1;33m)\u001b[0m\u001b[1;33m)\u001b[0m\u001b[1;33m\u001b[0m\u001b[1;33m\u001b[0m\u001b[0m\n\u001b[0m",
      "\u001b[1;32m<ipython-input-9-707019e9139d>\u001b[0m in \u001b[0;36mtrain_model\u001b[1;34m(model, dataloaders, criterion, optimizer, num_epochs, is_inception)\u001b[0m\n\u001b[0;32m     61\u001b[0m                     \u001b[1;32mif\u001b[0m \u001b[0mphase\u001b[0m \u001b[1;33m==\u001b[0m \u001b[1;34m'train'\u001b[0m\u001b[1;33m:\u001b[0m\u001b[1;33m\u001b[0m\u001b[1;33m\u001b[0m\u001b[0m\n\u001b[0;32m     62\u001b[0m                         \u001b[0mloss\u001b[0m\u001b[1;33m.\u001b[0m\u001b[0mbackward\u001b[0m\u001b[1;33m(\u001b[0m\u001b[1;33m)\u001b[0m\u001b[1;33m\u001b[0m\u001b[1;33m\u001b[0m\u001b[0m\n\u001b[1;32m---> 63\u001b[1;33m                         \u001b[0moptimizer\u001b[0m\u001b[1;33m.\u001b[0m\u001b[0mstep\u001b[0m\u001b[1;33m(\u001b[0m\u001b[1;33m)\u001b[0m\u001b[1;33m\u001b[0m\u001b[1;33m\u001b[0m\u001b[0m\n\u001b[0m\u001b[0;32m     64\u001b[0m \u001b[1;33m\u001b[0m\u001b[0m\n\u001b[0;32m     65\u001b[0m                 \u001b[1;31m# statistics\u001b[0m\u001b[1;33m\u001b[0m\u001b[1;33m\u001b[0m\u001b[1;33m\u001b[0m\u001b[0m\n",
      "\u001b[1;32m~\\Anaconda3\\envs\\sh\\lib\\site-packages\\torch\\autograd\\grad_mode.py\u001b[0m in \u001b[0;36mdecorate_context\u001b[1;34m(*args, **kwargs)\u001b[0m\n\u001b[0;32m     24\u001b[0m         \u001b[1;32mdef\u001b[0m \u001b[0mdecorate_context\u001b[0m\u001b[1;33m(\u001b[0m\u001b[1;33m*\u001b[0m\u001b[0margs\u001b[0m\u001b[1;33m,\u001b[0m \u001b[1;33m**\u001b[0m\u001b[0mkwargs\u001b[0m\u001b[1;33m)\u001b[0m\u001b[1;33m:\u001b[0m\u001b[1;33m\u001b[0m\u001b[1;33m\u001b[0m\u001b[0m\n\u001b[0;32m     25\u001b[0m             \u001b[1;32mwith\u001b[0m \u001b[0mself\u001b[0m\u001b[1;33m.\u001b[0m\u001b[0m__class__\u001b[0m\u001b[1;33m(\u001b[0m\u001b[1;33m)\u001b[0m\u001b[1;33m:\u001b[0m\u001b[1;33m\u001b[0m\u001b[1;33m\u001b[0m\u001b[0m\n\u001b[1;32m---> 26\u001b[1;33m                 \u001b[1;32mreturn\u001b[0m \u001b[0mfunc\u001b[0m\u001b[1;33m(\u001b[0m\u001b[1;33m*\u001b[0m\u001b[0margs\u001b[0m\u001b[1;33m,\u001b[0m \u001b[1;33m**\u001b[0m\u001b[0mkwargs\u001b[0m\u001b[1;33m)\u001b[0m\u001b[1;33m\u001b[0m\u001b[1;33m\u001b[0m\u001b[0m\n\u001b[0m\u001b[0;32m     27\u001b[0m         \u001b[1;32mreturn\u001b[0m \u001b[0mcast\u001b[0m\u001b[1;33m(\u001b[0m\u001b[0mF\u001b[0m\u001b[1;33m,\u001b[0m \u001b[0mdecorate_context\u001b[0m\u001b[1;33m)\u001b[0m\u001b[1;33m\u001b[0m\u001b[1;33m\u001b[0m\u001b[0m\n\u001b[0;32m     28\u001b[0m \u001b[1;33m\u001b[0m\u001b[0m\n",
      "\u001b[1;32m~\\Anaconda3\\envs\\sh\\lib\\site-packages\\torch\\optim\\adam.py\u001b[0m in \u001b[0;36mstep\u001b[1;34m(self, closure)\u001b[0m\n\u001b[0;32m    106\u001b[0m \u001b[1;33m\u001b[0m\u001b[0m\n\u001b[0;32m    107\u001b[0m             \u001b[0mbeta1\u001b[0m\u001b[1;33m,\u001b[0m \u001b[0mbeta2\u001b[0m \u001b[1;33m=\u001b[0m \u001b[0mgroup\u001b[0m\u001b[1;33m[\u001b[0m\u001b[1;34m'betas'\u001b[0m\u001b[1;33m]\u001b[0m\u001b[1;33m\u001b[0m\u001b[1;33m\u001b[0m\u001b[0m\n\u001b[1;32m--> 108\u001b[1;33m             F.adam(params_with_grad,\n\u001b[0m\u001b[0;32m    109\u001b[0m                    \u001b[0mgrads\u001b[0m\u001b[1;33m,\u001b[0m\u001b[1;33m\u001b[0m\u001b[1;33m\u001b[0m\u001b[0m\n\u001b[0;32m    110\u001b[0m                    \u001b[0mexp_avgs\u001b[0m\u001b[1;33m,\u001b[0m\u001b[1;33m\u001b[0m\u001b[1;33m\u001b[0m\u001b[0m\n",
      "\u001b[1;32m~\\Anaconda3\\envs\\sh\\lib\\site-packages\\torch\\optim\\functional.py\u001b[0m in \u001b[0;36madam\u001b[1;34m(params, grads, exp_avgs, exp_avg_sqs, max_exp_avg_sqs, state_steps, amsgrad, beta1, beta2, lr, weight_decay, eps)\u001b[0m\n\u001b[0;32m     92\u001b[0m             \u001b[0mdenom\u001b[0m \u001b[1;33m=\u001b[0m \u001b[1;33m(\u001b[0m\u001b[0mmax_exp_avg_sq\u001b[0m\u001b[1;33m.\u001b[0m\u001b[0msqrt\u001b[0m\u001b[1;33m(\u001b[0m\u001b[1;33m)\u001b[0m \u001b[1;33m/\u001b[0m \u001b[0mmath\u001b[0m\u001b[1;33m.\u001b[0m\u001b[0msqrt\u001b[0m\u001b[1;33m(\u001b[0m\u001b[0mbias_correction2\u001b[0m\u001b[1;33m)\u001b[0m\u001b[1;33m)\u001b[0m\u001b[1;33m.\u001b[0m\u001b[0madd_\u001b[0m\u001b[1;33m(\u001b[0m\u001b[0meps\u001b[0m\u001b[1;33m)\u001b[0m\u001b[1;33m\u001b[0m\u001b[1;33m\u001b[0m\u001b[0m\n\u001b[0;32m     93\u001b[0m         \u001b[1;32melse\u001b[0m\u001b[1;33m:\u001b[0m\u001b[1;33m\u001b[0m\u001b[1;33m\u001b[0m\u001b[0m\n\u001b[1;32m---> 94\u001b[1;33m             \u001b[0mdenom\u001b[0m \u001b[1;33m=\u001b[0m \u001b[1;33m(\u001b[0m\u001b[0mexp_avg_sq\u001b[0m\u001b[1;33m.\u001b[0m\u001b[0msqrt\u001b[0m\u001b[1;33m(\u001b[0m\u001b[1;33m)\u001b[0m \u001b[1;33m/\u001b[0m \u001b[0mmath\u001b[0m\u001b[1;33m.\u001b[0m\u001b[0msqrt\u001b[0m\u001b[1;33m(\u001b[0m\u001b[0mbias_correction2\u001b[0m\u001b[1;33m)\u001b[0m\u001b[1;33m)\u001b[0m\u001b[1;33m.\u001b[0m\u001b[0madd_\u001b[0m\u001b[1;33m(\u001b[0m\u001b[0meps\u001b[0m\u001b[1;33m)\u001b[0m\u001b[1;33m\u001b[0m\u001b[1;33m\u001b[0m\u001b[0m\n\u001b[0m\u001b[0;32m     95\u001b[0m \u001b[1;33m\u001b[0m\u001b[0m\n\u001b[0;32m     96\u001b[0m         \u001b[0mstep_size\u001b[0m \u001b[1;33m=\u001b[0m \u001b[0mlr\u001b[0m \u001b[1;33m/\u001b[0m \u001b[0mbias_correction1\u001b[0m\u001b[1;33m\u001b[0m\u001b[1;33m\u001b[0m\u001b[0m\n",
      "\u001b[1;31mRuntimeError\u001b[0m: CUDA out of memory. Tried to allocate 382.00 MiB (GPU 0; 11.00 GiB total capacity; 8.83 GiB already allocated; 306.50 MiB free; 9.19 GiB reserved in total by PyTorch)"
     ]
    }
   ],
   "source": [
    "# Setup the loss fxn\n",
    "#criterion = nn.CrossEntropyLoss()\n",
    "criterion = nn.MSELoss(reduction='mean')\n",
    "bn = 4\n",
    "num_epochs = 16\n",
    "model_name = 'densenet'\n",
    "lrl = [1e-5, 5e-5, 1e-4, 5e-4, 1e-3, 5e-3, 1e-2]\n",
    "lossar = np.zeros([len(lrl),2,num_epochs])\n",
    "#scratch_optimizer = optim.SGD(scratch_model.parameters(), lr=0.001, momentum=0.9)\n",
    "for i,lr in enumerate(lrl):\n",
    "#    scratch_model, input_size = initialize_model(model_name, num_classes, feature_extract=False, use_pretrained=False)\n",
    "    # Train and evaluate\n",
    "    smodel = CNet()\n",
    "    smodel.to(device)\n",
    "    scratch_optimizer = torch.optim.Adam(smodel.parameters(), \\\n",
    "                lr, betas=(0.9, 0.999),\\\n",
    "                eps=1e-08, weight_decay=0, \\\n",
    "                amsgrad=False)\n",
    "    model, lossar[i] = train_model(smodel, dataloaders_dict, criterion, scratch_optimizer, num_epochs=num_epochs, is_inception=(model_name==\"inception\"))"
   ]
  },
  {
   "cell_type": "code",
   "execution_count": 197,
   "metadata": {},
   "outputs": [
    {
     "data": {
      "text/plain": [
       "7"
      ]
     },
     "execution_count": 197,
     "metadata": {},
     "output_type": "execute_result"
    }
   ],
   "source": [
    "lrl = [1e-5, 5e-5, 1e-4, 5e-4, 1e-3, 5e-3, 1e-2]\n",
    "len(lrl)"
   ]
  },
  {
   "cell_type": "code",
   "execution_count": null,
   "metadata": {},
   "outputs": [],
   "source": [
    "lossar.shape"
   ]
  },
  {
   "cell_type": "code",
   "execution_count": null,
   "metadata": {},
   "outputs": [],
   "source": [
    "print(lossar.shape)"
   ]
  },
  {
   "cell_type": "code",
   "execution_count": 42,
   "metadata": {},
   "outputs": [
    {
     "ename": "IndexError",
     "evalue": "tuple index out of range",
     "output_type": "error",
     "traceback": [
      "\u001b[1;31m---------------------------------------------------------------------------\u001b[0m",
      "\u001b[1;31mIndexError\u001b[0m                                Traceback (most recent call last)",
      "\u001b[1;32m<ipython-input-42-4173fc24afbb>\u001b[0m in \u001b[0;36m<module>\u001b[1;34m\u001b[0m\n\u001b[0;32m      5\u001b[0m     \u001b[0maxes\u001b[0m\u001b[1;33m.\u001b[0m\u001b[0mset_ylim\u001b[0m\u001b[1;33m(\u001b[0m\u001b[1;33m[\u001b[0m\u001b[0mymin\u001b[0m\u001b[1;33m,\u001b[0m\u001b[0mymax\u001b[0m\u001b[1;33m]\u001b[0m\u001b[1;33m)\u001b[0m\u001b[1;33m\u001b[0m\u001b[1;33m\u001b[0m\u001b[0m\n\u001b[0;32m      6\u001b[0m     \u001b[1;32mfor\u001b[0m \u001b[0mj\u001b[0m \u001b[1;32min\u001b[0m \u001b[0mrange\u001b[0m\u001b[1;33m(\u001b[0m\u001b[0mlossar\u001b[0m\u001b[1;33m.\u001b[0m\u001b[0mshape\u001b[0m\u001b[1;33m[\u001b[0m\u001b[1;36m0\u001b[0m\u001b[1;33m]\u001b[0m\u001b[1;33m)\u001b[0m\u001b[1;33m:\u001b[0m\u001b[1;33m\u001b[0m\u001b[1;33m\u001b[0m\u001b[0m\n\u001b[1;32m----> 7\u001b[1;33m         \u001b[0mplt\u001b[0m\u001b[1;33m.\u001b[0m\u001b[0mplot\u001b[0m\u001b[1;33m(\u001b[0m\u001b[0mnp\u001b[0m\u001b[1;33m.\u001b[0m\u001b[0marange\u001b[0m\u001b[1;33m(\u001b[0m\u001b[0mlossar\u001b[0m\u001b[1;33m.\u001b[0m\u001b[0mshape\u001b[0m\u001b[1;33m[\u001b[0m\u001b[1;36m2\u001b[0m\u001b[1;33m]\u001b[0m\u001b[1;33m)\u001b[0m\u001b[1;33m,\u001b[0m\u001b[0mnp\u001b[0m\u001b[1;33m.\u001b[0m\u001b[0mlog10\u001b[0m\u001b[1;33m(\u001b[0m\u001b[0mlossar\u001b[0m\u001b[1;33m[\u001b[0m\u001b[0mj\u001b[0m\u001b[1;33m,\u001b[0m\u001b[0mi\u001b[0m\u001b[1;33m,\u001b[0m\u001b[1;33m:\u001b[0m\u001b[1;33m]\u001b[0m\u001b[1;33m)\u001b[0m\u001b[1;33m)\u001b[0m\u001b[1;33m\u001b[0m\u001b[1;33m\u001b[0m\u001b[0m\n\u001b[0m\u001b[0;32m      8\u001b[0m     plt.savefig('plot output/'+\\\n\u001b[0;32m      9\u001b[0m                     \u001b[1;34m'num_ampl='\u001b[0m\u001b[1;33m+\u001b[0m\u001b[0mstr\u001b[0m\u001b[1;33m(\u001b[0m\u001b[0mampl\u001b[0m\u001b[1;33m)\u001b[0m\u001b[1;33m+\u001b[0m\u001b[0;31m\\\u001b[0m\u001b[1;33m\u001b[0m\u001b[1;33m\u001b[0m\u001b[0m\n",
      "\u001b[1;31mIndexError\u001b[0m: tuple index out of range"
     ]
    },
    {
     "data": {
      "image/png": "[encoded data removed]",
      "text/plain": [
       "<Figure size 432x288 with 1 Axes>"
      ]
     },
     "metadata": {
      "needs_background": "light"
     },
     "output_type": "display_data"
    }
   ],
   "source": [
    "for i in range(2):\n",
    "    fig = plt.figure()\n",
    "    axes = plt.gca()\n",
    "    ymin, ymax = -5, 1\n",
    "    axes.set_ylim([ymin,ymax])\n",
    "    for j in range(lossar.shape[0]):\n",
    "        plt.plot(np.arange(lossar.shape[2]),np.log10(lossar[j,i,:]))\n",
    "    plt.savefig('plot output/'+\\\n",
    "                    'num_ampl='+str(ampl)+\\\n",
    "                    'bn'+str(bn)+\\\n",
    "                    'bs'+str(batch_size)+\\\n",
    "                    'epochs'+str(num_epochs)+\\\n",
    "                    'net_name=Densenet'+\\\n",
    "                    'lr'+str(0.01)+\\\n",
    "                    'optimizer adam'+\\\n",
    "                    'time'+str(time.time())+\\\n",
    "                '.png', bbox_inches='tight')"
   ]
  },
  {
   "cell_type": "code",
   "execution_count": null,
   "metadata": {},
   "outputs": [],
   "source": [
    "linestyles = ['-', '--']\n",
    "colors = ['tab:blue', 'tab:orange', 'tab:green', 'tab:red', 'tab:purple', 'tab:brown', 'tab:pink']\n",
    "fig, axs = plt.subplots(2, 4, figsize=(15, 6), sharex=True, sharey=True)\n",
    "# fig = plt.figure()\n",
    "# axes = plt.gca()\n",
    "axs = axs.ravel()\n",
    "# ymin, ymax = -5, 1\n",
    "# axs.set_ylim([ymin,ymax])\n",
    "for j in range(lossar.shape[0]):\n",
    "    for i in range(2):\n",
    "        axs[j].plot(np.arange(lossar.shape[2]),np.log10(lossar[j,i,:]),linestyle=linestyles[i],color=colors[j])\n",
    "    plt.savefig('plot output/'+\\\n",
    "                    'num_ampl='+str(ampl)+\\\n",
    "                    'bn'+str(bn)+\\\n",
    "                    'bs'+str(batch_size)+\\\n",
    "                    'epochs'+str(num_epochs)+\\\n",
    "                    'net_name=Densenet'+\\\n",
    "                    'lr'+str(0.01)+\\\n",
    "                    'optimizer adam'+\\\n",
    "                    'time'+str(time.time())+\\\n",
    "                '.png', bbox_inches='tight')"
   ]
  },
  {
   "cell_type": "code",
   "execution_count": null,
   "metadata": {},
   "outputs": [],
   "source": [
    "# First create some toy data:\n",
    "x = np.linspace(0, 2*np.pi, 400)\n",
    "y = np.sin(x**2)\n",
    "\n",
    "# Create just a figure and only one subplot\n",
    "fig, ax = plt.subplots()\n",
    "ax.plot(x, y)\n",
    "ax.set_title('Simple plot')\n",
    "\n",
    "# Create two subplots and unpack the output array immediately\n",
    "f, (ax1, ax2) = plt.subplots(1, 2, sharey=True)\n",
    "ax1.plot(x, y)\n",
    "ax1.set_title('Sharing Y axis')\n",
    "ax2.scatter(x, y)\n",
    "\n",
    "# Create four polar axes and access them through the returned array\n",
    "fig, axs = plt.subplots(2, 2, subplot_kw=dict(projection=\"polar\"))\n",
    "axs[0, 0].plot(x, y)\n",
    "axs[1, 1].scatter(x, y)\n",
    "\n",
    "# Share a X axis with each column of subplots\n",
    "plt.subplots(2, 2, sharex='col')\n",
    "\n",
    "# Share a Y axis with each row of subplots\n",
    "plt.subplots(2, 2, sharey='row')\n",
    "\n",
    "# Share both X and Y axes with all subplots\n",
    "plt.subplots(2, 2, sharex='all', sharey='all')\n",
    "\n",
    "# Note that this is the same as\n",
    "plt.subplots(2, 2, sharex=True, sharey=True)\n",
    "\n",
    "# Create figure number 10 with a single subplot\n",
    "# and clears it if it already exists.\n",
    "fig, ax = plt.subplots(num=10, clear=True)"
   ]
  },
  {
   "cell_type": "code",
   "execution_count": null,
   "metadata": {},
   "outputs": [],
   "source": [
    "linestyles = ['-', '--']\n",
    "colors = ['tab:blue', 'tab:orange', 'tab:green', 'tab:red', 'tab:purple', 'tab:brown', 'tab:pink']\n",
    "fig = plt.figure()\n",
    "axes = plt.gca()\n",
    "ymin, ymax = -5, 1\n",
    "axes.set_ylim([ymin,ymax])\n",
    "for j in range(lossar.shape[0]):\n",
    "    for i in range(2):\n",
    "        plt.plot(np.arange(lossar.shape[2]),np.log10(lossar[j,i,:]),linestyle=linestyles[i],color=colors[j])\n",
    "        plt.savefig('plot output/'+\\\n",
    "                        'num_ampl='+str(ampl)+\\\n",
    "                        'bn'+str(bn)+\\\n",
    "                        'bs'+str(batch_size)+\\\n",
    "                        'epochs'+str(num_epochs)+\\\n",
    "                        'net_name=Densenet'+\\\n",
    "                        'lr'+str(0.01)+\\\n",
    "                        'optimizer adam'+\\\n",
    "                        'time'+str(time.time())+\\\n",
    "                    '.png', bbox_inches='tight')"
   ]
  },
  {
   "cell_type": "code",
   "execution_count": null,
   "metadata": {},
   "outputs": [],
   "source": [
    "print(inputs)"
   ]
  },
  {
   "cell_type": "markdown",
   "metadata": {},
   "source": [
    "## seed before and after supervised learning"
   ]
  },
  {
   "cell_type": "code",
   "execution_count": null,
   "metadata": {},
   "outputs": [],
   "source": []
  },
  {
   "cell_type": "markdown",
   "metadata": {},
   "source": [
    "Comparison with Model Trained from Scratch\n",
    "------------------------------------------\n",
    "\n",
    "Just for fun, lets see how the model learns if we do not use transfer\n",
    "learning. The performance of finetuning vs. feature extracting depends\n",
    "largely on the dataset but in general both transfer learning methods\n",
    "produce favorable results in terms of training time and overall accuracy\n",
    "versus a model trained from scratch.\n",
    "\n",
    "\n"
   ]
  },
  {
   "cell_type": "code",
   "execution_count": null,
   "metadata": {
    "collapsed": false,
    "jupyter": {
     "outputs_hidden": false
    }
   },
   "outputs": [],
   "source": [
    "# Initialize the non-pretrained version of the model used for this run\n",
    "model_names = [\"resnet\", \"alexnet\", \"vgg\", \"squeezenet\", \"densenet\"]\n",
    "scratch_hist = np.zeros([len(model_names),2,num_epochs])\n",
    "for i, model_name in  enumerate(model_names):\n",
    "    scratch_model,_ = initialize_model(model_name, num_classes, feature_extract=False, use_pretrained=False)\n",
    "    scratch_model = scratch_model.to(device)\n",
    "    scratch_optimizer = optim.SGD(scratch_model.parameters(), lr=0.001, momentum=0.9)\n",
    "    scratch_criterion = nn.MSELoss('mean')\n",
    "    #scratch_criterion = nn.CrossEntropyLoss()\n",
    "    _,scratch_hist[i] = train_model(scratch_model, dataloaders_dict, scratch_criterion, \\\n",
    "                                 scratch_optimizer, num_epochs=num_epochs, is_inception=(model_name==\"inception\"))"
   ]
  },
  {
   "cell_type": "code",
   "execution_count": null,
   "metadata": {},
   "outputs": [],
   "source": [
    "scratch_hist.shape"
   ]
  },
  {
   "cell_type": "code",
   "execution_count": null,
   "metadata": {},
   "outputs": [],
   "source": [
    "linestyles = ['-','--']\n",
    "for i in range(2):\n",
    "    plt.plot(np.arange(num_epochs),scratch_hist[i,:],color = 'tab:blue',linestyle = linestyles[i],linewidth = 3)\n",
    "plt.savefig('plot output/'+\\\n",
    "                'num_ampl='+str(ampl)+\\\n",
    "                'bn'+str(bn)+\\\n",
    "                'bs'+str(batch_size)+\\\n",
    "                'epochs'+str(num_epochs)+\\\n",
    "                'net_names'+str(net_names)+\\\n",
    "                'lr'+str(0.001)+\\\n",
    "                'momentum'+str(0.9)+\\\n",
    "                'optimizer SGD'+\\\n",
    "                'scratch'+str(1)+\\\n",
    "                'time'+str(time.time())+\\\n",
    "            '.png', bbox_inches='tight')"
   ]
  },
  {
   "cell_type": "code",
   "execution_count": null,
   "metadata": {},
   "outputs": [],
   "source": [
    "# Plot the training curves of validation accuracy vs. number \n",
    "#  of training epochs for the transfer learning method and\n",
    "#  the model trained from scratch\n",
    "ohist = []\n",
    "shist = []\n",
    "\n",
    "ohist = [h.cpu().numpy() for h in hist]\n",
    "shist = [h.cpu().numpy() for h in scratch_hist]\n",
    "\n",
    "plt.title(\"Validation Accuracy vs. Number of Training Epochs\")\n",
    "plt.xlabel(\"Training Epochs\")\n",
    "plt.ylabel(\"Validation Accuracy\")\n",
    "plt.plot(range(1,num_epochs+1),ohist,label=\"Pretrained\")\n",
    "plt.plot(range(1,num_epochs+1),shist,label=\"Scratch\")\n",
    "plt.ylim((0,1.))\n",
    "plt.xticks(np.arange(1, num_epochs+1, 1.0))\n",
    "plt.legend()\n",
    "plt.show()"
   ]
  },
  {
   "cell_type": "markdown",
   "metadata": {},
   "source": [
    "Final Thoughts and Where to Go Next\n",
    "-----------------------------------\n",
    "\n",
    "Try running some of the other models and see how good the accuracy gets.\n",
    "Also, notice that feature extracting takes less time because in the\n",
    "backward pass we do not have to calculate most of the gradients. There\n",
    "are many places to go from here. You could:\n",
    "\n",
    "-  Run this code with a harder dataset and see some more benefits of\n",
    "   transfer learning\n",
    "-  Using the methods described here, use transfer learning to update a\n",
    "   different model, perhaps in a new domain (i.e. NLP, audio, etc.)\n",
    "-  Once you are happy with a model, you can export it as an ONNX model,\n",
    "   or trace it using the hybrid frontend for more speed and optimization\n",
    "   opportunities.\n",
    "\n",
    "\n"
   ]
  },
  {
   "cell_type": "markdown",
   "metadata": {},
   "source": [
    "## search for the best model"
   ]
  },
  {
   "cell_type": "code",
   "execution_count": null,
   "metadata": {
    "collapsed": false,
    "jupyter": {
     "outputs_hidden": false
    }
   },
   "outputs": [],
   "source": [
    "# Setup the loss fxn\n",
    "#criterion = nn.CrossEntropyLoss()\n",
    "criterion = nn.MSELoss(reduction='mean')\n",
    "bn = 1\n",
    "#model_ft = None\n",
    "num_epochs = 10\n",
    "net_names = [\"resnet\", \"alexnet\", \"vgg\", \"squeezenet\", \"densenet\"]\n",
    "#[\"vgg\", \"squeezenet\"]\n",
    "lossa = np.zeros([len(net_names),2,num_epochs])\n",
    "#[\"resnet\", \"alexnet\", \"vgg\", \"squeezenet\", \"densenet\"]\n",
    "for i, model_name in enumerate(net_names):\n",
    "# Train and evaluate\n",
    "    model_ft, input_size = initialize_model(model_name, num_classes, feature_extract, use_pretrained=True)\n",
    "    print(input_size)\n",
    "    model_ft.to(device)\n",
    "    model_ft, lossar = train_model(model_ft, dataloaders_dict, criterion, optimizer_ft, num_epochs=num_epochs, is_inception=(model_name==\"inception\"))\n",
    "    lossa[i] = lossar"
   ]
  },
  {
   "cell_type": "code",
   "execution_count": null,
   "metadata": {},
   "outputs": [],
   "source": [
    "print(scratch_hist.shape)"
   ]
  },
  {
   "cell_type": "code",
   "execution_count": null,
   "metadata": {},
   "outputs": [],
   "source": [
    "fig = plt.figure()\n",
    "axes = plt.gca()\n",
    "ymin, ymax = 0, 10\n",
    "axes.set_ylim([ymin,ymax])\n",
    "linestyles = ['-', '--', '-.', ':', '-', '--',\\\n",
    "                  '-.', ':', '-', '--', '-.', ':']\n",
    "colors = ['tab:blue', 'tab:orange', 'tab:green', 'tab:red', 'tab:purple']\n",
    "lossa = scratch_hist\n",
    "for i in range(lossa.shape[0]):\n",
    "    for j in range(lossa.shape[1]):\n",
    "        plt.plot(np.arange(num_epochs), \\\n",
    "                 lossa[i,j,:], \\\n",
    "                 color = colors[i], linestyle=linestyles[j], \\\n",
    "                 linewidth=3)\n",
    "plt.savefig('plot output/'+\\\n",
    "                'num_ampl='+str(ampl)+\\\n",
    "                'bn'+str(bn)+\\\n",
    "                'bs'+str(batch_size)+\\\n",
    "                'epochs'+str(num_epochs)+\\\n",
    "                'net_names'+str(net_names)+\\\n",
    "                'lr'+str(0.001)+\\\n",
    "                'momentum'+str(0.9)+\\\n",
    "                'optimizer SGD'+\\\n",
    "                'time'+str(time.time())+\\\n",
    "            '.png', bbox_inches='tight')"
   ]
  },
  {
   "cell_type": "code",
   "execution_count": null,
   "metadata": {},
   "outputs": [],
   "source": [
    "linestyles = ['-', '--', '-.', ':', '-', '--',\\\n",
    "                  '-.', ':', '-', '--', '-.', ':']\n",
    "colors = ['tab:blue', 'tab:orange', 'tab:green', 'tab:red', 'tab:purple']\n",
    "lossa = scratch_hist\n",
    "for j in range(lossa.shape[1]):\n",
    "    fig = plt.figure()\n",
    "    axes = plt.gca()\n",
    "    ymin, ymax = 0, 10\n",
    "    axes.set_ylim([ymin,ymax])\n",
    "    for i in range(lossa.shape[0]):\n",
    "        plt.plot(np.arange(num_epochs), \\\n",
    "                 lossa[i,j,:], \\\n",
    "                 color = colors[i], linestyle=linestyles[j], \\\n",
    "                 linewidth=3)\n",
    "    plt.savefig('plot output/'+\\\n",
    "                    'num_ampl='+str(ampl)+\\\n",
    "                    'bn'+str(bn)+\\\n",
    "                    'bs'+str(batch_size)+\\\n",
    "                    'epochs'+str(num_epochs)+\\\n",
    "                    'net_names'+str(net_names)+\\\n",
    "                    'lr'+str(0.001)+\\\n",
    "                    'momentum'+str(0.9)+\\\n",
    "                    'optimizer SGD'+\\\n",
    "                    'phase'+str(j)+\\\n",
    "                    'time'+str(time.time())+\\\n",
    "                '.png', bbox_inches='tight')"
   ]
  },
  {
   "cell_type": "markdown",
   "metadata": {},
   "source": [
    "## search for maximum size of the ply file"
   ]
  },
  {
   "cell_type": "code",
   "execution_count": null,
   "metadata": {},
   "outputs": [],
   "source": [
    "cip = []\n",
    "for root, directories, filenames in os.walk(data_dir): \n",
    "    for filename in filenames:\n",
    "        if filename[-4:] == '.ply':\n",
    "            cip.append(os.path.join(root,filename))"
   ]
  },
  {
   "cell_type": "code",
   "execution_count": null,
   "metadata": {},
   "outputs": [],
   "source": [
    "len(cip)\n",
    "cip[0]"
   ]
  },
  {
   "cell_type": "code",
   "execution_count": null,
   "metadata": {},
   "outputs": [],
   "source": [
    "maxsize = 0\n",
    "sizear = []\n",
    "i = 0\n",
    "sumav = 0\n",
    "for path in cip:\n",
    "    img = np.genfromtxt(path, skip_header = 7, skip_footer = 1)\n",
    "    sumav += os.stat(path).st_size/img.shape[0]\n",
    "\n",
    "    i+=1\n",
    "    if i == 50:\n",
    "        break\n",
    "    \n",
    "sumav/50\n",
    "\n",
    "#     sizear.append(img.shape[0])\n",
    "#     if img.shape[0]>maxsize:\n",
    "#         maxsize = img.shape[0]\n",
    "# print(maxsize)"
   ]
  },
  {
   "cell_type": "code",
   "execution_count": null,
   "metadata": {},
   "outputs": [],
   "source": [
    "32.761725985875024"
   ]
  },
  {
   "cell_type": "code",
   "execution_count": null,
   "metadata": {},
   "outputs": [],
   "source": [
    "maxsize = 0\n",
    "sizear = np.zeros(len(cip))\n",
    "i = 0\n",
    "sumav = 0\n",
    "for i, path in enumerate(cip):\n",
    "#    img = np.genfromtxt(path, skip_header = 7, skip_footer = 1)\n",
    "    sizear[i] = os.stat(path).st_size/32.761725985875024\n",
    "    \n",
    "#     sizear.append(img.shape[0])\n",
    "#     if img.shape[0]>maxsize:\n",
    "#         maxsize = img.shape[0]\n",
    "# print(maxsize)\n",
    "plt.plot(np.sort(sizear))"
   ]
  },
  {
   "cell_type": "code",
   "execution_count": null,
   "metadata": {},
   "outputs": [],
   "source": [
    "print(np.max(sizear))"
   ]
  }
 ],
 "metadata": {
  "kernelspec": {
   "display_name": "Python 3",
   "language": "python",
   "name": "python3"
  },
  "language_info": {
   "codemirror_mode": {
    "name": "ipython",
    "version": 3
   },
   "file_extension": ".py",
   "mimetype": "text/x-python",
   "name": "python",
   "nbconvert_exporter": "python",
   "pygments_lexer": "ipython3",
   "version": "3.8.5"
  }
 },
 "nbformat": 4,
 "nbformat_minor": 4
}
