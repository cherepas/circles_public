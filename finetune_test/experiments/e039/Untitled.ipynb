{
 "cells": [
  {
   "cell_type": "code",
   "execution_count": 2,
   "id": "brilliant-access",
   "metadata": {},
   "outputs": [],
   "source": [
    "import numpy as np"
   ]
  },
  {
   "cell_type": "code",
   "execution_count": 8,
   "id": "bearing-mobile",
   "metadata": {},
   "outputs": [],
   "source": [
    "hidden_dim = np.hstack((np.repeat(150000, 5),441))"
   ]
  },
  {
   "cell_type": "code",
   "execution_count": 10,
   "id": "ecological-emission",
   "metadata": {},
   "outputs": [
    {
     "name": "stdout",
     "output_type": "stream",
     "text": [
      "150000 150000\n",
      "150000 150000\n",
      "150000 150000\n",
      "150000 441\n"
     ]
    }
   ],
   "source": [
    "for i in range(1,hidden_dim.shape[0]-1):\n",
    "    print(hidden_dim[i], hidden_dim[i+1])\n",
    "#    self.layers.append(nn.Linear(, ))"
   ]
  },
  {
   "cell_type": "code",
   "execution_count": 17,
   "id": "allied-trance",
   "metadata": {},
   "outputs": [
    {
     "data": {
      "text/plain": [
       "array([150000, 112610,  75220,  37830,    441])"
      ]
     },
     "execution_count": 17,
     "metadata": {},
     "output_type": "execute_result"
    }
   ],
   "source": [
    "np.linspace(150000,441,5).astype(int)"
   ]
  },
  {
   "cell_type": "code",
   "execution_count": 12,
   "id": "electric-alert",
   "metadata": {},
   "outputs": [
    {
     "ename": "TypeError",
     "evalue": "_vhstack_dispatcher() takes 1 positional argument but 4 were given",
     "output_type": "error",
     "traceback": [
      "\u001b[0;31m---------------------------------------------------------------------------\u001b[0m",
      "\u001b[0;31mTypeError\u001b[0m                                 Traceback (most recent call last)",
      "\u001b[0;32m<ipython-input-12-f283b8b04c65>\u001b[0m in \u001b[0;36m<module>\u001b[0;34m\u001b[0m\n\u001b[0;32m----> 1\u001b[0;31m \u001b[0mnp\u001b[0m\u001b[0;34m.\u001b[0m\u001b[0mhstack\u001b[0m\u001b[0;34m(\u001b[0m\u001b[0;36m150000\u001b[0m\u001b[0;34m,\u001b[0m\u001b[0;36m100000\u001b[0m\u001b[0;34m,\u001b[0m\u001b[0;36m50000\u001b[0m\u001b[0;34m,\u001b[0m\u001b[0;36m441\u001b[0m\u001b[0;34m)\u001b[0m\u001b[0;34m\u001b[0m\u001b[0;34m\u001b[0m\u001b[0m\n\u001b[0m",
      "\u001b[0;32m<__array_function__ internals>\u001b[0m in \u001b[0;36mhstack\u001b[0;34m(*args, **kwargs)\u001b[0m\n",
      "\u001b[0;31mTypeError\u001b[0m: _vhstack_dispatcher() takes 1 positional argument but 4 were given"
     ]
    }
   ],
   "source": [
    "np.hstack(150000,100000,50000,441)"
   ]
  },
  {
   "cell_type": "code",
   "execution_count": 15,
   "id": "stopped-banana",
   "metadata": {},
   "outputs": [
    {
     "data": {
      "text/plain": [
       "array([150000, 100000,  50000,    441])"
      ]
     },
     "execution_count": 15,
     "metadata": {},
     "output_type": "execute_result"
    }
   ],
   "source": [
    "np.array([150000,100000,50000,441])"
   ]
  },
  {
   "cell_type": "code",
   "execution_count": null,
   "id": "reasonable-handle",
   "metadata": {},
   "outputs": [],
   "source": []
  }
 ],
 "metadata": {
  "kernelspec": {
   "display_name": "Python 3",
   "language": "python",
   "name": "python3"
  },
  "language_info": {
   "codemirror_mode": {
    "name": "ipython",
    "version": 3
   },
   "file_extension": ".py",
   "mimetype": "text/x-python",
   "name": "python",
   "nbconvert_exporter": "python",
   "pygments_lexer": "ipython3",
   "version": "3.8.5"
  }
 },
 "nbformat": 4,
 "nbformat_minor": 5
}
