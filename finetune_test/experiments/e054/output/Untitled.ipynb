{
 "cells": [
  {
   "cell_type": "code",
   "execution_count": 2,
   "id": "dated-mainstream",
   "metadata": {},
   "outputs": [],
   "source": [
    "from __future__ import print_function\n",
    "from __future__ import division\n",
    "import argparse\n",
    "import open3d\n",
    "import torch\n",
    "# here was hvd import\n",
    "import torch.nn as nn\n",
    "import numpy as np\n",
    "import torchvision\n",
    "from torchvision import transforms\n",
    "import matplotlib.pyplot as plt\n",
    "import time\n",
    "import os\n",
    "from skimage import io, transform\n",
    "from skimage.measure import regionprops\n",
    "from skimage import filters\n",
    "from torch.utils.data import Dataset\n",
    "import pandas as pd\n",
    "from scipy.special import sph_harm\n",
    "import sys\n",
    "from numpy import linalg as LA\n",
    "import datetime\n",
    "#from standard_models import *\n",
    "import torch.multiprocessing as mp\n",
    "import shutil\n",
    "import imageio\n",
    "from inspect import currentframe, getframeinfo"
   ]
  },
  {
   "cell_type": "code",
   "execution_count": 3,
   "id": "handled-ratio",
   "metadata": {},
   "outputs": [],
   "source": [
    "import wandb"
   ]
  },
  {
   "cell_type": "code",
   "execution_count": null,
   "id": "unexpected-reviewer",
   "metadata": {},
   "outputs": [],
   "source": []
  }
 ],
 "metadata": {
  "kernelspec": {
   "display_name": "venv0",
   "language": "python",
   "name": "venv0"
  },
  "language_info": {
   "codemirror_mode": {
    "name": "ipython",
    "version": 3
   },
   "file_extension": ".py",
   "mimetype": "text/x-python",
   "name": "python",
   "nbconvert_exporter": "python",
   "pygments_lexer": "ipython3",
   "version": "3.8.5"
  }
 },
 "nbformat": 4,
 "nbformat_minor": 5
}
