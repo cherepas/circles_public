{
 "cells": [
  {
   "cell_type": "code",
   "execution_count": 1,
   "metadata": {},
   "outputs": [],
   "source": [
    "import numpy as np"
   ]
  },
  {
   "cell_type": "code",
   "execution_count": 3,
   "metadata": {},
   "outputs": [],
   "source": [
    "img_name = r'D:\\data\\seeds\\598\\train\\1484717\\1491988_Surface.ply'.replace('\\\\','/')\n",
    "img = np.genfromtxt(img_name, delimiter = ',')\n",
    "#        print(img_name)\n",
    "img = np.concatenate((img, np.zeros([58014-img.shape[0]])), axis=0)"
   ]
  },
  {
   "cell_type": "code",
   "execution_count": null,
   "metadata": {},
   "outputs": [],
   "source": [
    "img = img - np.mean(img,)"
   ]
  },
  {
   "cell_type": "code",
   "execution_count": null,
   "metadata": {},
   "outputs": [],
   "source": [
    "X = image[0,:]\n",
    "Y = image[1,:]\n",
    "Z = image[2,:]\n",
    "C = np.zeros([3,3])\n",
    "C[0,0] = np.matmul(X,X.transpose())\n",
    "C[0,1] = np.matmul(X,Y.transpose())\n",
    "C[0,2] = np.matmul(X,Z.transpose())\n",
    "C[1,0] = C[0,1]\n",
    "C[1,1] = np.matmul(Y,Y.transpose())\n",
    "C[1,2] = np.matmul(Y,Z.transpose())\n",
    "C[2,0] = C[0,2]\n",
    "C[2,1] = C[1,2]\n",
    "C[2,2] = np.matmul(Z,Z.transpose())\n",
    "w,v = LA.eig(C)\n",
    "image = np.matmul(v.transpose(),image)"
   ]
  }
 ],
 "metadata": {
  "kernelspec": {
   "display_name": "Python 3",
   "language": "python",
   "name": "python3"
  },
  "language_info": {
   "codemirror_mode": {
    "name": "ipython",
    "version": 3
   },
   "file_extension": ".py",
   "mimetype": "text/x-python",
   "name": "python",
   "nbconvert_exporter": "python",
   "pygments_lexer": "ipython3",
   "version": "3.8.5"
  }
 },
 "nbformat": 4,
 "nbformat_minor": 4
}
