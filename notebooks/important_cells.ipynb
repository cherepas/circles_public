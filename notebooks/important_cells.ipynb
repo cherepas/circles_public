{
 "cells": [
  {
   "cell_type": "code",
   "execution_count": 1,
   "metadata": {},
   "outputs": [],
   "source": [
    "import time\n",
    "import csv2md\n",
    "import torch as t\n",
    "import numpy as np\n",
    "import matplotlib.pyplot as plt\n",
    "import open3d\n",
    "from numpy import linalg as LA\n",
    "import os\n",
    "import h5py\n",
    "import pandas as pd\n",
    "from torch import nn\n",
    "import math\n",
    "import sys\n",
    "sys.path.insert(1, 'C:/cherepashkin1/circles/finetune_test/')\n",
    "from helpers import *"
   ]
  },
  {
   "cell_type": "markdown",
   "metadata": {},
   "source": [
    "# Find orientation matrix, sort eigenvalues in ascending order, multiply by sign of the determinant to avoid ambiguity"
   ]
  },
  {
   "cell_type": "code",
   "execution_count": null,
   "metadata": {},
   "outputs": [],
   "source": [
    "mator2 = np.zeros([len(cip), 3, 3])\n",
    "for i in range(len(cip)):\n",
    "    pcd0 = np.asarray(open3d.io.read_point_cloud(cip[i]).points)\n",
    "    w1, v1 = LA.eig(pose6tomat(moments(pcd0-np.mean(pcd0,axis=0))))\n",
    "    mator = v1[:,np.argsort(w1)]\n",
    "    mator2[i,:,:] = LA.det(mator)*mator\n",
    "    rotangles[i,:] = rot2eul(mator2[i])"
   ]
  },
  {
   "cell_type": "code",
   "execution_count": 2,
   "metadata": {},
   "outputs": [],
   "source": [
    "df = pd.read_csv('C:/circles/finetune_test/csv/598frame.csv')\n",
    "for i in range(3):\n",
    "    df.insert(20+i, \"eul\"+str(i), rotangles[:,i])\n",
    "df.to_csv('C:/circles/finetune_test/csv/598frame.csv')"
   ]
  },
  {
   "cell_type": "markdown",
   "metadata": {},
   "source": [
    "# Inserting orientation matrices from subtracted mean second forms"
   ]
  },
  {
   "cell_type": "code",
   "execution_count": 112,
   "metadata": {},
   "outputs": [],
   "source": [
    "df = pd.read_csv('C:/cherepashkin1/circles/finetune_test/csv/598frame.csv')"
   ]
  },
  {
   "cell_type": "code",
   "execution_count": null,
   "metadata": {},
   "outputs": [],
   "source": [
    "a = df.loc[:,['mom' + str(i) for i in range(6)]].values\n",
    "orient = np.zeros([5283,3,3])\n",
    "for i in range(5283):\n",
    "    _, orient[i,:,:] = LA.eig(pose6tomat(a[i,:]))\n",
    "for i in range(9):\n",
    "    df.insert(24+i, \"orient\"+str(i), orient2[:,i])"
   ]
  },
  {
   "cell_type": "code",
   "execution_count": 125,
   "metadata": {},
   "outputs": [],
   "source": [
    "df.to_csv('C:/cherepashkin1/circles/finetune_test/csv/598frame.csv')"
   ]
  },
  {
   "cell_type": "markdown",
   "metadata": {},
   "source": [
    "## For augement rot2eul"
   ]
  },
  {
   "cell_type": "code",
   "execution_count": null,
   "metadata": {},
   "outputs": [],
   "source": [
    "betta = np.array([np.arccos(C[i,0,0]) for i in range(36)])\n",
    "betta[0] = 0\n",
    "betta[-1] = betta[1]\n",
    "betta[18] = math.pi"
   ]
  },
  {
   "cell_type": "markdown",
   "metadata": {},
   "source": [
    "# Calculating eul for every angle of rotation for all seeds"
   ]
  },
  {
   "cell_type": "code",
   "execution_count": null,
   "metadata": {},
   "outputs": [],
   "source": [
    "st = time.time()\n",
    "for i in range(5283):\n",
    "    pcd0 = np.asarray(open3d.io.read_point_cloud(cip[i]).points)\n",
    "    for j in range(36):\n",
    "        pcd1 = pcd0-np.mean(pcd0,axis=0)\n",
    "        pcd2 = np.matmul(pcd1, C[j,:,:].T)\n",
    "        w1, v1 = LA.eig(pose6tomat(moments(pcd2)))\n",
    "        mator = v1[:,np.argsort(w1)]\n",
    "        mator2[i,j,:,:] = LA.det(mator)*mator\n",
    "        rotangles[i,j,:] = rot2eul(mator2[i,j,:,:])\n",
    "ft = time.time()\n",
    "print('ellapsed time = {} s'.format(ft - st))"
   ]
  },
  {
   "cell_type": "markdown",
   "metadata": {},
   "source": [
    "# Compare matrix orientation for different angles of rotation of the origin point cloud: with and without sorting eigen values"
   ]
  },
  {
   "cell_type": "code",
   "execution_count": 258,
   "metadata": {},
   "outputs": [],
   "source": [
    "cip = namelist('C:/cherepashkin1/phenoseed/598', 'Surface.ply')"
   ]
  },
  {
   "cell_type": "code",
   "execution_count": 10,
   "metadata": {},
   "outputs": [],
   "source": [
    "prmat = np.genfromtxt(os.path.join(csvpath, 'prmat.csv'), delimiter=',')\n",
    "C = np.zeros([36,3,3])\n",
    "E = [[1, 0, 0, 0],\n",
    " [0, 1, 0, 0],\n",
    " [0, 0, 1, 0]]\n",
    "# TODO exchange loop with vectorization with einsum\n",
    "for i in range(36):\n",
    "    C[i,:,:] =\\\n",
    "    np.matmul(np.matmul(E,prmat[4*i:4*(i+1),:]),\n",
    "        np.linalg.pinv(np.matmul(E,prmat[0:4,:])))"
   ]
  },
  {
   "cell_type": "code",
   "execution_count": 346,
   "metadata": {},
   "outputs": [],
   "source": [
    "for i in range(1):\n",
    "    pcd0 = np.asarray(open3d.io.read_point_cloud(cip[i]).points)\n",
    "    mator4, rotangles4 = getOri(pcd0, C, eigsort = True)\n",
    "    mator5, rotangles5 = getOri(pcd0, C, eigsort = False)"
   ]
  },
  {
   "cell_type": "code",
   "execution_count": 382,
   "metadata": {},
   "outputs": [
    {
     "data": {
      "image/png": "[encoded data removed]",
      "text/plain": [
       "<Figure size 576x576 with 9 Axes>"
      ]
     },
     "metadata": {
      "needs_background": "light"
     },
     "output_type": "display_data"
    },
    {
     "name": "stdout",
     "output_type": "stream",
     "text": [
      "qq\n"
     ]
    }
   ],
   "source": [
    "fig, ax = plt.subplots(3,3, figsize=(8,8))\n",
    "for i in range(3):\n",
    "    for j in range(3):\n",
    "        ax[i,j].scatter(np.arange(36), mator4[:,i,j], s=3)\n",
    "        ax[i,j].scatter(np.arange(36), mator5[:,i,j], s=3)\n",
    "        ax[i,j].set_ylim(-1, 1)\n",
    "        if i in (0,1):   \n",
    "            ax[i,j].set_xticks([])\n",
    "        if j in (1,2):   \n",
    "            ax[i,j].set_yticks([])\n",
    "ax[0,0].set_xlabel('angle, degrees/10')\n",
    "ax[0,0].set_ylabel('element of the matrix')\n",
    "fig.suptitle('Elements of the rotation matrix from projection matricies')\n",
    "plt.show(fig)\n",
    "fig.clear()\n",
    "plt.close(fig)\n",
    "# plt.close(fig)\n",
    "print('qq')"
   ]
  }
 ],
 "metadata": {
  "kernelspec": {
   "display_name": "Python 3",
   "language": "python",
   "name": "python3"
  },
  "language_info": {
   "codemirror_mode": {
    "name": "ipython",
    "version": 3
   },
   "file_extension": ".py",
   "mimetype": "text/x-python",
   "name": "python",
   "nbconvert_exporter": "python",
   "pygments_lexer": "ipython3",
   "version": "3.8.5"
  }
 },
 "nbformat": 4,
 "nbformat_minor": 4
}
