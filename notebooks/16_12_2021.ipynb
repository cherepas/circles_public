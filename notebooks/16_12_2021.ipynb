{
 "cells": [
  {
   "cell_type": "code",
   "execution_count": 1,
   "metadata": {},
   "outputs": [],
   "source": [
    "import torch as t\n",
    "import numpy as np\n",
    "import matplotlib.pyplot as plt\n",
    "import open3d\n",
    "from numpy import linalg as LA\n",
    "import os\n",
    "import h5py\n",
    "import pandas as pd\n",
    "from torch import nn"
   ]
  },
  {
   "cell_type": "code",
   "execution_count": 5,
   "metadata": {},
   "outputs": [],
   "source": [
    "a = t.zeros(15,3,500)\n",
    "b = t.zeros(15,3,500)"
   ]
  },
  {
   "cell_type": "code",
   "execution_count": 9,
   "metadata": {},
   "outputs": [
    {
     "data": {
      "text/plain": [
       "torch.Size([15, 500])"
      ]
     },
     "execution_count": 9,
     "metadata": {},
     "output_type": "execute_result"
    }
   ],
   "source": [
    "t.norm(a-b, dim=1).shape"
   ]
  },
  {
   "cell_type": "code",
   "execution_count": null,
   "metadata": {},
   "outputs": [],
   "source": []
  },
  {
   "cell_type": "code",
   "execution_count": null,
   "metadata": {},
   "outputs": [],
   "source": [
    "X = points(1,:);\n",
    "Y = points(2,:);\n",
    "Z = points(3,:);\n",
    "C = zeros(3,3); % covariance matrix\n",
    "C(1,1) = X*X';    C(1,2) = X*Y';    C(1,3) = X*Z';\n",
    "C(2,1) = C(1,2);  C(2,2) = Y*Y';    C(2,3) = Y*Z';\n",
    "C(3,1) = C(1,3);  C(3,2) = C(2,3);  C(3,3) = Z*Z';\n",
    "[V,D] = eig(C);"
   ]
  },
  {
   "cell_type": "code",
   "execution_count": null,
   "metadata": {},
   "outputs": [],
   "source": []
  },
  {
   "cell_type": "code",
   "execution_count": 37,
   "metadata": {},
   "outputs": [],
   "source": [
    "def namelist(path, fltr):\n",
    "    cip = []\n",
    "    for root, structure, files in os.walk(path):\n",
    "        for file in files:\n",
    "            if fltr in file:\n",
    "                cip.append(os.path.join(root, file))\n",
    "    return cip"
   ]
  },
  {
   "cell_type": "code",
   "execution_count": 38,
   "metadata": {},
   "outputs": [],
   "source": [
    "cip = namelist('C:/cherepashkin1/phenoseed/598','Surface.ply')"
   ]
  },
  {
   "cell_type": "code",
   "execution_count": 49,
   "metadata": {},
   "outputs": [],
   "source": [
    "image = np.asarray(open3d.io.read_point_cloud(cip[0]).points)\n",
    "image = image - np.mean(image,axis=0)\n",
    "# image = np.asarray(open3d.io.read_point_cloud('C:/cherepashkin1/phenoseed/598/1484717/1491988_Surface.ply').points)\n",
    "X = image[:, 0]\n",
    "Y = image[:, 1]\n",
    "Z = image[:, 2]\n",
    "car[0,:] = np.array([np.matmul(X, X.T), np.matmul(X, Y.T), np.matmul(X, Z.T),\n",
    "        np.matmul(Y, Y.T), np.matmul(Y, Z.T), np.matmul(Z, Z.T)])"
   ]
  },
  {
   "cell_type": "code",
   "execution_count": 40,
   "metadata": {},
   "outputs": [
    {
     "ename": "TypeError",
     "evalue": "'int' object is not iterable",
     "output_type": "error",
     "traceback": [
      "\u001b[1;31m---------------------------------------------------------------------------\u001b[0m",
      "\u001b[1;31mTypeError\u001b[0m                                 Traceback (most recent call last)",
      "\u001b[1;32m<ipython-input-40-25b1fa2f1b5d>\u001b[0m in \u001b[0;36m<module>\u001b[1;34m\u001b[0m\n\u001b[0;32m      1\u001b[0m \u001b[0mcar\u001b[0m \u001b[1;33m=\u001b[0m \u001b[0mnp\u001b[0m\u001b[1;33m.\u001b[0m\u001b[0mzeros\u001b[0m\u001b[1;33m(\u001b[0m\u001b[1;33m[\u001b[0m\u001b[0mlen\u001b[0m\u001b[1;33m(\u001b[0m\u001b[0mcip\u001b[0m\u001b[1;33m)\u001b[0m\u001b[1;33m,\u001b[0m \u001b[1;36m6\u001b[0m\u001b[1;33m]\u001b[0m\u001b[1;33m)\u001b[0m\u001b[1;33m\u001b[0m\u001b[1;33m\u001b[0m\u001b[0m\n\u001b[1;32m----> 2\u001b[1;33m \u001b[1;32mfor\u001b[0m \u001b[0mi\u001b[0m\u001b[1;33m,\u001b[0m\u001b[0mk\u001b[0m \u001b[1;32min\u001b[0m \u001b[0menumerate\u001b[0m\u001b[1;33m(\u001b[0m\u001b[1;36m1\u001b[0m\u001b[1;33m)\u001b[0m\u001b[1;33m:\u001b[0m\u001b[1;33m\u001b[0m\u001b[1;33m\u001b[0m\u001b[0m\n\u001b[0m\u001b[0;32m      3\u001b[0m     \u001b[0mimage\u001b[0m \u001b[1;33m=\u001b[0m \u001b[0mnp\u001b[0m\u001b[1;33m.\u001b[0m\u001b[0masarray\u001b[0m\u001b[1;33m(\u001b[0m\u001b[0mopen3d\u001b[0m\u001b[1;33m.\u001b[0m\u001b[0mio\u001b[0m\u001b[1;33m.\u001b[0m\u001b[0mread_point_cloud\u001b[0m\u001b[1;33m(\u001b[0m\u001b[0mk\u001b[0m\u001b[1;33m)\u001b[0m\u001b[1;33m.\u001b[0m\u001b[0mpoints\u001b[0m\u001b[1;33m)\u001b[0m\u001b[1;33m\u001b[0m\u001b[1;33m\u001b[0m\u001b[0m\n\u001b[0;32m      4\u001b[0m \u001b[1;31m#     image = image - np.mean(image,axis=0)\u001b[0m\u001b[1;33m\u001b[0m\u001b[1;33m\u001b[0m\u001b[1;33m\u001b[0m\u001b[0m\n\u001b[0;32m      5\u001b[0m     \u001b[1;31m# image = np.asarray(open3d.io.read_point_cloud('C:/cherepashkin1/phenoseed/598/1484717/1491988_Surface.ply').points)\u001b[0m\u001b[1;33m\u001b[0m\u001b[1;33m\u001b[0m\u001b[1;33m\u001b[0m\u001b[0m\n",
      "\u001b[1;31mTypeError\u001b[0m: 'int' object is not iterable"
     ]
    }
   ],
   "source": [
    "car = np.zeros([len(cip), 6])\n",
    "for i,k in enumerate():\n",
    "    image = np.asarray(open3d.io.read_point_cloud(k).points)\n",
    "#     image = image - np.mean(image,axis=0)\n",
    "    # image = np.asarray(open3d.io.read_point_cloud('C:/cherepashkin1/phenoseed/598/1484717/1491988_Surface.ply').points)\n",
    "    X = image[:, 0]\n",
    "    Y = image[:, 1]\n",
    "    Z = image[:, 2]\n",
    "    car[i,:] = np.array([np.matmul(X, X.T), np.matmul(X, Y.T), np.matmul(X, Z.T),\n",
    "            np.matmul(Y, Y.T), np.matmul(Y, Z.T), np.matmul(Z, Z.T)])"
   ]
  },
  {
   "cell_type": "code",
   "execution_count": 5,
   "metadata": {},
   "outputs": [],
   "source": [
    "# var = np.zeros([len(cip), 3, 3])\n",
    "car = np.zeros([len(cip), 6])\n",
    "for i,k in enumerate(cip):\n",
    "    image = np.asarray(open3d.io.read_point_cloud(k).points)\n",
    "    image = image - np.mean(image,axis=0)\n",
    "    # image = np.asarray(open3d.io.read_point_cloud('C:/cherepashkin1/phenoseed/598/1484717/1491988_Surface.ply').points)\n",
    "    X = image[:, 0]\n",
    "    Y = image[:, 1]\n",
    "    Z = image[:, 2]\n",
    "    car[i,:] = np.array([np.matmul(X, X.T), np.matmul(X, Y.T), np.matmul(X, Z.T),\n",
    "            np.matmul(Y, Y.T), np.matmul(Y, Z.T), np.matmul(Z, Z.T)])\n",
    "    \n",
    "#     C = np.zeros([3, 3])\n",
    "#     C[0, 0] = np.matmul(X, X.T)\n",
    "#     C[0, 1] = np.matmul(X, Y.T)\n",
    "#     C[0, 2] = np.matmul(X, Z.T)\n",
    "#     C[1, 0] = C[0, 1]\n",
    "#     C[1, 1] = np.matmul(Y, Y.T)\n",
    "#     C[1, 2] = np.matmul(Y, Z.T)\n",
    "#     C[2, 0] = C[0, 2]\n",
    "#     C[2, 1] = C[1, 2]\n",
    "#     C[2, 2] = np.matmul(Z, Z.T)\n",
    "    \n",
    "\n",
    "#     car[i,:] = [C[0, 0], C[0, 1], C[0, 2], C[1, 1], C[0, 0], C[0, 0]]\n",
    "#     _, v = LA.eig(C)\n",
    "#     var[i,:,:]=v\n",
    "    \n",
    "#     image2 = np.matmul(image, v)"
   ]
  },
  {
   "cell_type": "code",
   "execution_count": null,
   "metadata": {},
   "outputs": [],
   "source": []
  },
  {
   "cell_type": "code",
   "execution_count": 31,
   "metadata": {},
   "outputs": [
    {
     "data": {
      "text/plain": [
       "(5283, 6)"
      ]
     },
     "execution_count": 31,
     "metadata": {},
     "output_type": "execute_result"
    }
   ],
   "source": [
    "car.shape"
   ]
  },
  {
   "cell_type": "code",
   "execution_count": 50,
   "metadata": {},
   "outputs": [
    {
     "data": {
      "text/plain": [
       "array([ 11682431.39148296,  -2072327.49637135, -10192441.5262221 ,\n",
       "         8333248.33205532,   2867904.95892099,  29169936.10817471])"
      ]
     },
     "execution_count": 50,
     "metadata": {},
     "output_type": "execute_result"
    }
   ],
   "source": [
    "car[0]"
   ]
  },
  {
   "cell_type": "code",
   "execution_count": 31,
   "metadata": {},
   "outputs": [
    {
     "data": {
      "text/plain": [
       "(33503, 3)"
      ]
     },
     "execution_count": 31,
     "metadata": {},
     "output_type": "execute_result"
    }
   ],
   "source": [
    "image.shape"
   ]
  },
  {
   "cell_type": "code",
   "execution_count": 27,
   "metadata": {},
   "outputs": [
    {
     "ename": "AttributeError",
     "evalue": "'list' object has no attribute 'shape'",
     "output_type": "error",
     "traceback": [
      "\u001b[1;31m---------------------------------------------------------------------------\u001b[0m",
      "\u001b[1;31mAttributeError\u001b[0m                            Traceback (most recent call last)",
      "\u001b[1;32m<ipython-input-27-179a563c3155>\u001b[0m in \u001b[0;36m<module>\u001b[1;34m\u001b[0m\n\u001b[1;32m----> 1\u001b[1;33m \u001b[0mcar\u001b[0m\u001b[1;33m.\u001b[0m\u001b[0mshape\u001b[0m\u001b[1;33m\u001b[0m\u001b[1;33m\u001b[0m\u001b[0m\n\u001b[0m",
      "\u001b[1;31mAttributeError\u001b[0m: 'list' object has no attribute 'shape'"
     ]
    }
   ],
   "source": [
    "car.shape"
   ]
  },
  {
   "cell_type": "code",
   "execution_count": 29,
   "metadata": {},
   "outputs": [
    {
     "data": {
      "text/plain": [
       "(5283, 6)"
      ]
     },
     "execution_count": 29,
     "metadata": {},
     "output_type": "execute_result"
    }
   ],
   "source": [
    "car.shape"
   ]
  },
  {
   "cell_type": "code",
   "execution_count": 32,
   "metadata": {},
   "outputs": [
    {
     "data": {
      "text/plain": [
       "array([ 11682431.39148296,  -2072327.49637135, -10192441.5262221 ,\n",
       "         8333248.33205532,   2867904.95892099,  29169936.10817471])"
      ]
     },
     "execution_count": 32,
     "metadata": {},
     "output_type": "execute_result"
    }
   ],
   "source": [
    "car[0,:]"
   ]
  },
  {
   "cell_type": "code",
   "execution_count": 51,
   "metadata": {},
   "outputs": [],
   "source": [
    "C2 = np.array([[car[0,0], car[0,1], car[0,2]],\n",
    "      [car[0,1], car[0,3], car[0,4]],\n",
    "      [car[0,2], car[0,4], car[0,5]]])"
   ]
  },
  {
   "cell_type": "code",
   "execution_count": 52,
   "metadata": {},
   "outputs": [],
   "source": [
    "w, v = LA.eig(C2)"
   ]
  },
  {
   "cell_type": "code",
   "execution_count": 53,
   "metadata": {},
   "outputs": [
    {
     "data": {
      "text/plain": [
       "array([34319243.0719485 ,  6626028.48642578,  8240344.27333869])"
      ]
     },
     "execution_count": 53,
     "metadata": {},
     "output_type": "execute_result"
    }
   ],
   "source": [
    "w"
   ]
  },
  {
   "cell_type": "code",
   "execution_count": 54,
   "metadata": {},
   "outputs": [
    {
     "data": {
      "text/plain": [
       "array([[ 0.41700143, -0.82275715,  0.38623888],\n",
       "       [-0.13249349, -0.47543578, -0.86971621],\n",
       "       [-0.89919702, -0.31149877,  0.30726737]])"
      ]
     },
     "execution_count": 54,
     "metadata": {},
     "output_type": "execute_result"
    }
   ],
   "source": [
    "v"
   ]
  },
  {
   "cell_type": "code",
   "execution_count": 56,
   "metadata": {},
   "outputs": [],
   "source": [
    "w2, v2 = LA.eig(v)"
   ]
  },
  {
   "cell_type": "code",
   "execution_count": 57,
   "metadata": {},
   "outputs": [
    {
     "data": {
      "text/plain": [
       "array([[ 0.66042187+0.j        ,  0.66042187-0.j        ,\n",
       "        -0.35733163+0.j        ],\n",
       "       [-0.22260684-0.33452735j, -0.22260684+0.33452735j,\n",
       "        -0.82284585+0.j        ],\n",
       "       [-0.1195372 +0.62296987j, -0.1195372 -0.62296987j,\n",
       "        -0.44185836+0.j        ]])"
      ]
     },
     "execution_count": 57,
     "metadata": {},
     "output_type": "execute_result"
    }
   ],
   "source": [
    "v2"
   ]
  },
  {
   "cell_type": "code",
   "execution_count": 36,
   "metadata": {},
   "outputs": [
    {
     "data": {
      "text/plain": [
       "array([[ 0.62223975,  0.7771141 ,  0.09440003],\n",
       "       [ 0.2129065 , -0.05195336, -0.97569036],\n",
       "       [ 0.75331834, -0.6272117 ,  0.19778009]])"
      ]
     },
     "execution_count": 36,
     "metadata": {},
     "output_type": "execute_result"
    }
   ],
   "source": [
    "v"
   ]
  },
  {
   "cell_type": "code",
   "execution_count": 41,
   "metadata": {},
   "outputs": [
    {
     "data": {
      "text/plain": [
       "array([[5.04089976e+08, 1.64563652e+08, 5.75078730e+08],\n",
       "       [1.64563652e+08, 6.47246460e+07, 2.00929929e+08],\n",
       "       [5.75078730e+08, 2.00929929e+08, 7.24817978e+08]])"
      ]
     },
     "execution_count": 41,
     "metadata": {},
     "output_type": "execute_result"
    }
   ],
   "source": [
    "C2"
   ]
  },
  {
   "cell_type": "code",
   "execution_count": 39,
   "metadata": {},
   "outputs": [
    {
     "data": {
      "text/plain": [
       "list"
      ]
     },
     "execution_count": 39,
     "metadata": {},
     "output_type": "execute_result"
    }
   ],
   "source": [
    "type(C2)"
   ]
  },
  {
   "cell_type": "code",
   "execution_count": 42,
   "metadata": {},
   "outputs": [],
   "source": [
    "w, v = LA.eig(C2/C2[0,0])"
   ]
  },
  {
   "cell_type": "code",
   "execution_count": null,
   "metadata": {},
   "outputs": [],
   "source": []
  },
  {
   "cell_type": "code",
   "execution_count": 43,
   "metadata": {},
   "outputs": [
    {
     "data": {
      "text/plain": [
       "array([2.4928484 , 0.0574104 , 0.01601441])"
      ]
     },
     "execution_count": 43,
     "metadata": {},
     "output_type": "execute_result"
    }
   ],
   "source": [
    "w"
   ]
  },
  {
   "cell_type": "code",
   "execution_count": 44,
   "metadata": {},
   "outputs": [
    {
     "data": {
      "text/plain": [
       "array([[ 0.62223975,  0.7771141 ,  0.09440003],\n",
       "       [ 0.2129065 , -0.05195336, -0.97569036],\n",
       "       [ 0.75331834, -0.6272117 ,  0.19778009]])"
      ]
     },
     "execution_count": 44,
     "metadata": {},
     "output_type": "execute_result"
    }
   ],
   "source": [
    "v"
   ]
  },
  {
   "cell_type": "code",
   "execution_count": 34,
   "metadata": {},
   "outputs": [
    {
     "name": "stdout",
     "output_type": "stream",
     "text": [
      "[1.25661989e+09 2.89400057e+07 8.07270438e+06] [[ 0.62223975  0.7771141   0.09440003]\n",
      " [ 0.2129065  -0.05195336 -0.97569036]\n",
      " [ 0.75331834 -0.6272117   0.19778009]]\n"
     ]
    }
   ],
   "source": [
    "print(w,v)"
   ]
  },
  {
   "cell_type": "code",
   "execution_count": 21,
   "metadata": {},
   "outputs": [
    {
     "data": {
      "text/plain": [
       "(5283, 3, 3)"
      ]
     },
     "execution_count": 21,
     "metadata": {},
     "output_type": "execute_result"
    }
   ],
   "source": [
    "var.shape"
   ]
  },
  {
   "cell_type": "code",
   "execution_count": null,
   "metadata": {},
   "outputs": [],
   "source": [
    "np.savetxt(var, delimite)"
   ]
  },
  {
   "cell_type": "code",
   "execution_count": 23,
   "metadata": {},
   "outputs": [
    {
     "data": {
      "text/plain": [
       "array([[-0.74466816, -0.64330328,  0.17784887],\n",
       "       [-0.23069583, -0.00195767, -0.97302395],\n",
       "       [-0.62629767,  0.76560894,  0.14694957]])"
      ]
     },
     "execution_count": 23,
     "metadata": {},
     "output_type": "execute_result"
    }
   ],
   "source": [
    "v"
   ]
  },
  {
   "cell_type": "code",
   "execution_count": 22,
   "metadata": {},
   "outputs": [
    {
     "data": {
      "text/plain": [
       "array([[ 0.62223975,  0.7771141 ,  0.09440003],\n",
       "       [ 0.2129065 , -0.05195336, -0.97569036],\n",
       "       [ 0.75331834, -0.6272117 ,  0.19778009]])"
      ]
     },
     "execution_count": 22,
     "metadata": {},
     "output_type": "execute_result"
    }
   ],
   "source": [
    "var[0,:,:]"
   ]
  },
  {
   "cell_type": "code",
   "execution_count": null,
   "metadata": {},
   "outputs": [],
   "source": []
  },
  {
   "cell_type": "code",
   "execution_count": 8,
   "metadata": {},
   "outputs": [
    {
     "data": {
      "text/plain": [
       "array([1.25661989e+09, 2.89400057e+07, 8.07270438e+06])"
      ]
     },
     "execution_count": 8,
     "metadata": {},
     "output_type": "execute_result"
    }
   ],
   "source": [
    "w"
   ]
  },
  {
   "cell_type": "code",
   "execution_count": 9,
   "metadata": {},
   "outputs": [
    {
     "data": {
      "text/plain": [
       "array([[ 0.62223975,  0.7771141 ,  0.09440003],\n",
       "       [ 0.2129065 , -0.05195336, -0.97569036],\n",
       "       [ 0.75331834, -0.6272117 ,  0.19778009]])"
      ]
     },
     "execution_count": 9,
     "metadata": {},
     "output_type": "execute_result"
    }
   ],
   "source": [
    "v"
   ]
  },
  {
   "cell_type": "code",
   "execution_count": null,
   "metadata": {},
   "outputs": [],
   "source": []
  },
  {
   "cell_type": "code",
   "execution_count": 25,
   "metadata": {},
   "outputs": [],
   "source": [
    "with h5py.File('C:/circles/finetune_test/csv/canonical_view_rotations_598.h5', 'w') as f:\n",
    "    f.create_dataset('dataset', data=var)"
   ]
  },
  {
   "cell_type": "code",
   "execution_count": 45,
   "metadata": {},
   "outputs": [],
   "source": [
    "with h5py.File('C:/circles/finetune_test/csv/canonical_view_moments_598.h5', 'w') as f:\n",
    "    f.create_dataset('dataset', data=car)"
   ]
  },
  {
   "cell_type": "code",
   "execution_count": 10,
   "metadata": {},
   "outputs": [
    {
     "data": {
      "text/plain": [
       "(5283, 6)"
      ]
     },
     "execution_count": 10,
     "metadata": {},
     "output_type": "execute_result"
    }
   ],
   "source": [
    "car.shape"
   ]
  },
  {
   "cell_type": "code",
   "execution_count": 11,
   "metadata": {},
   "outputs": [
    {
     "data": {
      "text/plain": [
       "array([ 11682431.39148296,  -2072327.49637135, -10192441.5262221 ,\n",
       "         8333248.33205532,   2867904.95892099,  29169936.10817471])"
      ]
     },
     "execution_count": 11,
     "metadata": {},
     "output_type": "execute_result"
    }
   ],
   "source": [
    "car[0]"
   ]
  },
  {
   "cell_type": "code",
   "execution_count": 13,
   "metadata": {},
   "outputs": [],
   "source": [
    "def pose6tomat(a):\n",
    "    return(\n",
    "            [[a[0], a[1], a[2]],\n",
    "            [a[1], a[3], a[4]],\n",
    "            [a[2], a[4], a[5]]])"
   ]
  },
  {
   "cell_type": "code",
   "execution_count": 19,
   "metadata": {},
   "outputs": [],
   "source": [
    "_, v = LA.eig(pose6tomat(car[0,:])/car[0,0])"
   ]
  },
  {
   "cell_type": "code",
   "execution_count": 20,
   "metadata": {},
   "outputs": [],
   "source": [
    "_, v = LA.eig(pose6tomat(car[0,:]))"
   ]
  },
  {
   "cell_type": "code",
   "execution_count": 21,
   "metadata": {},
   "outputs": [
    {
     "data": {
      "text/plain": [
       "array([[ 0.41700143, -0.82275715,  0.38623888],\n",
       "       [-0.13249349, -0.47543578, -0.86971621],\n",
       "       [-0.89919702, -0.31149877,  0.30726737]])"
      ]
     },
     "execution_count": 21,
     "metadata": {},
     "output_type": "execute_result"
    }
   ],
   "source": [
    "v"
   ]
  },
  {
   "cell_type": "code",
   "execution_count": 16,
   "metadata": {},
   "outputs": [
    {
     "data": {
      "text/plain": [
       "array([[ 0.41700143, -0.82275715,  0.38623888],\n",
       "       [-0.13249349, -0.47543578, -0.86971621],\n",
       "       [-0.89919702, -0.31149877,  0.30726737]])"
      ]
     },
     "execution_count": 16,
     "metadata": {},
     "output_type": "execute_result"
    }
   ],
   "source": [
    "v"
   ]
  },
  {
   "cell_type": "code",
   "execution_count": 18,
   "metadata": {},
   "outputs": [
    {
     "data": {
      "text/plain": [
       "array([[ 4871590.64627985,  1705022.27264314, -3936717.16333348],\n",
       "       [  274569.9019324 , -3961924.41850326, -2494263.44565524],\n",
       "       [ 9165013.03664595,  -893348.87415162,  8962969.51022606]])"
      ]
     },
     "execution_count": 18,
     "metadata": {},
     "output_type": "execute_result"
    }
   ],
   "source": [
    "v*pose6tomat(car[0,:])"
   ]
  },
  {
   "cell_type": "code",
   "execution_count": null,
   "metadata": {},
   "outputs": [],
   "source": [
    "v = np."
   ]
  },
  {
   "cell_type": "code",
   "execution_count": null,
   "metadata": {},
   "outputs": [],
   "source": [
    "for i in range(car.shape[0]):\n",
    "    _, v[i,:,:] = LA.eig(pose6tomat(car[i,:]))"
   ]
  },
  {
   "cell_type": "code",
   "execution_count": 22,
   "metadata": {},
   "outputs": [],
   "source": [
    "df = pd.read_csv('C:/circles/finetune_test/csv/598frame.csv')"
   ]
  },
  {
   "cell_type": "code",
   "execution_count": 23,
   "metadata": {},
   "outputs": [
    {
     "data": {
      "text/html": [
       "<div>\n",
       "<style scoped>\n",
       "    .dataframe tbody tr th:only-of-type {\n",
       "        vertical-align: middle;\n",
       "    }\n",
       "\n",
       "    .dataframe tbody tr th {\n",
       "        vertical-align: top;\n",
       "    }\n",
       "\n",
       "    .dataframe thead th {\n",
       "        text-align: right;\n",
       "    }\n",
       "</style>\n",
       "<table border=\"1\" class=\"dataframe\">\n",
       "  <thead>\n",
       "    <tr style=\"text-align: right;\">\n",
       "      <th></th>\n",
       "      <th>index</th>\n",
       "      <th>file_name</th>\n",
       "      <th>zero_angle</th>\n",
       "      <th>x_cms</th>\n",
       "      <th>y_cms</th>\n",
       "      <th>z_cms</th>\n",
       "      <th>delta_x</th>\n",
       "      <th>delta_y</th>\n",
       "      <th>moment0</th>\n",
       "      <th>moment1</th>\n",
       "      <th>moment2</th>\n",
       "      <th>moment3</th>\n",
       "      <th>moment4</th>\n",
       "      <th>moment5</th>\n",
       "    </tr>\n",
       "  </thead>\n",
       "  <tbody>\n",
       "    <tr>\n",
       "      <th>0</th>\n",
       "      <td>0</td>\n",
       "      <td>598csv/1484717/1491988</td>\n",
       "      <td>8.0</td>\n",
       "      <td>129.831987</td>\n",
       "      <td>43.936533</td>\n",
       "      <td>154.317130</td>\n",
       "      <td>0.000000</td>\n",
       "      <td>0.000000</td>\n",
       "      <td>504089976.0</td>\n",
       "      <td>164563652.0</td>\n",
       "      <td>575078730.0</td>\n",
       "      <td>64724646.0</td>\n",
       "      <td>200929929.0</td>\n",
       "      <td>724817978.0</td>\n",
       "    </tr>\n",
       "    <tr>\n",
       "      <th>1</th>\n",
       "      <td>1</td>\n",
       "      <td>598csv/1484717/1491989</td>\n",
       "      <td>9.0</td>\n",
       "      <td>119.950786</td>\n",
       "      <td>48.513970</td>\n",
       "      <td>141.181489</td>\n",
       "      <td>0.040641</td>\n",
       "      <td>0.000000</td>\n",
       "      <td>428386811.0</td>\n",
       "      <td>167247653.0</td>\n",
       "      <td>479568284.0</td>\n",
       "      <td>74638238.0</td>\n",
       "      <td>199349082.0</td>\n",
       "      <td>609253694.0</td>\n",
       "    </tr>\n",
       "    <tr>\n",
       "      <th>2</th>\n",
       "      <td>2</td>\n",
       "      <td>598csv/1484717/1491990</td>\n",
       "      <td>8.0</td>\n",
       "      <td>123.014476</td>\n",
       "      <td>47.128630</td>\n",
       "      <td>155.613687</td>\n",
       "      <td>0.051783</td>\n",
       "      <td>0.516619</td>\n",
       "      <td>363275825.0</td>\n",
       "      <td>136293591.0</td>\n",
       "      <td>446703489.0</td>\n",
       "      <td>56699590.0</td>\n",
       "      <td>176090923.0</td>\n",
       "      <td>592715504.0</td>\n",
       "    </tr>\n",
       "    <tr>\n",
       "      <th>3</th>\n",
       "      <td>3</td>\n",
       "      <td>598csv/1484717/1491991</td>\n",
       "      <td>5.0</td>\n",
       "      <td>120.352368</td>\n",
       "      <td>42.278210</td>\n",
       "      <td>136.717018</td>\n",
       "      <td>0.032078</td>\n",
       "      <td>0.516619</td>\n",
       "      <td>381880431.0</td>\n",
       "      <td>128225058.0</td>\n",
       "      <td>412001326.0</td>\n",
       "      <td>50659849.0</td>\n",
       "      <td>151043672.0</td>\n",
       "      <td>500506132.0</td>\n",
       "    </tr>\n",
       "    <tr>\n",
       "      <th>4</th>\n",
       "      <td>4</td>\n",
       "      <td>598csv/1484717/1491992</td>\n",
       "      <td>11.0</td>\n",
       "      <td>120.963969</td>\n",
       "      <td>52.290549</td>\n",
       "      <td>139.462856</td>\n",
       "      <td>0.007131</td>\n",
       "      <td>0.688826</td>\n",
       "      <td>395257806.0</td>\n",
       "      <td>165420434.0</td>\n",
       "      <td>442680482.0</td>\n",
       "      <td>80723765.0</td>\n",
       "      <td>199558581.0</td>\n",
       "      <td>543286441.0</td>\n",
       "    </tr>\n",
       "    <tr>\n",
       "      <th>...</th>\n",
       "      <td>...</td>\n",
       "      <td>...</td>\n",
       "      <td>...</td>\n",
       "      <td>...</td>\n",
       "      <td>...</td>\n",
       "      <td>...</td>\n",
       "      <td>...</td>\n",
       "      <td>...</td>\n",
       "      <td>...</td>\n",
       "      <td>...</td>\n",
       "      <td>...</td>\n",
       "      <td>...</td>\n",
       "      <td>...</td>\n",
       "      <td>...</td>\n",
       "    </tr>\n",
       "    <tr>\n",
       "      <th>5278</th>\n",
       "      <td>5278</td>\n",
       "      <td>598csv/1484760/1500857</td>\n",
       "      <td>10.0</td>\n",
       "      <td>121.881008</td>\n",
       "      <td>24.875571</td>\n",
       "      <td>128.604963</td>\n",
       "      <td>-5.848818</td>\n",
       "      <td>0.516619</td>\n",
       "      <td>435057172.0</td>\n",
       "      <td>86812440.0</td>\n",
       "      <td>460315264.0</td>\n",
       "      <td>23001555.0</td>\n",
       "      <td>91717537.0</td>\n",
       "      <td>515400941.0</td>\n",
       "    </tr>\n",
       "    <tr>\n",
       "      <th>5279</th>\n",
       "      <td>5279</td>\n",
       "      <td>598csv/1484760/1500858</td>\n",
       "      <td>22.0</td>\n",
       "      <td>138.268651</td>\n",
       "      <td>47.324900</td>\n",
       "      <td>118.120206</td>\n",
       "      <td>-5.682811</td>\n",
       "      <td>0.516619</td>\n",
       "      <td>521235084.0</td>\n",
       "      <td>171184215.0</td>\n",
       "      <td>419739092.0</td>\n",
       "      <td>64739111.0</td>\n",
       "      <td>145262026.0</td>\n",
       "      <td>378174238.0</td>\n",
       "    </tr>\n",
       "    <tr>\n",
       "      <th>5280</th>\n",
       "      <td>5280</td>\n",
       "      <td>598csv/1484760/1500859</td>\n",
       "      <td>21.0</td>\n",
       "      <td>140.535355</td>\n",
       "      <td>24.351695</td>\n",
       "      <td>137.298298</td>\n",
       "      <td>-5.663254</td>\n",
       "      <td>0.516619</td>\n",
       "      <td>620853856.0</td>\n",
       "      <td>102768458.0</td>\n",
       "      <td>568026943.0</td>\n",
       "      <td>23532224.0</td>\n",
       "      <td>101179273.0</td>\n",
       "      <td>588455777.0</td>\n",
       "    </tr>\n",
       "    <tr>\n",
       "      <th>5281</th>\n",
       "      <td>5281</td>\n",
       "      <td>598csv/1484760/1500860</td>\n",
       "      <td>21.0</td>\n",
       "      <td>132.135006</td>\n",
       "      <td>52.008363</td>\n",
       "      <td>115.020311</td>\n",
       "      <td>-5.555135</td>\n",
       "      <td>0.516619</td>\n",
       "      <td>661442177.0</td>\n",
       "      <td>249010683.0</td>\n",
       "      <td>530651160.0</td>\n",
       "      <td>110415531.0</td>\n",
       "      <td>211167589.0</td>\n",
       "      <td>500456320.0</td>\n",
       "    </tr>\n",
       "    <tr>\n",
       "      <th>5282</th>\n",
       "      <td>5282</td>\n",
       "      <td>598csv/1484760/1500861</td>\n",
       "      <td>22.0</td>\n",
       "      <td>151.002000</td>\n",
       "      <td>46.848014</td>\n",
       "      <td>127.560398</td>\n",
       "      <td>-5.669602</td>\n",
       "      <td>0.516619</td>\n",
       "      <td>790454950.0</td>\n",
       "      <td>237495209.0</td>\n",
       "      <td>627576473.0</td>\n",
       "      <td>83205379.0</td>\n",
       "      <td>199654983.0</td>\n",
       "      <td>572117512.0</td>\n",
       "    </tr>\n",
       "  </tbody>\n",
       "</table>\n",
       "<p>5283 rows × 14 columns</p>\n",
       "</div>"
      ],
      "text/plain": [
       "      index               file_name  zero_angle       x_cms      y_cms  \\\n",
       "0         0  598csv/1484717/1491988         8.0  129.831987  43.936533   \n",
       "1         1  598csv/1484717/1491989         9.0  119.950786  48.513970   \n",
       "2         2  598csv/1484717/1491990         8.0  123.014476  47.128630   \n",
       "3         3  598csv/1484717/1491991         5.0  120.352368  42.278210   \n",
       "4         4  598csv/1484717/1491992        11.0  120.963969  52.290549   \n",
       "...     ...                     ...         ...         ...        ...   \n",
       "5278   5278  598csv/1484760/1500857        10.0  121.881008  24.875571   \n",
       "5279   5279  598csv/1484760/1500858        22.0  138.268651  47.324900   \n",
       "5280   5280  598csv/1484760/1500859        21.0  140.535355  24.351695   \n",
       "5281   5281  598csv/1484760/1500860        21.0  132.135006  52.008363   \n",
       "5282   5282  598csv/1484760/1500861        22.0  151.002000  46.848014   \n",
       "\n",
       "           z_cms   delta_x   delta_y      moment0      moment1      moment2  \\\n",
       "0     154.317130  0.000000  0.000000  504089976.0  164563652.0  575078730.0   \n",
       "1     141.181489  0.040641  0.000000  428386811.0  167247653.0  479568284.0   \n",
       "2     155.613687  0.051783  0.516619  363275825.0  136293591.0  446703489.0   \n",
       "3     136.717018  0.032078  0.516619  381880431.0  128225058.0  412001326.0   \n",
       "4     139.462856  0.007131  0.688826  395257806.0  165420434.0  442680482.0   \n",
       "...          ...       ...       ...          ...          ...          ...   \n",
       "5278  128.604963 -5.848818  0.516619  435057172.0   86812440.0  460315264.0   \n",
       "5279  118.120206 -5.682811  0.516619  521235084.0  171184215.0  419739092.0   \n",
       "5280  137.298298 -5.663254  0.516619  620853856.0  102768458.0  568026943.0   \n",
       "5281  115.020311 -5.555135  0.516619  661442177.0  249010683.0  530651160.0   \n",
       "5282  127.560398 -5.669602  0.516619  790454950.0  237495209.0  627576473.0   \n",
       "\n",
       "          moment3      moment4      moment5  \n",
       "0      64724646.0  200929929.0  724817978.0  \n",
       "1      74638238.0  199349082.0  609253694.0  \n",
       "2      56699590.0  176090923.0  592715504.0  \n",
       "3      50659849.0  151043672.0  500506132.0  \n",
       "4      80723765.0  199558581.0  543286441.0  \n",
       "...           ...          ...          ...  \n",
       "5278   23001555.0   91717537.0  515400941.0  \n",
       "5279   64739111.0  145262026.0  378174238.0  \n",
       "5280   23532224.0  101179273.0  588455777.0  \n",
       "5281  110415531.0  211167589.0  500456320.0  \n",
       "5282   83205379.0  199654983.0  572117512.0  \n",
       "\n",
       "[5283 rows x 14 columns]"
      ]
     },
     "execution_count": 23,
     "metadata": {},
     "output_type": "execute_result"
    }
   ],
   "source": [
    "df"
   ]
  },
  {
   "cell_type": "code",
   "execution_count": 51,
   "metadata": {},
   "outputs": [
    {
     "data": {
      "text/plain": [
       "'C:/cherepashkin1/phenoseed/598\\\\1484760\\\\1500861_Surface.ply'"
      ]
     },
     "execution_count": 51,
     "metadata": {},
     "output_type": "execute_result"
    }
   ],
   "source": [
    "cip[-1]"
   ]
  },
  {
   "cell_type": "code",
   "execution_count": 52,
   "metadata": {},
   "outputs": [
    {
     "ename": "TypeError",
     "evalue": "__call__() takes from 1 to 2 positional arguments but 3 were given",
     "output_type": "error",
     "traceback": [
      "\u001b[1;31m---------------------------------------------------------------------------\u001b[0m",
      "\u001b[1;31mTypeError\u001b[0m                                 Traceback (most recent call last)",
      "\u001b[1;32m<ipython-input-52-aa49a52387c8>\u001b[0m in \u001b[0;36m<module>\u001b[1;34m\u001b[0m\n\u001b[1;32m----> 1\u001b[1;33m \u001b[0mdf\u001b[0m\u001b[1;33m.\u001b[0m\u001b[0miloc\u001b[0m\u001b[1;33m(\u001b[0m\u001b[1;36m0\u001b[0m\u001b[1;33m,\u001b[0m\u001b[1;36m0\u001b[0m\u001b[1;33m)\u001b[0m\u001b[1;33m\u001b[0m\u001b[1;33m\u001b[0m\u001b[0m\n\u001b[0m",
      "\u001b[1;31mTypeError\u001b[0m: __call__() takes from 1 to 2 positional arguments but 3 were given"
     ]
    }
   ],
   "source": [
    "df.iloc(0,0)"
   ]
  },
  {
   "cell_type": "code",
   "execution_count": 25,
   "metadata": {},
   "outputs": [
    {
     "data": {
      "text/plain": [
       "(5283, 6)"
      ]
     },
     "execution_count": 25,
     "metadata": {},
     "output_type": "execute_result"
    }
   ],
   "source": [
    "car.shape"
   ]
  },
  {
   "cell_type": "code",
   "execution_count": 26,
   "metadata": {},
   "outputs": [
    {
     "data": {
      "text/plain": [
       "5283"
      ]
     },
     "execution_count": 26,
     "metadata": {},
     "output_type": "execute_result"
    }
   ],
   "source": [
    "len(df)"
   ]
  },
  {
   "cell_type": "code",
   "execution_count": 27,
   "metadata": {},
   "outputs": [],
   "source": [
    "for i in range(6):\n",
    "    df.insert(14+i, \"mom\"+str(i), car[:,i])"
   ]
  },
  {
   "cell_type": "code",
   "execution_count": 28,
   "metadata": {},
   "outputs": [
    {
     "data": {
      "text/html": [
       "<div>\n",
       "<style scoped>\n",
       "    .dataframe tbody tr th:only-of-type {\n",
       "        vertical-align: middle;\n",
       "    }\n",
       "\n",
       "    .dataframe tbody tr th {\n",
       "        vertical-align: top;\n",
       "    }\n",
       "\n",
       "    .dataframe thead th {\n",
       "        text-align: right;\n",
       "    }\n",
       "</style>\n",
       "<table border=\"1\" class=\"dataframe\">\n",
       "  <thead>\n",
       "    <tr style=\"text-align: right;\">\n",
       "      <th></th>\n",
       "      <th>index</th>\n",
       "      <th>file_name</th>\n",
       "      <th>zero_angle</th>\n",
       "      <th>x_cms</th>\n",
       "      <th>y_cms</th>\n",
       "      <th>z_cms</th>\n",
       "      <th>delta_x</th>\n",
       "      <th>delta_y</th>\n",
       "      <th>moment0</th>\n",
       "      <th>moment1</th>\n",
       "      <th>moment2</th>\n",
       "      <th>moment3</th>\n",
       "      <th>moment4</th>\n",
       "      <th>moment5</th>\n",
       "      <th>mom0</th>\n",
       "      <th>mom1</th>\n",
       "      <th>mom2</th>\n",
       "      <th>mom3</th>\n",
       "      <th>mom4</th>\n",
       "      <th>mom5</th>\n",
       "    </tr>\n",
       "  </thead>\n",
       "  <tbody>\n",
       "    <tr>\n",
       "      <th>0</th>\n",
       "      <td>0</td>\n",
       "      <td>598csv/1484717/1491988</td>\n",
       "      <td>8.0</td>\n",
       "      <td>129.831987</td>\n",
       "      <td>43.936533</td>\n",
       "      <td>154.317130</td>\n",
       "      <td>0.000000</td>\n",
       "      <td>0.000000</td>\n",
       "      <td>504089976.0</td>\n",
       "      <td>164563652.0</td>\n",
       "      <td>575078730.0</td>\n",
       "      <td>64724646.0</td>\n",
       "      <td>200929929.0</td>\n",
       "      <td>724817978.0</td>\n",
       "      <td>1.168243e+07</td>\n",
       "      <td>-2.072327e+06</td>\n",
       "      <td>-1.019244e+07</td>\n",
       "      <td>8.333248e+06</td>\n",
       "      <td>2.867905e+06</td>\n",
       "      <td>2.916994e+07</td>\n",
       "    </tr>\n",
       "    <tr>\n",
       "      <th>1</th>\n",
       "      <td>1</td>\n",
       "      <td>598csv/1484717/1491989</td>\n",
       "      <td>9.0</td>\n",
       "      <td>119.950786</td>\n",
       "      <td>48.513970</td>\n",
       "      <td>141.181489</td>\n",
       "      <td>0.040641</td>\n",
       "      <td>0.000000</td>\n",
       "      <td>428386811.0</td>\n",
       "      <td>167247653.0</td>\n",
       "      <td>479568284.0</td>\n",
       "      <td>74638238.0</td>\n",
       "      <td>199349082.0</td>\n",
       "      <td>609253694.0</td>\n",
       "      <td>1.177674e+07</td>\n",
       "      <td>-1.249855e+06</td>\n",
       "      <td>-1.077973e+07</td>\n",
       "      <td>6.489597e+06</td>\n",
       "      <td>1.028339e+06</td>\n",
       "      <td>3.211648e+07</td>\n",
       "    </tr>\n",
       "    <tr>\n",
       "      <th>2</th>\n",
       "      <td>2</td>\n",
       "      <td>598csv/1484717/1491990</td>\n",
       "      <td>8.0</td>\n",
       "      <td>123.014476</td>\n",
       "      <td>47.128630</td>\n",
       "      <td>155.613687</td>\n",
       "      <td>0.051783</td>\n",
       "      <td>0.516619</td>\n",
       "      <td>363275825.0</td>\n",
       "      <td>136293591.0</td>\n",
       "      <td>446703489.0</td>\n",
       "      <td>56699590.0</td>\n",
       "      <td>176090923.0</td>\n",
       "      <td>592715504.0</td>\n",
       "      <td>6.813210e+06</td>\n",
       "      <td>-2.724059e+05</td>\n",
       "      <td>-4.222803e+06</td>\n",
       "      <td>4.379176e+06</td>\n",
       "      <td>3.334522e+06</td>\n",
       "      <td>2.229237e+07</td>\n",
       "    </tr>\n",
       "    <tr>\n",
       "      <th>3</th>\n",
       "      <td>3</td>\n",
       "      <td>598csv/1484717/1491991</td>\n",
       "      <td>5.0</td>\n",
       "      <td>120.352368</td>\n",
       "      <td>42.278210</td>\n",
       "      <td>136.717018</td>\n",
       "      <td>0.032078</td>\n",
       "      <td>0.516619</td>\n",
       "      <td>381880431.0</td>\n",
       "      <td>128225058.0</td>\n",
       "      <td>412001326.0</td>\n",
       "      <td>50659849.0</td>\n",
       "      <td>151043672.0</td>\n",
       "      <td>500506132.0</td>\n",
       "      <td>1.155030e+07</td>\n",
       "      <td>-1.867066e+06</td>\n",
       "      <td>-8.683638e+06</td>\n",
       "      <td>4.960190e+06</td>\n",
       "      <td>3.262556e+06</td>\n",
       "      <td>2.261945e+07</td>\n",
       "    </tr>\n",
       "    <tr>\n",
       "      <th>4</th>\n",
       "      <td>4</td>\n",
       "      <td>598csv/1484717/1491992</td>\n",
       "      <td>11.0</td>\n",
       "      <td>120.963969</td>\n",
       "      <td>52.290549</td>\n",
       "      <td>139.462856</td>\n",
       "      <td>0.007131</td>\n",
       "      <td>0.688826</td>\n",
       "      <td>395257806.0</td>\n",
       "      <td>165420434.0</td>\n",
       "      <td>442680482.0</td>\n",
       "      <td>80723765.0</td>\n",
       "      <td>199558581.0</td>\n",
       "      <td>543286441.0</td>\n",
       "      <td>7.429177e+06</td>\n",
       "      <td>-2.230910e+06</td>\n",
       "      <td>-4.458354e+06</td>\n",
       "      <td>8.251103e+06</td>\n",
       "      <td>6.268502e+06</td>\n",
       "      <td>2.776715e+07</td>\n",
       "    </tr>\n",
       "    <tr>\n",
       "      <th>...</th>\n",
       "      <td>...</td>\n",
       "      <td>...</td>\n",
       "      <td>...</td>\n",
       "      <td>...</td>\n",
       "      <td>...</td>\n",
       "      <td>...</td>\n",
       "      <td>...</td>\n",
       "      <td>...</td>\n",
       "      <td>...</td>\n",
       "      <td>...</td>\n",
       "      <td>...</td>\n",
       "      <td>...</td>\n",
       "      <td>...</td>\n",
       "      <td>...</td>\n",
       "      <td>...</td>\n",
       "      <td>...</td>\n",
       "      <td>...</td>\n",
       "      <td>...</td>\n",
       "      <td>...</td>\n",
       "      <td>...</td>\n",
       "    </tr>\n",
       "    <tr>\n",
       "      <th>5278</th>\n",
       "      <td>5278</td>\n",
       "      <td>598csv/1484760/1500857</td>\n",
       "      <td>10.0</td>\n",
       "      <td>121.881008</td>\n",
       "      <td>24.875571</td>\n",
       "      <td>128.604963</td>\n",
       "      <td>-5.848818</td>\n",
       "      <td>0.516619</td>\n",
       "      <td>435057172.0</td>\n",
       "      <td>86812440.0</td>\n",
       "      <td>460315264.0</td>\n",
       "      <td>23001555.0</td>\n",
       "      <td>91717537.0</td>\n",
       "      <td>515400941.0</td>\n",
       "      <td>8.852938e+06</td>\n",
       "      <td>-1.746448e+05</td>\n",
       "      <td>1.059811e+07</td>\n",
       "      <td>5.247736e+06</td>\n",
       "      <td>-6.846828e+04</td>\n",
       "      <td>4.087370e+07</td>\n",
       "    </tr>\n",
       "    <tr>\n",
       "      <th>5279</th>\n",
       "      <td>5279</td>\n",
       "      <td>598csv/1484760/1500858</td>\n",
       "      <td>22.0</td>\n",
       "      <td>138.268651</td>\n",
       "      <td>47.324900</td>\n",
       "      <td>118.120206</td>\n",
       "      <td>-5.682811</td>\n",
       "      <td>0.516619</td>\n",
       "      <td>521235084.0</td>\n",
       "      <td>171184215.0</td>\n",
       "      <td>419739092.0</td>\n",
       "      <td>64739111.0</td>\n",
       "      <td>145262026.0</td>\n",
       "      <td>378174238.0</td>\n",
       "      <td>2.024213e+07</td>\n",
       "      <td>-2.895143e+05</td>\n",
       "      <td>-8.249394e+06</td>\n",
       "      <td>6.049184e+06</td>\n",
       "      <td>-1.224629e+06</td>\n",
       "      <td>1.255204e+07</td>\n",
       "    </tr>\n",
       "    <tr>\n",
       "      <th>5280</th>\n",
       "      <td>5280</td>\n",
       "      <td>598csv/1484760/1500859</td>\n",
       "      <td>21.0</td>\n",
       "      <td>140.535355</td>\n",
       "      <td>24.351695</td>\n",
       "      <td>137.298298</td>\n",
       "      <td>-5.663254</td>\n",
       "      <td>0.516619</td>\n",
       "      <td>620853856.0</td>\n",
       "      <td>102768458.0</td>\n",
       "      <td>568026943.0</td>\n",
       "      <td>23532224.0</td>\n",
       "      <td>101179273.0</td>\n",
       "      <td>588455777.0</td>\n",
       "      <td>2.424024e+07</td>\n",
       "      <td>-6.115976e+05</td>\n",
       "      <td>-1.484443e+07</td>\n",
       "      <td>5.618728e+06</td>\n",
       "      <td>1.804479e+05</td>\n",
       "      <td>1.901012e+07</td>\n",
       "    </tr>\n",
       "    <tr>\n",
       "      <th>5281</th>\n",
       "      <td>5281</td>\n",
       "      <td>598csv/1484760/1500860</td>\n",
       "      <td>21.0</td>\n",
       "      <td>132.135006</td>\n",
       "      <td>52.008363</td>\n",
       "      <td>115.020311</td>\n",
       "      <td>-5.555135</td>\n",
       "      <td>0.516619</td>\n",
       "      <td>661442177.0</td>\n",
       "      <td>249010683.0</td>\n",
       "      <td>530651160.0</td>\n",
       "      <td>110415531.0</td>\n",
       "      <td>211167589.0</td>\n",
       "      <td>500456320.0</td>\n",
       "      <td>3.305156e+07</td>\n",
       "      <td>1.676018e+06</td>\n",
       "      <td>-1.634760e+07</td>\n",
       "      <td>1.306456e+07</td>\n",
       "      <td>-4.131224e+06</td>\n",
       "      <td>2.430720e+07</td>\n",
       "    </tr>\n",
       "    <tr>\n",
       "      <th>5282</th>\n",
       "      <td>5282</td>\n",
       "      <td>598csv/1484760/1500861</td>\n",
       "      <td>22.0</td>\n",
       "      <td>151.002000</td>\n",
       "      <td>46.848014</td>\n",
       "      <td>127.560398</td>\n",
       "      <td>-5.669602</td>\n",
       "      <td>0.516619</td>\n",
       "      <td>790454950.0</td>\n",
       "      <td>237495209.0</td>\n",
       "      <td>627576473.0</td>\n",
       "      <td>83205379.0</td>\n",
       "      <td>199654983.0</td>\n",
       "      <td>572117512.0</td>\n",
       "      <td>2.653281e+07</td>\n",
       "      <td>4.901712e+05</td>\n",
       "      <td>-1.775413e+07</td>\n",
       "      <td>9.675126e+06</td>\n",
       "      <td>-5.573115e+05</td>\n",
       "      <td>2.696825e+07</td>\n",
       "    </tr>\n",
       "  </tbody>\n",
       "</table>\n",
       "<p>5283 rows × 20 columns</p>\n",
       "</div>"
      ],
      "text/plain": [
       "      index               file_name  zero_angle       x_cms      y_cms  \\\n",
       "0         0  598csv/1484717/1491988         8.0  129.831987  43.936533   \n",
       "1         1  598csv/1484717/1491989         9.0  119.950786  48.513970   \n",
       "2         2  598csv/1484717/1491990         8.0  123.014476  47.128630   \n",
       "3         3  598csv/1484717/1491991         5.0  120.352368  42.278210   \n",
       "4         4  598csv/1484717/1491992        11.0  120.963969  52.290549   \n",
       "...     ...                     ...         ...         ...        ...   \n",
       "5278   5278  598csv/1484760/1500857        10.0  121.881008  24.875571   \n",
       "5279   5279  598csv/1484760/1500858        22.0  138.268651  47.324900   \n",
       "5280   5280  598csv/1484760/1500859        21.0  140.535355  24.351695   \n",
       "5281   5281  598csv/1484760/1500860        21.0  132.135006  52.008363   \n",
       "5282   5282  598csv/1484760/1500861        22.0  151.002000  46.848014   \n",
       "\n",
       "           z_cms   delta_x   delta_y      moment0      moment1      moment2  \\\n",
       "0     154.317130  0.000000  0.000000  504089976.0  164563652.0  575078730.0   \n",
       "1     141.181489  0.040641  0.000000  428386811.0  167247653.0  479568284.0   \n",
       "2     155.613687  0.051783  0.516619  363275825.0  136293591.0  446703489.0   \n",
       "3     136.717018  0.032078  0.516619  381880431.0  128225058.0  412001326.0   \n",
       "4     139.462856  0.007131  0.688826  395257806.0  165420434.0  442680482.0   \n",
       "...          ...       ...       ...          ...          ...          ...   \n",
       "5278  128.604963 -5.848818  0.516619  435057172.0   86812440.0  460315264.0   \n",
       "5279  118.120206 -5.682811  0.516619  521235084.0  171184215.0  419739092.0   \n",
       "5280  137.298298 -5.663254  0.516619  620853856.0  102768458.0  568026943.0   \n",
       "5281  115.020311 -5.555135  0.516619  661442177.0  249010683.0  530651160.0   \n",
       "5282  127.560398 -5.669602  0.516619  790454950.0  237495209.0  627576473.0   \n",
       "\n",
       "          moment3      moment4      moment5          mom0          mom1  \\\n",
       "0      64724646.0  200929929.0  724817978.0  1.168243e+07 -2.072327e+06   \n",
       "1      74638238.0  199349082.0  609253694.0  1.177674e+07 -1.249855e+06   \n",
       "2      56699590.0  176090923.0  592715504.0  6.813210e+06 -2.724059e+05   \n",
       "3      50659849.0  151043672.0  500506132.0  1.155030e+07 -1.867066e+06   \n",
       "4      80723765.0  199558581.0  543286441.0  7.429177e+06 -2.230910e+06   \n",
       "...           ...          ...          ...           ...           ...   \n",
       "5278   23001555.0   91717537.0  515400941.0  8.852938e+06 -1.746448e+05   \n",
       "5279   64739111.0  145262026.0  378174238.0  2.024213e+07 -2.895143e+05   \n",
       "5280   23532224.0  101179273.0  588455777.0  2.424024e+07 -6.115976e+05   \n",
       "5281  110415531.0  211167589.0  500456320.0  3.305156e+07  1.676018e+06   \n",
       "5282   83205379.0  199654983.0  572117512.0  2.653281e+07  4.901712e+05   \n",
       "\n",
       "              mom2          mom3          mom4          mom5  \n",
       "0    -1.019244e+07  8.333248e+06  2.867905e+06  2.916994e+07  \n",
       "1    -1.077973e+07  6.489597e+06  1.028339e+06  3.211648e+07  \n",
       "2    -4.222803e+06  4.379176e+06  3.334522e+06  2.229237e+07  \n",
       "3    -8.683638e+06  4.960190e+06  3.262556e+06  2.261945e+07  \n",
       "4    -4.458354e+06  8.251103e+06  6.268502e+06  2.776715e+07  \n",
       "...            ...           ...           ...           ...  \n",
       "5278  1.059811e+07  5.247736e+06 -6.846828e+04  4.087370e+07  \n",
       "5279 -8.249394e+06  6.049184e+06 -1.224629e+06  1.255204e+07  \n",
       "5280 -1.484443e+07  5.618728e+06  1.804479e+05  1.901012e+07  \n",
       "5281 -1.634760e+07  1.306456e+07 -4.131224e+06  2.430720e+07  \n",
       "5282 -1.775413e+07  9.675126e+06 -5.573115e+05  2.696825e+07  \n",
       "\n",
       "[5283 rows x 20 columns]"
      ]
     },
     "execution_count": 28,
     "metadata": {},
     "output_type": "execute_result"
    }
   ],
   "source": [
    "df"
   ]
  },
  {
   "cell_type": "code",
   "execution_count": 29,
   "metadata": {},
   "outputs": [],
   "source": [
    "df.to_csv('C:/circles/finetune_test/csv/598frame3.csv', index=False)"
   ]
  },
  {
   "cell_type": "code",
   "execution_count": 58,
   "metadata": {},
   "outputs": [],
   "source": [
    "yn = np.genfromtxt('C:/cherepashkin1/phenoseed_csv/Y_N_500.csv', delimiter=',')"
   ]
  },
  {
   "cell_type": "code",
   "execution_count": 59,
   "metadata": {},
   "outputs": [
    {
     "data": {
      "text/plain": [
       "(18000, 441)"
      ]
     },
     "execution_count": 59,
     "metadata": {},
     "output_type": "execute_result"
    }
   ],
   "source": [
    "yn.shape"
   ]
  },
  {
   "cell_type": "code",
   "execution_count": 60,
   "metadata": {},
   "outputs": [],
   "source": [
    "yn2 = yn[:500,:]"
   ]
  },
  {
   "cell_type": "code",
   "execution_count": 61,
   "metadata": {},
   "outputs": [
    {
     "data": {
      "text/plain": [
       "(500, 441)"
      ]
     },
     "execution_count": 61,
     "metadata": {},
     "output_type": "execute_result"
    }
   ],
   "source": [
    "yn2.shape"
   ]
  },
  {
   "cell_type": "code",
   "execution_count": 62,
   "metadata": {},
   "outputs": [],
   "source": [
    "with h5py.File('C:/circles/finetune_test/csv/y_n_fibo_500.h5', 'w') as f:\n",
    "    f.create_dataset('dataset', data=yn2)"
   ]
  },
  {
   "cell_type": "code",
   "execution_count": 63,
   "metadata": {},
   "outputs": [],
   "source": [
    "with h5py.File('C:/circles/finetune_test/csv/y_n_fibo_500_whole.h5', 'w') as f:\n",
    "    f.create_dataset('dataset', data=yn)"
   ]
  },
  {
   "cell_type": "code",
   "execution_count": 64,
   "metadata": {},
   "outputs": [],
   "source": [
    "bx = np.genfromtxt('C:/cherepashkin1/phenoseed_csv/bX_500.csv', delimiter=',')"
   ]
  },
  {
   "cell_type": "code",
   "execution_count": 65,
   "metadata": {},
   "outputs": [
    {
     "data": {
      "text/plain": [
       "(72, 500)"
      ]
     },
     "execution_count": 65,
     "metadata": {},
     "output_type": "execute_result"
    }
   ],
   "source": [
    "bx.shape"
   ]
  },
  {
   "cell_type": "code",
   "execution_count": 66,
   "metadata": {},
   "outputs": [],
   "source": [
    "bx2 = bx[:2,:]"
   ]
  },
  {
   "cell_type": "code",
   "execution_count": 67,
   "metadata": {},
   "outputs": [],
   "source": [
    "with h5py.File('C:/circles/finetune_test/csv/bX_fibo_500.h5', 'w') as f:\n",
    "    f.create_dataset('dataset', data=bx2)\n",
    "with h5py.File('C:/circles/finetune_test/csv/bX_fibo_500_whole.h5', 'w') as f:\n",
    "    f.create_dataset('dataset', data=bx)"
   ]
  },
  {
   "cell_type": "code",
   "execution_count": 68,
   "metadata": {},
   "outputs": [
    {
     "data": {
      "text/plain": [
       "'replace'"
      ]
     },
     "execution_count": 68,
     "metadata": {},
     "output_type": "execute_result"
    }
   ],
   "source": [
    "'replace'.replace('b', 'w')"
   ]
  },
  {
   "cell_type": "code",
   "execution_count": 70,
   "metadata": {},
   "outputs": [],
   "source": [
    "name = ['C:/circles/finetune_test/csv/bX_fibo_500.h5', 'C:/circles/finetune_test/csv/bX_fibo_500_whole.h5']"
   ]
  },
  {
   "cell_type": "code",
   "execution_count": 75,
   "metadata": {},
   "outputs": [],
   "source": [
    "a, b = [np.array(h5py.File(nm,'r').get('dataset')) for nm in name]"
   ]
  },
  {
   "cell_type": "code",
   "execution_count": 72,
   "metadata": {},
   "outputs": [
    {
     "data": {
      "text/plain": [
       "(2, 500)"
      ]
     },
     "execution_count": 72,
     "metadata": {},
     "output_type": "execute_result"
    }
   ],
   "source": [
    "a.shape"
   ]
  },
  {
   "cell_type": "code",
   "execution_count": 73,
   "metadata": {},
   "outputs": [
    {
     "data": {
      "text/plain": [
       "(72, 500)"
      ]
     },
     "execution_count": 73,
     "metadata": {},
     "output_type": "execute_result"
    }
   ],
   "source": [
    "b.shape"
   ]
  },
  {
   "cell_type": "code",
   "execution_count": 74,
   "metadata": {},
   "outputs": [
    {
     "data": {
      "text/plain": [
       "numpy.ndarray"
      ]
     },
     "execution_count": 74,
     "metadata": {},
     "output_type": "execute_result"
    }
   ],
   "source": [
    "type(a)"
   ]
  },
  {
   "cell_type": "code",
   "execution_count": 76,
   "metadata": {},
   "outputs": [
    {
     "data": {
      "text/plain": [
       "False"
      ]
     },
     "execution_count": 76,
     "metadata": {},
     "output_type": "execute_result"
    }
   ],
   "source": [
    "os.path.isfile('C:/cherepashkin/phenoseed/598/1484750/1499544/rotation_000.tif')\n"
   ]
  },
  {
   "cell_type": "code",
   "execution_count": 77,
   "metadata": {},
   "outputs": [
    {
     "data": {
      "text/plain": [
       "True"
      ]
     },
     "execution_count": 77,
     "metadata": {},
     "output_type": "execute_result"
    }
   ],
   "source": [
    "os.path.isfile('C:/cherepashkin1/phenoseed/598/1484750/1499544/rotation_000.tif')"
   ]
  },
  {
   "cell_type": "code",
   "execution_count": 78,
   "metadata": {},
   "outputs": [
    {
     "data": {
      "text/plain": [
       "(5283, 6)"
      ]
     },
     "execution_count": 78,
     "metadata": {},
     "output_type": "execute_result"
    }
   ],
   "source": [
    "car.shape"
   ]
  },
  {
   "cell_type": "code",
   "execution_count": 93,
   "metadata": {},
   "outputs": [
    {
     "data": {
      "text/plain": [
       "[<matplotlib.lines.Line2D at 0x26838fca910>]"
      ]
     },
     "execution_count": 93,
     "metadata": {},
     "output_type": "execute_result"
    },
    {
     "data": {
      "image/png": "[encoded data removed]",
      "text/plain": [
       "<Figure size 432x288 with 1 Axes>"
      ]
     },
     "metadata": {
      "needs_background": "light"
     },
     "output_type": "display_data"
    }
   ],
   "source": [
    "plt.plot(car[:,0]/car[0,0])"
   ]
  },
  {
   "cell_type": "code",
   "execution_count": 81,
   "metadata": {},
   "outputs": [
    {
     "data": {
      "text/plain": [
       "array([1.        , 0.3264569 , 1.14082556, 0.12839899, 0.39859933,\n",
       "       1.43787421])"
      ]
     },
     "execution_count": 81,
     "metadata": {},
     "output_type": "execute_result"
    }
   ],
   "source": [
    "car[0,:]/car[0,0]"
   ]
  },
  {
   "cell_type": "code",
   "execution_count": 83,
   "metadata": {},
   "outputs": [
    {
     "data": {
      "text/plain": [
       "['moment0', 'moment1', 'moment2', 'moment3', 'moment4', 'moment5']"
      ]
     },
     "execution_count": 83,
     "metadata": {},
     "output_type": "execute_result"
    }
   ],
   "source": [
    "['moment'+str(i) for i in range(6)]"
   ]
  },
  {
   "cell_type": "code",
   "execution_count": 86,
   "metadata": {},
   "outputs": [],
   "source": [
    "np2 = df[['moment'+str(i) for i in range(6)]].to_numpy()"
   ]
  },
  {
   "cell_type": "code",
   "execution_count": 87,
   "metadata": {},
   "outputs": [
    {
     "data": {
      "text/plain": [
       "(5283, 6)"
      ]
     },
     "execution_count": 87,
     "metadata": {},
     "output_type": "execute_result"
    }
   ],
   "source": [
    "np2.shape"
   ]
  },
  {
   "cell_type": "code",
   "execution_count": 88,
   "metadata": {},
   "outputs": [
    {
     "data": {
      "text/plain": [
       "[181796.0, 8380.0, 180456.0, 485.0, 8280.0, 179216.0]"
      ]
     },
     "execution_count": 88,
     "metadata": {},
     "output_type": "execute_result"
    }
   ],
   "source": []
  },
  {
   "cell_type": "code",
   "execution_count": 89,
   "metadata": {},
   "outputs": [
    {
     "data": {
      "text/plain": [
       "[1092664137.0,\n",
       " 412208695.0,\n",
       " 945992259.0,\n",
       " 219139867.0,\n",
       " 409185869.0,\n",
       " 1138649978.0]"
      ]
     },
     "execution_count": 89,
     "metadata": {},
     "output_type": "execute_result"
    }
   ],
   "source": [
    "[np.min(np2[:,i]) for i in range(6)], [np.max(np2[:,i]) for i in range(6)]"
   ]
  },
  {
   "cell_type": "code",
   "execution_count": 92,
   "metadata": {},
   "outputs": [
    {
     "data": {
      "text/plain": [
       "array([[1.81796000e+05, 8.38000000e+03, 1.80456000e+05, 4.85000000e+02,\n",
       "        8.28000000e+03, 1.79216000e+05],\n",
       "       [1.09266414e+09, 4.12208695e+08, 9.45992259e+08, 2.19139867e+08,\n",
       "        4.09185869e+08, 1.13864998e+09],\n",
       "       [4.92878203e+08, 1.77985827e+08, 5.16430108e+08, 7.73298742e+07,\n",
       "        1.97923013e+08, 6.00248041e+08],\n",
       "       [1.12012657e+08, 4.58379949e+07, 1.01237312e+08, 2.79333473e+07,\n",
       "        5.55612249e+07, 1.52860265e+08]])"
      ]
     },
     "execution_count": 92,
     "metadata": {},
     "output_type": "execute_result"
    }
   ],
   "source": [
    "np.array([np.min(np2, axis=0), np.max(np2, axis=0), np.mean(np2, axis=0), np.std(np2, axis=0)])"
   ]
  },
  {
   "cell_type": "code",
   "execution_count": 92,
   "metadata": {},
   "outputs": [
    {
     "data": {
      "text/plain": [
       "array([[1.81796000e+05, 8.38000000e+03, 1.80456000e+05, 4.85000000e+02,\n",
       "        8.28000000e+03, 1.79216000e+05],\n",
       "       [1.09266414e+09, 4.12208695e+08, 9.45992259e+08, 2.19139867e+08,\n",
       "        4.09185869e+08, 1.13864998e+09],\n",
       "       [4.92878203e+08, 1.77985827e+08, 5.16430108e+08, 7.73298742e+07,\n",
       "        1.97923013e+08, 6.00248041e+08],\n",
       "       [1.12012657e+08, 4.58379949e+07, 1.01237312e+08, 2.79333473e+07,\n",
       "        5.55612249e+07, 1.52860265e+08]])"
      ]
     },
     "execution_count": 92,
     "metadata": {},
     "output_type": "execute_result"
    }
   ],
   "source": [
    "np.array([np.min(np2[0,], axis=0), np.max(np2, axis=0), np.mean(np2, axis=0), np.std(np2, axis=0)])"
   ]
  },
  {
   "cell_type": "code",
   "execution_count": null,
   "metadata": {},
   "outputs": [],
   "source": [
    "t.Tensor(targets_df['targets'].values)"
   ]
  },
  {
   "cell_type": "code",
   "execution_count": 94,
   "metadata": {},
   "outputs": [
    {
     "data": {
      "text/plain": [
       "array([5.04089976e+08, 1.64563652e+08, 5.75078730e+08, 6.47246460e+07,\n",
       "       2.00929929e+08, 7.24817978e+08])"
      ]
     },
     "execution_count": 94,
     "metadata": {},
     "output_type": "execute_result"
    }
   ],
   "source": [
    "car[0,:]"
   ]
  },
  {
   "cell_type": "code",
   "execution_count": 105,
   "metadata": {},
   "outputs": [],
   "source": [
    "np3 = df.loc[[0, 10, 20], ['moment'+str(i) for i in range(6)]]"
   ]
  },
  {
   "cell_type": "code",
   "execution_count": 106,
   "metadata": {},
   "outputs": [
    {
     "data": {
      "text/html": [
       "<div>\n",
       "<style scoped>\n",
       "    .dataframe tbody tr th:only-of-type {\n",
       "        vertical-align: middle;\n",
       "    }\n",
       "\n",
       "    .dataframe tbody tr th {\n",
       "        vertical-align: top;\n",
       "    }\n",
       "\n",
       "    .dataframe thead th {\n",
       "        text-align: right;\n",
       "    }\n",
       "</style>\n",
       "<table border=\"1\" class=\"dataframe\">\n",
       "  <thead>\n",
       "    <tr style=\"text-align: right;\">\n",
       "      <th></th>\n",
       "      <th>moment0</th>\n",
       "      <th>moment1</th>\n",
       "      <th>moment2</th>\n",
       "      <th>moment3</th>\n",
       "      <th>moment4</th>\n",
       "      <th>moment5</th>\n",
       "    </tr>\n",
       "  </thead>\n",
       "  <tbody>\n",
       "    <tr>\n",
       "      <th>0</th>\n",
       "      <td>504089976.0</td>\n",
       "      <td>164563652.0</td>\n",
       "      <td>575078730.0</td>\n",
       "      <td>64724646.0</td>\n",
       "      <td>200929929.0</td>\n",
       "      <td>724817978.0</td>\n",
       "    </tr>\n",
       "    <tr>\n",
       "      <th>10</th>\n",
       "      <td>513096571.0</td>\n",
       "      <td>180638073.0</td>\n",
       "      <td>644310216.0</td>\n",
       "      <td>73127615.0</td>\n",
       "      <td>232623649.0</td>\n",
       "      <td>857077075.0</td>\n",
       "    </tr>\n",
       "    <tr>\n",
       "      <th>20</th>\n",
       "      <td>462458020.0</td>\n",
       "      <td>171604598.0</td>\n",
       "      <td>530715587.0</td>\n",
       "      <td>73133743.0</td>\n",
       "      <td>209328662.0</td>\n",
       "      <td>663859425.0</td>\n",
       "    </tr>\n",
       "  </tbody>\n",
       "</table>\n",
       "</div>"
      ],
      "text/plain": [
       "        moment0      moment1      moment2     moment3      moment4  \\\n",
       "0   504089976.0  164563652.0  575078730.0  64724646.0  200929929.0   \n",
       "10  513096571.0  180638073.0  644310216.0  73127615.0  232623649.0   \n",
       "20  462458020.0  171604598.0  530715587.0  73133743.0  209328662.0   \n",
       "\n",
       "        moment5  \n",
       "0   724817978.0  \n",
       "10  857077075.0  \n",
       "20  663859425.0  "
      ]
     },
     "execution_count": 106,
     "metadata": {},
     "output_type": "execute_result"
    }
   ],
   "source": [
    "np3"
   ]
  },
  {
   "cell_type": "code",
   "execution_count": 102,
   "metadata": {},
   "outputs": [
    {
     "data": {
      "text/plain": [
       "pandas.core.frame.DataFrame"
      ]
     },
     "execution_count": 102,
     "metadata": {},
     "output_type": "execute_result"
    }
   ],
   "source": [
    "type(df)"
   ]
  },
  {
   "cell_type": "code",
   "execution_count": 100,
   "metadata": {},
   "outputs": [
    {
     "ename": "TypeError",
     "evalue": "unhashable type: 'list'",
     "output_type": "error",
     "traceback": [
      "\u001b[1;31m---------------------------------------------------------------------------\u001b[0m",
      "\u001b[1;31mTypeError\u001b[0m                                 Traceback (most recent call last)",
      "\u001b[1;32m<ipython-input-100-7efcf1e94fca>\u001b[0m in \u001b[0;36m<module>\u001b[1;34m\u001b[0m\n\u001b[1;32m----> 1\u001b[1;33m \u001b[0mdf\u001b[0m\u001b[1;33m.\u001b[0m\u001b[0mloc\u001b[0m\u001b[1;33m(\u001b[0m\u001b[1;33m[\u001b[0m\u001b[1;36m0\u001b[0m\u001b[1;33m,\u001b[0m \u001b[1;36m10\u001b[0m\u001b[1;33m,\u001b[0m \u001b[1;36m20\u001b[0m\u001b[1;33m]\u001b[0m\u001b[1;33m)\u001b[0m\u001b[1;33m\u001b[0m\u001b[1;33m\u001b[0m\u001b[0m\n\u001b[0m",
      "\u001b[1;32m~\\Anaconda3\\envs\\sh\\lib\\site-packages\\pandas\\core\\indexing.py\u001b[0m in \u001b[0;36m__call__\u001b[1;34m(self, axis)\u001b[0m\n\u001b[0;32m    635\u001b[0m \u001b[1;33m\u001b[0m\u001b[0m\n\u001b[0;32m    636\u001b[0m         \u001b[1;32mif\u001b[0m \u001b[0maxis\u001b[0m \u001b[1;32mis\u001b[0m \u001b[1;32mnot\u001b[0m \u001b[1;32mNone\u001b[0m\u001b[1;33m:\u001b[0m\u001b[1;33m\u001b[0m\u001b[1;33m\u001b[0m\u001b[0m\n\u001b[1;32m--> 637\u001b[1;33m             \u001b[0maxis\u001b[0m \u001b[1;33m=\u001b[0m \u001b[0mself\u001b[0m\u001b[1;33m.\u001b[0m\u001b[0mobj\u001b[0m\u001b[1;33m.\u001b[0m\u001b[0m_get_axis_number\u001b[0m\u001b[1;33m(\u001b[0m\u001b[0maxis\u001b[0m\u001b[1;33m)\u001b[0m\u001b[1;33m\u001b[0m\u001b[1;33m\u001b[0m\u001b[0m\n\u001b[0m\u001b[0;32m    638\u001b[0m         \u001b[0mnew_self\u001b[0m\u001b[1;33m.\u001b[0m\u001b[0maxis\u001b[0m \u001b[1;33m=\u001b[0m \u001b[0maxis\u001b[0m\u001b[1;33m\u001b[0m\u001b[1;33m\u001b[0m\u001b[0m\n\u001b[0;32m    639\u001b[0m         \u001b[1;32mreturn\u001b[0m \u001b[0mnew_self\u001b[0m\u001b[1;33m\u001b[0m\u001b[1;33m\u001b[0m\u001b[0m\n",
      "\u001b[1;32m~\\Anaconda3\\envs\\sh\\lib\\site-packages\\pandas\\core\\generic.py\u001b[0m in \u001b[0;36m_get_axis_number\u001b[1;34m(cls, axis)\u001b[0m\n\u001b[0;32m    544\u001b[0m     \u001b[1;32mdef\u001b[0m \u001b[0m_get_axis_number\u001b[0m\u001b[1;33m(\u001b[0m\u001b[0mcls\u001b[0m\u001b[1;33m,\u001b[0m \u001b[0maxis\u001b[0m\u001b[1;33m:\u001b[0m \u001b[0mAxis\u001b[0m\u001b[1;33m)\u001b[0m \u001b[1;33m->\u001b[0m \u001b[0mint\u001b[0m\u001b[1;33m:\u001b[0m\u001b[1;33m\u001b[0m\u001b[1;33m\u001b[0m\u001b[0m\n\u001b[0;32m    545\u001b[0m         \u001b[1;32mtry\u001b[0m\u001b[1;33m:\u001b[0m\u001b[1;33m\u001b[0m\u001b[1;33m\u001b[0m\u001b[0m\n\u001b[1;32m--> 546\u001b[1;33m             \u001b[1;32mreturn\u001b[0m \u001b[0mcls\u001b[0m\u001b[1;33m.\u001b[0m\u001b[0m_AXIS_TO_AXIS_NUMBER\u001b[0m\u001b[1;33m[\u001b[0m\u001b[0maxis\u001b[0m\u001b[1;33m]\u001b[0m\u001b[1;33m\u001b[0m\u001b[1;33m\u001b[0m\u001b[0m\n\u001b[0m\u001b[0;32m    547\u001b[0m         \u001b[1;32mexcept\u001b[0m \u001b[0mKeyError\u001b[0m\u001b[1;33m:\u001b[0m\u001b[1;33m\u001b[0m\u001b[1;33m\u001b[0m\u001b[0m\n\u001b[0;32m    548\u001b[0m             \u001b[1;32mraise\u001b[0m \u001b[0mValueError\u001b[0m\u001b[1;33m(\u001b[0m\u001b[1;34mf\"No axis named {axis} for object type {cls.__name__}\"\u001b[0m\u001b[1;33m)\u001b[0m\u001b[1;33m\u001b[0m\u001b[1;33m\u001b[0m\u001b[0m\n",
      "\u001b[1;31mTypeError\u001b[0m: unhashable type: 'list'"
     ]
    }
   ],
   "source": [
    "df.loc[[0, 10, 20], "
   ]
  },
  {
   "cell_type": "code",
   "execution_count": 108,
   "metadata": {},
   "outputs": [
    {
     "data": {
      "text/plain": [
       "index                              0\n",
       "file_name     598csv/1484717/1491988\n",
       "zero_angle                       8.0\n",
       "x_cms                     129.831987\n",
       "y_cms                      43.936533\n",
       "z_cms                      154.31713\n",
       "delta_x                          0.0\n",
       "delta_y                          0.0\n",
       "moment0                  504089976.0\n",
       "moment1                  164563652.0\n",
       "moment2                  575078730.0\n",
       "moment3                   64724646.0\n",
       "moment4                  200929929.0\n",
       "moment5                  724817978.0\n",
       "Name: 0, dtype: object"
      ]
     },
     "execution_count": 108,
     "metadata": {},
     "output_type": "execute_result"
    }
   ],
   "source": [
    "df.loc[0,:]"
   ]
  },
  {
   "cell_type": "code",
   "execution_count": 109,
   "metadata": {},
   "outputs": [],
   "source": [
    "a, b = t.zeros(2,6), t.zeros(2, 6)"
   ]
  },
  {
   "cell_type": "code",
   "execution_count": 112,
   "metadata": {},
   "outputs": [
    {
     "data": {
      "text/plain": [
       "tensor([[0., 0., 0., 0., 0., 0.],\n",
       "        [0., 0., 0., 0., 0., 0.]])"
      ]
     },
     "execution_count": 112,
     "metadata": {},
     "output_type": "execute_result"
    }
   ],
   "source": [
    "(a - b)**2"
   ]
  },
  {
   "cell_type": "code",
   "execution_count": 113,
   "metadata": {},
   "outputs": [
    {
     "data": {
      "text/plain": [
       "tensor([0., 0., 0., 0., 0., 0.])"
      ]
     },
     "execution_count": 113,
     "metadata": {},
     "output_type": "execute_result"
    }
   ],
   "source": [
    "t.sum((a - b)**2, axis=0)"
   ]
  },
  {
   "cell_type": "code",
   "execution_count": 110,
   "metadata": {},
   "outputs": [
    {
     "data": {
      "text/plain": [
       "tensor(0.)"
      ]
     },
     "execution_count": 110,
     "metadata": {},
     "output_type": "execute_result"
    }
   ],
   "source": [
    "t.sqrt(t.sum((a - b)**2))"
   ]
  },
  {
   "cell_type": "code",
   "execution_count": 114,
   "metadata": {},
   "outputs": [],
   "source": [
    "a, b, c = [0.0]*3"
   ]
  },
  {
   "cell_type": "code",
   "execution_count": 115,
   "metadata": {},
   "outputs": [
    {
     "data": {
      "text/plain": [
       "0.0"
      ]
     },
     "execution_count": 115,
     "metadata": {},
     "output_type": "execute_result"
    }
   ],
   "source": [
    "a"
   ]
  },
  {
   "cell_type": "code",
   "execution_count": null,
   "metadata": {},
   "outputs": [],
   "source": []
  },
  {
   "cell_type": "code",
   "execution_count": 122,
   "metadata": {},
   "outputs": [],
   "source": [
    "loss_fn=nn.MSELoss(reduction='mean')"
   ]
  },
  {
   "cell_type": "code",
   "execution_count": 123,
   "metadata": {},
   "outputs": [],
   "source": [
    "inpt = t.randn(3, 5, requires_grad=True)\n",
    "target = t.randn(3, 5)"
   ]
  },
  {
   "cell_type": "code",
   "execution_count": 124,
   "metadata": {},
   "outputs": [
    {
     "data": {
      "text/plain": [
       "tensor(1.1905, grad_fn=<MseLossBackward0>)"
      ]
     },
     "execution_count": 124,
     "metadata": {},
     "output_type": "execute_result"
    }
   ],
   "source": [
    "loss_fn(inpt, target)"
   ]
  },
  {
   "cell_type": "code",
   "execution_count": 125,
   "metadata": {},
   "outputs": [],
   "source": [
    "a = np.array([[500, 1000, 2000, 4000],\n",
    "     [9.28, 14.45, 21.6, 31.8]])"
   ]
  },
  {
   "cell_type": "code",
   "execution_count": 128,
   "metadata": {},
   "outputs": [
    {
     "data": {
      "text/plain": [
       "111.35999999999999"
      ]
     },
     "execution_count": 128,
     "metadata": {},
     "output_type": "execute_result"
    }
   ],
   "source": [
    "9.28*12"
   ]
  },
  {
   "cell_type": "code",
   "execution_count": 126,
   "metadata": {},
   "outputs": [
    {
     "data": {
      "text/plain": [
       "(2, 4)"
      ]
     },
     "execution_count": 126,
     "metadata": {},
     "output_type": "execute_result"
    }
   ],
   "source": [
    "a.shape"
   ]
  },
  {
   "cell_type": "code",
   "execution_count": 127,
   "metadata": {},
   "outputs": [
    {
     "data": {
      "text/plain": [
       "[<matplotlib.lines.Line2D at 0x2687b0d9d60>]"
      ]
     },
     "execution_count": 127,
     "metadata": {},
     "output_type": "execute_result"
    },
    {
     "data": {
      "image/png": "[encoded data removed]",
      "text/plain": [
       "<Figure size 432x288 with 1 Axes>"
      ]
     },
     "metadata": {
      "needs_background": "light"
     },
     "output_type": "display_data"
    }
   ],
   "source": [
    "plt.plot(a[0,:], a[1,:])"
   ]
  },
  {
   "cell_type": "code",
   "execution_count": 30,
   "metadata": {},
   "outputs": [
    {
     "data": {
      "text/plain": [
       "array([ 11682431.39148296,  -2072327.49637135, -10192441.5262221 ,\n",
       "         8333248.33205532,   2867904.95892099,  29169936.10817471])"
      ]
     },
     "execution_count": 30,
     "metadata": {},
     "output_type": "execute_result"
    }
   ],
   "source": [
    "car[0,:]"
   ]
  },
  {
   "cell_type": "code",
   "execution_count": null,
   "metadata": {},
   "outputs": [],
   "source": []
  }
 ],
 "metadata": {
  "kernelspec": {
   "display_name": "Python 3",
   "language": "python",
   "name": "python3"
  },
  "language_info": {
   "codemirror_mode": {
    "name": "ipython",
    "version": 3
   },
   "file_extension": ".py",
   "mimetype": "text/x-python",
   "name": "python",
   "nbconvert_exporter": "python",
   "pygments_lexer": "ipython3",
   "version": "3.8.5"
  }
 },
 "nbformat": 4,
 "nbformat_minor": 4
}
