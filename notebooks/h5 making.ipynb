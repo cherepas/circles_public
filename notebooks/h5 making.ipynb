{
 "cells": [
  {
   "cell_type": "code",
   "execution_count": null,
   "metadata": {},
   "outputs": [],
   "source": [
    "import numpy as np\n",
    "import pandas as pd\n",
    "import os"
   ]
  },
  {
   "cell_type": "code",
   "execution_count": null,
   "metadata": {},
   "outputs": [],
   "source": [
    "curname = 'Far'"
   ]
  },
  {
   "cell_type": "markdown",
   "metadata": {},
   "source": [
    "## Creating csv with F_N from fixed directions"
   ]
  },
  {
   "cell_type": "code",
   "execution_count": null,
   "metadata": {},
   "outputs": [],
   "source": [
    "cip = []\n",
    "mainpath = r'D:\\seva\\598_processing' \n",
    "for root, directories, filenames in os.walk(mainpath): \n",
    "    for filename in filenames:\n",
    "        if filename[-11:] == '_N_1001.csv':\n",
    "            cip.append(os.path.join(root,filename))"
   ]
  },
  {
   "cell_type": "code",
   "execution_count": null,
   "metadata": {},
   "outputs": [],
   "source": [
    "len(cip)"
   ]
  },
  {
   "cell_type": "code",
   "execution_count": null,
   "metadata": {},
   "outputs": [],
   "source": [
    "cip[0]"
   ]
  },
  {
   "cell_type": "code",
   "execution_count": null,
   "metadata": {},
   "outputs": [],
   "source": [
    "tempar = np.genfromtxt(cip[0], delimiter='\\n')  "
   ]
  },
  {
   "cell_type": "code",
   "execution_count": null,
   "metadata": {},
   "outputs": [],
   "source": [
    "tempar.shape"
   ]
  },
  {
   "cell_type": "code",
   "execution_count": null,
   "metadata": {},
   "outputs": [],
   "source": [
    "valar = np.zeros([len(cip),tempar.shape[0]])\n",
    "for i in range(len(cip)):\n",
    "    valar[i,:] = np.genfromtxt(cip[i], delimiter=',')    "
   ]
  },
  {
   "cell_type": "code",
   "execution_count": null,
   "metadata": {},
   "outputs": [],
   "source": [
    "tmean = np.zeros([4,tempar.shape[0]])\n",
    "tmean[0,:] = np.mean(valar, axis = 0)\n",
    "tmean[1,:] = np.std(valar, axis = 0)\n",
    "tmean[2,:] = np.min(valar, axis = 0)\n",
    "tmean[3,:] = np.max(valar, axis = 0)\n",
    "np.savetxt(r'D:/seva/598test/F_N_1001_stat.csv', tmean, delimiter=\",\")"
   ]
  },
  {
   "cell_type": "code",
   "execution_count": null,
   "metadata": {},
   "outputs": [],
   "source": [
    "cip[i][-28:-13]"
   ]
  },
  {
   "cell_type": "code",
   "execution_count": null,
   "metadata": {},
   "outputs": [],
   "source": []
  },
  {
   "cell_type": "code",
   "execution_count": null,
   "metadata": {},
   "outputs": [],
   "source": []
  },
  {
   "cell_type": "code",
   "execution_count": null,
   "metadata": {},
   "outputs": [],
   "source": []
  },
  {
   "cell_type": "code",
   "execution_count": null,
   "metadata": {},
   "outputs": [],
   "source": [
    "len(cip)"
   ]
  },
  {
   "cell_type": "code",
   "execution_count": null,
   "metadata": {},
   "outputs": [],
   "source": [
    "cip[0].split('_Y_N')[0]"
   ]
  },
  {
   "cell_type": "code",
   "execution_count": null,
   "metadata": {},
   "outputs": [],
   "source": [
    "#D_out = 441\n",
    "mainpath = '/p/home/jusers/cherepashkin1/jureca/cherepashkin1/619csv'\n",
    "cip = []\n",
    "for root, directories, filenames in os.walk(mainpath): \n",
    "    for filename in filenames:\n",
    "        if filename[-11:] == 'Y_N_500.csv':\n",
    "            cip.append(os.path.join(root,filename))\n",
    "landmarks_frame = pd.DataFrame()\n",
    "landmarks_frame.insert(0, 'file_name', \\\n",
    "                       [cip[i].split('_Y_N')[0] for i in range(len(cip))])\n",
    "landmarks_frame.to_csv(os.path.join(mainpath,'file_pathes.csv'), index=False)\n"
   ]
  },
  {
   "cell_type": "code",
   "execution_count": null,
   "metadata": {},
   "outputs": [],
   "source": [
    "landmarks_frame"
   ]
  },
  {
   "cell_type": "markdown",
   "metadata": {},
   "source": [
    "## Creating csv with Far from fixed directions"
   ]
  },
  {
   "cell_type": "code",
   "execution_count": null,
   "metadata": {},
   "outputs": [],
   "source": []
  },
  {
   "cell_type": "code",
   "execution_count": null,
   "metadata": {},
   "outputs": [],
   "source": [
    "cip = []\n",
    "mainpath = r'D:\\seva\\598_processing' \n",
    "for root, directories, filenames in os.walk(mainpath): \n",
    "    for filename in filenames:\n",
    "        if filename[-11:] == 'ar_1001.csv':\n",
    "            cip.append(os.path.join(root,filename))"
   ]
  },
  {
   "cell_type": "code",
   "execution_count": null,
   "metadata": {},
   "outputs": [],
   "source": [
    "len(cip)"
   ]
  },
  {
   "cell_type": "code",
   "execution_count": null,
   "metadata": {},
   "outputs": [],
   "source": [
    "cip[0]"
   ]
  },
  {
   "cell_type": "code",
   "execution_count": null,
   "metadata": {},
   "outputs": [],
   "source": [
    "tempar = np.genfromtxt(cip[0], delimiter='\\n')  "
   ]
  },
  {
   "cell_type": "code",
   "execution_count": null,
   "metadata": {},
   "outputs": [],
   "source": [
    "tempar.shape"
   ]
  },
  {
   "cell_type": "code",
   "execution_count": null,
   "metadata": {},
   "outputs": [],
   "source": [
    "valar = np.zeros([len(cip),tempar.shape[0]])\n",
    "for i in range(len(cip)):\n",
    "    valar[i,:] = np.genfromtxt(cip[i], delimiter=',')    "
   ]
  },
  {
   "cell_type": "code",
   "execution_count": null,
   "metadata": {},
   "outputs": [],
   "source": [
    "tmean = np.zeros([4,tempar.shape[0]])\n",
    "tmean[0,:] = np.mean(valar, axis = 0)\n",
    "tmean[1,:] = np.std(valar, axis = 0)\n",
    "tmean[2,:] = np.min(valar, axis = 0)\n",
    "tmean[3,:] = np.max(valar, axis = 0)\n",
    "np.savetxt(r'D:/seva/598test/Far_1001_stat.csv', tmean, delimiter=\",\")"
   ]
  },
  {
   "cell_type": "code",
   "execution_count": null,
   "metadata": {},
   "outputs": [],
   "source": [
    "cip[i][-28:-13]"
   ]
  },
  {
   "cell_type": "code",
   "execution_count": null,
   "metadata": {},
   "outputs": [],
   "source": [
    "mainpath"
   ]
  },
  {
   "cell_type": "code",
   "execution_count": null,
   "metadata": {},
   "outputs": [],
   "source": [
    "#D_out = 441\n",
    "# if not(os.path.isfile('tmean.csv') and os.path.isfile(mainpath+'/sh.csv')):\n",
    "\n",
    "landmarks_frame = pd.DataFrame(data=valar,index=range(len(cip)),\\\n",
    "                               columns=['f'+str(i) for i in range(tempar.shape[0])])\n",
    "landmarks_frame.insert(0, 'file_name', \\\n",
    "                       [cip[i][-28:-13] for i in range(len(cip))])\n",
    "landmarks_frame.to_csv(r'D:/seva/598test/Far_1001.csv', index=False)\n"
   ]
  },
  {
   "cell_type": "markdown",
   "metadata": {},
   "source": [
    "## Creating csv for F_N2 only for train"
   ]
  },
  {
   "cell_type": "code",
   "execution_count": null,
   "metadata": {},
   "outputs": [],
   "source": [
    "cip = []\n",
    "##mainpath = r'D:\\seva\\598_processing\\train' \n",
    "mainpath = r'D:\\seva\\598_processing\\train' \n",
    "for root, directories, filenames in os.walk(mainpath): \n",
    "    for filename in filenames:\n",
    "        if filename[-11:] == '_N_1001.csv':\n",
    "            cip.append(os.path.join(root,filename))"
   ]
  },
  {
   "cell_type": "code",
   "execution_count": null,
   "metadata": {},
   "outputs": [],
   "source": [
    "len(cip)"
   ]
  },
  {
   "cell_type": "code",
   "execution_count": null,
   "metadata": {},
   "outputs": [],
   "source": [
    "tempar = np.genfromtxt(cip[0])\n",
    "tempar.shape[0]"
   ]
  },
  {
   "cell_type": "code",
   "execution_count": null,
   "metadata": {},
   "outputs": [],
   "source": [
    "valar = np.zeros([len(cip),tempar.shape[0]])\n",
    "for i in range(len(cip)):\n",
    "    valar[i,:] = np.genfromtxt(cip[i], delimiter=',')    "
   ]
  },
  {
   "cell_type": "code",
   "execution_count": null,
   "metadata": {},
   "outputs": [],
   "source": [
    "cip[i][-28:-13]"
   ]
  },
  {
   "cell_type": "code",
   "execution_count": null,
   "metadata": {},
   "outputs": [],
   "source": [
    "#D_out = 441\n",
    "# if not(os.path.isfile('tmean.csv') and os.path.isfile(mainpath+'/sh.csv')):\n",
    "\n",
    "landmarks_frame = pd.DataFrame(data=valar,index=range(len(cip)),\\\n",
    "                               columns=['f'+str(i) for i in range(tempar.shape[0])])\n",
    "landmarks_frame.insert(0, 'file_name', \\\n",
    "                       [cip[i][-28:-13] for i in range(len(cip))])\n",
    "landmarks_frame.to_csv(r'D:/seva/598test/train/F_N_1001.csv', index=False)\n"
   ]
  },
  {
   "cell_type": "markdown",
   "metadata": {},
   "source": [
    "## Creating csv for F_N2 only for val"
   ]
  },
  {
   "cell_type": "code",
   "execution_count": null,
   "metadata": {},
   "outputs": [],
   "source": [
    "cip = []\n",
    "mainpath = r'D:\\seva\\598_processing\\val' \n",
    "for root, directories, filenames in os.walk(mainpath): \n",
    "    for filename in filenames:\n",
    "        if filename[-11:] == '_N_1001.csv':\n",
    "            cip.append(os.path.join(root,filename))"
   ]
  },
  {
   "cell_type": "code",
   "execution_count": null,
   "metadata": {},
   "outputs": [],
   "source": [
    "tempar = np.genfromtxt(cip[0])\n",
    "tempar.shape[0]"
   ]
  },
  {
   "cell_type": "code",
   "execution_count": null,
   "metadata": {},
   "outputs": [],
   "source": [
    "valar = np.zeros([len(cip),tempar.shape[0]])\n",
    "for i in range(len(cip)):\n",
    "    valar[i,:] = np.genfromtxt(cip[i], delimiter=',')    "
   ]
  },
  {
   "cell_type": "code",
   "execution_count": null,
   "metadata": {},
   "outputs": [],
   "source": [
    "cip[i][-28:-13]"
   ]
  },
  {
   "cell_type": "code",
   "execution_count": null,
   "metadata": {},
   "outputs": [],
   "source": [
    "#D_out = 441\n",
    "# if not(os.path.isfile('tmean.csv') and os.path.isfile(mainpath+'/sh.csv')):\n",
    "\n",
    "landmarks_frame = pd.DataFrame(data=valar,index=range(len(cip)),\\\n",
    "                               columns=['f'+str(i) for i in range(tempar.shape[0])])\n",
    "landmarks_frame.insert(0, 'file_name', \\\n",
    "                       [cip[i][-28:-13] for i in range(len(cip))])\n",
    "landmarks_frame.to_csv(r'D:/seva/598test/val/F_N_1001.csv', index=False)\n"
   ]
  },
  {
   "cell_type": "code",
   "execution_count": null,
   "metadata": {},
   "outputs": [],
   "source": []
  },
  {
   "cell_type": "markdown",
   "metadata": {},
   "source": [
    "## Creating csv for Far only for train"
   ]
  },
  {
   "cell_type": "code",
   "execution_count": null,
   "metadata": {},
   "outputs": [],
   "source": [
    "cip = []\n",
    "mainpath = r'D:\\seva\\598_processing\\train' \n",
    "for root, directories, filenames in os.walk(mainpath): \n",
    "    for filename in filenames:\n",
    "        if filename[-11:] == 'ar_1001.csv':\n",
    "            cip.append(os.path.join(root,filename))"
   ]
  },
  {
   "cell_type": "code",
   "execution_count": null,
   "metadata": {},
   "outputs": [],
   "source": [
    "len(cip)"
   ]
  },
  {
   "cell_type": "code",
   "execution_count": null,
   "metadata": {},
   "outputs": [],
   "source": [
    "tempar = np.genfromtxt(cip[0])\n",
    "tempar.shape[0]"
   ]
  },
  {
   "cell_type": "code",
   "execution_count": null,
   "metadata": {},
   "outputs": [],
   "source": [
    "valar = np.zeros([len(cip),tempar.shape[0]])\n",
    "for i in range(len(cip)):\n",
    "    valar[i,:] = np.genfromtxt(cip[i], delimiter=',')    "
   ]
  },
  {
   "cell_type": "code",
   "execution_count": null,
   "metadata": {},
   "outputs": [],
   "source": [
    "cip[i][-28:-13]"
   ]
  },
  {
   "cell_type": "code",
   "execution_count": null,
   "metadata": {},
   "outputs": [],
   "source": [
    "#D_out = 441\n",
    "# if not(os.path.isfile('tmean.csv') and os.path.isfile(mainpath+'/sh.csv')):\n",
    "\n",
    "landmarks_frame = pd.DataFrame(data=valar,index=range(len(cip)),\\\n",
    "                               columns=['f'+str(i) for i in range(tempar.shape[0])])\n",
    "landmarks_frame.insert(0, 'file_name', \\\n",
    "                       [cip[i][-28:-13] for i in range(len(cip))])\n",
    "landmarks_frame.to_csv(r'D:/seva/598test/train/Far_1001.csv', index=False)\n"
   ]
  },
  {
   "cell_type": "markdown",
   "metadata": {},
   "source": [
    "## Creating csv for F_N2 only for val"
   ]
  },
  {
   "cell_type": "code",
   "execution_count": null,
   "metadata": {},
   "outputs": [],
   "source": [
    "cip = []\n",
    "mainpath = r'D:\\seva\\598_processing\\val' \n",
    "for root, directories, filenames in os.walk(mainpath): \n",
    "    for filename in filenames:\n",
    "        if filename[-11:] == 'ar_1001.csv':\n",
    "            cip.append(os.path.join(root,filename))"
   ]
  },
  {
   "cell_type": "code",
   "execution_count": null,
   "metadata": {},
   "outputs": [],
   "source": [
    "tempar = np.genfromtxt(cip[0])\n",
    "tempar.shape[0]"
   ]
  },
  {
   "cell_type": "code",
   "execution_count": null,
   "metadata": {},
   "outputs": [],
   "source": [
    "valar = np.zeros([len(cip),tempar.shape[0]])\n",
    "for i in range(len(cip)):\n",
    "    valar[i,:] = np.genfromtxt(cip[i], delimiter=',')    "
   ]
  },
  {
   "cell_type": "code",
   "execution_count": null,
   "metadata": {},
   "outputs": [],
   "source": [
    "cip[i][-28:-13]"
   ]
  },
  {
   "cell_type": "code",
   "execution_count": null,
   "metadata": {},
   "outputs": [],
   "source": [
    "#D_out = 441\n",
    "# if not(os.path.isfile('tmean.csv') and os.path.isfile(mainpath+'/sh.csv')):\n",
    "\n",
    "landmarks_frame = pd.DataFrame(data=valar,index=range(len(cip)),\\\n",
    "                               columns=['f'+str(i) for i in range(tempar.shape[0])])\n",
    "landmarks_frame.insert(0, 'file_name', \\\n",
    "                       [cip[i][-28:-13] for i in range(len(cip))])\n",
    "landmarks_frame.to_csv(r'D:/seva/598test/val/Far_1001.csv', index=False)\n"
   ]
  },
  {
   "cell_type": "markdown",
   "metadata": {},
   "source": [
    "## search of the min max of the sh amplitudes"
   ]
  },
  {
   "cell_type": "code",
   "execution_count": null,
   "metadata": {},
   "outputs": [],
   "source": [
    "data_dir"
   ]
  },
  {
   "cell_type": "code",
   "execution_count": null,
   "metadata": {},
   "outputs": [],
   "source": [
    "# cip = []\n",
    "# mainpath = data_dir \n",
    "# for root, directories, filenames in os.walk(mainpath): \n",
    "#     for filename in filenames:\n",
    "#         if filename[-6:] == 'F_.csv':\n",
    "#             cip.append(os.path.join(root,filename))"
   ]
  },
  {
   "cell_type": "code",
   "execution_count": null,
   "metadata": {},
   "outputs": [],
   "source": [
    "len(cip)"
   ]
  },
  {
   "cell_type": "code",
   "execution_count": null,
   "metadata": {},
   "outputs": [],
   "source": [
    "cip[0]"
   ]
  },
  {
   "cell_type": "code",
   "execution_count": null,
   "metadata": {},
   "outputs": [],
   "source": [
    "a = np.genfromtxt(cip[2], delimiter=',')\n",
    "a.shape"
   ]
  },
  {
   "cell_type": "code",
   "execution_count": null,
   "metadata": {},
   "outputs": [],
   "source": [
    "# maxsize = 0\n",
    "# for i in cip:\n",
    "#     if len(np.genfromtxt(i, delimiter=','))>maxsize:\n",
    "#         maxsize = len(np.genfromtxt(i, delimiter=','))"
   ]
  },
  {
   "cell_type": "code",
   "execution_count": null,
   "metadata": {},
   "outputs": [],
   "source": [
    "maxsize"
   ]
  },
  {
   "cell_type": "code",
   "execution_count": null,
   "metadata": {},
   "outputs": [],
   "source": [
    "# F = np.zeros([len(cip),maxsize])\n",
    "# for i in range(len(cip)):\n",
    "#     tempar = np.genfromtxt(cip[i], delimiter=',')\n",
    "#     F[i,:] = np.concatenate((tempar, np.zeros([maxsize-tempar.shape[0]])), axis=0)\n",
    "    "
   ]
  },
  {
   "cell_type": "code",
   "execution_count": null,
   "metadata": {},
   "outputs": [],
   "source": [
    "#numpy.savetxt(\"Fparameters.csv\", labels, delimiter=\",\")"
   ]
  },
  {
   "cell_type": "code",
   "execution_count": null,
   "metadata": {},
   "outputs": [],
   "source": [
    "tmean = np.zeros([4,maxsize])\n",
    "tmean[0,:] = np.mean(labels, axis = 0)\n",
    "tmean[1,:] = np.std(labels, axis = 0)\n",
    "tmean[2,:] = np.min(labels, axis = 0)\n",
    "tmean[3,:] = np.max(labels, axis = 0)\n",
    "numpy.savetxt(\"Fparameters-mean.csv\", tmean, delimiter=\",\")"
   ]
  },
  {
   "cell_type": "code",
   "execution_count": null,
   "metadata": {},
   "outputs": [],
   "source": [
    "#D_out = 441\n",
    "# if not(os.path.isfile('tmean.csv') and os.path.isfile(mainpath+'/sh.csv')):\n",
    "\n",
    "landmarks_frame = pd.DataFrame(data=F,index=range(len(cip)),\\\n",
    "                               columns=['f'+str(i) for i in range(maxsize)])\n",
    "landmarks_frame.insert(0, 'file_name', \\\n",
    "                       [cip[i][-22:-7] for i in range(len(cip))])\n",
    "landmarks_frame.to_csv(mainpath+'/Fparameters.csv', index=False)\n"
   ]
  },
  {
   "cell_type": "code",
   "execution_count": null,
   "metadata": {},
   "outputs": [],
   "source": [
    " #           Minmax3Dimage((0.60117054538415,110.972068294924)),\\\n",
    "#"
   ]
  },
  {
   "cell_type": "markdown",
   "metadata": {},
   "source": [
    "## Finding max and min of _F_"
   ]
  },
  {
   "cell_type": "code",
   "execution_count": null,
   "metadata": {},
   "outputs": [],
   "source": []
  },
  {
   "cell_type": "code",
   "execution_count": null,
   "metadata": {},
   "outputs": [],
   "source": [
    "cip = []\n",
    "#mainpath = r'D:\\seva\\598_processing'\n",
    "#mainpath = '/p/home/jusers/cherepashkin1/jureca/cherepashkin1/phenoseed/598/' \n",
    "mainpath = '/p/home/jusers/cherepashkin1/jureca/cherepashkin1/phenoseed_csv/598csv/'\n",
    "for root, directories, filenames in os.walk(mainpath): \n",
    "    for filename in filenames:\n",
    "        if 'Far_500_prenormalized.csv' in filename:\n",
    "            cip.append(os.path.join(root,filename))"
   ]
  },
  {
   "cell_type": "code",
   "execution_count": null,
   "metadata": {},
   "outputs": [],
   "source": [
    "len(cip)"
   ]
  },
  {
   "cell_type": "code",
   "execution_count": null,
   "metadata": {},
   "outputs": [],
   "source": [
    "mx = 0\n",
    "mn = 100\n",
    "for i in cip:\n",
    "    tempar = np.genfromtxt(i, delimiter = ',')\n",
    "    if np.max(tempar)>mx:\n",
    "        mx = np.max(tempar)\n",
    "    if np.min(tempar)<mn:\n",
    "        mn = np.min(tempar)"
   ]
  },
  {
   "cell_type": "code",
   "execution_count": null,
   "metadata": {},
   "outputs": [],
   "source": [
    "mn, mx"
   ]
  },
  {
   "cell_type": "code",
   "execution_count": null,
   "metadata": {},
   "outputs": [],
   "source": [
    "mn, mx"
   ]
  },
  {
   "cell_type": "markdown",
   "metadata": {},
   "source": [
    "# Search for min max of ply values"
   ]
  },
  {
   "cell_type": "code",
   "execution_count": null,
   "metadata": {},
   "outputs": [],
   "source": [
    "import os\n",
    "import numpy as np\n",
    "import open3d"
   ]
  },
  {
   "cell_type": "code",
   "execution_count": null,
   "metadata": {},
   "outputs": [],
   "source": [
    "pwd"
   ]
  },
  {
   "cell_type": "code",
   "execution_count": null,
   "metadata": {},
   "outputs": [],
   "source": [
    "cip = []\n",
    "mainpath = '/p/home/jusers/cherepashkin1/jureca/cherepashkin1/phenoseed/598/' \n",
    "for root, directories, filenames in os.walk(mainpath): \n",
    "    for filename in filenames:\n",
    "        if 'Surface.ply' in filename:\n",
    "            cip.append(os.path.join(root,filename))"
   ]
  },
  {
   "cell_type": "code",
   "execution_count": null,
   "metadata": {},
   "outputs": [],
   "source": [
    "minv = np.array([100, 100, 100])\n",
    "maxv = np.array([0, 0, 0])\n",
    "for i in range(len(cip)):\n",
    "    pcd = open3d.io.read_point_cloud(cip[i])\n",
    "    img = np.asarray(pcd.points)\n",
    "    img -= np.mean(img,0)\n",
    "    minc = np.min(img, axis=0)\n",
    "    maxc = np.max(img, axis=0)\n",
    "    for j in range(3):\n",
    "        if minc[j] < minv[j]:\n",
    "            minv[j] = minc[j]\n",
    "        if maxc[j] > maxv[j]:\n",
    "            maxv[j] = maxc[j]"
   ]
  },
  {
   "cell_type": "code",
   "execution_count": null,
   "metadata": {},
   "outputs": [],
   "source": [
    "minv, maxv"
   ]
  },
  {
   "cell_type": "code",
   "execution_count": null,
   "metadata": {},
   "outputs": [],
   "source": [
    "maxv - minv"
   ]
  },
  {
   "cell_type": "code",
   "execution_count": null,
   "metadata": {},
   "outputs": [],
   "source": [
    "minv*0.05, maxv*0.05"
   ]
  },
  {
   "cell_type": "code",
   "execution_count": null,
   "metadata": {},
   "outputs": [],
   "source": [
    "img.shape"
   ]
  },
  {
   "cell_type": "code",
   "execution_count": null,
   "metadata": {},
   "outputs": [],
   "source": [
    "minv, maxv"
   ]
  },
  {
   "cell_type": "code",
   "execution_count": null,
   "metadata": {},
   "outputs": [],
   "source": [
    "minv"
   ]
  },
  {
   "cell_type": "code",
   "execution_count": null,
   "metadata": {},
   "outputs": [],
   "source": [
    "maxv"
   ]
  },
  {
   "cell_type": "code",
   "execution_count": null,
   "metadata": {},
   "outputs": [],
   "source": [
    "list(minv > [0, 0, 0]) == True"
   ]
  },
  {
   "cell_type": "code",
   "execution_count": null,
   "metadata": {},
   "outputs": [],
   "source": [
    "np.floor(5/2).astype(int)"
   ]
  },
  {
   "cell_type": "code",
   "execution_count": null,
   "metadata": {},
   "outputs": [],
   "source": [
    "dir1 = ('/p/home/jusers/cherepashkin1/jureca/'\n",
    "    'cherepashkin1/598test/plot_output/')"
   ]
  },
  {
   "cell_type": "code",
   "execution_count": null,
   "metadata": {},
   "outputs": [],
   "source": [
    "dir1"
   ]
  },
  {
   "cell_type": "markdown",
   "metadata": {},
   "source": [
    "# Putting all F_N.csv to one file for 598csv9 and 598csv11"
   ]
  },
  {
   "cell_type": "code",
   "execution_count": null,
   "metadata": {},
   "outputs": [],
   "source": [
    "import os\n",
    "import numpy as np\n",
    "import pandas as pd\n",
    "import h5py"
   ]
  },
  {
   "cell_type": "code",
   "execution_count": null,
   "metadata": {},
   "outputs": [],
   "source": []
  },
  {
   "cell_type": "code",
   "execution_count": null,
   "metadata": {},
   "outputs": [],
   "source": [
    "cip = []\n",
    "mainpath = r'D:/cherepashkin1/phenoseed_csv/598csv9'\n",
    "for root, directories, filenames in os.walk(mainpath): \n",
    "    for filename in filenames:\n",
    "        if 'F_N.csv' in filename:\n",
    "            cip.append(os.path.join(root,filename))"
   ]
  },
  {
   "cell_type": "code",
   "execution_count": null,
   "metadata": {},
   "outputs": [],
   "source": []
  },
  {
   "cell_type": "code",
   "execution_count": null,
   "metadata": {},
   "outputs": [],
   "source": [
    "j = ''\n",
    "[os.path.join(j+i) for i in cip[0].split('\\\\')[1:]]"
   ]
  },
  {
   "cell_type": "code",
   "execution_count": null,
   "metadata": {},
   "outputs": [],
   "source": [
    "j = ''\n",
    "for i in cip[0].split('\\\\')[1:]:\n",
    "    j = os.path.join(j,i)"
   ]
  },
  {
   "cell_type": "code",
   "execution_count": null,
   "metadata": {},
   "outputs": [],
   "source": [
    "os.path.join(cip[0].split('\\\\')[1], cip[0].split('\\\\')[2].replace('_F_N.csv',''))"
   ]
  },
  {
   "cell_type": "code",
   "execution_count": 168,
   "metadata": {},
   "outputs": [],
   "source": [
    "cip2 = [(i.split('\\\\')[1]+'_'+i.split('\\\\')[2]).replace('_F_N.csv','') for i in cip]"
   ]
  },
  {
   "cell_type": "code",
   "execution_count": 172,
   "metadata": {},
   "outputs": [],
   "source": []
  },
  {
   "cell_type": "code",
   "execution_count": null,
   "metadata": {},
   "outputs": [],
   "source": [
    "print(j)"
   ]
  },
  {
   "cell_type": "code",
   "execution_count": null,
   "metadata": {},
   "outputs": [],
   "source": [
    "cip = list(set(cip))"
   ]
  },
  {
   "cell_type": "code",
   "execution_count": null,
   "metadata": {},
   "outputs": [],
   "source": [
    "cip.sort()"
   ]
  },
  {
   "cell_type": "code",
   "execution_count": null,
   "metadata": {},
   "outputs": [],
   "source": [
    "F_N = np.zeros([len(cip),441])\n",
    "for i in range(len(cip)):\n",
    "    F_N[i]=np.genfromtxt(cip[i],delimiter=',')"
   ]
  },
  {
   "cell_type": "code",
   "execution_count": null,
   "metadata": {},
   "outputs": [],
   "source": [
    "F_N.shape"
   ]
  },
  {
   "cell_type": "code",
   "execution_count": null,
   "metadata": {},
   "outputs": [],
   "source": [
    "lt = [0, 2, 1]"
   ]
  },
  {
   "cell_type": "code",
   "execution_count": null,
   "metadata": {},
   "outputs": [],
   "source": [
    "lt.sort()"
   ]
  },
  {
   "cell_type": "code",
   "execution_count": null,
   "metadata": {},
   "outputs": [],
   "source": [
    "lt"
   ]
  },
  {
   "cell_type": "code",
   "execution_count": null,
   "metadata": {},
   "outputs": [],
   "source": []
  },
  {
   "cell_type": "code",
   "execution_count": null,
   "metadata": {},
   "outputs": [],
   "source": [
    "cip"
   ]
  },
  {
   "cell_type": "code",
   "execution_count": null,
   "metadata": {},
   "outputs": [],
   "source": [
    "cip = []\n",
    "mainpath = r'D:/cherepashkin1/phenoseed_csv/598csv9'\n",
    "for root, directories, filenames in os.walk(mainpath): \n",
    "    for filename in filenames:\n",
    "        if 'F_N.csv' in filename:\n",
    "            cip.append(os.path.join(root,filename))\n",
    "cip.sort()\n",
    "F_N = np.zeros([len(cip),441])\n",
    "for i in range(len(cip)):\n",
    "    F_N[i]=np.genfromtxt(cip[i],delimiter=',')\n",
    "df = pd.DataFrame(F_N)\n",
    "df.insert(\n",
    "    0, 'file_name', [i.split('\\\\')[1]+'_'+i.split('\\\\')[2].replace('_F_N.csv','') for i in cip])\n",
    "h5File = \"fromdf.h5\";\n",
    "df.to_hdf(\"D:/cherepashkin1/phenoseed_csv/598csv9_F_N.h5\", \"/data/d1\")\n",
    "df.to_hdf('data.h5', key='df', mode='w')"
   ]
  },
  {
   "cell_type": "code",
   "execution_count": null,
   "metadata": {},
   "outputs": [],
   "source": []
  },
  {
   "cell_type": "code",
   "execution_count": null,
   "metadata": {},
   "outputs": [],
   "source": [
    "F_N.shape"
   ]
  },
  {
   "cell_type": "code",
   "execution_count": null,
   "metadata": {},
   "outputs": [],
   "source": [
    "c = os.path.join('a','b')\n",
    "print(c)"
   ]
  },
  {
   "cell_type": "code",
   "execution_count": null,
   "metadata": {},
   "outputs": [],
   "source": [
    "c"
   ]
  },
  {
   "cell_type": "code",
   "execution_count": null,
   "metadata": {},
   "outputs": [],
   "source": []
  },
  {
   "cell_type": "code",
   "execution_count": null,
   "metadata": {},
   "outputs": [],
   "source": [
    "df"
   ]
  },
  {
   "cell_type": "code",
   "execution_count": null,
   "metadata": {},
   "outputs": [],
   "source": [
    "from pandas.io import pytables"
   ]
  },
  {
   "cell_type": "code",
   "execution_count": null,
   "metadata": {},
   "outputs": [],
   "source": [
    "df"
   ]
  },
  {
   "cell_type": "code",
   "execution_count": null,
   "metadata": {},
   "outputs": [],
   "source": [
    "# df.to_hdf(\"D:/cherepashkin1/phenoseed_csv/598csv9_F_N.h5\", \"/data/d1\")\n",
    "df.to_hdf(\"D:/cherepashkin1/phenoseed_csv/598csv9_F_N.h5\", key='df', mode='w')"
   ]
  },
  {
   "cell_type": "code",
   "execution_count": null,
   "metadata": {},
   "outputs": [],
   "source": [
    "df2 = pd.read_hdf(\"D:/cherepashkin1/phenoseed_csv/598csv9_F_N.h5\", key='df', mode = 'r')"
   ]
  },
  {
   "cell_type": "code",
   "execution_count": null,
   "metadata": {},
   "outputs": [],
   "source": [
    "df2"
   ]
  },
  {
   "cell_type": "code",
   "execution_count": null,
   "metadata": {},
   "outputs": [],
   "source": [
    "with open(\"D:/cherepashkin1/598test/plot_output/e054/041/pathes_val.txt\", 'r') as f:\n",
    "    pathes = f.readlines()"
   ]
  },
  {
   "cell_type": "code",
   "execution_count": 250,
   "metadata": {},
   "outputs": [
    {
     "data": {
      "text/plain": [
       "['598csv9/1484719/1492267\\n',\n",
       " '598csv9/1484756/1500240\\n',\n",
       " '598csv9/1484752/1499783\\n',\n",
       " '598csv9/1484743/1495681\\n',\n",
       " '598csv9/1484719/1492267\\n',\n",
       " '598csv9/1484756/1500240\\n',\n",
       " '598csv9/1484752/1499783\\n',\n",
       " '598csv9/1484743/1495681\\n',\n",
       " '598csv9/1484719/1492267\\n',\n",
       " '598csv9/1484756/1500240\\n',\n",
       " '598csv9/1484752/1499783\\n',\n",
       " '598csv9/1484743/1495681\\n',\n",
       " '598csv9/1484719/1492267\\n',\n",
       " '598csv9/1484756/1500240\\n',\n",
       " '598csv9/1484752/1499783\\n',\n",
       " '598csv9/1484743/1495681\\n',\n",
       " '598csv9/1484719/1492267\\n',\n",
       " '598csv9/1484756/1500240\\n',\n",
       " '598csv9/1484752/1499783\\n',\n",
       " '598csv9/1484743/1495681\\n',\n",
       " '598csv9/1484719/1492267\\n',\n",
       " '598csv9/1484756/1500240\\n',\n",
       " '598csv9/1484752/1499783\\n',\n",
       " '598csv9/1484743/1495681\\n',\n",
       " '598csv9/1484719/1492267\\n',\n",
       " '598csv9/1484756/1500240\\n',\n",
       " '598csv9/1484752/1499783\\n',\n",
       " '598csv9/1484743/1495681\\n',\n",
       " '598csv9/1484719/1492267\\n',\n",
       " '598csv9/1484756/1500240\\n',\n",
       " '598csv9/1484752/1499783\\n',\n",
       " '598csv9/1484743/1495681\\n',\n",
       " '598csv9/1484719/1492267\\n',\n",
       " '598csv9/1484756/1500240\\n',\n",
       " '598csv9/1484752/1499783\\n',\n",
       " '598csv9/1484743/1495681\\n',\n",
       " '598csv9/1484719/1492267\\n',\n",
       " '598csv9/1484756/1500240\\n',\n",
       " '598csv9/1484752/1499783\\n',\n",
       " '598csv9/1484743/1495681\\n',\n",
       " '598csv9/1484719/1492267\\n',\n",
       " '598csv9/1484756/1500240\\n',\n",
       " '598csv9/1484752/1499783\\n',\n",
       " '598csv9/1484743/1495681\\n',\n",
       " '598csv9/1484719/1492267\\n',\n",
       " '598csv9/1484756/1500240\\n',\n",
       " '598csv9/1484752/1499783\\n',\n",
       " '598csv9/1484743/1495681\\n',\n",
       " '598csv9/1484719/1492267\\n',\n",
       " '598csv9/1484756/1500240\\n',\n",
       " '598csv9/1484752/1499783\\n',\n",
       " '598csv9/1484743/1495681\\n',\n",
       " '598csv9/1484719/1492267\\n',\n",
       " '598csv9/1484756/1500240\\n',\n",
       " '598csv9/1484752/1499783\\n',\n",
       " '598csv9/1484743/1495681\\n',\n",
       " '598csv9/1484719/1492267\\n',\n",
       " '598csv9/1484756/1500240\\n',\n",
       " '598csv9/1484752/1499783\\n',\n",
       " '598csv9/1484743/1495681\\n',\n",
       " '598csv9/1484719/1492267\\n',\n",
       " '598csv9/1484756/1500240\\n',\n",
       " '598csv9/1484752/1499783\\n',\n",
       " '598csv9/1484743/1495681\\n']"
      ]
     },
     "execution_count": 250,
     "metadata": {},
     "output_type": "execute_result"
    }
   ],
   "source": [
    "pathes"
   ]
  },
  {
   "cell_type": "code",
   "execution_count": null,
   "metadata": {},
   "outputs": [],
   "source": [
    "pathl = [path.replace('598csv9/','').replace('\\n','').replace('/','_') for path in pathes]"
   ]
  },
  {
   "cell_type": "code",
   "execution_count": null,
   "metadata": {},
   "outputs": [],
   "source": [
    "pathl"
   ]
  },
  {
   "cell_type": "code",
   "execution_count": null,
   "metadata": {},
   "outputs": [],
   "source": [
    "#df3 = pd.DataFrame()\n",
    "df3 = pd.DataFrame(columns=['file_name'].append([str(i) for i in range(441)]))\n",
    "for path in pathl:\n",
    "    print(path)\n",
    "    print(len(df[df['file_name'].str.contains(path)]))\n",
    "    print(df[df['file_name'].str.contains(path)])\n",
    "#     print(df['file_name'].str.match(path))\n",
    "#     df3 = df[df['file_name'].str.match(path)]\n",
    "    df3.append(df[df['file_name'].str.contains(path)])\n",
    "#     print(df3)"
   ]
  },
  {
   "cell_type": "code",
   "execution_count": null,
   "metadata": {},
   "outputs": [],
   "source": [
    "import time"
   ]
  },
  {
   "cell_type": "code",
   "execution_count": null,
   "metadata": {},
   "outputs": [],
   "source": [
    "#df3 = pd.DataFrame()\n",
    "#df3 = pd.DataFrame(columns=['file_name'].append([str(i) for i in range(441)]))\n",
    "st = time.time()\n",
    "fnl = []\n",
    "#fnn = np.zeros([4,441])\n",
    "for i, path in enumerate(pathl):\n",
    "#     print(path)\n",
    "#     print(len(df[df['file_name'].str.contains(path)]))\n",
    "    fnl.append(df[df['file_name'].str.contains(path)].iloc[:, 1:].values.tolist()[0])\n",
    "ft = time.time()\n",
    "print(ft-st)\n",
    "#    fnn[i,:] = df[df['file_name'].str.contains(path)].iloc[:, 1:].to_numpy()\n",
    "#    fnt[i,:] = torch.tensor(df[df['file_name'].str.contains(path)].iloc[:, 1:].values)\n",
    "#     print(df['file_name'].str.match(path))\n",
    "#     df3 = df[df['file_name'].str.match(path)]\n",
    "#     df3.append(df[df['file_name'].str.contains(path)])\n",
    "#     print(df3)"
   ]
  },
  {
   "cell_type": "code",
   "execution_count": null,
   "metadata": {},
   "outputs": [],
   "source": [
    "np.genfromtxt()"
   ]
  },
  {
   "cell_type": "code",
   "execution_count": null,
   "metadata": {},
   "outputs": [],
   "source": []
  },
  {
   "cell_type": "code",
   "execution_count": null,
   "metadata": {},
   "outputs": [],
   "source": [
    "#df3 = pd.DataFrame()\n",
    "# df3 = pd.DataFrame(columns=['file_name'].append([str(i) for i in range(441)]))\n",
    "# fnl = []\n",
    "st = time.time()\n",
    "fnn = np.zeros([len(pathl),441])\n",
    "for i, path in enumerate(pathl):\n",
    "#     print(path)\n",
    "#     print(len(df[df['file_name'].str.contains(path)]))\n",
    "#     fnl.append(df[df['file_name'].str.contains(path)].iloc[:, 1:].values.tolist()[0])\n",
    "    fnn[i,:] = df[df['file_name'].str.contains(path)].iloc[:, 1:].to_numpy()\n",
    "ft = time.time()\n",
    "print(ft-st)\n",
    "#     fnt[i,:] = torch.tensor(df[df['file_name'].str.contains(path)].iloc[:, 1:].values)\n",
    "#     print(df['file_name'].str.match(path))\n",
    "#     df3 = df[df['file_name'].str.match(path)]\n",
    "#     df3.append(df[df['file_name'].str.contains(path)])\n",
    "#     print(df3)"
   ]
  },
  {
   "cell_type": "code",
   "execution_count": null,
   "metadata": {},
   "outputs": [],
   "source": [
    "import torch"
   ]
  },
  {
   "cell_type": "code",
   "execution_count": null,
   "metadata": {},
   "outputs": [],
   "source": [
    "#df3 = pd.DataFrame()\n",
    "# df3 = pd.DataFrame(columns=['file_name'].append([str(i) for i in range(441)]))\n",
    "# fnl = []\n",
    "# fnn = np.zeros([4,441])\n",
    "st = time.time()\n",
    "fnt = torch.zeros(len(pathl),441)\n",
    "for i, path in enumerate(pathl):\n",
    "#     print(path)\n",
    "#     print(len(df[df['file_name'].str.contains(path)]))\n",
    "#     fnl.append(df[df['file_name'].str.contains(path)].iloc[:, 1:].values.tolist()[0])\n",
    "#     fnn[i,:] = df[df['file_name'].str.contains(path)].iloc[:, 1:].to_numpy()\n",
    "    fnt[i,:] = torch.tensor(df[df['file_name'].str.contains(path)].iloc[:, 1:].values)\n",
    "ft = time.time()\n",
    "print(ft-st)\n",
    "#     print(df['file_name'].str.match(path))\n",
    "#     df3 = df[df['file_name'].str.match(path)]\n",
    "#     df3.append(df[df['file_name'].str.contains(path)])\n",
    "#     print(df3)"
   ]
  },
  {
   "cell_type": "code",
   "execution_count": null,
   "metadata": {},
   "outputs": [],
   "source": [
    "rowl = [i for i in range(64)]"
   ]
  },
  {
   "cell_type": "code",
   "execution_count": null,
   "metadata": {},
   "outputs": [],
   "source": [
    "st = time.time()\n",
    "F_Nl = F_N[rowl,:]\n",
    "ft = time.time()\n",
    "print(ft-st)"
   ]
  },
  {
   "cell_type": "code",
   "execution_count": null,
   "metadata": {},
   "outputs": [],
   "source": [
    "F_Nl.shape"
   ]
  },
  {
   "cell_type": "code",
   "execution_count": null,
   "metadata": {},
   "outputs": [],
   "source": [
    "fnn.shape"
   ]
  },
  {
   "cell_type": "code",
   "execution_count": null,
   "metadata": {},
   "outputs": [],
   "source": [
    "fnl"
   ]
  },
  {
   "cell_type": "code",
   "execution_count": null,
   "metadata": {},
   "outputs": [],
   "source": [
    "df3"
   ]
  },
  {
   "cell_type": "code",
   "execution_count": null,
   "metadata": {},
   "outputs": [],
   "source": [
    "df3"
   ]
  },
  {
   "cell_type": "code",
   "execution_count": null,
   "metadata": {},
   "outputs": [],
   "source": [
    "o_train = np.genfromtxt(\"D:/cherepashkin1/598test/plot_output/e054/047/o_train_139\", delimiter= ',')\n",
    "o_val = np.genfromtxt(\"D:/cherepashkin1/598test/plot_output/e054/047/o_val_138\", delimiter= ',')"
   ]
  },
  {
   "cell_type": "code",
   "execution_count": null,
   "metadata": {},
   "outputs": [],
   "source": [
    "o_val.shape"
   ]
  },
  {
   "cell_type": "code",
   "execution_count": null,
   "metadata": {},
   "outputs": [],
   "source": [
    "5%3"
   ]
  },
  {
   "cell_type": "code",
   "execution_count": null,
   "metadata": {},
   "outputs": [],
   "source": [
    "df"
   ]
  },
  {
   "cell_type": "code",
   "execution_count": null,
   "metadata": {},
   "outputs": [],
   "source": [
    "df.insert(441, 'F_N', F_N)"
   ]
  },
  {
   "cell_type": "code",
   "execution_count": null,
   "metadata": {},
   "outputs": [],
   "source": [
    "for j in ['9', '11']:\n",
    "\n",
    "    "
   ]
  },
  {
   "cell_type": "code",
   "execution_count": null,
   "metadata": {},
   "outputs": [],
   "source": [
    "cip = []\n",
    "##mainpath = r'D:\\seva\\598_processing\\train' \n",
    "for j in ['9', '11']:\n",
    "    mainpath = r'D:/cherepashkin1/phenoseed_csv/598csv'+j \n",
    "    for root, directories, filenames in os.walk(mainpath): \n",
    "        for filename in filenames:\n",
    "            if 'F_N.csv' in filename:\n",
    "                cip.append(os.path.join(root,filename))\n",
    "    F_Nar = np.zeros([len(cip),441])\n",
    "    for i in range(len(cip)):\n",
    "    #     print(cip)\n",
    "    #     print(np.genfromtxt(cip[i], delimiter=',').shape)\n",
    "        F_Nar[i,:] = np.genfromtxt(cip[i], delimiter=',')\n",
    "        d1 = np.random.random(size = (1000,20))\n",
    "d2 = np.random.random(size = (1000,200))\n",
    "hf = h5py.File('data.h5', 'w')\n",
    "hf.create_dataset('dataset_1', data=d1)\n",
    "    np.savetxt('D:/cherepashkin1/phenoseed_csv/598csv'+j+'_F_N.csv', F_Nar, delimiter = ',')"
   ]
  },
  {
   "cell_type": "code",
   "execution_count": null,
   "metadata": {},
   "outputs": [],
   "source": [
    "cip"
   ]
  },
  {
   "cell_type": "code",
   "execution_count": null,
   "metadata": {},
   "outputs": [],
   "source": [
    "# cip = []\n",
    "##mainpath = r'D:\\seva\\598_processing\\train' \n",
    "for j in ['9', '11']:\n",
    "# d2 = np.random.random(size = (1000,200))\n",
    "    hf = h5py.File('D:/cherepashkin1/phenoseed_csv/598csv'+j+'_F_N.h5', 'w')\n",
    "    hf.create_dataset('dataset', data=np.genfromtxt('D:/cherepashkin1/phenoseed_csv/598csv'+j+'_F_N.csv', delimiter =','))\n",
    "#     np.savetxt('D:/cherepashkin1/phenoseed_csv/598csv'+j+'_F_N.csv', F_Nar, delimiter = ',')"
   ]
  },
  {
   "cell_type": "code",
   "execution_count": null,
   "metadata": {},
   "outputs": [],
   "source": []
  },
  {
   "cell_type": "code",
   "execution_count": null,
   "metadata": {},
   "outputs": [],
   "source": [
    "import h5py"
   ]
  },
  {
   "cell_type": "code",
   "execution_count": null,
   "metadata": {},
   "outputs": [],
   "source": [
    "d1 = np.random.random(size = (1000,20))\n",
    "d2 = np.random.random(size = (1000,200))\n",
    "hf = h5py.File('data.h5', 'w')\n",
    "hf.create_dataset('dataset_1', data=d1)\n",
    "hf.create_dataset('dataset_2', data=d2)\n",
    "hf.close()"
   ]
  },
  {
   "cell_type": "code",
   "execution_count": null,
   "metadata": {},
   "outputs": [],
   "source": [
    "np.savetxt('d1', d1, delimiter = ',')\n",
    "np.savetxt('d2', d2, delimiter = ',')"
   ]
  },
  {
   "cell_type": "code",
   "execution_count": null,
   "metadata": {},
   "outputs": [],
   "source": [
    "hf = h5py.File('data.h5', 'w')\n",
    "\n",
    "mainpath = r'D:/cherepashkin1/phenoseed/598'\n",
    "cnt = 0\n",
    "for root, directories, filenames in os.walk(mainpath): \n",
    "#     print(root)\n",
    "    for filename in filenames:\n",
    "        bigimage = np.zeros([36,1800,1000])\n",
    "        for i in range(36):\n",
    "            if 'rotation'+str(i).zfill(3) in filename:\n",
    "                bigimage[i] = np.asarray(io.imread(os.path.join(root,filename)))\n",
    "        hf.create_dataset('dataset_'+str(cnt), data=bigimage)\n",
    "        cnt+=1\n",
    "hf.close()\n",
    "#                 cip.append(os.path.join(root,filename))"
   ]
  },
  {
   "cell_type": "code",
   "execution_count": null,
   "metadata": {},
   "outputs": [],
   "source": [
    "hf = h5py.File('data.h5', 'w')\n",
    "hf.create_dataset('dataset_1', data=d1)\n",
    "hf.create_dataset('dataset_2', data=d2)\n",
    "hf.close()"
   ]
  },
  {
   "cell_type": "code",
   "execution_count": null,
   "metadata": {},
   "outputs": [],
   "source": [
    "import h5py\n",
    "import helpers\n",
    "import numpy as np\n",
    "from pathlib import Path\n",
    "import torch\n",
    "from torch.utils import data\n",
    "\n",
    "class HDF5Dataset(data.Dataset):\n",
    "    \"\"\"Represents an abstract HDF5 dataset.\n",
    "    \n",
    "    Input params:\n",
    "        file_path: Path to the folder containing the dataset (one or multiple HDF5 files).\n",
    "        recursive: If True, searches for h5 files in subdirectories.\n",
    "        load_data: If True, loads all the data immediately into RAM. Use this if\n",
    "            the dataset is fits into memory. Otherwise, leave this at false and \n",
    "            the data will load lazily.\n",
    "        data_cache_size: Number of HDF5 files that can be cached in the cache (default=3).\n",
    "        transform: PyTorch transform to apply to every data instance (default=None).\n",
    "    \"\"\"\n",
    "    def __init__(self, file_path, recursive, load_data, data_cache_size=3, transform=None):\n",
    "        super().__init__()\n",
    "        self.data_info = []\n",
    "        self.data_cache = {}\n",
    "        self.data_cache_size = data_cache_size\n",
    "        self.transform = transform\n",
    "\n",
    "        # Search for all h5 files\n",
    "        p = Path(file_path)\n",
    "        assert(p.is_dir())\n",
    "        if recursive:\n",
    "            files = sorted(p.glob('**/*.h5'))\n",
    "        else:\n",
    "            files = sorted(p.glob('*.h5'))\n",
    "        if len(files) < 1:\n",
    "            raise RuntimeError('No hdf5 datasets found')\n",
    "\n",
    "        for h5dataset_fp in files:\n",
    "            self._add_data_infos(str(h5dataset_fp.resolve()), load_data)\n",
    "            \n",
    "    def __getitem__(self, index):\n",
    "        # get data\n",
    "        x = self.get_data(\"data\", index)\n",
    "        if self.transform:\n",
    "            x = self.transform(x)\n",
    "        else:\n",
    "            x = torch.from_numpy(x)\n",
    "\n",
    "        # get label\n",
    "        y = self.get_data(\"label\", index)\n",
    "        y = torch.from_numpy(y)\n",
    "        return (x, y)\n",
    "\n",
    "    def __len__(self):\n",
    "        return len(self.get_data_infos('data'))\n",
    "    \n",
    "    def _add_data_infos(self, file_path, load_data):\n",
    "        with h5py.File(file_path) as h5_file:\n",
    "            # Walk through all groups, extracting datasets\n",
    "            for gname, group in h5_file.items():\n",
    "                for dname, ds in group.items():\n",
    "                    # if data is not loaded its cache index is -1\n",
    "                    idx = -1\n",
    "                    if load_data:\n",
    "                        # add data to the data cache\n",
    "                        idx = self._add_to_cache(ds.value, file_path)\n",
    "                    \n",
    "                    # type is derived from the name of the dataset; we expect the dataset\n",
    "                    # name to have a name such as 'data' or 'label' to identify its type\n",
    "                    # we also store the shape of the data in case we need it\n",
    "                    self.data_info.append({'file_path': file_path, 'type': dname, 'shape': ds.value.shape, 'cache_idx': idx})\n",
    "\n",
    "    def _load_data(self, file_path):\n",
    "        \"\"\"Load data to the cache given the file\n",
    "        path and update the cache index in the\n",
    "        data_info structure.\n",
    "        \"\"\"\n",
    "        with h5py.File(file_path) as h5_file:\n",
    "            for gname, group in h5_file.items():\n",
    "                for dname, ds in group.items():\n",
    "                    # add data to the data cache and retrieve\n",
    "                    # the cache index\n",
    "                    idx = self._add_to_cache(ds.value, file_path)\n",
    "\n",
    "                    # find the beginning index of the hdf5 file we are looking for\n",
    "                    file_idx = next(i for i,v in enumerate(self.data_info) if v['file_path'] == file_path)\n",
    "\n",
    "                    # the data info should have the same index since we loaded it in the same way\n",
    "                    self.data_info[file_idx + idx]['cache_idx'] = idx\n",
    "\n",
    "        # remove an element from data cache if size was exceeded\n",
    "        if len(self.data_cache) > self.data_cache_size:\n",
    "            # remove one item from the cache at random\n",
    "            removal_keys = list(self.data_cache)\n",
    "            removal_keys.remove(file_path)\n",
    "            self.data_cache.pop(removal_keys[0])\n",
    "            # remove invalid cache_idx\n",
    "            self.data_info = [{'file_path': di['file_path'], 'type': di['type'], 'shape': di['shape'], 'cache_idx': -1} if di['file_path'] == removal_keys[0] else di for di in self.data_info]\n",
    "\n",
    "    def _add_to_cache(self, data, file_path):\n",
    "        \"\"\"Adds data to the cache and returns its index. There is one cache\n",
    "        list for every file_path, containing all datasets in that file.\n",
    "        \"\"\"\n",
    "        if file_path not in self.data_cache:\n",
    "            self.data_cache[file_path] = [data]\n",
    "        else:\n",
    "            self.data_cache[file_path].append(data)\n",
    "        return len(self.data_cache[file_path]) - 1\n",
    "\n",
    "    def get_data_infos(self, type):\n",
    "        \"\"\"Get data infos belonging to a certain type of data.\n",
    "        \"\"\"\n",
    "        data_info_type = [di for di in self.data_info if di['type'] == type]\n",
    "        return data_info_type\n",
    "\n",
    "    def get_data(self, type, i):\n",
    "        \"\"\"Call this function anytime you want to access a chunk of data from the\n",
    "            dataset. This will make sure that the data is loaded in case it is\n",
    "            not part of the data cache.\n",
    "        \"\"\"\n",
    "        fp = self.get_data_infos(type)[i]['file_path']\n",
    "        if fp not in self.data_cache:\n",
    "            self._load_data(fp)\n",
    "        \n",
    "        # get new cache_idx assigned by _load_data_info\n",
    "        cache_idx = self.get_data_infos(type)[i]['cache_idx']\n",
    "        return self.data_cache[fp][cache_idx]"
   ]
  },
  {
   "cell_type": "code",
   "execution_count": 173,
   "metadata": {},
   "outputs": [],
   "source": [
    "csvname = '598csv11'\n",
    "cip = []\n",
    "mainpath = r'D:/cherepashkin1/phenoseed_csv/'+csvname\n",
    "for root, directories, filenames in os.walk(mainpath): \n",
    "    for filename in filenames:\n",
    "        if 'F_N.csv' in filename:\n",
    "            cip.append(os.path.join(root,filename))\n",
    "cip.sort()\n",
    "F_N = np.zeros([len(cip),441])\n",
    "for i in range(len(cip)):\n",
    "    F_N[i]=np.genfromtxt(cip[i],delimiter=',')\n",
    "with h5py.File(\"D:/cherepashkin1/phenoseed_csv/\"+csvname+\"F_N.h5\", 'w') as hf:\n",
    "    hf.create_dataset('dataset', data=F_N)\n",
    "    \n",
    "with open('D:/cherepashkin1/phenoseed_csv/'+csvname+'_F_N_file_names.txt', 'w') as f:\n",
    "    for i in cip:\n",
    "        f.write((i.split('\\\\')[1]+'_'+i.split('\\\\')[2]).replace('_F_N.csv','') + \"\\n\")"
   ]
  },
  {
   "cell_type": "code",
   "execution_count": 175,
   "metadata": {},
   "outputs": [],
   "source": [
    "F_N2 = np.array(h5py.File(\"D:/cherepashkin1/phenoseed_csv/\"+csvname+\"F_N.h5\", 'r').get('dataset'))"
   ]
  },
  {
   "cell_type": "code",
   "execution_count": 177,
   "metadata": {},
   "outputs": [
    {
     "data": {
      "text/plain": [
       "(5270, 441)"
      ]
     },
     "execution_count": 177,
     "metadata": {},
     "output_type": "execute_result"
    }
   ],
   "source": [
    "F_N2.shape"
   ]
  },
  {
   "cell_type": "code",
   "execution_count": 189,
   "metadata": {},
   "outputs": [
    {
     "ename": "AttributeError",
     "evalue": "'list' object has no attribute 'replace'",
     "output_type": "error",
     "traceback": [
      "\u001b[1;31m---------------------------------------------------------------------------\u001b[0m",
      "\u001b[1;31mAttributeError\u001b[0m                            Traceback (most recent call last)",
      "\u001b[1;32m<ipython-input-189-c29ec43bf2b0>\u001b[0m in \u001b[0;36m<module>\u001b[1;34m\u001b[0m\n\u001b[0;32m      1\u001b[0m \u001b[1;32mwith\u001b[0m \u001b[0mopen\u001b[0m\u001b[1;33m(\u001b[0m\u001b[1;34m'D:/cherepashkin1/phenoseed_csv/'\u001b[0m\u001b[1;33m+\u001b[0m\u001b[0mcsvname\u001b[0m\u001b[1;33m+\u001b[0m\u001b[1;34m'_F_N_file_names.txt'\u001b[0m\u001b[1;33m,\u001b[0m\u001b[1;34m'r'\u001b[0m\u001b[1;33m)\u001b[0m \u001b[1;32mas\u001b[0m \u001b[0mf\u001b[0m\u001b[1;33m:\u001b[0m\u001b[1;33m\u001b[0m\u001b[1;33m\u001b[0m\u001b[0m\n\u001b[1;32m----> 2\u001b[1;33m     \u001b[0mcip2\u001b[0m \u001b[1;33m=\u001b[0m \u001b[0mf\u001b[0m\u001b[1;33m.\u001b[0m\u001b[0mreadlines\u001b[0m\u001b[1;33m(\u001b[0m\u001b[1;33m)\u001b[0m\u001b[1;33m.\u001b[0m\u001b[0mreplace\u001b[0m\u001b[1;33m(\u001b[0m\u001b[1;34m'\\n'\u001b[0m\u001b[1;33m,\u001b[0m\u001b[1;34m''\u001b[0m\u001b[1;33m)\u001b[0m\u001b[1;33m\u001b[0m\u001b[1;33m\u001b[0m\u001b[0m\n\u001b[0m",
      "\u001b[1;31mAttributeError\u001b[0m: 'list' object has no attribute 'replace'"
     ]
    }
   ],
   "source": []
  },
  {
   "cell_type": "code",
   "execution_count": 191,
   "metadata": {},
   "outputs": [],
   "source": []
  },
  {
   "cell_type": "code",
   "execution_count": null,
   "metadata": {},
   "outputs": [],
   "source": [
    "cip2"
   ]
  },
  {
   "cell_type": "code",
   "execution_count": 196,
   "metadata": {},
   "outputs": [],
   "source": [
    "#for j in cip2:\n",
    "with open('D:/cherepashkin1/phenoseed_csv/'+csvname+'_F_N_file_names.txt','r') as f:\n",
    "    cip2 = f.readlines()\n",
    "cip2 = [c.replace('\\n','') for c in cip2]\n",
    "\n",
    "#     print(indices)\n"
   ]
  },
  {
   "cell_type": "code",
   "execution_count": 201,
   "metadata": {},
   "outputs": [
    {
     "name": "stdout",
     "output_type": "stream",
     "text": [
      "0.02792525291442871\n"
     ]
    }
   ],
   "source": [
    "st = time.time()\n",
    "indices = []\n",
    "for path in pathl:\n",
    "    indices.append([i for i, s in enumerate(cip2) if path in s][0])\n",
    "F_Nl = F_N[indices,:]\n",
    "print(time.time()-st)"
   ]
  },
  {
   "cell_type": "code",
   "execution_count": 214,
   "metadata": {},
   "outputs": [],
   "source": [
    "mx = np.max(F_N,0)"
   ]
  },
  {
   "cell_type": "code",
   "execution_count": 215,
   "metadata": {},
   "outputs": [
    {
     "data": {
      "text/plain": [
       "(441,)"
      ]
     },
     "execution_count": 215,
     "metadata": {},
     "output_type": "execute_result"
    }
   ],
   "source": [
    "mx.shape"
   ]
  },
  {
   "cell_type": "code",
   "execution_count": 232,
   "metadata": {},
   "outputs": [
    {
     "data": {
      "text/plain": [
       "(5270, 441)"
      ]
     },
     "execution_count": 232,
     "metadata": {},
     "output_type": "execute_result"
    }
   ],
   "source": [
    "np.repeat(np.expand_dims(np.max(F_N,0),axis=0),5270,axis=0).shape"
   ]
  },
  {
   "cell_type": "code",
   "execution_count": 234,
   "metadata": {},
   "outputs": [],
   "source": []
  },
  {
   "cell_type": "code",
   "execution_count": 242,
   "metadata": {},
   "outputs": [],
   "source": [
    "tmean = np.zeros([2,F_N.shape[0],441])\n",
    "tmean[0,:] = np.repeat(np.expand_dims(np.min(F_N,0),axis=0),F_N.shape[0],axis=0)\n",
    "tmean[1,:] = np.repeat(np.expand_dims(np.max(F_N,0),axis=0),F_N.shape[0],axis=0)"
   ]
  },
  {
   "cell_type": "code",
   "execution_count": 236,
   "metadata": {},
   "outputs": [],
   "source": [
    "tmean[0,:] = np.repeat(np.expand_dims(np.mean(F_N,0),axis=0),F_N.shape[0],axis=0)\n",
    "tmean[1,:] = np.repeat(np.expand_dims(np.std(F_N,0),axis=0),F_N.shape[0],axis=0)"
   ]
  },
  {
   "cell_type": "code",
   "execution_count": 229,
   "metadata": {},
   "outputs": [
    {
     "name": "stdout",
     "output_type": "stream",
     "text": [
      "(5270, 441) (5270, 441) (5270, 441)\n"
     ]
    }
   ],
   "source": [
    "print(F_N.shape, v0.shape, v1.shape)"
   ]
  },
  {
   "cell_type": "code",
   "execution_count": 230,
   "metadata": {},
   "outputs": [],
   "source": [
    "F_N3 = F_N - v0/(v1-v0)"
   ]
  },
  {
   "cell_type": "code",
   "execution_count": 239,
   "metadata": {},
   "outputs": [],
   "source": [
    "F_Nw = (F_N - tmean[0,:])/(tmean[1,:]-tmean[0,:])"
   ]
  },
  {
   "cell_type": "code",
   "execution_count": 245,
   "metadata": {},
   "outputs": [],
   "source": [
    "import matplotlib.pyplot as plt"
   ]
  },
  {
   "cell_type": "code",
   "execution_count": 247,
   "metadata": {},
   "outputs": [
    {
     "data": {
      "text/plain": [
       "[<matplotlib.lines.Line2D at 0x146e7a4ec70>]"
      ]
     },
     "execution_count": 247,
     "metadata": {},
     "output_type": "execute_result"
    },
    {
     "data": {
      "image/png": "[encoded data removed]",
      "text/plain": [
       "<Figure size 432x288 with 1 Axes>"
      ]
     },
     "metadata": {
      "needs_background": "light"
     },
     "output_type": "display_data"
    }
   ],
   "source": [
    "plt.plot(np.min(F_Nw,0))"
   ]
  },
  {
   "cell_type": "code",
   "execution_count": 249,
   "metadata": {},
   "outputs": [
    {
     "data": {
      "text/plain": [
       "[<matplotlib.lines.Line2D at 0x146e7b02b20>]"
      ]
     },
     "execution_count": 249,
     "metadata": {},
     "output_type": "execute_result"
    },
    {
     "data": {
      "image/png": "[encoded data removed]",
      "text/plain": [
       "<Figure size 432x288 with 1 Axes>"
      ]
     },
     "metadata": {
      "needs_background": "light"
     },
     "output_type": "display_data"
    }
   ],
   "source": [
    "plt.plot(np.max(F_Nw,0))"
   ]
  },
  {
   "cell_type": "code",
   "execution_count": 207,
   "metadata": {},
   "outputs": [
    {
     "data": {
      "text/plain": [
       "(441,)"
      ]
     },
     "execution_count": 207,
     "metadata": {},
     "output_type": "execute_result"
    }
   ],
   "source": [
    "np.max(F_N,0).shape"
   ]
  },
  {
   "cell_type": "code",
   "execution_count": 199,
   "metadata": {},
   "outputs": [
    {
     "data": {
      "text/plain": [
       "(64, 441)"
      ]
     },
     "execution_count": 199,
     "metadata": {},
     "output_type": "execute_result"
    }
   ],
   "source": [
    "F_Nl.shape"
   ]
  },
  {
   "cell_type": "code",
   "execution_count": 202,
   "metadata": {},
   "outputs": [],
   "source": [
    "F_Nc = F_Nl[:,:100]"
   ]
  },
  {
   "cell_type": "code",
   "execution_count": 197,
   "metadata": {},
   "outputs": [
    {
     "data": {
      "text/plain": [
       "[267,\n",
       " 4677,\n",
       " 4278,\n",
       " 3188,\n",
       " 267,\n",
       " 4677,\n",
       " 4278,\n",
       " 3188,\n",
       " 267,\n",
       " 4677,\n",
       " 4278,\n",
       " 3188,\n",
       " 267,\n",
       " 4677,\n",
       " 4278,\n",
       " 3188,\n",
       " 267,\n",
       " 4677,\n",
       " 4278,\n",
       " 3188,\n",
       " 267,\n",
       " 4677,\n",
       " 4278,\n",
       " 3188,\n",
       " 267,\n",
       " 4677,\n",
       " 4278,\n",
       " 3188,\n",
       " 267,\n",
       " 4677,\n",
       " 4278,\n",
       " 3188,\n",
       " 267,\n",
       " 4677,\n",
       " 4278,\n",
       " 3188,\n",
       " 267,\n",
       " 4677,\n",
       " 4278,\n",
       " 3188,\n",
       " 267,\n",
       " 4677,\n",
       " 4278,\n",
       " 3188,\n",
       " 267,\n",
       " 4677,\n",
       " 4278,\n",
       " 3188,\n",
       " 267,\n",
       " 4677,\n",
       " 4278,\n",
       " 3188,\n",
       " 267,\n",
       " 4677,\n",
       " 4278,\n",
       " 3188,\n",
       " 267,\n",
       " 4677,\n",
       " 4278,\n",
       " 3188,\n",
       " 267,\n",
       " 4677,\n",
       " 4278,\n",
       " 3188]"
      ]
     },
     "execution_count": 197,
     "metadata": {},
     "output_type": "execute_result"
    }
   ],
   "source": [
    "indices"
   ]
  },
  {
   "cell_type": "code",
   "execution_count": 269,
   "metadata": {},
   "outputs": [],
   "source": [
    "tmeanc = []"
   ]
  },
  {
   "cell_type": "code",
   "execution_count": 273,
   "metadata": {},
   "outputs": [],
   "source": [
    "def tmeanget(F_N,fun):\n",
    "#     tmeanc = np.zeros(F_N.shape)\n",
    "    exec(\"tmeanc = np.repeat(np.expand_dims(np.\"+fun+\"(F_N,0),axis=0),F_N.shape[0],axis=0)\")\n",
    "    return(tmeanc)"
   ]
  },
  {
   "cell_type": "code",
   "execution_count": 254,
   "metadata": {},
   "outputs": [],
   "source": [
    "fun = 'min'\n",
    "exec('tmeanc = np.repeat(np.expand_dims(np.'+\\\n",
    "    fun+'(F_N,0),axis=0),F_N.shape[0],axis=0)')"
   ]
  },
  {
   "cell_type": "code",
   "execution_count": 255,
   "metadata": {},
   "outputs": [
    {
     "data": {
      "text/plain": [
       "(5270, 441)"
      ]
     },
     "execution_count": 255,
     "metadata": {},
     "output_type": "execute_result"
    }
   ],
   "source": [
    "tmeanc.shape"
   ]
  },
  {
   "cell_type": "code",
   "execution_count": 274,
   "metadata": {},
   "outputs": [],
   "source": [
    "tmeanc = tmeanget(F_N,'min')"
   ]
  },
  {
   "cell_type": "code",
   "execution_count": 275,
   "metadata": {},
   "outputs": [
    {
     "ename": "AttributeError",
     "evalue": "'list' object has no attribute 'shape'",
     "output_type": "error",
     "traceback": [
      "\u001b[1;31m---------------------------------------------------------------------------\u001b[0m",
      "\u001b[1;31mAttributeError\u001b[0m                            Traceback (most recent call last)",
      "\u001b[1;32m<ipython-input-275-d732845c7791>\u001b[0m in \u001b[0;36m<module>\u001b[1;34m\u001b[0m\n\u001b[1;32m----> 1\u001b[1;33m \u001b[0mtmeanc\u001b[0m\u001b[1;33m.\u001b[0m\u001b[0mshape\u001b[0m\u001b[1;33m\u001b[0m\u001b[1;33m\u001b[0m\u001b[0m\n\u001b[0m",
      "\u001b[1;31mAttributeError\u001b[0m: 'list' object has no attribute 'shape'"
     ]
    }
   ],
   "source": [
    "tmeanc.shape"
   ]
  },
  {
   "cell_type": "code",
   "execution_count": null,
   "metadata": {},
   "outputs": [],
   "source": []
  },
  {
   "cell_type": "code",
   "execution_count": 276,
   "metadata": {},
   "outputs": [],
   "source": [
    "df = pd.read_csv('D:/circles/finetune_test/csv/pathes_to_598.csv')"
   ]
  },
  {
   "cell_type": "code",
   "execution_count": 286,
   "metadata": {},
   "outputs": [],
   "source": [
    "y_n = np.genfromtxt('D:/cherepashkin1/phenoseed_csv/Y_N_500.csv', delimiter=',')"
   ]
  },
  {
   "cell_type": "code",
   "execution_count": 291,
   "metadata": {},
   "outputs": [
    {
     "data": {
      "text/plain": [
       "(18000, 441)"
      ]
     },
     "execution_count": 291,
     "metadata": {},
     "output_type": "execute_result"
    }
   ],
   "source": [
    "y_n.shape"
   ]
  },
  {
   "cell_type": "code",
   "execution_count": 292,
   "metadata": {},
   "outputs": [],
   "source": [
    "angles_list = [10*i for i in range(36)]\n",
    "nsp = 500"
   ]
  },
  {
   "cell_type": "code",
   "execution_count": 293,
   "metadata": {},
   "outputs": [
    {
     "name": "stdout",
     "output_type": "stream",
     "text": [
      "18000 18500\n"
     ]
    }
   ],
   "source": [
    "print(int(angle/10)*nsp,\n",
    "            (int(angle/10) +\n",
    "             1)*nsp)"
   ]
  },
  {
   "cell_type": "code",
   "execution_count": 294,
   "metadata": {},
   "outputs": [
    {
     "name": "stdout",
     "output_type": "stream",
     "text": [
      "0.01695537567138672\n"
     ]
    }
   ],
   "source": [
    "st = time.time()\n",
    "y_n2 = np.zeros([64,\n",
    "                   500,\n",
    "                   441])\n",
    "for i, angle in enumerate(angles_list):\n",
    "    y_n2[i] = \\\n",
    "        y_n[int(angle/10)*nsp:\n",
    "            (int(angle/10) +\n",
    "             1)*nsp, :]\n",
    "print(time.time()-st)"
   ]
  },
  {
   "cell_type": "code",
   "execution_count": 304,
   "metadata": {},
   "outputs": [],
   "source": [
    "s = ['path','path1']"
   ]
  },
  {
   "cell_type": "code",
   "execution_count": 305,
   "metadata": {},
   "outputs": [],
   "source": [
    "s2 = [s]*3"
   ]
  },
  {
   "cell_type": "code",
   "execution_count": 307,
   "metadata": {},
   "outputs": [
    {
     "data": {
      "text/plain": [
       "[['path', 'path1'], ['path', 'path1'], ['path', 'path1']]"
      ]
     },
     "execution_count": 307,
     "metadata": {},
     "output_type": "execute_result"
    }
   ],
   "source": [
    "s2"
   ]
  },
  {
   "cell_type": "code",
   "execution_count": 306,
   "metadata": {},
   "outputs": [
    {
     "data": {
      "text/plain": [
       "list"
      ]
     },
     "execution_count": 306,
     "metadata": {},
     "output_type": "execute_result"
    }
   ],
   "source": [
    "type(s2)"
   ]
  },
  {
   "cell_type": "code",
   "execution_count": 301,
   "metadata": {},
   "outputs": [],
   "source": [
    "s3 = [('598csv9/1484720/1492412', '598csv9/1484719/1492243', '598csv9/1484738/1494635', '598csv9/1484755/1500157', '598csv9/1484738/1494634', '598csv9/1484725/1493036', '598csv9/1484736/1494403', '598csv9/1484728/1493383', '598csv9/1484729/1493457', '598csv9/1484718/1492158', '598csv9/1484753/1499921', '598csv9/1484752/1499772', '598csv9/1484720/1492403', '598csv9/1484746/1496681', '598csv9/1484723/1492728'), ('598csv9/1484720/1492412', '598csv9/1484719/1492243', '598csv9/1484738/1494635', '598csv9/1484755/1500157', '598csv9/1484738/1494634', '598csv9/1484725/1493036', '598csv9/1484736/1494403', '598csv9/1484728/1493383', '598csv9/1484729/1493457', '598csv9/1484718/1492158', '598csv9/1484753/1499921', '598csv9/1484752/1499772', '598csv9/1484720/1492403', '598csv9/1484746/1496681', '598csv9/1484723/1492728'), ('598csv9/1484720/1492412', '598csv9/1484719/1492243', '598csv9/1484738/1494635', '598csv9/1484755/1500157', '598csv9/1484738/1494634', '598csv9/1484725/1493036', '598csv9/1484736/1494403', '598csv9/1484728/1493383', '598csv9/1484729/1493457', '598csv9/1484718/1492158', '598csv9/1484753/1499921', '598csv9/1484752/1499772', '598csv9/1484720/1492403', '598csv9/1484746/1496681', '598csv9/1484723/1492728')]\n"
   ]
  },
  {
   "cell_type": "code",
   "execution_count": 308,
   "metadata": {},
   "outputs": [],
   "source": [
    "pathes = [item for sublist in s3 for item in sublist]\n"
   ]
  },
  {
   "cell_type": "code",
   "execution_count": null,
   "metadata": {},
   "outputs": [],
   "source": []
  },
  {
   "cell_type": "code",
   "execution_count": 313,
   "metadata": {},
   "outputs": [],
   "source": [
    "pathes = [j for j in pathes for i in range(3)]"
   ]
  },
  {
   "cell_type": "code",
   "execution_count": 314,
   "metadata": {},
   "outputs": [
    {
     "data": {
      "text/plain": [
       "['598csv9/1484720/1492412',\n",
       " '598csv9/1484720/1492412',\n",
       " '598csv9/1484720/1492412',\n",
       " '598csv9/1484719/1492243',\n",
       " '598csv9/1484719/1492243',\n",
       " '598csv9/1484719/1492243',\n",
       " '598csv9/1484738/1494635',\n",
       " '598csv9/1484738/1494635',\n",
       " '598csv9/1484738/1494635',\n",
       " '598csv9/1484755/1500157',\n",
       " '598csv9/1484755/1500157',\n",
       " '598csv9/1484755/1500157',\n",
       " '598csv9/1484738/1494634',\n",
       " '598csv9/1484738/1494634',\n",
       " '598csv9/1484738/1494634',\n",
       " '598csv9/1484725/1493036',\n",
       " '598csv9/1484725/1493036',\n",
       " '598csv9/1484725/1493036',\n",
       " '598csv9/1484736/1494403',\n",
       " '598csv9/1484736/1494403',\n",
       " '598csv9/1484736/1494403',\n",
       " '598csv9/1484728/1493383',\n",
       " '598csv9/1484728/1493383',\n",
       " '598csv9/1484728/1493383',\n",
       " '598csv9/1484729/1493457',\n",
       " '598csv9/1484729/1493457',\n",
       " '598csv9/1484729/1493457',\n",
       " '598csv9/1484718/1492158',\n",
       " '598csv9/1484718/1492158',\n",
       " '598csv9/1484718/1492158',\n",
       " '598csv9/1484753/1499921',\n",
       " '598csv9/1484753/1499921',\n",
       " '598csv9/1484753/1499921',\n",
       " '598csv9/1484752/1499772',\n",
       " '598csv9/1484752/1499772',\n",
       " '598csv9/1484752/1499772',\n",
       " '598csv9/1484720/1492403',\n",
       " '598csv9/1484720/1492403',\n",
       " '598csv9/1484720/1492403',\n",
       " '598csv9/1484746/1496681',\n",
       " '598csv9/1484746/1496681',\n",
       " '598csv9/1484746/1496681',\n",
       " '598csv9/1484723/1492728',\n",
       " '598csv9/1484723/1492728',\n",
       " '598csv9/1484723/1492728',\n",
       " '598csv9/1484720/1492412',\n",
       " '598csv9/1484720/1492412',\n",
       " '598csv9/1484720/1492412',\n",
       " '598csv9/1484719/1492243',\n",
       " '598csv9/1484719/1492243',\n",
       " '598csv9/1484719/1492243',\n",
       " '598csv9/1484738/1494635',\n",
       " '598csv9/1484738/1494635',\n",
       " '598csv9/1484738/1494635',\n",
       " '598csv9/1484755/1500157',\n",
       " '598csv9/1484755/1500157',\n",
       " '598csv9/1484755/1500157',\n",
       " '598csv9/1484738/1494634',\n",
       " '598csv9/1484738/1494634',\n",
       " '598csv9/1484738/1494634',\n",
       " '598csv9/1484725/1493036',\n",
       " '598csv9/1484725/1493036',\n",
       " '598csv9/1484725/1493036',\n",
       " '598csv9/1484736/1494403',\n",
       " '598csv9/1484736/1494403',\n",
       " '598csv9/1484736/1494403',\n",
       " '598csv9/1484728/1493383',\n",
       " '598csv9/1484728/1493383',\n",
       " '598csv9/1484728/1493383',\n",
       " '598csv9/1484729/1493457',\n",
       " '598csv9/1484729/1493457',\n",
       " '598csv9/1484729/1493457',\n",
       " '598csv9/1484718/1492158',\n",
       " '598csv9/1484718/1492158',\n",
       " '598csv9/1484718/1492158',\n",
       " '598csv9/1484753/1499921',\n",
       " '598csv9/1484753/1499921',\n",
       " '598csv9/1484753/1499921',\n",
       " '598csv9/1484752/1499772',\n",
       " '598csv9/1484752/1499772',\n",
       " '598csv9/1484752/1499772',\n",
       " '598csv9/1484720/1492403',\n",
       " '598csv9/1484720/1492403',\n",
       " '598csv9/1484720/1492403',\n",
       " '598csv9/1484746/1496681',\n",
       " '598csv9/1484746/1496681',\n",
       " '598csv9/1484746/1496681',\n",
       " '598csv9/1484723/1492728',\n",
       " '598csv9/1484723/1492728',\n",
       " '598csv9/1484723/1492728',\n",
       " '598csv9/1484720/1492412',\n",
       " '598csv9/1484720/1492412',\n",
       " '598csv9/1484720/1492412',\n",
       " '598csv9/1484719/1492243',\n",
       " '598csv9/1484719/1492243',\n",
       " '598csv9/1484719/1492243',\n",
       " '598csv9/1484738/1494635',\n",
       " '598csv9/1484738/1494635',\n",
       " '598csv9/1484738/1494635',\n",
       " '598csv9/1484755/1500157',\n",
       " '598csv9/1484755/1500157',\n",
       " '598csv9/1484755/1500157',\n",
       " '598csv9/1484738/1494634',\n",
       " '598csv9/1484738/1494634',\n",
       " '598csv9/1484738/1494634',\n",
       " '598csv9/1484725/1493036',\n",
       " '598csv9/1484725/1493036',\n",
       " '598csv9/1484725/1493036',\n",
       " '598csv9/1484736/1494403',\n",
       " '598csv9/1484736/1494403',\n",
       " '598csv9/1484736/1494403',\n",
       " '598csv9/1484728/1493383',\n",
       " '598csv9/1484728/1493383',\n",
       " '598csv9/1484728/1493383',\n",
       " '598csv9/1484729/1493457',\n",
       " '598csv9/1484729/1493457',\n",
       " '598csv9/1484729/1493457',\n",
       " '598csv9/1484718/1492158',\n",
       " '598csv9/1484718/1492158',\n",
       " '598csv9/1484718/1492158',\n",
       " '598csv9/1484753/1499921',\n",
       " '598csv9/1484753/1499921',\n",
       " '598csv9/1484753/1499921',\n",
       " '598csv9/1484752/1499772',\n",
       " '598csv9/1484752/1499772',\n",
       " '598csv9/1484752/1499772',\n",
       " '598csv9/1484720/1492403',\n",
       " '598csv9/1484720/1492403',\n",
       " '598csv9/1484720/1492403',\n",
       " '598csv9/1484746/1496681',\n",
       " '598csv9/1484746/1496681',\n",
       " '598csv9/1484746/1496681',\n",
       " '598csv9/1484723/1492728',\n",
       " '598csv9/1484723/1492728',\n",
       " '598csv9/1484723/1492728',\n",
       " '598csv9/1484720/1492412',\n",
       " '598csv9/1484720/1492412',\n",
       " '598csv9/1484720/1492412',\n",
       " '598csv9/1484719/1492243',\n",
       " '598csv9/1484719/1492243',\n",
       " '598csv9/1484719/1492243',\n",
       " '598csv9/1484738/1494635',\n",
       " '598csv9/1484738/1494635',\n",
       " '598csv9/1484738/1494635',\n",
       " '598csv9/1484755/1500157',\n",
       " '598csv9/1484755/1500157',\n",
       " '598csv9/1484755/1500157',\n",
       " '598csv9/1484738/1494634',\n",
       " '598csv9/1484738/1494634',\n",
       " '598csv9/1484738/1494634',\n",
       " '598csv9/1484725/1493036',\n",
       " '598csv9/1484725/1493036',\n",
       " '598csv9/1484725/1493036',\n",
       " '598csv9/1484736/1494403',\n",
       " '598csv9/1484736/1494403',\n",
       " '598csv9/1484736/1494403',\n",
       " '598csv9/1484728/1493383',\n",
       " '598csv9/1484728/1493383',\n",
       " '598csv9/1484728/1493383',\n",
       " '598csv9/1484729/1493457',\n",
       " '598csv9/1484729/1493457',\n",
       " '598csv9/1484729/1493457',\n",
       " '598csv9/1484718/1492158',\n",
       " '598csv9/1484718/1492158',\n",
       " '598csv9/1484718/1492158',\n",
       " '598csv9/1484753/1499921',\n",
       " '598csv9/1484753/1499921',\n",
       " '598csv9/1484753/1499921',\n",
       " '598csv9/1484752/1499772',\n",
       " '598csv9/1484752/1499772',\n",
       " '598csv9/1484752/1499772',\n",
       " '598csv9/1484720/1492403',\n",
       " '598csv9/1484720/1492403',\n",
       " '598csv9/1484720/1492403',\n",
       " '598csv9/1484746/1496681',\n",
       " '598csv9/1484746/1496681',\n",
       " '598csv9/1484746/1496681',\n",
       " '598csv9/1484723/1492728',\n",
       " '598csv9/1484723/1492728',\n",
       " '598csv9/1484723/1492728',\n",
       " '598csv9/1484720/1492412',\n",
       " '598csv9/1484720/1492412',\n",
       " '598csv9/1484720/1492412',\n",
       " '598csv9/1484719/1492243',\n",
       " '598csv9/1484719/1492243',\n",
       " '598csv9/1484719/1492243',\n",
       " '598csv9/1484738/1494635',\n",
       " '598csv9/1484738/1494635',\n",
       " '598csv9/1484738/1494635',\n",
       " '598csv9/1484755/1500157',\n",
       " '598csv9/1484755/1500157',\n",
       " '598csv9/1484755/1500157',\n",
       " '598csv9/1484738/1494634',\n",
       " '598csv9/1484738/1494634',\n",
       " '598csv9/1484738/1494634',\n",
       " '598csv9/1484725/1493036',\n",
       " '598csv9/1484725/1493036',\n",
       " '598csv9/1484725/1493036',\n",
       " '598csv9/1484736/1494403',\n",
       " '598csv9/1484736/1494403',\n",
       " '598csv9/1484736/1494403',\n",
       " '598csv9/1484728/1493383',\n",
       " '598csv9/1484728/1493383',\n",
       " '598csv9/1484728/1493383',\n",
       " '598csv9/1484729/1493457',\n",
       " '598csv9/1484729/1493457',\n",
       " '598csv9/1484729/1493457',\n",
       " '598csv9/1484718/1492158',\n",
       " '598csv9/1484718/1492158',\n",
       " '598csv9/1484718/1492158',\n",
       " '598csv9/1484753/1499921',\n",
       " '598csv9/1484753/1499921',\n",
       " '598csv9/1484753/1499921',\n",
       " '598csv9/1484752/1499772',\n",
       " '598csv9/1484752/1499772',\n",
       " '598csv9/1484752/1499772',\n",
       " '598csv9/1484720/1492403',\n",
       " '598csv9/1484720/1492403',\n",
       " '598csv9/1484720/1492403',\n",
       " '598csv9/1484746/1496681',\n",
       " '598csv9/1484746/1496681',\n",
       " '598csv9/1484746/1496681',\n",
       " '598csv9/1484723/1492728',\n",
       " '598csv9/1484723/1492728',\n",
       " '598csv9/1484723/1492728',\n",
       " '598csv9/1484720/1492412',\n",
       " '598csv9/1484720/1492412',\n",
       " '598csv9/1484720/1492412',\n",
       " '598csv9/1484719/1492243',\n",
       " '598csv9/1484719/1492243',\n",
       " '598csv9/1484719/1492243',\n",
       " '598csv9/1484738/1494635',\n",
       " '598csv9/1484738/1494635',\n",
       " '598csv9/1484738/1494635',\n",
       " '598csv9/1484755/1500157',\n",
       " '598csv9/1484755/1500157',\n",
       " '598csv9/1484755/1500157',\n",
       " '598csv9/1484738/1494634',\n",
       " '598csv9/1484738/1494634',\n",
       " '598csv9/1484738/1494634',\n",
       " '598csv9/1484725/1493036',\n",
       " '598csv9/1484725/1493036',\n",
       " '598csv9/1484725/1493036',\n",
       " '598csv9/1484736/1494403',\n",
       " '598csv9/1484736/1494403',\n",
       " '598csv9/1484736/1494403',\n",
       " '598csv9/1484728/1493383',\n",
       " '598csv9/1484728/1493383',\n",
       " '598csv9/1484728/1493383',\n",
       " '598csv9/1484729/1493457',\n",
       " '598csv9/1484729/1493457',\n",
       " '598csv9/1484729/1493457',\n",
       " '598csv9/1484718/1492158',\n",
       " '598csv9/1484718/1492158',\n",
       " '598csv9/1484718/1492158',\n",
       " '598csv9/1484753/1499921',\n",
       " '598csv9/1484753/1499921',\n",
       " '598csv9/1484753/1499921',\n",
       " '598csv9/1484752/1499772',\n",
       " '598csv9/1484752/1499772',\n",
       " '598csv9/1484752/1499772',\n",
       " '598csv9/1484720/1492403',\n",
       " '598csv9/1484720/1492403',\n",
       " '598csv9/1484720/1492403',\n",
       " '598csv9/1484746/1496681',\n",
       " '598csv9/1484746/1496681',\n",
       " '598csv9/1484746/1496681',\n",
       " '598csv9/1484723/1492728',\n",
       " '598csv9/1484723/1492728',\n",
       " '598csv9/1484723/1492728',\n",
       " '598csv9/1484720/1492412',\n",
       " '598csv9/1484720/1492412',\n",
       " '598csv9/1484720/1492412',\n",
       " '598csv9/1484719/1492243',\n",
       " '598csv9/1484719/1492243',\n",
       " '598csv9/1484719/1492243',\n",
       " '598csv9/1484738/1494635',\n",
       " '598csv9/1484738/1494635',\n",
       " '598csv9/1484738/1494635',\n",
       " '598csv9/1484755/1500157',\n",
       " '598csv9/1484755/1500157',\n",
       " '598csv9/1484755/1500157',\n",
       " '598csv9/1484738/1494634',\n",
       " '598csv9/1484738/1494634',\n",
       " '598csv9/1484738/1494634',\n",
       " '598csv9/1484725/1493036',\n",
       " '598csv9/1484725/1493036',\n",
       " '598csv9/1484725/1493036',\n",
       " '598csv9/1484736/1494403',\n",
       " '598csv9/1484736/1494403',\n",
       " '598csv9/1484736/1494403',\n",
       " '598csv9/1484728/1493383',\n",
       " '598csv9/1484728/1493383',\n",
       " '598csv9/1484728/1493383',\n",
       " '598csv9/1484729/1493457',\n",
       " '598csv9/1484729/1493457',\n",
       " '598csv9/1484729/1493457',\n",
       " '598csv9/1484718/1492158',\n",
       " '598csv9/1484718/1492158',\n",
       " '598csv9/1484718/1492158',\n",
       " '598csv9/1484753/1499921',\n",
       " '598csv9/1484753/1499921',\n",
       " '598csv9/1484753/1499921',\n",
       " '598csv9/1484752/1499772',\n",
       " '598csv9/1484752/1499772',\n",
       " '598csv9/1484752/1499772',\n",
       " '598csv9/1484720/1492403',\n",
       " '598csv9/1484720/1492403',\n",
       " '598csv9/1484720/1492403',\n",
       " '598csv9/1484746/1496681',\n",
       " '598csv9/1484746/1496681',\n",
       " '598csv9/1484746/1496681',\n",
       " '598csv9/1484723/1492728',\n",
       " '598csv9/1484723/1492728',\n",
       " '598csv9/1484723/1492728',\n",
       " '598csv9/1484720/1492412',\n",
       " '598csv9/1484720/1492412',\n",
       " '598csv9/1484720/1492412',\n",
       " '598csv9/1484719/1492243',\n",
       " '598csv9/1484719/1492243',\n",
       " '598csv9/1484719/1492243',\n",
       " '598csv9/1484738/1494635',\n",
       " '598csv9/1484738/1494635',\n",
       " '598csv9/1484738/1494635',\n",
       " '598csv9/1484755/1500157',\n",
       " '598csv9/1484755/1500157',\n",
       " '598csv9/1484755/1500157',\n",
       " '598csv9/1484738/1494634',\n",
       " '598csv9/1484738/1494634',\n",
       " '598csv9/1484738/1494634',\n",
       " '598csv9/1484725/1493036',\n",
       " '598csv9/1484725/1493036',\n",
       " '598csv9/1484725/1493036',\n",
       " '598csv9/1484736/1494403',\n",
       " '598csv9/1484736/1494403',\n",
       " '598csv9/1484736/1494403',\n",
       " '598csv9/1484728/1493383',\n",
       " '598csv9/1484728/1493383',\n",
       " '598csv9/1484728/1493383',\n",
       " '598csv9/1484729/1493457',\n",
       " '598csv9/1484729/1493457',\n",
       " '598csv9/1484729/1493457',\n",
       " '598csv9/1484718/1492158',\n",
       " '598csv9/1484718/1492158',\n",
       " '598csv9/1484718/1492158',\n",
       " '598csv9/1484753/1499921',\n",
       " '598csv9/1484753/1499921',\n",
       " '598csv9/1484753/1499921',\n",
       " '598csv9/1484752/1499772',\n",
       " '598csv9/1484752/1499772',\n",
       " '598csv9/1484752/1499772',\n",
       " '598csv9/1484720/1492403',\n",
       " '598csv9/1484720/1492403',\n",
       " '598csv9/1484720/1492403',\n",
       " '598csv9/1484746/1496681',\n",
       " '598csv9/1484746/1496681',\n",
       " '598csv9/1484746/1496681',\n",
       " '598csv9/1484723/1492728',\n",
       " '598csv9/1484723/1492728',\n",
       " '598csv9/1484723/1492728',\n",
       " '598csv9/1484720/1492412',\n",
       " '598csv9/1484720/1492412',\n",
       " '598csv9/1484720/1492412',\n",
       " '598csv9/1484719/1492243',\n",
       " '598csv9/1484719/1492243',\n",
       " '598csv9/1484719/1492243',\n",
       " '598csv9/1484738/1494635',\n",
       " '598csv9/1484738/1494635',\n",
       " '598csv9/1484738/1494635',\n",
       " '598csv9/1484755/1500157',\n",
       " '598csv9/1484755/1500157',\n",
       " '598csv9/1484755/1500157',\n",
       " '598csv9/1484738/1494634',\n",
       " '598csv9/1484738/1494634',\n",
       " '598csv9/1484738/1494634',\n",
       " '598csv9/1484725/1493036',\n",
       " '598csv9/1484725/1493036',\n",
       " '598csv9/1484725/1493036',\n",
       " '598csv9/1484736/1494403',\n",
       " '598csv9/1484736/1494403',\n",
       " '598csv9/1484736/1494403',\n",
       " '598csv9/1484728/1493383',\n",
       " '598csv9/1484728/1493383',\n",
       " '598csv9/1484728/1493383',\n",
       " '598csv9/1484729/1493457',\n",
       " '598csv9/1484729/1493457',\n",
       " '598csv9/1484729/1493457',\n",
       " '598csv9/1484718/1492158',\n",
       " '598csv9/1484718/1492158',\n",
       " '598csv9/1484718/1492158',\n",
       " '598csv9/1484753/1499921',\n",
       " '598csv9/1484753/1499921',\n",
       " '598csv9/1484753/1499921',\n",
       " '598csv9/1484752/1499772',\n",
       " '598csv9/1484752/1499772',\n",
       " '598csv9/1484752/1499772',\n",
       " '598csv9/1484720/1492403',\n",
       " '598csv9/1484720/1492403',\n",
       " '598csv9/1484720/1492403',\n",
       " '598csv9/1484746/1496681',\n",
       " '598csv9/1484746/1496681',\n",
       " '598csv9/1484746/1496681',\n",
       " '598csv9/1484723/1492728',\n",
       " '598csv9/1484723/1492728',\n",
       " '598csv9/1484723/1492728']"
      ]
     },
     "execution_count": 314,
     "metadata": {},
     "output_type": "execute_result"
    }
   ],
   "source": [
    "pathes"
   ]
  },
  {
   "cell_type": "code",
   "execution_count": 303,
   "metadata": {},
   "outputs": [
    {
     "data": {
      "text/plain": [
       "tuple"
      ]
     },
     "execution_count": 303,
     "metadata": {},
     "output_type": "execute_result"
    }
   ],
   "source": [
    "type(s3[0])"
   ]
  },
  {
   "cell_type": "code",
   "execution_count": 277,
   "metadata": {},
   "outputs": [
    {
     "data": {
      "text/plain": [
       "['1484719_1492267',\n",
       " '1484756_1500240',\n",
       " '1484752_1499783',\n",
       " '1484743_1495681',\n",
       " '1484719_1492267',\n",
       " '1484756_1500240',\n",
       " '1484752_1499783',\n",
       " '1484743_1495681',\n",
       " '1484719_1492267',\n",
       " '1484756_1500240',\n",
       " '1484752_1499783',\n",
       " '1484743_1495681',\n",
       " '1484719_1492267',\n",
       " '1484756_1500240',\n",
       " '1484752_1499783',\n",
       " '1484743_1495681',\n",
       " '1484719_1492267',\n",
       " '1484756_1500240',\n",
       " '1484752_1499783',\n",
       " '1484743_1495681',\n",
       " '1484719_1492267',\n",
       " '1484756_1500240',\n",
       " '1484752_1499783',\n",
       " '1484743_1495681',\n",
       " '1484719_1492267',\n",
       " '1484756_1500240',\n",
       " '1484752_1499783',\n",
       " '1484743_1495681',\n",
       " '1484719_1492267',\n",
       " '1484756_1500240',\n",
       " '1484752_1499783',\n",
       " '1484743_1495681',\n",
       " '1484719_1492267',\n",
       " '1484756_1500240',\n",
       " '1484752_1499783',\n",
       " '1484743_1495681',\n",
       " '1484719_1492267',\n",
       " '1484756_1500240',\n",
       " '1484752_1499783',\n",
       " '1484743_1495681',\n",
       " '1484719_1492267',\n",
       " '1484756_1500240',\n",
       " '1484752_1499783',\n",
       " '1484743_1495681',\n",
       " '1484719_1492267',\n",
       " '1484756_1500240',\n",
       " '1484752_1499783',\n",
       " '1484743_1495681',\n",
       " '1484719_1492267',\n",
       " '1484756_1500240',\n",
       " '1484752_1499783',\n",
       " '1484743_1495681',\n",
       " '1484719_1492267',\n",
       " '1484756_1500240',\n",
       " '1484752_1499783',\n",
       " '1484743_1495681',\n",
       " '1484719_1492267',\n",
       " '1484756_1500240',\n",
       " '1484752_1499783',\n",
       " '1484743_1495681',\n",
       " '1484719_1492267',\n",
       " '1484756_1500240',\n",
       " '1484752_1499783',\n",
       " '1484743_1495681']"
      ]
     },
     "execution_count": 277,
     "metadata": {},
     "output_type": "execute_result"
    }
   ],
   "source": [
    "pathl"
   ]
  },
  {
   "cell_type": "code",
   "execution_count": null,
   "metadata": {},
   "outputs": [],
   "source": [
    "df[df['model'].str.match('Mac')]"
   ]
  },
  {
   "cell_type": "code",
   "execution_count": 315,
   "metadata": {},
   "outputs": [],
   "source": [
    "from time import time\n",
    "from functools import wraps\n",
    "\n",
    "def simple_time_tracker(log_fun):\n",
    "    def _simple_time_tracker(fn):\n",
    "        @wraps(fn)\n",
    "        def wrapped_fn(*args, **kwargs):\n",
    "            start_time = time()\n",
    "\n",
    "            try:\n",
    "                result = fn(*args, **kwargs)\n",
    "            finally:\n",
    "                elapsed_time = time() - start_time\n",
    "\n",
    "                # log the result\n",
    "                log_fun({\n",
    "                    'function_name': fn.__name__,\n",
    "                    'total_time': elapsed_time,\n",
    "                })\n",
    "                \n",
    "            return result\n",
    "\n",
    "        return wrapped_fn\n",
    "    return _simple_time_tracker"
   ]
  },
  {
   "cell_type": "code",
   "execution_count": 316,
   "metadata": {},
   "outputs": [],
   "source": [
    "\n",
    "def _log(message):\n",
    "    print('[SimpleTimeTracker] {function_name} {total_time:.3f}'.format(**message))\n",
    "@simple_time_tracker(_log)\n",
    "def fun():\n",
    "    np.sum(np.zeros(1000000)/np.zeros(1000000))"
   ]
  },
  {
   "cell_type": "code",
   "execution_count": null,
   "metadata": {},
   "outputs": [],
   "source": []
  }
 ],
 "metadata": {
  "kernelspec": {
   "display_name": "Python 3",
   "language": "python",
   "name": "python3"
  },
  "language_info": {
   "codemirror_mode": {
    "name": "ipython",
    "version": 3
   },
   "file_extension": ".py",
   "mimetype": "text/x-python",
   "name": "python",
   "nbconvert_exporter": "python",
   "pygments_lexer": "ipython3",
   "version": "3.8.5"
  }
 },
 "nbformat": 4,
 "nbformat_minor": 4
}
