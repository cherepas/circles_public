{
 "cells": [
  {
   "cell_type": "code",
   "execution_count": 1,
   "metadata": {},
   "outputs": [],
   "source": [
    "import numpy as np\n",
    "import matplotlib.pyplot as plt\n",
    "import matplotlib.gridspec as gridspec\n",
    "# The following import configures Matplotlib for 3D plotting.\n",
    "from mpl_toolkits.mplot3d import Axes3D\n",
    "from scipy.special import sph_harm\n",
    "import torch.jit._builtins as tjb\n",
    "from scipy.special import lpmv\n",
    "import torch"
   ]
  },
  {
   "cell_type": "code",
   "execution_count": 2,
   "metadata": {},
   "outputs": [
    {
     "ename": "ValueError",
     "evalue": "factorial() only accepts integral values",
     "output_type": "error",
     "traceback": [
      "\u001b[1;31m---------------------------------------------------------------------------\u001b[0m",
      "\u001b[1;31mValueError\u001b[0m                                Traceback (most recent call last)",
      "\u001b[1;32m<ipython-input-2-e62333515186>\u001b[0m in \u001b[0;36m<module>\u001b[1;34m\u001b[0m\n\u001b[1;32m----> 1\u001b[1;33m \u001b[0mtjb\u001b[0m\u001b[1;33m.\u001b[0m\u001b[0mmath\u001b[0m\u001b[1;33m.\u001b[0m\u001b[0mfactorial\u001b[0m\u001b[1;33m(\u001b[0m\u001b[1;36m1.5\u001b[0m\u001b[1;33m)\u001b[0m\u001b[1;33m\u001b[0m\u001b[1;33m\u001b[0m\u001b[0m\n\u001b[0m",
      "\u001b[1;31mValueError\u001b[0m: factorial() only accepts integral values"
     ]
    }
   ],
   "source": [
    "tjb.math.factorial(1.5)"
   ]
  },
  {
   "cell_type": "code",
   "execution_count": 3,
   "metadata": {},
   "outputs": [
    {
     "data": {
      "text/plain": [
       "4"
      ]
     },
     "execution_count": 3,
     "metadata": {},
     "output_type": "execute_result"
    }
   ],
   "source": [
    "range(-5,5)[9]"
   ]
  },
  {
   "cell_type": "code",
   "execution_count": 4,
   "metadata": {},
   "outputs": [],
   "source": [
    "a = [0, 1, 2, 3]"
   ]
  },
  {
   "cell_type": "code",
   "execution_count": 5,
   "metadata": {},
   "outputs": [],
   "source": [
    "coef = [116.40520943, -4.51331063,  -1.22070776, 2.53049672, 1.25615844,\\\n",
    "   1.59720443,  28.4781262,   -0.33878004,  -4.02484515]"
   ]
  },
  {
   "cell_type": "code",
   "execution_count": 6,
   "metadata": {},
   "outputs": [],
   "source": [
    "coef = [ 1.1641e+02, -4.5133e+00, -1.2207e+00,  2.5304e+00,  1.2562e+00,\n",
    "         1.5972e+00,  2.8478e+01, -3.3876e-01, -4.0248e+00, -1.3099e+00,\n",
    "         8.2582e-01, -7.3362e-01,  2.0641e+00, -1.2145e+00, -7.4109e-01,\n",
    "        -2.9851e+00,  1.5615e-01, -5.8619e-01,  6.8383e-01, -6.0210e-01,\n",
    "         9.3158e+00,  6.1056e-01, -1.1432e+00, -1.3014e+00,  3.0312e+00,\n",
    "         2.4074e+00,  1.2658e-01, -6.6127e-01, -4.6614e-01,  7.0604e-01,\n",
    "         1.0466e+00, -1.1268e+00, -6.1773e-01, -1.6800e+00, -1.2789e+00,\n",
    "        -6.3853e-01, -6.1669e-01, -6.9443e-01, -5.7530e-01, -3.4175e-01,\n",
    "         6.8189e-01, -8.1126e-01,  3.3709e+00,  1.5084e-01, -2.1958e-01,\n",
    "        -8.6612e-01,  1.7996e+00, -2.5033e-01, -9.3355e-01, -1.9907e-01,\n",
    "         2.7847e-01,  1.4560e+00,  4.2285e-01, -6.0106e-01, -5.3946e-01,\n",
    "         5.1205e-01,  2.7113e-01, -4.6973e-01, -4.3039e-01, -1.1173e+00,\n",
    "        -8.7920e-01, -2.3119e-01,  8.4185e-02, -8.6129e-01, -1.0549e-01,\n",
    "        -9.1023e-02, -1.6747e-01, -4.9338e-01, -2.8680e-01, -6.6550e-02,\n",
    "         2.4039e-01, -1.4973e-01,  1.1219e+00,  5.2580e-02, -1.4318e-01,\n",
    "        -3.6527e-01,  6.9411e-01,  1.9737e-01, -4.7317e-01,  3.5967e-01,\n",
    "        -8.9395e-03,  1.1817e+00,  5.4227e-02, -1.4636e-02,  1.9901e-02,\n",
    "         9.9262e-01,  2.6778e-01, -4.8874e-01, -1.2356e-01,  7.6717e-02,\n",
    "        -2.5340e-02, -3.0001e-01, -1.8780e-01, -7.3781e-01, -3.5893e-01,\n",
    "        -3.3195e-01,  9.2400e-02, -4.8071e-01, -4.3719e-01,  2.1022e-01,\n",
    "        -1.2973e-02, -3.0289e-01, -2.5603e-01, -2.1053e-01, -1.9185e-01,\n",
    "        -3.0926e-01, -6.1280e-02,  2.9697e-03, -1.0761e-01, -7.3040e-02,\n",
    "         3.3188e-01,  2.8883e-02, -1.3287e-01, -2.3420e-01,  3.0887e-01,\n",
    "         3.0193e-01, -1.7764e-01,  3.4344e-01,  6.0186e-02,  2.5114e-02,\n",
    "        -9.2880e-02, -4.5466e-01,  5.7405e-04,  4.4702e-01,  1.0218e-01,\n",
    "         1.1584e-01,  5.5525e-02,  7.9781e-01,  1.4135e-01, -3.5462e-01,\n",
    "         1.4689e-01, -5.8344e-02, -8.0402e-02, -2.0618e-01, -7.7795e-02,\n",
    "        -4.9197e-01, -2.5086e-01, -1.9851e-01,  1.2964e-02, -1.1765e-01,\n",
    "        -2.2999e-01,  1.0492e-02,  2.5746e-01, -2.0144e-01, -5.6196e-01,\n",
    "        -1.9659e-01,  8.0035e-02, -5.6596e-02, -6.8007e-02, -1.9490e-01,\n",
    "        -2.2006e-01, -1.6214e-01, -1.1599e-02, -2.1521e-02, -1.9043e-01,\n",
    "         1.4375e-02,  1.8555e-01,  6.4625e-02, -7.8023e-02, -7.9174e-02,\n",
    "         1.4700e-01,  2.5092e-01, -5.9899e-02,  1.8659e-01, -4.9380e-02,\n",
    "         1.7934e-01,  1.3203e-01,  2.6821e-01, -1.6435e-02,  1.0972e-01,\n",
    "         1.9658e-01, -8.5247e-02,  1.5100e-01,  1.2307e-01,  9.8064e-02,\n",
    "         1.0099e-01, -1.0648e-02,  5.6942e-01,  1.2121e-02, -1.7664e-01,\n",
    "         2.2639e-01, -1.4936e-01, -7.9067e-02, -1.8780e-01,  1.3491e-03,\n",
    "        -3.0808e-01, -1.3369e-02, -1.1402e-01, -1.2221e-02,  2.0695e-02,\n",
    "        -1.8247e-01, -9.2898e-02,  1.7584e-01, -6.7241e-03,  5.0808e-02,\n",
    "         1.4643e-01,  4.1559e-02, -1.7706e-02, -3.3159e-01, -2.3859e-02,\n",
    "         4.3258e-02,  1.0781e-01, -1.0679e-02, -1.3682e-01, -1.4469e-01,\n",
    "        -4.9783e-02,  4.1417e-02, -3.6952e-02, -1.7025e-01,  7.3019e-02,\n",
    "         2.1862e-01,  1.3835e-02, -2.2306e-02, -2.2884e-02,  8.1060e-02,\n",
    "         2.3645e-01, -3.8986e-02,  5.7291e-02, -7.2268e-02,  9.7338e-02,\n",
    "         7.4063e-02,  1.7262e-01,  3.3656e-02, -4.9947e-02, -4.7586e-02,\n",
    "        -9.5339e-02, -1.1102e-01,  3.8455e-02,  1.2277e-01, -2.4097e-02,\n",
    "         1.6591e-01,  5.5874e-03,  1.1047e-01,  5.0822e-02,  1.8274e-03,\n",
    "         3.5516e-01,  2.3687e-02, -4.5473e-02,  2.5817e-01, -1.2863e-01,\n",
    "        -8.1075e-02, -9.1108e-02,  8.4395e-03, -1.3322e-01,  6.7577e-02,\n",
    "        -7.5107e-02, -4.8557e-03,  4.6515e-02, -1.2675e-01, -1.6499e-01,\n",
    "         1.5687e-01,  3.5106e-02, -7.9514e-02,  1.5128e-01, -8.7205e-03,\n",
    "        -1.3081e-01, -1.8644e-01, -6.7976e-03,  3.5424e-02, -6.7019e-02,\n",
    "        -1.3097e-01, -4.6636e-02, -1.9459e-02,  3.5790e-02, -3.2224e-02,\n",
    "        -1.0063e-01, -1.9750e-01,  1.3894e-02,  7.6855e-03, -1.8925e-03,\n",
    "        -1.6152e-01,  1.2058e-01,  2.2272e-01, -4.7815e-02, -1.3956e-02,\n",
    "        -2.6888e-02,  6.7284e-02,  2.0101e-01, -2.9138e-02,  1.2722e-02,\n",
    "        -1.0901e-01,  2.0890e-03, -4.0376e-02,  4.5695e-02, -6.1598e-03,\n",
    "        -1.5801e-01,  3.1907e-02,  2.2115e-02,  9.5621e-02,  1.8182e-01,\n",
    "         7.7823e-02, -2.2491e-02, -3.4016e-02,  2.6931e-02,  1.7254e-02,\n",
    "        -6.4505e-02,  1.0128e-01,  3.3644e-03,  5.4828e-02, -1.2063e-04,\n",
    "         1.0076e-02,  1.9526e-01,  3.1070e-02,  2.4672e-02,  1.9069e-01,\n",
    "        -5.6555e-02, -6.0717e-02, -3.4192e-02,  2.3300e-02, -1.4590e-02,\n",
    "         8.0165e-02, -3.8606e-02, -7.0129e-03,  6.3564e-02, -8.7510e-02,\n",
    "        -7.5095e-02,  1.3444e-01,  1.2013e-01, -1.0361e-01,  6.4733e-02,\n",
    "        -2.0260e-02, -1.3279e-01,  4.9085e-02,  8.8889e-02,  1.1069e-01,\n",
    "        -2.7441e-02, -9.1138e-03,  5.5724e-02, -2.0744e-02, -1.5666e-01,\n",
    "        -5.7550e-02, -4.2030e-03, -3.5733e-02,  5.5772e-03, -5.5485e-02,\n",
    "        -5.8257e-02, -1.3567e-01,  2.6436e-02, -1.8547e-02,  2.4980e-02,\n",
    "        -8.9152e-02,  1.2780e-01,  1.4757e-01, -8.1553e-02, -1.2290e-02,\n",
    "        -2.2310e-02,  9.5969e-02,  1.5176e-01,  1.8489e-02, -4.7094e-02,\n",
    "        -7.4854e-02, -2.6153e-02, -4.7675e-02, -5.2279e-03, -6.2720e-03,\n",
    "        -4.0596e-02, -7.9191e-02, -1.3673e-02, -1.9239e-02,  1.3131e-02,\n",
    "        -7.8643e-02, -4.8531e-03,  3.4483e-02,  8.3510e-02, -1.2165e-02,\n",
    "        -5.2699e-02, -1.0540e-02,  2.7745e-02, -3.0627e-02, -1.1753e-01,\n",
    "         1.2495e-01,  6.6750e-02,  4.9453e-02,  2.5902e-02,  3.2951e-02,\n",
    "         1.3119e-01,  9.5458e-03,  8.9066e-02,  1.7216e-01,  7.4870e-02,\n",
    "        -8.7194e-02,  8.0267e-04, -4.5847e-04,  2.8535e-02,  8.0987e-02,\n",
    "        -2.5662e-02, -8.2419e-02,  2.8537e-02, -5.5442e-02, -4.8939e-02,\n",
    "         1.9513e-01,  1.9561e-01, -2.5703e-02, -4.4817e-02,  1.3413e-01,\n",
    "        -4.8100e-02, -3.9752e-02,  3.4518e-02, -7.8486e-02, -8.6585e-02,\n",
    "        -1.7573e-01, -1.1413e-01, -1.6931e-02, -9.0406e-02,  1.2031e-02,\n",
    "         1.2222e-01, -8.8122e-02, -1.2949e-01, -3.6208e-02,  5.3222e-02,\n",
    "         1.8399e-02,  1.5750e-03, -1.2892e-01, -9.5873e-02, -2.3843e-01,\n",
    "         5.8401e-02, -1.6195e-02,  7.5223e-02, -3.2249e-02,  1.9260e-01,\n",
    "         1.4213e-01, -9.9569e-02, -5.6285e-02, -4.0349e-02,  1.4476e-01,\n",
    "         2.0668e-01,  3.8208e-02, -4.9936e-02, -8.4095e-02, -2.5114e-02,\n",
    "        -7.7722e-02, -1.9068e-02,  1.8543e-02,  1.2647e-02, -1.4143e-01,\n",
    "        -2.9373e-02,  2.7103e-02, -2.3505e-03,  2.4784e-02, -4.3243e-02,\n",
    "        -8.5931e-02]"
   ]
  },
  {
   "cell_type": "code",
   "execution_count": 7,
   "metadata": {},
   "outputs": [],
   "source": [
    "#coef = np.genfromtxt('D:/seva/598test/F_N2output', delimiter = ',')"
   ]
  },
  {
   "cell_type": "code",
   "execution_count": 8,
   "metadata": {},
   "outputs": [],
   "source": [
    "#coef = np.array(coef)\n",
    "#coef.shape"
   ]
  },
  {
   "cell_type": "code",
   "execution_count": 9,
   "metadata": {},
   "outputs": [
    {
     "ename": "RuntimeError",
     "evalue": "Found no NVIDIA driver on your system. Please check that you have an NVIDIA GPU and installed a driver from http://www.nvidia.com/Download/index.aspx",
     "output_type": "error",
     "traceback": [
      "\u001b[1;31m---------------------------------------------------------------------------\u001b[0m",
      "\u001b[1;31mRuntimeError\u001b[0m                              Traceback (most recent call last)",
      "\u001b[1;32m<ipython-input-9-82046355751c>\u001b[0m in \u001b[0;36m<module>\u001b[1;34m\u001b[0m\n\u001b[0;32m      2\u001b[0m \u001b[0mdevice\u001b[0m \u001b[1;33m=\u001b[0m \u001b[0mtorch\u001b[0m\u001b[1;33m.\u001b[0m\u001b[0mdevice\u001b[0m\u001b[1;33m(\u001b[0m\u001b[1;34m'cuda:0'\u001b[0m\u001b[1;33m)\u001b[0m\u001b[1;33m\u001b[0m\u001b[1;33m\u001b[0m\u001b[0m\n\u001b[0;32m      3\u001b[0m \u001b[1;31m#coef = coef.to(device)\u001b[0m\u001b[1;33m\u001b[0m\u001b[1;33m\u001b[0m\u001b[1;33m\u001b[0m\u001b[0m\n\u001b[1;32m----> 4\u001b[1;33m \u001b[0mcoef\u001b[0m \u001b[1;33m=\u001b[0m \u001b[0mcoef\u001b[0m\u001b[1;33m.\u001b[0m\u001b[0mcuda\u001b[0m\u001b[1;33m(\u001b[0m\u001b[1;33m)\u001b[0m\u001b[1;33m\u001b[0m\u001b[1;33m\u001b[0m\u001b[0m\n\u001b[0m\u001b[0;32m      5\u001b[0m \u001b[0mcoef\u001b[0m\u001b[1;33m.\u001b[0m\u001b[0mdevice\u001b[0m\u001b[1;33m\u001b[0m\u001b[1;33m\u001b[0m\u001b[0m\n",
      "\u001b[1;32mD:\\dprogramms\\anaconda\\envs\\shreg\\lib\\site-packages\\torch\\cuda\\__init__.py\u001b[0m in \u001b[0;36m_lazy_init\u001b[1;34m()\u001b[0m\n\u001b[0;32m    170\u001b[0m         \u001b[1;31m# This function throws if there's a driver initialization error, no GPUs\u001b[0m\u001b[1;33m\u001b[0m\u001b[1;33m\u001b[0m\u001b[1;33m\u001b[0m\u001b[0m\n\u001b[0;32m    171\u001b[0m         \u001b[1;31m# are found or any other error occurs\u001b[0m\u001b[1;33m\u001b[0m\u001b[1;33m\u001b[0m\u001b[1;33m\u001b[0m\u001b[0m\n\u001b[1;32m--> 172\u001b[1;33m         \u001b[0mtorch\u001b[0m\u001b[1;33m.\u001b[0m\u001b[0m_C\u001b[0m\u001b[1;33m.\u001b[0m\u001b[0m_cuda_init\u001b[0m\u001b[1;33m(\u001b[0m\u001b[1;33m)\u001b[0m\u001b[1;33m\u001b[0m\u001b[1;33m\u001b[0m\u001b[0m\n\u001b[0m\u001b[0;32m    173\u001b[0m         \u001b[1;31m# Some of the queued calls may reentrantly call _lazy_init();\u001b[0m\u001b[1;33m\u001b[0m\u001b[1;33m\u001b[0m\u001b[1;33m\u001b[0m\u001b[0m\n\u001b[0;32m    174\u001b[0m         \u001b[1;31m# we need to just return without initializing in that case.\u001b[0m\u001b[1;33m\u001b[0m\u001b[1;33m\u001b[0m\u001b[1;33m\u001b[0m\u001b[0m\n",
      "\u001b[1;31mRuntimeError\u001b[0m: Found no NVIDIA driver on your system. Please check that you have an NVIDIA GPU and installed a driver from http://www.nvidia.com/Download/index.aspx"
     ]
    }
   ],
   "source": [
    "coef = torch.tensor(coef)\n",
    "device = torch.device('cuda:0')\n",
    "#coef = coef.to(device)\n",
    "coef = coef.cuda()\n",
    "coef.device"
   ]
  },
  {
   "cell_type": "code",
   "execution_count": 10,
   "metadata": {},
   "outputs": [],
   "source": [
    "# plt.rc('text', usetex=True)\n",
    "\n",
    "# # Grids of polar and azimuthal angles\n",
    "# theta = np.linspace(0, np.pi, 100)\n",
    "# phi = np.linspace(0, 2*np.pi, 100)\n",
    "# #r = np.linspace(-1, 1, 100)\n",
    "# # Create a 2-D meshgrid of (theta, phi) angles.\n",
    "# theta, phi = np.meshgrid(theta, phi)\n",
    "# # Calculate the Cartesian coordinates of each point in the mesh.\n",
    "# xyz = np.array([np.sin(theta) * np.sin(phi),\n",
    "#                 np.sin(theta) * np.cos(phi),\n",
    "#                 np.cos(theta)])"
   ]
  },
  {
   "cell_type": "code",
   "execution_count": 11,
   "metadata": {},
   "outputs": [],
   "source": [
    "xyz = []"
   ]
  },
  {
   "cell_type": "code",
   "execution_count": 25,
   "metadata": {},
   "outputs": [],
   "source": [
    "plt.rc('text', usetex=True)\n",
    "\n",
    "# Grids of polar and azimuthal angles\n",
    "theta = torch.linspace(0, np.pi, 100)\n",
    "phi = torch.linspace(0, 2*np.pi, 100)\n",
    "#r = np.linspace(-1, 1, 100)\n",
    "# Create a 2-D meshgrid of (theta, phi) angles.\n",
    "theta, phi = torch.meshgrid(theta, phi)\n",
    "# Calculate the Cartesian coordinates of each point in the mesh.\n",
    "\n",
    "xyz = torch.zeros(3,100,100)\n",
    "for i,ar in enumerate([torch.sin(theta) * torch.sin(phi),\n",
    "                torch.sin(theta) * torch.cos(phi),\n",
    "                torch.cos(theta)]):\n",
    "    xyz[i] = ar"
   ]
  },
  {
   "cell_type": "code",
   "execution_count": 13,
   "metadata": {},
   "outputs": [],
   "source": [
    "#m, l = (3, 3)"
   ]
  },
  {
   "cell_type": "code",
   "execution_count": 14,
   "metadata": {},
   "outputs": [],
   "source": [
    "#phi.shape"
   ]
  },
  {
   "cell_type": "code",
   "execution_count": 15,
   "metadata": {},
   "outputs": [],
   "source": [
    "#theta.shape"
   ]
  },
  {
   "cell_type": "code",
   "execution_count": 16,
   "metadata": {},
   "outputs": [],
   "source": [
    "#sph_harm(m, l, phi, theta).shape"
   ]
  },
  {
   "cell_type": "code",
   "execution_count": 17,
   "metadata": {},
   "outputs": [],
   "source": [
    "#int(np.sqrt(len(coef))-1)"
   ]
  },
  {
   "cell_type": "code",
   "execution_count": 18,
   "metadata": {},
   "outputs": [],
   "source": [
    "#np.pi"
   ]
  },
  {
   "cell_type": "code",
   "execution_count": 19,
   "metadata": {},
   "outputs": [],
   "source": [
    "def tbin(n,k):\n",
    "#    print(n,k)\n",
    "    return(int(tjb.math.factorial(n)/tjb.math.factorial(k)/tjb.math.factorial(n-k)))"
   ]
  },
  {
   "cell_type": "code",
   "execution_count": 20,
   "metadata": {},
   "outputs": [
    {
     "data": {
      "text/plain": [
       "184756"
      ]
     },
     "execution_count": 20,
     "metadata": {},
     "output_type": "execute_result"
    }
   ],
   "source": [
    "tbin(20,10)"
   ]
  },
  {
   "cell_type": "code",
   "execution_count": 21,
   "metadata": {},
   "outputs": [],
   "source": [
    "#torch.tensor(1)"
   ]
  },
  {
   "cell_type": "code",
   "execution_count": 22,
   "metadata": {},
   "outputs": [],
   "source": [
    "#torch.complex(torch.tensor(0.0),torch.tensor(1.0))"
   ]
  },
  {
   "cell_type": "code",
   "execution_count": 23,
   "metadata": {},
   "outputs": [],
   "source": [
    "# m,l = 1,2\n",
    "# f = torch.sqrt(torch.tensor((2*l+1)*tjb.math.factorial(l-m)/(4*np.pi*tjb.math.factorial(l+m))))\n",
    "# f"
   ]
  },
  {
   "cell_type": "code",
   "execution_count": 19,
   "metadata": {},
   "outputs": [],
   "source": [
    "def sfarm(m,l,theta,phi):\n",
    "    ff = torch.sqrt(torch.tensor((2*l+1)*tjb.math.factorial(l-m)/(4*np.pi*tjb.math.factorial(l+m))))\n",
    "    ff = ff.cuda()\n",
    "    f = torch.complex(torch.zeros(100,100),torch.zeros(100,100))\n",
    "    f = f.cuda()\n",
    "#     P = torch.zeros(theta.shape)\n",
    "#     for k in range(m,l+1):\n",
    "#         P += (-1)**m*2**l*(1-torch.cos(theta)**2)**(m/2)*(tjb.math.factorial(k)/\\\n",
    "#              tjb.math.factorial(k-m))*(torch.cos(theta))**(k-m)*tbin(l,k)*tbin((l+k-1)/2,l)\n",
    "    P = lpmv(m,l,torch.cos(theta))\n",
    "#    print(f.shape)\n",
    "    f = ff*torch.exp(torch.complex(torch.tensor(0.0).cuda(),torch.tensor(1.0).cuda())*m*phi)\n",
    "    return(f)"
   ]
  },
  {
   "cell_type": "code",
   "execution_count": 28,
   "metadata": {},
   "outputs": [
    {
     "ename": "NameError",
     "evalue": "name 'pmv_wrap' is not defined",
     "output_type": "error",
     "traceback": [
      "\u001b[1;31m---------------------------------------------------------------------------\u001b[0m",
      "\u001b[1;31mNameError\u001b[0m                                 Traceback (most recent call last)",
      "\u001b[1;32m<ipython-input-28-826bd885e029>\u001b[0m in \u001b[0;36m<module>\u001b[1;34m\u001b[0m\n\u001b[0;32m     12\u001b[0m     \u001b[0mval\u001b[0m \u001b[1;33m*=\u001b[0m \u001b[0msqrt\u001b[0m\u001b[1;33m(\u001b[0m\u001b[0mpoch\u001b[0m\u001b[1;33m(\u001b[0m\u001b[0mn\u001b[0m \u001b[1;33m+\u001b[0m \u001b[0mm\u001b[0m \u001b[1;33m+\u001b[0m \u001b[1;36m1\u001b[0m\u001b[1;33m,\u001b[0m \u001b[1;33m-\u001b[0m\u001b[1;36m2\u001b[0m \u001b[1;33m*\u001b[0m \u001b[0mm\u001b[0m\u001b[1;33m)\u001b[0m\u001b[1;33m)\u001b[0m\u001b[1;33m\u001b[0m\u001b[1;33m\u001b[0m\u001b[0m\n\u001b[0;32m     13\u001b[0m     \u001b[0mval\u001b[0m \u001b[1;33m*=\u001b[0m \u001b[0mzexp\u001b[0m\u001b[1;33m(\u001b[0m\u001b[1;36m1j\u001b[0m \u001b[1;33m*\u001b[0m \u001b[0mm\u001b[0m \u001b[1;33m*\u001b[0m \u001b[0mtheta\u001b[0m\u001b[1;33m)\u001b[0m\u001b[1;33m\u001b[0m\u001b[1;33m\u001b[0m\u001b[0m\n\u001b[1;32m---> 14\u001b[1;33m \u001b[0msharm\u001b[0m\u001b[1;33m(\u001b[0m\u001b[0mphi\u001b[0m\u001b[1;33m,\u001b[0m \u001b[0mtheta\u001b[0m\u001b[1;33m,\u001b[0m \u001b[1;36m1\u001b[0m\u001b[1;33m)\u001b[0m\u001b[1;33m\u001b[0m\u001b[1;33m\u001b[0m\u001b[0m\n\u001b[0m",
      "\u001b[1;32m<ipython-input-28-826bd885e029>\u001b[0m in \u001b[0;36msharm\u001b[1;34m(phi, theta, m)\u001b[0m\n\u001b[0;32m      6\u001b[0m     \u001b[1;32melse\u001b[0m\u001b[1;33m:\u001b[0m\u001b[1;33m\u001b[0m\u001b[1;33m\u001b[0m\u001b[0m\n\u001b[0;32m      7\u001b[0m         \u001b[0mmp\u001b[0m \u001b[1;33m=\u001b[0m \u001b[0mm\u001b[0m\u001b[1;33m\u001b[0m\u001b[1;33m\u001b[0m\u001b[0m\n\u001b[1;32m----> 8\u001b[1;33m     \u001b[0mval\u001b[0m \u001b[1;33m=\u001b[0m \u001b[0mpmv_wrap\u001b[0m\u001b[1;33m(\u001b[0m\u001b[0mmp\u001b[0m\u001b[1;33m,\u001b[0m \u001b[0mn\u001b[0m\u001b[1;33m,\u001b[0m \u001b[0mx\u001b[0m\u001b[1;33m)\u001b[0m\u001b[1;33m\u001b[0m\u001b[1;33m\u001b[0m\u001b[0m\n\u001b[0m\u001b[0;32m      9\u001b[0m     \u001b[1;32mif\u001b[0m  \u001b[0mm\u001b[0m \u001b[1;33m<\u001b[0m \u001b[1;36m0\u001b[0m\u001b[1;33m:\u001b[0m\u001b[1;33m\u001b[0m\u001b[1;33m\u001b[0m\u001b[0m\n\u001b[0;32m     10\u001b[0m         \u001b[0mval\u001b[0m \u001b[1;33m*=\u001b[0m \u001b[0mprefactor\u001b[0m\u001b[1;33m\u001b[0m\u001b[1;33m\u001b[0m\u001b[0m\n",
      "\u001b[1;31mNameError\u001b[0m: name 'pmv_wrap' is not defined"
     ]
    }
   ],
   "source": [
    "def sharm(phi, theta, m):\n",
    "    x = torch.cos(phi)\n",
    "    if m < 0:\n",
    "        mp = -m\n",
    "        prefactor = (-1)**mp * poch(n + mp + 1, -2 * mp)\n",
    "    else:\n",
    "        mp = m\n",
    "    val = pmv_wrap(mp, n, x)\n",
    "    if  m < 0:\n",
    "        val *= prefactor\n",
    "    val *= sqrt((2*n + 1) / 4.0 / pi)\n",
    "    val *= sqrt(poch(n + m + 1, -2 * m))\n",
    "    val *= zexp(1j * m * theta)\n",
    "sharm(phi, theta, 1)"
   ]
  },
  {
   "cell_type": "code",
   "execution_count": null,
   "metadata": {},
   "outputs": [],
   "source": [
    "double pmv_wrap(double m, double v, double x){\n",
    "  int int_m;\n",
    "  double out;\n",
    "\n",
    "  if (m != floor(m)) return NPY_NAN;\n",
    "  int_m = (int ) m;\n",
    "  F_FUNC(lpmv,LPMV)(&v, &int_m, &x, &out);\n",
    "  CONVINF(\"pmv\", out);\n",
    "  return out;\n",
    "}"
   ]
  },
  {
   "cell_type": "code",
   "execution_count": 28,
   "metadata": {},
   "outputs": [
    {
     "ename": "TypeError",
     "evalue": "can't convert cuda:0 device type tensor to numpy. Use Tensor.cpu() to copy the tensor to host memory first.",
     "output_type": "error",
     "traceback": [
      "\u001b[0;31m---------------------------------------------------------------------------\u001b[0m",
      "\u001b[0;31mTypeError\u001b[0m                                 Traceback (most recent call last)",
      "\u001b[0;32m<ipython-input-28-bb0c058544b7>\u001b[0m in \u001b[0;36m<module>\u001b[0;34m\u001b[0m\n\u001b[1;32m     91\u001b[0m \u001b[0;31m# # coef = [116.40520943, -4.51331063,  -1.22070776, 2.53049672, 1.25615844,\\\u001b[0m\u001b[0;34m\u001b[0m\u001b[0;34m\u001b[0m\u001b[0;34m\u001b[0m\u001b[0m\n\u001b[1;32m     92\u001b[0m \u001b[0;31m# #    1.59720443,  28.4781262,   -0.33878004,  -4.02484515]\u001b[0m\u001b[0;34m\u001b[0m\u001b[0;34m\u001b[0m\u001b[0;34m\u001b[0m\u001b[0m\n\u001b[0;32m---> 93\u001b[0;31m \u001b[0mYx\u001b[0m\u001b[0;34m,\u001b[0m \u001b[0mYy\u001b[0m\u001b[0;34m,\u001b[0m \u001b[0mYz\u001b[0m \u001b[0;34m=\u001b[0m \u001b[0mplot_Y\u001b[0m\u001b[0;34m(\u001b[0m\u001b[0mcoef\u001b[0m\u001b[0;34m)\u001b[0m\u001b[0;34m\u001b[0m\u001b[0;34m\u001b[0m\u001b[0m\n\u001b[0m\u001b[1;32m     94\u001b[0m \u001b[0;31m# #plot_Y(ax,6,3)\u001b[0m\u001b[0;34m\u001b[0m\u001b[0;34m\u001b[0m\u001b[0;34m\u001b[0m\u001b[0m\n\u001b[1;32m     95\u001b[0m \u001b[0;31m# #plt.savefig('Y{}_{}.png'.format(l, m))\u001b[0m\u001b[0;34m\u001b[0m\u001b[0;34m\u001b[0m\u001b[0;34m\u001b[0m\u001b[0m\n",
      "\u001b[0;32m<ipython-input-28-bb0c058544b7>\u001b[0m in \u001b[0;36mplot_Y\u001b[0;34m(coef)\u001b[0m\n\u001b[1;32m     24\u001b[0m \u001b[0;31m#             fb = coef[l*(l+1)+m] * sfarm(m, l, phi, theta)\u001b[0m\u001b[0;34m\u001b[0m\u001b[0;34m\u001b[0m\u001b[0;34m\u001b[0m\u001b[0m\n\u001b[1;32m     25\u001b[0m \u001b[0;31m#             print(sfarm(m, l, phi, theta))\u001b[0m\u001b[0;34m\u001b[0m\u001b[0;34m\u001b[0m\u001b[0;34m\u001b[0m\u001b[0m\n\u001b[0;32m---> 26\u001b[0;31m             \u001b[0mfb\u001b[0m \u001b[0;34m=\u001b[0m \u001b[0mcoef\u001b[0m\u001b[0;34m[\u001b[0m\u001b[0ml\u001b[0m\u001b[0;34m*\u001b[0m\u001b[0;34m(\u001b[0m\u001b[0ml\u001b[0m\u001b[0;34m+\u001b[0m\u001b[0;36m1\u001b[0m\u001b[0;34m)\u001b[0m\u001b[0;34m+\u001b[0m\u001b[0mm\u001b[0m\u001b[0;34m]\u001b[0m \u001b[0;34m*\u001b[0m \u001b[0msph_harm\u001b[0m\u001b[0;34m(\u001b[0m\u001b[0mabs\u001b[0m\u001b[0;34m(\u001b[0m\u001b[0mm\u001b[0m\u001b[0;34m)\u001b[0m\u001b[0;34m,\u001b[0m \u001b[0ml\u001b[0m\u001b[0;34m,\u001b[0m \u001b[0mphi\u001b[0m\u001b[0;34m,\u001b[0m \u001b[0mtheta\u001b[0m\u001b[0;34m)\u001b[0m\u001b[0;34m\u001b[0m\u001b[0;34m\u001b[0m\u001b[0m\n\u001b[0m\u001b[1;32m     27\u001b[0m \u001b[0;31m#             if m < 0:\u001b[0m\u001b[0;34m\u001b[0m\u001b[0;34m\u001b[0m\u001b[0;34m\u001b[0m\u001b[0m\n\u001b[1;32m     28\u001b[0m \u001b[0;31m#                 fb = np.sqrt(2) * (-1)**m * fb.imag\u001b[0m\u001b[0;34m\u001b[0m\u001b[0;34m\u001b[0m\u001b[0;34m\u001b[0m\u001b[0m\n",
      "\u001b[0;32m/p/software/jurecadc/stages/2020/software/PyTorch/1.7.0-gcccoremkl-9.3.0-2020.2.254-Python-3.8.5/lib/python3.8/site-packages/torch/tensor.py\u001b[0m in \u001b[0;36m__array__\u001b[0;34m(self, dtype)\u001b[0m\n\u001b[1;32m    628\u001b[0m             \u001b[0;32mreturn\u001b[0m \u001b[0mhandle_torch_function\u001b[0m\u001b[0;34m(\u001b[0m\u001b[0mTensor\u001b[0m\u001b[0;34m.\u001b[0m\u001b[0m__array__\u001b[0m\u001b[0;34m,\u001b[0m \u001b[0mrelevant_args\u001b[0m\u001b[0;34m,\u001b[0m \u001b[0mself\u001b[0m\u001b[0;34m,\u001b[0m \u001b[0mdtype\u001b[0m\u001b[0;34m=\u001b[0m\u001b[0mdtype\u001b[0m\u001b[0;34m)\u001b[0m\u001b[0;34m\u001b[0m\u001b[0;34m\u001b[0m\u001b[0m\n\u001b[1;32m    629\u001b[0m         \u001b[0;32mif\u001b[0m \u001b[0mdtype\u001b[0m \u001b[0;32mis\u001b[0m \u001b[0;32mNone\u001b[0m\u001b[0;34m:\u001b[0m\u001b[0;34m\u001b[0m\u001b[0;34m\u001b[0m\u001b[0m\n\u001b[0;32m--> 630\u001b[0;31m             \u001b[0;32mreturn\u001b[0m \u001b[0mself\u001b[0m\u001b[0;34m.\u001b[0m\u001b[0mnumpy\u001b[0m\u001b[0;34m(\u001b[0m\u001b[0;34m)\u001b[0m\u001b[0;34m\u001b[0m\u001b[0;34m\u001b[0m\u001b[0m\n\u001b[0m\u001b[1;32m    631\u001b[0m         \u001b[0;32melse\u001b[0m\u001b[0;34m:\u001b[0m\u001b[0;34m\u001b[0m\u001b[0;34m\u001b[0m\u001b[0m\n\u001b[1;32m    632\u001b[0m             \u001b[0;32mreturn\u001b[0m \u001b[0mself\u001b[0m\u001b[0;34m.\u001b[0m\u001b[0mnumpy\u001b[0m\u001b[0;34m(\u001b[0m\u001b[0;34m)\u001b[0m\u001b[0;34m.\u001b[0m\u001b[0mastype\u001b[0m\u001b[0;34m(\u001b[0m\u001b[0mdtype\u001b[0m\u001b[0;34m,\u001b[0m \u001b[0mcopy\u001b[0m\u001b[0;34m=\u001b[0m\u001b[0;32mFalse\u001b[0m\u001b[0;34m)\u001b[0m\u001b[0;34m\u001b[0m\u001b[0;34m\u001b[0m\u001b[0m\n",
      "\u001b[0;31mTypeError\u001b[0m: can't convert cuda:0 device type tensor to numpy. Use Tensor.cpu() to copy the tensor to host memory first."
     ]
    }
   ],
   "source": [
    "\n",
    "#coef = np.random.rand(10,10)\n",
    "\n",
    "def plot_Y(coef):\n",
    "    \"\"\"Plot the spherical harmonic of degree el and order m on Axes ax.\"\"\"\n",
    "    # Grids of polar and azimuthal angles\n",
    "    theta = torch.linspace(0, np.pi, 100).cuda()\n",
    "    phi = torch.linspace(0, 2*np.pi, 100).cuda()\n",
    "    #r = np.linspace(-1, 1, 100)\n",
    "    # Create a 2-D meshgrid of (theta, phi) angles.\n",
    "    theta, phi = torch.meshgrid(theta, phi)\n",
    "#     print(theta)\n",
    "    # Calculate the Cartesian coordinates of each point in the mesh.\n",
    "    # NB In SciPy's sph_harm function the azimuthal coordinate, theta,\n",
    "    # comes before the polar coordinate, phi.\n",
    "#    Y = sph_harm(abs(m), el, phi, theta)\n",
    " #   f = np.zeros([100,100]).astype('complex128')\n",
    "    f = torch.complex(torch.zeros(100,100),torch.zeros(100,100)).cuda()\n",
    "#    print(Y.shape)\n",
    "#     f = np.\n",
    "    for l in range(int(np.sqrt(len(coef)))):\n",
    "        for m in range(-l,l+1):\n",
    "#            fb = coef[l*(l+1)+m] * sph_harm(abs(m), l, phi, theta)\n",
    "#            print(m,l)\n",
    "#             fb = coef[l*(l+1)+m] * sfarm(m, l, phi, theta)\n",
    "#             print(sfarm(m, l, phi, theta))\n",
    "            fb = coef[l*(l+1)+m] * sph_harm(abs(m), l, phi, theta)\n",
    "#             if m < 0:\n",
    "#                 fb = np.sqrt(2) * (-1)**m * fb.imag\n",
    "#             elif m > 0:\n",
    "#                 fb = np.sqrt(2) * (-1)**m * fb.real\n",
    "#             print(fb)\n",
    "            f += fb\n",
    "#    f += coef[l]*r**l*sph_harm(abs(m), el, phi, theta)       \n",
    "#     Y = f\n",
    "#     # Linear combination of Y_l,m and Y_l,-m to create the real form.\n",
    "#     if m < 0:\n",
    "#         Y = np.sqrt(2) * (-1)**m * Y.imag\n",
    "#     elif m > 0:\n",
    "#         Y = np.sqrt(2) * (-1)**m * Y.real\n",
    " #   print(sfarm(m, l, phi, theta))\n",
    "#    f = f.detach().cpu().numpy()\n",
    "    \n",
    "    xyz = torch.zeros(3,100,100).cuda()\n",
    "    for i,ar in enumerate([torch.sin(theta) * torch.sin(phi),\n",
    "                    torch.sin(theta) * torch.cos(phi),\n",
    "                    torch.cos(theta)]):\n",
    "        xyz[i] = ar\n",
    "#     print(xyz)\n",
    "#     print(f)\n",
    "#     print(torch.abs(f))\n",
    "    Yx, Yy, Yz = torch.abs(f) * xyz\n",
    "#     xyz = xyz.detach().cpu().numpy()\n",
    "#     plt.rc('text', usetex=True)\n",
    "\n",
    "\n",
    "\n",
    "\n",
    "# #    Yx, Yy, Yz = torch.abs(f) * xyz\n",
    "# #    print(Yx.shape)\n",
    "#     # Colour the plotted surface according to the sign of Y.\n",
    "#     cmap = plt.cm.ScalarMappable(cmap=plt.get_cmap('PRGn'))\n",
    "#     cmap.set_clim(-0.5, 0.5)\n",
    "\n",
    "#     ax.plot_surface(Yx, Yy, Yz,\n",
    "#                     facecolors=cmap.to_rgba(f.real),\n",
    "#                     rstride=2, cstride=2)\n",
    "#     print(Yz.shape)\n",
    "#     # Draw a set of x, y, z axes for reference.\n",
    "#     ax_lim = 50\n",
    "#     ax.plot([-ax_lim, ax_lim], [0,0], [0,0], c='0.5', lw=1, zorder=10)\n",
    "#     ax.plot([0,0], [-ax_lim, ax_lim], [0,0], c='0.5', lw=1, zorder=10)\n",
    "#     ax.plot([0,0], [0,0], [-ax_lim, ax_lim], c='0.5', lw=1, zorder=10)\n",
    "#     # Set the Axes limits and title, turn off the Axes frame.\n",
    "# #    ax.set_title(r'$Y_{{{},{}}}$'.format(el, m))\n",
    "#     ax_lim = 40\n",
    "#     ax.set_xlim(-ax_lim, ax_lim)\n",
    "#     ax.set_ylim(-ax_lim, ax_lim)\n",
    "#     ax.set_zlim(-ax_lim, ax_lim)\n",
    "#     ax.axis('on')\n",
    "    return(Yx, Yy, Yz)\n",
    "# #     xyz = np.zeros((np.size(mesh_x), 3))\n",
    "# #     xyz[:, 0] = np.reshape(mesh_x, -1)\n",
    "# #     xyz[:, 1] = np.reshape(mesh_y, -1)\n",
    "# #     xyz[:, 2] = np.reshape(z_norm, -1)\n",
    "# #     pcd = o3d.geometry.PointCloud()\n",
    "# #     pcd.points = o3d.utility.Vector3dVector(xyz)\n",
    "# #     o3d.io.write_point_cloud(\"../../test_data/sync.ply\", pcd)\n",
    "# fig = plt.figure(figsize=plt.figaspect(1.))\n",
    "# ax = fig.add_subplot(projection='3d')\n",
    "# #l, m = 2, 0\n",
    "# # coef = [116.40520943, -4.51331063,  -1.22070776, 2.53049672, 1.25615844,\\\n",
    "# #    1.59720443,  28.4781262,   -0.33878004,  -4.02484515]\n",
    "Yx, Yy, Yz = plot_Y(coef)\n",
    "# #plot_Y(ax,6,3)\n",
    "# #plt.savefig('Y{}_{}.png'.format(l, m))\n",
    "# plt.show()"
   ]
  },
  {
   "cell_type": "code",
   "execution_count": 29,
   "metadata": {},
   "outputs": [
    {
     "data": {
      "text/plain": [
       "tensor([[nan, nan, nan,  ..., nan, nan, nan],\n",
       "        [nan, nan, nan,  ..., nan, nan, nan],\n",
       "        [nan, nan, nan,  ..., nan, nan, nan],\n",
       "        ...,\n",
       "        [nan, nan, nan,  ..., nan, nan, nan],\n",
       "        [nan, nan, nan,  ..., nan, nan, nan],\n",
       "        [nan, nan, nan,  ..., nan, nan, nan]], device='cuda:0')"
      ]
     },
     "execution_count": 29,
     "metadata": {},
     "output_type": "execute_result"
    }
   ],
   "source": [
    "Yx"
   ]
  },
  {
   "cell_type": "code",
   "execution_count": 167,
   "metadata": {},
   "outputs": [
    {
     "ename": "NameError",
     "evalue": "name 'Yx' is not defined",
     "output_type": "error",
     "traceback": [
      "\u001b[1;31m---------------------------------------------------------------------------\u001b[0m",
      "\u001b[1;31mNameError\u001b[0m                                 Traceback (most recent call last)",
      "\u001b[1;32m<ipython-input-167-01dd840f568b>\u001b[0m in \u001b[0;36m<module>\u001b[1;34m\u001b[0m\n\u001b[1;32m----> 1\u001b[1;33m \u001b[0mpc\u001b[0m \u001b[1;33m=\u001b[0m \u001b[0mnp\u001b[0m\u001b[1;33m.\u001b[0m\u001b[0mzeros\u001b[0m\u001b[1;33m(\u001b[0m\u001b[1;33m(\u001b[0m\u001b[0mnp\u001b[0m\u001b[1;33m.\u001b[0m\u001b[0msize\u001b[0m\u001b[1;33m(\u001b[0m\u001b[0mYx\u001b[0m\u001b[1;33m)\u001b[0m\u001b[1;33m,\u001b[0m \u001b[1;36m3\u001b[0m\u001b[1;33m)\u001b[0m\u001b[1;33m)\u001b[0m\u001b[1;33m\u001b[0m\u001b[1;33m\u001b[0m\u001b[0m\n\u001b[0m\u001b[0;32m      2\u001b[0m \u001b[0mpc\u001b[0m\u001b[1;33m[\u001b[0m\u001b[1;33m:\u001b[0m\u001b[1;33m,\u001b[0m \u001b[1;36m0\u001b[0m\u001b[1;33m]\u001b[0m \u001b[1;33m=\u001b[0m \u001b[0mnp\u001b[0m\u001b[1;33m.\u001b[0m\u001b[0mreshape\u001b[0m\u001b[1;33m(\u001b[0m\u001b[0mYx\u001b[0m\u001b[1;33m,\u001b[0m \u001b[1;33m-\u001b[0m\u001b[1;36m1\u001b[0m\u001b[1;33m)\u001b[0m\u001b[1;33m\u001b[0m\u001b[1;33m\u001b[0m\u001b[0m\n\u001b[0;32m      3\u001b[0m \u001b[0mpc\u001b[0m\u001b[1;33m[\u001b[0m\u001b[1;33m:\u001b[0m\u001b[1;33m,\u001b[0m \u001b[1;36m1\u001b[0m\u001b[1;33m]\u001b[0m \u001b[1;33m=\u001b[0m \u001b[0mnp\u001b[0m\u001b[1;33m.\u001b[0m\u001b[0mreshape\u001b[0m\u001b[1;33m(\u001b[0m\u001b[0mYy\u001b[0m\u001b[1;33m,\u001b[0m \u001b[1;33m-\u001b[0m\u001b[1;36m1\u001b[0m\u001b[1;33m)\u001b[0m\u001b[1;33m\u001b[0m\u001b[1;33m\u001b[0m\u001b[0m\n\u001b[0;32m      4\u001b[0m \u001b[0mpc\u001b[0m\u001b[1;33m[\u001b[0m\u001b[1;33m:\u001b[0m\u001b[1;33m,\u001b[0m \u001b[1;36m2\u001b[0m\u001b[1;33m]\u001b[0m \u001b[1;33m=\u001b[0m \u001b[0mnp\u001b[0m\u001b[1;33m.\u001b[0m\u001b[0mreshape\u001b[0m\u001b[1;33m(\u001b[0m\u001b[0mYz\u001b[0m\u001b[1;33m,\u001b[0m \u001b[1;33m-\u001b[0m\u001b[1;36m1\u001b[0m\u001b[1;33m)\u001b[0m\u001b[1;33m\u001b[0m\u001b[1;33m\u001b[0m\u001b[0m\n",
      "\u001b[1;31mNameError\u001b[0m: name 'Yx' is not defined"
     ]
    }
   ],
   "source": [
    "pc = np.zeros((np.size(Yx), 3))\n",
    "pc[:, 0] = np.reshape(Yx, -1)\n",
    "pc[:, 1] = np.reshape(Yy, -1)\n",
    "pc[:, 2] = np.reshape(Yz, -1)"
   ]
  },
  {
   "cell_type": "code",
   "execution_count": 104,
   "metadata": {},
   "outputs": [
    {
     "data": {
      "text/plain": [
       "True"
      ]
     },
     "execution_count": 104,
     "metadata": {},
     "output_type": "execute_result"
    }
   ],
   "source": [
    "pcd = o3d.geometry.PointCloud()\n",
    "pcd.points = o3d.utility.Vector3dVector(pc)\n",
    "o3d.io.write_point_cloud(\"testply.ply\", pcd)"
   ]
  },
  {
   "cell_type": "code",
   "execution_count": 59,
   "metadata": {},
   "outputs": [
    {
     "data": {
      "text/plain": [
       "(10000, 3)"
      ]
     },
     "execution_count": 59,
     "metadata": {},
     "output_type": "execute_result"
    }
   ],
   "source": [
    "pc.shape"
   ]
  },
  {
   "cell_type": "code",
   "execution_count": 105,
   "metadata": {},
   "outputs": [],
   "source": [
    "np.savetxt('testply.ply', pc, delimiter=' ', newline='\\n', header='ply\\\n",
    "        format ascii 1.0\\\n",
    "        element vertex 10000\\\n",
    "        property float x\\\n",
    "        property float y\\\n",
    "        property float z\\\n",
    "        end_header', footer='')"
   ]
  },
  {
   "cell_type": "code",
   "execution_count": 61,
   "metadata": {},
   "outputs": [],
   "source": [
    "import open3d as o3d"
   ]
  },
  {
   "cell_type": "code",
   "execution_count": 106,
   "metadata": {},
   "outputs": [
    {
     "name": "stdout",
     "output_type": "stream",
     "text": [
      "Load a ply point cloud, print it, and render it\n",
      "[Open3D WARNING] Read PLY failed: unable to parse header.\n",
      "PointCloud with 0 points.\n",
      "[]\n"
     ]
    }
   ],
   "source": [
    "print(\"Load a ply point cloud, print it, and render it\")\n",
    "pcd = o3d.io.read_point_cloud(\"testply.ply\")\n",
    "print(pcd)\n",
    "print(np.asarray(pcd.points))\n",
    "o3d.visualization.draw_geometries([pcd])"
   ]
  },
  {
   "cell_type": "code",
   "execution_count": 66,
   "metadata": {},
   "outputs": [
    {
     "ename": "TypeError",
     "evalue": "draw_geometries(): incompatible function arguments. The following argument types are supported:\n    1. (geometry_list: List[open3d.cpu.pybind.geometry.Geometry], window_name: str = 'Open3D', width: int = 1920, height: int = 1080, left: int = 50, top: int = 50, point_show_normal: bool = False, mesh_show_wireframe: bool = False, mesh_show_back_face: bool = False) -> None\n    2. (geometry_list: List[open3d.cpu.pybind.geometry.Geometry], window_name: str = 'Open3D', width: int = 1920, height: int = 1080, left: int = 50, top: int = 50, point_show_normal: bool = False, mesh_show_wireframe: bool = False, mesh_show_back_face: bool = False, lookat: numpy.ndarray[float64[3, 1]], up: numpy.ndarray[float64[3, 1]], front: numpy.ndarray[float64[3, 1]], zoom: float) -> None\n\nInvoked with: PointCloud with 10000 points.",
     "output_type": "error",
     "traceback": [
      "\u001b[1;31m---------------------------------------------------------------------------\u001b[0m",
      "\u001b[1;31mTypeError\u001b[0m                                 Traceback (most recent call last)",
      "\u001b[1;32m<ipython-input-66-476f6c5969be>\u001b[0m in \u001b[0;36m<module>\u001b[1;34m\u001b[0m\n\u001b[1;32m----> 1\u001b[1;33m \u001b[0mo3d\u001b[0m\u001b[1;33m.\u001b[0m\u001b[0mvisualization\u001b[0m\u001b[1;33m.\u001b[0m\u001b[0mdraw_geometries\u001b[0m\u001b[1;33m(\u001b[0m\u001b[0mpcd\u001b[0m\u001b[1;33m)\u001b[0m\u001b[1;33m\u001b[0m\u001b[1;33m\u001b[0m\u001b[0m\n\u001b[0m",
      "\u001b[1;31mTypeError\u001b[0m: draw_geometries(): incompatible function arguments. The following argument types are supported:\n    1. (geometry_list: List[open3d.cpu.pybind.geometry.Geometry], window_name: str = 'Open3D', width: int = 1920, height: int = 1080, left: int = 50, top: int = 50, point_show_normal: bool = False, mesh_show_wireframe: bool = False, mesh_show_back_face: bool = False) -> None\n    2. (geometry_list: List[open3d.cpu.pybind.geometry.Geometry], window_name: str = 'Open3D', width: int = 1920, height: int = 1080, left: int = 50, top: int = 50, point_show_normal: bool = False, mesh_show_wireframe: bool = False, mesh_show_back_face: bool = False, lookat: numpy.ndarray[float64[3, 1]], up: numpy.ndarray[float64[3, 1]], front: numpy.ndarray[float64[3, 1]], zoom: float) -> None\n\nInvoked with: PointCloud with 10000 points."
     ]
    }
   ],
   "source": [
    "o3d.visualization.draw_geometries(pcd)"
   ]
  },
  {
   "cell_type": "code",
   "execution_count": 39,
   "metadata": {},
   "outputs": [
    {
     "data": {
      "image/png": "[encoded data removed]",
      "text/plain": [
       "<Figure size 432x230.4 with 3 Axes>"
      ]
     },
     "metadata": {
      "needs_background": "light"
     },
     "output_type": "display_data"
    }
   ],
   "source": [
    "fig = plt.figure(figsize=(6, 3.2))\n",
    "\n",
    "ax = fig.add_subplot(111)\n",
    "ax.set_title('colorMap')\n",
    "plt.imshow(Yk)\n",
    "ax.set_aspect('equal')\n",
    "\n",
    "cax = fig.add_axes([0.12, 0.1, 0.78, 0.8])\n",
    "cax.get_xaxis().set_visible(False)\n",
    "cax.get_yaxis().set_visible(False)\n",
    "cax.patch.set_alpha(0)\n",
    "cax.set_frame_on(False)\n",
    "plt.colorbar(orientation='vertical')\n",
    "plt.show()"
   ]
  },
  {
   "cell_type": "code",
   "execution_count": null,
   "metadata": {},
   "outputs": [],
   "source": [
    "pcd = o3d.geometry.PointCloud()\n",
    "pcd.points = o3d.utility.Vector3dVector(xyz)\n",
    "o3d.io.write_point_cloud(\"../../test_data/sync.ply\", pcd)"
   ]
  },
  {
   "cell_type": "code",
   "execution_count": 13,
   "metadata": {},
   "outputs": [
    {
     "name": "stdout",
     "output_type": "stream",
     "text": [
      "xyz\n",
      "[[-3.         -3.          0.17846472]\n",
      " [-2.985      -3.          0.17440115]\n",
      " [-2.97       -3.          0.17063709]\n",
      " ...\n",
      " [ 2.97        3.          0.17063709]\n",
      " [ 2.985       3.          0.17440115]\n",
      " [ 3.          3.          0.17846472]]\n"
     ]
    }
   ],
   "source": [
    "# Generate some neat n times 3 matrix using a variant of sync function\n",
    "x = np.linspace(-3, 3, 401)\n",
    "mesh_x, mesh_y = np.meshgrid(x, x)\n",
    "z = np.sinc((np.power(mesh_x, 2) + np.power(mesh_y, 2)))\n",
    "z_norm = (z - z.min()) / (z.max() - z.min())\n",
    "pc = np.zeros((np.size(Yx), 3))\n",
    "pc[:, 0] = np.reshape(Yx, -1)\n",
    "pc[:, 1] = np.reshape(Yy, -1)\n",
    "pc[:, 2] = np.reshape(Yz, -1)\n",
    "print('xyz')\n",
    "print(xyz)"
   ]
  },
  {
   "cell_type": "markdown",
   "metadata": {},
   "source": [
    "# F score"
   ]
  },
  {
   "cell_type": "code",
   "execution_count": null,
   "metadata": {},
   "outputs": [],
   "source": []
  },
  {
   "cell_type": "code",
   "execution_count": 16,
   "metadata": {},
   "outputs": [],
   "source": [
    "import open3d\n",
    "import typing"
   ]
  },
  {
   "cell_type": "code",
   "execution_count": 17,
   "metadata": {},
   "outputs": [],
   "source": [
    "def calculate_fscore(gt: open3d.geometry.PointCloud, pr: open3d.geometry.PointCloud, th: float=0.01) -> typing.Tuple[float, float, float]:\n",
    "    '''Calculates the F-score between two point clouds with the corresponding threshold value.'''\n",
    "    d1 = open3d.compute_point_cloud_to_point_cloud_distance(gt, pr)\n",
    "    d2 = open3d.compute_point_cloud_to_point_cloud_distance(pr, gt)\n",
    "    \n",
    "    if len(d1) and len(d2):\n",
    "        recall = float(sum(d < th for d in d2)) / float(len(d2))\n",
    "        precision = float(sum(d < th for d in d1)) / float(len(d1))\n",
    "\n",
    "        if recall+precision > 0:\n",
    "            fscore = 2 * recall * precision / (recall + precision)\n",
    "        else:\n",
    "            fscore = 0\n",
    "    else:\n",
    "        fscore = 0\n",
    "        precision = 0\n",
    "        recall = 0\n",
    "\n",
    "    return fscore, precision, recall"
   ]
  }
 ],
 "metadata": {
  "kernelspec": {
   "display_name": "Python 3",
   "language": "python",
   "name": "python3"
  },
  "language_info": {
   "codemirror_mode": {
    "name": "ipython",
    "version": 3
   },
   "file_extension": ".py",
   "mimetype": "text/x-python",
   "name": "python",
   "nbconvert_exporter": "python",
   "pygments_lexer": "ipython3",
   "version": "3.8.5"
  }
 },
 "nbformat": 4,
 "nbformat_minor": 4
}
