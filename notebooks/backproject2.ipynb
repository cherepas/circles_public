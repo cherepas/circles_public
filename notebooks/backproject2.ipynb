{
 "cells": [
  {
   "cell_type": "code",
   "execution_count": null,
   "metadata": {},
   "outputs": [],
   "source": []
  },
  {
   "cell_type": "code",
   "execution_count": 1,
   "metadata": {},
   "outputs": [],
   "source": [
    "import matplotlib.pyplot as plt\n",
    "import numpy as np\n",
    "from skimage import io, transform\n",
    "import os\n",
    "import open3d\n",
    "import torch\n",
    "import h5py\n",
    "from io import StringIO\n",
    "import matplotlib.patches as patches\n",
    "from skimage.measure import regionprops\n",
    "from skimage import filters\n",
    "from numpy import linalg\n",
    "import scipy"
   ]
  },
  {
   "cell_type": "code",
   "execution_count": null,
   "metadata": {},
   "outputs": [],
   "source": []
  },
  {
   "cell_type": "code",
   "execution_count": 63,
   "metadata": {},
   "outputs": [],
   "source": [
    "def getcen(el):\n",
    "    centre = [linalg.det(el[:,[1,2,3]]), -linalg.det(el[:,[0,2,3]]), linalg.det(el[:,[0,1,3]])]/(-linalg.det(el[:,[0,1,2]]))\n",
    "    return centre\n",
    "def forwardproj(pcd, pr):\n",
    "    pcd2 = np.concatenate((pcd, np.expand_dims(np.repeat(1, pcd.shape[0]), axis = 1)), axis=1)\n",
    "    pcd2 = np.matmul(pcd2,pr.T)\n",
    "    pcd2 = pcd2/np.repeat(np.expand_dims(pcd2[:,3], axis=1), 4, axis = 1)\n",
    "    return(pcd2[:,:3])\n",
    "def getcenf(el):\n",
    "    centre = [linalg.det(el[:,[1,2,3]]), -linalg.det(el[:,[0,2,3]]), linalg.det(el[:,[0,1,3]]), -linalg.det(el[:,[0,1,2]])]\n",
    "    return centre\n",
    "def sf(dirname):\n",
    "    return('./'+dirname+'/'+str(int(os.listdir('./'+dirname+'/')[-1].replace('.png',''))+1).zfill(3)+'.png')"
   ]
  },
  {
   "cell_type": "code",
   "execution_count": 3,
   "metadata": {},
   "outputs": [
    {
     "ename": "NameError",
     "evalue": "name 'prmat' is not defined",
     "output_type": "error",
     "traceback": [
      "\u001b[1;31m---------------------------------------------------------------------------\u001b[0m",
      "\u001b[1;31mNameError\u001b[0m                                 Traceback (most recent call last)",
      "\u001b[1;32m<ipython-input-3-cdcc9cc7520f>\u001b[0m in \u001b[0;36m<module>\u001b[1;34m\u001b[0m\n\u001b[1;32m----> 1\u001b[1;33m \u001b[0mgetcen\u001b[0m\u001b[1;33m(\u001b[0m\u001b[0mprmat\u001b[0m\u001b[1;33m[\u001b[0m\u001b[1;33m:\u001b[0m\u001b[1;36m3\u001b[0m\u001b[1;33m,\u001b[0m\u001b[1;33m:\u001b[0m\u001b[1;33m]\u001b[0m\u001b[1;33m)\u001b[0m\u001b[1;33m\u001b[0m\u001b[1;33m\u001b[0m\u001b[0m\n\u001b[0m",
      "\u001b[1;31mNameError\u001b[0m: name 'prmat' is not defined"
     ]
    }
   ],
   "source": [
    "getcen(prmat[:3,:])"
   ]
  },
  {
   "cell_type": "code",
   "execution_count": null,
   "metadata": {},
   "outputs": [],
   "source": []
  },
  {
   "cell_type": "code",
   "execution_count": 306,
   "metadata": {},
   "outputs": [],
   "source": [
    "pcdw = np.asarray(open3d.io.read_point_cloud('C:/Users/v.cherepashkin/Downloads/Telegram Desktop/1494452.ply').points)"
   ]
  },
  {
   "cell_type": "code",
   "execution_count": 307,
   "metadata": {},
   "outputs": [
    {
     "data": {
      "text/plain": [
       "array([88., 20., 92.])"
      ]
     },
     "execution_count": 307,
     "metadata": {},
     "output_type": "execute_result"
    }
   ],
   "source": [
    "np.min(pcdw,axis=0)"
   ]
  },
  {
   "cell_type": "code",
   "execution_count": 308,
   "metadata": {},
   "outputs": [
    {
     "data": {
      "text/plain": [
       "array([152.,  92., 223.])"
      ]
     },
     "execution_count": 308,
     "metadata": {},
     "output_type": "execute_result"
    }
   ],
   "source": [
    "np.max(pcdw,axis=0)"
   ]
  },
  {
   "cell_type": "code",
   "execution_count": 309,
   "metadata": {},
   "outputs": [
    {
     "data": {
      "text/plain": [
       "array([121.60008325,  55.4128657 , 153.82834777])"
      ]
     },
     "execution_count": 309,
     "metadata": {},
     "output_type": "execute_result"
    }
   ],
   "source": [
    "np.mean(pcdw,axis=0)"
   ]
  },
  {
   "cell_type": "code",
   "execution_count": 4,
   "metadata": {},
   "outputs": [],
   "source": [
    "def prmatread(path):\n",
    "    with open(path, 'r') as f:\n",
    "        prmatext = f.readlines()\n",
    "    pr2 = [prmatext[i].replace('[','').replace(']','').replace(';','')\\\n",
    "           for i in range(len(prmatext))]\n",
    "    pr3 = ''\n",
    "    for i in pr2:\n",
    "        pr3+=i\n",
    "    pr4 = np.genfromtxt(StringIO(pr3), delimiter=',')\n",
    "    return pr4"
   ]
  },
  {
   "cell_type": "code",
   "execution_count": 6,
   "metadata": {},
   "outputs": [],
   "source": [
    "angle = 0\n",
    "flname = '1484737/1494452'\n",
    "img = np.asarray(io.imread('C:/cherepashkin1/phenoseed/598/'+flname+'/rotation_'+str(10*angle).zfill(3)+'.tif'))\n",
    "pcd = np.asarray(open3d.io.read_point_cloud('C:/cherepashkin1/phenoseed/598/'+flname+'_Surface.ply').points)\n",
    "prmat = prmatread('C:/cherepashkin1/phenoseed/598/'+flname+'_ProjectionMatrices.txt')"
   ]
  },
  {
   "cell_type": "code",
   "execution_count": 295,
   "metadata": {},
   "outputs": [
    {
     "data": {
      "text/plain": [
       "array([[ 7.4039063e+02,  0.0000000e+00, -4.5703125e+01, -1.8263947e+05],\n",
       "       [ 0.0000000e+00,  7.4039063e+02, -2.7218750e+01, -9.8688500e+04],\n",
       "       [ 0.0000000e+00,  0.0000000e+00, -5.0781250e-02, -1.2100000e+02],\n",
       "       [ 0.0000000e+00,  0.0000000e+00, -5.0781250e-02, -1.2100000e+02]])"
      ]
     },
     "execution_count": 295,
     "metadata": {},
     "output_type": "execute_result"
    }
   ],
   "source": [
    "prmat[:4,:]"
   ]
  },
  {
   "cell_type": "code",
   "execution_count": 23,
   "metadata": {},
   "outputs": [
    {
     "name": "stdout",
     "output_type": "stream",
     "text": [
      "[   99.5953582     45.69547294 -2382.76923077]\n",
      "[ -334.39988575    45.70332026 -2339.96842306]\n",
      "[ -753.42156938    45.72662647 -2223.0933998 ]\n",
      "[-1146.47557544    45.76467638 -2035.36763362]\n",
      "[-1501.21465267    45.81634392 -1782.50311619]\n",
      "[-1806.98888458    45.88001436 -1472.03365053]\n",
      "[-2054.40089592    45.95377659 -1113.50899775]\n",
      "[-2236.08386099    46.03540675  -717.73056896]\n",
      "[-2346.73619007    46.12237743  -296.01797137]\n",
      "[-2382.76923077    46.21209212   139.39986194]\n",
      "[-2342.81338303    46.30181093   574.26460677]\n",
      "[-2227.95394408    46.38878324   996.06723179]\n",
      "[-2041.45174839    46.47039845  1391.93757943]\n",
      "[-1788.87149579    46.54417647  1749.62513309]\n",
      "[-1477.36972053    46.60785331  2058.51143705]\n",
      "[-1116.94982315    46.65950242  2308.41409872]\n",
      "[-718.37567165   46.69755254 2491.84897162]\n",
      "[-293.59658653   46.72086443 2603.16313338]\n",
      "[ 144.18039299   46.7287113  2638.76923077]\n",
      "[ 581.83991276   46.72086109 2597.47784001]\n",
      "[1005.74610383   46.69755156 2480.43124128]\n",
      "[1402.71151785   46.65950239 2291.23117646]\n",
      "[1760.70067952   46.60785434 2035.57779859]\n",
      "[2068.52588434   46.54418524 1721.43468037]\n",
      "[2316.71175137   46.47041306 1358.57786703]\n",
      "[2497.89346797   46.38878217  957.76902808]\n",
      "[2606.24032278   46.30179852  532.14540297]\n",
      "[2638.76923077   46.21209212   94.48990461]\n",
      "[2594.59741366   46.55650524 -342.17519761]\n",
      "[2475.35541164   46.55650533 -763.69135735]\n",
      "[ 2284.77795518    46.38430981 -1157.88882508]\n",
      "[ 2028.77903823    46.21210276 -1512.80341327]\n",
      "[ 1715.47852691    46.03988861 -1817.52390073]\n",
      "[ 1354.58637864    46.0398825  -2063.01647399]\n",
      "[  956.75578428    46.03988637 -2242.26214017]\n",
      "[  534.28230177    46.03989244 -2349.86334207]\n"
     ]
    }
   ],
   "source": [
    "for i in range(36):\n",
    "    print(getcen(prmat[4*i:4*(i+1)-1,:]))"
   ]
  },
  {
   "cell_type": "code",
   "execution_count": 25,
   "metadata": {},
   "outputs": [
    {
     "data": {
      "text/plain": [
       "array([[ 7.4039063e+02,  0.0000000e+00, -4.5703125e+01, -1.8263947e+05],\n",
       "       [ 0.0000000e+00,  7.4039063e+02, -2.7218750e+01, -9.8688500e+04],\n",
       "       [ 0.0000000e+00,  0.0000000e+00, -5.0781250e-02, -1.2100000e+02],\n",
       "       [ 0.0000000e+00,  0.0000000e+00, -5.0781250e-02, -1.2100000e+02]])"
      ]
     },
     "execution_count": 25,
     "metadata": {},
     "output_type": "execute_result"
    }
   ],
   "source": [
    "prmat[:4,:]"
   ]
  },
  {
   "cell_type": "code",
   "execution_count": 24,
   "metadata": {},
   "outputs": [
    {
     "data": {
      "text/plain": [
       "array([-1.8263947e+05, -9.8688500e+04, -1.2100000e+02])"
      ]
     },
     "execution_count": 24,
     "metadata": {},
     "output_type": "execute_result"
    }
   ],
   "source": [
    "prmat[:3,3]"
   ]
  },
  {
   "cell_type": "code",
   "execution_count": 30,
   "metadata": {},
   "outputs": [
    {
     "data": {
      "text/plain": [
       "array([   99.5953582 ,    45.69547294, -2382.76923077])"
      ]
     },
     "execution_count": 30,
     "metadata": {},
     "output_type": "execute_result"
    }
   ],
   "source": [
    "-np.matmul(linalg.inv(prmat[:3,:3]),prmat[:3,3])"
   ]
  },
  {
   "cell_type": "code",
   "execution_count": 289,
   "metadata": {},
   "outputs": [
    {
     "data": {
      "text/plain": [
       "(array([[ 7.4039063e+02,  0.0000000e+00, -4.5703125e+01],\n",
       "        [ 0.0000000e+00,  7.4039063e+02, -2.7218750e+01],\n",
       "        [ 0.0000000e+00,  0.0000000e+00, -5.0781250e-02]]),\n",
       " array([[ 1.,  0.,  0.],\n",
       "        [-0.,  1.,  0.],\n",
       "        [-0., -0.,  1.]]))"
      ]
     },
     "execution_count": 289,
     "metadata": {},
     "output_type": "execute_result"
    }
   ],
   "source": [
    "scipy.linalg.rq(prmat[:3,:3])"
   ]
  },
  {
   "cell_type": "code",
   "execution_count": 296,
   "metadata": {},
   "outputs": [
    {
     "name": "stdout",
     "output_type": "stream",
     "text": [
      "[[    740.       0.     -46. -182639.]\n",
      " [      0.     740.     -27.  -98688.]\n",
      " [      0.       0.      -0.    -121.]\n",
      " [      0.       0.      -0.    -121.]]\n",
      "(array([[740.,   0., -46.],\n",
      "       [  0., 740., -27.],\n",
      "       [  0.,   0.,  -0.]]), array([[ 1.,  0.,  0.],\n",
      "       [-0.,  1.,  0.],\n",
      "       [-0., -0.,  1.]]))\n"
     ]
    }
   ],
   "source": [
    "with np.printoptions(precision=0, suppress=True):\n",
    "    print(prmat[:4,:])\n",
    "    print(scipy.linalg.rq(prmat[:3,:3]))"
   ]
  },
  {
   "cell_type": "code",
   "execution_count": 299,
   "metadata": {},
   "outputs": [
    {
     "data": {
      "text/plain": [
       "0.05078124926452389"
      ]
     },
     "execution_count": 299,
     "metadata": {},
     "output_type": "execute_result"
    }
   ],
   "source": [
    "r[2,2]"
   ]
  },
  {
   "cell_type": "code",
   "execution_count": 294,
   "metadata": {},
   "outputs": [
    {
     "data": {
      "text/plain": [
       "array([  534.28230177,    46.03989244, -2349.86334207])"
      ]
     },
     "execution_count": 294,
     "metadata": {},
     "output_type": "execute_result"
    }
   ],
   "source": [
    "cr"
   ]
  },
  {
   "cell_type": "code",
   "execution_count": 28,
   "metadata": {},
   "outputs": [
    {
     "name": "stdout",
     "output_type": "stream",
     "text": [
      "[   99.5953582     45.69547294 -2382.76923077]\n",
      "[ -334.39988575    45.70332026 -2339.96842306]\n",
      "[ -753.42156938    45.72662647 -2223.0933998 ]\n",
      "[-1146.47557544    45.76467638 -2035.36763362]\n",
      "[-1501.21465267    45.81634392 -1782.50311619]\n",
      "[-1806.98888458    45.88001436 -1472.03365053]\n",
      "[-2054.40089592    45.95377659 -1113.50899775]\n",
      "[-2236.08386099    46.03540675  -717.73056896]\n",
      "[-2346.73619007    46.12237743  -296.01797137]\n",
      "[-2382.76923077    46.21209212   139.39986194]\n",
      "[-2342.81338303    46.30181093   574.26460677]\n",
      "[-2227.95394408    46.38878324   996.06723179]\n",
      "[-2041.45174839    46.47039845  1391.93757943]\n",
      "[-1788.87149579    46.54417647  1749.62513309]\n",
      "[-1477.36972053    46.60785331  2058.51143705]\n",
      "[-1116.94982315    46.65950242  2308.41409872]\n",
      "[-718.37567165   46.69755254 2491.84897162]\n",
      "[-293.59658653   46.72086443 2603.16313338]\n",
      "[ 144.18039299   46.7287113  2638.76923077]\n",
      "[ 581.83991276   46.72086109 2597.47784001]\n",
      "[1005.74610383   46.69755156 2480.43124128]\n",
      "[1402.71151785   46.65950239 2291.23117646]\n",
      "[1760.70067952   46.60785434 2035.57779859]\n",
      "[2068.52588434   46.54418524 1721.43468037]\n",
      "[2316.71175137   46.47041306 1358.57786703]\n",
      "[2497.89346797   46.38878217  957.76902808]\n",
      "[2606.24032278   46.30179852  532.14540297]\n",
      "[2638.76923077   46.21209212   94.48990461]\n",
      "[2594.59741366   46.55650524 -342.17519761]\n",
      "[2475.35541164   46.55650533 -763.69135735]\n",
      "[ 2284.77795518    46.38430981 -1157.88882508]\n",
      "[ 2028.77903823    46.21210276 -1512.80341327]\n",
      "[ 1715.47852691    46.03988861 -1817.52390073]\n",
      "[ 1354.58637864    46.0398825  -2063.01647399]\n",
      "[  956.75578428    46.03988637 -2242.26214017]\n",
      "[  534.28230177    46.03989244 -2349.86334207]\n"
     ]
    }
   ],
   "source": [
    "for i in range(36):\n",
    "    print(-np.matmul(linalg.inv(prmat[4*i:4*(i+1)-1,:3]),prmat[4*i:4*(i+1)-1,3]))"
   ]
  },
  {
   "cell_type": "code",
   "execution_count": 79,
   "metadata": {},
   "outputs": [],
   "source": [
    "centres = np.zeros([3,36])\n",
    "for i in range(36):\n",
    "    centres[:,i] = -np.matmul(linalg.inv(prmat[4*i:4*(i+1)-1,:3]),prmat[4*i:4*(i+1)-1,3])"
   ]
  },
  {
   "cell_type": "code",
   "execution_count": 286,
   "metadata": {},
   "outputs": [
    {
     "data": {
      "text/plain": [
       "array([124.93484205,  46.29171594, 122.4699606 ])"
      ]
     },
     "execution_count": 286,
     "metadata": {},
     "output_type": "execute_result"
    }
   ],
   "source": [
    "np.mean(centres, axis=1)"
   ]
  },
  {
   "cell_type": "code",
   "execution_count": null,
   "metadata": {},
   "outputs": [],
   "source": []
  },
  {
   "cell_type": "code",
   "execution_count": 288,
   "metadata": {},
   "outputs": [
    {
     "data": {
      "text/plain": [
       "array([121.10617155,  56.74105373, 158.76739705])"
      ]
     },
     "execution_count": 288,
     "metadata": {},
     "output_type": "execute_result"
    }
   ],
   "source": [
    "np.mean(pcd,axis=0)"
   ]
  },
  {
   "cell_type": "code",
   "execution_count": 302,
   "metadata": {},
   "outputs": [
    {
     "data": {
      "text/plain": [
       "array([124.93484205,  46.29171594, 122.4699606 ])"
      ]
     },
     "execution_count": 302,
     "metadata": {},
     "output_type": "execute_result"
    }
   ],
   "source": [
    "np.mean(centres, axis=1)"
   ]
  },
  {
   "cell_type": "code",
   "execution_count": 303,
   "metadata": {},
   "outputs": [
    {
     "data": {
      "text/plain": [
       "array([[   99.5953582 ,  -334.39988575,  -753.42156938, -1146.47557544,\n",
       "        -1501.21465267, -1806.98888458, -2054.40089592, -2236.08386099,\n",
       "        -2346.73619007, -2382.76923077, -2342.81338303, -2227.95394408,\n",
       "        -2041.45174839, -1788.87149579, -1477.36972053, -1116.94982315,\n",
       "         -718.37567165,  -293.59658653,   144.18039299,   581.83991276,\n",
       "         1005.74610383,  1402.71151785,  1760.70067952,  2068.52588434,\n",
       "         2316.71175137,  2497.89346797,  2606.24032278,  2638.76923077,\n",
       "         2594.59741366,  2475.35541164,  2284.77795518,  2028.77903823,\n",
       "         1715.47852691,  1354.58637864,   956.75578428,   534.28230177],\n",
       "       [   45.69547294,    45.70332026,    45.72662647,    45.76467638,\n",
       "           45.81634392,    45.88001436,    45.95377659,    46.03540675,\n",
       "           46.12237743,    46.21209212,    46.30181093,    46.38878324,\n",
       "           46.47039845,    46.54417647,    46.60785331,    46.65950242,\n",
       "           46.69755254,    46.72086443,    46.7287113 ,    46.72086109,\n",
       "           46.69755156,    46.65950239,    46.60785434,    46.54418524,\n",
       "           46.47041306,    46.38878217,    46.30179852,    46.21209212,\n",
       "           46.55650524,    46.55650533,    46.38430981,    46.21210276,\n",
       "           46.03988861,    46.0398825 ,    46.03988637,    46.03989244],\n",
       "       [-2382.76923077, -2339.96842306, -2223.0933998 , -2035.36763362,\n",
       "        -1782.50311619, -1472.03365053, -1113.50899775,  -717.73056896,\n",
       "         -296.01797137,   139.39986194,   574.26460677,   996.06723179,\n",
       "         1391.93757943,  1749.62513309,  2058.51143705,  2308.41409872,\n",
       "         2491.84897162,  2603.16313338,  2638.76923077,  2597.47784001,\n",
       "         2480.43124128,  2291.23117646,  2035.57779859,  1721.43468037,\n",
       "         1358.57786703,   957.76902808,   532.14540297,    94.48990461,\n",
       "         -342.17519761,  -763.69135735, -1157.88882508, -1512.80341327,\n",
       "        -1817.52390073, -2063.01647399, -2242.26214017, -2349.86334207]])"
      ]
     },
     "execution_count": 303,
     "metadata": {},
     "output_type": "execute_result"
    }
   ],
   "source": [
    "centres"
   ]
  },
  {
   "cell_type": "code",
   "execution_count": 92,
   "metadata": {},
   "outputs": [
    {
     "data": {
      "image/png": "[encoded data removed]",
      "text/plain": [
       "<Figure size 432x288 with 1 Axes>"
      ]
     },
     "metadata": {
      "needs_background": "light"
     },
     "output_type": "display_data"
    }
   ],
   "source": [
    "fig, ax = plt.subplots(1,1)\n",
    "ax.scatter(centres[0,:], centres[2,:])\n",
    "ax.scatter(np.mean(centres, axis=1)[0], np.mean(centres, axis=1)[2])\n",
    "ax.set_aspect('equal', adjustable='box')"
   ]
  },
  {
   "cell_type": "code",
   "execution_count": 305,
   "metadata": {},
   "outputs": [
    {
     "data": {
      "text/plain": [
       "array([[ 7.4e+02,  0.0e+00, -4.6e+01],\n",
       "       [ 0.0e+00,  7.4e+02, -2.7e+01],\n",
       "       [ 0.0e+00,  0.0e+00,  5.0e-02]])"
      ]
     },
     "execution_count": 305,
     "metadata": {},
     "output_type": "execute_result"
    }
   ],
   "source": [
    "np.array([[740.,   0., -46.],\n",
    "      [0., 740., -27.], \n",
    "      [0., 0., 0.05]])"
   ]
  },
  {
   "cell_type": "code",
   "execution_count": 108,
   "metadata": {},
   "outputs": [],
   "source": [
    "with np.printoptions(precision=2, suppress=True):\n",
    "    for i in range(36):\n",
    "        d = centres[:,i] - np.mean(centres, axis=1)\n",
    "#         print(linalg.norm((d[0], d[2])))\n",
    "        radi[i] = linalg.norm((d[0], d[2]))\n",
    "#         print(np.abs(centres[:,i] - np.mean(centres, axis=1)))"
   ]
  },
  {
   "cell_type": "code",
   "execution_count": 100,
   "metadata": {},
   "outputs": [],
   "source": [
    "i = 0\n",
    "radi = np.array([np.abs(centres[:,i] - np.mean(centres, axis=1)) for i in range(36)])"
   ]
  },
  {
   "cell_type": "code",
   "execution_count": 118,
   "metadata": {},
   "outputs": [
    {
     "data": {
      "text/plain": [
       "(3,)"
      ]
     },
     "execution_count": 118,
     "metadata": {},
     "output_type": "execute_result"
    }
   ],
   "source": [
    "np.mean(centres, axis=1).shape"
   ]
  },
  {
   "cell_type": "code",
   "execution_count": 117,
   "metadata": {},
   "outputs": [
    {
     "ename": "AxisError",
     "evalue": "axis 1 is out of bounds for array of dimension 1",
     "output_type": "error",
     "traceback": [
      "\u001b[1;31m---------------------------------------------------------------------------\u001b[0m",
      "\u001b[1;31mAxisError\u001b[0m                                 Traceback (most recent call last)",
      "\u001b[1;32m<ipython-input-117-c1b5b900d56c>\u001b[0m in \u001b[0;36m<module>\u001b[1;34m\u001b[0m\n\u001b[1;32m----> 1\u001b[1;33m \u001b[0mforwardproj\u001b[0m\u001b[1;33m(\u001b[0m\u001b[0mnp\u001b[0m\u001b[1;33m.\u001b[0m\u001b[0mmean\u001b[0m\u001b[1;33m(\u001b[0m\u001b[0mcentres\u001b[0m\u001b[1;33m,\u001b[0m \u001b[0maxis\u001b[0m\u001b[1;33m=\u001b[0m\u001b[1;36m1\u001b[0m\u001b[1;33m)\u001b[0m\u001b[1;33m,\u001b[0m \u001b[0mprmat\u001b[0m\u001b[1;33m[\u001b[0m\u001b[1;33m:\u001b[0m\u001b[1;36m4\u001b[0m\u001b[1;33m,\u001b[0m\u001b[1;33m:\u001b[0m\u001b[1;36m4\u001b[0m\u001b[1;33m]\u001b[0m\u001b[1;33m)\u001b[0m\u001b[1;33m\u001b[0m\u001b[1;33m\u001b[0m\u001b[0m\n\u001b[0m",
      "\u001b[1;32m<ipython-input-63-696124883333>\u001b[0m in \u001b[0;36mforwardproj\u001b[1;34m(pcd, pr)\u001b[0m\n\u001b[0;32m      3\u001b[0m     \u001b[1;32mreturn\u001b[0m \u001b[0mcentre\u001b[0m\u001b[1;33m\u001b[0m\u001b[1;33m\u001b[0m\u001b[0m\n\u001b[0;32m      4\u001b[0m \u001b[1;32mdef\u001b[0m \u001b[0mforwardproj\u001b[0m\u001b[1;33m(\u001b[0m\u001b[0mpcd\u001b[0m\u001b[1;33m,\u001b[0m \u001b[0mpr\u001b[0m\u001b[1;33m)\u001b[0m\u001b[1;33m:\u001b[0m\u001b[1;33m\u001b[0m\u001b[1;33m\u001b[0m\u001b[0m\n\u001b[1;32m----> 5\u001b[1;33m     \u001b[0mpcd2\u001b[0m \u001b[1;33m=\u001b[0m \u001b[0mnp\u001b[0m\u001b[1;33m.\u001b[0m\u001b[0mconcatenate\u001b[0m\u001b[1;33m(\u001b[0m\u001b[1;33m(\u001b[0m\u001b[0mpcd\u001b[0m\u001b[1;33m,\u001b[0m \u001b[0mnp\u001b[0m\u001b[1;33m.\u001b[0m\u001b[0mexpand_dims\u001b[0m\u001b[1;33m(\u001b[0m\u001b[0mnp\u001b[0m\u001b[1;33m.\u001b[0m\u001b[0mrepeat\u001b[0m\u001b[1;33m(\u001b[0m\u001b[1;36m1\u001b[0m\u001b[1;33m,\u001b[0m \u001b[0mpcd\u001b[0m\u001b[1;33m.\u001b[0m\u001b[0mshape\u001b[0m\u001b[1;33m[\u001b[0m\u001b[1;36m0\u001b[0m\u001b[1;33m]\u001b[0m\u001b[1;33m)\u001b[0m\u001b[1;33m,\u001b[0m \u001b[0maxis\u001b[0m \u001b[1;33m=\u001b[0m \u001b[1;36m1\u001b[0m\u001b[1;33m)\u001b[0m\u001b[1;33m)\u001b[0m\u001b[1;33m,\u001b[0m \u001b[0maxis\u001b[0m\u001b[1;33m=\u001b[0m\u001b[1;36m1\u001b[0m\u001b[1;33m)\u001b[0m\u001b[1;33m\u001b[0m\u001b[1;33m\u001b[0m\u001b[0m\n\u001b[0m\u001b[0;32m      6\u001b[0m     \u001b[0mpcd2\u001b[0m \u001b[1;33m=\u001b[0m \u001b[0mnp\u001b[0m\u001b[1;33m.\u001b[0m\u001b[0mmatmul\u001b[0m\u001b[1;33m(\u001b[0m\u001b[0mpcd2\u001b[0m\u001b[1;33m,\u001b[0m\u001b[0mpr\u001b[0m\u001b[1;33m.\u001b[0m\u001b[0mT\u001b[0m\u001b[1;33m)\u001b[0m\u001b[1;33m\u001b[0m\u001b[1;33m\u001b[0m\u001b[0m\n\u001b[0;32m      7\u001b[0m     \u001b[0mpcd2\u001b[0m \u001b[1;33m=\u001b[0m \u001b[0mpcd2\u001b[0m\u001b[1;33m/\u001b[0m\u001b[0mnp\u001b[0m\u001b[1;33m.\u001b[0m\u001b[0mrepeat\u001b[0m\u001b[1;33m(\u001b[0m\u001b[0mnp\u001b[0m\u001b[1;33m.\u001b[0m\u001b[0mexpand_dims\u001b[0m\u001b[1;33m(\u001b[0m\u001b[0mpcd2\u001b[0m\u001b[1;33m[\u001b[0m\u001b[1;33m:\u001b[0m\u001b[1;33m,\u001b[0m\u001b[1;36m3\u001b[0m\u001b[1;33m]\u001b[0m\u001b[1;33m,\u001b[0m \u001b[0maxis\u001b[0m\u001b[1;33m=\u001b[0m\u001b[1;36m1\u001b[0m\u001b[1;33m)\u001b[0m\u001b[1;33m,\u001b[0m \u001b[1;36m4\u001b[0m\u001b[1;33m,\u001b[0m \u001b[0maxis\u001b[0m \u001b[1;33m=\u001b[0m \u001b[1;36m1\u001b[0m\u001b[1;33m)\u001b[0m\u001b[1;33m\u001b[0m\u001b[1;33m\u001b[0m\u001b[0m\n",
      "\u001b[1;32m<__array_function__ internals>\u001b[0m in \u001b[0;36mconcatenate\u001b[1;34m(*args, **kwargs)\u001b[0m\n",
      "\u001b[1;31mAxisError\u001b[0m: axis 1 is out of bounds for array of dimension 1"
     ]
    }
   ],
   "source": [
    "forwardproj(np.mean(centres, axis=1), prmat[:4,:4])"
   ]
  },
  {
   "cell_type": "code",
   "execution_count": 128,
   "metadata": {},
   "outputs": [],
   "source": [
    "def fp2(pcd, pr):\n",
    "#     print(pcd.shape)\n",
    "    pcd2 = np.concatenate((pcd, np.expand_dims(np.repeat(1, pcd.shape[0]), axis = 1)), axis=1)\n",
    "    pcd2 = np.matmul(pcd2,pr.T)\n",
    "    pcd2 = pcd2/np.repeat(np.expand_dims(pcd2[:,3], axis=1), 4, axis = 1)\n",
    "    return(pcd2[:,:3])"
   ]
  },
  {
   "cell_type": "code",
   "execution_count": 129,
   "metadata": {},
   "outputs": [
    {
     "data": {
      "text/plain": [
       "array([[752.52918028, 532.52998284,   1.        ]])"
      ]
     },
     "execution_count": 129,
     "metadata": {},
     "output_type": "execute_result"
    }
   ],
   "source": [
    "fp2(np.expand_dims(np.mean(centres, axis=1),axis=0), prmat[:4,:4])"
   ]
  },
  {
   "cell_type": "code",
   "execution_count": 110,
   "metadata": {},
   "outputs": [
    {
     "data": {
      "text/plain": [
       "127.66666666666667"
      ]
     },
     "execution_count": 110,
     "metadata": {},
     "output_type": "execute_result"
    }
   ],
   "source": [
    "np.mean(np.array([137, 106, 140]))"
   ]
  },
  {
   "cell_type": "code",
   "execution_count": 111,
   "metadata": {},
   "outputs": [
    {
     "data": {
      "text/plain": [
       "0.04159285714285715"
      ]
     },
     "execution_count": 111,
     "metadata": {},
     "output_type": "execute_result"
    }
   ],
   "source": [
    "5.823/140"
   ]
  },
  {
   "cell_type": "code",
   "execution_count": 109,
   "metadata": {},
   "outputs": [
    {
     "data": {
      "text/plain": [
       "[<matplotlib.lines.Line2D at 0x24c35afa160>,\n",
       " <matplotlib.lines.Line2D at 0x24c35afa220>,\n",
       " <matplotlib.lines.Line2D at 0x24c35afa2e0>]"
      ]
     },
     "execution_count": 109,
     "metadata": {},
     "output_type": "execute_result"
    },
    {
     "data": {
      "image/png": "[encoded data removed]",
      "text/plain": [
       "<Figure size 432x288 with 1 Axes>"
      ]
     },
     "metadata": {
      "needs_background": "light"
     },
     "output_type": "display_data"
    }
   ],
   "source": [
    "plt.plot(radi)"
   ]
  },
  {
   "cell_type": "code",
   "execution_count": 114,
   "metadata": {},
   "outputs": [
    {
     "data": {
      "text/plain": [
       "2510.873365496584"
      ]
     },
     "execution_count": 114,
     "metadata": {},
     "output_type": "execute_result"
    }
   ],
   "source": [
    "np.mean(radi)"
   ]
  },
  {
   "cell_type": "code",
   "execution_count": 113,
   "metadata": {},
   "outputs": [
    {
     "data": {
      "text/plain": [
       "125.5436682748292"
      ]
     },
     "execution_count": 113,
     "metadata": {},
     "output_type": "execute_result"
    }
   ],
   "source": [
    "np.mean(radi)*0.05"
   ]
  },
  {
   "cell_type": "code",
   "execution_count": 96,
   "metadata": {},
   "outputs": [
    {
     "ename": "NameError",
     "evalue": "name 'x' is not defined",
     "output_type": "error",
     "traceback": [
      "\u001b[1;31m---------------------------------------------------------------------------\u001b[0m",
      "\u001b[1;31mNameError\u001b[0m                                 Traceback (most recent call last)",
      "\u001b[1;32m<ipython-input-96-20f2fca24363>\u001b[0m in \u001b[0;36m<module>\u001b[1;34m\u001b[0m\n\u001b[0;32m     14\u001b[0m \u001b[1;31m# center_estimate = centres[0,:], centres[2,:]\u001b[0m\u001b[1;33m\u001b[0m\u001b[1;33m\u001b[0m\u001b[1;33m\u001b[0m\u001b[0m\n\u001b[0;32m     15\u001b[0m \u001b[0mcenter_estimate\u001b[0m \u001b[1;33m=\u001b[0m \u001b[0mnp\u001b[0m\u001b[1;33m.\u001b[0m\u001b[0mmean\u001b[0m\u001b[1;33m(\u001b[0m\u001b[0mcentres\u001b[0m\u001b[1;33m,\u001b[0m \u001b[0maxis\u001b[0m\u001b[1;33m=\u001b[0m\u001b[1;36m1\u001b[0m\u001b[1;33m)\u001b[0m\u001b[1;33m[\u001b[0m\u001b[1;36m0\u001b[0m\u001b[1;33m]\u001b[0m\u001b[1;33m,\u001b[0m \u001b[0mnp\u001b[0m\u001b[1;33m.\u001b[0m\u001b[0mmean\u001b[0m\u001b[1;33m(\u001b[0m\u001b[0mcentres\u001b[0m\u001b[1;33m,\u001b[0m \u001b[0maxis\u001b[0m\u001b[1;33m=\u001b[0m\u001b[1;36m1\u001b[0m\u001b[1;33m)\u001b[0m\u001b[1;33m[\u001b[0m\u001b[1;36m2\u001b[0m\u001b[1;33m]\u001b[0m\u001b[1;33m\u001b[0m\u001b[1;33m\u001b[0m\u001b[0m\n\u001b[1;32m---> 16\u001b[1;33m \u001b[0mcenter_2\u001b[0m\u001b[1;33m,\u001b[0m \u001b[0mier\u001b[0m \u001b[1;33m=\u001b[0m \u001b[0moptimize\u001b[0m\u001b[1;33m.\u001b[0m\u001b[0mleastsq\u001b[0m\u001b[1;33m(\u001b[0m\u001b[0mf_2\u001b[0m\u001b[1;33m,\u001b[0m \u001b[0mcenter_estimate\u001b[0m\u001b[1;33m)\u001b[0m\u001b[1;33m\u001b[0m\u001b[1;33m\u001b[0m\u001b[0m\n\u001b[0m\u001b[0;32m     17\u001b[0m \u001b[0mprint\u001b[0m\u001b[1;33m(\u001b[0m\u001b[0mcenter_2\u001b[0m\u001b[1;33m.\u001b[0m\u001b[0mshape\u001b[0m\u001b[1;33m)\u001b[0m\u001b[1;33m\u001b[0m\u001b[1;33m\u001b[0m\u001b[0m\n\u001b[0;32m     18\u001b[0m \u001b[0mxc_2\u001b[0m\u001b[1;33m,\u001b[0m \u001b[0myc_2\u001b[0m \u001b[1;33m=\u001b[0m \u001b[0mcenter_2\u001b[0m\u001b[1;33m\u001b[0m\u001b[1;33m\u001b[0m\u001b[0m\n",
      "\u001b[1;32m~\\Anaconda3\\envs\\sh\\lib\\site-packages\\scipy\\optimize\\minpack.py\u001b[0m in \u001b[0;36mleastsq\u001b[1;34m(func, x0, args, Dfun, full_output, col_deriv, ftol, xtol, gtol, maxfev, epsfcn, factor, diag)\u001b[0m\n\u001b[0;32m    408\u001b[0m     \u001b[1;32mif\u001b[0m \u001b[1;32mnot\u001b[0m \u001b[0misinstance\u001b[0m\u001b[1;33m(\u001b[0m\u001b[0margs\u001b[0m\u001b[1;33m,\u001b[0m \u001b[0mtuple\u001b[0m\u001b[1;33m)\u001b[0m\u001b[1;33m:\u001b[0m\u001b[1;33m\u001b[0m\u001b[1;33m\u001b[0m\u001b[0m\n\u001b[0;32m    409\u001b[0m         \u001b[0margs\u001b[0m \u001b[1;33m=\u001b[0m \u001b[1;33m(\u001b[0m\u001b[0margs\u001b[0m\u001b[1;33m,\u001b[0m\u001b[1;33m)\u001b[0m\u001b[1;33m\u001b[0m\u001b[1;33m\u001b[0m\u001b[0m\n\u001b[1;32m--> 410\u001b[1;33m     \u001b[0mshape\u001b[0m\u001b[1;33m,\u001b[0m \u001b[0mdtype\u001b[0m \u001b[1;33m=\u001b[0m \u001b[0m_check_func\u001b[0m\u001b[1;33m(\u001b[0m\u001b[1;34m'leastsq'\u001b[0m\u001b[1;33m,\u001b[0m \u001b[1;34m'func'\u001b[0m\u001b[1;33m,\u001b[0m \u001b[0mfunc\u001b[0m\u001b[1;33m,\u001b[0m \u001b[0mx0\u001b[0m\u001b[1;33m,\u001b[0m \u001b[0margs\u001b[0m\u001b[1;33m,\u001b[0m \u001b[0mn\u001b[0m\u001b[1;33m)\u001b[0m\u001b[1;33m\u001b[0m\u001b[1;33m\u001b[0m\u001b[0m\n\u001b[0m\u001b[0;32m    411\u001b[0m     \u001b[0mm\u001b[0m \u001b[1;33m=\u001b[0m \u001b[0mshape\u001b[0m\u001b[1;33m[\u001b[0m\u001b[1;36m0\u001b[0m\u001b[1;33m]\u001b[0m\u001b[1;33m\u001b[0m\u001b[1;33m\u001b[0m\u001b[0m\n\u001b[0;32m    412\u001b[0m \u001b[1;33m\u001b[0m\u001b[0m\n",
      "\u001b[1;32m~\\Anaconda3\\envs\\sh\\lib\\site-packages\\scipy\\optimize\\minpack.py\u001b[0m in \u001b[0;36m_check_func\u001b[1;34m(checker, argname, thefunc, x0, args, numinputs, output_shape)\u001b[0m\n\u001b[0;32m     22\u001b[0m def _check_func(checker, argname, thefunc, x0, args, numinputs,\n\u001b[0;32m     23\u001b[0m                 output_shape=None):\n\u001b[1;32m---> 24\u001b[1;33m     \u001b[0mres\u001b[0m \u001b[1;33m=\u001b[0m \u001b[0matleast_1d\u001b[0m\u001b[1;33m(\u001b[0m\u001b[0mthefunc\u001b[0m\u001b[1;33m(\u001b[0m\u001b[1;33m*\u001b[0m\u001b[1;33m(\u001b[0m\u001b[1;33m(\u001b[0m\u001b[0mx0\u001b[0m\u001b[1;33m[\u001b[0m\u001b[1;33m:\u001b[0m\u001b[0mnuminputs\u001b[0m\u001b[1;33m]\u001b[0m\u001b[1;33m,\u001b[0m\u001b[1;33m)\u001b[0m \u001b[1;33m+\u001b[0m \u001b[0margs\u001b[0m\u001b[1;33m)\u001b[0m\u001b[1;33m)\u001b[0m\u001b[1;33m)\u001b[0m\u001b[1;33m\u001b[0m\u001b[1;33m\u001b[0m\u001b[0m\n\u001b[0m\u001b[0;32m     25\u001b[0m     \u001b[1;32mif\u001b[0m \u001b[1;33m(\u001b[0m\u001b[0moutput_shape\u001b[0m \u001b[1;32mis\u001b[0m \u001b[1;32mnot\u001b[0m \u001b[1;32mNone\u001b[0m\u001b[1;33m)\u001b[0m \u001b[1;32mand\u001b[0m \u001b[1;33m(\u001b[0m\u001b[0mshape\u001b[0m\u001b[1;33m(\u001b[0m\u001b[0mres\u001b[0m\u001b[1;33m)\u001b[0m \u001b[1;33m!=\u001b[0m \u001b[0moutput_shape\u001b[0m\u001b[1;33m)\u001b[0m\u001b[1;33m:\u001b[0m\u001b[1;33m\u001b[0m\u001b[1;33m\u001b[0m\u001b[0m\n\u001b[0;32m     26\u001b[0m         \u001b[1;32mif\u001b[0m \u001b[1;33m(\u001b[0m\u001b[0moutput_shape\u001b[0m\u001b[1;33m[\u001b[0m\u001b[1;36m0\u001b[0m\u001b[1;33m]\u001b[0m \u001b[1;33m!=\u001b[0m \u001b[1;36m1\u001b[0m\u001b[1;33m)\u001b[0m\u001b[1;33m:\u001b[0m\u001b[1;33m\u001b[0m\u001b[1;33m\u001b[0m\u001b[0m\n",
      "\u001b[1;32m<ipython-input-96-20f2fca24363>\u001b[0m in \u001b[0;36mf_2\u001b[1;34m(c)\u001b[0m\n\u001b[0;32m      9\u001b[0m \u001b[1;32mdef\u001b[0m \u001b[0mf_2\u001b[0m\u001b[1;33m(\u001b[0m\u001b[0mc\u001b[0m\u001b[1;33m)\u001b[0m\u001b[1;33m:\u001b[0m\u001b[1;33m\u001b[0m\u001b[1;33m\u001b[0m\u001b[0m\n\u001b[0;32m     10\u001b[0m     \u001b[1;34m\"\"\" calculate the algebraic distance between the data points and the mean circle centered at c=(xc, yc) \"\"\"\u001b[0m\u001b[1;33m\u001b[0m\u001b[1;33m\u001b[0m\u001b[0m\n\u001b[1;32m---> 11\u001b[1;33m     \u001b[0mRi\u001b[0m \u001b[1;33m=\u001b[0m \u001b[0mcalc_R\u001b[0m\u001b[1;33m(\u001b[0m\u001b[1;33m*\u001b[0m\u001b[0mc\u001b[0m\u001b[1;33m)\u001b[0m\u001b[1;33m\u001b[0m\u001b[1;33m\u001b[0m\u001b[0m\n\u001b[0m\u001b[0;32m     12\u001b[0m     \u001b[1;32mreturn\u001b[0m \u001b[0mRi\u001b[0m \u001b[1;33m-\u001b[0m \u001b[0mRi\u001b[0m\u001b[1;33m.\u001b[0m\u001b[0mmean\u001b[0m\u001b[1;33m(\u001b[0m\u001b[1;33m)\u001b[0m\u001b[1;33m\u001b[0m\u001b[1;33m\u001b[0m\u001b[0m\n\u001b[0;32m     13\u001b[0m \u001b[1;33m\u001b[0m\u001b[0m\n",
      "\u001b[1;32m<ipython-input-96-20f2fca24363>\u001b[0m in \u001b[0;36mcalc_R\u001b[1;34m(xc, yc)\u001b[0m\n\u001b[0;32m      5\u001b[0m \u001b[1;32mdef\u001b[0m \u001b[0mcalc_R\u001b[0m\u001b[1;33m(\u001b[0m\u001b[0mxc\u001b[0m\u001b[1;33m,\u001b[0m \u001b[0myc\u001b[0m\u001b[1;33m)\u001b[0m\u001b[1;33m:\u001b[0m\u001b[1;33m\u001b[0m\u001b[1;33m\u001b[0m\u001b[0m\n\u001b[0;32m      6\u001b[0m     \u001b[1;34m\"\"\" calculate the distance of each 2D points from the center (xc, yc) \"\"\"\u001b[0m\u001b[1;33m\u001b[0m\u001b[1;33m\u001b[0m\u001b[0m\n\u001b[1;32m----> 7\u001b[1;33m     \u001b[1;32mreturn\u001b[0m \u001b[0msqrt\u001b[0m\u001b[1;33m(\u001b[0m\u001b[1;33m(\u001b[0m\u001b[0mx\u001b[0m\u001b[1;33m-\u001b[0m\u001b[0mxc\u001b[0m\u001b[1;33m)\u001b[0m\u001b[1;33m**\u001b[0m\u001b[1;36m2\u001b[0m \u001b[1;33m+\u001b[0m \u001b[1;33m(\u001b[0m\u001b[0my\u001b[0m\u001b[1;33m-\u001b[0m\u001b[0myc\u001b[0m\u001b[1;33m)\u001b[0m\u001b[1;33m**\u001b[0m\u001b[1;36m2\u001b[0m\u001b[1;33m)\u001b[0m\u001b[1;33m\u001b[0m\u001b[1;33m\u001b[0m\u001b[0m\n\u001b[0m\u001b[0;32m      8\u001b[0m \u001b[1;33m\u001b[0m\u001b[0m\n\u001b[0;32m      9\u001b[0m \u001b[1;32mdef\u001b[0m \u001b[0mf_2\u001b[0m\u001b[1;33m(\u001b[0m\u001b[0mc\u001b[0m\u001b[1;33m)\u001b[0m\u001b[1;33m:\u001b[0m\u001b[1;33m\u001b[0m\u001b[1;33m\u001b[0m\u001b[0m\n",
      "\u001b[1;31mNameError\u001b[0m: name 'x' is not defined"
     ]
    }
   ],
   "source": [
    "from scipy import optimize\n",
    "from math import sqrt\n",
    "method_2 = \"leastsq\"\n",
    "\n",
    "def calc_R(xc, yc):\n",
    "    \"\"\" calculate the distance of each 2D points from the center (xc, yc) \"\"\"\n",
    "    return sqrt((x-xc)**2 + (y-yc)**2)\n",
    "\n",
    "def f_2(c):\n",
    "    \"\"\" calculate the algebraic distance between the data points and the mean circle centered at c=(xc, yc) \"\"\"\n",
    "    Ri = calc_R(*c)\n",
    "    return Ri - Ri.mean()\n",
    "\n",
    "# center_estimate = centres[0,:], centres[2,:]\n",
    "center_estimate = np.mean(centres, axis=1)[0], np.mean(centres, axis=1)[2]\n",
    "center_2, ier = optimize.leastsq(f_2, center_estimate)\n",
    "print(center_2.shape)\n",
    "xc_2, yc_2 = center_2\n",
    "Ri_2       = calc_R(*center_2)\n",
    "R_2        = Ri_2.mean()\n",
    "residu_2   = sum((Ri_2 - R_2)**2)"
   ]
  },
  {
   "cell_type": "code",
   "execution_count": 81,
   "metadata": {},
   "outputs": [
    {
     "data": {
      "text/plain": [
       "[<matplotlib.lines.Line2D at 0x24c3353b3a0>]"
      ]
     },
     "execution_count": 81,
     "metadata": {},
     "output_type": "execute_result"
    },
    {
     "data": {
      "image/png": "[encoded data removed]",
      "text/plain": [
       "<Figure size 432x288 with 1 Axes>"
      ]
     },
     "metadata": {
      "needs_background": "light"
     },
     "output_type": "display_data"
    }
   ],
   "source": [
    "plt.scatter(centres[1,:])"
   ]
  },
  {
   "cell_type": "code",
   "execution_count": 83,
   "metadata": {},
   "outputs": [
    {
     "data": {
      "text/plain": [
       "<matplotlib.collections.PathCollection at 0x24c3359f940>"
      ]
     },
     "execution_count": 83,
     "metadata": {},
     "output_type": "execute_result"
    },
    {
     "data": {
      "image/png": "[encoded data removed]",
      "text/plain": [
       "<Figure size 432x288 with 1 Axes>"
      ]
     },
     "metadata": {
      "needs_background": "light"
     },
     "output_type": "display_data"
    }
   ],
   "source": [
    "plt.scatter(np.arange(36),centres[1,:])"
   ]
  },
  {
   "cell_type": "code",
   "execution_count": 8,
   "metadata": {},
   "outputs": [
    {
     "data": {
      "text/plain": [
       "array([1.8263947e+05, 9.8688500e+04, 1.2100000e+02])"
      ]
     },
     "execution_count": 8,
     "metadata": {},
     "output_type": "execute_result"
    }
   ],
   "source": [
    "np.matmul(prmat[:3,:3],getcen(prmat[:3,:]))"
   ]
  },
  {
   "cell_type": "code",
   "execution_count": 12,
   "metadata": {},
   "outputs": [
    {
     "data": {
      "text/plain": [
       "array([-1.89174898e-10, -5.82076609e-11, -5.68434189e-14, -5.68434189e-14])"
      ]
     },
     "execution_count": 12,
     "metadata": {},
     "output_type": "execute_result"
    }
   ],
   "source": [
    "np.matmul(prmat[:4,:],np.hstack((getcen(prmat[:3,:]),1)))"
   ]
  },
  {
   "cell_type": "code",
   "execution_count": 19,
   "metadata": {},
   "outputs": [
    {
     "data": {
      "text/plain": [
       "array([3.58400000e+03, 1.10933333e+03, 1.00000000e+00, 1.00000000e+00])"
      ]
     },
     "execution_count": 19,
     "metadata": {},
     "output_type": "execute_result"
    }
   ],
   "source": [
    "np.matmul(prmat[:4,:],getcenf(prmat[:3,:]))/np.matmul(prmat[:4,:],getcenf(prmat[:3,:]))[3]"
   ]
  },
  {
   "cell_type": "code",
   "execution_count": 16,
   "metadata": {},
   "outputs": [
    {
     "data": {
      "text/plain": [
       "-27837.178534739705"
      ]
     },
     "execution_count": 16,
     "metadata": {},
     "output_type": "execute_result"
    }
   ],
   "source": [
    "linalg.det(prmat[:3,[0,1,2]])"
   ]
  },
  {
   "cell_type": "markdown",
   "metadata": {},
   "source": [
    "# view all projections in 3d and correspondings prmat centres"
   ]
  },
  {
   "cell_type": "code",
   "execution_count": null,
   "metadata": {},
   "outputs": [],
   "source": []
  },
  {
   "cell_type": "code",
   "execution_count": 77,
   "metadata": {},
   "outputs": [
    {
     "data": {
      "text/plain": [
       "array([  534.28230177,    46.03989244, -2349.86334207])"
      ]
     },
     "execution_count": 77,
     "metadata": {},
     "output_type": "execute_result"
    }
   ],
   "source": [
    "-np.matmul(linalg.inv(M[:3,:3]),M[:3,3])"
   ]
  },
  {
   "cell_type": "code",
   "execution_count": 72,
   "metadata": {},
   "outputs": [
    {
     "data": {
      "text/plain": [
       "-0.05078125"
      ]
     },
     "execution_count": 72,
     "metadata": {},
     "output_type": "execute_result"
    }
   ],
   "source": [
    "scipy.linalg.rq(prmat[:3,:3])[0][2,2]"
   ]
  },
  {
   "cell_type": "code",
   "execution_count": 220,
   "metadata": {},
   "outputs": [
    {
     "name": "stdout",
     "output_type": "stream",
     "text": [
      "[ 2028.77903823    46.21210276 -1512.80341327]\n",
      "[  534.28230177    46.03989244 -2349.86334207]\n"
     ]
    }
   ],
   "source": [
    "E = [[1, 0, 0, 0],\n",
    " [0, 1, 0, 0],\n",
    " [0, 0, 1, 0]]\n",
    "pcda = np.zeros([1,3])\n",
    "pcdc = np.zeros([1,3])\n",
    "for angle in [31, 35]:\n",
    "    M = prmat[4*angle:4*(angle+1),:]\n",
    "    centre = -np.matmul(linalg.inv(M[:3,:3]),M[:3,3])\n",
    "    print(centre)\n",
    "    pm = np.matmul(linalg.inv(M[:3,:3]),(-15*np.array([695, 998, 1])-M[3,:3]))\n",
    "    prc = np.matmul(np.matmul(E,M.T),linalg.pinv(np.matmul(E,prmat[:4,:].T)))\n",
    "    pcda = np.vstack((pcda,np.matmul(pcd,prc.T)[::100,:]))\n",
    "    pcda = np.vstack((pcda,np.mean(np.matmul(pcd,prc.T),axis=0)))\n",
    "    pcdc = np.vstack((pcda,scipy.linalg.rq(prmat[:3,:3])[0][2,2]*forwardproj(pcd,M)[::100,:]))\n",
    "\n",
    "pcdb = open3d.geometry.PointCloud()\n",
    "pcdb.points = open3d.utility.Vector3dVector(pcda)\n",
    "\n",
    "pcdd = open3d.geometry.PointCloud()\n",
    "pcdd.points = open3d.utility.Vector3dVector(pcdc)\n",
    "\n",
    "mesh_sphere = open3d.geometry.TriangleMesh.create_sphere(radius=5)\n",
    "mesh_sphere.compute_vertex_normals()\n",
    "mesh_sphere.paint_uniform_color([0.1, 0.1, 0.7])\n",
    "mesh_sphere.transform(np.asarray(\n",
    "                [\n",
    "                [1, 0, 0, pm[0]],\n",
    "                [0, 1, 0, pm[1]],\n",
    "                [0, 0, 1, pm[2]],\n",
    "                [0, 0, 0, 1]]))\n",
    "mesh_sphere2 = open3d.geometry.TriangleMesh.create_sphere(radius=5)\n",
    "mesh_sphere2.compute_vertex_normals()\n",
    "mesh_sphere2.paint_uniform_color([0.1, 0.4, 0.7])\n",
    "mesh_sphere2.transform(np.asarray(\n",
    "                [\n",
    "                [1, 0, 0, centre[0]],\n",
    "                [0, 1, 0, centre[1]],\n",
    "                [0, 0, 1, centre[2]],\n",
    "                [0, 0, 0, 1]]))\n",
    "points = [\n",
    "    [0, 0, 0],\n",
    "    [pm[0], pm[1], pm[2]]\n",
    "]\n",
    "lines = [\n",
    "    [0, 1]\n",
    "]\n",
    "colors = [[1, 0, 0] for i in range(len(lines))]\n",
    "line_set = open3d.geometry.LineSet(\n",
    "    points=open3d.utility.Vector3dVector(points),\n",
    "    lines=open3d.utility.Vector2iVector(lines),\n",
    ")\n",
    "line_set.colors = open3d.utility.Vector3dVector(colors)\n",
    "open3d.visualization.draw_geometries([pcdb, mesh_sphere, mesh_sphere2, line_set])\n"
   ]
  },
  {
   "cell_type": "markdown",
   "metadata": {},
   "source": [
    "## 2d projections in 3d"
   ]
  },
  {
   "cell_type": "code",
   "execution_count": 64,
   "metadata": {},
   "outputs": [
    {
     "data": {
      "text/plain": [
       "(36328, 3)"
      ]
     },
     "execution_count": 64,
     "metadata": {},
     "output_type": "execute_result"
    }
   ],
   "source": [
    "forwardproj(pcd,M).shape"
   ]
  },
  {
   "cell_type": "code",
   "execution_count": 65,
   "metadata": {},
   "outputs": [
    {
     "ename": "IndexError",
     "evalue": "index 3 is out of bounds for axis 1 with size 3",
     "output_type": "error",
     "traceback": [
      "\u001b[1;31m---------------------------------------------------------------------------\u001b[0m",
      "\u001b[1;31mIndexError\u001b[0m                                Traceback (most recent call last)",
      "\u001b[1;32m<ipython-input-65-c99f08ad690b>\u001b[0m in \u001b[0;36m<module>\u001b[1;34m\u001b[0m\n\u001b[1;32m----> 1\u001b[1;33m \u001b[0mforwardproj\u001b[0m\u001b[1;33m(\u001b[0m\u001b[0mpcd\u001b[0m\u001b[1;33m,\u001b[0m\u001b[0mM\u001b[0m\u001b[1;33m)\u001b[0m\u001b[1;33m[\u001b[0m\u001b[1;33m:\u001b[0m\u001b[1;33m,\u001b[0m\u001b[1;36m3\u001b[0m\u001b[1;33m]\u001b[0m\u001b[1;33m\u001b[0m\u001b[1;33m\u001b[0m\u001b[0m\n\u001b[0m",
      "\u001b[1;31mIndexError\u001b[0m: index 3 is out of bounds for axis 1 with size 3"
     ]
    }
   ],
   "source": [
    "forwardproj(pcd,M)"
   ]
  },
  {
   "cell_type": "code",
   "execution_count": 43,
   "metadata": {},
   "outputs": [
    {
     "ename": "IndexError",
     "evalue": "index 3 is out of bounds for axis 1 with size 3",
     "output_type": "error",
     "traceback": [
      "\u001b[1;31m---------------------------------------------------------------------------\u001b[0m",
      "\u001b[1;31mIndexError\u001b[0m                                Traceback (most recent call last)",
      "\u001b[1;32m<ipython-input-43-a768c6c4da8a>\u001b[0m in \u001b[0;36m<module>\u001b[1;34m\u001b[0m\n\u001b[1;32m----> 1\u001b[1;33m \u001b[0mpcd\u001b[0m\u001b[1;33m[\u001b[0m\u001b[1;33m:\u001b[0m\u001b[1;33m,\u001b[0m\u001b[1;36m3\u001b[0m\u001b[1;33m]\u001b[0m\u001b[1;33m\u001b[0m\u001b[1;33m\u001b[0m\u001b[0m\n\u001b[0m",
      "\u001b[1;31mIndexError\u001b[0m: index 3 is out of bounds for axis 1 with size 3"
     ]
    }
   ],
   "source": [
    "pcd[:,3]"
   ]
  },
  {
   "cell_type": "code",
   "execution_count": 218,
   "metadata": {},
   "outputs": [],
   "source": [
    "E = [[1, 0, 0, 0],\n",
    " [0, 1, 0, 0],\n",
    " [0, 0, 1, 0]]\n",
    "pcda = np.zeros([1,3])\n",
    "# for angle in [0, 6, 12, 18, 24, 30]:\n",
    "for angle in range(36):\n",
    "    M = prmat[4*angle:4*(angle+1),:]\n",
    "#     pcd2 = forwardproj(pcd,M)\n",
    "#     centre = np.matmul(linalg.inv(M[:3,:3]),M[3,:3])\n",
    "#     print(centre)\n",
    "#     pm = np.matmul(linalg.inv(M[:3,:3]),(-15*np.array([695, 998, 1])-M[3,:3]))\n",
    "#     prc = np.matmul(np.matmul(E,M.T),linalg.pinv(np.matmul(E,prmat[:4,:].T)))\n",
    "    pcda = np.vstack((pcda,forwardproj(pcd,M)[::100,:]))\n",
    "#     pcda = np.vstack((pcda,np.mean(np.matmul(pcd,prc.T),axis=0)))\n",
    "pcdb = open3d.geometry.PointCloud()\n",
    "pcdb.points = open3d.utility.Vector3dVector(pcda)\n",
    "mesh_sphere = open3d.geometry.TriangleMesh.create_sphere(radius=5)\n",
    "mesh_sphere.compute_vertex_normals()\n",
    "mesh_sphere.paint_uniform_color([0.1, 0.1, 0.7])\n",
    "mesh_sphere.transform(np.asarray(\n",
    "                [\n",
    "                [1, 0, 0, pm[0]],\n",
    "                [0, 1, 0, pm[1]],\n",
    "                [0, 0, 1, pm[2]],\n",
    "                [0, 0, 0, 1]]))\n",
    "mesh_sphere2 = open3d.geometry.TriangleMesh.create_sphere(radius=5)\n",
    "mesh_sphere2.compute_vertex_normals()\n",
    "mesh_sphere2.paint_uniform_color([0.1, 0.4, 0.7])\n",
    "mesh_sphere2.transform(np.asarray(\n",
    "                [\n",
    "                [1, 0, 0, centre[0]],\n",
    "                [0, 1, 0, centre[1]],\n",
    "                [0, 0, 1, centre[2]],\n",
    "                [0, 0, 0, 1]]))\n",
    "points = [\n",
    "    [0, 0, 0],\n",
    "    [pm[0], pm[1], pm[2]]\n",
    "]\n",
    "lines = [\n",
    "    [0, 1]\n",
    "]\n",
    "colors = [[1, 0, 0] for i in range(len(lines))]\n",
    "line_set = open3d.geometry.LineSet(\n",
    "    points=open3d.utility.Vector3dVector(points),\n",
    "    lines=open3d.utility.Vector2iVector(lines),\n",
    ")\n",
    "line_set.colors = open3d.utility.Vector3dVector(colors)\n",
    "open3d.visualization.draw_geometries([pcdb, mesh_sphere, mesh_sphere2, line_set])\n"
   ]
  },
  {
   "cell_type": "markdown",
   "metadata": {},
   "source": [
    "# project origin of the camera circle to the image plain"
   ]
  },
  {
   "cell_type": "code",
   "execution_count": 318,
   "metadata": {},
   "outputs": [],
   "source": [
    "cms = [h//2, w//2]"
   ]
  },
  {
   "cell_type": "code",
   "execution_count": 319,
   "metadata": {},
   "outputs": [
    {
     "data": {
      "text/plain": [
       "[500, 900.0]"
      ]
     },
     "execution_count": 319,
     "metadata": {},
     "output_type": "execute_result"
    }
   ],
   "source": [
    "cms"
   ]
  },
  {
   "cell_type": "code",
   "execution_count": 320,
   "metadata": {},
   "outputs": [
    {
     "data": {
      "text/plain": [
       "900"
      ]
     },
     "execution_count": 320,
     "metadata": {},
     "output_type": "execute_result"
    }
   ],
   "source": [
    "1800//2"
   ]
  },
  {
   "cell_type": "code",
   "execution_count": 314,
   "metadata": {},
   "outputs": [
    {
     "data": {
      "text/plain": [
       "150.0"
      ]
     },
     "execution_count": 314,
     "metadata": {},
     "output_type": "execute_result"
    }
   ],
   "source": [
    "cms[0] - new_h//2"
   ]
  },
  {
   "cell_type": "code",
   "execution_count": 332,
   "metadata": {},
   "outputs": [
    {
     "name": "stdout",
     "output_type": "stream",
     "text": [
      "(36328, 4)\n",
      "[121.10617155  56.74105373 158.76739705   1.        ]\n"
     ]
    },
    {
     "data": {
      "text/plain": [
       "<matplotlib.image.AxesImage at 0x24c395015b0>"
      ]
     },
     "execution_count": 332,
     "metadata": {},
     "output_type": "execute_result"
    },
    {
     "data": {
      "image/png": "[encoded data removed]",
      "text/plain": [
       "<Figure size 1080x1080 with 4 Axes>"
      ]
     },
     "metadata": {
      "needs_background": "light"
     },
     "output_type": "display_data"
    }
   ],
   "source": [
    "h = 1000\n",
    "hc = 700\n",
    "hn = 250\n",
    "angle = 0\n",
    "w, wc, wn = h*1.8, hc*1.8, hn*1.8\n",
    "k = hn/hc\n",
    "# cv = np.array([wc/2-cms[1], hc/2-cms[0], 0, 0])\n",
    "mu=1\n",
    "flname = '1484737/1494452'\n",
    "img = np.asarray(io.imread('C:/cherepashkin1/phenoseed/598/'+flname+'/rotation_'+str(10*angle).zfill(3)+'.tif'))\n",
    "pcd = np.asarray(open3d.io.read_point_cloud('C:/cherepashkin1/phenoseed/598/'+flname+'_Surface.ply').points)\n",
    "prmat = prmatread('C:/cherepashkin1/phenoseed/598/'+flname+'_ProjectionMatrices.txt')\n",
    "new_h = 700\n",
    "new_w = 1260\n",
    "img0 = 255-img\n",
    "# properties = regionprops(\n",
    "#     (img0 > filters.threshold_otsu(img0)).astype(int), img0)\n",
    "# cms = tuple(map(lambda x: int(x), properties[0].centroid))\n",
    "cms = [int(h/2), int(w/2)]\n",
    "tempa = (img[cms[0] - new_h//2: cms[0] + new_h//2,\n",
    "         cms[1] - new_w//2: cms[1] + new_w//2]).astype(np.uint8)\n",
    "padh = (new_h-tempa.shape[0])//2\n",
    "padw = (new_w-tempa.shape[1])//2\n",
    "tempb = np.pad(\n",
    "    tempa, ((padh, new_h-tempa.shape[0]-padh),\n",
    "            (padw, new_w-tempa.shape[1]-padw)),\n",
    "    mode='constant', constant_values=0)\n",
    "new_img = np.squeeze(\n",
    "    transform.resize(tempb,(250, 450),\n",
    "        preserve_range=True))\n",
    "pr0 = prmat[angle*4:4*(angle+1),:]\n",
    "f, ((a0, a1), (a2, a3)) = plt.subplots(2, 2, figsize=(15,15))\n",
    "pcd1 = np.concatenate((pcd, np.expand_dims(np.repeat(1,\n",
    "    pcd.shape[0]), axis = 1)), axis=1)\n",
    "pcd1 = np.matmul(pcd1,pr0.T)\n",
    "pcd1 = pcd1/np.repeat(np.expand_dims(pcd1[:,3], axis=1), 4, axis = 1)\n",
    "print(pcd1.shape)\n",
    "origin = np.hstack((np.mean(pcd,axis=0),1))\n",
    "print(origin)\n",
    "origin1 = np.matmul(origin,pr0.T)\n",
    "origin2 = origin1/origin1[3]\n",
    "# delta2 = np.matmul(linalg.inv(pr0[:3,:3]), (-135*np.array([cv[0], cv[1], 0, 0]))[:3])\n",
    "# pcd2 = pcd+np.repeat(np.expand_dims(delta2, axis=0), pcd.shape[0], axis=0)\n",
    "# pcd2 = np.concatenate((pcd2, np.expand_dims(np.repeat(1, pcd.shape[0]), axis = 1)), axis=1)\n",
    "# pcd2 = np.matmul(pcd2,pr0.T)\n",
    "# pcd2 = pcd2/np.repeat(np.expand_dims(pcd2[:,3], axis=1), 4, axis = 1)\n",
    "a0.set_aspect('equal', adjustable='box')\n",
    "a1.imshow(img, cmap='gray')\n",
    "# a1.scatter(cms[1],cms[0])\n",
    "# a1.scatter(1800/2,1000/2)\n",
    "a1.scatter(pcd1[::25,0], pcd1[::25,1], alpha = 0.1, s=10)\n",
    "# cp = np.squeeze(fp2(np.expand_dims(np.mean(centres, axis=1),axis=0), prmat[:4,:4]))\n",
    "# print(cp)\n",
    "# a1.scatter(cp[0], cp[1])\n",
    "a1.add_patch(patches.Rectangle((cms[1]-1260/2, cms[0]-700/2), 1260, 700, linewidth=1, edgecolor='r', facecolor='none'))\n",
    "tip = np.squeeze(forwardproj(np.array([[0,0,0]]),prmat[:4,:4])-[r2[0,2], r2[1,2], 0])\n",
    "tip = np.squeeze(forwardproj(np.array([[0,0,0]]),prmat[:4,:4]))\n",
    "a1.scatter(tip[1], tip[0])\n",
    "a2.imshow(tempb, cmap='gray')\n",
    "# a2.imshow(tempa, cmap='gray')\n",
    "# a2.scatter(wc/2,hc/2)\n",
    "# a2.scatter(wc/2-(cms[1]-w/2),hc/2-(cms[0]-h/2))\n",
    "# a2.scatter(pcd2[::25,0],pcd2[::25,1], s=10, alpha = 0.1)\n",
    "# a3.imshow(new_img, cmap='gray')\n",
    "# a3.scatter(450/2,250/2, s=20)\n",
    "# a3.scatter(wn/2-(cms[1]-w/2)*k,hn/2-(cms[0]-h/2)*k, s=20)\n",
    "# a3.scatter((pcd1[0,:]-(cms[1]-wc/2))*k,(pcd1[1,:]-(cms[0]-hc/2))*k, s=10, alpha=0.1)"
   ]
  },
  {
   "cell_type": "code",
   "execution_count": 139,
   "metadata": {},
   "outputs": [
    {
     "data": {
      "text/plain": [
       "array([88., 20., 92.])"
      ]
     },
     "execution_count": 139,
     "metadata": {},
     "output_type": "execute_result"
    }
   ],
   "source": [
    "np.min(pcd,axis=0)"
   ]
  },
  {
   "cell_type": "code",
   "execution_count": 140,
   "metadata": {},
   "outputs": [
    {
     "data": {
      "text/plain": [
       "array([152.,  92., 223.])"
      ]
     },
     "execution_count": 140,
     "metadata": {},
     "output_type": "execute_result"
    }
   ],
   "source": [
    "np.max(pcd,axis=0)"
   ]
  },
  {
   "cell_type": "code",
   "execution_count": null,
   "metadata": {},
   "outputs": [],
   "source": []
  },
  {
   "cell_type": "code",
   "execution_count": 141,
   "metadata": {},
   "outputs": [
    {
     "data": {
      "text/plain": [
       "array([121.10617155,  56.74105373, 158.76739705])"
      ]
     },
     "execution_count": 141,
     "metadata": {},
     "output_type": "execute_result"
    }
   ],
   "source": [
    "np.mean(pcd,axis=0)"
   ]
  },
  {
   "cell_type": "code",
   "execution_count": 151,
   "metadata": {},
   "outputs": [
    {
     "name": "stdout",
     "output_type": "stream",
     "text": [
      "[[609.42 279.61   1.  ]]\n"
     ]
    }
   ],
   "source": [
    "with np.printoptions(precision=2, suppress=True):\n",
    "    print(forwardproj(np.array([[0,0,0]]),prmat[:4,:4])-[r2[0,2], r2[1,2], 0])"
   ]
  },
  {
   "cell_type": "code",
   "execution_count": 163,
   "metadata": {},
   "outputs": [],
   "source": [
    "with np.printoptions(precision=3, suppress=True):\n",
    "    nulls = np.zeros([3,36])\n",
    "    for i in range(36):\n",
    "        nulls[:,i] = np.squeeze(forwardproj(np.array([[0,0,0]]),prmat[4*i:4*(i+1),:]))"
   ]
  },
  {
   "cell_type": "code",
   "execution_count": 324,
   "metadata": {},
   "outputs": [
    {
     "data": {
      "text/plain": [
       "array([[ 1.50941711e+03,  1.37527461e+03,  1.22529770e+03,\n",
       "         1.05483607e+03,  8.73559733e+02,  6.88117331e+02,\n",
       "         5.07566184e+02,  3.38724185e+02,  1.84198530e+02,\n",
       "         4.70218876e+01, -6.14129722e+01, -1.42121821e+02,\n",
       "        -1.93106775e+02, -2.12794040e+02, -2.04832855e+02,\n",
       "        -1.65444846e+02, -9.86294920e+01, -8.38387516e+00,\n",
       "         1.03359612e+02,  2.31311612e+02,  3.72716276e+02,\n",
       "         5.24491948e+02,  6.81493876e+02,  8.40796924e+02,\n",
       "         9.98844838e+02,  1.14898573e+03,  1.29200184e+03,\n",
       "         1.42208537e+03,  1.53331178e+03,  1.62687360e+03,\n",
       "         1.69596436e+03,  1.73790592e+03,  1.75230957e+03,\n",
       "         1.73789280e+03,  1.69155529e+03,  1.61548444e+03],\n",
       "       [ 8.15607438e+02,  8.18056325e+02,  8.20097381e+02,\n",
       "         8.21647429e+02,  8.22642269e+02,  8.23040613e+02,\n",
       "         8.22827728e+02,  8.22015819e+02,  8.20642520e+02,\n",
       "         8.18768595e+02,  8.16472370e+02,  8.13844779e+02,\n",
       "         8.10984150e+02,  8.07990428e+02,  8.04961030e+02,\n",
       "         8.01987694e+02,  7.99153799e+02,  7.96533455e+02,\n",
       "         7.94190299e+02,  7.92177840e+02,  7.90539768e+02,\n",
       "         7.89310389e+02,  7.88514798e+02,  7.88169848e+02,\n",
       "         7.88283840e+02,  7.88856722e+02,  7.89880054e+02,\n",
       "         7.91335821e+02,  7.95616925e+02,  7.98358959e+02,\n",
       "         8.00418928e+02,  8.02677263e+02,  8.05043519e+02,\n",
       "         8.08436613e+02,  8.11755067e+02,  8.14885804e+02],\n",
       "       [ 1.00000000e+00,  1.00000000e+00,  1.00000000e+00,\n",
       "         1.00000000e+00,  1.00000000e+00,  1.00000000e+00,\n",
       "         1.00000000e+00,  1.00000000e+00,  1.00000000e+00,\n",
       "         1.00000000e+00,  1.00000000e+00,  1.00000000e+00,\n",
       "         1.00000000e+00,  1.00000000e+00,  1.00000000e+00,\n",
       "         1.00000000e+00,  1.00000000e+00,  1.00000000e+00,\n",
       "         1.00000000e+00,  1.00000000e+00,  1.00000000e+00,\n",
       "         1.00000000e+00,  1.00000000e+00,  1.00000000e+00,\n",
       "         1.00000000e+00,  1.00000000e+00,  1.00000000e+00,\n",
       "         1.00000000e+00,  1.00000000e+00,  1.00000000e+00,\n",
       "         1.00000000e+00,  1.00000000e+00,  1.00000000e+00,\n",
       "         1.00000000e+00,  1.00000000e+00,  1.00000000e+00]])"
      ]
     },
     "execution_count": 324,
     "metadata": {},
     "output_type": "execute_result"
    }
   ],
   "source": [
    "nulls"
   ]
  },
  {
   "cell_type": "code",
   "execution_count": 164,
   "metadata": {},
   "outputs": [
    {
     "data": {
      "text/plain": [
       "[<matplotlib.lines.Line2D at 0x24c3690c220>]"
      ]
     },
     "execution_count": 164,
     "metadata": {},
     "output_type": "execute_result"
    },
    {
     "data": {
      "image/png": "[encoded data removed]",
      "text/plain": [
       "<Figure size 432x288 with 1 Axes>"
      ]
     },
     "metadata": {
      "needs_background": "light"
     },
     "output_type": "display_data"
    }
   ],
   "source": [
    "plt.plot(nulls[0,:])"
   ]
  },
  {
   "cell_type": "code",
   "execution_count": 328,
   "metadata": {},
   "outputs": [
    {
     "data": {
      "text/plain": [
       "array([1.50941711e+03, 8.15607438e+02, 1.00000000e+00])"
      ]
     },
     "execution_count": 328,
     "metadata": {},
     "output_type": "execute_result"
    }
   ],
   "source": [
    "nulls[:,0]"
   ]
  },
  {
   "cell_type": "code",
   "execution_count": 325,
   "metadata": {},
   "outputs": [
    {
     "data": {
      "image/png": "[encoded data removed]",
      "text/plain": [
       "<Figure size 576x576 with 1 Axes>"
      ]
     },
     "metadata": {
      "needs_background": "light"
     },
     "output_type": "display_data"
    }
   ],
   "source": [
    "fig, ax = plt.subplots(1,1, figsize=(8,8))\n",
    "ax.scatter(nulls[0,:],nulls[1,:])\n",
    "fig.savefig(sf('figs'))\n",
    "# ax.set_aspect('equal', adjustable='box')"
   ]
  },
  {
   "cell_type": "code",
   "execution_count": null,
   "metadata": {},
   "outputs": [],
   "source": []
  },
  {
   "cell_type": "code",
   "execution_count": 146,
   "metadata": {},
   "outputs": [],
   "source": [
    "r = scipy.linalg.rq(prmat[:3,:3])[0]\n",
    "# q = scipy.linalg.rq(prmat[:3,:3])[1]"
   ]
  },
  {
   "cell_type": "code",
   "execution_count": 173,
   "metadata": {},
   "outputs": [],
   "source": [
    "offsets = np.zeros([2,36])\n",
    "for i in range(36):\n",
    "    r = scipy.linalg.rq(prmat[4*i:4*(i+1)-1,:3])[0]\n",
    "    r2 = r/r[2,2]\n",
    "    offsets[:,i] = [r2[0,2], r2[1,2]]\n",
    "# q = scipy.linalg.rq(prmat[:3,:3])[1]"
   ]
  },
  {
   "cell_type": "code",
   "execution_count": 214,
   "metadata": {},
   "outputs": [],
   "source": [
    "# offsets = np.zeros([2,36])\n",
    "sign = np.zeros(36)\n",
    "for i in range(36):\n",
    "    r = scipy.linalg.rq(prmat[4*i:4*(i+1)-1,:3])[0]\n",
    "#     r2 = r/r[2,2]\n",
    "    sign[i] = r[2,2]\n",
    "#     print(r[2,2])\n",
    "#     offsets[:,i] = [r2[0,2], r2[1,2]]\n",
    "# q = scipy.linalg.rq(prmat[:3,:3])[1]"
   ]
  },
  {
   "cell_type": "code",
   "execution_count": 217,
   "metadata": {},
   "outputs": [
    {
     "name": "stdout",
     "output_type": "stream",
     "text": [
      "-14580.000098461538\n",
      "14580.000549995573\n",
      "14579.99966202913\n",
      "14579.999853642794\n",
      "14580.000182456384\n",
      "14579.998860911412\n",
      "14579.999696697607\n",
      "14580.000460276107\n",
      "14579.999818089087\n",
      "14580.000098461538\n",
      "14580.000549995571\n",
      "14579.99966202913\n",
      "14579.999853642794\n",
      "14580.000182456384\n",
      "14579.998860911415\n",
      "14579.999696697607\n",
      "14580.00046027611\n",
      "14579.999818089089\n",
      "14580.000098461538\n",
      "14580.000549995573\n",
      "14579.99966202913\n",
      "14579.999853642794\n",
      "14580.000182456384\n",
      "14579.998860911412\n",
      "14579.999696697607\n",
      "14580.000460276107\n",
      "14579.999818089087\n",
      "14580.000098461538\n",
      "14580.000549995571\n",
      "14579.99966202913\n",
      "14579.999853642794\n",
      "14580.000182456384\n",
      "14579.998860911415\n",
      "14579.999696697607\n",
      "14580.00046027611\n",
      "14579.999818089089\n"
     ]
    }
   ],
   "source": [
    "# offsets = np.zeros([2,36])\n",
    "# sign = np.zeros(36)\n",
    "for i in range(36):\n",
    "    r = scipy.linalg.rq(prmat[4*i:4*(i+1)-1,:3])[0]\n",
    "    r2 = r/r[2,2]\n",
    "    print(r2[0,0])\n",
    "#     sign[i] = r[2,2]\n",
    "#     print(r[2,2])\n",
    "#     offsets[:,i] = [r2[0,2], r2[1,2]]\n",
    "# q = scipy.linalg.rq(prmat[:3,:3])[1]"
   ]
  },
  {
   "cell_type": "code",
   "execution_count": 216,
   "metadata": {},
   "outputs": [
    {
     "data": {
      "image/png": "[encoded data removed]",
      "text/plain": [
       "<Figure size 432x288 with 1 Axes>"
      ]
     },
     "metadata": {
      "needs_background": "light"
     },
     "output_type": "display_data"
    }
   ],
   "source": [
    "plt.plot(np.arange(36),sign)\n",
    "plt.savefig(sf('figs'))"
   ]
  },
  {
   "cell_type": "code",
   "execution_count": 205,
   "metadata": {},
   "outputs": [],
   "source": [
    "def sf(dirname):\n",
    "    return('./'+dirname+'/'+str(int(os.listdir('./'+dirname+'/')[-1].replace('.png',''))+1).zfill(3)+'.png')"
   ]
  },
  {
   "cell_type": "code",
   "execution_count": 209,
   "metadata": {},
   "outputs": [
    {
     "data": {
      "text/plain": [
       "[<matplotlib.lines.Line2D at 0x24c300711c0>]"
      ]
     },
     "execution_count": 209,
     "metadata": {},
     "output_type": "execute_result"
    },
    {
     "data": {
      "image/png": "[encoded data removed]",
      "text/plain": [
       "<Figure size 432x288 with 1 Axes>"
      ]
     },
     "metadata": {
      "needs_background": "light"
     },
     "output_type": "display_data"
    }
   ],
   "source": [
    "plt.plot(offsets[0,:])\n",
    "plt.plot(offsets[1,:])\n",
    "# plt.savefig(sf('figs'))\n",
    "# dirname = dir1+'/'+n.zfill(3)+'/'"
   ]
  },
  {
   "cell_type": "code",
   "execution_count": 195,
   "metadata": {},
   "outputs": [],
   "source": [
    "lst = os.listdir('./figs/')"
   ]
  },
  {
   "cell_type": "code",
   "execution_count": null,
   "metadata": {},
   "outputs": [],
   "source": []
  },
  {
   "cell_type": "code",
   "execution_count": 193,
   "metadata": {},
   "outputs": [],
   "source": [
    "lst2 = lst.sort()"
   ]
  },
  {
   "cell_type": "code",
   "execution_count": 194,
   "metadata": {},
   "outputs": [],
   "source": [
    "lst2"
   ]
  },
  {
   "cell_type": "code",
   "execution_count": null,
   "metadata": {},
   "outputs": [],
   "source": []
  },
  {
   "cell_type": "code",
   "execution_count": 202,
   "metadata": {},
   "outputs": [
    {
     "data": {
      "text/plain": [
       "'./figs/003.png'"
      ]
     },
     "execution_count": 202,
     "metadata": {},
     "output_type": "execute_result"
    }
   ],
   "source": [
    "'./figs/'+str(int(os.listdir('./figs/')[-1].replace('.png',''))+1).zfill(3)+'.png'"
   ]
  },
  {
   "cell_type": "code",
   "execution_count": null,
   "metadata": {},
   "outputs": [],
   "source": [
    "def newfold(dir1):\n",
    "    i = 0\n",
    "    while True:\n",
    "        n = str(i)\n",
    "        dirname = dir1+'/'+n.zfill(3)+'/'\n",
    "        if not os.path.exists(dirname):\n",
    "            os.mkdir(dirname)\n",
    "            break\n",
    "        else:\n",
    "            i += 1\n",
    "            continue\n",
    "    return(dirname)"
   ]
  },
  {
   "cell_type": "code",
   "execution_count": 174,
   "metadata": {},
   "outputs": [
    {
     "data": {
      "text/plain": [
       "<matplotlib.collections.PathCollection at 0x24c3766bd30>"
      ]
     },
     "execution_count": 174,
     "metadata": {},
     "output_type": "execute_result"
    },
    {
     "data": {
      "image/png": "[encoded data removed]",
      "text/plain": [
       "<Figure size 576x576 with 1 Axes>"
      ]
     },
     "metadata": {
      "needs_background": "light"
     },
     "output_type": "display_data"
    }
   ],
   "source": [
    "fig, ax = plt.subplots(1,1, figsize=(8,8))\n",
    "ax.scatter(offsets[0,:],offsets[1,:])\n",
    "# ax.set_aspect('equal', adjustable='box')"
   ]
  },
  {
   "cell_type": "code",
   "execution_count": 147,
   "metadata": {},
   "outputs": [],
   "source": [
    "r2 = r/r[2,2]"
   ]
  },
  {
   "cell_type": "code",
   "execution_count": 150,
   "metadata": {},
   "outputs": [
    {
     "data": {
      "text/plain": [
       "900.0"
      ]
     },
     "execution_count": 150,
     "metadata": {},
     "output_type": "execute_result"
    }
   ],
   "source": [
    "r2[0,2]"
   ]
  },
  {
   "cell_type": "code",
   "execution_count": 155,
   "metadata": {},
   "outputs": [
    {
     "data": {
      "text/plain": [
       "536.0"
      ]
     },
     "execution_count": 155,
     "metadata": {},
     "output_type": "execute_result"
    }
   ],
   "source": [
    "r2[1,2]"
   ]
  },
  {
   "cell_type": "markdown",
   "metadata": {},
   "source": [
    "# simulate real experiment, where seed is moving nearly around needle tip, and camera is fixed"
   ]
  },
  {
   "cell_type": "code",
   "execution_count": null,
   "metadata": {},
   "outputs": [],
   "source": []
  },
  {
   "cell_type": "code",
   "execution_count": 243,
   "metadata": {},
   "outputs": [
    {
     "name": "stdout",
     "output_type": "stream",
     "text": [
      "[   99.5953582     45.69547294 -2382.76923077]\n",
      "[-2041.45174839    46.47039845  1391.93757943]\n",
      "[2316.71175137   46.47041306 1358.57786703]\n"
     ]
    }
   ],
   "source": [
    "E = [[1, 0, 0, 0],\n",
    " [0, 1, 0, 0],\n",
    " [0, 0, 1, 0]]\n",
    "pcda = np.zeros([1,3])\n",
    "pcdc = np.zeros([1,3])\n",
    "for angle in [0, 12,24]:\n",
    "    M = prmat[4*angle:4*(angle+1),:]\n",
    "    centre = -np.matmul(linalg.inv(M[:3,:3]),M[:3,3])\n",
    "    print(centre)\n",
    "    pm = np.matmul(linalg.inv(M[:3,:3]),(-15*np.array([695, 998, 1])-M[3,:3]))\n",
    "    prc = np.matmul(np.matmul(E,M.T),linalg.pinv(np.matmul(E,prmat[:4,:].T)))\n",
    "    pcda = np.vstack((pcda,np.matmul(pcd,prc.T)[::100,:]))\n",
    "    pcda = np.vstack((pcda,np.mean(np.matmul(pcd,prc.T),axis=0)))\n",
    "#     pcdc = np.vstack((pcda,scipy.linalg.rq(prmat[:3,:3])[0][2,2]*forwardproj(pcd,M)[::100,:]))\n",
    "\n",
    "pcdb = open3d.geometry.PointCloud()\n",
    "pcdb.points = open3d.utility.Vector3dVector(pcda)\n",
    "\n",
    "# pcdd = open3d.geometry.PointCloud()\n",
    "# pcdd.points = open3d.utility.Vector3dVector(pcdc)\n",
    "\n",
    "mesh_sphere = open3d.geometry.TriangleMesh.create_sphere(radius=5)\n",
    "mesh_sphere.compute_vertex_normals()\n",
    "mesh_sphere.paint_uniform_color([0.1, 0.1, 0.7])\n",
    "mesh_sphere.transform(np.asarray(\n",
    "                [\n",
    "                [1, 0, 0, pm[0]],\n",
    "                [0, 1, 0, pm[1]],\n",
    "                [0, 0, 1, pm[2]],\n",
    "                [0, 0, 0, 1]]))\n",
    "mesh_sphere2 = open3d.geometry.TriangleMesh.create_sphere(radius=5)\n",
    "mesh_sphere2.compute_vertex_normals()\n",
    "mesh_sphere2.paint_uniform_color([0.1, 0.4, 0.7])\n",
    "mesh_sphere2.transform(np.asarray(\n",
    "                [\n",
    "                [1, 0, 0, centre[0]],\n",
    "                [0, 1, 0, centre[1]],\n",
    "                [0, 0, 1, centre[2]],\n",
    "                [0, 0, 0, 1]]))\n",
    "points = [\n",
    "    [0, 0, 0],\n",
    "    [pm[0], pm[1], pm[2]]\n",
    "]\n",
    "lines = [\n",
    "    [0, 1]\n",
    "]\n",
    "colors = [[1, 0, 0] for i in range(len(lines))]\n",
    "line_set = open3d.geometry.LineSet(\n",
    "    points=open3d.utility.Vector3dVector(points),\n",
    "    lines=open3d.utility.Vector2iVector(lines),\n",
    ")\n",
    "line_set.colors = open3d.utility.Vector3dVector(colors)\n",
    "open3d.visualization.draw_geometries([pcdb, mesh_sphere, mesh_sphere2, line_set])\n"
   ]
  },
  {
   "cell_type": "code",
   "execution_count": 238,
   "metadata": {},
   "outputs": [
    {
     "data": {
      "text/plain": [
       "numpy.ndarray"
      ]
     },
     "execution_count": 238,
     "metadata": {},
     "output_type": "execute_result"
    }
   ],
   "source": [
    "type(cr)"
   ]
  },
  {
   "cell_type": "code",
   "execution_count": 242,
   "metadata": {},
   "outputs": [
    {
     "data": {
      "text/plain": [
       "[array([   99.5953582 ,    45.69547294, -2382.76923077]),\n",
       " array([   99.5953582 ,    45.69547294, -2382.76923077])]"
      ]
     },
     "execution_count": 242,
     "metadata": {},
     "output_type": "execute_result"
    }
   ],
   "source": [
    "list([cr,cr])"
   ]
  },
  {
   "cell_type": "code",
   "execution_count": 246,
   "metadata": {},
   "outputs": [
    {
     "data": {
      "text/plain": [
       "array([-45.703125  , -27.21875   ,  -0.05078125])"
      ]
     },
     "execution_count": 246,
     "metadata": {},
     "output_type": "execute_result"
    }
   ],
   "source": [
    "M[:3,2]"
   ]
  },
  {
   "cell_type": "code",
   "execution_count": 254,
   "metadata": {},
   "outputs": [
    {
     "name": "stdout",
     "output_type": "stream",
     "text": [
      "[   99.5953582     45.69547294 -2382.76923077]\n",
      "[-2041.45174839    46.47039845  1391.93757943]\n"
     ]
    }
   ],
   "source": [
    "for i in [0, 12]:\n",
    "    M = prmat[4*i:4*(i+1),:]\n",
    "    print(-np.matmul(linalg.inv(M[:3,:3]),M[:3,3]))"
   ]
  },
  {
   "cell_type": "code",
   "execution_count": 270,
   "metadata": {},
   "outputs": [
    {
     "data": {
      "text/plain": [
       "[[0, 1], [2, 3], [4, 5], [6, 7]]"
      ]
     },
     "execution_count": 270,
     "metadata": {},
     "output_type": "execute_result"
    }
   ],
   "source": [
    "np.vstack((np.array([2*i for i in range(4)]), np.array([2*i+1 for i in range(4)]))).T.tolist()"
   ]
  },
  {
   "cell_type": "code",
   "execution_count": 260,
   "metadata": {},
   "outputs": [
    {
     "data": {
      "text/plain": [
       "[[0, 1], [2, 3]]"
      ]
     },
     "execution_count": 260,
     "metadata": {},
     "output_type": "execute_result"
    }
   ],
   "source": [
    "[\n",
    "    [0, 1],\n",
    "    [2, 3]\n",
    "]"
   ]
  },
  {
   "cell_type": "code",
   "execution_count": 259,
   "metadata": {},
   "outputs": [
    {
     "data": {
      "text/plain": [
       "[[0,\n",
       "  2,\n",
       "  4,\n",
       "  6,\n",
       "  8,\n",
       "  10,\n",
       "  12,\n",
       "  14,\n",
       "  16,\n",
       "  18,\n",
       "  20,\n",
       "  22,\n",
       "  24,\n",
       "  26,\n",
       "  28,\n",
       "  30,\n",
       "  32,\n",
       "  34,\n",
       "  36,\n",
       "  38,\n",
       "  40,\n",
       "  42,\n",
       "  44,\n",
       "  46,\n",
       "  48,\n",
       "  50,\n",
       "  52,\n",
       "  54,\n",
       "  56,\n",
       "  58,\n",
       "  60,\n",
       "  62,\n",
       "  64,\n",
       "  66,\n",
       "  68,\n",
       "  70,\n",
       "  72,\n",
       "  74,\n",
       "  76,\n",
       "  78,\n",
       "  80,\n",
       "  82,\n",
       "  84,\n",
       "  86,\n",
       "  88,\n",
       "  90,\n",
       "  92,\n",
       "  94,\n",
       "  96,\n",
       "  98,\n",
       "  100,\n",
       "  102,\n",
       "  104,\n",
       "  106,\n",
       "  108,\n",
       "  110,\n",
       "  112,\n",
       "  114,\n",
       "  116,\n",
       "  118,\n",
       "  120,\n",
       "  122,\n",
       "  124,\n",
       "  126,\n",
       "  128,\n",
       "  130,\n",
       "  132,\n",
       "  134,\n",
       "  136,\n",
       "  138,\n",
       "  140,\n",
       "  142],\n",
       " [1,\n",
       "  3,\n",
       "  5,\n",
       "  7,\n",
       "  9,\n",
       "  11,\n",
       "  13,\n",
       "  15,\n",
       "  17,\n",
       "  19,\n",
       "  21,\n",
       "  23,\n",
       "  25,\n",
       "  27,\n",
       "  29,\n",
       "  31,\n",
       "  33,\n",
       "  35,\n",
       "  37,\n",
       "  39,\n",
       "  41,\n",
       "  43,\n",
       "  45,\n",
       "  47,\n",
       "  49,\n",
       "  51,\n",
       "  53,\n",
       "  55,\n",
       "  57,\n",
       "  59,\n",
       "  61,\n",
       "  63,\n",
       "  65,\n",
       "  67,\n",
       "  69,\n",
       "  71,\n",
       "  73,\n",
       "  75,\n",
       "  77,\n",
       "  79,\n",
       "  81,\n",
       "  83,\n",
       "  85,\n",
       "  87,\n",
       "  89,\n",
       "  91,\n",
       "  93,\n",
       "  95,\n",
       "  97,\n",
       "  99,\n",
       "  101,\n",
       "  103,\n",
       "  105,\n",
       "  107,\n",
       "  109,\n",
       "  111,\n",
       "  113,\n",
       "  115,\n",
       "  117,\n",
       "  119,\n",
       "  121,\n",
       "  123,\n",
       "  125,\n",
       "  127,\n",
       "  129,\n",
       "  131,\n",
       "  133,\n",
       "  135,\n",
       "  137,\n",
       "  139,\n",
       "  141,\n",
       "  143]]"
      ]
     },
     "execution_count": 259,
     "metadata": {},
     "output_type": "execute_result"
    }
   ],
   "source": [
    "[[2*i for i in range(36*2)], [2*i+1 for i in range(36*2)]]"
   ]
  },
  {
   "cell_type": "code",
   "execution_count": 283,
   "metadata": {},
   "outputs": [
    {
     "data": {
      "text/plain": [
       "740.390605039095"
      ]
     },
     "execution_count": 283,
     "metadata": {},
     "output_type": "execute_result"
    }
   ],
   "source": [
    "r[0,0]"
   ]
  },
  {
   "cell_type": "code",
   "execution_count": 285,
   "metadata": {},
   "outputs": [],
   "source": [
    "pcdb = open3d.geometry.PointCloud()\n",
    "pcdb.points = open3d.utility.Vector3dVector(pcd)\n",
    "# /0.05078124926452389\n",
    "mu = 2\n",
    "cr = []\n",
    "points = []\n",
    "cam = range(36)\n",
    "for i in cam:\n",
    "    M = prmat[4*i:4*(i+1),:]\n",
    "    cr = -np.matmul(linalg.inv(M[:3,:3]),M[:3,3])\n",
    "    pn = cr + mu*(M[:3,2]-cr)\n",
    "    points.append(list(cr))\n",
    "    points.append(list(pn))\n",
    "#     print(cr[0])\n",
    "#     print(type(list(cr[0])))\n",
    "#     M[:3,2]\n",
    "#     print(np.squeeze(forwardproj(np.expand_dims(centre, axis=0),prmat[:4,:])))\n",
    "#     print(centre)\n",
    "points.append(pn)\n",
    "# points = [\n",
    "#     list(pn),\n",
    "#     list(cr[0]),\n",
    "#     list(cr[1])\n",
    "# ]\n",
    "# lines = [\n",
    "#     [0, 1],\n",
    "#     [2, 3]\n",
    "# ]\n",
    "lines = np.vstack((np.array([2*i for i in range(len(cam))]), np.array([2*i+1 for i in range(len(cam))]))).T.tolist()\n",
    "# lines = [[2*i for i in range(36*2)], [2*i+1 for i in range(36*2)]]\n",
    "colors = [[1, 0, 0] for i in range(len(lines))]\n",
    "line_set = open3d.geometry.LineSet(\n",
    "    points=open3d.utility.Vector3dVector(points),\n",
    "    lines=open3d.utility.Vector2iVector(lines),\n",
    ")    \n",
    "mesh_sphere = open3d.geometry.TriangleMesh.create_sphere(radius=5)\n",
    "mesh_sphere.compute_vertex_normals()\n",
    "mesh_sphere.paint_uniform_color([0.1, 0.1, 0.7])\n",
    "mesh_sphere.transform(np.asarray(\n",
    "                [\n",
    "                [1, 0, 0, cr[0]],\n",
    "                [0, 1, 0, cr[1]],\n",
    "                [0, 0, 1, cr[2]],\n",
    "                [0, 0, 0, 1]]))\n",
    "open3d.visualization.draw_geometries([pcdb, mesh_sphere, line_set])\n"
   ]
  },
  {
   "cell_type": "code",
   "execution_count": 277,
   "metadata": {},
   "outputs": [
    {
     "data": {
      "text/plain": [
       "0.05078124926452389"
      ]
     },
     "execution_count": 277,
     "metadata": {},
     "output_type": "execute_result"
    }
   ],
   "source": [
    "r[2,2]"
   ]
  },
  {
   "cell_type": "code",
   "execution_count": null,
   "metadata": {},
   "outputs": [],
   "source": []
  },
  {
   "cell_type": "code",
   "execution_count": 235,
   "metadata": {},
   "outputs": [
    {
     "name": "stdout",
     "output_type": "stream",
     "text": [
      "[[ 7.4039063e+02  0.0000000e+00 -4.5703125e+01 -1.8263947e+05]\n",
      " [ 0.0000000e+00  7.4039063e+02 -2.7218750e+01 -9.8688500e+04]\n",
      " [ 0.0000000e+00  0.0000000e+00 -5.0781250e-02 -1.2100000e+02]\n",
      " [ 0.0000000e+00  0.0000000e+00 -5.0781250e-02 -1.2100000e+02]] [-45.703125   -27.21875     -0.05078125]\n"
     ]
    }
   ],
   "source": [
    "M = prmat[4*i:4*(i+1),:]\n",
    "centre = -np.matmul(linalg.inv(M[:3,:3]),M[:3,3]) \n",
    "print(M,M[:3,2])"
   ]
  },
  {
   "cell_type": "code",
   "execution_count": null,
   "metadata": {},
   "outputs": [],
   "source": []
  },
  {
   "cell_type": "code",
   "execution_count": 232,
   "metadata": {},
   "outputs": [
    {
     "data": {
      "text/plain": [
       "array([   99.5953582 ,    45.69547294, -2382.76923077])"
      ]
     },
     "execution_count": 232,
     "metadata": {},
     "output_type": "execute_result"
    }
   ],
   "source": [
    "centre"
   ]
  },
  {
   "cell_type": "code",
   "execution_count": 227,
   "metadata": {},
   "outputs": [
    {
     "data": {
      "text/plain": [
       "array([2316.71175137,   46.47041306, 1358.57786703])"
      ]
     },
     "execution_count": 227,
     "metadata": {},
     "output_type": "execute_result"
    }
   ],
   "source": [
    "-np.matmul(linalg.inv(M[:3,:3]),M[:3,3]) "
   ]
  },
  {
   "cell_type": "code",
   "execution_count": 301,
   "metadata": {},
   "outputs": [
    {
     "data": {
      "text/plain": [
       "(64, 72, 131)"
      ]
     },
     "execution_count": 301,
     "metadata": {},
     "output_type": "execute_result"
    }
   ],
   "source": [
    "152-88, 92-20, 223-92"
   ]
  },
  {
   "cell_type": "code",
   "execution_count": null,
   "metadata": {},
   "outputs": [],
   "source": []
  }
 ],
 "metadata": {
  "kernelspec": {
   "display_name": "Python 3",
   "language": "python",
   "name": "python3"
  },
  "language_info": {
   "codemirror_mode": {
    "name": "ipython",
    "version": 3
   },
   "file_extension": ".py",
   "mimetype": "text/x-python",
   "name": "python",
   "nbconvert_exporter": "python",
   "pygments_lexer": "ipython3",
   "version": "3.8.5"
  }
 },
 "nbformat": 4,
 "nbformat_minor": 4
}
