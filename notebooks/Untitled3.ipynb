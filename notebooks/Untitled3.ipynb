{
 "cells": [
  {
   "cell_type": "code",
   "execution_count": 13,
   "metadata": {},
   "outputs": [],
   "source": [
    "from helpers import *"
   ]
  },
  {
   "cell_type": "code",
   "execution_count": 18,
   "metadata": {},
   "outputs": [
    {
     "ename": "NameError",
     "evalue": "name 'sf' is not defined",
     "output_type": "error",
     "traceback": [
      "\u001b[1;31m---------------------------------------------------------------------------\u001b[0m",
      "\u001b[1;31mNameError\u001b[0m                                 Traceback (most recent call last)",
      "\u001b[1;32m<ipython-input-18-902e928eb3ec>\u001b[0m in \u001b[0;36m<module>\u001b[1;34m\u001b[0m\n\u001b[1;32m----> 1\u001b[1;33m \u001b[0msf\u001b[0m\u001b[1;33m(\u001b[0m\u001b[0mfig\u001b[0m\u001b[1;33m,\u001b[0m \u001b[1;34m'figs'\u001b[0m\u001b[1;33m)\u001b[0m\u001b[1;33m\u001b[0m\u001b[1;33m\u001b[0m\u001b[0m\n\u001b[0m",
      "\u001b[1;31mNameError\u001b[0m: name 'sf' is not defined"
     ]
    }
   ],
   "source": [
    "sf(fig, 'figs')"
   ]
  },
  {
   "cell_type": "code",
   "execution_count": 4,
   "metadata": {},
   "outputs": [],
   "source": [
    "import sys"
   ]
  },
  {
   "cell_type": "code",
   "execution_count": 12,
   "metadata": {},
   "outputs": [
    {
     "data": {
      "text/plain": [
       "['D:\\\\circles\\\\notebooks',\n",
       " 'C:\\\\Users\\\\v.cherepashkin\\\\Anaconda3\\\\envs\\\\sh\\\\python38.zip',\n",
       " 'C:\\\\Users\\\\v.cherepashkin\\\\Anaconda3\\\\envs\\\\sh\\\\DLLs',\n",
       " 'C:\\\\Users\\\\v.cherepashkin\\\\Anaconda3\\\\envs\\\\sh\\\\lib',\n",
       " 'C:\\\\Users\\\\v.cherepashkin\\\\Anaconda3\\\\envs\\\\sh',\n",
       " '',\n",
       " 'C:\\\\Users\\\\v.cherepashkin\\\\Anaconda3\\\\envs\\\\sh\\\\lib\\\\site-packages',\n",
       " 'C:\\\\Users\\\\v.cherepashkin\\\\Anaconda3\\\\envs\\\\sh\\\\lib\\\\site-packages\\\\win32',\n",
       " 'C:\\\\Users\\\\v.cherepashkin\\\\Anaconda3\\\\envs\\\\sh\\\\lib\\\\site-packages\\\\win32\\\\lib',\n",
       " 'C:\\\\Users\\\\v.cherepashkin\\\\Anaconda3\\\\envs\\\\sh\\\\lib\\\\site-packages\\\\Pythonwin',\n",
       " 'C:\\\\Users\\\\v.cherepashkin\\\\Anaconda3\\\\envs\\\\sh\\\\lib\\\\site-packages\\\\IPython\\\\extensions',\n",
       " 'C:\\\\Users\\\\v.cherepashkin\\\\.ipython',\n",
       " 'D:/circles/finetune_test/',\n",
       " 'D:\\\\circles\\\\finetune_test\\\\']"
      ]
     },
     "execution_count": 12,
     "metadata": {},
     "output_type": "execute_result"
    }
   ],
   "source": [
    "sys.path"
   ]
  },
  {
   "cell_type": "code",
   "execution_count": 11,
   "metadata": {},
   "outputs": [],
   "source": [
    "sys.path.append(\"D:\\\\circles\\\\finetune_test\\\\\")"
   ]
  },
  {
   "cell_type": "code",
   "execution_count": 16,
   "metadata": {},
   "outputs": [],
   "source": [
    "sys.path.append(\"D:\\\\circles\\\\\")"
   ]
  },
  {
   "cell_type": "code",
   "execution_count": 17,
   "metadata": {},
   "outputs": [],
   "source": [
    "from finetune_test import helpers"
   ]
  },
  {
   "cell_type": "code",
   "execution_count": null,
   "metadata": {},
   "outputs": [],
   "source": []
  }
 ],
 "metadata": {
  "kernelspec": {
   "display_name": "Python 3",
   "language": "python",
   "name": "python3"
  },
  "language_info": {
   "codemirror_mode": {
    "name": "ipython",
    "version": 3
   },
   "file_extension": ".py",
   "mimetype": "text/x-python",
   "name": "python",
   "nbconvert_exporter": "python",
   "pygments_lexer": "ipython3",
   "version": "3.8.5"
  }
 },
 "nbformat": 4,
 "nbformat_minor": 4
}
