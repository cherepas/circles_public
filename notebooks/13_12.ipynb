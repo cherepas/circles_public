{
 "cells": [
  {
   "cell_type": "code",
   "execution_count": 58,
   "metadata": {},
   "outputs": [
    {
     "ename": "ModuleNotFoundError",
     "evalue": "No module named 'helpers'",
     "output_type": "error",
     "traceback": [
      "\u001b[1;31m---------------------------------------------------------------------------\u001b[0m",
      "\u001b[1;31mModuleNotFoundError\u001b[0m                       Traceback (most recent call last)",
      "\u001b[1;32m<ipython-input-58-a4acadd0d5c3>\u001b[0m in \u001b[0;36m<module>\u001b[1;34m\u001b[0m\n\u001b[0;32m      4\u001b[0m \u001b[1;32mimport\u001b[0m \u001b[0mos\u001b[0m\u001b[1;33m\u001b[0m\u001b[1;33m\u001b[0m\u001b[0m\n\u001b[0;32m      5\u001b[0m \u001b[1;32mimport\u001b[0m \u001b[0mmatplotlib\u001b[0m\u001b[1;33m.\u001b[0m\u001b[0mpyplot\u001b[0m \u001b[1;32mas\u001b[0m \u001b[0mplt\u001b[0m\u001b[1;33m\u001b[0m\u001b[1;33m\u001b[0m\u001b[0m\n\u001b[1;32m----> 6\u001b[1;33m \u001b[1;32mfrom\u001b[0m \u001b[0mhelpers\u001b[0m \u001b[1;32mimport\u001b[0m \u001b[1;33m*\u001b[0m\u001b[1;33m\u001b[0m\u001b[1;33m\u001b[0m\u001b[0m\n\u001b[0m",
      "\u001b[1;31mModuleNotFoundError\u001b[0m: No module named 'helpers'"
     ]
    }
   ],
   "source": [
    "import numpy as np\n",
    "import csv\n",
    "import pandas as pd\n",
    "import os\n",
    "import matplotlib.pyplot as plt\n",
    "# from helpers import * "
   ]
  },
  {
   "cell_type": "code",
   "execution_count": 108,
   "metadata": {},
   "outputs": [],
   "source": [
    "import sys \n",
    "# import os\n",
    "sys.path.append(os.path.abspath(\"C:/circles/finetune_test/\"))\n",
    "from helpers import *"
   ]
  },
  {
   "cell_type": "code",
   "execution_count": 2,
   "metadata": {},
   "outputs": [],
   "source": [
    "s = ['D:/circles/finetune_test/main.py', '-epoch', '1000', '-bn', '1000', '-bs', '150', '-num_input_images', '3', '-rescale', '250', '-cencrop', '800', '-framelim', '2000', '-criterion', 'L1', '-localexp', '', '-lr', '1e-4', '-expnum', 'e058', '-hidden_dim', 'hidden_dim = np.hstack((np.repeat(128, 1),500,1000,1500))', '-inputt', 'img', '-lb', 'pc', '-zero_angle', '-gttype', 'single_f_n', '-outputt', 'pc', '-csvname', '598csv11', '-parallel', 'torch', '-machine', 'workstation', '-wandb', '', '-merging_order', 'color_channel', '-updateFraction', '1', '-steplr', '15', '0.1', '-batch_output', '2', '-cmscrop', '0']\n"
   ]
  },
  {
   "cell_type": "code",
   "execution_count": 30,
   "metadata": {},
   "outputs": [
    {
     "data": {
      "text/plain": [
       "['-epoch',\n",
       " '-bn',\n",
       " '-bs',\n",
       " '-num_input_images',\n",
       " '-rescale',\n",
       " '-cencrop',\n",
       " '-framelim',\n",
       " '-criterion',\n",
       " '-localexp',\n",
       " '-lr',\n",
       " '-expnum',\n",
       " '-hidden_dim',\n",
       " '-inputt',\n",
       " '-lb',\n",
       " '-zero_angle',\n",
       " 'single_f_n',\n",
       " 'pc',\n",
       " '598csv11',\n",
       " 'torch',\n",
       " 'workstation',\n",
       " '',\n",
       " 'color_channel',\n",
       " '1',\n",
       " '15',\n",
       " '-batch_output',\n",
       " '-cmscrop']"
      ]
     },
     "execution_count": 30,
     "metadata": {},
     "output_type": "execute_result"
    }
   ],
   "source": [
    "s[1::2]"
   ]
  },
  {
   "cell_type": "code",
   "execution_count": 28,
   "metadata": {},
   "outputs": [],
   "source": [
    "df = pd.DataFrame()"
   ]
  },
  {
   "cell_type": "code",
   "execution_count": null,
   "metadata": {},
   "outputs": [],
   "source": [
    "lframe.insert(0, 'file_name', np.zeros(5270).astype(str))"
   ]
  },
  {
   "cell_type": "code",
   "execution_count": 169,
   "metadata": {},
   "outputs": [],
   "source": [
    "ns = []\n",
    "for i in range(1,len(s)//2):\n",
    "    ns.append(s[2*i-1] + ' \\t '+ s[2*i])\n",
    "#     print(s[2*i-1], s[2*i])"
   ]
  },
  {
   "cell_type": "code",
   "execution_count": 171,
   "metadata": {},
   "outputs": [
    {
     "name": "stdout",
     "output_type": "stream",
     "text": [
      "-expdescr \t 598csv9, zero angle\n",
      "-bn \t 1000\n",
      "-epoch \t 300\n",
      "-bs \t 15\n",
      "-lr \t 1e-3\n",
      "-expnum \t e054\n",
      "-cmscrop \t 550\n",
      "-hidden_dim \t hidden_dim = np.hstack((np.repeat(32, 1),1500))\n",
      "-lb \t pc\n",
      "-criterion \t L1\n",
      "-inputt \t img\n",
      "-outputt \t single_f_n\n",
      "-num_input_images \t 1\n",
      "-view_sep \t -csvname\n",
      "598csv9 \t -no_rot_dirs\n",
      "-rotate_output \t -pc_scale\n",
      "100 \t -machine\n",
      "workstation \t -wandb\n",
      "e054 \t -parallel\n"
     ]
    }
   ],
   "source": [
    "for i in ns:\n",
    "    print(i)"
   ]
  },
  {
   "cell_type": "code",
   "execution_count": 168,
   "metadata": {},
   "outputs": [
    {
     "name": "stdout",
     "output_type": "stream",
     "text": [
      "1\n"
     ]
    },
    {
     "ename": "TypeError",
     "evalue": "list indices must be integers or slices, not tuple",
     "output_type": "error",
     "traceback": [
      "\u001b[1;31m---------------------------------------------------------------------------\u001b[0m",
      "\u001b[1;31mTypeError\u001b[0m                                 Traceback (most recent call last)",
      "\u001b[1;32m<ipython-input-168-d3dee05730de>\u001b[0m in \u001b[0;36m<module>\u001b[1;34m\u001b[0m\n\u001b[0;32m      2\u001b[0m \u001b[1;32mfor\u001b[0m \u001b[0mi\u001b[0m \u001b[1;32min\u001b[0m \u001b[0mrange\u001b[0m\u001b[1;33m(\u001b[0m\u001b[1;36m1\u001b[0m\u001b[1;33m,\u001b[0m\u001b[0mlen\u001b[0m\u001b[1;33m(\u001b[0m\u001b[0ms\u001b[0m\u001b[1;33m)\u001b[0m\u001b[1;33m//\u001b[0m\u001b[1;36m2\u001b[0m\u001b[1;33m)\u001b[0m\u001b[1;33m:\u001b[0m\u001b[1;33m\u001b[0m\u001b[1;33m\u001b[0m\u001b[0m\n\u001b[0;32m      3\u001b[0m     \u001b[0mprint\u001b[0m\u001b[1;33m(\u001b[0m\u001b[0mi\u001b[0m\u001b[1;33m)\u001b[0m\u001b[1;33m\u001b[0m\u001b[1;33m\u001b[0m\u001b[0m\n\u001b[1;32m----> 4\u001b[1;33m     \u001b[0mns2\u001b[0m\u001b[1;33m[\u001b[0m\u001b[0mi\u001b[0m\u001b[1;33m,\u001b[0m \u001b[1;36m0\u001b[0m\u001b[1;33m]\u001b[0m \u001b[1;33m=\u001b[0m \u001b[0ms\u001b[0m\u001b[1;33m[\u001b[0m\u001b[1;36m2\u001b[0m\u001b[1;33m*\u001b[0m\u001b[0mi\u001b[0m\u001b[1;33m-\u001b[0m\u001b[1;36m1\u001b[0m\u001b[1;33m]\u001b[0m\u001b[1;33m\u001b[0m\u001b[1;33m\u001b[0m\u001b[0m\n\u001b[0m\u001b[0;32m      5\u001b[0m     \u001b[0mns2\u001b[0m\u001b[1;33m[\u001b[0m\u001b[0mi\u001b[0m\u001b[1;33m,\u001b[0m \u001b[1;36m1\u001b[0m\u001b[1;33m]\u001b[0m \u001b[1;33m=\u001b[0m \u001b[0ms\u001b[0m\u001b[1;33m[\u001b[0m\u001b[1;36m2\u001b[0m\u001b[1;33m*\u001b[0m\u001b[0mi\u001b[0m\u001b[1;33m]\u001b[0m\u001b[1;33m\u001b[0m\u001b[1;33m\u001b[0m\u001b[0m\n\u001b[0;32m      6\u001b[0m \u001b[1;31m#     print(s[2*i-1], s[2*i])\u001b[0m\u001b[1;33m\u001b[0m\u001b[1;33m\u001b[0m\u001b[1;33m\u001b[0m\u001b[0m\n",
      "\u001b[1;31mTypeError\u001b[0m: list indices must be integers or slices, not tuple"
     ]
    }
   ],
   "source": [
    "ns2 = []\n",
    "for i in range(1,len(s)//2):\n",
    "    print(i)\n",
    "    ns2[i, 0] = s[2*i-1]\n",
    "    ns2[i, 1] = s[2*i]\n",
    "#     print(s[2*i-1], s[2*i])"
   ]
  },
  {
   "cell_type": "code",
   "execution_count": 15,
   "metadata": {},
   "outputs": [
    {
     "name": "stdout",
     "output_type": "stream",
     "text": [
      "e \t e\n"
     ]
    }
   ],
   "source": [
    "print('e \\t e')"
   ]
  },
  {
   "cell_type": "code",
   "execution_count": 18,
   "metadata": {},
   "outputs": [],
   "source": [
    "# a_list = [\"abc\", \"def\", \"ghi\"]\n",
    "with open(\"opt2.txt\", \"w\") as f:\n",
    "    for el in ns:\n",
    "        f.write(el + \"\\n\")\n",
    "# textfile.close()"
   ]
  },
  {
   "cell_type": "code",
   "execution_count": 18,
   "metadata": {},
   "outputs": [],
   "source": [
    "# a_list = [\"abc\", \"def\", \"ghi\"]\n",
    "with open(\"opt2.txt\", \"w\") as f:\n",
    "    for el in ns:\n",
    "        f.write(el + \"\\n\")\n",
    "# textfile.close()"
   ]
  },
  {
   "cell_type": "code",
   "execution_count": 22,
   "metadata": {},
   "outputs": [],
   "source": [
    "# a_list = [\"abc\", \"def\", \"ghi\"]\n",
    "with open(\"opt2.csv\", \"w\") as f:\n",
    "    for el in ns:\n",
    "        f.write(el + \"\\n\")\n",
    "# textfile.close()"
   ]
  },
  {
   "cell_type": "code",
   "execution_count": null,
   "metadata": {},
   "outputs": [],
   "source": []
  },
  {
   "cell_type": "code",
   "execution_count": 25,
   "metadata": {},
   "outputs": [],
   "source": [
    "with open('opt2.csv', 'w', newline='') as myfile:\n",
    "     wr = csv.writer(myfile, quoting=csv.QUOTE_ALL)\n",
    "     wr.writerow(ns)"
   ]
  },
  {
   "cell_type": "code",
   "execution_count": 20,
   "metadata": {},
   "outputs": [
    {
     "data": {
      "text/plain": [
       "array(['-epoch \\t 1000', '-bn \\t 1000', '-bs \\t 150',\n",
       "       '-num_input_images \\t 3', '-rescale \\t 250', '-cencrop \\t 800',\n",
       "       '-framelim \\t 2000', '-criterion \\t L1', '-localexp \\t ',\n",
       "       '-lr \\t 1e-4', '-expnum \\t e058',\n",
       "       '-hidden_dim \\t hidden_dim = np.hstack((np.repeat(128, 1),500,1000,1500))',\n",
       "       '-inputt \\t img', '-lb \\t pc', '-zero_angle \\t -gttype',\n",
       "       'single_f_n \\t -outputt', 'pc \\t -csvname',\n",
       "       '598csv11 \\t -parallel', 'torch \\t -machine',\n",
       "       'workstation \\t -wandb', ' \\t -merging_order',\n",
       "       'color_channel \\t -updateFraction', '1 \\t -steplr', '15 \\t 0.1',\n",
       "       '-batch_output \\t 2'], dtype='<U71')"
      ]
     },
     "execution_count": 20,
     "metadata": {},
     "output_type": "execute_result"
    }
   ],
   "source": [
    "np.array(ns)"
   ]
  },
  {
   "cell_type": "code",
   "execution_count": 16,
   "metadata": {},
   "outputs": [
    {
     "data": {
      "text/plain": [
       "['-epoch \\t 1000',\n",
       " '-bn \\t 1000',\n",
       " '-bs \\t 150',\n",
       " '-num_input_images \\t 3',\n",
       " '-rescale \\t 250',\n",
       " '-cencrop \\t 800',\n",
       " '-framelim \\t 2000',\n",
       " '-criterion \\t L1',\n",
       " '-localexp \\t ',\n",
       " '-lr \\t 1e-4',\n",
       " '-expnum \\t e058',\n",
       " '-hidden_dim \\t hidden_dim = np.hstack((np.repeat(128, 1),500,1000,1500))',\n",
       " '-inputt \\t img',\n",
       " '-lb \\t pc',\n",
       " '-zero_angle \\t -gttype',\n",
       " 'single_f_n \\t -outputt',\n",
       " 'pc \\t -csvname',\n",
       " '598csv11 \\t -parallel',\n",
       " 'torch \\t -machine',\n",
       " 'workstation \\t -wandb',\n",
       " ' \\t -merging_order',\n",
       " 'color_channel \\t -updateFraction',\n",
       " '1 \\t -steplr',\n",
       " '15 \\t 0.1',\n",
       " '-batch_output \\t 2']"
      ]
     },
     "execution_count": 16,
     "metadata": {},
     "output_type": "execute_result"
    }
   ],
   "source": [
    "ns"
   ]
  },
  {
   "cell_type": "code",
   "execution_count": 37,
   "metadata": {},
   "outputs": [
    {
     "data": {
      "text/plain": [
       "False"
      ]
     },
     "execution_count": 37,
     "metadata": {},
     "output_type": "execute_result"
    }
   ],
   "source": [
    "os.path.isfile(r'C:\\Users\\v.cherepashkin\\Downloads\\Telegram Desktop\\lossar.npy'.replace('\\\\','/'))"
   ]
  },
  {
   "cell_type": "code",
   "execution_count": 56,
   "metadata": {},
   "outputs": [],
   "source": [
    "lossar2 = np.genfromtxt(r'C:\\Users\\v.cherepashkin\\Downloads\\Telegram Desktop\\lossar'.replace('\\\\','/'), delimiter=',')"
   ]
  },
  {
   "cell_type": "code",
   "execution_count": 57,
   "metadata": {},
   "outputs": [
    {
     "data": {
      "text/plain": [
       "(4, 1000)"
      ]
     },
     "execution_count": 57,
     "metadata": {},
     "output_type": "execute_result"
    }
   ],
   "source": [
    "lossar2.shape"
   ]
  },
  {
   "cell_type": "code",
   "execution_count": 120,
   "metadata": {},
   "outputs": [
    {
     "name": "stdout",
     "output_type": "stream",
     "text": [
      "The autoreload extension is already loaded. To reload it, use:\n",
      "  %reload_ext autoreload\n"
     ]
    }
   ],
   "source": [
    "%load_ext autoreload\n",
    "%autoreload 2"
   ]
  },
  {
   "cell_type": "code",
   "execution_count": 91,
   "metadata": {},
   "outputs": [],
   "source": [
    "from helpers import *"
   ]
  },
  {
   "cell_type": "code",
   "execution_count": 99,
   "metadata": {},
   "outputs": [
    {
     "name": "stdout",
     "output_type": "stream",
     "text": [
      "ZMQInteractiveShell\n"
     ]
    },
    {
     "data": {
      "image/png": "[encoded data removed]",
      "text/plain": [
       "<Figure size 648x360 with 1 Axes>"
      ]
     },
     "metadata": {
      "needs_background": "light"
     },
     "output_type": "display_data"
    }
   ],
   "source": [
    "lossfig('loss', np.ma.log10(np.abs(lossar2)), '', '', (0, 25), (-2, 0), '')"
   ]
  },
  {
   "cell_type": "raw",
   "metadata": {},
   "source": [
    "lossfig('loss', lossar2, 'Loss', 'Learning curve', (0, 25), (0, 1), '')"
   ]
  },
  {
   "cell_type": "code",
   "execution_count": 78,
   "metadata": {},
   "outputs": [
    {
     "data": {
      "image/png": "[encoded data removed]",
      "text/plain": [
       "<Figure size 648x360 with 1 Axes>"
      ]
     },
     "metadata": {
      "needs_background": "light"
     },
     "output_type": "display_data"
    }
   ],
   "source": [
    "# fig, ax = plt.subplot((1,1))\n",
    "fig = plt.figure()\n",
    "plt.plot(lossar2[0,:]) \n",
    "plt.savefig('1.png')\n",
    "plt.show(fig)\n",
    "plt.close(fig)"
   ]
  },
  {
   "cell_type": "code",
   "execution_count": 79,
   "metadata": {},
   "outputs": [
    {
     "data": {
      "text/plain": [
       "'ZMQInteractiveShell'"
      ]
     },
     "execution_count": 79,
     "metadata": {},
     "output_type": "execute_result"
    }
   ],
   "source": [
    "get_ipython().__class__.__name__"
   ]
  },
  {
   "cell_type": "code",
   "execution_count": 55,
   "metadata": {},
   "outputs": [
    {
     "data": {
      "text/plain": [
       "Text(0.5, 1.0, 'Loss')"
      ]
     },
     "execution_count": 55,
     "metadata": {},
     "output_type": "execute_result"
    },
    {
     "data": {
      "image/png": "[encoded data removed]",
      "text/plain": [
       "<Figure size 648x360 with 1 Axes>"
      ]
     },
     "metadata": {
      "needs_background": "light"
     },
     "output_type": "display_data"
    }
   ],
   "source": [
    "lb = ''\n",
    "ylim = (0, 2)\n",
    "xlim = (0, 50)\n",
    "ylabel = 'Epoch'\n",
    "title = 'Loss'\n",
    "plt.rcParams[\"figure.figsize\"] = (9, 5)\n",
    "fig = plt.figure()\n",
    "axes = plt.gca()\n",
    "if lb == 'pc+f':\n",
    "    labels_text = [['train 0', 'val 0'], ['train 1', 'val 1']]\n",
    "    colist = ['C0','C1']\n",
    "    stylist = ['-','--']\n",
    "    lossar = lossar.reshape((2,2,lossar.shape[-1]))\n",
    "else:\n",
    "    labels_text = ['train', 'val']\n",
    "if lb == 'pc+f':\n",
    "    for i in range(2):\n",
    "        for j in range(2):\n",
    "            plt.plot(\n",
    "                np.arange(lossar.shape[-1]), lossar[i, j, :],\n",
    "                label=labels_text[i][j], linewidth=3,\n",
    "                color=colist[i], linestyle=stylist[j])\n",
    "else:\n",
    "    for i in range(2):\n",
    "        plt.plot(\n",
    "            np.arange(lossar.shape[-1]), lossar[i, :],\n",
    "            label=labels_text[i], linewidth=3)\n",
    "#     plt.show()\n",
    "plt.grid()\n",
    "plt.legend(\n",
    "    bbox_to_anchor=(1.05, 1),\n",
    "    loc='best', borderaxespad=0., fontsize=24)\n",
    "plt.xticks(fontsize=24)\n",
    "plt.yticks(fontsize=24)\n",
    "if any(ylim):\n",
    "    plt.ylim(ylim)\n",
    "elif not any(ylim):\n",
    "    plt.autoscale(enable=True, axis='y', tight=None)\n",
    "if any(xlim):\n",
    "    plt.xlim(xlim)\n",
    "elif not any(xlim):\n",
    "    plt.autoscale(enable=True, axis='x', tight=None)\n",
    "axes = plt.gca()\n",
    "plt.xlabel('Epoch', fontsize=24)\n",
    "plt.ylabel(ylabel, fontsize=24)\n",
    "plt.locator_params(axis=\"x\", nbins=4)\n",
    "plt.locator_params(axis=\"y\", nbins=4)\n",
    "plt.title(title, fontsize=24)\n",
    "# for tp in ['.png','.pdf']:\n",
    "#     plt.savefig(dirname+ylabel+tp, bbox_inches='tight')\n",
    "# plt.close(fig)"
   ]
  },
  {
   "cell_type": "code",
   "execution_count": null,
   "metadata": {},
   "outputs": [],
   "source": []
  },
  {
   "cell_type": "code",
   "execution_count": null,
   "metadata": {},
   "outputs": [],
   "source": [
    "def lossfig(dirname, lossar, ylabel, title, xlim, ylim, lb):\n",
    "plt.rcParams[\"figure.figsize\"] = (9, 5)\n",
    "fig = plt.figure()\n",
    "axes = plt.gca()\n",
    "if lb == 'pc+f':\n",
    "    labels_text = [['train 0', 'val 0'], ['train 1', 'val 1']]\n",
    "    colist = ['C0','C1']\n",
    "    stylist = ['-','--']\n",
    "    lossar = lossar.reshape((2,2,lossar.shape[-1]))\n",
    "else:\n",
    "    labels_text = ['train', 'val']\n",
    "if lb == 'pc+f':\n",
    "    for i in range(2):\n",
    "        for j in range(2):\n",
    "            plt.plot(\n",
    "                np.arange(lossar.shape[-1]), lossar[i, j, :],\n",
    "                label=labels_text[i][j], linewidth=3,\n",
    "                color=colist[i], linestyle=stylist[j])\n",
    "else:\n",
    "    for i in range(2):\n",
    "        plt.plot(\n",
    "            np.arange(lossar.shape[-1]), lossar[i, :],\n",
    "            label=labels_text[i], linewidth=3)\n",
    "#     plt.show()\n",
    "plt.grid()\n",
    "plt.legend(\n",
    "    bbox_to_anchor=(1.05, 1),\n",
    "    loc='best', borderaxespad=0., fontsize=24)\n",
    "plt.xticks(fontsize=24)\n",
    "plt.yticks(fontsize=24)\n",
    "if any(ylim):\n",
    "    plt.ylim(ylim)\n",
    "elif not any(ylim):\n",
    "    plt.autoscale(enable=True, axis='y', tight=None)\n",
    "if any(xlim):\n",
    "    plt.xlim(xlim)\n",
    "elif not any(xlim):\n",
    "    plt.autoscale(enable=True, axis='x', tight=None)\n",
    "axes = plt.gca()\n",
    "plt.xlabel('Epoch', fontsize=24)\n",
    "plt.ylabel(ylabel, fontsize=24)\n",
    "plt.locator_params(axis=\"x\", nbins=4)\n",
    "plt.locator_params(axis=\"y\", nbins=4)\n",
    "plt.title(title, fontsize=24)\n",
    "for tp in ['.png','.pdf']:\n",
    "    plt.savefig(dirname+ylabel+tp, bbox_inches='tight')\n",
    "plt.close(fig)"
   ]
  },
  {
   "cell_type": "code",
   "execution_count": 39,
   "metadata": {},
   "outputs": [
    {
     "data": {
      "text/plain": [
       "['012',\n",
       " '012.zip',\n",
       " '035.zip',\n",
       " '041.zip',\n",
       " '1.png',\n",
       " '1491988_F_N_500.csv',\n",
       " '1491988_ProjectionMatrices.txt',\n",
       " '1491988_Surface.ply',\n",
       " '1494452.ply',\n",
       " '3.png',\n",
       " '4.png',\n",
       " '598csv10.zip',\n",
       " '598csv11.zip',\n",
       " '598csv11_F_N_file_names.txt',\n",
       " '598csv9_F_N_file_names.txt',\n",
       " '598empty_first_level.zip',\n",
       " '598empty_second_level.zip',\n",
       " '598folders_structure - Copy (3) (2).zip',\n",
       " '598folders_structure - Copy (3).zip',\n",
       " '598ply',\n",
       " '598ply.zip',\n",
       " '598_1.zip',\n",
       " '598_exceptions.txt',\n",
       " '9fd5361a-61c7-4e0e-b669-e18f3ebba0bf.pdf',\n",
       " 'Asset 2.png',\n",
       " 'Asset 3.png',\n",
       " 'bX_500.csv',\n",
       " 'CamScanner 05-28-2021 15.17.pdf',\n",
       " 'CamScanner 06-08-2021 14.49.pdf',\n",
       " 'ChatExport_2021-11-29 (2).zip',\n",
       " 'ChatExport_2021-11-29 (3).zip',\n",
       " 'chugunov-jazz.pdf',\n",
       " 'Copy_of_batchprocess4.m',\n",
       " 'curloss_log10(abs loss) - Copy.png',\n",
       " 'curloss_Loss - Copy.png',\n",
       " 'Downloads.zip',\n",
       " 'eda09d25-ffc6-470a-8d0b-59743697b148 (2).pdf',\n",
       " 'eda09d25-ffc6-470a-8d0b-59743697b148.pdf',\n",
       " 'Einreiseanmeldung (2).pdf',\n",
       " 'Einreiseanmeldung.pdf',\n",
       " 'ezgif.com-gif-maker (1).gif',\n",
       " 'ezgif.com-gif-maker (2).gif',\n",
       " 'ezgif.com-gif-maker (3).gif',\n",
       " 'ezgif.com-gif-maker (4).gif',\n",
       " 'ezgif.com-gif-maker.gif',\n",
       " 'health_certificate_Vsevolod_Cherepashkin.pdf',\n",
       " 'id_ed25519 (2)',\n",
       " 'IMG_2902.JPG',\n",
       " 'job-parameters.txt',\n",
       " 'learning_curve_log10(Loss) (2).png',\n",
       " 'learning_curve_log10(Loss).png',\n",
       " 'learning_curve_Loss (2).png',\n",
       " 'learning_curve_Loss.png',\n",
       " 'license.dat',\n",
       " 'lossar',\n",
       " 'model_036',\n",
       " 'pathes_to_598.csv',\n",
       " 'pc_train_082_004 - Copy.png',\n",
       " 'pc_val_082_001 - Copy.png',\n",
       " 'prmat.csv',\n",
       " 'rotate_pc.m',\n",
       " 'rotation_060.tif',\n",
       " 'rotation_220.tif',\n",
       " 'rotation_260.tif',\n",
       " 'sh report (2).docx',\n",
       " 'sh report (3).docx',\n",
       " 'sh report.docx',\n",
       " 'sh_3d_input-fixed_dirs.ipynb',\n",
       " 'st oskol voronezh.pdf',\n",
       " 'Untitled1.ipynb']"
      ]
     },
     "execution_count": 39,
     "metadata": {},
     "output_type": "execute_result"
    }
   ],
   "source": [
    "os.listdir('C:/Users/v.cherepashkin/Downloads/Telegram Desktop')"
   ]
  },
  {
   "cell_type": "code",
   "execution_count": 105,
   "metadata": {},
   "outputs": [],
   "source": [
    "gt0 = np.genfromtxt('C:/cherepashkin1/gt0', delimiter=',')\n",
    "i0 = np.genfromtxt('C:/cherepashkin1/i0', delimiter=',')"
   ]
  },
  {
   "cell_type": "code",
   "execution_count": 107,
   "metadata": {},
   "outputs": [],
   "source": [
    "prmat = np.load('C:/cherepashkin1/prmat.npy')"
   ]
  },
  {
   "cell_type": "code",
   "execution_count": 123,
   "metadata": {},
   "outputs": [
    {
     "data": {
      "text/plain": [
       "(3, 500)"
      ]
     },
     "execution_count": 123,
     "metadata": {},
     "output_type": "execute_result"
    }
   ],
   "source": [
    "gt0.shape"
   ]
  },
  {
   "cell_type": "code",
   "execution_count": 158,
   "metadata": {},
   "outputs": [],
   "source": [
    "prmat2 = np.copy(prmat)"
   ]
  },
  {
   "cell_type": "code",
   "execution_count": 161,
   "metadata": {},
   "outputs": [
    {
     "data": {
      "text/plain": [
       "(1, 36, 4, 4)"
      ]
     },
     "execution_count": 161,
     "metadata": {},
     "output_type": "execute_result"
    }
   ],
   "source": [
    "prmat2.shape"
   ]
  },
  {
   "cell_type": "code",
   "execution_count": 164,
   "metadata": {},
   "outputs": [],
   "source": [
    "prmat2[0,:,3,:] = prmat2[0,:,2,:]"
   ]
  },
  {
   "cell_type": "code",
   "execution_count": 165,
   "metadata": {},
   "outputs": [
    {
     "name": "stdout",
     "output_type": "stream",
     "text": [
      "[[ 7.4039062e+02  0.0000000e+00 -4.5703125e+01 -1.8280181e+05]\n",
      " [ 0.0000000e+00  7.4039062e+02 -2.7218750e+01 -9.8561000e+04]\n",
      " [ 0.0000000e+00  0.0000000e+00 -5.0781250e-02 -1.2100000e+02]\n",
      " [ 0.0000000e+00  0.0000000e+00 -5.0781250e-02 -1.2100000e+02]]\n",
      "(500, 3)\n",
      "(-6.173220398918436, 3.32231586404135, -0.003087434430194344, 0.18224319463646702)\n",
      "(3, 500)\n",
      "img stat= (0.0, 0.8560141324996948, 0.11578192694842075, 0.2187173970158301)\n",
      "ZMQInteractiveShell\n"
     ]
    },
    {
     "data": {
      "image/png": "[encoded data removed]",
      "text/plain": [
       "<Figure size 576x576 with 1 Axes>"
      ]
     },
     "metadata": {
      "needs_background": "light"
     },
     "output_type": "display_data"
    }
   ],
   "source": [
    "backproject(prmat2[0,0,:,:], i0, gt0.reshape(3,500), 'C:/cherepashkin1/train', False)"
   ]
  },
  {
   "cell_type": "code",
   "execution_count": 118,
   "metadata": {},
   "outputs": [
    {
     "name": "stdout",
     "output_type": "stream",
     "text": [
      "1.0\n"
     ]
    }
   ],
   "source": [
    "try:\n",
    "    print(1/1)\n",
    "except:\n",
    "    print(1)"
   ]
  },
  {
   "cell_type": "code",
   "execution_count": 119,
   "metadata": {},
   "outputs": [
    {
     "ename": "ZeroDivisionError",
     "evalue": "division by zero",
     "output_type": "error",
     "traceback": [
      "\u001b[1;31m---------------------------------------------------------------------------\u001b[0m",
      "\u001b[1;31mZeroDivisionError\u001b[0m                         Traceback (most recent call last)",
      "\u001b[1;32m<ipython-input-119-9e1622b385b6>\u001b[0m in \u001b[0;36m<module>\u001b[1;34m\u001b[0m\n\u001b[1;32m----> 1\u001b[1;33m \u001b[1;36m1\u001b[0m\u001b[1;33m/\u001b[0m\u001b[1;36m0\u001b[0m\u001b[1;33m\u001b[0m\u001b[1;33m\u001b[0m\u001b[0m\n\u001b[0m",
      "\u001b[1;31mZeroDivisionError\u001b[0m: division by zero"
     ]
    }
   ],
   "source": [
    "1/0"
   ]
  },
  {
   "cell_type": "code",
   "execution_count": 166,
   "metadata": {},
   "outputs": [],
   "source": [
    "s = ['D:/circles/finetune_test/main.py', '-expdescr', '598csv9, zero angle', '-bn', '1000', '-epoch', '300', '-bs', '15', '-lr', '1e-3', '-expnum', 'e054', '-cmscrop', '550', '-hidden_dim', 'hidden_dim = np.hstack((np.repeat(32, 1),1500))', '-lb', 'pc', '-criterion', 'L1', '-inputt', 'img', '-outputt', 'single_f_n', '-num_input_images', '1', '-view_sep', '-csvname', '598csv9', '-no_rot_dirs', '-rotate_output', '-pc_scale', '100', '-machine', 'workstation', '-wandb', 'e054', '-parallel', 'torch', '-zero_angle']"
   ]
  },
  {
   "cell_type": "code",
   "execution_count": null,
   "metadata": {},
   "outputs": [],
   "source": [
    "for el in s:\n",
    "    print(s)"
   ]
  },
  {
   "cell_type": "code",
   "execution_count": 173,
   "metadata": {},
   "outputs": [],
   "source": [
    "with open('C:/cherepashkin1/598test/plot_output/e058/029/opt.txt', 'r') as f:\n",
    "    fl = f.readlines()"
   ]
  },
  {
   "cell_type": "code",
   "execution_count": 177,
   "metadata": {},
   "outputs": [],
   "source": [
    "df = pd.DataFrame()"
   ]
  },
  {
   "cell_type": "code",
   "execution_count": null,
   "metadata": {},
   "outputs": [],
   "source": [
    "df.insert(0, 'name', lst2[0])"
   ]
  },
  {
   "cell_type": "code",
   "execution_count": 185,
   "metadata": {},
   "outputs": [
    {
     "data": {
      "text/plain": [
       "['Namespace(ampl=441',\n",
       " ' batch_output=2',\n",
       " ' bn=1',\n",
       " ' bs=5',\n",
       " ' cencrop=550',\n",
       " ' center=False',\n",
       " \" chidden_dim='chidden_dim = np.hstack((96\",\n",
       " '128',\n",
       " 'np.repeat(256',\n",
       " \" 3)))'\",\n",
       " ' classicnorm=False',\n",
       " ' cmscrop=0',\n",
       " \" criterion='L1'\",\n",
       " \" csvname='598csv9'\",\n",
       " ' downsample=1',\n",
       " ' epoch=1',\n",
       " \" expdescr=''\",\n",
       " \" expnum='e058'\",\n",
       " ' feature_extract=False',\n",
       " ' framelim=2000',\n",
       " ' gradient_predivide_factor=1.0',\n",
       " \" gttype='single_f_n'\",\n",
       " ' haf=True',\n",
       " \" hidden_dim='hidden_dim = np.hstack((32\",\n",
       " \" 1500))'\",\n",
       " \" inputt='img'\",\n",
       " \" kernel_sizes='kernel_sizes = np.hstack((7\",\n",
       " 'np.repeat(3',\n",
       " \" 5)))'\",\n",
       " \" lb='pc'\",\n",
       " \" localexp=''\",\n",
       " ' lr=0.001',\n",
       " \" machine='lenovo'\",\n",
       " ' maintain=False',\n",
       " ' maintain_line=False',\n",
       " ' man_dist=False',\n",
       " ' measure_time=False',\n",
       " \" merging_order='color_channel'\",\n",
       " ' minmax=False',\n",
       " ' minmax3dimage=False',\n",
       " ' minmax_f=True',\n",
       " \" minmax_fn=''\",\n",
       " \" model_name=''\",\n",
       " \" netname=['cnet']\",\n",
       " ' ngpu=4',\n",
       " ' noise_input=False',\n",
       " ' noise_output=False',\n",
       " ' normalize=False',\n",
       " ' num_input_images=3',\n",
       " ' num_sam_points=500',\n",
       " ' num_workers=0',\n",
       " \" outputt='pc'\",\n",
       " \" parallel='torch'\",\n",
       " ' pin_memory=False',\n",
       " ' pscale=100',\n",
       " ' rand_angle=False',\n",
       " ' rescale=250',\n",
       " ' rot_dirs=False',\n",
       " ' rotate_output=False',\n",
       " ' save_output=True',\n",
       " ' single_folder=False',\n",
       " \" specie='598'\",\n",
       " ' standardize=None',\n",
       " \" steplr=['10'\",\n",
       " \" '0.1']\",\n",
       " \" transappendix='_image'\",\n",
       " ' ufmodel=100000',\n",
       " ' updateFraction=1',\n",
       " ' use_adasum=False',\n",
       " ' use_cuda=True',\n",
       " ' use_existing_csv=True',\n",
       " ' use_pretrained=False',\n",
       " ' use_sep_csv=True',\n",
       " ' view_sep=False',\n",
       " \" wandb=''\",\n",
       " ' weight_decay=0',\n",
       " ' zero_angle=True)\\n']"
      ]
     },
     "execution_count": 185,
     "metadata": {},
     "output_type": "execute_result"
    }
   ],
   "source": [
    "for i in fl[0].split(','):\n",
    "    if 'steplr' in "
   ]
  },
  {
   "cell_type": "code",
   "execution_count": 187,
   "metadata": {},
   "outputs": [],
   "source": [
    "lst = [0, 1, 2]"
   ]
  },
  {
   "cell_type": "code",
   "execution_count": 188,
   "metadata": {},
   "outputs": [
    {
     "data": {
      "text/plain": [
       "'[0, 1, 2]'"
      ]
     },
     "execution_count": 188,
     "metadata": {},
     "output_type": "execute_result"
    }
   ],
   "source": [
    "str(lst)"
   ]
  },
  {
   "cell_type": "code",
   "execution_count": 178,
   "metadata": {},
   "outputs": [],
   "source": [
    "lst2 = []\n",
    "for i in fl[0].split(','):\n",
    "#     df.insert(0, 'name')\n",
    "    lst2.append(i.split('=')[0])"
   ]
  },
  {
   "cell_type": "code",
   "execution_count": 183,
   "metadata": {},
   "outputs": [],
   "source": [
    "lst3 = []\n",
    "for i in fl[0].split(','):\n",
    "#     print(i)\n",
    "#     df.insert(0, 'name')\n",
    "    try:\n",
    "        lst3.append(i.split('=')[1])\n",
    "    except:\n",
    "        lst3.append(i.split('=')[0])"
   ]
  },
  {
   "cell_type": "code",
   "execution_count": null,
   "metadata": {},
   "outputs": [],
   "source": []
  },
  {
   "cell_type": "code",
   "execution_count": 184,
   "metadata": {},
   "outputs": [
    {
     "data": {
      "text/plain": [
       "['441',\n",
       " '2',\n",
       " '1',\n",
       " '5',\n",
       " '550',\n",
       " 'False',\n",
       " \"'chidden_dim \",\n",
       " '128',\n",
       " 'np.repeat(256',\n",
       " \" 3)))'\",\n",
       " 'False',\n",
       " '0',\n",
       " \"'L1'\",\n",
       " \"'598csv9'\",\n",
       " '1',\n",
       " '1',\n",
       " \"''\",\n",
       " \"'e058'\",\n",
       " 'False',\n",
       " '2000',\n",
       " '1.0',\n",
       " \"'single_f_n'\",\n",
       " 'True',\n",
       " \"'hidden_dim \",\n",
       " \" 1500))'\",\n",
       " \"'img'\",\n",
       " \"'kernel_sizes \",\n",
       " 'np.repeat(3',\n",
       " \" 5)))'\",\n",
       " \"'pc'\",\n",
       " \"''\",\n",
       " '0.001',\n",
       " \"'lenovo'\",\n",
       " 'False',\n",
       " 'False',\n",
       " 'False',\n",
       " 'False',\n",
       " \"'color_channel'\",\n",
       " 'False',\n",
       " 'False',\n",
       " 'True',\n",
       " \"''\",\n",
       " \"''\",\n",
       " \"['cnet']\",\n",
       " '4',\n",
       " 'False',\n",
       " 'False',\n",
       " 'False',\n",
       " '3',\n",
       " '500',\n",
       " '0',\n",
       " \"'pc'\",\n",
       " \"'torch'\",\n",
       " 'False',\n",
       " '100',\n",
       " 'False',\n",
       " '250',\n",
       " 'False',\n",
       " 'False',\n",
       " 'True',\n",
       " 'False',\n",
       " \"'598'\",\n",
       " 'None',\n",
       " \"['10'\",\n",
       " \" '0.1']\",\n",
       " \"'_image'\",\n",
       " '100000',\n",
       " '1',\n",
       " 'False',\n",
       " 'True',\n",
       " 'True',\n",
       " 'False',\n",
       " 'True',\n",
       " 'False',\n",
       " \"''\",\n",
       " '0',\n",
       " 'True)\\n']"
      ]
     },
     "execution_count": 184,
     "metadata": {},
     "output_type": "execute_result"
    }
   ],
   "source": [
    "lst3"
   ]
  },
  {
   "cell_type": "code",
   "execution_count": null,
   "metadata": {},
   "outputs": [],
   "source": []
  },
  {
   "cell_type": "code",
   "execution_count": 179,
   "metadata": {},
   "outputs": [
    {
     "data": {
      "text/plain": [
       "['Namespace(ampl',\n",
       " ' batch_output',\n",
       " ' bn',\n",
       " ' bs',\n",
       " ' cencrop',\n",
       " ' center',\n",
       " ' chidden_dim',\n",
       " '128',\n",
       " 'np.repeat(256',\n",
       " \" 3)))'\",\n",
       " ' classicnorm',\n",
       " ' cmscrop',\n",
       " ' criterion',\n",
       " ' csvname',\n",
       " ' downsample',\n",
       " ' epoch',\n",
       " ' expdescr',\n",
       " ' expnum',\n",
       " ' feature_extract',\n",
       " ' framelim',\n",
       " ' gradient_predivide_factor',\n",
       " ' gttype',\n",
       " ' haf',\n",
       " ' hidden_dim',\n",
       " \" 1500))'\",\n",
       " ' inputt',\n",
       " ' kernel_sizes',\n",
       " 'np.repeat(3',\n",
       " \" 5)))'\",\n",
       " ' lb',\n",
       " ' localexp',\n",
       " ' lr',\n",
       " ' machine',\n",
       " ' maintain',\n",
       " ' maintain_line',\n",
       " ' man_dist',\n",
       " ' measure_time',\n",
       " ' merging_order',\n",
       " ' minmax',\n",
       " ' minmax3dimage',\n",
       " ' minmax_f',\n",
       " ' minmax_fn',\n",
       " ' model_name',\n",
       " ' netname',\n",
       " ' ngpu',\n",
       " ' noise_input',\n",
       " ' noise_output',\n",
       " ' normalize',\n",
       " ' num_input_images',\n",
       " ' num_sam_points',\n",
       " ' num_workers',\n",
       " ' outputt',\n",
       " ' parallel',\n",
       " ' pin_memory',\n",
       " ' pscale',\n",
       " ' rand_angle',\n",
       " ' rescale',\n",
       " ' rot_dirs',\n",
       " ' rotate_output',\n",
       " ' save_output',\n",
       " ' single_folder',\n",
       " ' specie',\n",
       " ' standardize',\n",
       " ' steplr',\n",
       " \" '0.1']\",\n",
       " ' transappendix',\n",
       " ' ufmodel',\n",
       " ' updateFraction',\n",
       " ' use_adasum',\n",
       " ' use_cuda',\n",
       " ' use_existing_csv',\n",
       " ' use_pretrained',\n",
       " ' use_sep_csv',\n",
       " ' view_sep',\n",
       " ' wandb',\n",
       " ' weight_decay',\n",
       " ' zero_angle']"
      ]
     },
     "execution_count": 179,
     "metadata": {},
     "output_type": "execute_result"
    }
   ],
   "source": [
    "lst2"
   ]
  },
  {
   "cell_type": "code",
   "execution_count": null,
   "metadata": {},
   "outputs": [],
   "source": []
  },
  {
   "cell_type": "code",
   "execution_count": 79,
   "metadata": {},
   "outputs": [],
   "source": [
    "with open('D:/cherepashkin1/598test/plot_output/e058/000/opt.txt', 'r') as f:\n",
    "    fl = f.readlines()"
   ]
  },
  {
   "cell_type": "code",
   "execution_count": 82,
   "metadata": {},
   "outputs": [],
   "source": [
    "lst2 = []\n",
    "for i in fl[0].split(','):\n",
    "#     df.insert(0, 'name')\n",
    "    lst2.append(i.split('=')[0])"
   ]
  },
  {
   "cell_type": "code",
   "execution_count": 83,
   "metadata": {},
   "outputs": [],
   "source": [
    "lst3 = []\n",
    "for i in fl[0].split(','):\n",
    "#     print(i)\n",
    "#     df.insert(0, 'name')\n",
    "    try:\n",
    "        lst3.append(i.split('=')[1])\n",
    "    except:\n",
    "        lst3.append(i.split('=')[0])"
   ]
  },
  {
   "cell_type": "code",
   "execution_count": 85,
   "metadata": {},
   "outputs": [
    {
     "data": {
      "text/plain": [
       "77"
      ]
     },
     "execution_count": 85,
     "metadata": {},
     "output_type": "execute_result"
    }
   ],
   "source": [
    "len(lst3)"
   ]
  },
  {
   "cell_type": "code",
   "execution_count": 86,
   "metadata": {},
   "outputs": [
    {
     "data": {
      "text/plain": [
       "'Namespace(ampl'"
      ]
     },
     "execution_count": 86,
     "metadata": {},
     "output_type": "execute_result"
    }
   ],
   "source": [
    "lst2[0]"
   ]
  },
  {
   "cell_type": "code",
   "execution_count": 88,
   "metadata": {},
   "outputs": [
    {
     "name": "stdout",
     "output_type": "stream",
     "text": [
      "Namespace(ampl \t 441\n",
      " batch_output \t 2\n",
      " bn \t 1000\n",
      " bs \t 15\n",
      " cencrop \t 700\n",
      " center \t False\n",
      " chidden_dim \t 'chidden_dim \n",
      "128 \t 128\n",
      "np.repeat(256 \t np.repeat(256\n",
      " 3)))' \t  3)))'\n",
      " classicnorm \t False\n",
      " cmscrop \t 0\n",
      " criterion \t 'L1'\n",
      " csvname \t '598csv9'\n",
      " downsample \t 1\n",
      " epoch \t 1000\n",
      " expdescr \t ''\n",
      " expnum \t 'e058'\n",
      " feature_extract \t False\n",
      " framelim \t 2000\n",
      " gradient_predivide_factor \t 1.0\n",
      " gttype \t 'single_f_n'\n",
      " haf \t True\n",
      " hidden_dim \t 'hidden_dim \n",
      " 1500))' \t  1500))'\n",
      " inputt \t 'img'\n",
      " kernel_sizes \t 'kernel_sizes \n",
      "np.repeat(3 \t np.repeat(3\n",
      " 5)))' \t  5)))'\n",
      " lb \t 'pc'\n",
      " localexp \t ''\n",
      " lr \t 0.001\n",
      " machine \t 'workstation'\n",
      " maintain \t False\n",
      " maintain_line \t False\n",
      " man_dist \t False\n",
      " measure_time \t False\n",
      " merging_order \t 'color_channel'\n",
      " minmax \t False\n",
      " minmax3dimage \t False\n",
      " minmax_f \t True\n",
      " minmax_fn \t ''\n",
      " model_name \t ''\n",
      " netname \t ['cnet']\n",
      " ngpu \t 4\n",
      " noise_input \t False\n",
      " noise_output \t False\n",
      " normalize \t False\n",
      " num_input_images \t 3\n",
      " num_sam_points \t 500\n",
      " num_workers \t 0\n",
      " outputt \t 'pc'\n",
      " parallel \t 'torch'\n",
      " pin_memory \t False\n",
      " pscale \t 100\n",
      " rand_angle \t False\n",
      " rescale \t 500\n",
      " rot_dirs \t False\n",
      " rotate_output \t False\n",
      " save_output \t True\n",
      " single_folder \t False\n",
      " specie \t '598'\n",
      " standardize \t None\n",
      " steplr \t ['1000'\n",
      " '1'] \t  '1']\n",
      " transappendix \t '_image'\n",
      " ufmodel \t 100000\n",
      " updateFraction \t 1\n",
      " use_adasum \t False\n",
      " use_cuda \t True\n",
      " use_existing_csv \t True\n",
      " use_pretrained \t False\n",
      " use_sep_csv \t True\n",
      " view_sep \t False\n",
      " wandb \t ''\n",
      " weight_decay \t 0\n",
      " zero_angle \t True)\n",
      "\n"
     ]
    }
   ],
   "source": [
    "for i in range(77):\n",
    "    print(lst2[i], '\\t', lst3[i])"
   ]
  },
  {
   "cell_type": "code",
   "execution_count": 89,
   "metadata": {},
   "outputs": [
    {
     "name": "stdout",
     "output_type": "stream",
     "text": [
      "[\"Namespace(ampl=441, batch_output=2, bn=1000, bs=15, cencrop=700, center=False, chidden_dim='chidden_dim = np.hstack((96,128,np.repeat(256, 3)))', classicnorm=False, cmscrop=0, criterion='L1', csvname='598csv9', downsample=1, epoch=1000, expdescr='', expnum='e058', feature_extract=False, framelim=2000, gradient_predivide_factor=1.0, gttype='single_f_n', haf=True, hidden_dim='hidden_dim = np.hstack((16, 1500))', inputt='img', kernel_sizes='kernel_sizes = np.hstack((7,np.repeat(3, 5)))', lb='pc', localexp='', lr=0.001, machine='workstation', maintain=False, maintain_line=False, man_dist=False, measure_time=False, merging_order='color_channel', minmax=False, minmax3dimage=False, minmax_f=True, minmax_fn='', model_name='', netname=['cnet'], ngpu=4, noise_input=False, noise_output=False, normalize=False, num_input_images=3, num_sam_points=500, num_workers=0, outputt='pc', parallel='torch', pin_memory=False, pscale=100, rand_angle=False, rescale=500, rot_dirs=False, rotate_output=False, save_output=True, single_folder=False, specie='598', standardize=None, steplr=['1000', '1'], transappendix='_image', ufmodel=100000, updateFraction=1, use_adasum=False, use_cuda=True, use_existing_csv=True, use_pretrained=False, use_sep_csv=True, view_sep=False, wandb='', weight_decay=0, zero_angle=True)\\n\"]\n"
     ]
    }
   ],
   "source": [
    "print(fl)"
   ]
  },
  {
   "cell_type": "code",
   "execution_count": null,
   "metadata": {},
   "outputs": [],
   "source": []
  },
  {
   "cell_type": "code",
   "execution_count": 81,
   "metadata": {},
   "outputs": [
    {
     "data": {
      "text/plain": [
       "['Namespace(ampl=441',\n",
       " ' batch_output=2',\n",
       " ' bn=1000',\n",
       " ' bs=15',\n",
       " ' cencrop=700',\n",
       " ' center=False',\n",
       " \" chidden_dim='chidden_dim = np.hstack((96\",\n",
       " '128',\n",
       " 'np.repeat(256',\n",
       " \" 3)))'\",\n",
       " ' classicnorm=False',\n",
       " ' cmscrop=0',\n",
       " \" criterion='L1'\",\n",
       " \" csvname='598csv9'\",\n",
       " ' downsample=1',\n",
       " ' epoch=1000',\n",
       " \" expdescr=''\",\n",
       " \" expnum='e058'\",\n",
       " ' feature_extract=False',\n",
       " ' framelim=2000',\n",
       " ' gradient_predivide_factor=1.0',\n",
       " \" gttype='single_f_n'\",\n",
       " ' haf=True',\n",
       " \" hidden_dim='hidden_dim = np.hstack((16\",\n",
       " \" 1500))'\",\n",
       " \" inputt='img'\",\n",
       " \" kernel_sizes='kernel_sizes = np.hstack((7\",\n",
       " 'np.repeat(3',\n",
       " \" 5)))'\",\n",
       " \" lb='pc'\",\n",
       " \" localexp=''\",\n",
       " ' lr=0.001',\n",
       " \" machine='workstation'\",\n",
       " ' maintain=False',\n",
       " ' maintain_line=False',\n",
       " ' man_dist=False',\n",
       " ' measure_time=False',\n",
       " \" merging_order='color_channel'\",\n",
       " ' minmax=False',\n",
       " ' minmax3dimage=False',\n",
       " ' minmax_f=True',\n",
       " \" minmax_fn=''\",\n",
       " \" model_name=''\",\n",
       " \" netname=['cnet']\",\n",
       " ' ngpu=4',\n",
       " ' noise_input=False',\n",
       " ' noise_output=False',\n",
       " ' normalize=False',\n",
       " ' num_input_images=3',\n",
       " ' num_sam_points=500',\n",
       " ' num_workers=0',\n",
       " \" outputt='pc'\",\n",
       " \" parallel='torch'\",\n",
       " ' pin_memory=False',\n",
       " ' pscale=100',\n",
       " ' rand_angle=False',\n",
       " ' rescale=500',\n",
       " ' rot_dirs=False',\n",
       " ' rotate_output=False',\n",
       " ' save_output=True',\n",
       " ' single_folder=False',\n",
       " \" specie='598'\",\n",
       " ' standardize=None',\n",
       " \" steplr=['1000'\",\n",
       " \" '1']\",\n",
       " \" transappendix='_image'\",\n",
       " ' ufmodel=100000',\n",
       " ' updateFraction=1',\n",
       " ' use_adasum=False',\n",
       " ' use_cuda=True',\n",
       " ' use_existing_csv=True',\n",
       " ' use_pretrained=False',\n",
       " ' use_sep_csv=True',\n",
       " ' view_sep=False',\n",
       " \" wandb=''\",\n",
       " ' weight_decay=0',\n",
       " ' zero_angle=True)\\n']"
      ]
     },
     "execution_count": 81,
     "metadata": {},
     "output_type": "execute_result"
    }
   ],
   "source": [
    "for i ifl[0].split(',')"
   ]
  },
  {
   "cell_type": "code",
   "execution_count": 92,
   "metadata": {},
   "outputs": [],
   "source": [
    "with open('D:/cherepashkin1/598test/plot_output/e058/000/sys_argv.txt', 'r') as f:\n",
    "    fl = f.readlines()"
   ]
  },
  {
   "cell_type": "code",
   "execution_count": 98,
   "metadata": {},
   "outputs": [
    {
     "data": {
      "text/plain": [
       "\"['D:/circles/finetune_test/main.py'\""
      ]
     },
     "execution_count": 98,
     "metadata": {},
     "output_type": "execute_result"
    }
   ],
   "source": [
    "fl[0].split(',')[0]"
   ]
  },
  {
   "cell_type": "code",
   "execution_count": 99,
   "metadata": {},
   "outputs": [],
   "source": [
    "s = ['D:/circles/finetune_test/main.py', '-epoch', '1000', '-bn', '1000', '-bs', '15', '-num_input_images', '3', '-framelim', '2000', '-rescale', '500', '-cencrop', '700', '-framelim', '2000', '-criterion', 'L1', '-localexp', '', '-lr', '1e-3', '-expnum', 'e058', '-hidden_dim', 'hidden_dim = np.hstack((16, 1500))', '-inputt', 'img', '-lb', 'pc', '-zero_angle', '-gttype', 'single_f_n', '-outputt', 'pc', '-csvname', '598csv9', '-parallel', 'torch', '-machine', 'workstation', '-wandb', '', '-merging_order', 'color_channel', '-updateFraction', '1', '-steplr', '1000', '1', '-batch_output', '2', '-cmscrop', '0']\n"
   ]
  },
  {
   "cell_type": "code",
   "execution_count": null,
   "metadata": {},
   "outputs": [],
   "source": [
    "for i in s:\n",
    "    print()"
   ]
  },
  {
   "cell_type": "code",
   "execution_count": null,
   "metadata": {},
   "outputs": [],
   "source": [
    "['D:/circles/finetune_test/main.py', '-epoch', '1000', '-bn', '1000', '-bs', '15', '-num_input_images', '3', '-framelim', '2000', '-rescale', '500', '-cencrop', '700', '-framelim', '2000', '-criterion', 'L1', '-localexp', '', '-lr', '1e-3', '-expnum', 'e058', '-hidden_dim', 'hidden_dim = np.hstack((16, 1500))', '-inputt', 'img', '-lb', 'pc', '-zero_angle', '-gttype', 'single_f_n', '-outputt', 'pc', '-csvname', '598csv9', '-parallel', 'torch', '-machine', 'workstation', '-wandb', '', '-merging_order', 'color_channel', '-updateFraction', '1', '-steplr', '1000', '1', '-batch_output', '2', '-cmscrop', '0']\n"
   ]
  },
  {
   "cell_type": "code",
   "execution_count": 102,
   "metadata": {},
   "outputs": [
    {
     "name": "stdout",
     "output_type": "stream",
     "text": [
      "-epoch \t 1000\n",
      "-bn \t 1000\n",
      "-bs \t 15\n",
      "-num_input_images \t 3\n",
      "-framelim \t 2000\n",
      "-rescale \t 500\n",
      "-cencrop \t 700\n",
      "-framelim \t 2000\n",
      "-criterion \t L1\n",
      "-localexp \t \n",
      "-lr \t 1e-3\n",
      "-expnum \t e058\n",
      "-hidden_dim \t hidden_dim = np.hstack((16, 1500))\n",
      "-inputt \t img\n",
      "-lb \t pc\n",
      "-zero_angle \t -gttype\n",
      "single_f_n \t -outputt\n",
      "pc \t -csvname\n",
      "598csv9 \t -parallel\n",
      "torch \t -machine\n",
      "workstation \t -wandb\n",
      " \t -merging_order\n",
      "color_channel \t -updateFraction\n",
      "1 \t -steplr\n",
      "1000 \t 1\n",
      "-batch_output \t 2\n"
     ]
    }
   ],
   "source": [
    "ns2 = []\n",
    "for i in range(1,len(s)//2):\n",
    "#     print(i)\n",
    "#     ns2[i, 0] = s[2*i-1]\n",
    "#     ns2[i, 1] = s[2*i]\n",
    "    print(s[2*i-1], '\\t', s[2*i])"
   ]
  },
  {
   "cell_type": "code",
   "execution_count": 104,
   "metadata": {},
   "outputs": [],
   "source": [
    "lossar = np.genfromtxt('D:/cherepashkin1/598test/plot_output/e058/000/lossar', delimiter=',')"
   ]
  },
  {
   "cell_type": "code",
   "execution_count": 105,
   "metadata": {},
   "outputs": [
    {
     "data": {
      "text/plain": [
       "(4, 1000)"
      ]
     },
     "execution_count": 105,
     "metadata": {},
     "output_type": "execute_result"
    }
   ],
   "source": [
    "lossar.shape"
   ]
  },
  {
   "cell_type": "code",
   "execution_count": 108,
   "metadata": {},
   "outputs": [
    {
     "data": {
      "text/plain": [
       "(0.0, 4.0)"
      ]
     },
     "execution_count": 108,
     "metadata": {},
     "output_type": "execute_result"
    },
    {
     "data": {
      "image/png": "[encoded data removed]",
      "text/plain": [
       "<Figure size 648x360 with 1 Axes>"
      ]
     },
     "metadata": {
      "needs_background": "light"
     },
     "output_type": "display_data"
    }
   ],
   "source": [
    "plt.plot(lossar[0,:])\n",
    "plt.plot(lossar[1,:])\n",
    "plt.ylim(0, 4)"
   ]
  },
  {
   "cell_type": "code",
   "execution_count": null,
   "metadata": {},
   "outputs": [],
   "source": []
  },
  {
   "cell_type": "code",
   "execution_count": 123,
   "metadata": {},
   "outputs": [
    {
     "data": {
      "text/plain": [
       "3.4345841290098487"
      ]
     },
     "execution_count": 123,
     "metadata": {},
     "output_type": "execute_result"
    }
   ],
   "source": [
    "lossar[0,35]"
   ]
  },
  {
   "cell_type": "code",
   "execution_count": 124,
   "metadata": {},
   "outputs": [
    {
     "data": {
      "text/plain": [
       "0.2308331785079475"
      ]
     },
     "execution_count": 124,
     "metadata": {},
     "output_type": "execute_result"
    }
   ],
   "source": [
    "lossar[0,36]"
   ]
  },
  {
   "cell_type": "code",
   "execution_count": 130,
   "metadata": {},
   "outputs": [
    {
     "name": "stdout",
     "output_type": "stream",
     "text": [
      "34 \t 0.25877959308800874\n",
      "35 \t 0.3032113865569786\n",
      "36 \t 0.18661925031079185\n",
      "37 \t 0.1856686263172715\n",
      "38 \t 0.17027104949509655\n",
      "39 \t 0.16692925492922464\n",
      "40 \t 0.16677278169879206\n",
      "41 \t 0.16642358402411142\n",
      "42 \t 0.16397321003454704\n",
      "43 \t 0.1618987989646417\n",
      "44 \t 0.15951250327958\n",
      "45 \t 0.15911267697811127\n",
      "46 \t 0.15769431160555947\n",
      "47 \t 0.15740374172175373\n",
      "48 \t 0.15778990696977685\n",
      "49 \t 0.15959408934469577\n"
     ]
    }
   ],
   "source": [
    "for i in range(34, 50):\n",
    "    print(i, '\\t', lossar[1,i])"
   ]
  },
  {
   "cell_type": "code",
   "execution_count": 128,
   "metadata": {},
   "outputs": [
    {
     "data": {
      "text/plain": [
       "(-2.0, 1.0)"
      ]
     },
     "execution_count": 128,
     "metadata": {},
     "output_type": "execute_result"
    },
    {
     "data": {
      "image/png": "[encoded data removed]",
      "text/plain": [
       "<Figure size 648x360 with 1 Axes>"
      ]
     },
     "metadata": {
      "needs_background": "light"
     },
     "output_type": "display_data"
    }
   ],
   "source": [
    "plt.plot(np.ma.log10(lossar[0,:]))\n",
    "plt.plot(np.ma.log10(lossar[1,:]))\n",
    "plt.scatter(105, -1, c='r')\n",
    "plt.ylim(-2, 1)"
   ]
  },
  {
   "cell_type": "code",
   "execution_count": 132,
   "metadata": {},
   "outputs": [],
   "source": [
    "import shutil"
   ]
  },
  {
   "cell_type": "code",
   "execution_count": 133,
   "metadata": {},
   "outputs": [
    {
     "data": {
      "text/plain": [
       "'D:/cherepashkin1/598test/plot_output/e058/000/top/pc_train_107_106.png'"
      ]
     },
     "execution_count": 133,
     "metadata": {},
     "output_type": "execute_result"
    }
   ],
   "source": [
    "shutil.copy('D:/cherepashkin1/598test/plot_output/e058/000/pc_train_107_106.png', \n",
    "            'D:/cherepashkin1/598test/plot_output/e058/000/top/pc_train_107_106.png')"
   ]
  },
  {
   "cell_type": "code",
   "execution_count": 136,
   "metadata": {},
   "outputs": [
    {
     "data": {
      "text/plain": [
       "'D:/cherepashkin1/598test/plot_output/e058/000/top/pc_val_107_026.png'"
      ]
     },
     "execution_count": 136,
     "metadata": {},
     "output_type": "execute_result"
    }
   ],
   "source": [
    "shutil.copy('D:/cherepashkin1/598test/plot_output/e058/000/pc_val_107_026.png', \n",
    "            'D:/cherepashkin1/598test/plot_output/e058/000/top/pc_val_107_026.png')"
   ]
  },
  {
   "cell_type": "code",
   "execution_count": 138,
   "metadata": {},
   "outputs": [
    {
     "data": {
      "text/plain": [
       "'D:/cherepashkin1/598test/plot_output/e058/000/top/pc_val_037_026.png'"
      ]
     },
     "execution_count": 138,
     "metadata": {},
     "output_type": "execute_result"
    }
   ],
   "source": [
    "shutil.copy('D:/cherepashkin1/598test/plot_output/e058/000/pc_val_037_026.png', \n",
    "            'D:/cherepashkin1/598test/plot_output/e058/000/top/pc_val_037_026.png')"
   ]
  },
  {
   "cell_type": "code",
   "execution_count": 140,
   "metadata": {},
   "outputs": [],
   "source": [
    "with open('C:/Users/v.cherepashkin/Desktop/job-parameters.txt') as f:\n",
    "    fl = f.readlines()"
   ]
  },
  {
   "cell_type": "code",
   "execution_count": 142,
   "metadata": {},
   "outputs": [],
   "source": [
    "fl2 = [i.replace('\\n','') for i in fl]"
   ]
  },
  {
   "cell_type": "code",
   "execution_count": 143,
   "metadata": {},
   "outputs": [
    {
     "name": "stdout",
     "output_type": "stream",
     "text": [
      "epoch\t300\n",
      "bn\t5\n",
      "bs\t40\n",
      "lr\t5e-07\n",
      "minmax\tFalse\n",
      "minmax3dimage\tFalse\n",
      "downsample\t1\n",
      "normalize\tFalse\n",
      "center\tFalse\n",
      "classicnorm\tTrue\n",
      "ampl\t441\n",
      "cmscrop\t550\n",
      "rescale\t550\n",
      "use_adasum\tFalse\n",
      "gradient_predivide_factor\t1.0\n",
      "expnum\te048\n",
      "time_elapsed\t6:14:51.752168\n",
      "hidden_dim\thidden_dim \n",
      "chidden_dim\tchidden_dim \n",
      "kernel_sizes\tkernel_sizes \n",
      "was it 3d point cloud on input ? \t False\n",
      "model_name\t\n",
      "Was it used pretrained model ? \tFalse\n",
      "weight_decay\t0\n",
      "num_input_images\t1\n",
      "merging_order\t\n",
      "specie\t598\n",
      "number of sampled points\t500\n",
      "loss is between model output and gt of \tf\n",
      "rand_angle\tFalseCNet(\n",
      "  (conv0): Conv2d(1, 32, kernel_size\t(3, 3), stride\n",
      "  (conv1): Conv2d(32, 64, kernel_size\t(3, 3), stride\n",
      "  (pool): MaxPool2d(kernel_size\t2, stride\n",
      "  (conv2): Conv2d(64, 96, kernel_size\t(3, 3), stride\n",
      "  (conv3): Conv2d(96, 128, kernel_size\t(3, 3), stride\n",
      "  (conv4): Conv2d(128, 128, kernel_size\t(4, 4), stride\n",
      "  (bn0): BatchNorm2d(32, eps\t1e-05, momentum\n",
      "  (bn1): BatchNorm2d(64, eps\t1e-05, momentum\n",
      "  (bn2): BatchNorm2d(96, eps\t1e-05, momentum\n",
      "  (bn3): BatchNorm2d(128, eps\t1e-05, momentum\n",
      "    (0): Linear(in_features\t211584, out_features\n",
      "    (1): Linear(in_features\t5000, out_features\n",
      "    (2): Linear(in_features\t2500, out_features\n",
      "    (3): Linear(in_features\t1000, out_features\n"
     ]
    }
   ],
   "source": [
    "for s in fl2:\n",
    "    try:\n",
    "        print(s.split('=')[0]+'\\t'+s.split('=')[1])\n",
    "    except:\n",
    "        pass"
   ]
  },
  {
   "cell_type": "code",
   "execution_count": null,
   "metadata": {},
   "outputs": [],
   "source": []
  }
 ],
 "metadata": {
  "kernelspec": {
   "display_name": "Python 3",
   "language": "python",
   "name": "python3"
  },
  "language_info": {
   "codemirror_mode": {
    "name": "ipython",
    "version": 3
   },
   "file_extension": ".py",
   "mimetype": "text/x-python",
   "name": "python",
   "nbconvert_exporter": "python",
   "pygments_lexer": "ipython3",
   "version": "3.8.5"
  }
 },
 "nbformat": 4,
 "nbformat_minor": 4
}
