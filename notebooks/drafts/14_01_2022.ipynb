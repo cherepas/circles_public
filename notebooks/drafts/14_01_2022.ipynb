{
 "cells": [
  {
   "cell_type": "code",
   "execution_count": 53,
   "metadata": {},
   "outputs": [],
   "source": [
    "import time\n",
    "import csv2md\n",
    "import torch as t\n",
    "import numpy as np\n",
    "import matplotlib.pyplot as plt\n",
    "import open3d\n",
    "from numpy import linalg as LA\n",
    "import os\n",
    "import h5py\n",
    "import pandas as pd\n",
    "from torch import nn\n",
    "import math"
   ]
  },
  {
   "cell_type": "code",
   "execution_count": 202,
   "metadata": {},
   "outputs": [],
   "source": [
    "def namelist(path, fltr):\n",
    "    cip = []\n",
    "    for root, structure, files in os.walk(path):\n",
    "        for file in files:\n",
    "            if fltr in file:\n",
    "                cip.append(os.path.join(root, file))\n",
    "    return cip\n",
    "def pose6tomat(a):\n",
    "    return(np.array(\n",
    "            [[a[0], a[1], a[2]],\n",
    "            [a[1], a[3], a[4]],\n",
    "            [a[2], a[4], a[5]]]))"
   ]
  },
  {
   "cell_type": "code",
   "execution_count": 8,
   "metadata": {},
   "outputs": [
    {
     "data": {
      "text/plain": [
       "'Fri Jan 14 16:03:41 2022'"
      ]
     },
     "execution_count": 8,
     "metadata": {},
     "output_type": "execute_result"
    }
   ],
   "source": [
    "time.ctime()"
   ]
  },
  {
   "cell_type": "code",
   "execution_count": 5,
   "metadata": {},
   "outputs": [
    {
     "ename": "AttributeError",
     "evalue": "module 'time' has no attribute 'today'",
     "output_type": "error",
     "traceback": [
      "\u001b[1;31m---------------------------------------------------------------------------\u001b[0m",
      "\u001b[1;31mAttributeError\u001b[0m                            Traceback (most recent call last)",
      "\u001b[1;32m<ipython-input-5-4d0e332acdb4>\u001b[0m in \u001b[0;36m<module>\u001b[1;34m\u001b[0m\n\u001b[1;32m----> 1\u001b[1;33m \u001b[0mtime\u001b[0m\u001b[1;33m.\u001b[0m\u001b[0mtoday\u001b[0m\u001b[1;33m(\u001b[0m\u001b[1;33m)\u001b[0m\u001b[1;33m\u001b[0m\u001b[1;33m\u001b[0m\u001b[0m\n\u001b[0m",
      "\u001b[1;31mAttributeError\u001b[0m: module 'time' has no attribute 'today'"
     ]
    }
   ],
   "source": [
    "time.today()"
   ]
  },
  {
   "cell_type": "code",
   "execution_count": 10,
   "metadata": {},
   "outputs": [
    {
     "data": {
      "text/plain": [
       "28"
      ]
     },
     "execution_count": 10,
     "metadata": {},
     "output_type": "execute_result"
    }
   ],
   "source": [
    "14-18+1+31"
   ]
  },
  {
   "cell_type": "code",
   "execution_count": 40,
   "metadata": {},
   "outputs": [
    {
     "ename": "SyntaxError",
     "evalue": "invalid syntax (<ipython-input-40-c18e9656d238>, line 1)",
     "output_type": "error",
     "traceback": [
      "\u001b[1;36m  File \u001b[1;32m\"<ipython-input-40-c18e9656d238>\"\u001b[1;36m, line \u001b[1;32m1\u001b[0m\n\u001b[1;33m    csv2md \"C:/cherepashkin1/598test/plot_output/e066/046l/opt.csv\"\u001b[0m\n\u001b[1;37m           ^\u001b[0m\n\u001b[1;31mSyntaxError\u001b[0m\u001b[1;31m:\u001b[0m invalid syntax\n"
     ]
    }
   ],
   "source": [
    "csv2md \"C:/cherepashkin1/598test/plot_output/e066/046l/opt.csv\""
   ]
  },
  {
   "cell_type": "code",
   "execution_count": 15,
   "metadata": {},
   "outputs": [],
   "source": [
    "with open('C:/cherepashkin1/598test/plot_output/e066/046l/sys_argv.txt', 'r') as f:\n",
    "    lst = f.readlines()"
   ]
  },
  {
   "cell_type": "code",
   "execution_count": 25,
   "metadata": {},
   "outputs": [
    {
     "data": {
      "text/plain": [
       "\"['C:/circles/finetune_test/main.py', '-epoch', '10', '-bs', '7', '-num_input_images', '1', '-framelim', '25', '-rescale', '500', '-cencrop', '700', '-outputt', 'pose6', '-criterion', 'L2', '-localexp', '', '-lr', '1e-5', '-expnum', 'e066', '-hidden_dim', '6', '-inputt', 'img', '-lb', 'pose6', '-zero_angle', '-gttype', 'single_f_n', '-csvname', '598csv9', '-parallel', 'torch', '-machine', 'lenovo', '-wandb', '', '-merging_order', 'color_channel', '-updateFraction', '0.2', '-steplr', '20', '0.2', '-batch_output', '2', '-cmscrop', '0', '-weight_decay', '0', '-print_minibatch', '1']\\n\""
      ]
     },
     "execution_count": 25,
     "metadata": {},
     "output_type": "execute_result"
    }
   ],
   "source": [
    "lst[0]"
   ]
  },
  {
   "cell_type": "code",
   "execution_count": 32,
   "metadata": {},
   "outputs": [],
   "source": [
    "lst0 = [st for st in lst[0].split(',')]"
   ]
  },
  {
   "cell_type": "code",
   "execution_count": 41,
   "metadata": {},
   "outputs": [
    {
     "data": {
      "text/plain": [
       "\"['C:/circles/finetune_test/main.py'\""
      ]
     },
     "execution_count": 41,
     "metadata": {},
     "output_type": "execute_result"
    }
   ],
   "source": [
    "str(lst0[0])"
   ]
  },
  {
   "cell_type": "code",
   "execution_count": 46,
   "metadata": {},
   "outputs": [
    {
     "data": {
      "text/plain": [
       "\" '-epoch'\""
      ]
     },
     "execution_count": 46,
     "metadata": {},
     "output_type": "execute_result"
    }
   ],
   "source": [
    "lst0[1]"
   ]
  },
  {
   "cell_type": "code",
   "execution_count": null,
   "metadata": {},
   "outputs": [],
   "source": []
  },
  {
   "cell_type": "code",
   "execution_count": null,
   "metadata": {},
   "outputs": [],
   "source": [
    "lst0"
   ]
  },
  {
   "cell_type": "code",
   "execution_count": null,
   "metadata": {},
   "outputs": [],
   "source": [
    "for j, st in enumerate(lst[0].split(',')):\n",
    "    print(st)\n",
    "#     print(st + '|' + )"
   ]
  },
  {
   "cell_type": "code",
   "execution_count": 47,
   "metadata": {},
   "outputs": [],
   "source": [
    "lst2 = ['C:/circles/finetune_test/main.py', '-epoch', '10', '-bs', '7', '-num_input_images', '1', '-framelim', '25', '-rescale', '500', '-cencrop', '700', '-outputt', 'pose6', '-criterion', 'L2', '-localexp', '', '-lr', '1e-5', '-expnum', 'e066', '-hidden_dim', '6', '-inputt', 'img', '-lb', 'pose6', '-zero_angle', '-gttype', 'single_f_n', '-csvname', '598csv9', '-parallel', 'torch', '-machine', 'lenovo', '-wandb', '', '-merging_order', 'color_channel', '-updateFraction', '0.2', '-steplr', '20', '0.2', '-batch_output', '2', '-cmscrop', '0', '-weight_decay', '0', '-print_minibatch', '1']\n"
   ]
  },
  {
   "cell_type": "code",
   "execution_count": 48,
   "metadata": {},
   "outputs": [
    {
     "name": "stdout",
     "output_type": "stream",
     "text": [
      "C:/circles/finetune_test/main.py\n"
     ]
    }
   ],
   "source": [
    "print(lst2[0])"
   ]
  },
  {
   "cell_type": "code",
   "execution_count": null,
   "metadata": {},
   "outputs": [],
   "source": [
    "for j in range(1,30):\n",
    "    print(lst2[2*j-1].replace('-','')+'|'+lst2[2*j])"
   ]
  },
  {
   "cell_type": "code",
   "execution_count": null,
   "metadata": {},
   "outputs": [],
   "source": [
    "for j in range(1,15):\n",
    "    print(lst2[2*j-1].replace('-','')+'|'+lst2[2*j])\n",
    "print(lst2[2*15-1])\n",
    "for j in range(15,20):\n",
    "    print(lst2[2*j].replace('-','')+'|'+lst2[2*j+1])"
   ]
  },
  {
   "cell_type": "code",
   "execution_count": null,
   "metadata": {},
   "outputs": [],
   "source": [
    "lst2"
   ]
  },
  {
   "cell_type": "code",
   "execution_count": null,
   "metadata": {},
   "outputs": [],
   "source": []
  },
  {
   "cell_type": "code",
   "execution_count": null,
   "metadata": {},
   "outputs": [],
   "source": [
    "(len(lst2)-1)//2"
   ]
  },
  {
   "cell_type": "code",
   "execution_count": null,
   "metadata": {},
   "outputs": [],
   "source": [
    "for root, structure, files in os.walk('C:/cherepashkin1/598test/plot_output/e066/'):\n",
    "    for file in files:\n",
    "        if \n",
    "        print(os.path.join(root,file))\n",
    "    "
   ]
  },
  {
   "cell_type": "code",
   "execution_count": 5,
   "metadata": {},
   "outputs": [],
   "source": [
    "def moments(image):\n",
    "    X = image[:, 0]\n",
    "    Y = image[:, 1]\n",
    "    Z = image[:, 2]\n",
    "    car = np.array([np.matmul(X, X.T), np.matmul(X, Y.T), np.matmul(X, Z.T),\n",
    "            np.matmul(Y, Y.T), np.matmul(Y, Z.T), np.matmul(Z, Z.T)])\n",
    "    return(car)"
   ]
  },
  {
   "cell_type": "code",
   "execution_count": 4,
   "metadata": {},
   "outputs": [],
   "source": [
    "image = np.asarray(open3d.io.read_point_cloud('C:/cherepashkin1/phenoseed/598/1484717/1491988_Surface.ply').points)\n"
   ]
  },
  {
   "cell_type": "code",
   "execution_count": 10,
   "metadata": {},
   "outputs": [
    {
     "data": {
      "text/plain": [
       "array([129.83198685,  43.93653293, 154.31712995])"
      ]
     },
     "execution_count": 10,
     "metadata": {},
     "output_type": "execute_result"
    }
   ],
   "source": [
    "np.mean(image, axis=0)"
   ]
  },
  {
   "cell_type": "code",
   "execution_count": 6,
   "metadata": {},
   "outputs": [
    {
     "data": {
      "text/plain": [
       "array([5.04089976e+08, 1.64563652e+08, 5.75078730e+08, 6.47246460e+07,\n",
       "       2.00929929e+08, 7.24817978e+08])"
      ]
     },
     "execution_count": 6,
     "metadata": {},
     "output_type": "execute_result"
    }
   ],
   "source": [
    "moments(image)"
   ]
  },
  {
   "cell_type": "code",
   "execution_count": 11,
   "metadata": {},
   "outputs": [
    {
     "data": {
      "text/plain": [
       "array([ 11682431.39148296,  -2072327.49637135, -10192441.5262221 ,\n",
       "         8333248.33205532,   2867904.95892099,  29169936.10817471])"
      ]
     },
     "execution_count": 11,
     "metadata": {},
     "output_type": "execute_result"
    }
   ],
   "source": [
    "moments(image-np.mean(image, axis=0))"
   ]
  },
  {
   "cell_type": "code",
   "execution_count": 3,
   "metadata": {},
   "outputs": [
    {
     "data": {
      "text/plain": [
       "(29212, 3)"
      ]
     },
     "execution_count": 3,
     "metadata": {},
     "output_type": "execute_result"
    }
   ],
   "source": [
    "image.shape"
   ]
  },
  {
   "cell_type": "code",
   "execution_count": 12,
   "metadata": {},
   "outputs": [
    {
     "ename": "NameError",
     "evalue": "name 'opt' is not defined",
     "output_type": "error",
     "traceback": [
      "\u001b[1;31m---------------------------------------------------------------------------\u001b[0m",
      "\u001b[1;31mNameError\u001b[0m                                 Traceback (most recent call last)",
      "\u001b[1;32m<ipython-input-12-184557bb58f9>\u001b[0m in \u001b[0;36m<module>\u001b[1;34m\u001b[0m\n\u001b[1;32m----> 1\u001b[1;33m \u001b[1;32mif\u001b[0m \u001b[0mopt\u001b[0m\u001b[1;33m.\u001b[0m\u001b[0mcriterion\u001b[0m \u001b[1;33m==\u001b[0m \u001b[1;34m'L2'\u001b[0m\u001b[1;33m:\u001b[0m\u001b[1;33m\u001b[0m\u001b[1;33m\u001b[0m\u001b[0m\n\u001b[0m\u001b[0;32m      2\u001b[0m     \u001b[0mloss_fn\u001b[0m \u001b[1;33m=\u001b[0m \u001b[0mnn\u001b[0m\u001b[1;33m.\u001b[0m\u001b[0mMSELoss\u001b[0m\u001b[1;33m(\u001b[0m\u001b[0mreduction\u001b[0m\u001b[1;33m=\u001b[0m\u001b[1;34m'none'\u001b[0m\u001b[1;33m)\u001b[0m\u001b[1;33m\u001b[0m\u001b[1;33m\u001b[0m\u001b[0m\n\u001b[0;32m      3\u001b[0m \u001b[1;32melif\u001b[0m \u001b[0mopt\u001b[0m\u001b[1;33m.\u001b[0m\u001b[0mcriterion\u001b[0m \u001b[1;33m==\u001b[0m \u001b[1;34m'L1'\u001b[0m\u001b[1;33m:\u001b[0m\u001b[1;33m\u001b[0m\u001b[1;33m\u001b[0m\u001b[0m\n\u001b[0;32m      4\u001b[0m     \u001b[0mloss_fn\u001b[0m \u001b[1;33m=\u001b[0m \u001b[0mnn\u001b[0m\u001b[1;33m.\u001b[0m\u001b[0mL1Loss\u001b[0m\u001b[1;33m(\u001b[0m\u001b[0mreduction\u001b[0m\u001b[1;33m=\u001b[0m\u001b[1;34m'none'\u001b[0m\u001b[1;33m)\u001b[0m\u001b[1;33m\u001b[0m\u001b[1;33m\u001b[0m\u001b[0m\n",
      "\u001b[1;31mNameError\u001b[0m: name 'opt' is not defined"
     ]
    }
   ],
   "source": [
    "if opt.criterion == 'L2':\n",
    "    loss_fn = nn.MSELoss(reduction='none')\n",
    "elif opt.criterion == 'L1':\n",
    "    loss_fn = nn.L1Loss(reduction='none')"
   ]
  },
  {
   "cell_type": "code",
   "execution_count": 14,
   "metadata": {},
   "outputs": [],
   "source": [
    "loss_fn = nn.MSELoss(reduction='none')"
   ]
  },
  {
   "cell_type": "code",
   "execution_count": 20,
   "metadata": {},
   "outputs": [],
   "source": [
    "otp = t.Tensor([1, 2, 3, -1, -2, -3])"
   ]
  },
  {
   "cell_type": "code",
   "execution_count": 21,
   "metadata": {},
   "outputs": [
    {
     "data": {
      "text/plain": [
       "tensor([1., 4., 9., 1., 4., 9.])"
      ]
     },
     "execution_count": 21,
     "metadata": {},
     "output_type": "execute_result"
    }
   ],
   "source": [
    "loss_fn(otp, t.zeros(6))"
   ]
  },
  {
   "cell_type": "code",
   "execution_count": 23,
   "metadata": {},
   "outputs": [
    {
     "data": {
      "text/plain": [
       "tensor(4.6667)"
      ]
     },
     "execution_count": 23,
     "metadata": {},
     "output_type": "execute_result"
    }
   ],
   "source": [
    "t.mean(loss_fn(otp, t.zeros(6)))"
   ]
  },
  {
   "cell_type": "markdown",
   "metadata": {},
   "source": [
    "# calculating eigenmatrix from subtracted mean pcd"
   ]
  },
  {
   "cell_type": "code",
   "execution_count": 25,
   "metadata": {},
   "outputs": [],
   "source": []
  },
  {
   "cell_type": "code",
   "execution_count": 39,
   "metadata": {},
   "outputs": [],
   "source": [
    "cip = namelist('C:/cherepashkin1/phenoseed/598','Surface.ply')\n",
    "car2 = np.zeros([len(cip), 3, 3])\n",
    "car = np.zeros(6)\n",
    "for i,k in enumerate(cip):\n",
    "    pcd = np.asarray(open3d.io.read_point_cloud(k).points)\n",
    "    pcd = pcd - np.mean(pcd,axis=0)\n",
    "    # image = np.asarray(open3d.io.read_point_cloud('C:/cherepashkin1/phenoseed/598/1484717/1491988_Surface.ply').points)\n",
    "    X = pcd[:, 0]\n",
    "    Y = pcd[:, 1]\n",
    "    Z = pcd[:, 2]\n",
    "    car = np.array([np.matmul(X, X.T), np.matmul(X, Y.T), np.matmul(X, Z.T),\n",
    "            np.matmul(Y, Y.T), np.matmul(Y, Z.T), np.matmul(Z, Z.T)])\n",
    "    _, car2[i,:,:] = LA.eig(pose6tomat(car))\n",
    "# for i in range(len(cip)):\n",
    "    "
   ]
  },
  {
   "cell_type": "code",
   "execution_count": 30,
   "metadata": {},
   "outputs": [
    {
     "data": {
      "text/plain": [
       "(5283, 6)"
      ]
     },
     "execution_count": 30,
     "metadata": {},
     "output_type": "execute_result"
    }
   ],
   "source": [
    "car.shape"
   ]
  },
  {
   "cell_type": "code",
   "execution_count": 31,
   "metadata": {},
   "outputs": [],
   "source": [
    "car2 = np.zeros([len(cip), 3, 3])"
   ]
  },
  {
   "cell_type": "code",
   "execution_count": 33,
   "metadata": {},
   "outputs": [],
   "source": [
    "for i in range(len(cip)):\n",
    "    car2[i,:,:] = pose6tomat(car[i,:])"
   ]
  },
  {
   "cell_type": "code",
   "execution_count": 35,
   "metadata": {},
   "outputs": [],
   "source": [
    "car3 = np.zeros([len(cip), 3, 3])"
   ]
  },
  {
   "cell_type": "code",
   "execution_count": 36,
   "metadata": {},
   "outputs": [],
   "source": [
    "for i in range(len(cip)):\n",
    "    _, car3[i,:,:] = LA.eig(car2[i,:,:])"
   ]
  },
  {
   "cell_type": "code",
   "execution_count": 37,
   "metadata": {},
   "outputs": [
    {
     "data": {
      "text/plain": [
       "array([[ 0.62223975,  0.7771141 ,  0.09440003],\n",
       "       [ 0.2129065 , -0.05195336, -0.97569036],\n",
       "       [ 0.75331834, -0.6272117 ,  0.19778009]])"
      ]
     },
     "execution_count": 37,
     "metadata": {},
     "output_type": "execute_result"
    }
   ],
   "source": [
    "car3[0]"
   ]
  },
  {
   "cell_type": "code",
   "execution_count": 40,
   "metadata": {},
   "outputs": [],
   "source": [
    "df = pd.read_csv('C:/circles/finetune_test/csv/598frame.csv')"
   ]
  },
  {
   "cell_type": "code",
   "execution_count": 41,
   "metadata": {},
   "outputs": [
    {
     "data": {
      "text/html": [
       "<div>\n",
       "<style scoped>\n",
       "    .dataframe tbody tr th:only-of-type {\n",
       "        vertical-align: middle;\n",
       "    }\n",
       "\n",
       "    .dataframe tbody tr th {\n",
       "        vertical-align: top;\n",
       "    }\n",
       "\n",
       "    .dataframe thead th {\n",
       "        text-align: right;\n",
       "    }\n",
       "</style>\n",
       "<table border=\"1\" class=\"dataframe\">\n",
       "  <thead>\n",
       "    <tr style=\"text-align: right;\">\n",
       "      <th></th>\n",
       "      <th>index</th>\n",
       "      <th>file_name</th>\n",
       "      <th>zero_angle</th>\n",
       "      <th>x_cms</th>\n",
       "      <th>y_cms</th>\n",
       "      <th>z_cms</th>\n",
       "      <th>delta_x</th>\n",
       "      <th>delta_y</th>\n",
       "      <th>moment0</th>\n",
       "      <th>moment1</th>\n",
       "      <th>moment2</th>\n",
       "      <th>moment3</th>\n",
       "      <th>moment4</th>\n",
       "      <th>moment5</th>\n",
       "      <th>mom0</th>\n",
       "      <th>mom1</th>\n",
       "      <th>mom2</th>\n",
       "      <th>mom3</th>\n",
       "      <th>mom4</th>\n",
       "      <th>mom5</th>\n",
       "    </tr>\n",
       "  </thead>\n",
       "  <tbody>\n",
       "    <tr>\n",
       "      <th>0</th>\n",
       "      <td>0</td>\n",
       "      <td>598csv/1484717/1491988</td>\n",
       "      <td>8.0</td>\n",
       "      <td>129.831987</td>\n",
       "      <td>43.936533</td>\n",
       "      <td>154.317130</td>\n",
       "      <td>0.000000</td>\n",
       "      <td>0.000000</td>\n",
       "      <td>504089976.0</td>\n",
       "      <td>164563652.0</td>\n",
       "      <td>575078730.0</td>\n",
       "      <td>64724646.0</td>\n",
       "      <td>200929929.0</td>\n",
       "      <td>724817978.0</td>\n",
       "      <td>1.168243e+07</td>\n",
       "      <td>-2.072327e+06</td>\n",
       "      <td>-1.019244e+07</td>\n",
       "      <td>8.333248e+06</td>\n",
       "      <td>2.867905e+06</td>\n",
       "      <td>2.916994e+07</td>\n",
       "    </tr>\n",
       "    <tr>\n",
       "      <th>1</th>\n",
       "      <td>1</td>\n",
       "      <td>598csv/1484717/1491989</td>\n",
       "      <td>9.0</td>\n",
       "      <td>119.950786</td>\n",
       "      <td>48.513970</td>\n",
       "      <td>141.181489</td>\n",
       "      <td>0.040641</td>\n",
       "      <td>0.000000</td>\n",
       "      <td>428386811.0</td>\n",
       "      <td>167247653.0</td>\n",
       "      <td>479568284.0</td>\n",
       "      <td>74638238.0</td>\n",
       "      <td>199349082.0</td>\n",
       "      <td>609253694.0</td>\n",
       "      <td>1.177674e+07</td>\n",
       "      <td>-1.249855e+06</td>\n",
       "      <td>-1.077973e+07</td>\n",
       "      <td>6.489597e+06</td>\n",
       "      <td>1.028339e+06</td>\n",
       "      <td>3.211648e+07</td>\n",
       "    </tr>\n",
       "    <tr>\n",
       "      <th>2</th>\n",
       "      <td>2</td>\n",
       "      <td>598csv/1484717/1491990</td>\n",
       "      <td>8.0</td>\n",
       "      <td>123.014476</td>\n",
       "      <td>47.128630</td>\n",
       "      <td>155.613687</td>\n",
       "      <td>0.051783</td>\n",
       "      <td>0.516619</td>\n",
       "      <td>363275825.0</td>\n",
       "      <td>136293591.0</td>\n",
       "      <td>446703489.0</td>\n",
       "      <td>56699590.0</td>\n",
       "      <td>176090923.0</td>\n",
       "      <td>592715504.0</td>\n",
       "      <td>6.813210e+06</td>\n",
       "      <td>-2.724059e+05</td>\n",
       "      <td>-4.222803e+06</td>\n",
       "      <td>4.379176e+06</td>\n",
       "      <td>3.334522e+06</td>\n",
       "      <td>2.229237e+07</td>\n",
       "    </tr>\n",
       "    <tr>\n",
       "      <th>3</th>\n",
       "      <td>3</td>\n",
       "      <td>598csv/1484717/1491991</td>\n",
       "      <td>5.0</td>\n",
       "      <td>120.352368</td>\n",
       "      <td>42.278210</td>\n",
       "      <td>136.717018</td>\n",
       "      <td>0.032078</td>\n",
       "      <td>0.516619</td>\n",
       "      <td>381880431.0</td>\n",
       "      <td>128225058.0</td>\n",
       "      <td>412001326.0</td>\n",
       "      <td>50659849.0</td>\n",
       "      <td>151043672.0</td>\n",
       "      <td>500506132.0</td>\n",
       "      <td>1.155030e+07</td>\n",
       "      <td>-1.867066e+06</td>\n",
       "      <td>-8.683638e+06</td>\n",
       "      <td>4.960190e+06</td>\n",
       "      <td>3.262556e+06</td>\n",
       "      <td>2.261945e+07</td>\n",
       "    </tr>\n",
       "    <tr>\n",
       "      <th>4</th>\n",
       "      <td>4</td>\n",
       "      <td>598csv/1484717/1491992</td>\n",
       "      <td>11.0</td>\n",
       "      <td>120.963969</td>\n",
       "      <td>52.290549</td>\n",
       "      <td>139.462856</td>\n",
       "      <td>0.007131</td>\n",
       "      <td>0.688826</td>\n",
       "      <td>395257806.0</td>\n",
       "      <td>165420434.0</td>\n",
       "      <td>442680482.0</td>\n",
       "      <td>80723765.0</td>\n",
       "      <td>199558581.0</td>\n",
       "      <td>543286441.0</td>\n",
       "      <td>7.429177e+06</td>\n",
       "      <td>-2.230910e+06</td>\n",
       "      <td>-4.458354e+06</td>\n",
       "      <td>8.251103e+06</td>\n",
       "      <td>6.268502e+06</td>\n",
       "      <td>2.776715e+07</td>\n",
       "    </tr>\n",
       "    <tr>\n",
       "      <th>...</th>\n",
       "      <td>...</td>\n",
       "      <td>...</td>\n",
       "      <td>...</td>\n",
       "      <td>...</td>\n",
       "      <td>...</td>\n",
       "      <td>...</td>\n",
       "      <td>...</td>\n",
       "      <td>...</td>\n",
       "      <td>...</td>\n",
       "      <td>...</td>\n",
       "      <td>...</td>\n",
       "      <td>...</td>\n",
       "      <td>...</td>\n",
       "      <td>...</td>\n",
       "      <td>...</td>\n",
       "      <td>...</td>\n",
       "      <td>...</td>\n",
       "      <td>...</td>\n",
       "      <td>...</td>\n",
       "      <td>...</td>\n",
       "    </tr>\n",
       "    <tr>\n",
       "      <th>5278</th>\n",
       "      <td>5278</td>\n",
       "      <td>598csv/1484760/1500857</td>\n",
       "      <td>10.0</td>\n",
       "      <td>121.881008</td>\n",
       "      <td>24.875571</td>\n",
       "      <td>128.604963</td>\n",
       "      <td>-5.848818</td>\n",
       "      <td>0.516619</td>\n",
       "      <td>435057172.0</td>\n",
       "      <td>86812440.0</td>\n",
       "      <td>460315264.0</td>\n",
       "      <td>23001555.0</td>\n",
       "      <td>91717537.0</td>\n",
       "      <td>515400941.0</td>\n",
       "      <td>8.852938e+06</td>\n",
       "      <td>-1.746448e+05</td>\n",
       "      <td>1.059811e+07</td>\n",
       "      <td>5.247736e+06</td>\n",
       "      <td>-6.846828e+04</td>\n",
       "      <td>4.087370e+07</td>\n",
       "    </tr>\n",
       "    <tr>\n",
       "      <th>5279</th>\n",
       "      <td>5279</td>\n",
       "      <td>598csv/1484760/1500858</td>\n",
       "      <td>22.0</td>\n",
       "      <td>138.268651</td>\n",
       "      <td>47.324900</td>\n",
       "      <td>118.120206</td>\n",
       "      <td>-5.682811</td>\n",
       "      <td>0.516619</td>\n",
       "      <td>521235084.0</td>\n",
       "      <td>171184215.0</td>\n",
       "      <td>419739092.0</td>\n",
       "      <td>64739111.0</td>\n",
       "      <td>145262026.0</td>\n",
       "      <td>378174238.0</td>\n",
       "      <td>2.024213e+07</td>\n",
       "      <td>-2.895143e+05</td>\n",
       "      <td>-8.249394e+06</td>\n",
       "      <td>6.049184e+06</td>\n",
       "      <td>-1.224629e+06</td>\n",
       "      <td>1.255204e+07</td>\n",
       "    </tr>\n",
       "    <tr>\n",
       "      <th>5280</th>\n",
       "      <td>5280</td>\n",
       "      <td>598csv/1484760/1500859</td>\n",
       "      <td>21.0</td>\n",
       "      <td>140.535355</td>\n",
       "      <td>24.351695</td>\n",
       "      <td>137.298298</td>\n",
       "      <td>-5.663254</td>\n",
       "      <td>0.516619</td>\n",
       "      <td>620853856.0</td>\n",
       "      <td>102768458.0</td>\n",
       "      <td>568026943.0</td>\n",
       "      <td>23532224.0</td>\n",
       "      <td>101179273.0</td>\n",
       "      <td>588455777.0</td>\n",
       "      <td>2.424024e+07</td>\n",
       "      <td>-6.115976e+05</td>\n",
       "      <td>-1.484443e+07</td>\n",
       "      <td>5.618728e+06</td>\n",
       "      <td>1.804479e+05</td>\n",
       "      <td>1.901012e+07</td>\n",
       "    </tr>\n",
       "    <tr>\n",
       "      <th>5281</th>\n",
       "      <td>5281</td>\n",
       "      <td>598csv/1484760/1500860</td>\n",
       "      <td>21.0</td>\n",
       "      <td>132.135006</td>\n",
       "      <td>52.008363</td>\n",
       "      <td>115.020311</td>\n",
       "      <td>-5.555135</td>\n",
       "      <td>0.516619</td>\n",
       "      <td>661442177.0</td>\n",
       "      <td>249010683.0</td>\n",
       "      <td>530651160.0</td>\n",
       "      <td>110415531.0</td>\n",
       "      <td>211167589.0</td>\n",
       "      <td>500456320.0</td>\n",
       "      <td>3.305156e+07</td>\n",
       "      <td>1.676018e+06</td>\n",
       "      <td>-1.634760e+07</td>\n",
       "      <td>1.306456e+07</td>\n",
       "      <td>-4.131224e+06</td>\n",
       "      <td>2.430720e+07</td>\n",
       "    </tr>\n",
       "    <tr>\n",
       "      <th>5282</th>\n",
       "      <td>5282</td>\n",
       "      <td>598csv/1484760/1500861</td>\n",
       "      <td>22.0</td>\n",
       "      <td>151.002000</td>\n",
       "      <td>46.848014</td>\n",
       "      <td>127.560398</td>\n",
       "      <td>-5.669602</td>\n",
       "      <td>0.516619</td>\n",
       "      <td>790454950.0</td>\n",
       "      <td>237495209.0</td>\n",
       "      <td>627576473.0</td>\n",
       "      <td>83205379.0</td>\n",
       "      <td>199654983.0</td>\n",
       "      <td>572117512.0</td>\n",
       "      <td>2.653281e+07</td>\n",
       "      <td>4.901712e+05</td>\n",
       "      <td>-1.775413e+07</td>\n",
       "      <td>9.675126e+06</td>\n",
       "      <td>-5.573115e+05</td>\n",
       "      <td>2.696825e+07</td>\n",
       "    </tr>\n",
       "  </tbody>\n",
       "</table>\n",
       "<p>5283 rows × 20 columns</p>\n",
       "</div>"
      ],
      "text/plain": [
       "      index               file_name  zero_angle       x_cms      y_cms  \\\n",
       "0         0  598csv/1484717/1491988         8.0  129.831987  43.936533   \n",
       "1         1  598csv/1484717/1491989         9.0  119.950786  48.513970   \n",
       "2         2  598csv/1484717/1491990         8.0  123.014476  47.128630   \n",
       "3         3  598csv/1484717/1491991         5.0  120.352368  42.278210   \n",
       "4         4  598csv/1484717/1491992        11.0  120.963969  52.290549   \n",
       "...     ...                     ...         ...         ...        ...   \n",
       "5278   5278  598csv/1484760/1500857        10.0  121.881008  24.875571   \n",
       "5279   5279  598csv/1484760/1500858        22.0  138.268651  47.324900   \n",
       "5280   5280  598csv/1484760/1500859        21.0  140.535355  24.351695   \n",
       "5281   5281  598csv/1484760/1500860        21.0  132.135006  52.008363   \n",
       "5282   5282  598csv/1484760/1500861        22.0  151.002000  46.848014   \n",
       "\n",
       "           z_cms   delta_x   delta_y      moment0      moment1      moment2  \\\n",
       "0     154.317130  0.000000  0.000000  504089976.0  164563652.0  575078730.0   \n",
       "1     141.181489  0.040641  0.000000  428386811.0  167247653.0  479568284.0   \n",
       "2     155.613687  0.051783  0.516619  363275825.0  136293591.0  446703489.0   \n",
       "3     136.717018  0.032078  0.516619  381880431.0  128225058.0  412001326.0   \n",
       "4     139.462856  0.007131  0.688826  395257806.0  165420434.0  442680482.0   \n",
       "...          ...       ...       ...          ...          ...          ...   \n",
       "5278  128.604963 -5.848818  0.516619  435057172.0   86812440.0  460315264.0   \n",
       "5279  118.120206 -5.682811  0.516619  521235084.0  171184215.0  419739092.0   \n",
       "5280  137.298298 -5.663254  0.516619  620853856.0  102768458.0  568026943.0   \n",
       "5281  115.020311 -5.555135  0.516619  661442177.0  249010683.0  530651160.0   \n",
       "5282  127.560398 -5.669602  0.516619  790454950.0  237495209.0  627576473.0   \n",
       "\n",
       "          moment3      moment4      moment5          mom0          mom1  \\\n",
       "0      64724646.0  200929929.0  724817978.0  1.168243e+07 -2.072327e+06   \n",
       "1      74638238.0  199349082.0  609253694.0  1.177674e+07 -1.249855e+06   \n",
       "2      56699590.0  176090923.0  592715504.0  6.813210e+06 -2.724059e+05   \n",
       "3      50659849.0  151043672.0  500506132.0  1.155030e+07 -1.867066e+06   \n",
       "4      80723765.0  199558581.0  543286441.0  7.429177e+06 -2.230910e+06   \n",
       "...           ...          ...          ...           ...           ...   \n",
       "5278   23001555.0   91717537.0  515400941.0  8.852938e+06 -1.746448e+05   \n",
       "5279   64739111.0  145262026.0  378174238.0  2.024213e+07 -2.895143e+05   \n",
       "5280   23532224.0  101179273.0  588455777.0  2.424024e+07 -6.115976e+05   \n",
       "5281  110415531.0  211167589.0  500456320.0  3.305156e+07  1.676018e+06   \n",
       "5282   83205379.0  199654983.0  572117512.0  2.653281e+07  4.901712e+05   \n",
       "\n",
       "              mom2          mom3          mom4          mom5  \n",
       "0    -1.019244e+07  8.333248e+06  2.867905e+06  2.916994e+07  \n",
       "1    -1.077973e+07  6.489597e+06  1.028339e+06  3.211648e+07  \n",
       "2    -4.222803e+06  4.379176e+06  3.334522e+06  2.229237e+07  \n",
       "3    -8.683638e+06  4.960190e+06  3.262556e+06  2.261945e+07  \n",
       "4    -4.458354e+06  8.251103e+06  6.268502e+06  2.776715e+07  \n",
       "...            ...           ...           ...           ...  \n",
       "5278  1.059811e+07  5.247736e+06 -6.846828e+04  4.087370e+07  \n",
       "5279 -8.249394e+06  6.049184e+06 -1.224629e+06  1.255204e+07  \n",
       "5280 -1.484443e+07  5.618728e+06  1.804479e+05  1.901012e+07  \n",
       "5281 -1.634760e+07  1.306456e+07 -4.131224e+06  2.430720e+07  \n",
       "5282 -1.775413e+07  9.675126e+06 -5.573115e+05  2.696825e+07  \n",
       "\n",
       "[5283 rows x 20 columns]"
      ]
     },
     "execution_count": 41,
     "metadata": {},
     "output_type": "execute_result"
    }
   ],
   "source": [
    "df"
   ]
  },
  {
   "cell_type": "code",
   "execution_count": 42,
   "metadata": {},
   "outputs": [
    {
     "name": "stdout",
     "output_type": "stream",
     "text": [
      "20\n"
     ]
    }
   ],
   "source": [
    "print(len(df.columns))"
   ]
  },
  {
   "cell_type": "code",
   "execution_count": 43,
   "metadata": {},
   "outputs": [
    {
     "data": {
      "text/plain": [
       "(5283, 3, 3)"
      ]
     },
     "execution_count": 43,
     "metadata": {},
     "output_type": "execute_result"
    }
   ],
   "source": [
    "car2.shape"
   ]
  },
  {
   "cell_type": "code",
   "execution_count": 44,
   "metadata": {},
   "outputs": [],
   "source": [
    "car3 = car2.reshape([len(cip),-1])"
   ]
  },
  {
   "cell_type": "code",
   "execution_count": 45,
   "metadata": {},
   "outputs": [
    {
     "data": {
      "text/plain": [
       "(5283, 9)"
      ]
     },
     "execution_count": 45,
     "metadata": {},
     "output_type": "execute_result"
    }
   ],
   "source": [
    "car3.shape"
   ]
  },
  {
   "cell_type": "code",
   "execution_count": 47,
   "metadata": {},
   "outputs": [
    {
     "data": {
      "text/plain": [
       "array([[ 0.41700143, -0.82275715,  0.38623888],\n",
       "       [-0.13249349, -0.47543578, -0.86971621],\n",
       "       [-0.89919702, -0.31149877,  0.30726737]])"
      ]
     },
     "execution_count": 47,
     "metadata": {},
     "output_type": "execute_result"
    }
   ],
   "source": [
    "car2[0]"
   ]
  },
  {
   "cell_type": "code",
   "execution_count": 46,
   "metadata": {},
   "outputs": [
    {
     "data": {
      "text/plain": [
       "array([ 0.41700143, -0.82275715,  0.38623888, -0.13249349, -0.47543578,\n",
       "       -0.86971621, -0.89919702, -0.31149877,  0.30726737])"
      ]
     },
     "execution_count": 46,
     "metadata": {},
     "output_type": "execute_result"
    }
   ],
   "source": [
    "car3[0]"
   ]
  },
  {
   "cell_type": "code",
   "execution_count": 49,
   "metadata": {},
   "outputs": [],
   "source": [
    "for i in range(9):\n",
    "    df.insert(20+i, \"ornt\"+str(i), car3[:,i])"
   ]
  },
  {
   "cell_type": "code",
   "execution_count": 50,
   "metadata": {},
   "outputs": [
    {
     "data": {
      "text/html": [
       "<div>\n",
       "<style scoped>\n",
       "    .dataframe tbody tr th:only-of-type {\n",
       "        vertical-align: middle;\n",
       "    }\n",
       "\n",
       "    .dataframe tbody tr th {\n",
       "        vertical-align: top;\n",
       "    }\n",
       "\n",
       "    .dataframe thead th {\n",
       "        text-align: right;\n",
       "    }\n",
       "</style>\n",
       "<table border=\"1\" class=\"dataframe\">\n",
       "  <thead>\n",
       "    <tr style=\"text-align: right;\">\n",
       "      <th></th>\n",
       "      <th>index</th>\n",
       "      <th>file_name</th>\n",
       "      <th>zero_angle</th>\n",
       "      <th>x_cms</th>\n",
       "      <th>y_cms</th>\n",
       "      <th>z_cms</th>\n",
       "      <th>delta_x</th>\n",
       "      <th>delta_y</th>\n",
       "      <th>moment0</th>\n",
       "      <th>moment1</th>\n",
       "      <th>...</th>\n",
       "      <th>mom5</th>\n",
       "      <th>ornt0</th>\n",
       "      <th>ornt1</th>\n",
       "      <th>ornt2</th>\n",
       "      <th>ornt3</th>\n",
       "      <th>ornt4</th>\n",
       "      <th>ornt5</th>\n",
       "      <th>ornt6</th>\n",
       "      <th>ornt7</th>\n",
       "      <th>ornt8</th>\n",
       "    </tr>\n",
       "  </thead>\n",
       "  <tbody>\n",
       "    <tr>\n",
       "      <th>0</th>\n",
       "      <td>0</td>\n",
       "      <td>598csv/1484717/1491988</td>\n",
       "      <td>8.0</td>\n",
       "      <td>129.831987</td>\n",
       "      <td>43.936533</td>\n",
       "      <td>154.317130</td>\n",
       "      <td>0.000000</td>\n",
       "      <td>0.000000</td>\n",
       "      <td>504089976.0</td>\n",
       "      <td>164563652.0</td>\n",
       "      <td>...</td>\n",
       "      <td>2.916994e+07</td>\n",
       "      <td>0.417001</td>\n",
       "      <td>-0.822757</td>\n",
       "      <td>0.386239</td>\n",
       "      <td>-0.132493</td>\n",
       "      <td>-0.475436</td>\n",
       "      <td>-0.869716</td>\n",
       "      <td>-0.899197</td>\n",
       "      <td>-0.311499</td>\n",
       "      <td>0.307267</td>\n",
       "    </tr>\n",
       "    <tr>\n",
       "      <th>1</th>\n",
       "      <td>1</td>\n",
       "      <td>598csv/1484717/1491989</td>\n",
       "      <td>9.0</td>\n",
       "      <td>119.950786</td>\n",
       "      <td>48.513970</td>\n",
       "      <td>141.181489</td>\n",
       "      <td>0.040641</td>\n",
       "      <td>0.000000</td>\n",
       "      <td>428386811.0</td>\n",
       "      <td>167247653.0</td>\n",
       "      <td>...</td>\n",
       "      <td>3.211648e+07</td>\n",
       "      <td>-0.396725</td>\n",
       "      <td>0.766132</td>\n",
       "      <td>-0.505620</td>\n",
       "      <td>0.047406</td>\n",
       "      <td>-0.532986</td>\n",
       "      <td>-0.844795</td>\n",
       "      <td>0.916712</td>\n",
       "      <td>0.359121</td>\n",
       "      <td>-0.175130</td>\n",
       "    </tr>\n",
       "    <tr>\n",
       "      <th>2</th>\n",
       "      <td>2</td>\n",
       "      <td>598csv/1484717/1491990</td>\n",
       "      <td>8.0</td>\n",
       "      <td>123.014476</td>\n",
       "      <td>47.128630</td>\n",
       "      <td>155.613687</td>\n",
       "      <td>0.051783</td>\n",
       "      <td>0.516619</td>\n",
       "      <td>363275825.0</td>\n",
       "      <td>136293591.0</td>\n",
       "      <td>...</td>\n",
       "      <td>2.229237e+07</td>\n",
       "      <td>0.238723</td>\n",
       "      <td>-0.947801</td>\n",
       "      <td>0.211387</td>\n",
       "      <td>-0.166528</td>\n",
       "      <td>-0.254412</td>\n",
       "      <td>-0.952650</td>\n",
       "      <td>-0.956703</td>\n",
       "      <td>-0.192217</td>\n",
       "      <td>0.218569</td>\n",
       "    </tr>\n",
       "    <tr>\n",
       "      <th>3</th>\n",
       "      <td>3</td>\n",
       "      <td>598csv/1484717/1491991</td>\n",
       "      <td>5.0</td>\n",
       "      <td>120.352368</td>\n",
       "      <td>42.278210</td>\n",
       "      <td>136.717018</td>\n",
       "      <td>0.032078</td>\n",
       "      <td>0.516619</td>\n",
       "      <td>381880431.0</td>\n",
       "      <td>128225058.0</td>\n",
       "      <td>...</td>\n",
       "      <td>2.261945e+07</td>\n",
       "      <td>0.475076</td>\n",
       "      <td>-0.874071</td>\n",
       "      <td>-0.101501</td>\n",
       "      <td>-0.161030</td>\n",
       "      <td>0.027042</td>\n",
       "      <td>-0.986579</td>\n",
       "      <td>-0.865085</td>\n",
       "      <td>-0.485045</td>\n",
       "      <td>0.127905</td>\n",
       "    </tr>\n",
       "    <tr>\n",
       "      <th>4</th>\n",
       "      <td>4</td>\n",
       "      <td>598csv/1484717/1491992</td>\n",
       "      <td>11.0</td>\n",
       "      <td>120.963969</td>\n",
       "      <td>52.290549</td>\n",
       "      <td>139.462856</td>\n",
       "      <td>0.007131</td>\n",
       "      <td>0.688826</td>\n",
       "      <td>395257806.0</td>\n",
       "      <td>165420434.0</td>\n",
       "      <td>...</td>\n",
       "      <td>2.776715e+07</td>\n",
       "      <td>-0.207030</td>\n",
       "      <td>0.696365</td>\n",
       "      <td>0.687178</td>\n",
       "      <td>0.282786</td>\n",
       "      <td>0.715009</td>\n",
       "      <td>-0.639371</td>\n",
       "      <td>0.936574</td>\n",
       "      <td>-0.061955</td>\n",
       "      <td>0.344950</td>\n",
       "    </tr>\n",
       "    <tr>\n",
       "      <th>...</th>\n",
       "      <td>...</td>\n",
       "      <td>...</td>\n",
       "      <td>...</td>\n",
       "      <td>...</td>\n",
       "      <td>...</td>\n",
       "      <td>...</td>\n",
       "      <td>...</td>\n",
       "      <td>...</td>\n",
       "      <td>...</td>\n",
       "      <td>...</td>\n",
       "      <td>...</td>\n",
       "      <td>...</td>\n",
       "      <td>...</td>\n",
       "      <td>...</td>\n",
       "      <td>...</td>\n",
       "      <td>...</td>\n",
       "      <td>...</td>\n",
       "      <td>...</td>\n",
       "      <td>...</td>\n",
       "      <td>...</td>\n",
       "      <td>...</td>\n",
       "    </tr>\n",
       "    <tr>\n",
       "      <th>5278</th>\n",
       "      <td>5278</td>\n",
       "      <td>598csv/1484760/1500857</td>\n",
       "      <td>10.0</td>\n",
       "      <td>121.881008</td>\n",
       "      <td>24.875571</td>\n",
       "      <td>128.604963</td>\n",
       "      <td>-5.848818</td>\n",
       "      <td>0.516619</td>\n",
       "      <td>435057172.0</td>\n",
       "      <td>86812440.0</td>\n",
       "      <td>...</td>\n",
       "      <td>4.087370e+07</td>\n",
       "      <td>0.288228</td>\n",
       "      <td>-0.912054</td>\n",
       "      <td>0.291687</td>\n",
       "      <td>-0.002986</td>\n",
       "      <td>0.303757</td>\n",
       "      <td>0.952745</td>\n",
       "      <td>0.957557</td>\n",
       "      <td>0.275479</td>\n",
       "      <td>-0.084828</td>\n",
       "    </tr>\n",
       "    <tr>\n",
       "      <th>5279</th>\n",
       "      <td>5279</td>\n",
       "      <td>598csv/1484760/1500858</td>\n",
       "      <td>22.0</td>\n",
       "      <td>138.268651</td>\n",
       "      <td>47.324900</td>\n",
       "      <td>118.120206</td>\n",
       "      <td>-5.682811</td>\n",
       "      <td>0.516619</td>\n",
       "      <td>521235084.0</td>\n",
       "      <td>171184215.0</td>\n",
       "      <td>...</td>\n",
       "      <td>1.255204e+07</td>\n",
       "      <td>-0.842404</td>\n",
       "      <td>0.470543</td>\n",
       "      <td>-0.262574</td>\n",
       "      <td>-0.021352</td>\n",
       "      <td>-0.516056</td>\n",
       "      <td>-0.856289</td>\n",
       "      <td>0.538423</td>\n",
       "      <td>0.715735</td>\n",
       "      <td>-0.444775</td>\n",
       "    </tr>\n",
       "    <tr>\n",
       "      <th>5280</th>\n",
       "      <td>5280</td>\n",
       "      <td>598csv/1484760/1500859</td>\n",
       "      <td>21.0</td>\n",
       "      <td>140.535355</td>\n",
       "      <td>24.351695</td>\n",
       "      <td>137.298298</td>\n",
       "      <td>-5.663254</td>\n",
       "      <td>0.516619</td>\n",
       "      <td>620853856.0</td>\n",
       "      <td>102768458.0</td>\n",
       "      <td>...</td>\n",
       "      <td>1.901012e+07</td>\n",
       "      <td>0.765961</td>\n",
       "      <td>-0.619616</td>\n",
       "      <td>-0.171406</td>\n",
       "      <td>-0.018797</td>\n",
       "      <td>0.244920</td>\n",
       "      <td>-0.969361</td>\n",
       "      <td>-0.642613</td>\n",
       "      <td>-0.745714</td>\n",
       "      <td>-0.175952</td>\n",
       "    </tr>\n",
       "    <tr>\n",
       "      <th>5281</th>\n",
       "      <td>5281</td>\n",
       "      <td>598csv/1484760/1500860</td>\n",
       "      <td>21.0</td>\n",
       "      <td>132.135006</td>\n",
       "      <td>52.008363</td>\n",
       "      <td>115.020311</td>\n",
       "      <td>-5.555135</td>\n",
       "      <td>0.516619</td>\n",
       "      <td>661442177.0</td>\n",
       "      <td>249010683.0</td>\n",
       "      <td>...</td>\n",
       "      <td>2.430720e+07</td>\n",
       "      <td>-0.783147</td>\n",
       "      <td>-0.462793</td>\n",
       "      <td>0.415335</td>\n",
       "      <td>-0.116293</td>\n",
       "      <td>0.765135</td>\n",
       "      <td>0.633281</td>\n",
       "      <td>0.610865</td>\n",
       "      <td>-0.447652</td>\n",
       "      <td>0.653033</td>\n",
       "    </tr>\n",
       "    <tr>\n",
       "      <th>5282</th>\n",
       "      <td>5282</td>\n",
       "      <td>598csv/1484760/1500861</td>\n",
       "      <td>22.0</td>\n",
       "      <td>151.002000</td>\n",
       "      <td>46.848014</td>\n",
       "      <td>127.560398</td>\n",
       "      <td>-5.669602</td>\n",
       "      <td>0.516619</td>\n",
       "      <td>790454950.0</td>\n",
       "      <td>237495209.0</td>\n",
       "      <td>...</td>\n",
       "      <td>2.696825e+07</td>\n",
       "      <td>0.702581</td>\n",
       "      <td>0.709019</td>\n",
       "      <td>-0.060594</td>\n",
       "      <td>0.021259</td>\n",
       "      <td>0.064200</td>\n",
       "      <td>0.997711</td>\n",
       "      <td>-0.711286</td>\n",
       "      <td>0.702261</td>\n",
       "      <td>-0.030033</td>\n",
       "    </tr>\n",
       "  </tbody>\n",
       "</table>\n",
       "<p>5283 rows × 29 columns</p>\n",
       "</div>"
      ],
      "text/plain": [
       "      index               file_name  zero_angle       x_cms      y_cms  \\\n",
       "0         0  598csv/1484717/1491988         8.0  129.831987  43.936533   \n",
       "1         1  598csv/1484717/1491989         9.0  119.950786  48.513970   \n",
       "2         2  598csv/1484717/1491990         8.0  123.014476  47.128630   \n",
       "3         3  598csv/1484717/1491991         5.0  120.352368  42.278210   \n",
       "4         4  598csv/1484717/1491992        11.0  120.963969  52.290549   \n",
       "...     ...                     ...         ...         ...        ...   \n",
       "5278   5278  598csv/1484760/1500857        10.0  121.881008  24.875571   \n",
       "5279   5279  598csv/1484760/1500858        22.0  138.268651  47.324900   \n",
       "5280   5280  598csv/1484760/1500859        21.0  140.535355  24.351695   \n",
       "5281   5281  598csv/1484760/1500860        21.0  132.135006  52.008363   \n",
       "5282   5282  598csv/1484760/1500861        22.0  151.002000  46.848014   \n",
       "\n",
       "           z_cms   delta_x   delta_y      moment0      moment1  ...  \\\n",
       "0     154.317130  0.000000  0.000000  504089976.0  164563652.0  ...   \n",
       "1     141.181489  0.040641  0.000000  428386811.0  167247653.0  ...   \n",
       "2     155.613687  0.051783  0.516619  363275825.0  136293591.0  ...   \n",
       "3     136.717018  0.032078  0.516619  381880431.0  128225058.0  ...   \n",
       "4     139.462856  0.007131  0.688826  395257806.0  165420434.0  ...   \n",
       "...          ...       ...       ...          ...          ...  ...   \n",
       "5278  128.604963 -5.848818  0.516619  435057172.0   86812440.0  ...   \n",
       "5279  118.120206 -5.682811  0.516619  521235084.0  171184215.0  ...   \n",
       "5280  137.298298 -5.663254  0.516619  620853856.0  102768458.0  ...   \n",
       "5281  115.020311 -5.555135  0.516619  661442177.0  249010683.0  ...   \n",
       "5282  127.560398 -5.669602  0.516619  790454950.0  237495209.0  ...   \n",
       "\n",
       "              mom5     ornt0     ornt1     ornt2     ornt3     ornt4  \\\n",
       "0     2.916994e+07  0.417001 -0.822757  0.386239 -0.132493 -0.475436   \n",
       "1     3.211648e+07 -0.396725  0.766132 -0.505620  0.047406 -0.532986   \n",
       "2     2.229237e+07  0.238723 -0.947801  0.211387 -0.166528 -0.254412   \n",
       "3     2.261945e+07  0.475076 -0.874071 -0.101501 -0.161030  0.027042   \n",
       "4     2.776715e+07 -0.207030  0.696365  0.687178  0.282786  0.715009   \n",
       "...            ...       ...       ...       ...       ...       ...   \n",
       "5278  4.087370e+07  0.288228 -0.912054  0.291687 -0.002986  0.303757   \n",
       "5279  1.255204e+07 -0.842404  0.470543 -0.262574 -0.021352 -0.516056   \n",
       "5280  1.901012e+07  0.765961 -0.619616 -0.171406 -0.018797  0.244920   \n",
       "5281  2.430720e+07 -0.783147 -0.462793  0.415335 -0.116293  0.765135   \n",
       "5282  2.696825e+07  0.702581  0.709019 -0.060594  0.021259  0.064200   \n",
       "\n",
       "         ornt5     ornt6     ornt7     ornt8  \n",
       "0    -0.869716 -0.899197 -0.311499  0.307267  \n",
       "1    -0.844795  0.916712  0.359121 -0.175130  \n",
       "2    -0.952650 -0.956703 -0.192217  0.218569  \n",
       "3    -0.986579 -0.865085 -0.485045  0.127905  \n",
       "4    -0.639371  0.936574 -0.061955  0.344950  \n",
       "...        ...       ...       ...       ...  \n",
       "5278  0.952745  0.957557  0.275479 -0.084828  \n",
       "5279 -0.856289  0.538423  0.715735 -0.444775  \n",
       "5280 -0.969361 -0.642613 -0.745714 -0.175952  \n",
       "5281  0.633281  0.610865 -0.447652  0.653033  \n",
       "5282  0.997711 -0.711286  0.702261 -0.030033  \n",
       "\n",
       "[5283 rows x 29 columns]"
      ]
     },
     "execution_count": 50,
     "metadata": {},
     "output_type": "execute_result"
    }
   ],
   "source": [
    "df"
   ]
  },
  {
   "cell_type": "markdown",
   "metadata": {},
   "source": [
    "# Rotation matrix to Euler angles"
   ]
  },
  {
   "cell_type": "code",
   "execution_count": 55,
   "metadata": {},
   "outputs": [],
   "source": [
    "# Calculates Rotation Matrix given euler angles.\n",
    "def eulerAnglesToRotationMatrix(theta) :\n",
    "\n",
    "    R_x = np.array([[1,         0,                  0                   ],\n",
    "                    [0,         math.cos(theta[0]), -math.sin(theta[0]) ],\n",
    "                    [0,         math.sin(theta[0]), math.cos(theta[0])  ]\n",
    "                    ])\n",
    "\n",
    "    R_y = np.array([[math.cos(theta[1]),    0,      math.sin(theta[1])  ],\n",
    "                    [0,                     1,      0                   ],\n",
    "                    [-math.sin(theta[1]),   0,      math.cos(theta[1])  ]\n",
    "                    ])\n",
    "\n",
    "    R_z = np.array([[math.cos(theta[2]),    -math.sin(theta[2]),    0],\n",
    "                    [math.sin(theta[2]),    math.cos(theta[2]),     0],\n",
    "                    [0,                     0,                      1]\n",
    "                    ])\n",
    "\n",
    "    R = np.dot(R_z, np.dot( R_y, R_x ))\n",
    "\n",
    "    return R"
   ]
  },
  {
   "cell_type": "code",
   "execution_count": 51,
   "metadata": {},
   "outputs": [],
   "source": [
    "# Checks if a matrix is a valid rotation matrix.\n",
    "def isRotationMatrix(R) :\n",
    "    Rt = np.transpose(R)\n",
    "    shouldBeIdentity = np.dot(Rt, R)\n",
    "    I = np.identity(3, dtype = R.dtype)\n",
    "    n = np.linalg.norm(I - shouldBeIdentity)\n",
    "    return n < 1e-6\n",
    "\n",
    "# Calculates rotation matrix to euler angles\n",
    "# The result is the same as MATLAB except the order\n",
    "# of the euler angles ( x and z are swapped ).\n",
    "def rotationMatrixToEulerAngles(R) :\n",
    "\n",
    "    assert(isRotationMatrix(R))\n",
    "\n",
    "    sy = math.sqrt(R[0,0] * R[0,0] +  R[1,0] * R[1,0])\n",
    "\n",
    "    singular = sy < 1e-6\n",
    "\n",
    "    if  not singular :\n",
    "        x = math.atan2(R[2,1] , R[2,2])\n",
    "        y = math.atan2(-R[2,0], sy)\n",
    "        z = math.atan2(R[1,0], R[0,0])\n",
    "    else :\n",
    "        x = math.atan2(-R[1,2], R[1,1])\n",
    "        y = math.atan2(-R[2,0], sy)\n",
    "        z = 0\n",
    "\n",
    "    return np.array([x, y, z])"
   ]
  },
  {
   "cell_type": "code",
   "execution_count": 57,
   "metadata": {},
   "outputs": [
    {
     "data": {
      "text/plain": [
       "array([[ 0.41700143, -0.82275715,  0.38623888],\n",
       "       [-0.13249349, -0.47543578, -0.86971621],\n",
       "       [-0.89919702, -0.31149877,  0.30726737]])"
      ]
     },
     "execution_count": 57,
     "metadata": {},
     "output_type": "execute_result"
    }
   ],
   "source": [
    "car2[0]"
   ]
  },
  {
   "cell_type": "code",
   "execution_count": 56,
   "metadata": {},
   "outputs": [
    {
     "data": {
      "text/plain": [
       "array([[ 0.41700143, -0.397455  ,  0.8173979 ],\n",
       "       [-0.13249349,  0.86313269,  0.48728579],\n",
       "       [-0.89919702, -0.31149877,  0.30726737]])"
      ]
     },
     "execution_count": 56,
     "metadata": {},
     "output_type": "execute_result"
    }
   ],
   "source": [
    "eulerAnglesToRotationMatrix(rotationMatrixToEulerAngles(car2[0]))"
   ]
  },
  {
   "cell_type": "code",
   "execution_count": 59,
   "metadata": {},
   "outputs": [],
   "source": [
    "def rot2eul(R):\n",
    "    beta = -np.arcsin(R[2,0])\n",
    "    alpha = np.arctan2(R[2,1]/np.cos(beta),R[2,2]/np.cos(beta))\n",
    "    gamma = np.arctan2(R[1,0]/np.cos(beta),R[0,0]/np.cos(beta))\n",
    "    return np.array((alpha, beta, gamma))\n",
    "\n",
    "def eul2rot(theta) :\n",
    "\n",
    "    R = np.array([[np.cos(theta[1])*np.cos(theta[2]),       np.sin(theta[0])*np.sin(theta[1])*np.cos(theta[2]) - np.sin(theta[2])*np.cos(theta[0]),      np.sin(theta[1])*np.cos(theta[0])*np.cos(theta[2]) + np.sin(theta[0])*np.sin(theta[2])],\n",
    "                  [np.sin(theta[2])*np.cos(theta[1]),       np.sin(theta[0])*np.sin(theta[1])*np.sin(theta[2]) + np.cos(theta[0])*np.cos(theta[2]),      np.sin(theta[1])*np.sin(theta[2])*np.cos(theta[0]) - np.sin(theta[0])*np.cos(theta[2])],\n",
    "                  [-np.sin(theta[1]),                        np.sin(theta[0])*np.cos(theta[1]),                                                           np.cos(theta[0])*np.cos(theta[1])]])\n",
    "\n",
    "    return R"
   ]
  },
  {
   "cell_type": "code",
   "execution_count": null,
   "metadata": {},
   "outputs": [],
   "source": []
  },
  {
   "cell_type": "code",
   "execution_count": 67,
   "metadata": {},
   "outputs": [
    {
     "data": {
      "text/plain": [
       "array([-0.79223651,  1.11793084, -0.30764163])"
      ]
     },
     "execution_count": 67,
     "metadata": {},
     "output_type": "execute_result"
    }
   ],
   "source": [
    "rotationMatrixToEulerAngles(car2[0])"
   ]
  },
  {
   "cell_type": "code",
   "execution_count": 60,
   "metadata": {},
   "outputs": [
    {
     "data": {
      "text/plain": [
       "array([-0.79223651,  1.11793084, -0.30764163])"
      ]
     },
     "execution_count": 60,
     "metadata": {},
     "output_type": "execute_result"
    }
   ],
   "source": [
    "rot2eul(car2[0])"
   ]
  },
  {
   "cell_type": "code",
   "execution_count": 68,
   "metadata": {},
   "outputs": [
    {
     "data": {
      "text/plain": [
       "array([[-0.41700143,  0.82275715, -0.38623888],\n",
       "       [ 0.13249349,  0.47543578,  0.86971621],\n",
       "       [ 0.89919702,  0.31149877, -0.30726737]])"
      ]
     },
     "execution_count": 68,
     "metadata": {},
     "output_type": "execute_result"
    }
   ],
   "source": [
    "eul2rot(rot2eul(-car2[0]))"
   ]
  },
  {
   "cell_type": "code",
   "execution_count": 63,
   "metadata": {},
   "outputs": [
    {
     "data": {
      "text/plain": [
       "array([[ 0.41700143, -0.82275715,  0.38623888],\n",
       "       [-0.13249349, -0.47543578, -0.86971621],\n",
       "       [-0.89919702, -0.31149877,  0.30726737]])"
      ]
     },
     "execution_count": 63,
     "metadata": {},
     "output_type": "execute_result"
    }
   ],
   "source": [
    "car2[0]"
   ]
  },
  {
   "cell_type": "code",
   "execution_count": null,
   "metadata": {},
   "outputs": [],
   "source": [
    "R = np.array([[ 0.9982552 , -0.03323557, -0.04880523],\n",
    "       [-0.03675031,  0.29723396, -0.95409716],\n",
    "       [-0.04621654, -0.95422606, -0.29549393]])\n",
    "\n",
    "ang = rot2eul(R)\n",
    "eul2rot(ang)\n",
    "\n",
    "import transforms3d.euler as eul\n",
    "ang = eul.mat2euler(R, axes='sxyz')\n",
    "eul.euler2mat(ang[0], ang[1], ang[2], axes='sxyz')"
   ]
  },
  {
   "cell_type": "code",
   "execution_count": 65,
   "metadata": {},
   "outputs": [
    {
     "data": {
      "text/plain": [
       "1.0"
      ]
     },
     "execution_count": 65,
     "metadata": {},
     "output_type": "execute_result"
    }
   ],
   "source": [
    "LA.det(-car2[0])"
   ]
  },
  {
   "cell_type": "code",
   "execution_count": 133,
   "metadata": {},
   "outputs": [],
   "source": [
    "np.set_printoptions(edgeitems=3, infstr='inf',\n",
    "linewidth=75, nanstr='nan', precision=8,\n",
    "suppress=False, threshold=1000, formatter=None)"
   ]
  },
  {
   "cell_type": "code",
   "execution_count": 134,
   "metadata": {},
   "outputs": [
    {
     "data": {
      "text/plain": [
       "array([[ 0.41700143, -0.82275715,  0.38623888],\n",
       "       [-0.13249349, -0.47543578, -0.86971621],\n",
       "       [-0.89919702, -0.31149877,  0.30726737]])"
      ]
     },
     "execution_count": 134,
     "metadata": {},
     "output_type": "execute_result"
    }
   ],
   "source": [
    "car2[0]"
   ]
  },
  {
   "cell_type": "code",
   "execution_count": 126,
   "metadata": {},
   "outputs": [],
   "source": [
    "pcd0 = np.asarray(open3d.io.read_point_cloud(cip[0]).points)"
   ]
  },
  {
   "cell_type": "code",
   "execution_count": 127,
   "metadata": {},
   "outputs": [],
   "source": [
    "pcd1= pcd0-np.mean(pcd0,axis=0)"
   ]
  },
  {
   "cell_type": "code",
   "execution_count": 128,
   "metadata": {},
   "outputs": [],
   "source": [
    "pcd2 = np.matmul(car2[0],pcd1.T).T"
   ]
  },
  {
   "cell_type": "code",
   "execution_count": 129,
   "metadata": {},
   "outputs": [],
   "source": [
    "pcd3 = np.matmul(pcd1, car2[0])"
   ]
  },
  {
   "cell_type": "code",
   "execution_count": 130,
   "metadata": {},
   "outputs": [],
   "source": [
    "pcd4 = np.matmul(car2[0].T,pcd1.T).T"
   ]
  },
  {
   "cell_type": "code",
   "execution_count": null,
   "metadata": {},
   "outputs": [],
   "source": [
    "LA.eig(pcd2)"
   ]
  },
  {
   "cell_type": "code",
   "execution_count": 70,
   "metadata": {},
   "outputs": [],
   "source": [
    "def viewpoints(pcd, lims = None):\n",
    "    colors = ['tab:blue', 'tab:orange', 'tab:green', 'tab:red', 'tab:purple',\n",
    "              'tab:brown', 'tab:pink', 'tab:gray', 'tab:olive', 'tab:cyan']\n",
    "    fig = plt.figure(figsize=(10,10))\n",
    "    ax = fig.add_subplot(projection='3d')\n",
    "    for i, p in enumerate(pcd):\n",
    "        if p.shape[0] < p.shape[1]:\n",
    "            p = p.T\n",
    "        ax.scatter(p[:,0], p[:,1], p[:,2], c=colors[i], s=5)\n",
    "    if lims is not None:\n",
    "        ax.set_xlim(lims[0], lims[1])\n",
    "        ax.set_ylim(lims[0], lims[1])\n",
    "        ax.set_zlim(lims[0], lims[1])\n",
    "    return fig, ax"
   ]
  },
  {
   "cell_type": "code",
   "execution_count": 79,
   "metadata": {},
   "outputs": [
    {
     "data": {
      "text/plain": [
       "(3, 29212)"
      ]
     },
     "execution_count": 79,
     "metadata": {},
     "output_type": "execute_result"
    }
   ],
   "source": [
    "pcd2.shape"
   ]
  },
  {
   "cell_type": "code",
   "execution_count": 131,
   "metadata": {},
   "outputs": [
    {
     "data": {
      "text/plain": [
       "(<Figure size 720x720 with 1 Axes>, <Axes3DSubplot:>)"
      ]
     },
     "execution_count": 131,
     "metadata": {},
     "output_type": "execute_result"
    },
    {
     "data": {
      "image/png": "[encoded data removed]",
      "text/plain": [
       "<Figure size 720x720 with 1 Axes>"
      ]
     },
     "metadata": {
      "needs_background": "light"
     },
     "output_type": "display_data"
    }
   ],
   "source": [
    "viewpoints([pcd1[::15,:], pcd3[::15,:]])"
   ]
  },
  {
   "cell_type": "code",
   "execution_count": 86,
   "metadata": {},
   "outputs": [
    {
     "data": {
      "text/plain": [
       "(array([34319243.07194853,  8240344.2733387 ,  6626028.48642577]),\n",
       " array([[ 0.06440468, -0.99530601, -0.07223566],\n",
       "        [-0.7897884 , -0.09508466,  0.60596468],\n",
       "        [ 0.60998879, -0.01802392,  0.79220503]]))"
      ]
     },
     "execution_count": 86,
     "metadata": {},
     "output_type": "execute_result"
    }
   ],
   "source": [
    "LA.eig(pose6tomat(moments(pcd2)))"
   ]
  },
  {
   "cell_type": "code",
   "execution_count": 87,
   "metadata": {},
   "outputs": [
    {
     "data": {
      "text/plain": [
       "(array([34319243.07194853,  8240344.2733387 ,  6626028.48642577]),\n",
       " array([[ 1.00000000e+00,  1.65166748e-16, -2.10187448e-17],\n",
       "        [ 0.00000000e+00, -1.32238278e-14,  1.00000000e+00],\n",
       "        [ 0.00000000e+00,  1.00000000e+00,  1.43229558e-14]]))"
      ]
     },
     "execution_count": 87,
     "metadata": {},
     "output_type": "execute_result"
    }
   ],
   "source": [
    "LA.eig(pose6tomat(moments(pcd3)))"
   ]
  },
  {
   "cell_type": "code",
   "execution_count": 91,
   "metadata": {},
   "outputs": [],
   "source": [
    "_, v = LA.eig(pose6tomat(moments(pcd3)))"
   ]
  },
  {
   "cell_type": "code",
   "execution_count": 92,
   "metadata": {},
   "outputs": [
    {
     "data": {
      "text/plain": [
       "-1.0"
      ]
     },
     "execution_count": 92,
     "metadata": {},
     "output_type": "execute_result"
    }
   ],
   "source": [
    "LA.det(v)"
   ]
  },
  {
   "cell_type": "code",
   "execution_count": 96,
   "metadata": {},
   "outputs": [
    {
     "data": {
      "text/plain": [
       "'C:/cherepashkin1/phenoseed/598\\\\1484717\\\\1491988_Surface.ply'"
      ]
     },
     "execution_count": 96,
     "metadata": {},
     "output_type": "execute_result"
    }
   ],
   "source": [
    "cip[0]"
   ]
  },
  {
   "cell_type": "code",
   "execution_count": 95,
   "metadata": {},
   "outputs": [
    {
     "data": {
      "text/plain": [
       "array([[ 0.41700143, -0.82275715,  0.38623888],\n",
       "       [-0.13249349, -0.47543578, -0.86971621],\n",
       "       [-0.89919702, -0.31149877,  0.30726737]])"
      ]
     },
     "execution_count": 95,
     "metadata": {},
     "output_type": "execute_result"
    }
   ],
   "source": [
    "car2[0]"
   ]
  },
  {
   "cell_type": "code",
   "execution_count": null,
   "metadata": {},
   "outputs": [],
   "source": []
  },
  {
   "cell_type": "code",
   "execution_count": 157,
   "metadata": {},
   "outputs": [
    {
     "name": "stdout",
     "output_type": "stream",
     "text": [
      "[34319243.0719485   6626028.48642578  8240344.27333869]\n",
      "[[ 0.41700143 -0.82275715  0.38623888]\n",
      " [-0.13249349 -0.47543578 -0.86971621]\n",
      " [-0.89919702 -0.31149877  0.30726737]]\n",
      "[1 2 0]\n",
      "v [[-0.13249349 -0.47543578 -0.86971621]\n",
      " [-0.89919702 -0.31149877  0.30726737]\n",
      " [ 0.41700143 -0.82275715  0.38623888]]\n",
      "v1 [[-0.31107867  0.85900302  0.40662497]\n",
      " [ 0.58283494 -0.16552267  0.79555369]\n",
      " [-0.75068868 -0.48447502  0.4491664 ]]\n"
     ]
    }
   ],
   "source": [
    "for i in range(1):\n",
    "    pcd0 = np.asarray(open3d.io.read_point_cloud(cip[i]).points)\n",
    "    pcd1= pcd0-np.mean(pcd0,axis=0)\n",
    "    w, v = LA.eig(pose6tomat(moments(pcd1))) \n",
    "    print(w)\n",
    "    print(v)\n",
    "    print(np.argsort(w))\n",
    "    print('v', v[np.argsort(w)])\n",
    "#     print()\n",
    "    v0 = v[np.argsort(w)]\n",
    "    pcd3 = np.matmul(pcd1, v0)\n",
    "\n",
    "    w1, v1 = LA.eig(pose6tomat(moments(pcd3)))\n",
    "    print('v1', v1)\n",
    "#     pcd4 = np.matmul(pcd3, v1)\n",
    "#     w2, v2 = LA.eig(pose6tomat(moments(pcd4)))  \n",
    "#     pcd5 = np.matmul(pcd4, v2)\n",
    "#     w3, v3 = LA.eig(pose6tomat(moments(pcd5)))        \n",
    "#     with np.printoptions(precision=0, suppress=True):\n",
    "#         print(w,'\\n',v)\n",
    "#         print(np.array(pose6tomat(moments(pcd3))))        \n",
    "#         print(LA.det(v))\n",
    "\n",
    "#         print('v1', v1)\n",
    "#         print(LA.det(v1))\n",
    "#         print('v3')\n",
    "#         print(v3)\n",
    "#         print(LA.det(v3))"
   ]
  },
  {
   "cell_type": "code",
   "execution_count": null,
   "metadata": {},
   "outputs": [],
   "source": []
  },
  {
   "cell_type": "code",
   "execution_count": 99,
   "metadata": {},
   "outputs": [
    {
     "name": "stdout",
     "output_type": "stream",
     "text": [
      "[[ 11682431.39148296  -2072327.49637135 -10192441.5262221 ]\n",
      " [ -2072327.49637135   8333248.33205532   2867904.95892099]\n",
      " [-10192441.5262221    2867904.95892099  29169936.10817471]]\n"
     ]
    }
   ],
   "source": [
    "# cip = namelist('C:/cherepashkin1/phenoseed/598','Surface.ply')\n",
    "# car2 = np.zeros([len(cip), 3, 3])\n",
    "car = np.zeros(6)\n",
    "for i in range(1):\n",
    "# for i in range(len(cip)):\n",
    "    pcd = np.asarray(open3d.io.read_point_cloud(cip[i]).points)\n",
    "    pcd = pcd - np.mean(pcd,axis=0)\n",
    "    # image = np.asarray(open3d.io.read_point_cloud('C:/cherepashkin1/phenoseed/598/1484717/1491988_Surface.ply').points)\n",
    "    X = pcd[:, 0]\n",
    "    Y = pcd[:, 1]\n",
    "    Z = pcd[:, 2]\n",
    "    car = np.array([np.matmul(X, X.T), np.matmul(X, Y.T), np.matmul(X, Z.T),\n",
    "            np.matmul(Y, Y.T), np.matmul(Y, Z.T), np.matmul(Z, Z.T)])\n",
    "#     with \n",
    "#     print(np.array(pose6tomat(car)))\n",
    "    _, car2[i,:,:] = LA.eig(pose6tomat(car))\n",
    "# for i in range(len(cip)):\n",
    "    "
   ]
  },
  {
   "cell_type": "code",
   "execution_count": 103,
   "metadata": {},
   "outputs": [
    {
     "data": {
      "text/plain": [
       "1682431.0"
      ]
     },
     "execution_count": 103,
     "metadata": {},
     "output_type": "execute_result"
    }
   ],
   "source": [
    "11682431-1e7"
   ]
  },
  {
   "cell_type": "code",
   "execution_count": 104,
   "metadata": {},
   "outputs": [
    {
     "data": {
      "text/plain": [
       "(array([34319243.0719485 ,  6626028.48642578,  8240344.27333869]),\n",
       " array([[ 0.41700143, -0.82275715,  0.38623888],\n",
       "        [-0.13249349, -0.47543578, -0.86971621],\n",
       "        [-0.89919702, -0.31149877,  0.30726737]]))"
      ]
     },
     "execution_count": 104,
     "metadata": {},
     "output_type": "execute_result"
    }
   ],
   "source": [
    "LA.eig(np.array(pose6tomat(car)))"
   ]
  },
  {
   "cell_type": "code",
   "execution_count": 110,
   "metadata": {},
   "outputs": [],
   "source": [
    "v, w = LA.eig(np.array(pose6tomat(car)))"
   ]
  },
  {
   "cell_type": "code",
   "execution_count": 112,
   "metadata": {},
   "outputs": [
    {
     "data": {
      "text/plain": [
       "-1.0"
      ]
     },
     "execution_count": 112,
     "metadata": {},
     "output_type": "execute_result"
    }
   ],
   "source": [
    "LA.det(w)"
   ]
  },
  {
   "cell_type": "code",
   "execution_count": 108,
   "metadata": {},
   "outputs": [],
   "source": [
    "from scipy import linalg"
   ]
  },
  {
   "cell_type": "code",
   "execution_count": 109,
   "metadata": {},
   "outputs": [
    {
     "data": {
      "text/plain": [
       "(array([34319243.0719485 +0.j,  6626028.48642578+0.j,\n",
       "         8240344.27333869+0.j]),\n",
       " array([[ 0.41700143, -0.82275715,  0.38623888],\n",
       "        [-0.13249349, -0.47543578, -0.86971621],\n",
       "        [-0.89919702, -0.31149877,  0.30726737]]))"
      ]
     },
     "execution_count": 109,
     "metadata": {},
     "output_type": "execute_result"
    }
   ],
   "source": [
    "linalg.eig(np.array(pose6tomat(car)))"
   ]
  },
  {
   "cell_type": "code",
   "execution_count": null,
   "metadata": {},
   "outputs": [],
   "source": []
  },
  {
   "cell_type": "code",
   "execution_count": 162,
   "metadata": {},
   "outputs": [
    {
     "name": "stdout",
     "output_type": "stream",
     "text": [
      "[[ 1.  0. -0.]\n",
      " [ 0. -0.  1.]\n",
      " [ 0.  1.  0.]]\n",
      "[[34319243.        0.       -0.]\n",
      " [       0.  8240344.        0.]\n",
      " [      -0.        0.  6626028.]]\n"
     ]
    }
   ],
   "source": [
    "for i in range(1):\n",
    "    pcd0 = np.asarray(open3d.io.read_point_cloud(cip[i]).points)\n",
    "    pcd1= pcd0-np.mean(pcd0,axis=0)\n",
    "    w1, v1 = LA.eig(pose6tomat(moments(pcd1))) \n",
    "    pcd2 = np.matmul(pcd1, v1)\n",
    "    w2, v2 = LA.eig(pose6tomat(moments(pcd2)))\n",
    "    with np.printoptions(precision=0, suppress=True):\n",
    "        print(v2)\n",
    "    pcd3 = np.matmul(pcd2, v2)\n",
    "#     w3, v3 = LA.eig(pose6tomat(moments(pcd3)))\n",
    "    with np.printoptions(precision=0, suppress=True):\n",
    "        print(np.array(pose6tomat(moments(pcd3))))\n",
    "\n",
    "#     print(w)\n",
    "#     print(v)\n",
    "#     print(np.argsort(w))\n",
    "#     print('v', v[np.argsort(w)])\n",
    "#     print()\n",
    "#     v0 = v[np.argsort(w)]\n",
    "\n",
    "#     w1, v1 = LA.eig(pose6tomat(moments(pcd3)))\n",
    "#     print('v1', v1)\n",
    "#     pcd4 = np.matmul(pcd3, v1)\n",
    "#     w2, v2 = LA.eig(pose6tomat(moments(pcd4)))  \n",
    "#     pcd5 = np.matmul(pcd4, v2)\n",
    "#     w3, v3 = LA.eig(pose6tomat(moments(pcd5)))        \n",
    "#     with np.printoptions(precision=0, suppress=True):\n",
    "#         print(w,'\\n',v)\n",
    "#         print(np.array(pose6tomat(moments(pcd3))))        \n",
    "#         print(LA.det(v))\n",
    "\n",
    "#         print('v1', v1)\n",
    "#         print(LA.det(v1))\n",
    "#         print('v3')\n",
    "#         print(v3)\n",
    "#         print(LA.det(v3))"
   ]
  },
  {
   "cell_type": "code",
   "execution_count": 168,
   "metadata": {},
   "outputs": [
    {
     "data": {
      "text/plain": [
       "0.0"
      ]
     },
     "execution_count": 168,
     "metadata": {},
     "output_type": "execute_result"
    }
   ],
   "source": [
    "np.sum(v-np.eye(3))"
   ]
  },
  {
   "cell_type": "code",
   "execution_count": 169,
   "metadata": {},
   "outputs": [
    {
     "data": {
      "text/plain": [
       "array([[1., 0., 0.],\n",
       "       [0., 1., 0.],\n",
       "       [0., 0., 1.]])"
      ]
     },
     "execution_count": 169,
     "metadata": {},
     "output_type": "execute_result"
    }
   ],
   "source": [
    "np.eye(3)"
   ]
  },
  {
   "cell_type": "code",
   "execution_count": 167,
   "metadata": {},
   "outputs": [
    {
     "data": {
      "text/plain": [
       "array([[ 1.00000000e+00,  8.40749791e-18,  8.92793233e-18],\n",
       "       [ 0.00000000e+00,  7.35736558e-16,  1.00000000e+00],\n",
       "       [ 0.00000000e+00,  1.00000000e+00, -8.55849540e-16]])"
      ]
     },
     "execution_count": 167,
     "metadata": {},
     "output_type": "execute_result"
    }
   ],
   "source": [
    "v"
   ]
  },
  {
   "cell_type": "code",
   "execution_count": 170,
   "metadata": {},
   "outputs": [
    {
     "data": {
      "text/plain": [
       "array([[ 0.00000000e+00,  8.40749791e-18,  8.92793233e-18],\n",
       "       [ 0.00000000e+00, -1.00000000e+00,  1.00000000e+00],\n",
       "       [ 0.00000000e+00,  1.00000000e+00, -1.00000000e+00]])"
      ]
     },
     "execution_count": 170,
     "metadata": {},
     "output_type": "execute_result"
    }
   ],
   "source": [
    "v-np.eye(3)"
   ]
  },
  {
   "cell_type": "code",
   "execution_count": 186,
   "metadata": {},
   "outputs": [],
   "source": [
    "v = np.ones(3)"
   ]
  },
  {
   "cell_type": "code",
   "execution_count": 187,
   "metadata": {},
   "outputs": [
    {
     "name": "stdout",
     "output_type": "stream",
     "text": [
      "v [[ 0. -1.  0.]\n",
      " [-0. -0. -1.]\n",
      " [-1. -0.  0.]]\n",
      "v [[ 1.  0. -0.]\n",
      " [ 0. -0.  1.]\n",
      " [ 0.  1.  0.]]\n",
      "v [[ 1.  0.  0.]\n",
      " [ 0. -1. -0.]\n",
      " [ 0. -0.  1.]]\n",
      "v [[ 1.  0. -0.]\n",
      " [ 0. -1. -0.]\n",
      " [ 0. -0.  1.]]\n",
      "v [[ 1. -0. -0.]\n",
      " [ 0.  1.  0.]\n",
      " [ 0.  0.  1.]]\n",
      "[[ 1.00000000e+00 -1.78558647e-17 -8.79136718e-33]\n",
      " [ 0.00000000e+00  1.00000000e+00  5.22828984e-16]\n",
      " [ 0.00000000e+00  0.00000000e+00  1.00000000e+00]]\n",
      "[34319243.07194854  8240344.2733387   6626028.48642577]\n",
      "matv [[ 0.41700143  0.38623888 -0.82275715]\n",
      " [-0.13249349 -0.86971621 -0.47543578]\n",
      " [-0.89919702  0.30726737 -0.31149877]]\n",
      "5.406848489764662e-16\n"
     ]
    }
   ],
   "source": [
    "#for i in range(1):\n",
    "pcd0 = np.asarray(open3d.io.read_point_cloud(cip[0]).points)\n",
    "pcd= pcd0-np.mean(pcd0,axis=0)\n",
    "# i = 0\n",
    "# while np.sum(np.abs(v-np.eye(3)))!=0:\n",
    "matv = np.eye(3)\n",
    "while np.sum(np.abs(v-np.eye(3))) > 1e-14:\n",
    "    w, v = LA.eig(pose6tomat(moments(pcd)))\n",
    "    with np.printoptions(precision=0, suppress=True):\n",
    "        print('v', v)\n",
    "    pcd = np.matmul(pcd, v)\n",
    "    matv = np.matmul(matv, v)\n",
    "print(v)\n",
    "print(w)\n",
    "print('matv', matv)\n",
    "#     if np.sum(np.abs(v-np.eye(3))) < 1e-14:\n",
    "#         break\n",
    "print(np.sum(np.abs(v-np.eye(3))))\n",
    "#     w2, v2 = LA.eig(pose6tomat(moments(pcd2)))\n",
    "#     with np.printoptions(precision=0, suppress=True):\n",
    "#         print(v2)\n",
    "#     pcd3 = np.matmul(pcd2, v2)\n",
    "# #     w3, v3 = LA.eig(pose6tomat(moments(pcd3)))\n",
    "#     with np.printoptions(precision=0, suppress=True):\n",
    "#         print(np.array(pose6tomat(moments(pcd3))))\n",
    "\n",
    "#     print(w)\n",
    "#     print(v)\n",
    "#     print(np.argsort(w))\n",
    "#     print('v', v[np.argsort(w)])\n",
    "#     print()\n",
    "#     v0 = v[np.argsort(w)]\n",
    "\n",
    "#     w1, v1 = LA.eig(pose6tomat(moments(pcd3)))\n",
    "#     print('v1', v1)\n",
    "#     pcd4 = np.matmul(pcd3, v1)\n",
    "#     w2, v2 = LA.eig(pose6tomat(moments(pcd4)))  \n",
    "#     pcd5 = np.matmul(pcd4, v2)\n",
    "#     w3, v3 = LA.eig(pose6tomat(moments(pcd5)))        \n",
    "#     with np.printoptions(precision=0, suppress=True):\n",
    "#         print(w,'\\n',v)\n",
    "#         print(np.array(pose6tomat(moments(pcd3))))        \n",
    "#         print(LA.det(v))\n",
    "\n",
    "#         print('v1', v1)\n",
    "#         print(LA.det(v1))\n",
    "#         print('v3')\n",
    "#         print(v3)\n",
    "#         print(LA.det(v3))"
   ]
  },
  {
   "cell_type": "code",
   "execution_count": null,
   "metadata": {},
   "outputs": [],
   "source": [
    "# for i in range(3):\n",
    "#     print(np.matmul((pose6tomat(moments(pcd))-w[i]*np.eye(3)),v[:,i]))"
   ]
  },
  {
   "cell_type": "code",
   "execution_count": 207,
   "metadata": {},
   "outputs": [
    {
     "name": "stdout",
     "output_type": "stream",
     "text": [
      "[[ 11682431.39148296  -2072327.49637135 -10192441.5262221 ]\n",
      " [ -2072327.49637135   8333248.33205532   2867904.95892099]\n",
      " [-10192441.5262221    2867904.95892099  29169936.10817471]]\n",
      "[34319243.0719485   6626028.48642578  8240344.27333869] \n",
      " [[ 0.41700143 -0.82275715  0.38623888]\n",
      " [-0.13249349 -0.47543578 -0.86971621]\n",
      " [-0.89919702 -0.31149877  0.30726737]]\n",
      "[[ 3.43192431e+07  6.98491931e-10 -4.19095159e-09]\n",
      " [ 6.98491931e-10  6.62602849e+06 -2.24390533e-08]\n",
      " [-4.19095159e-09 -2.24390533e-08  8.24034427e+06]]\n",
      "[34319243.07194854  8240344.2733387   6626028.48642577] \n",
      " [[ 1.00000000e+00  1.60702782e-16 -2.52224937e-17]\n",
      " [ 0.00000000e+00 -1.49393742e-14  1.00000000e+00]\n",
      " [ 0.00000000e+00  1.00000000e+00  1.51190813e-14]]\n",
      "M3 [[ 3.43192431e+07  2.21189111e-09 -9.31322575e-10]\n",
      " [ 2.21189111e-09  8.24034427e+06  3.07409209e-09]\n",
      " [-9.31322575e-10  3.07409209e-09  6.62602849e+06]]\n",
      "[34319243.07194854  8240344.2733387   6626028.48642577] \n",
      " [[ 1.00000000e+00  8.48153571e-17  3.36299916e-17]\n",
      " [ 0.00000000e+00 -1.00000000e+00 -1.77056688e-15]\n",
      " [ 0.00000000e+00 -1.41688847e-15  1.00000000e+00]]\n"
     ]
    }
   ],
   "source": [
    "pcd0 = np.asarray(open3d.io.read_point_cloud(cip[0]).points)\n",
    "pcd1= pcd0-np.mean(pcd0,axis=0)\n",
    "M1 = pose6tomat(moments(pcd1))\n",
    "print(M1)\n",
    "w1, v1 = LA.eig(M1)\n",
    "print(w1, '\\n', v1)\n",
    "# print(np.array(pose6tomat(moments(pcd))))\n",
    "\n",
    "# print(2-np.argsort(w))\n",
    "\n",
    "# pcd2 = np.matmul(pcd, v[:,2-np.argsort(w)])\n",
    "# w2, v2 = LA.eig(pose6tomat(moments(pcd2)))\n",
    "pcd2 = np.matmul(pcd1, v1)\n",
    "M2 = pose6tomat(moments(pcd2))\n",
    "print(M2)\n",
    "w2, v2 = LA.eig(M2)\n",
    "print(w2,'\\n',v2)\n",
    "\n",
    "pcd3 = np.matmul(pcd2, v2)\n",
    "M3 = pose6tomat(moments(pcd3))\n",
    "print('M3', M3)\n",
    "w3, v3 = LA.eig(M3)\n",
    "print(w3,'\\n',v3)"
   ]
  },
  {
   "cell_type": "markdown",
   "metadata": {},
   "source": [
    "# Sort eigenvalues "
   ]
  },
  {
   "cell_type": "code",
   "execution_count": 213,
   "metadata": {},
   "outputs": [
    {
     "name": "stdout",
     "output_type": "stream",
     "text": [
      "M1 [[ 11682431.39148296  -2072327.49637135 -10192441.5262221 ]\n",
      " [ -2072327.49637135   8333248.33205532   2867904.95892099]\n",
      " [-10192441.5262221    2867904.95892099  29169936.10817471]]\n",
      "[1 2 0]\n",
      "v1 [ 6626028.48642578  8240344.27333869 34319243.0719485 ] \n",
      " [[ 0.41700143 -0.82275715  0.38623888]\n",
      " [-0.13249349 -0.47543578 -0.86971621]\n",
      " [-0.89919702 -0.31149877  0.30726737]]\n",
      "M2 [[ 6.62602849e+06 -2.24426913e-08  5.82076609e-10]\n",
      " [-2.24426913e-08  8.24034427e+06 -4.30736691e-09]\n",
      " [ 5.82076609e-10 -4.30736691e-09  3.43192431e+07]]\n",
      "v2 [ 6626028.48642577  8240344.27333869 34319243.07194853] \n",
      " [[ 1.00000000e+00  1.39022931e-14  2.10187448e-17]\n",
      " [ 1.39022931e-14 -1.00000000e+00 -1.63064007e-16]\n",
      " [-2.10187448e-17 -1.66533454e-16  1.00000000e+00]]\n"
     ]
    }
   ],
   "source": [
    "pcd0 = np.asarray(open3d.io.read_point_cloud(cip[0]).points)\n",
    "pcd1= pcd0-np.mean(pcd0,axis=0)\n",
    "M1 = pose6tomat(moments(pcd1))\n",
    "print('M1', M1)\n",
    "w1, v1 = LA.eig(M1)\n",
    "# print('v1', w1, '\\n', v1)\n",
    "print(np.argsort(w1))\n",
    "print('v1', w1[np.argsort(w1)], '\\n', v1)\n",
    "pcd2 = np.matmul(pcd, v1[:,np.argsort(w1)])\n",
    "M2 = pose6tomat(moments(pcd2))\n",
    "print('M2', M2)\n",
    "w2, v2 = LA.eig(M2)\n",
    "print('v2', w2,'\\n',v2)"
   ]
  },
  {
   "cell_type": "code",
   "execution_count": null,
   "metadata": {},
   "outputs": [],
   "source": [
    "for i in range(10):\n",
    "    pcd0 = np.asarray(open3d.io.read_point_cloud(cip[i]).points)\n",
    "    pcd1= pcd0-np.mean(pcd0,axis=0)\n",
    "    M1 = pose6tomat(moments(pcd1))\n",
    "#     print('M1', M1)\n",
    "    w1, v1 = LA.eig(M1)\n",
    "    # print('v1', w1, '\\n', v1)\n",
    "#     print(np.argsort(w1))\n",
    "#     print('v1', w1[np.argsort(w1)], '\\n', v1)\n",
    "    mator2 = v1[:,np.argsort(w1)]\n",
    "#     print(mator2)\n",
    "    detm2 = LA.det(mator2)\n",
    "    print(round(detm2))\n",
    "    mator3 = round(detm2)*mator2\n",
    "    pcd2 = np.matmul(pcd1, mator3)\n",
    "\n",
    "    M2 = pose6tomat(moments(pcd2))\n",
    "#     print('argsort','\\n', np.argsort([M2[0,0], M2[1,1], M2[2,2]]))    \n",
    "    print('M2', M2)\n",
    "    w2, v2 = LA.eig(M2)\n",
    "#     print('argsort','\\n', np.argsort(w2))\n",
    "    print('v2', w2,'\\n',v2)"
   ]
  },
  {
   "cell_type": "code",
   "execution_count": null,
   "metadata": {},
   "outputs": [],
   "source": []
  },
  {
   "cell_type": "code",
   "execution_count": 249,
   "metadata": {},
   "outputs": [],
   "source": [
    "mator2 = np.zeros([len(cip), 3, 3])\n",
    "for i in range(len(cip)):\n",
    "    pcd0 = np.asarray(open3d.io.read_point_cloud(cip[i]).points)\n",
    "    w1, v1 = LA.eig(pose6tomat(moments(pcd0-np.mean(pcd0,axis=0))))\n",
    "    mator = v1[:,np.argsort(w1)]\n",
    "    mator2[i,:,:] = LA.det(mator)*mator"
   ]
  },
  {
   "cell_type": "code",
   "execution_count": 251,
   "metadata": {},
   "outputs": [
    {
     "data": {
      "text/plain": [
       "array([[ 0.82275715, -0.38623888, -0.41700143],\n",
       "       [ 0.47543578,  0.86971621,  0.13249349],\n",
       "       [ 0.31149877, -0.30726737,  0.89919702]])"
      ]
     },
     "execution_count": 251,
     "metadata": {},
     "output_type": "execute_result"
    }
   ],
   "source": [
    "mator2[0]"
   ]
  },
  {
   "cell_type": "code",
   "execution_count": 223,
   "metadata": {},
   "outputs": [
    {
     "data": {
      "text/plain": [
       "array([[-0.82275715,  0.38623888,  0.41700143],\n",
       "       [-0.47543578, -0.86971621, -0.13249349],\n",
       "       [-0.31149877,  0.30726737, -0.89919702]])"
      ]
     },
     "execution_count": 223,
     "metadata": {},
     "output_type": "execute_result"
    }
   ],
   "source": [
    "mator[0]"
   ]
  },
  {
   "cell_type": "code",
   "execution_count": 230,
   "metadata": {},
   "outputs": [
    {
     "data": {
      "text/plain": [
       "-1.0"
      ]
     },
     "execution_count": 230,
     "metadata": {},
     "output_type": "execute_result"
    }
   ],
   "source": [
    "LA.det(mator[0])"
   ]
  },
  {
   "cell_type": "code",
   "execution_count": 231,
   "metadata": {},
   "outputs": [],
   "source": [
    "detm = np.zeros(len(cip))"
   ]
  },
  {
   "cell_type": "code",
   "execution_count": 252,
   "metadata": {},
   "outputs": [],
   "source": [
    "for i in range(len(cip)):\n",
    "    detm[i] = LA.det(mator2[i])"
   ]
  },
  {
   "cell_type": "code",
   "execution_count": 240,
   "metadata": {},
   "outputs": [
    {
     "data": {
      "text/plain": [
       "(1880,)"
      ]
     },
     "execution_count": 240,
     "metadata": {},
     "output_type": "execute_result"
    }
   ],
   "source": [
    "np.where(detm==1)[0].shape"
   ]
  },
  {
   "cell_type": "code",
   "execution_count": 241,
   "metadata": {},
   "outputs": [
    {
     "data": {
      "text/plain": [
       "(491,)"
      ]
     },
     "execution_count": 241,
     "metadata": {},
     "output_type": "execute_result"
    }
   ],
   "source": [
    "np.where(detm==-1)[0].shape"
   ]
  },
  {
   "cell_type": "code",
   "execution_count": 242,
   "metadata": {},
   "outputs": [
    {
     "data": {
      "text/plain": [
       "(4029,)"
      ]
     },
     "execution_count": 242,
     "metadata": {},
     "output_type": "execute_result"
    }
   ],
   "source": [
    "np.where(detm>0)[0].shape"
   ]
  },
  {
   "cell_type": "code",
   "execution_count": 243,
   "metadata": {},
   "outputs": [
    {
     "data": {
      "text/plain": [
       "(1254,)"
      ]
     },
     "execution_count": 243,
     "metadata": {},
     "output_type": "execute_result"
    }
   ],
   "source": [
    "np.where(detm<0)[0].shape"
   ]
  },
  {
   "cell_type": "code",
   "execution_count": 253,
   "metadata": {},
   "outputs": [
    {
     "data": {
      "text/plain": [
       "<matplotlib.collections.PathCollection at 0x154f56ae1c0>"
      ]
     },
     "execution_count": 253,
     "metadata": {},
     "output_type": "execute_result"
    },
    {
     "data": {
      "image/png": "[encoded data removed]",
      "text/plain": [
       "<Figure size 432x288 with 1 Axes>"
      ]
     },
     "metadata": {
      "needs_background": "light"
     },
     "output_type": "display_data"
    }
   ],
   "source": [
    "plt.scatter(np.arange(len(cip)),detm, s=1)"
   ]
  },
  {
   "cell_type": "code",
   "execution_count": 225,
   "metadata": {},
   "outputs": [],
   "source": [
    "rotangles = np.zeros([len(cip), 3])"
   ]
  },
  {
   "cell_type": "code",
   "execution_count": 254,
   "metadata": {},
   "outputs": [],
   "source": [
    "for i in range(len(cip)):\n",
    "    rotangles[i,:] = rot2eul(mator2[i])"
   ]
  },
  {
   "cell_type": "code",
   "execution_count": 255,
   "metadata": {},
   "outputs": [
    {
     "data": {
      "text/plain": [
       "array([-0.32927326, -0.31676987,  0.52397856])"
      ]
     },
     "execution_count": 255,
     "metadata": {},
     "output_type": "execute_result"
    }
   ],
   "source": [
    "rotangles[0]"
   ]
  },
  {
   "cell_type": "code",
   "execution_count": 256,
   "metadata": {},
   "outputs": [
    {
     "data": {
      "text/plain": [
       "array([[ 0.82275715, -0.38623888, -0.41700143],\n",
       "       [ 0.47543578,  0.86971621,  0.13249349],\n",
       "       [ 0.31149877, -0.30726737,  0.89919702]])"
      ]
     },
     "execution_count": 256,
     "metadata": {},
     "output_type": "execute_result"
    }
   ],
   "source": [
    "eul2rot(rotangles[0])"
   ]
  },
  {
   "cell_type": "code",
   "execution_count": 257,
   "metadata": {},
   "outputs": [
    {
     "data": {
      "text/plain": [
       "array([[ 0.82275715, -0.38623888, -0.41700143],\n",
       "       [ 0.47543578,  0.86971621,  0.13249349],\n",
       "       [ 0.31149877, -0.30726737,  0.89919702]])"
      ]
     },
     "execution_count": 257,
     "metadata": {},
     "output_type": "execute_result"
    }
   ],
   "source": [
    "mator2[0]"
   ]
  },
  {
   "cell_type": "code",
   "execution_count": 258,
   "metadata": {},
   "outputs": [],
   "source": [
    "df = pd.read_csv('C:/circles/finetune_test/csv/598frame.csv')"
   ]
  },
  {
   "cell_type": "code",
   "execution_count": 259,
   "metadata": {},
   "outputs": [
    {
     "data": {
      "text/html": [
       "<div>\n",
       "<style scoped>\n",
       "    .dataframe tbody tr th:only-of-type {\n",
       "        vertical-align: middle;\n",
       "    }\n",
       "\n",
       "    .dataframe tbody tr th {\n",
       "        vertical-align: top;\n",
       "    }\n",
       "\n",
       "    .dataframe thead th {\n",
       "        text-align: right;\n",
       "    }\n",
       "</style>\n",
       "<table border=\"1\" class=\"dataframe\">\n",
       "  <thead>\n",
       "    <tr style=\"text-align: right;\">\n",
       "      <th></th>\n",
       "      <th>index</th>\n",
       "      <th>file_name</th>\n",
       "      <th>zero_angle</th>\n",
       "      <th>x_cms</th>\n",
       "      <th>y_cms</th>\n",
       "      <th>z_cms</th>\n",
       "      <th>delta_x</th>\n",
       "      <th>delta_y</th>\n",
       "      <th>moment0</th>\n",
       "      <th>moment1</th>\n",
       "      <th>moment2</th>\n",
       "      <th>moment3</th>\n",
       "      <th>moment4</th>\n",
       "      <th>moment5</th>\n",
       "      <th>mom0</th>\n",
       "      <th>mom1</th>\n",
       "      <th>mom2</th>\n",
       "      <th>mom3</th>\n",
       "      <th>mom4</th>\n",
       "      <th>mom5</th>\n",
       "    </tr>\n",
       "  </thead>\n",
       "  <tbody>\n",
       "    <tr>\n",
       "      <th>0</th>\n",
       "      <td>0</td>\n",
       "      <td>598csv/1484717/1491988</td>\n",
       "      <td>8.0</td>\n",
       "      <td>129.831987</td>\n",
       "      <td>43.936533</td>\n",
       "      <td>154.317130</td>\n",
       "      <td>0.000000</td>\n",
       "      <td>0.000000</td>\n",
       "      <td>504089976.0</td>\n",
       "      <td>164563652.0</td>\n",
       "      <td>575078730.0</td>\n",
       "      <td>64724646.0</td>\n",
       "      <td>200929929.0</td>\n",
       "      <td>724817978.0</td>\n",
       "      <td>1.168243e+07</td>\n",
       "      <td>-2.072327e+06</td>\n",
       "      <td>-1.019244e+07</td>\n",
       "      <td>8.333248e+06</td>\n",
       "      <td>2.867905e+06</td>\n",
       "      <td>2.916994e+07</td>\n",
       "    </tr>\n",
       "    <tr>\n",
       "      <th>1</th>\n",
       "      <td>1</td>\n",
       "      <td>598csv/1484717/1491989</td>\n",
       "      <td>9.0</td>\n",
       "      <td>119.950786</td>\n",
       "      <td>48.513970</td>\n",
       "      <td>141.181489</td>\n",
       "      <td>0.040641</td>\n",
       "      <td>0.000000</td>\n",
       "      <td>428386811.0</td>\n",
       "      <td>167247653.0</td>\n",
       "      <td>479568284.0</td>\n",
       "      <td>74638238.0</td>\n",
       "      <td>199349082.0</td>\n",
       "      <td>609253694.0</td>\n",
       "      <td>1.177674e+07</td>\n",
       "      <td>-1.249855e+06</td>\n",
       "      <td>-1.077973e+07</td>\n",
       "      <td>6.489597e+06</td>\n",
       "      <td>1.028339e+06</td>\n",
       "      <td>3.211648e+07</td>\n",
       "    </tr>\n",
       "    <tr>\n",
       "      <th>2</th>\n",
       "      <td>2</td>\n",
       "      <td>598csv/1484717/1491990</td>\n",
       "      <td>8.0</td>\n",
       "      <td>123.014476</td>\n",
       "      <td>47.128630</td>\n",
       "      <td>155.613687</td>\n",
       "      <td>0.051783</td>\n",
       "      <td>0.516619</td>\n",
       "      <td>363275825.0</td>\n",
       "      <td>136293591.0</td>\n",
       "      <td>446703489.0</td>\n",
       "      <td>56699590.0</td>\n",
       "      <td>176090923.0</td>\n",
       "      <td>592715504.0</td>\n",
       "      <td>6.813210e+06</td>\n",
       "      <td>-2.724059e+05</td>\n",
       "      <td>-4.222803e+06</td>\n",
       "      <td>4.379176e+06</td>\n",
       "      <td>3.334522e+06</td>\n",
       "      <td>2.229237e+07</td>\n",
       "    </tr>\n",
       "    <tr>\n",
       "      <th>3</th>\n",
       "      <td>3</td>\n",
       "      <td>598csv/1484717/1491991</td>\n",
       "      <td>5.0</td>\n",
       "      <td>120.352368</td>\n",
       "      <td>42.278210</td>\n",
       "      <td>136.717018</td>\n",
       "      <td>0.032078</td>\n",
       "      <td>0.516619</td>\n",
       "      <td>381880431.0</td>\n",
       "      <td>128225058.0</td>\n",
       "      <td>412001326.0</td>\n",
       "      <td>50659849.0</td>\n",
       "      <td>151043672.0</td>\n",
       "      <td>500506132.0</td>\n",
       "      <td>1.155030e+07</td>\n",
       "      <td>-1.867066e+06</td>\n",
       "      <td>-8.683638e+06</td>\n",
       "      <td>4.960190e+06</td>\n",
       "      <td>3.262556e+06</td>\n",
       "      <td>2.261945e+07</td>\n",
       "    </tr>\n",
       "    <tr>\n",
       "      <th>4</th>\n",
       "      <td>4</td>\n",
       "      <td>598csv/1484717/1491992</td>\n",
       "      <td>11.0</td>\n",
       "      <td>120.963969</td>\n",
       "      <td>52.290549</td>\n",
       "      <td>139.462856</td>\n",
       "      <td>0.007131</td>\n",
       "      <td>0.688826</td>\n",
       "      <td>395257806.0</td>\n",
       "      <td>165420434.0</td>\n",
       "      <td>442680482.0</td>\n",
       "      <td>80723765.0</td>\n",
       "      <td>199558581.0</td>\n",
       "      <td>543286441.0</td>\n",
       "      <td>7.429177e+06</td>\n",
       "      <td>-2.230910e+06</td>\n",
       "      <td>-4.458354e+06</td>\n",
       "      <td>8.251103e+06</td>\n",
       "      <td>6.268502e+06</td>\n",
       "      <td>2.776715e+07</td>\n",
       "    </tr>\n",
       "    <tr>\n",
       "      <th>...</th>\n",
       "      <td>...</td>\n",
       "      <td>...</td>\n",
       "      <td>...</td>\n",
       "      <td>...</td>\n",
       "      <td>...</td>\n",
       "      <td>...</td>\n",
       "      <td>...</td>\n",
       "      <td>...</td>\n",
       "      <td>...</td>\n",
       "      <td>...</td>\n",
       "      <td>...</td>\n",
       "      <td>...</td>\n",
       "      <td>...</td>\n",
       "      <td>...</td>\n",
       "      <td>...</td>\n",
       "      <td>...</td>\n",
       "      <td>...</td>\n",
       "      <td>...</td>\n",
       "      <td>...</td>\n",
       "      <td>...</td>\n",
       "    </tr>\n",
       "    <tr>\n",
       "      <th>5278</th>\n",
       "      <td>5278</td>\n",
       "      <td>598csv/1484760/1500857</td>\n",
       "      <td>10.0</td>\n",
       "      <td>121.881008</td>\n",
       "      <td>24.875571</td>\n",
       "      <td>128.604963</td>\n",
       "      <td>-5.848818</td>\n",
       "      <td>0.516619</td>\n",
       "      <td>435057172.0</td>\n",
       "      <td>86812440.0</td>\n",
       "      <td>460315264.0</td>\n",
       "      <td>23001555.0</td>\n",
       "      <td>91717537.0</td>\n",
       "      <td>515400941.0</td>\n",
       "      <td>8.852938e+06</td>\n",
       "      <td>-1.746448e+05</td>\n",
       "      <td>1.059811e+07</td>\n",
       "      <td>5.247736e+06</td>\n",
       "      <td>-6.846828e+04</td>\n",
       "      <td>4.087370e+07</td>\n",
       "    </tr>\n",
       "    <tr>\n",
       "      <th>5279</th>\n",
       "      <td>5279</td>\n",
       "      <td>598csv/1484760/1500858</td>\n",
       "      <td>22.0</td>\n",
       "      <td>138.268651</td>\n",
       "      <td>47.324900</td>\n",
       "      <td>118.120206</td>\n",
       "      <td>-5.682811</td>\n",
       "      <td>0.516619</td>\n",
       "      <td>521235084.0</td>\n",
       "      <td>171184215.0</td>\n",
       "      <td>419739092.0</td>\n",
       "      <td>64739111.0</td>\n",
       "      <td>145262026.0</td>\n",
       "      <td>378174238.0</td>\n",
       "      <td>2.024213e+07</td>\n",
       "      <td>-2.895143e+05</td>\n",
       "      <td>-8.249394e+06</td>\n",
       "      <td>6.049184e+06</td>\n",
       "      <td>-1.224629e+06</td>\n",
       "      <td>1.255204e+07</td>\n",
       "    </tr>\n",
       "    <tr>\n",
       "      <th>5280</th>\n",
       "      <td>5280</td>\n",
       "      <td>598csv/1484760/1500859</td>\n",
       "      <td>21.0</td>\n",
       "      <td>140.535355</td>\n",
       "      <td>24.351695</td>\n",
       "      <td>137.298298</td>\n",
       "      <td>-5.663254</td>\n",
       "      <td>0.516619</td>\n",
       "      <td>620853856.0</td>\n",
       "      <td>102768458.0</td>\n",
       "      <td>568026943.0</td>\n",
       "      <td>23532224.0</td>\n",
       "      <td>101179273.0</td>\n",
       "      <td>588455777.0</td>\n",
       "      <td>2.424024e+07</td>\n",
       "      <td>-6.115976e+05</td>\n",
       "      <td>-1.484443e+07</td>\n",
       "      <td>5.618728e+06</td>\n",
       "      <td>1.804479e+05</td>\n",
       "      <td>1.901012e+07</td>\n",
       "    </tr>\n",
       "    <tr>\n",
       "      <th>5281</th>\n",
       "      <td>5281</td>\n",
       "      <td>598csv/1484760/1500860</td>\n",
       "      <td>21.0</td>\n",
       "      <td>132.135006</td>\n",
       "      <td>52.008363</td>\n",
       "      <td>115.020311</td>\n",
       "      <td>-5.555135</td>\n",
       "      <td>0.516619</td>\n",
       "      <td>661442177.0</td>\n",
       "      <td>249010683.0</td>\n",
       "      <td>530651160.0</td>\n",
       "      <td>110415531.0</td>\n",
       "      <td>211167589.0</td>\n",
       "      <td>500456320.0</td>\n",
       "      <td>3.305156e+07</td>\n",
       "      <td>1.676018e+06</td>\n",
       "      <td>-1.634760e+07</td>\n",
       "      <td>1.306456e+07</td>\n",
       "      <td>-4.131224e+06</td>\n",
       "      <td>2.430720e+07</td>\n",
       "    </tr>\n",
       "    <tr>\n",
       "      <th>5282</th>\n",
       "      <td>5282</td>\n",
       "      <td>598csv/1484760/1500861</td>\n",
       "      <td>22.0</td>\n",
       "      <td>151.002000</td>\n",
       "      <td>46.848014</td>\n",
       "      <td>127.560398</td>\n",
       "      <td>-5.669602</td>\n",
       "      <td>0.516619</td>\n",
       "      <td>790454950.0</td>\n",
       "      <td>237495209.0</td>\n",
       "      <td>627576473.0</td>\n",
       "      <td>83205379.0</td>\n",
       "      <td>199654983.0</td>\n",
       "      <td>572117512.0</td>\n",
       "      <td>2.653281e+07</td>\n",
       "      <td>4.901712e+05</td>\n",
       "      <td>-1.775413e+07</td>\n",
       "      <td>9.675126e+06</td>\n",
       "      <td>-5.573115e+05</td>\n",
       "      <td>2.696825e+07</td>\n",
       "    </tr>\n",
       "  </tbody>\n",
       "</table>\n",
       "<p>5283 rows × 20 columns</p>\n",
       "</div>"
      ],
      "text/plain": [
       "      index               file_name  zero_angle       x_cms      y_cms  \\\n",
       "0         0  598csv/1484717/1491988         8.0  129.831987  43.936533   \n",
       "1         1  598csv/1484717/1491989         9.0  119.950786  48.513970   \n",
       "2         2  598csv/1484717/1491990         8.0  123.014476  47.128630   \n",
       "3         3  598csv/1484717/1491991         5.0  120.352368  42.278210   \n",
       "4         4  598csv/1484717/1491992        11.0  120.963969  52.290549   \n",
       "...     ...                     ...         ...         ...        ...   \n",
       "5278   5278  598csv/1484760/1500857        10.0  121.881008  24.875571   \n",
       "5279   5279  598csv/1484760/1500858        22.0  138.268651  47.324900   \n",
       "5280   5280  598csv/1484760/1500859        21.0  140.535355  24.351695   \n",
       "5281   5281  598csv/1484760/1500860        21.0  132.135006  52.008363   \n",
       "5282   5282  598csv/1484760/1500861        22.0  151.002000  46.848014   \n",
       "\n",
       "           z_cms   delta_x   delta_y      moment0      moment1      moment2  \\\n",
       "0     154.317130  0.000000  0.000000  504089976.0  164563652.0  575078730.0   \n",
       "1     141.181489  0.040641  0.000000  428386811.0  167247653.0  479568284.0   \n",
       "2     155.613687  0.051783  0.516619  363275825.0  136293591.0  446703489.0   \n",
       "3     136.717018  0.032078  0.516619  381880431.0  128225058.0  412001326.0   \n",
       "4     139.462856  0.007131  0.688826  395257806.0  165420434.0  442680482.0   \n",
       "...          ...       ...       ...          ...          ...          ...   \n",
       "5278  128.604963 -5.848818  0.516619  435057172.0   86812440.0  460315264.0   \n",
       "5279  118.120206 -5.682811  0.516619  521235084.0  171184215.0  419739092.0   \n",
       "5280  137.298298 -5.663254  0.516619  620853856.0  102768458.0  568026943.0   \n",
       "5281  115.020311 -5.555135  0.516619  661442177.0  249010683.0  530651160.0   \n",
       "5282  127.560398 -5.669602  0.516619  790454950.0  237495209.0  627576473.0   \n",
       "\n",
       "          moment3      moment4      moment5          mom0          mom1  \\\n",
       "0      64724646.0  200929929.0  724817978.0  1.168243e+07 -2.072327e+06   \n",
       "1      74638238.0  199349082.0  609253694.0  1.177674e+07 -1.249855e+06   \n",
       "2      56699590.0  176090923.0  592715504.0  6.813210e+06 -2.724059e+05   \n",
       "3      50659849.0  151043672.0  500506132.0  1.155030e+07 -1.867066e+06   \n",
       "4      80723765.0  199558581.0  543286441.0  7.429177e+06 -2.230910e+06   \n",
       "...           ...          ...          ...           ...           ...   \n",
       "5278   23001555.0   91717537.0  515400941.0  8.852938e+06 -1.746448e+05   \n",
       "5279   64739111.0  145262026.0  378174238.0  2.024213e+07 -2.895143e+05   \n",
       "5280   23532224.0  101179273.0  588455777.0  2.424024e+07 -6.115976e+05   \n",
       "5281  110415531.0  211167589.0  500456320.0  3.305156e+07  1.676018e+06   \n",
       "5282   83205379.0  199654983.0  572117512.0  2.653281e+07  4.901712e+05   \n",
       "\n",
       "              mom2          mom3          mom4          mom5  \n",
       "0    -1.019244e+07  8.333248e+06  2.867905e+06  2.916994e+07  \n",
       "1    -1.077973e+07  6.489597e+06  1.028339e+06  3.211648e+07  \n",
       "2    -4.222803e+06  4.379176e+06  3.334522e+06  2.229237e+07  \n",
       "3    -8.683638e+06  4.960190e+06  3.262556e+06  2.261945e+07  \n",
       "4    -4.458354e+06  8.251103e+06  6.268502e+06  2.776715e+07  \n",
       "...            ...           ...           ...           ...  \n",
       "5278  1.059811e+07  5.247736e+06 -6.846828e+04  4.087370e+07  \n",
       "5279 -8.249394e+06  6.049184e+06 -1.224629e+06  1.255204e+07  \n",
       "5280 -1.484443e+07  5.618728e+06  1.804479e+05  1.901012e+07  \n",
       "5281 -1.634760e+07  1.306456e+07 -4.131224e+06  2.430720e+07  \n",
       "5282 -1.775413e+07  9.675126e+06 -5.573115e+05  2.696825e+07  \n",
       "\n",
       "[5283 rows x 20 columns]"
      ]
     },
     "execution_count": 259,
     "metadata": {},
     "output_type": "execute_result"
    }
   ],
   "source": [
    "df"
   ]
  },
  {
   "cell_type": "code",
   "execution_count": 260,
   "metadata": {},
   "outputs": [
    {
     "data": {
      "text/plain": [
       "(5283, 3)"
      ]
     },
     "execution_count": 260,
     "metadata": {},
     "output_type": "execute_result"
    }
   ],
   "source": [
    "rotangles.shape"
   ]
  },
  {
   "cell_type": "code",
   "execution_count": 261,
   "metadata": {},
   "outputs": [],
   "source": [
    "for i in range(3):\n",
    "    df.insert(20+i, \"eul\"+str(i), rotangles[:,i])"
   ]
  },
  {
   "cell_type": "code",
   "execution_count": 262,
   "metadata": {},
   "outputs": [
    {
     "data": {
      "text/html": [
       "<div>\n",
       "<style scoped>\n",
       "    .dataframe tbody tr th:only-of-type {\n",
       "        vertical-align: middle;\n",
       "    }\n",
       "\n",
       "    .dataframe tbody tr th {\n",
       "        vertical-align: top;\n",
       "    }\n",
       "\n",
       "    .dataframe thead th {\n",
       "        text-align: right;\n",
       "    }\n",
       "</style>\n",
       "<table border=\"1\" class=\"dataframe\">\n",
       "  <thead>\n",
       "    <tr style=\"text-align: right;\">\n",
       "      <th></th>\n",
       "      <th>index</th>\n",
       "      <th>file_name</th>\n",
       "      <th>zero_angle</th>\n",
       "      <th>x_cms</th>\n",
       "      <th>y_cms</th>\n",
       "      <th>z_cms</th>\n",
       "      <th>delta_x</th>\n",
       "      <th>delta_y</th>\n",
       "      <th>moment0</th>\n",
       "      <th>moment1</th>\n",
       "      <th>...</th>\n",
       "      <th>moment5</th>\n",
       "      <th>mom0</th>\n",
       "      <th>mom1</th>\n",
       "      <th>mom2</th>\n",
       "      <th>mom3</th>\n",
       "      <th>mom4</th>\n",
       "      <th>mom5</th>\n",
       "      <th>eul0</th>\n",
       "      <th>eul1</th>\n",
       "      <th>eul2</th>\n",
       "    </tr>\n",
       "  </thead>\n",
       "  <tbody>\n",
       "    <tr>\n",
       "      <th>0</th>\n",
       "      <td>0</td>\n",
       "      <td>598csv/1484717/1491988</td>\n",
       "      <td>8.0</td>\n",
       "      <td>129.831987</td>\n",
       "      <td>43.936533</td>\n",
       "      <td>154.317130</td>\n",
       "      <td>0.000000</td>\n",
       "      <td>0.000000</td>\n",
       "      <td>504089976.0</td>\n",
       "      <td>164563652.0</td>\n",
       "      <td>...</td>\n",
       "      <td>724817978.0</td>\n",
       "      <td>1.168243e+07</td>\n",
       "      <td>-2.072327e+06</td>\n",
       "      <td>-1.019244e+07</td>\n",
       "      <td>8.333248e+06</td>\n",
       "      <td>2.867905e+06</td>\n",
       "      <td>2.916994e+07</td>\n",
       "      <td>-0.329273</td>\n",
       "      <td>-0.316770</td>\n",
       "      <td>0.523979</td>\n",
       "    </tr>\n",
       "    <tr>\n",
       "      <th>1</th>\n",
       "      <td>1</td>\n",
       "      <td>598csv/1484717/1491989</td>\n",
       "      <td>9.0</td>\n",
       "      <td>119.950786</td>\n",
       "      <td>48.513970</td>\n",
       "      <td>141.181489</td>\n",
       "      <td>0.040641</td>\n",
       "      <td>0.000000</td>\n",
       "      <td>428386811.0</td>\n",
       "      <td>167247653.0</td>\n",
       "      <td>...</td>\n",
       "      <td>609253694.0</td>\n",
       "      <td>1.177674e+07</td>\n",
       "      <td>-1.249855e+06</td>\n",
       "      <td>-1.077973e+07</td>\n",
       "      <td>6.489597e+06</td>\n",
       "      <td>1.028339e+06</td>\n",
       "      <td>3.211648e+07</td>\n",
       "      <td>0.373373</td>\n",
       "      <td>0.176038</td>\n",
       "      <td>-2.110121</td>\n",
       "    </tr>\n",
       "    <tr>\n",
       "      <th>2</th>\n",
       "      <td>2</td>\n",
       "      <td>598csv/1484717/1491990</td>\n",
       "      <td>8.0</td>\n",
       "      <td>123.014476</td>\n",
       "      <td>47.128630</td>\n",
       "      <td>155.613687</td>\n",
       "      <td>0.051783</td>\n",
       "      <td>0.516619</td>\n",
       "      <td>363275825.0</td>\n",
       "      <td>136293591.0</td>\n",
       "      <td>...</td>\n",
       "      <td>592715504.0</td>\n",
       "      <td>6.813210e+06</td>\n",
       "      <td>-2.724059e+05</td>\n",
       "      <td>-4.222803e+06</td>\n",
       "      <td>4.379176e+06</td>\n",
       "      <td>3.334522e+06</td>\n",
       "      <td>2.229237e+07</td>\n",
       "      <td>-2.943316</td>\n",
       "      <td>-0.220348</td>\n",
       "      <td>-1.352440</td>\n",
       "    </tr>\n",
       "    <tr>\n",
       "      <th>3</th>\n",
       "      <td>3</td>\n",
       "      <td>598csv/1484717/1491991</td>\n",
       "      <td>5.0</td>\n",
       "      <td>120.352368</td>\n",
       "      <td>42.278210</td>\n",
       "      <td>136.717018</td>\n",
       "      <td>0.032078</td>\n",
       "      <td>0.516619</td>\n",
       "      <td>381880431.0</td>\n",
       "      <td>128225058.0</td>\n",
       "      <td>...</td>\n",
       "      <td>500506132.0</td>\n",
       "      <td>1.155030e+07</td>\n",
       "      <td>-1.867066e+06</td>\n",
       "      <td>-8.683638e+06</td>\n",
       "      <td>4.960190e+06</td>\n",
       "      <td>3.262556e+06</td>\n",
       "      <td>2.261945e+07</td>\n",
       "      <td>-2.630579</td>\n",
       "      <td>-0.128256</td>\n",
       "      <td>-1.673317</td>\n",
       "    </tr>\n",
       "    <tr>\n",
       "      <th>4</th>\n",
       "      <td>4</td>\n",
       "      <td>598csv/1484717/1491992</td>\n",
       "      <td>11.0</td>\n",
       "      <td>120.963969</td>\n",
       "      <td>52.290549</td>\n",
       "      <td>139.462856</td>\n",
       "      <td>0.007131</td>\n",
       "      <td>0.688826</td>\n",
       "      <td>395257806.0</td>\n",
       "      <td>165420434.0</td>\n",
       "      <td>...</td>\n",
       "      <td>543286441.0</td>\n",
       "      <td>7.429177e+06</td>\n",
       "      <td>-2.230910e+06</td>\n",
       "      <td>-4.458354e+06</td>\n",
       "      <td>8.251103e+06</td>\n",
       "      <td>6.268502e+06</td>\n",
       "      <td>2.776715e+07</td>\n",
       "      <td>-2.788699</td>\n",
       "      <td>-0.061995</td>\n",
       "      <td>-2.342986</td>\n",
       "    </tr>\n",
       "    <tr>\n",
       "      <th>...</th>\n",
       "      <td>...</td>\n",
       "      <td>...</td>\n",
       "      <td>...</td>\n",
       "      <td>...</td>\n",
       "      <td>...</td>\n",
       "      <td>...</td>\n",
       "      <td>...</td>\n",
       "      <td>...</td>\n",
       "      <td>...</td>\n",
       "      <td>...</td>\n",
       "      <td>...</td>\n",
       "      <td>...</td>\n",
       "      <td>...</td>\n",
       "      <td>...</td>\n",
       "      <td>...</td>\n",
       "      <td>...</td>\n",
       "      <td>...</td>\n",
       "      <td>...</td>\n",
       "      <td>...</td>\n",
       "      <td>...</td>\n",
       "      <td>...</td>\n",
       "    </tr>\n",
       "    <tr>\n",
       "      <th>5278</th>\n",
       "      <td>5278</td>\n",
       "      <td>598csv/1484760/1500857</td>\n",
       "      <td>10.0</td>\n",
       "      <td>121.881008</td>\n",
       "      <td>24.875571</td>\n",
       "      <td>128.604963</td>\n",
       "      <td>-5.848818</td>\n",
       "      <td>0.516619</td>\n",
       "      <td>435057172.0</td>\n",
       "      <td>86812440.0</td>\n",
       "      <td>...</td>\n",
       "      <td>515400941.0</td>\n",
       "      <td>8.852938e+06</td>\n",
       "      <td>-1.746448e+05</td>\n",
       "      <td>1.059811e+07</td>\n",
       "      <td>5.247736e+06</td>\n",
       "      <td>-6.846828e+04</td>\n",
       "      <td>4.087370e+07</td>\n",
       "      <td>0.280125</td>\n",
       "      <td>0.084930</td>\n",
       "      <td>1.273703</td>\n",
       "    </tr>\n",
       "    <tr>\n",
       "      <th>5279</th>\n",
       "      <td>5279</td>\n",
       "      <td>598csv/1484760/1500858</td>\n",
       "      <td>22.0</td>\n",
       "      <td>138.268651</td>\n",
       "      <td>47.324900</td>\n",
       "      <td>118.120206</td>\n",
       "      <td>-5.682811</td>\n",
       "      <td>0.516619</td>\n",
       "      <td>521235084.0</td>\n",
       "      <td>171184215.0</td>\n",
       "      <td>...</td>\n",
       "      <td>378174238.0</td>\n",
       "      <td>2.024213e+07</td>\n",
       "      <td>-2.895143e+05</td>\n",
       "      <td>-8.249394e+06</td>\n",
       "      <td>6.049184e+06</td>\n",
       "      <td>-1.224629e+06</td>\n",
       "      <td>1.255204e+07</td>\n",
       "      <td>0.925846</td>\n",
       "      <td>0.460922</td>\n",
       "      <td>-1.868335</td>\n",
       "    </tr>\n",
       "    <tr>\n",
       "      <th>5280</th>\n",
       "      <td>5280</td>\n",
       "      <td>598csv/1484760/1500859</td>\n",
       "      <td>21.0</td>\n",
       "      <td>140.535355</td>\n",
       "      <td>24.351695</td>\n",
       "      <td>137.298298</td>\n",
       "      <td>-5.663254</td>\n",
       "      <td>0.516619</td>\n",
       "      <td>620853856.0</td>\n",
       "      <td>102768458.0</td>\n",
       "      <td>...</td>\n",
       "      <td>588455777.0</td>\n",
       "      <td>2.424024e+07</td>\n",
       "      <td>-6.115976e+05</td>\n",
       "      <td>-1.484443e+07</td>\n",
       "      <td>5.618728e+06</td>\n",
       "      <td>1.804479e+05</td>\n",
       "      <td>1.901012e+07</td>\n",
       "      <td>-2.282067</td>\n",
       "      <td>0.176872</td>\n",
       "      <td>-1.745811</td>\n",
       "    </tr>\n",
       "    <tr>\n",
       "      <th>5281</th>\n",
       "      <td>5281</td>\n",
       "      <td>598csv/1484760/1500860</td>\n",
       "      <td>21.0</td>\n",
       "      <td>132.135006</td>\n",
       "      <td>52.008363</td>\n",
       "      <td>115.020311</td>\n",
       "      <td>-5.555135</td>\n",
       "      <td>0.516619</td>\n",
       "      <td>661442177.0</td>\n",
       "      <td>249010683.0</td>\n",
       "      <td>...</td>\n",
       "      <td>500456320.0</td>\n",
       "      <td>3.305156e+07</td>\n",
       "      <td>1.676018e+06</td>\n",
       "      <td>-1.634760e+07</td>\n",
       "      <td>1.306456e+07</td>\n",
       "      <td>-4.131224e+06</td>\n",
       "      <td>2.430720e+07</td>\n",
       "      <td>-0.632412</td>\n",
       "      <td>-0.711582</td>\n",
       "      <td>0.990322</td>\n",
       "    </tr>\n",
       "    <tr>\n",
       "      <th>5282</th>\n",
       "      <td>5282</td>\n",
       "      <td>598csv/1484760/1500861</td>\n",
       "      <td>22.0</td>\n",
       "      <td>151.002000</td>\n",
       "      <td>46.848014</td>\n",
       "      <td>127.560398</td>\n",
       "      <td>-5.669602</td>\n",
       "      <td>0.516619</td>\n",
       "      <td>790454950.0</td>\n",
       "      <td>237495209.0</td>\n",
       "      <td>...</td>\n",
       "      <td>572117512.0</td>\n",
       "      <td>2.653281e+07</td>\n",
       "      <td>4.901712e+05</td>\n",
       "      <td>-1.775413e+07</td>\n",
       "      <td>9.675126e+06</td>\n",
       "      <td>-5.573115e+05</td>\n",
       "      <td>2.696825e+07</td>\n",
       "      <td>0.042198</td>\n",
       "      <td>0.778568</td>\n",
       "      <td>-3.051291</td>\n",
       "    </tr>\n",
       "  </tbody>\n",
       "</table>\n",
       "<p>5283 rows × 23 columns</p>\n",
       "</div>"
      ],
      "text/plain": [
       "      index               file_name  zero_angle       x_cms      y_cms  \\\n",
       "0         0  598csv/1484717/1491988         8.0  129.831987  43.936533   \n",
       "1         1  598csv/1484717/1491989         9.0  119.950786  48.513970   \n",
       "2         2  598csv/1484717/1491990         8.0  123.014476  47.128630   \n",
       "3         3  598csv/1484717/1491991         5.0  120.352368  42.278210   \n",
       "4         4  598csv/1484717/1491992        11.0  120.963969  52.290549   \n",
       "...     ...                     ...         ...         ...        ...   \n",
       "5278   5278  598csv/1484760/1500857        10.0  121.881008  24.875571   \n",
       "5279   5279  598csv/1484760/1500858        22.0  138.268651  47.324900   \n",
       "5280   5280  598csv/1484760/1500859        21.0  140.535355  24.351695   \n",
       "5281   5281  598csv/1484760/1500860        21.0  132.135006  52.008363   \n",
       "5282   5282  598csv/1484760/1500861        22.0  151.002000  46.848014   \n",
       "\n",
       "           z_cms   delta_x   delta_y      moment0      moment1  ...  \\\n",
       "0     154.317130  0.000000  0.000000  504089976.0  164563652.0  ...   \n",
       "1     141.181489  0.040641  0.000000  428386811.0  167247653.0  ...   \n",
       "2     155.613687  0.051783  0.516619  363275825.0  136293591.0  ...   \n",
       "3     136.717018  0.032078  0.516619  381880431.0  128225058.0  ...   \n",
       "4     139.462856  0.007131  0.688826  395257806.0  165420434.0  ...   \n",
       "...          ...       ...       ...          ...          ...  ...   \n",
       "5278  128.604963 -5.848818  0.516619  435057172.0   86812440.0  ...   \n",
       "5279  118.120206 -5.682811  0.516619  521235084.0  171184215.0  ...   \n",
       "5280  137.298298 -5.663254  0.516619  620853856.0  102768458.0  ...   \n",
       "5281  115.020311 -5.555135  0.516619  661442177.0  249010683.0  ...   \n",
       "5282  127.560398 -5.669602  0.516619  790454950.0  237495209.0  ...   \n",
       "\n",
       "          moment5          mom0          mom1          mom2          mom3  \\\n",
       "0     724817978.0  1.168243e+07 -2.072327e+06 -1.019244e+07  8.333248e+06   \n",
       "1     609253694.0  1.177674e+07 -1.249855e+06 -1.077973e+07  6.489597e+06   \n",
       "2     592715504.0  6.813210e+06 -2.724059e+05 -4.222803e+06  4.379176e+06   \n",
       "3     500506132.0  1.155030e+07 -1.867066e+06 -8.683638e+06  4.960190e+06   \n",
       "4     543286441.0  7.429177e+06 -2.230910e+06 -4.458354e+06  8.251103e+06   \n",
       "...           ...           ...           ...           ...           ...   \n",
       "5278  515400941.0  8.852938e+06 -1.746448e+05  1.059811e+07  5.247736e+06   \n",
       "5279  378174238.0  2.024213e+07 -2.895143e+05 -8.249394e+06  6.049184e+06   \n",
       "5280  588455777.0  2.424024e+07 -6.115976e+05 -1.484443e+07  5.618728e+06   \n",
       "5281  500456320.0  3.305156e+07  1.676018e+06 -1.634760e+07  1.306456e+07   \n",
       "5282  572117512.0  2.653281e+07  4.901712e+05 -1.775413e+07  9.675126e+06   \n",
       "\n",
       "              mom4          mom5      eul0      eul1      eul2  \n",
       "0     2.867905e+06  2.916994e+07 -0.329273 -0.316770  0.523979  \n",
       "1     1.028339e+06  3.211648e+07  0.373373  0.176038 -2.110121  \n",
       "2     3.334522e+06  2.229237e+07 -2.943316 -0.220348 -1.352440  \n",
       "3     3.262556e+06  2.261945e+07 -2.630579 -0.128256 -1.673317  \n",
       "4     6.268502e+06  2.776715e+07 -2.788699 -0.061995 -2.342986  \n",
       "...            ...           ...       ...       ...       ...  \n",
       "5278 -6.846828e+04  4.087370e+07  0.280125  0.084930  1.273703  \n",
       "5279 -1.224629e+06  1.255204e+07  0.925846  0.460922 -1.868335  \n",
       "5280  1.804479e+05  1.901012e+07 -2.282067  0.176872 -1.745811  \n",
       "5281 -4.131224e+06  2.430720e+07 -0.632412 -0.711582  0.990322  \n",
       "5282 -5.573115e+05  2.696825e+07  0.042198  0.778568 -3.051291  \n",
       "\n",
       "[5283 rows x 23 columns]"
      ]
     },
     "execution_count": 262,
     "metadata": {},
     "output_type": "execute_result"
    }
   ],
   "source": [
    "df"
   ]
  },
  {
   "cell_type": "code",
   "execution_count": 263,
   "metadata": {},
   "outputs": [],
   "source": [
    "df.to_csv('C:/circles/finetune_test/csv/598frame2.csv')"
   ]
  },
  {
   "cell_type": "code",
   "execution_count": 264,
   "metadata": {},
   "outputs": [],
   "source": [
    "def getstat(img):\n",
    "    if isinstance(img, t.Tensor):\n",
    "        tp = (float(t.min(img)), float(t.max(img)), float(t.mean(img)), float(t.std(img)))\n",
    "    elif isinstance(img, np.ndarray):\n",
    "        tp = (np.min(img), np.max(img), np.mean(img), np.std(img))\n",
    "    return tp"
   ]
  },
  {
   "cell_type": "code",
   "execution_count": 266,
   "metadata": {},
   "outputs": [
    {
     "data": {
      "text/plain": [
       "array([-3.14159265,  3.14159265, -0.31063423,  1.48487897])"
      ]
     },
     "execution_count": 266,
     "metadata": {},
     "output_type": "execute_result"
    }
   ],
   "source": [
    "np.array(getstat(rotangles))"
   ]
  },
  {
   "cell_type": "code",
   "execution_count": 269,
   "metadata": {},
   "outputs": [],
   "source": [
    "a = df.loc[:,['eul' + str(i) for i in range(3)]].values"
   ]
  },
  {
   "cell_type": "code",
   "execution_count": 270,
   "metadata": {},
   "outputs": [
    {
     "data": {
      "text/plain": [
       "(5283, 3)"
      ]
     },
     "execution_count": 270,
     "metadata": {},
     "output_type": "execute_result"
    }
   ],
   "source": [
    "a.shape"
   ]
  },
  {
   "cell_type": "code",
   "execution_count": null,
   "metadata": {},
   "outputs": [],
   "source": []
  }
 ],
 "metadata": {
  "kernelspec": {
   "display_name": "Python 3",
   "language": "python",
   "name": "python3"
  },
  "language_info": {
   "codemirror_mode": {
    "name": "ipython",
    "version": 3
   },
   "file_extension": ".py",
   "mimetype": "text/x-python",
   "name": "python",
   "nbconvert_exporter": "python",
   "pygments_lexer": "ipython3",
   "version": "3.8.5"
  }
 },
 "nbformat": 4,
 "nbformat_minor": 4
}
