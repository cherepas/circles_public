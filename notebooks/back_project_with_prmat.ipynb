{
 "cells": [
  {
   "cell_type": "code",
   "execution_count": null,
   "metadata": {},
   "outputs": [],
   "source": [
    "import matplotlib.pyplot as plt\n",
    "import numpy as np\n",
    "from skimage import io, transform\n",
    "import os\n",
    "import open3d as o3d"
   ]
  },
  {
   "cell_type": "code",
   "execution_count": null,
   "metadata": {},
   "outputs": [],
   "source": [
    "prmat = np.genfromtxt('C:/circles/finetune_test/csv/prmat.csv',delimiter=',')"
   ]
  },
  {
   "cell_type": "code",
   "execution_count": null,
   "metadata": {},
   "outputs": [],
   "source": [
    "prmat.shape"
   ]
  },
  {
   "cell_type": "code",
   "execution_count": null,
   "metadata": {},
   "outputs": [],
   "source": [
    "prmat0 = prmat[:4,:]"
   ]
  },
  {
   "cell_type": "code",
   "execution_count": null,
   "metadata": {},
   "outputs": [],
   "source": [
    "prmat0.shape"
   ]
  },
  {
   "cell_type": "code",
   "execution_count": null,
   "metadata": {},
   "outputs": [],
   "source": [
    "prmat0[:,3]"
   ]
  },
  {
   "cell_type": "code",
   "execution_count": null,
   "metadata": {},
   "outputs": [],
   "source": [
    "prmat0"
   ]
  },
  {
   "cell_type": "code",
   "execution_count": null,
   "metadata": {},
   "outputs": [],
   "source": []
  },
  {
   "cell_type": "code",
   "execution_count": null,
   "metadata": {},
   "outputs": [],
   "source": [
    "prmat00.transpose()"
   ]
  },
  {
   "cell_type": "code",
   "execution_count": null,
   "metadata": {},
   "outputs": [],
   "source": [
    "img0 = np.asarray(io.imread('D:/cherepashkin1/phenoseed/598/1484717/1491988/rotation_000.tif'))"
   ]
  },
  {
   "cell_type": "code",
   "execution_count": null,
   "metadata": {},
   "outputs": [],
   "source": [
    "pcd = np.asarray(open3d.io.read_point_cloud('D:/cherepashkin1/phenoseed/598/1484717/1491988_Surface.ply').points)\n",
    "# img = np.asarray(pcd.points)"
   ]
  },
  {
   "cell_type": "code",
   "execution_count": null,
   "metadata": {},
   "outputs": [],
   "source": [
    "pcd.shape"
   ]
  },
  {
   "cell_type": "code",
   "execution_count": null,
   "metadata": {},
   "outputs": [],
   "source": [
    "def showpoints(ax, el, az, p0, p1 = None):\n",
    "    ax.scatter(p0[0,:],p0[1,:],p0[2,:], marker='o', s=10, c=\"r\", alpha=0.6)\n",
    "    if p1 is not None:\n",
    "        ax.scatter(p1[0,:],p1[1,:],p1[2,:], marker='o', s=10, c=\"g\", alpha=0.6)\n",
    "    ax.view_init(elev=el, azim=az)\n",
    "    ax_lim = 120*vox2mm\n",
    "    ax.set_xlim(-ax_lim, ax_lim)\n",
    "    ax.set_ylim(-ax_lim, ax_lim)\n",
    "    ax.set_zlim(-ax_lim, ax_lim)"
   ]
  },
  {
   "cell_type": "code",
   "execution_count": null,
   "metadata": {},
   "outputs": [],
   "source": [
    "# pcd = pcd - np.mean(pcd,2)"
   ]
  },
  {
   "cell_type": "code",
   "execution_count": null,
   "metadata": {},
   "outputs": [],
   "source": [
    "vox2mm = 0.05\n",
    "fig = plt.figure(figsize=(15,6))\n",
    "showpoints(fig.add_subplot(1, 1, 1,\n",
    "                        projection='3d'), 15, 35, (pcd.transpose()*vox2mm))"
   ]
  },
  {
   "cell_type": "code",
   "execution_count": null,
   "metadata": {},
   "outputs": [],
   "source": [
    "np.expand_dims(np.repeat(1,pcd.shape[0]), axis = 1).shape"
   ]
  },
  {
   "cell_type": "code",
   "execution_count": null,
   "metadata": {},
   "outputs": [],
   "source": [
    "pcd2 = "
   ]
  },
  {
   "cell_type": "code",
   "execution_count": null,
   "metadata": {},
   "outputs": [],
   "source": [
    "pcd.shape"
   ]
  },
  {
   "cell_type": "code",
   "execution_count": null,
   "metadata": {},
   "outputs": [],
   "source": [
    "pcd2.shape"
   ]
  },
  {
   "cell_type": "code",
   "execution_count": null,
   "metadata": {},
   "outputs": [],
   "source": [
    "# prmat00 = np.zeros([4,4])\n",
    "# prmat00[:,:3] = prmat0[:,:3]\n",
    "# prmat00[:,3] = [0,0,0,1]\n",
    "img0 = np.asarray(io.imread('D:/cherepashkin1/phenoseed/598/1484717/1491988/rotation_000.tif'))\n",
    "prmat00 = prmat0\n",
    "pcd0 = np.concatenate((pcd, np.expand_dims(np.repeat(1,pcd.shape[0]), axis = 1)), axis=1)\n",
    "pcd1 = np.matmul(pcd0,prmat00)\n",
    "pcd2 = pcd1/np.repeat(np.expand_dims(pcd1[:,3], axis=1), 4, axis = 1)\n",
    "vox2mm = 1\n",
    "\n",
    "pcd3 = pcd2 - np.mean(pcd2,axis=0)\n",
    "pcd3 = pcd3.transpose()\n",
    "# print(pcd3.shape)\n",
    "pcd3 = pcd3[:,::4]\n",
    "# print(pcd3[:2,:].shape)\n",
    "fig = plt.figure(figsize=(15,6))\n",
    "ax = fig.add_subplot(1, 2, 1)\n",
    "ax.scatter(pcd3[0,:],-pcd3[1,:], s=10)\n",
    "_ = ax.axis('off')\n",
    "ax = fig.add_subplot(1, 2, 2)\n",
    "ax.imshow(255-img0, cmap='Greys')\n",
    "_ = ax.axis('off')\n",
    "plt.savefig('back_projection.png')\n",
    "plt.close(fig)\n",
    "# fig = plt.figure(figsize=(15,6))\n",
    "# ax = fig.add_subplot(1, 1, 1,\n",
    "#                         projection='3d')\n",
    "# print(pcd3.shape)\n",
    "# pcd3 -= np.repeat(np.expand_dims(np.mean(pcd3,axis=1), axis=0), pcd3.shape[1])\n",
    "# print(np.repeat(np.expand_dims(np.mean(pcd3,axis=1), axis=0), pcd3.shape[1]).shape)\n",
    "# print(np.mean(pcd3,axis=1).shape)\n",
    "\n",
    "# ax.scatter(pcd3[0,:],pcd3[1,:],pcd3[2,:], marker='o', s=10, c=\"r\", alpha=0.6)\n",
    "# ax.view_init(elev=270, azim=270)\n",
    "# ax_lim = 300*vox2mm\n",
    "# ax.set_xlim(-ax_lim, ax_lim)\n",
    "# ax.set_ylim(-ax_lim, ax_lim)\n",
    "# ax.set_zlim(-ax_lim, ax_lim)\n",
    "\n",
    "# pcd3 = o3d.geometry.PointCloud()\n",
    "# pcd3.points = o3d.utility.Vector3dVector(pcd2[:,:3])\n",
    "# o3d.visualization.draw_geometries([pcd3])"
   ]
  },
  {
   "cell_type": "code",
   "execution_count": null,
   "metadata": {},
   "outputs": [],
   "source": [
    "plt.plot(np.zeros([5]))\n",
    "plt.savefig('zeros.png')"
   ]
  },
  {
   "cell_type": "code",
   "execution_count": null,
   "metadata": {},
   "outputs": [],
   "source": [
    "fig= plt.figure()\n",
    "plt.plot(range(10))\n",
    "fig.savefig(\"save_file_name.pdf\")\n",
    "plt.close()"
   ]
  },
  {
   "cell_type": "code",
   "execution_count": null,
   "metadata": {},
   "outputs": [],
   "source": [
    "pcd3"
   ]
  },
  {
   "cell_type": "code",
   "execution_count": null,
   "metadata": {},
   "outputs": [],
   "source": [
    "pcd2.shape"
   ]
  },
  {
   "cell_type": "code",
   "execution_count": null,
   "metadata": {},
   "outputs": [],
   "source": [
    "pcd3 = pcd2 - np.mean(pcd2,axis=0)"
   ]
  },
  {
   "cell_type": "code",
   "execution_count": null,
   "metadata": {},
   "outputs": [],
   "source": [
    "pcd0.shape"
   ]
  },
  {
   "cell_type": "code",
   "execution_count": null,
   "metadata": {},
   "outputs": [],
   "source": []
  },
  {
   "cell_type": "code",
   "execution_count": null,
   "metadata": {},
   "outputs": [],
   "source": [
    "np.repeat(np.expand_dims(pcd1[:,3], axis=1), 4, axis = 1).shape"
   ]
  },
  {
   "cell_type": "code",
   "execution_count": null,
   "metadata": {},
   "outputs": [],
   "source": []
  },
  {
   "cell_type": "code",
   "execution_count": null,
   "metadata": {},
   "outputs": [],
   "source": [
    "pcd2.shape"
   ]
  },
  {
   "cell_type": "code",
   "execution_count": null,
   "metadata": {},
   "outputs": [],
   "source": []
  },
  {
   "cell_type": "code",
   "execution_count": null,
   "metadata": {},
   "outputs": [],
   "source": [
    "pcd3 = o3d.geometry.PointCloud()\n",
    "pcd3.points = o3d.utility.Vector3dVector(pcd)\n",
    "# pcd3.colors = o3d.utility.Vector3dVector(colors/65535)\n",
    "# pcd3.normals = o3d.utility.Vector3dVector(normals)\n",
    "o3d.visualization.draw_geometries([pcd3])"
   ]
  },
  {
   "cell_type": "code",
   "execution_count": null,
   "metadata": {},
   "outputs": [],
   "source": [
    "cip=[]\n",
    "for phasecnt, phase in enumerate(['train', 'val']):\n",
    "    cip.append(phase)"
   ]
  },
  {
   "cell_type": "code",
   "execution_count": null,
   "metadata": {},
   "outputs": [],
   "source": [
    "cip"
   ]
  },
  {
   "cell_type": "code",
   "execution_count": null,
   "metadata": {},
   "outputs": [],
   "source": [
    "cip[-1]"
   ]
  },
  {
   "cell_type": "code",
   "execution_count": null,
   "metadata": {},
   "outputs": [],
   "source": []
  },
  {
   "cell_type": "code",
   "execution_count": null,
   "metadata": {},
   "outputs": [],
   "source": []
  }
 ],
 "metadata": {
  "kernelspec": {
   "display_name": "Python 3",
   "language": "python",
   "name": "python3"
  },
  "language_info": {
   "codemirror_mode": {
    "name": "ipython",
    "version": 3
   },
   "file_extension": ".py",
   "mimetype": "text/x-python",
   "name": "python",
   "nbconvert_exporter": "python",
   "pygments_lexer": "ipython3",
   "version": "3.8.5"
  }
 },
 "nbformat": 4,
 "nbformat_minor": 4
}
