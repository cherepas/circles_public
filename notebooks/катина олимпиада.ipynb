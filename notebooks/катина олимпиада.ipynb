{
 "cells": [
  {
   "cell_type": "code",
   "execution_count": 1,
   "metadata": {},
   "outputs": [],
   "source": [
    "import numpy as np"
   ]
  },
  {
   "cell_type": "code",
   "execution_count": 2,
   "metadata": {},
   "outputs": [],
   "source": [
    "a = np.zeros(4500)"
   ]
  },
  {
   "cell_type": "code",
   "execution_count": 4,
   "metadata": {},
   "outputs": [
    {
     "data": {
      "text/plain": [
       "(3, 3, 500)"
      ]
     },
     "execution_count": 4,
     "metadata": {},
     "output_type": "execute_result"
    }
   ],
   "source": [
    "a.reshape(-1,3,500).shape"
   ]
  },
  {
   "cell_type": "code",
   "execution_count": 2,
   "metadata": {},
   "outputs": [],
   "source": [
    "pcd = np.zeros(500)"
   ]
  },
  {
   "cell_type": "code",
   "execution_count": 3,
   "metadata": {},
   "outputs": [
    {
     "ename": "AxisError",
     "evalue": "axis 1 is out of bounds for array of dimension 1",
     "output_type": "error",
     "traceback": [
      "\u001b[1;31m---------------------------------------------------------------------------\u001b[0m",
      "\u001b[1;31mAxisError\u001b[0m                                 Traceback (most recent call last)",
      "\u001b[1;32m<ipython-input-3-bae32c889300>\u001b[0m in \u001b[0;36m<module>\u001b[1;34m\u001b[0m\n\u001b[1;32m----> 1\u001b[1;33m pcd0 = np.concatenate((pcd, np.expand_dims(np.repeat(1,\n\u001b[0m\u001b[0;32m      2\u001b[0m     pcd.shape[0]), axis = 1)), axis=1)\n",
      "\u001b[1;32m<__array_function__ internals>\u001b[0m in \u001b[0;36mconcatenate\u001b[1;34m(*args, **kwargs)\u001b[0m\n",
      "\u001b[1;31mAxisError\u001b[0m: axis 1 is out of bounds for array of dimension 1"
     ]
    }
   ],
   "source": [
    "pcd0 = np.concatenate((pcd, np.expand_dims(np.repeat(1,\n",
    "    pcd.shape[0]), axis = 1)), axis=1)"
   ]
  },
  {
   "cell_type": "code",
   "execution_count": 13,
   "metadata": {},
   "outputs": [
    {
     "data": {
      "text/plain": [
       "False"
      ]
     },
     "execution_count": 13,
     "metadata": {},
     "output_type": "execute_result"
    }
   ],
   "source": [
    "isinstance(t,np.ndarray)"
   ]
  },
  {
   "cell_type": "code",
   "execution_count": 11,
   "metadata": {},
   "outputs": [
    {
     "data": {
      "text/plain": [
       "True"
      ]
     },
     "execution_count": 11,
     "metadata": {},
     "output_type": "execute_result"
    }
   ],
   "source": [
    "isinstance(t,torch.Tensor)"
   ]
  },
  {
   "cell_type": "code",
   "execution_count": 10,
   "metadata": {},
   "outputs": [],
   "source": [
    "t = t.cuda()"
   ]
  },
  {
   "cell_type": "code",
   "execution_count": 8,
   "metadata": {},
   "outputs": [],
   "source": [
    "import torch\n",
    "t = torch.zeros(1)"
   ]
  },
  {
   "cell_type": "code",
   "execution_count": 15,
   "metadata": {},
   "outputs": [],
   "source": [
    "from inspect import currentframe, getframeinfo\n"
   ]
  },
  {
   "cell_type": "code",
   "execution_count": 19,
   "metadata": {},
   "outputs": [],
   "source": [
    "pass\n",
    "def gf():\n",
    "    exec(\"return(getframeinfo(currentframe()).filename, getframeinfo(currentframe()).lineno)\")"
   ]
  },
  {
   "cell_type": "code",
   "execution_count": 23,
   "metadata": {},
   "outputs": [
    {
     "name": "stdout",
     "output_type": "stream",
     "text": [
      "<string> 1\n",
      "None\n",
      "<string> 1\n"
     ]
    }
   ],
   "source": [
    "print(gf())\n",
    "pass\n",
    "gf()"
   ]
  },
  {
   "cell_type": "code",
   "execution_count": null,
   "metadata": {},
   "outputs": [],
   "source": [
    "def printn(var):\n",
    "    print(exec('var'))"
   ]
  },
  {
   "cell_type": "code",
   "execution_count": 29,
   "metadata": {},
   "outputs": [],
   "source": [
    "s = 0\n",
    "for i in range(100,1000):\n",
    "    f = True\n",
    "    for j in range(3):\n",
    "        d = i // 10**j % 10\n",
    "        if d == 0 or d== 9:\n",
    "            f = False\n",
    "    if f:\n",
    "        \n",
    "        s += i"
   ]
  },
  {
   "cell_type": "code",
   "execution_count": 66,
   "metadata": {},
   "outputs": [
    {
     "name": "stdout",
     "output_type": "stream",
     "text": [
      "255744\n"
     ]
    }
   ],
   "source": [
    "s = 0\n",
    "for i in range(100,1000):\n",
    "#     print(i // 10**3 % 10)\n",
    "    if not any([i // 10**j % 10 == 0 or i // 10**j % 10 == 9 for j in range(3)]):\n",
    "#         print(i)\n",
    "        s+=i\n",
    "print(s)"
   ]
  },
  {
   "cell_type": "code",
   "execution_count": 67,
   "metadata": {},
   "outputs": [
    {
     "name": "stdout",
     "output_type": "stream",
     "text": [
      "238806\n"
     ]
    }
   ],
   "source": [
    "s = 0\n",
    "for i in range(100,1000):\n",
    "#     print(i // 10**3 % 10)\n",
    "    if any([i // 10**j % 10 == 0 or i // 10**j % 10 == 9 for j in range(3)]):\n",
    "#         print(i)\n",
    "        s+=i\n",
    "print(s)"
   ]
  },
  {
   "cell_type": "code",
   "execution_count": null,
   "metadata": {},
   "outputs": [],
   "source": []
  },
  {
   "cell_type": "markdown",
   "metadata": {},
   "source": [
    "# 9AB"
   ]
  },
  {
   "cell_type": "code",
   "execution_count": null,
   "metadata": {},
   "outputs": [],
   "source": []
  },
  {
   "cell_type": "code",
   "execution_count": 57,
   "metadata": {},
   "outputs": [
    {
     "name": "stdout",
     "output_type": "stream",
     "text": [
      "94950\n"
     ]
    }
   ],
   "source": [
    "s = 0\n",
    "for i in range(100,1000):\n",
    "#     print(i // 10**3 % 10)\n",
    "    if i // 10**2 % 10 == 9:\n",
    "#         print(i)\n",
    "        s+=i\n",
    "print(s)"
   ]
  },
  {
   "cell_type": "markdown",
   "metadata": {},
   "source": [
    "# A0B"
   ]
  },
  {
   "cell_type": "code",
   "execution_count": 59,
   "metadata": {},
   "outputs": [
    {
     "name": "stdout",
     "output_type": "stream",
     "text": [
      "36360\n"
     ]
    }
   ],
   "source": [
    "s = 0\n",
    "for i in range(100,1000):\n",
    "#     print(i // 10**3 % 10)\n",
    "    if i // 10**1 % 10 == 0 and i // 10**2 % 10 != 9:\n",
    "#         print(i)\n",
    "        s+=i\n",
    "print(s)"
   ]
  },
  {
   "cell_type": "markdown",
   "metadata": {},
   "source": [
    "# A9B"
   ]
  },
  {
   "cell_type": "code",
   "execution_count": 60,
   "metadata": {},
   "outputs": [
    {
     "name": "stdout",
     "output_type": "stream",
     "text": [
      "43560\n"
     ]
    }
   ],
   "source": [
    "s = 0\n",
    "for i in range(100,1000):\n",
    "#     print(i // 10**3 % 10)\n",
    "    if i // 10**1 % 10 == 9 and i // 10**2 % 10 != 9:\n",
    "#         print(i)\n",
    "        s+=i\n",
    "print(s)"
   ]
  },
  {
   "cell_type": "markdown",
   "metadata": {},
   "source": [
    "# AB0"
   ]
  },
  {
   "cell_type": "code",
   "execution_count": 62,
   "metadata": {},
   "outputs": [
    {
     "name": "stdout",
     "output_type": "stream",
     "text": [
      "31680\n"
     ]
    }
   ],
   "source": [
    "s = 0\n",
    "for i in range(100,1000):\n",
    "#     print(i // 10**3 % 10)\n",
    "    if all([i // 10**0 % 10 == 0, i // 10**2 % 10 != 9, i // 10**1 % 10 != 9, i // 10**1 % 10 != 0]):\n",
    "#         print(i)\n",
    "        s+=i\n",
    "print(s)"
   ]
  },
  {
   "cell_type": "markdown",
   "metadata": {},
   "source": [
    "# AB9"
   ]
  },
  {
   "cell_type": "code",
   "execution_count": 63,
   "metadata": {},
   "outputs": [
    {
     "name": "stdout",
     "output_type": "stream",
     "text": [
      "32256\n"
     ]
    }
   ],
   "source": [
    "s = 0\n",
    "for i in range(100,1000):\n",
    "#     print(i // 10**3 % 10)\n",
    "    if all([i // 10**0 % 10 == 9, i // 10**2 % 10 != 9, i // 10**1 % 10 != 9, i // 10**1 % 10 != 0]):\n",
    "#         print(i)\n",
    "        s+=i\n",
    "print(s)"
   ]
  },
  {
   "cell_type": "code",
   "execution_count": 51,
   "metadata": {},
   "outputs": [
    {
     "data": {
      "text/plain": [
       "255744"
      ]
     },
     "execution_count": 51,
     "metadata": {},
     "output_type": "execute_result"
    }
   ],
   "source": [
    "s"
   ]
  },
  {
   "cell_type": "code",
   "execution_count": 35,
   "metadata": {},
   "outputs": [],
   "source": [
    "s = 0\n",
    "for i in range(100,1000):\n",
    "    s+= i"
   ]
  },
  {
   "cell_type": "code",
   "execution_count": 37,
   "metadata": {},
   "outputs": [
    {
     "data": {
      "text/plain": [
       "494550"
      ]
     },
     "execution_count": 37,
     "metadata": {},
     "output_type": "execute_result"
    }
   ],
   "source": [
    "s"
   ]
  },
  {
   "cell_type": "code",
   "execution_count": null,
   "metadata": {},
   "outputs": [],
   "source": [
    "a = [2,5,8,3,6,9,12,15,10]"
   ]
  },
  {
   "cell_type": "code",
   "execution_count": 42,
   "metadata": {},
   "outputs": [
    {
     "name": "stdout",
     "output_type": "stream",
     "text": [
      "3\n",
      "4\n",
      "6\n",
      "7\n",
      "8\n",
      "9\n",
      "11\n",
      "12\n",
      "14\n",
      "15\n",
      "16\n",
      "17\n",
      "19\n",
      "20\n",
      "22\n",
      "23\n",
      "24\n",
      "25\n",
      "27\n",
      "28\n",
      "30\n",
      "31\n",
      "32\n",
      "33\n",
      "35\n",
      "36\n",
      "38\n",
      "39\n",
      "40\n",
      "41\n",
      "43\n",
      "44\n",
      "46\n",
      "47\n",
      "48\n",
      "49\n",
      "51\n",
      "52\n",
      "54\n",
      "55\n",
      "56\n",
      "57\n",
      "59\n",
      "60\n",
      "62\n",
      "63\n",
      "64\n",
      "65\n",
      "67\n",
      "68\n",
      "70\n",
      "71\n",
      "72\n",
      "73\n",
      "75\n",
      "76\n",
      "78\n",
      "79\n",
      "80\n",
      "81\n",
      "83\n",
      "84\n",
      "86\n",
      "87\n",
      "88\n",
      "89\n",
      "91\n",
      "92\n",
      "94\n",
      "95\n",
      "96\n",
      "97\n",
      "99\n",
      "100\n",
      "102\n",
      "103\n",
      "104\n",
      "105\n",
      "107\n",
      "108\n",
      "110\n",
      "111\n",
      "112\n",
      "113\n",
      "115\n",
      "116\n",
      "118\n",
      "119\n",
      "120\n",
      "121\n",
      "123\n",
      "124\n",
      "126\n",
      "127\n",
      "128\n",
      "129\n",
      "131\n",
      "132\n",
      "134\n",
      "135\n",
      "136\n",
      "137\n",
      "139\n",
      "140\n",
      "142\n",
      "143\n",
      "144\n",
      "145\n",
      "147\n",
      "148\n",
      "150\n",
      "151\n",
      "152\n",
      "153\n",
      "155\n",
      "156\n",
      "158\n",
      "159\n",
      "160\n",
      "161\n",
      "163\n",
      "164\n",
      "166\n",
      "167\n",
      "168\n",
      "169\n",
      "171\n",
      "172\n",
      "174\n",
      "175\n",
      "176\n",
      "177\n",
      "179\n",
      "180\n",
      "182\n",
      "183\n",
      "184\n",
      "185\n",
      "187\n",
      "188\n",
      "190\n",
      "191\n",
      "192\n",
      "193\n",
      "195\n",
      "196\n",
      "198\n",
      "199\n",
      "200\n",
      "201\n",
      "203\n"
     ]
    }
   ],
   "source": [
    "for i in range(201):\n",
    "    if any([i%8 == j for j in [0,1,3,4,5,6]]):\n",
    "        print(i+3)\n",
    "    \n",
    "#     lt.append()"
   ]
  },
  {
   "cell_type": "code",
   "execution_count": 42,
   "metadata": {},
   "outputs": [
    {
     "name": "stdout",
     "output_type": "stream",
     "text": [
      "3\n",
      "4\n",
      "6\n",
      "7\n",
      "8\n",
      "9\n",
      "11\n",
      "12\n",
      "14\n",
      "15\n",
      "16\n",
      "17\n",
      "19\n",
      "20\n",
      "22\n",
      "23\n",
      "24\n",
      "25\n",
      "27\n",
      "28\n",
      "30\n",
      "31\n",
      "32\n",
      "33\n",
      "35\n",
      "36\n",
      "38\n",
      "39\n",
      "40\n",
      "41\n",
      "43\n",
      "44\n",
      "46\n",
      "47\n",
      "48\n",
      "49\n",
      "51\n",
      "52\n",
      "54\n",
      "55\n",
      "56\n",
      "57\n",
      "59\n",
      "60\n",
      "62\n",
      "63\n",
      "64\n",
      "65\n",
      "67\n",
      "68\n",
      "70\n",
      "71\n",
      "72\n",
      "73\n",
      "75\n",
      "76\n",
      "78\n",
      "79\n",
      "80\n",
      "81\n",
      "83\n",
      "84\n",
      "86\n",
      "87\n",
      "88\n",
      "89\n",
      "91\n",
      "92\n",
      "94\n",
      "95\n",
      "96\n",
      "97\n",
      "99\n",
      "100\n",
      "102\n",
      "103\n",
      "104\n",
      "105\n",
      "107\n",
      "108\n",
      "110\n",
      "111\n",
      "112\n",
      "113\n",
      "115\n",
      "116\n",
      "118\n",
      "119\n",
      "120\n",
      "121\n",
      "123\n",
      "124\n",
      "126\n",
      "127\n",
      "128\n",
      "129\n",
      "131\n",
      "132\n",
      "134\n",
      "135\n",
      "136\n",
      "137\n",
      "139\n",
      "140\n",
      "142\n",
      "143\n",
      "144\n",
      "145\n",
      "147\n",
      "148\n",
      "150\n",
      "151\n",
      "152\n",
      "153\n",
      "155\n",
      "156\n",
      "158\n",
      "159\n",
      "160\n",
      "161\n",
      "163\n",
      "164\n",
      "166\n",
      "167\n",
      "168\n",
      "169\n",
      "171\n",
      "172\n",
      "174\n",
      "175\n",
      "176\n",
      "177\n",
      "179\n",
      "180\n",
      "182\n",
      "183\n",
      "184\n",
      "185\n",
      "187\n",
      "188\n",
      "190\n",
      "191\n",
      "192\n",
      "193\n",
      "195\n",
      "196\n",
      "198\n",
      "199\n",
      "200\n",
      "201\n",
      "203\n"
     ]
    }
   ],
   "source": [
    "for i in range(201):\n",
    "    if any([i%8 == j for j in [0,1,3,4,5,6]]):\n",
    "        print(i+3)\n",
    "    \n",
    "#     lt.append()"
   ]
  },
  {
   "cell_type": "code",
   "execution_count": null,
   "metadata": {},
   "outputs": [],
   "source": [
    "for i in range(100,1000):\n",
    "    print(i)"
   ]
  },
  {
   "cell_type": "code",
   "execution_count": 32,
   "metadata": {},
   "outputs": [
    {
     "data": {
      "text/plain": [
       "494550"
      ]
     },
     "execution_count": 32,
     "metadata": {},
     "output_type": "execute_result"
    }
   ],
   "source": [
    "s"
   ]
  },
  {
   "cell_type": "code",
   "execution_count": 33,
   "metadata": {},
   "outputs": [
    {
     "data": {
      "text/plain": [
       "238806"
      ]
     },
     "execution_count": 33,
     "metadata": {},
     "output_type": "execute_result"
    }
   ],
   "source": [
    "494550-255744"
   ]
  },
  {
   "cell_type": "code",
   "execution_count": 68,
   "metadata": {},
   "outputs": [],
   "source": [
    "import torch"
   ]
  },
  {
   "cell_type": "code",
   "execution_count": 70,
   "metadata": {},
   "outputs": [],
   "source": [
    "a = torch.zeros(2,1500)"
   ]
  },
  {
   "cell_type": "code",
   "execution_count": 73,
   "metadata": {},
   "outputs": [
    {
     "data": {
      "text/plain": [
       "torch.Size([2, 3, 500])"
      ]
     },
     "execution_count": 73,
     "metadata": {},
     "output_type": "execute_result"
    }
   ],
   "source": [
    "torch.normtorch.reshape(a,(-1,3,500)).shape"
   ]
  },
  {
   "cell_type": "code",
   "execution_count": 74,
   "metadata": {},
   "outputs": [
    {
     "data": {
      "text/plain": [
       "100100"
      ]
     },
     "execution_count": 74,
     "metadata": {},
     "output_type": "execute_result"
    }
   ],
   "source": [
    "100_100"
   ]
  },
  {
   "cell_type": "code",
   "execution_count": 84,
   "metadata": {},
   "outputs": [
    {
     "name": "stdout",
     "output_type": "stream",
     "text": [
      "loss = 353.35\n"
     ]
    }
   ],
   "source": [
    "print('loss = {:.2f}'.format(353.3521323432))"
   ]
  },
  {
   "cell_type": "code",
   "execution_count": null,
   "metadata": {},
   "outputs": [],
   "source": []
  }
 ],
 "metadata": {
  "kernelspec": {
   "display_name": "Python 3",
   "language": "python",
   "name": "python3"
  },
  "language_info": {
   "codemirror_mode": {
    "name": "ipython",
    "version": 3
   },
   "file_extension": ".py",
   "mimetype": "text/x-python",
   "name": "python",
   "nbconvert_exporter": "python",
   "pygments_lexer": "ipython3",
   "version": "3.8.5"
  }
 },
 "nbformat": 4,
 "nbformat_minor": 4
}
