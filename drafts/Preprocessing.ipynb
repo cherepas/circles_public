{
 "cells": [
  {
   "cell_type": "code",
   "execution_count": 5,
   "metadata": {
    "scrolled": true
   },
   "outputs": [],
   "source": [
    "def ntime(s):\n",
    "    m = 60\n",
    "    l = [(s/m**2)%24, (s/m)%m, (s)%m]\n",
    "    return([int(x) for x in l])\n",
    "def coco(tl, ni, pt):\n",
    "    sm = sum(tl)\n",
    "    tt = 10*(pt)\n",
    "    if sm > tt: \n",
    "        l = tuple(ntime(np.mean(tl)*ni-sum(tl)))\n",
    "    else: \n",
    "        return([pt,'',''])\n",
    "    if sm > tt and pt%15 != 14:\n",
    "        return([pt+1,str(\"%02d:%02d:%02d,\" % l),''])\n",
    "    elif sm > tt and pt%15 == 14:\n",
    "        return([pt+1,str(\"%02d:%02d:%02d,\" % l),'\\n'])"
   ]
  },
  {
   "cell_type": "code",
   "execution_count": 7,
   "metadata": {},
   "outputs": [],
   "source": [
    "def preproc(ci):\n",
    "    image = depth - iio.imread(ci)\n",
    "#     image[image<30] = 0\n",
    "#     image[image>200] = 1\n",
    "    threshold_value = filters.threshold_otsu(image)\n",
    "    fmask = (image > threshold_value)\n",
    "    nimage = fmask*image\n",
    "#     qmask = ndi.binary_fill_holes(canny(timage/depth,sigma=sg)+frame)\n",
    "#     nimage = (1-frame)*qmask*image\n",
    "    properties = regionprops(fmask.astype(int), nimage)\n",
    "    cms = tuple(map(lambda x: int(x), properties[0].centroid))\n",
    "    pimage = (depth - nimage[cms[0]-nh//2:cms[0]+nh//2,cms[1]-nw//2:cms[1]+nw//2]).astype(np.uint8)\n",
    "    #print('.', end = '')\n",
    "    return(pimage)"
   ]
  },
  {
   "cell_type": "code",
   "execution_count": 14,
   "metadata": {},
   "outputs": [
    {
     "data": {
      "text/plain": [
       "'D:/seva/598prc_processing'"
      ]
     },
     "execution_count": 14,
     "metadata": {},
     "output_type": "execute_result"
    }
   ],
   "source": [
    "def ig_f(dir, files):\n",
    "    return [f for f in files if os.path.isfile(os.path.join(dir, f))]\n",
    "\n",
    "shutil.copytree(src, dst, ignore=ig_f)\n",
    "#shutil.copytree(src, dst)"
   ]
  },
  {
   "cell_type": "code",
   "execution_count": 85,
   "metadata": {},
   "outputs": [
    {
     "ename": "AttributeError",
     "evalue": "'int' object has no attribute 'dtype'",
     "output_type": "error",
     "traceback": [
      "\u001b[1;31m---------------------------------------------------------------------------\u001b[0m",
      "\u001b[1;31mAttributeError\u001b[0m                            Traceback (most recent call last)",
      "\u001b[1;32m<ipython-input-85-f0d342424c13>\u001b[0m in \u001b[0;36m<module>\u001b[1;34m\u001b[0m\n\u001b[0;32m      1\u001b[0m \u001b[0mi\u001b[0m\u001b[1;33m,\u001b[0m \u001b[0mpt\u001b[0m \u001b[1;33m=\u001b[0m \u001b[1;33m[\u001b[0m\u001b[1;36m0\u001b[0m\u001b[1;33m]\u001b[0m\u001b[1;33m*\u001b[0m\u001b[1;36m2\u001b[0m\u001b[1;33m\u001b[0m\u001b[1;33m\u001b[0m\u001b[0m\n\u001b[1;32m----> 2\u001b[1;33m \u001b[0mprint\u001b[0m\u001b[1;33m(\u001b[0m\u001b[0mpt\u001b[0m\u001b[1;33m.\u001b[0m\u001b[0mdtype\u001b[0m\u001b[1;33m)\u001b[0m\u001b[1;33m\u001b[0m\u001b[1;33m\u001b[0m\u001b[0m\n\u001b[0m",
      "\u001b[1;31mAttributeError\u001b[0m: 'int' object has no attribute 'dtype'"
     ]
    }
   ],
   "source": [
    "i, pt = [0]*2\n",
    "print(pt.dtype)"
   ]
  },
  {
   "cell_type": "code",
   "execution_count": 15,
   "metadata": {},
   "outputs": [],
   "source": [
    "frame = np.zeros([ht,wt])\n",
    "frame[ht-1][:] = 1"
   ]
  },
  {
   "cell_type": "markdown",
   "metadata": {},
   "source": [
    "# Remove background and crop relatively to center of mass "
   ]
  },
  {
   "cell_type": "code",
   "execution_count": 150,
   "metadata": {
    "scrolled": true
   },
   "outputs": [
    {
     "name": "stdout",
     "output_type": "stream",
     "text": [
      "00:01:43,00:14:47,00:18:15,00:19:49,00:20:26,00:20:53,00:20:50,"
     ]
    },
    {
     "ename": "KeyboardInterrupt",
     "evalue": "",
     "output_type": "error",
     "traceback": [
      "\u001b[1;31m---------------------------------------------------------------------------\u001b[0m",
      "\u001b[1;31mKeyboardInterrupt\u001b[0m                         Traceback (most recent call last)",
      "\u001b[1;32m<ipython-input-150-958060fc114a>\u001b[0m in \u001b[0;36m<module>\u001b[1;34m\u001b[0m\n\u001b[0;32m     26\u001b[0m             \u001b[1;31m#print(np.sum(depth - ni))\u001b[0m\u001b[1;33m\u001b[0m\u001b[1;33m\u001b[0m\u001b[1;33m\u001b[0m\u001b[0m\n\u001b[0;32m     27\u001b[0m             \u001b[1;31m#ni = preproc(ci)\u001b[0m\u001b[1;33m\u001b[0m\u001b[1;33m\u001b[0m\u001b[1;33m\u001b[0m\u001b[0m\n\u001b[1;32m---> 28\u001b[1;33m             \u001b[0mni\u001b[0m \u001b[1;33m=\u001b[0m \u001b[0mpreproc\u001b[0m\u001b[1;33m(\u001b[0m\u001b[0mci\u001b[0m\u001b[1;33m)\u001b[0m\u001b[1;33m\u001b[0m\u001b[1;33m\u001b[0m\u001b[0m\n\u001b[0m\u001b[0;32m     29\u001b[0m             \u001b[0mci\u001b[0m \u001b[1;33m=\u001b[0m \u001b[0mci\u001b[0m\u001b[1;33m.\u001b[0m\u001b[0mreplace\u001b[0m\u001b[1;33m(\u001b[0m\u001b[1;34m'/598_'\u001b[0m\u001b[1;33m,\u001b[0m\u001b[1;34m'/598prc_'\u001b[0m\u001b[1;33m)\u001b[0m\u001b[1;33m\u001b[0m\u001b[1;33m\u001b[0m\u001b[0m\n\u001b[0;32m     30\u001b[0m             \u001b[0mPIL\u001b[0m\u001b[1;33m.\u001b[0m\u001b[0mImage\u001b[0m\u001b[1;33m.\u001b[0m\u001b[0mfromarray\u001b[0m\u001b[1;33m(\u001b[0m\u001b[0mni\u001b[0m\u001b[1;33m)\u001b[0m\u001b[1;33m.\u001b[0m\u001b[0msave\u001b[0m\u001b[1;33m(\u001b[0m\u001b[0mci\u001b[0m\u001b[1;33m[\u001b[0m\u001b[1;33m:\u001b[0m\u001b[1;33m-\u001b[0m\u001b[1;36m4\u001b[0m\u001b[1;33m]\u001b[0m\u001b[1;33m+\u001b[0m\u001b[1;34m'prc.tif'\u001b[0m\u001b[1;33m)\u001b[0m\u001b[1;33m\u001b[0m\u001b[1;33m\u001b[0m\u001b[0m\n",
      "\u001b[1;32m<ipython-input-61-fa26bd72f0eb>\u001b[0m in \u001b[0;36mpreproc\u001b[1;34m(ci)\u001b[0m\n\u001b[0;32m      8\u001b[0m \u001b[1;31m#     qmask = ndi.binary_fill_holes(canny(timage/depth,sigma=sg)+frame)\u001b[0m\u001b[1;33m\u001b[0m\u001b[1;33m\u001b[0m\u001b[1;33m\u001b[0m\u001b[0m\n\u001b[0;32m      9\u001b[0m \u001b[1;31m#     nimage = (1-frame)*qmask*image\u001b[0m\u001b[1;33m\u001b[0m\u001b[1;33m\u001b[0m\u001b[1;33m\u001b[0m\u001b[0m\n\u001b[1;32m---> 10\u001b[1;33m     \u001b[0mproperties\u001b[0m \u001b[1;33m=\u001b[0m \u001b[0mregionprops\u001b[0m\u001b[1;33m(\u001b[0m\u001b[0mfmask\u001b[0m\u001b[1;33m.\u001b[0m\u001b[0mastype\u001b[0m\u001b[1;33m(\u001b[0m\u001b[0mint\u001b[0m\u001b[1;33m)\u001b[0m\u001b[1;33m,\u001b[0m \u001b[0mnimage\u001b[0m\u001b[1;33m)\u001b[0m\u001b[1;33m\u001b[0m\u001b[1;33m\u001b[0m\u001b[0m\n\u001b[0m\u001b[0;32m     11\u001b[0m     \u001b[0mcms\u001b[0m \u001b[1;33m=\u001b[0m \u001b[0mtuple\u001b[0m\u001b[1;33m(\u001b[0m\u001b[0mmap\u001b[0m\u001b[1;33m(\u001b[0m\u001b[1;32mlambda\u001b[0m \u001b[0mx\u001b[0m\u001b[1;33m:\u001b[0m \u001b[0mint\u001b[0m\u001b[1;33m(\u001b[0m\u001b[0mx\u001b[0m\u001b[1;33m)\u001b[0m\u001b[1;33m,\u001b[0m \u001b[0mproperties\u001b[0m\u001b[1;33m[\u001b[0m\u001b[1;36m0\u001b[0m\u001b[1;33m]\u001b[0m\u001b[1;33m.\u001b[0m\u001b[0mcentroid\u001b[0m\u001b[1;33m)\u001b[0m\u001b[1;33m)\u001b[0m\u001b[1;33m\u001b[0m\u001b[1;33m\u001b[0m\u001b[0m\n\u001b[0;32m     12\u001b[0m     \u001b[0mpimage\u001b[0m \u001b[1;33m=\u001b[0m \u001b[1;33m(\u001b[0m\u001b[0mdepth\u001b[0m \u001b[1;33m-\u001b[0m \u001b[0mnimage\u001b[0m\u001b[1;33m[\u001b[0m\u001b[0mcms\u001b[0m\u001b[1;33m[\u001b[0m\u001b[1;36m0\u001b[0m\u001b[1;33m]\u001b[0m\u001b[1;33m-\u001b[0m\u001b[0mnh\u001b[0m\u001b[1;33m//\u001b[0m\u001b[1;36m2\u001b[0m\u001b[1;33m:\u001b[0m\u001b[0mcms\u001b[0m\u001b[1;33m[\u001b[0m\u001b[1;36m0\u001b[0m\u001b[1;33m]\u001b[0m\u001b[1;33m+\u001b[0m\u001b[0mnh\u001b[0m\u001b[1;33m//\u001b[0m\u001b[1;36m2\u001b[0m\u001b[1;33m,\u001b[0m\u001b[0mcms\u001b[0m\u001b[1;33m[\u001b[0m\u001b[1;36m1\u001b[0m\u001b[1;33m]\u001b[0m\u001b[1;33m-\u001b[0m\u001b[0mnw\u001b[0m\u001b[1;33m//\u001b[0m\u001b[1;36m2\u001b[0m\u001b[1;33m:\u001b[0m\u001b[0mcms\u001b[0m\u001b[1;33m[\u001b[0m\u001b[1;36m1\u001b[0m\u001b[1;33m]\u001b[0m\u001b[1;33m+\u001b[0m\u001b[0mnw\u001b[0m\u001b[1;33m//\u001b[0m\u001b[1;36m2\u001b[0m\u001b[1;33m]\u001b[0m\u001b[1;33m)\u001b[0m\u001b[1;33m.\u001b[0m\u001b[0mastype\u001b[0m\u001b[1;33m(\u001b[0m\u001b[0mnp\u001b[0m\u001b[1;33m.\u001b[0m\u001b[0muint8\u001b[0m\u001b[1;33m)\u001b[0m\u001b[1;33m\u001b[0m\u001b[1;33m\u001b[0m\u001b[0m\n",
      "\u001b[1;32m~\\Anaconda3\\envs\\shreg\\lib\\site-packages\\skimage\\measure\\_regionprops.py\u001b[0m in \u001b[0;36mregionprops\u001b[1;34m(label_image, intensity_image, cache, coordinates)\u001b[0m\n\u001b[0;32m    883\u001b[0m     \u001b[0mregions\u001b[0m \u001b[1;33m=\u001b[0m \u001b[1;33m[\u001b[0m\u001b[1;33m]\u001b[0m\u001b[1;33m\u001b[0m\u001b[1;33m\u001b[0m\u001b[0m\n\u001b[0;32m    884\u001b[0m \u001b[1;33m\u001b[0m\u001b[0m\n\u001b[1;32m--> 885\u001b[1;33m     \u001b[0mobjects\u001b[0m \u001b[1;33m=\u001b[0m \u001b[0mndi\u001b[0m\u001b[1;33m.\u001b[0m\u001b[0mfind_objects\u001b[0m\u001b[1;33m(\u001b[0m\u001b[0mlabel_image\u001b[0m\u001b[1;33m)\u001b[0m\u001b[1;33m\u001b[0m\u001b[1;33m\u001b[0m\u001b[0m\n\u001b[0m\u001b[0;32m    886\u001b[0m     \u001b[1;32mfor\u001b[0m \u001b[0mi\u001b[0m\u001b[1;33m,\u001b[0m \u001b[0msl\u001b[0m \u001b[1;32min\u001b[0m \u001b[0menumerate\u001b[0m\u001b[1;33m(\u001b[0m\u001b[0mobjects\u001b[0m\u001b[1;33m)\u001b[0m\u001b[1;33m:\u001b[0m\u001b[1;33m\u001b[0m\u001b[1;33m\u001b[0m\u001b[0m\n\u001b[0;32m    887\u001b[0m         \u001b[1;32mif\u001b[0m \u001b[0msl\u001b[0m \u001b[1;32mis\u001b[0m \u001b[1;32mNone\u001b[0m\u001b[1;33m:\u001b[0m\u001b[1;33m\u001b[0m\u001b[1;33m\u001b[0m\u001b[0m\n",
      "\u001b[1;32m~\\Anaconda3\\envs\\shreg\\lib\\site-packages\\scipy\\ndimage\\measurements.py\u001b[0m in \u001b[0;36mfind_objects\u001b[1;34m(input, max_label)\u001b[0m\n\u001b[0;32m    301\u001b[0m         \u001b[0mmax_label\u001b[0m \u001b[1;33m=\u001b[0m \u001b[0minput\u001b[0m\u001b[1;33m.\u001b[0m\u001b[0mmax\u001b[0m\u001b[1;33m(\u001b[0m\u001b[1;33m)\u001b[0m\u001b[1;33m\u001b[0m\u001b[1;33m\u001b[0m\u001b[0m\n\u001b[0;32m    302\u001b[0m \u001b[1;33m\u001b[0m\u001b[0m\n\u001b[1;32m--> 303\u001b[1;33m     \u001b[1;32mreturn\u001b[0m \u001b[0m_nd_image\u001b[0m\u001b[1;33m.\u001b[0m\u001b[0mfind_objects\u001b[0m\u001b[1;33m(\u001b[0m\u001b[0minput\u001b[0m\u001b[1;33m,\u001b[0m \u001b[0mmax_label\u001b[0m\u001b[1;33m)\u001b[0m\u001b[1;33m\u001b[0m\u001b[1;33m\u001b[0m\u001b[0m\n\u001b[0m\u001b[0;32m    304\u001b[0m \u001b[1;33m\u001b[0m\u001b[0m\n\u001b[0;32m    305\u001b[0m \u001b[1;33m\u001b[0m\u001b[0m\n",
      "\u001b[1;31mKeyboardInterrupt\u001b[0m: "
     ]
    }
   ],
   "source": [
    "ds = []\n",
    "tl = []\n",
    "i, pt = [0]*2\n",
    "numim = len([x[0] for x in os.walk(src)])\n",
    "for root, directories, filenames in os.walk(src):\n",
    "    start = time.time()\n",
    "    #print(directories)\n",
    "    if ds == []:\n",
    "        ds = directories\n",
    "    for filename in filenames:  \n",
    "        fp = os.path.join(root,filename)\n",
    "        if filename[-5:] == '0.tif':\n",
    "            ci = os.path.join(root,filename)\n",
    "            #print(ci)\n",
    "# #             sg = 3.5\n",
    "#             ii = 0\n",
    "# #             #ni = preproc(ci,printg)\n",
    "#             #tf = 5\n",
    "#             sg = 4\n",
    "#             while ii < 1e6: \n",
    "#                 #tf += 10\n",
    "#                 ni = preproc(ci,sg)\n",
    "#                 ii = np.sum(depth - ni)\n",
    "#                 sg += 1\n",
    "            #print(sg)\n",
    "            #print(np.sum(depth - ni))\n",
    "            #ni = preproc(ci)\n",
    "            ni = preproc(ci)\n",
    "            ci = ci.replace('/598_','/598prc_')\n",
    "            PIL.Image.fromarray(ni).save(ci[:-4]+'prc.tif')\n",
    "            #print('.', end = '')\n",
    "\n",
    "        elif filename[-7:] == '_20.csv':\n",
    "            shutil.copyfile(os.path.join(root,filename),os.path.join(root,filename).replace('/598_','/598prc_'))\n",
    "        fn = time.time()\n",
    "    i+=1\n",
    "    end = time.time()\n",
    "    tl.append(end-start)\n",
    "    #print(tl)\n",
    "    #print(tl,numim, pt)\n",
    "    col = coco(tl,numim, pt)\n",
    "    pt = col[0]\n",
    "    print(col[1], end = col[2])\n",
    "    #print('|', end = '')\n",
    "#PIL.Image.fromarray(ni).show()"
   ]
  },
  {
   "cell_type": "code",
   "execution_count": 8,
   "metadata": {},
   "outputs": [],
   "source": [
    "tl = [0.0, 0.03490328788757324, 0.16156506538391113]"
   ]
  },
  {
   "cell_type": "markdown",
   "metadata": {},
   "source": [
    "## Subtract trapezoid "
   ]
  },
  {
   "cell_type": "code",
   "execution_count": null,
   "metadata": {},
   "outputs": [],
   "source": [
    "#for x in range(wt):\n",
    "xshift = int(np.mean([695,685,720,695,700,693,685]))\n",
    "tr = np.zeros([ht,wt])\n",
    "a, b, c = np.mean([173,174,177]), np.mean([92,92,91]), np.mean([310,306,319,308,308,314])\n",
    "h = np.sqrt(c**2-((a-b)/2)**2)\n",
    "for x in range(int(h)-20):\n",
    "    tr[x+xshift,int((a-b)/c/2*(h-x))+yshift:int(x*(a-b)/2/h+(a+b)/2)+yshift] = 255\n",
    "tr = depth - tr\n",
    "PIL.Image.fromarray(tr).show()\n",
    "PIL.Image.fromarray(image*tr/depth).show()\n",
    "print(int((a-b)/c/2*(h-y)),int((a-b)/c/2*(h-y)))"
   ]
  },
  {
   "cell_type": "code",
   "execution_count": null,
   "metadata": {},
   "outputs": [],
   "source": []
  }
 ],
 "metadata": {
  "kernelspec": {
   "display_name": "Python 3",
   "language": "python",
   "name": "python3"
  },
  "language_info": {
   "codemirror_mode": {
    "name": "ipython",
    "version": 3
   },
   "file_extension": ".py",
   "mimetype": "text/x-python",
   "name": "python",
   "nbconvert_exporter": "python",
   "pygments_lexer": "ipython3",
   "version": "3.8.5"
  }
 },
 "nbformat": 4,
 "nbformat_minor": 4
}
