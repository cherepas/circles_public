{
 "cells": [
  {
   "cell_type": "code",
   "execution_count": 1,
   "metadata": {},
   "outputs": [],
   "source": [
    "from scipy.spatial import ConvexHull, convex_hull_plot_2d\n",
    "import numpy as np\n",
    "from numpy.linalg import eig, inv\n",
    "import os\n",
    "import pandas as pd"
   ]
  },
  {
   "cell_type": "code",
   "execution_count": 2,
   "metadata": {},
   "outputs": [],
   "source": [
    "def ls_ellipsoid(xx,yy,zz):                                  \n",
    "    #finds best fit ellipsoid. Found at http://www.juddzone.com/ALGORITHMS/least_squares_3D_ellipsoid.html\n",
    "    #least squares fit to a 3D-ellipsoid\n",
    "    #  Ax^2 + By^2 + Cz^2 +  Dxy +  Exz +  Fyz +  Gx +  Hy +  Iz  = 1\n",
    "    #\n",
    "    # Note that sometimes it is expressed as a solution to\n",
    "    #  Ax^2 + By^2 + Cz^2 + 2Dxy + 2Exz + 2Fyz + 2Gx + 2Hy + 2Iz  = 1\n",
    "    # where the last six terms have a factor of 2 in them\n",
    "    # This is in anticipation of forming a matrix with the polynomial coefficients.\n",
    "    # Those terms with factors of 2 are all off diagonal elements.  These contribute\n",
    "    # two terms when multiplied out (symmetric) so would need to be divided by two\n",
    "    \n",
    "    # change xx from vector of length N to Nx1 matrix so we can use hstack\n",
    "    x = xx[:,np.newaxis]\n",
    "    y = yy[:,np.newaxis]\n",
    "    z = zz[:,np.newaxis]\n",
    "    \n",
    "    #  Ax^2 + By^2 + Cz^2 +  Dxy +  Exz +  Fyz +  Gx +  Hy +  Iz = 1\n",
    "    J = np.hstack((x*x,y*y,z*z,x*y,x*z,y*z, x, y, z))\n",
    "    K = np.ones_like(x) #column of ones\n",
    "    \n",
    "    #np.hstack performs a loop over all samples and creates\n",
    "    #a row in J for each x,y,z sample:\n",
    "    # J[ix,0] = x[ix]*x[ix]\n",
    "    # J[ix,1] = y[ix]*y[ix]\n",
    "    # etc.\n",
    "    \n",
    "    JT=J.transpose()\n",
    "    JTJ = np.dot(JT,J)\n",
    "    InvJTJ=np.linalg.inv(JTJ);\n",
    "    ABC= np.dot(InvJTJ, np.dot(JT,K))\n",
    "\n",
    "    # Rearrange, move the 1 to the other side\n",
    "    #  Ax^2 + By^2 + Cz^2 +  Dxy +  Exz +  Fyz +  Gx +  Hy +  Iz - 1 = 0\n",
    "    #    or\n",
    "    #  Ax^2 + By^2 + Cz^2 +  Dxy +  Exz +  Fyz +  Gx +  Hy +  Iz + J = 0\n",
    "    #  where J = -1\n",
    "    eansa=np.append(ABC,-1)\n",
    "\n",
    "    return (eansa)"
   ]
  },
  {
   "cell_type": "code",
   "execution_count": 8,
   "metadata": {},
   "outputs": [],
   "source": [
    "\n",
    "\n",
    "def polyToParams3D(vec,printMe):                             \n",
    "    #gets 3D parameters of an ellipsoid. Found at http://www.juddzone.com/ALGORITHMS/least_squares_3D_ellipsoid.html\n",
    "    # convert the polynomial form of the 3D-ellipsoid to parameters\n",
    "    # center, axes, and transformation matrix\n",
    "    # vec is the vector whose elements are the polynomial\n",
    "    # coefficients A..J\n",
    "    # returns (center, axes, rotation matrix)\n",
    "    \n",
    "    #Algebraic form: X.T * Amat * X --> polynomial form\n",
    "    \n",
    "    if printMe: print('\\npolynomial\\n',vec)\n",
    "    \n",
    "    Amat=np.array(\n",
    "    [\n",
    "    [ vec[0],     vec[3]/2.0, vec[4]/2.0, vec[6]/2.0 ],\n",
    "    [ vec[3]/2.0, vec[1],     vec[5]/2.0, vec[7]/2.0 ],\n",
    "    [ vec[4]/2.0, vec[5]/2.0, vec[2],     vec[8]/2.0 ],\n",
    "    [ vec[6]/2.0, vec[7]/2.0, vec[8]/2.0, vec[9]     ]\n",
    "    ])\n",
    "    \n",
    "    if printMe: print('\\nAlgebraic form of polynomial\\n',Amat)\n",
    "    \n",
    "    #See B.Bartoni, Preprint SMU-HEP-10-14 Multi-dimensional Ellipsoidal Fitting\n",
    "    # equation 20 for the following method for finding the center\n",
    "    A3=Amat[0:3,0:3]\n",
    "    A3inv=inv(A3)\n",
    "    ofs=vec[6:9]/2.0\n",
    "    center=-np.dot(A3inv,ofs)\n",
    "    if printMe: print('\\nCenter at:',center)\n",
    "    \n",
    "    # Center the ellipsoid at the origin\n",
    "    Tofs=np.eye(4)\n",
    "    Tofs[3,0:3]=center\n",
    "    R = np.dot(Tofs,np.dot(Amat,Tofs.T))\n",
    "    if printMe: print('\\nAlgebraic form translated to center\\n',R,'\\n')\n",
    "    \n",
    "    R3=R[0:3,0:3]\n",
    "    R3test=R3/R3[0,0]\n",
    "    # print('normed \\n',R3test)\n",
    "    s1=-R[3, 3]\n",
    "    R3S=R3/s1\n",
    "    (el,ec)=eig(R3S)\n",
    "    \n",
    "    recip=1.0/np.abs(el)\n",
    "    axes=np.sqrt(recip)\n",
    "    if printMe: print('\\nAxes are\\n',axes  ,'\\n')\n",
    "    \n",
    "    inve=inv(ec) #inverse is actually the transpose here\n",
    "    if printMe: print('\\nRotation matrix\\n',inve)\n",
    "    return (center,axes,inve)\n",
    "\n",
    "\n"
   ]
  },
  {
   "cell_type": "code",
   "execution_count": null,
   "metadata": {},
   "outputs": [],
   "source": []
  },
  {
   "cell_type": "code",
   "execution_count": 9,
   "metadata": {},
   "outputs": [],
   "source": [
    "def elcoef(img_name):\n",
    "    #let us assume some definition of x, y and z\n",
    "    #img_name = 'D:/data/seeds/598/val/1484717/1491988_Surface.ply'\n",
    "    img = np.genfromtxt(img_name, skip_header = 7, skip_footer = 1)\n",
    "    x = img[:,0]\n",
    "    y = img[:,1]\n",
    "    z = img[:,2]\n",
    "    print('center of masses', np.mean(img, axis = 0))\n",
    "    #get convex hull\n",
    "    surface  = np.stack((x,y,z), axis=-1)\n",
    "    #surface  = np.stack((conf.x,conf.y,conf.z), axis=-1)\n",
    "    hullV    = ConvexHull(surface)\n",
    "    lH       = len(hullV.vertices)\n",
    "    hull     = np.zeros((lH,3))\n",
    "    for i in range(len(hullV.vertices)):\n",
    "        hull[i] = surface[hullV.vertices[i]]\n",
    "    hull     = np.transpose(hull)         \n",
    "\n",
    "    #fit ellipsoid on convex hull\n",
    "    eansa            = ls_ellipsoid(hull[0],hull[1],hull[2]) #get ellipsoid polynomial coefficients\n",
    "\n",
    "#    print(\"coefficients:\"  , eansa)\n",
    "    center,axes,inve = polyToParams3D(eansa,False)   #get ellipsoid 3D parameters\n",
    "#     print(\"center:\"        , center)\n",
    "#     print(\"axes:\"          , axes)\n",
    "#     print(\"rotationMatrix:\", inve)\n",
    "    return(center,axes,inve)"
   ]
  },
  {
   "cell_type": "code",
   "execution_count": 10,
   "metadata": {},
   "outputs": [
    {
     "name": "stdout",
     "output_type": "stream",
     "text": [
      "center of masses [129.83198685  43.93653293 154.31712995]\n"
     ]
    },
    {
     "ename": "ValueError",
     "evalue": "too many values to unpack (expected 3)",
     "output_type": "error",
     "traceback": [
      "\u001b[1;31m---------------------------------------------------------------------------\u001b[0m",
      "\u001b[1;31mValueError\u001b[0m                                Traceback (most recent call last)",
      "\u001b[1;32m<ipython-input-10-a16b1622c53b>\u001b[0m in \u001b[0;36m<module>\u001b[1;34m\u001b[0m\n\u001b[1;32m----> 1\u001b[1;33m \u001b[0melcoef\u001b[0m\u001b[1;33m(\u001b[0m\u001b[1;34m'D:/seva/598_processing/val/1484717/1491988_Surface.ply'\u001b[0m\u001b[1;33m)\u001b[0m\u001b[1;33m\u001b[0m\u001b[1;33m\u001b[0m\u001b[0m\n\u001b[0m",
      "\u001b[1;32m<ipython-input-9-c8a85c70886f>\u001b[0m in \u001b[0;36melcoef\u001b[1;34m(img_name)\u001b[0m\n\u001b[0;32m     21\u001b[0m \u001b[1;33m\u001b[0m\u001b[0m\n\u001b[0;32m     22\u001b[0m \u001b[1;31m#    print(\"coefficients:\"  , eansa)\u001b[0m\u001b[1;33m\u001b[0m\u001b[1;33m\u001b[0m\u001b[1;33m\u001b[0m\u001b[0m\n\u001b[1;32m---> 23\u001b[1;33m     \u001b[0mcenter\u001b[0m\u001b[1;33m,\u001b[0m\u001b[0maxes\u001b[0m\u001b[1;33m,\u001b[0m\u001b[0minve\u001b[0m \u001b[1;33m=\u001b[0m \u001b[0mpolyToParams3D\u001b[0m\u001b[1;33m(\u001b[0m\u001b[0meansa\u001b[0m\u001b[1;33m,\u001b[0m\u001b[1;32mFalse\u001b[0m\u001b[1;33m)\u001b[0m   \u001b[1;31m#get ellipsoid 3D parameters\u001b[0m\u001b[1;33m\u001b[0m\u001b[1;33m\u001b[0m\u001b[0m\n\u001b[0m\u001b[0;32m     24\u001b[0m \u001b[1;31m#     print(\"center:\"        , center)\u001b[0m\u001b[1;33m\u001b[0m\u001b[1;33m\u001b[0m\u001b[1;33m\u001b[0m\u001b[0m\n\u001b[0;32m     25\u001b[0m \u001b[1;31m#     print(\"axes:\"          , axes)\u001b[0m\u001b[1;33m\u001b[0m\u001b[1;33m\u001b[0m\u001b[1;33m\u001b[0m\u001b[0m\n",
      "\u001b[1;31mValueError\u001b[0m: too many values to unpack (expected 3)"
     ]
    }
   ],
   "source": [
    "elcoef('D:/seva/598_processing/val/1484717/1491988_Surface.ply')"
   ]
  },
  {
   "cell_type": "code",
   "execution_count": 141,
   "metadata": {},
   "outputs": [],
   "source": [
    "mainpath = 'D:/seva/598_processing/val'"
   ]
  },
  {
   "cell_type": "code",
   "execution_count": 142,
   "metadata": {},
   "outputs": [],
   "source": [
    "#if not(os.path.isfile('tmean.csv') and os.path.isfile(mainpath+'/sh.csv')):\n",
    "cip = []\n",
    "for root, directories, filenames in os.walk(mainpath): \n",
    "    for filename in filenames:\n",
    "        if filename[-3:] == 'ply':\n",
    "            cip.append(os.path.join(root,filename))"
   ]
  },
  {
   "cell_type": "code",
   "execution_count": 139,
   "metadata": {},
   "outputs": [
    {
     "data": {
      "text/plain": [
       "4072"
      ]
     },
     "execution_count": 139,
     "metadata": {},
     "output_type": "execute_result"
    }
   ],
   "source": [
    "len(cip)"
   ]
  },
  {
   "cell_type": "code",
   "execution_count": 92,
   "metadata": {},
   "outputs": [
    {
     "data": {
      "text/plain": [
       "5270"
      ]
     },
     "execution_count": 92,
     "metadata": {},
     "output_type": "execute_result"
    }
   ],
   "source": [
    "4072+1198"
   ]
  },
  {
   "cell_type": "code",
   "execution_count": 63,
   "metadata": {},
   "outputs": [],
   "source": [
    "ela = np.zeros((len(cip),10))\n",
    "for i, filename in enumerate(cip):\n",
    "    ela[i] = elcoef(filename)"
   ]
  },
  {
   "cell_type": "code",
   "execution_count": 64,
   "metadata": {},
   "outputs": [],
   "source": [
    "np.savetxt('D:/seva/598_processing/val/ela.csv',ela[:,:9],delimiter=',', newline='\\n')"
   ]
  },
  {
   "cell_type": "code",
   "execution_count": 135,
   "metadata": {},
   "outputs": [
    {
     "name": "stdout",
     "output_type": "stream",
     "text": [
      "1484727\\1493208\n"
     ]
    }
   ],
   "source": [
    "print(cip[0][-27:-12])"
   ]
  },
  {
   "cell_type": "code",
   "execution_count": 143,
   "metadata": {},
   "outputs": [],
   "source": [
    "D_out = 9\n",
    "mainpath = 'D:/seva/598_processing/val'\n",
    "ela = np.genfromtxt(mainpath+'/ela.csv', delimiter=',')\n",
    "landmarks_frame = pd.DataFrame(data=ela,index=range(len(cip)),\\\n",
    "                               columns=['f'+str(i) for i in range(D_out)])\n",
    "landmarks_frame.insert(0, 'file_name', \\\n",
    "                       [cip[i][-27:-12] for i in range(len(cip))])\n",
    "landmarks_frame.to_csv(mainpath+'/el_paramters.csv', index=False)"
   ]
  },
  {
   "cell_type": "code",
   "execution_count": 86,
   "metadata": {},
   "outputs": [],
   "source": [
    "landmarks_frame = pd.read_csv('D:/seva/598_processing/el_parameters.csv')\n",
    "np.array(landmarks_frame.min()[1:])+np.ones(9)"
   ]
  },
  {
   "cell_type": "code",
   "execution_count": 106,
   "metadata": {},
   "outputs": [
    {
     "data": {
      "text/plain": [
       "array([-6.28e-06, -1.62e-05, -5.35e-06, 7.730000000000001e-05,\n",
       "       0.000183897, 0.000125373, 0.018726644, 0.016954233, 0.018678133],\n",
       "      dtype=object)"
      ]
     },
     "execution_count": 106,
     "metadata": {},
     "output_type": "execute_result"
    }
   ],
   "source": [
    "landmarks_frame = pd.read_csv('D:/seva/598_processing/el_parameters.csv')\n",
    "(landmarks_frame.max()[1:]).to_numpy()"
   ]
  },
  {
   "cell_type": "code",
   "execution_count": 42,
   "metadata": {},
   "outputs": [
    {
     "data": {
      "text/plain": [
       "array([[-0.99573311, -0.08936804, -0.02299853],\n",
       "       [-0.08977578,  0.8804802 ,  0.46550501],\n",
       "       [ 0.02135152, -0.46558347,  0.88474638]])"
      ]
     },
     "execution_count": 42,
     "metadata": {},
     "output_type": "execute_result"
    }
   ],
   "source": [
    "elcoef(cip[1])"
   ]
  },
  {
   "cell_type": "code",
   "execution_count": 31,
   "metadata": {},
   "outputs": [],
   "source": [
    "from mpl_toolkits.mplot3d import Axes3D\n",
    "import matplotlib.pyplot as plt\n",
    "import numpy as np"
   ]
  },
  {
   "cell_type": "code",
   "execution_count": 39,
   "metadata": {},
   "outputs": [
    {
     "data": {
      "image/png": "[encoded data removed]",
      "text/plain": [
       "<Figure size 288x288 with 1 Axes>"
      ]
     },
     "metadata": {
      "needs_background": "light"
     },
     "output_type": "display_data"
    }
   ],
   "source": [
    "\n",
    "\n",
    "fig = plt.figure(figsize=plt.figaspect(1))  # Square figure\n",
    "ax = fig.add_subplot(111, projection='3d')\n",
    "\n",
    "#coefs = (69.34982626, 37.77689546, 36.27027196)  # Coefficients in a0/c x**2 + a1/c y**2 + a2/c z**2 = 1 \n",
    "coefs = elcoef(cip[0])\n",
    "# Radii corresponding to the coefficients:\n",
    "rx, ry, rz = 1/np.sqrt(coefs)\n",
    "\n",
    "# Set of all spherical angles:\n",
    "u = np.linspace(0, 2 * np.pi, 100)\n",
    "v = np.linspace(0, np.pi, 100)\n",
    "\n",
    "# Cartesian coordinates that correspond to the spherical angles:\n",
    "# (this is the equation of an ellipsoid):\n",
    "x = rx * np.outer(np.cos(u), np.sin(v))\n",
    "y = ry * np.outer(np.sin(u), np.sin(v))\n",
    "z = rz * np.outer(np.ones_like(u), np.cos(v))\n",
    "\n",
    "# Plot:\n",
    "ax.plot_surface(x, y, z,  rstride=4, cstride=4, color='b')\n",
    "\n",
    "# Adjustment of the axes, so that they all have the same span:\n",
    "max_radius = max(rx, ry, rz)\n",
    "for axis in 'xyz':\n",
    "    getattr(ax, 'set_{}lim'.format(axis))((-max_radius, max_radius))\n",
    "\n",
    "plt.show()"
   ]
  },
  {
   "cell_type": "code",
   "execution_count": 27,
   "metadata": {},
   "outputs": [],
   "source": [
    "labels = np.zeros([len(cip),D_out])\n",
    "for i in range(len(cip)):\n",
    "    labels[i,:] = torch.tensor(np.genfromtxt(cip[i], delimiter='\\n'))\n",
    "tmean = np.zeros([4,D_out])\n",
    "tmean[0,:] = np.mean(labels, axis = 0)\n",
    "tmean[1,:] = np.std(labels, axis = 0)\n",
    "tmean[2,:] = np.min(labels, axis = 0)\n",
    "tmean[3,:] = np.max(labels, axis = 0)\n",
    "numpy.savetxt(\"tmean.csv\", tmean, delimiter=\",\")\n",
    "landmarks_frame = pd.DataFrame(data=labels,index=range(len(cip)),\\\n",
    "                               columns=['f'+str(i) for i in range(D_out)])\n",
    "landmarks_frame.insert(0, 'file_name', \\\n",
    "                       [cip[i][-24:-9] for i in range(len(cip))])\n",
    "landmarks_frame.to_csv(mainpath+'/sh_paramters.csv', index=False)\n",
    "#tmean = np.genfromtxt(\"tmean.csv\", delimiter=',')"
   ]
  },
  {
   "cell_type": "markdown",
   "metadata": {},
   "source": [
    "# find global minimum and maximum of ply coordinates"
   ]
  },
  {
   "cell_type": "code",
   "execution_count": null,
   "metadata": {},
   "outputs": [],
   "source": []
  },
  {
   "cell_type": "code",
   "execution_count": 107,
   "metadata": {},
   "outputs": [],
   "source": [
    "mainpath = 'D:/seva/598_processing/'"
   ]
  },
  {
   "cell_type": "code",
   "execution_count": 108,
   "metadata": {},
   "outputs": [],
   "source": [
    "#if not(os.path.isfile('tmean.csv') and os.path.isfile(mainpath+'/sh.csv')):\n",
    "cip = []\n",
    "for root, directories, filenames in os.walk(mainpath): \n",
    "    for filename in filenames:\n",
    "        if filename[-3:] == 'ply':\n",
    "            cip.append(os.path.join(root,filename))"
   ]
  },
  {
   "cell_type": "code",
   "execution_count": 124,
   "metadata": {},
   "outputs": [
    {
     "data": {
      "text/plain": [
       "5270"
      ]
     },
     "execution_count": 124,
     "metadata": {},
     "output_type": "execute_result"
    }
   ],
   "source": [
    "len(cip)"
   ]
  },
  {
   "cell_type": "code",
   "execution_count": 110,
   "metadata": {},
   "outputs": [],
   "source": [
    "img_name = cip[0]\n",
    "img = np.genfromtxt(img_name, skip_header = 7, skip_footer = 1)\n"
   ]
  },
  {
   "cell_type": "code",
   "execution_count": 123,
   "metadata": {},
   "outputs": [
    {
     "data": {
      "text/plain": [
       "148.0"
      ]
     },
     "execution_count": 123,
     "metadata": {},
     "output_type": "execute_result"
    }
   ],
   "source": [
    "np.max(img, axis = 0)[0]"
   ]
  },
  {
   "cell_type": "code",
   "execution_count": 129,
   "metadata": {},
   "outputs": [],
   "source": [
    "mins = [100, 100, 100]\n",
    "maxs = np.zeros(3)\n",
    "for i, img_name in enumerate(cip):\n",
    "#     if i == 10:\n",
    "#         break\n",
    "    img = np.genfromtxt(img_name, skip_header = 7, skip_footer = 1)\n",
    "    for j in range(3):\n",
    "        if np.min(img, axis = 0)[j]<mins[j]:\n",
    "            mins[j]=np.min(img, axis = 0)[j]\n",
    "        if np.max(img, axis = 0)[j]>maxs[j]:\n",
    "            maxs[j]=np.max(img, axis = 0)[j]   "
   ]
  },
  {
   "cell_type": "code",
   "execution_count": 133,
   "metadata": {},
   "outputs": [
    {
     "data": {
      "text/plain": [
       "array([240., 116., 243.])"
      ]
     },
     "execution_count": 133,
     "metadata": {},
     "output_type": "execute_result"
    }
   ],
   "source": [
    "maxs"
   ]
  },
  {
   "cell_type": "code",
   "execution_count": 144,
   "metadata": {},
   "outputs": [
    {
     "ename": "SyntaxError",
     "evalue": "invalid syntax (<ipython-input-144-970f63158db0>, line 1)",
     "output_type": "error",
     "traceback": [
      "\u001b[1;36m  File \u001b[1;32m\"<ipython-input-144-970f63158db0>\"\u001b[1;36m, line \u001b[1;32m1\u001b[0m\n\u001b[1;33m    center,axes, inve = polyToParams3D([-2.72172054e-05 -3.43395946e-05 -1.68379114e-05  3.69536673e-06\u001b[0m\n\u001b[1;37m                                                                                         ^\u001b[0m\n\u001b[1;31mSyntaxError\u001b[0m\u001b[1;31m:\u001b[0m invalid syntax\n"
     ]
    }
   ],
   "source": [
    "center,axes, inve = polyToParams3D([-2.72172054e-05, -3.43395946e-05, -1.68379114e-05  3.69536673e-06\n",
    " -2.36337662e-05  7.80518302e-06  8.93983870e-03  9.06346229e-04\n",
    "  6.79183928e-03], True)"
   ]
  },
  {
   "cell_type": "code",
   "execution_count": null,
   "metadata": {},
   "outputs": [],
   "source": []
  }
 ],
 "metadata": {
  "kernelspec": {
   "display_name": "Python 3",
   "language": "python",
   "name": "python3"
  },
  "language_info": {
   "codemirror_mode": {
    "name": "ipython",
    "version": 3
   },
   "file_extension": ".py",
   "mimetype": "text/x-python",
   "name": "python",
   "nbconvert_exporter": "python",
   "pygments_lexer": "ipython3",
   "version": "3.8.5"
  }
 },
 "nbformat": 4,
 "nbformat_minor": 4
}
