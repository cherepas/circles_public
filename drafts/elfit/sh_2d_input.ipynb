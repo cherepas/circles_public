{
 "cells": [
  {
   "cell_type": "code",
   "execution_count": 1,
   "metadata": {
    "collapsed": false,
    "jupyter": {
     "outputs_hidden": false
    }
   },
   "outputs": [],
   "source": [
    "%matplotlib inline"
   ]
  },
  {
   "cell_type": "markdown",
   "metadata": {},
   "source": [
    "\n",
    "Finetuning Torchvision Models\n",
    "=============================\n",
    "\n",
    "**Author:** `Nathan Inkawhich <https://github.com/inkawhich>`__\n",
    "\n",
    "\n"
   ]
  },
  {
   "cell_type": "markdown",
   "metadata": {},
   "source": [
    "In this tutorial we will take a deeper look at how to finetune and\n",
    "feature extract the `torchvision\n",
    "models <https://pytorch.org/docs/stable/torchvision/models.html>`__, all\n",
    "of which have been pretrained on the 1000-class Imagenet dataset. This\n",
    "tutorial will give an indepth look at how to work with several modern\n",
    "CNN architectures, and will build an intuition for finetuning any\n",
    "PyTorch model. Since each model architecture is different, there is no\n",
    "boilerplate finetuning code that will work in all scenarios. Rather, the\n",
    "researcher must look at the existing architecture and make custom\n",
    "adjustments for each model.\n",
    "\n",
    "In this document we will perform two types of transfer learning:\n",
    "finetuning and feature extraction. In **finetuning**, we start with a\n",
    "pretrained model and update *all* of the model’s parameters for our new\n",
    "task, in essence retraining the whole model. In **feature extraction**,\n",
    "we start with a pretrained model and only update the final layer weights\n",
    "from which we derive predictions. It is called feature extraction\n",
    "because we use the pretrained CNN as a fixed feature-extractor, and only\n",
    "change the output layer. For more technical information about transfer\n",
    "learning see `here <https://cs231n.github.io/transfer-learning/>`__ and\n",
    "`here <https://ruder.io/transfer-learning/>`__.\n",
    "\n",
    "In general both transfer learning methods follow the same few steps:\n",
    "\n",
    "-  Initialize the pretrained model\n",
    "-  Reshape the final layer(s) to have the same number of outputs as the\n",
    "   number of classes in the new dataset\n",
    "-  Define for the optimization algorithm which parameters we want to\n",
    "   update during training\n",
    "-  Run the training step\n",
    "\n",
    "\n"
   ]
  },
  {
   "cell_type": "code",
   "execution_count": 2,
   "metadata": {},
   "outputs": [
    {
     "name": "stdout",
     "output_type": "stream",
     "text": [
      "PyTorch Version:  1.7.1\n",
      "Torchvision Version:  0.8.2\n"
     ]
    }
   ],
   "source": [
    "from __future__ import print_function \n",
    "from __future__ import division\n",
    "import torch\n",
    "import torch.nn as nn\n",
    "import torch.optim as optim\n",
    "import numpy as np\n",
    "import torchvision\n",
    "from torchvision import datasets, models, transforms\n",
    "import matplotlib.pyplot as plt\n",
    "import time\n",
    "import os\n",
    "import copy\n",
    "print(\"PyTorch Version: \",torch.__version__)\n",
    "print(\"Torchvision Version: \",torchvision.__version__)\n",
    "from torch.utils.data import Dataset, DataLoader\n",
    "import pandas as pd\n",
    "from scipy.spatial import ConvexHull, convex_hull_plot_2d\n",
    "import numpy as np\n",
    "from numpy.linalg import eig, inv\n",
    "import numpy as np\n",
    "import numpy.linalg as linalg\n",
    "import matplotlib.pyplot as plt\n",
    "from mpl_toolkits.mplot3d import Axes3D\n",
    "from skimage import io, transform, data\n",
    "from skimage.measure import regionprops\n",
    "from skimage import filters"
   ]
  },
  {
   "cell_type": "code",
   "execution_count": 3,
   "metadata": {},
   "outputs": [
    {
     "name": "stdout",
     "output_type": "stream",
     "text": [
      "cuda\n"
     ]
    }
   ],
   "source": [
    "if torch.cuda.device_count()>1:\n",
    "    device = torch.device('cuda:2')\n",
    "elif torch.cuda.device_count()==1:\n",
    "    device = torch.device('cuda')\n",
    "else: \n",
    "    device = torch.device('cpu')\n",
    "print(device)"
   ]
  },
  {
   "cell_type": "markdown",
   "metadata": {},
   "source": [
    "Inputs\n",
    "------\n",
    "\n",
    "Here are all of the parameters to change for the run. We will use the\n",
    "*hymenoptera_data* dataset which can be downloaded\n",
    "`here <https://download.pytorch.org/tutorial/hymenoptera_data.zip>`__.\n",
    "This dataset contains two classes, **bees** and **ants**, and is\n",
    "structured such that we can use the\n",
    "`ImageFolder <https://pytorch.org/docs/stable/torchvision/datasets.html#torchvision.datasets.ImageFolder>`__\n",
    "dataset, rather than writing our own custom dataset. Download the data\n",
    "and set the ``data_dir`` input to the root directory of the dataset. The\n",
    "``model_name`` input is the name of the model you wish to use and must\n",
    "be selected from this list:\n",
    "\n",
    "::\n",
    "\n",
    "   [resnet, alexnet, vgg, squeezenet, densenet, inception]\n",
    "\n",
    "The other inputs are as follows: ``num_classes`` is the number of\n",
    "classes in the dataset, ``batch_size`` is the batch size used for\n",
    "training and may be adjusted according to the capability of your\n",
    "machine, ``num_epochs`` is the number of training epochs we want to run,\n",
    "and ``feature_extract`` is a boolean that defines if we are finetuning\n",
    "or feature extracting. If ``feature_extract = False``, the model is\n",
    "finetuned and all model parameters are updated. If\n",
    "``feature_extract = True``, only the last layer parameters are updated,\n",
    "the others remain fixed.\n",
    "\n",
    "\n"
   ]
  },
  {
   "cell_type": "code",
   "execution_count": 4,
   "metadata": {},
   "outputs": [],
   "source": [
    "# mpl = [r'D:\\seva\\hymenoptera_data',  r'D:/data/hymenoptera_data'] \n",
    "# mpl = [s.replace('\\\\','/') for s in mpl]\n",
    "# i = 0\n",
    "# while not os.path.exists(mpl[i]):\n",
    "#     print(i)\n",
    "#     i+=1\n",
    "# data_dir = mpl[i]\n",
    "# print(data_dir)"
   ]
  },
  {
   "cell_type": "code",
   "execution_count": 5,
   "metadata": {},
   "outputs": [
    {
     "name": "stdout",
     "output_type": "stream",
     "text": [
      "0\n",
      "1\n",
      "D:/seva/598_processing\n"
     ]
    }
   ],
   "source": [
    "depth = 2**8-1.\n",
    "D_out = 441\n",
    "C_in = 3 #how many views of one seed\n",
    "mpl = [r'/home/cherepashkin/data/598_processing',  r'D:\\data\\seeds\\598', r'D:\\seva\\598_processing'.replace('\\\\','/')] \n",
    "mpl = [s.replace('\\\\','/') for s in mpl]\n",
    "i = 0\n",
    "while not os.path.exists(mpl[i]):\n",
    "    print(i)\n",
    "    i+=1\n",
    "data_dir = mpl[i]\n",
    "print(data_dir)\n"
   ]
  },
  {
   "cell_type": "code",
   "execution_count": 6,
   "metadata": {
    "collapsed": false,
    "jupyter": {
     "outputs_hidden": false
    }
   },
   "outputs": [],
   "source": [
    "# Top level data directory. Here we assume the format of the directory conforms \n",
    "#   to the ImageFolder structure\n",
    "#data_dir = D:\\seva\\hymenoptera_data\n",
    "#    \"D:/data/hymenoptera_data\"\n",
    "    #\"\"./data/hymenoptera_data\"\n",
    "data_dir\n",
    "\n",
    "# Models to choose from [resnet, alexnet, vgg, squeezenet, densenet, inception]\n",
    "model_name = \"densenet\"\n",
    "\n",
    "# Batch size for training (change depending on how much memory you have)\n",
    "batch_size = 8\n",
    "\n",
    "# Number of epochs to train for \n",
    "num_epochs = 15\n",
    "\n",
    "# Flag for feature extracting. When False, we finetune the whole model, \n",
    "#   when True we only update the reshaped layer params\n",
    "feature_extract = True\n",
    "\n",
    "#number of spherical harmonics amplituds to regress\n",
    "ampl = 9\n",
    "\n",
    "# Number of classes in the dataset\n",
    "num_classes = ampl\n",
    "\n",
    "#downsample ply, taking point every ds steps\n",
    "ds = 10"
   ]
  },
  {
   "cell_type": "markdown",
   "metadata": {},
   "source": [
    "Helper Functions - train_model\n",
    "----------------\n",
    "\n",
    "Before we write the code for adjusting the models, lets define a few\n",
    "helper functions.\n",
    "\n",
    "Model Training and Validation Code\n",
    "~~~~~~~~~~~~~~~~~~~~~~~~~~~~~~~~~~\n",
    "\n",
    "The ``train_model`` function handles the training and validation of a\n",
    "given model. As input, it takes a PyTorch model, a dictionary of\n",
    "dataloaders, a loss function, an optimizer, a specified number of epochs\n",
    "to train and validate for, and a boolean flag for when the model is an\n",
    "Inception model. The *is_inception* flag is used to accomodate the\n",
    "*Inception v3* model, as that architecture uses an auxiliary output and\n",
    "the overall model loss respects both the auxiliary output and the final\n",
    "output, as described\n",
    "`here <https://discuss.pytorch.org/t/how-to-optimize-inception-model-with-auxiliary-classifiers/7958>`__.\n",
    "The function trains for the specified number of epochs and after each\n",
    "epoch runs a full validation step. It also keeps track of the best\n",
    "performing model (in terms of validation accuracy), and at the end of\n",
    "training returns the best performing model. After each epoch, the\n",
    "training and validation accuracies are printed.\n",
    "\n",
    "\n"
   ]
  },
  {
   "cell_type": "code",
   "execution_count": 7,
   "metadata": {},
   "outputs": [],
   "source": [
    "#print(tmean[:,:ampl])"
   ]
  },
  {
   "cell_type": "code",
   "execution_count": 8,
   "metadata": {},
   "outputs": [],
   "source": [
    "#weightv = torch.tensor([0.99, 0.001, 0.001, 0.001, 0.001, 0.001, 0.001, 0.001, 0.001]).to(device)"
   ]
  },
  {
   "cell_type": "code",
   "execution_count": 9,
   "metadata": {},
   "outputs": [],
   "source": [
    "# def my_loss(output, target):\n",
    "#     l = torch.mean(torch.multiply(weightv,(output - target))**2)\n",
    "#     return l"
   ]
  },
  {
   "cell_type": "code",
   "execution_count": 10,
   "metadata": {},
   "outputs": [],
   "source": [
    "# my_loss(torch.zeros([8,9]),torch.zeros([8,9]))"
   ]
  },
  {
   "cell_type": "code",
   "execution_count": 33,
   "metadata": {
    "collapsed": false,
    "jupyter": {
     "outputs_hidden": false
    }
   },
   "outputs": [],
   "source": [
    "def train_model(model, dataloaders, criterion, optimizer, num_epochs=25, is_inception=False):\n",
    "    since = time.time()\n",
    "\n",
    "    val_acc_history = []\n",
    "    \n",
    "#    best_model_wts = copy.deepcopy(model.state_dict())\n",
    "    best_acc = 0.0\n",
    "    lossar = np.zeros([2,num_epochs])\n",
    "    for epoch in range(num_epochs):\n",
    "        print('Epoch {}/{}'.format(epoch, num_epochs - 1))\n",
    "        print('-' * 10)\n",
    "\n",
    "        # Each epoch has a training and validation phase\n",
    "        for phase in ['train', 'val']:\n",
    "            if phase == 'train':\n",
    "                model.train()  # Set model to training mode\n",
    "            else:\n",
    "                model.eval()   # Set model to evaluate mode\n",
    "\n",
    "            running_loss = 0.0\n",
    "            running_corrects = 0\n",
    "            rloss = 0.0\n",
    "            \n",
    "            # Iterate over data.\n",
    "            for i_batch, sample_batched in enumerate(dataloaders[phase]):\n",
    "                if i_batch == bn:\n",
    "                    break\n",
    "                inputs = sample_batched['image']\n",
    "                labels = sample_batched['landmarks']\n",
    "#             for inputs, labels in dataloaders[phase]:\n",
    "#                 inputs = inputs.to(device)\n",
    "#                 labels = labels.to(device)\n",
    "                # zero the parameter gradients\n",
    "                optimizer.zero_grad()\n",
    "                # forward\n",
    "                # track history if only in train\n",
    "                with torch.set_grad_enabled(phase == 'train'):\n",
    "                    # Get model outputs and calculate loss\n",
    "                    # Special case for inception because in training it has an auxiliary output. In train\n",
    "                    #   mode we calculate the loss by summing the final output and the auxiliary output\n",
    "                    #   but in testing we only consider the final output.\n",
    "                    if is_inception and phase == 'train':\n",
    "                        # From https://discuss.pytorch.org/t/how-to-optimize-inception-model-with-auxiliary-classifiers/7958\n",
    "                        outputs, aux_outputs = model(inputs)\n",
    "                        loss1 = criterion(outputs, labels)\n",
    "                        loss2 = criterion(aux_outputs, labels)\n",
    "                        loss = loss1 + 0.4*loss2\n",
    "                    else:\n",
    "                        outputs = model(inputs)\n",
    "#                         loss = my_loss(outputs, labels)\n",
    "                        loss = criterion(outputs, labels)\n",
    "                        #loss = my_loss(outputs,labels)\n",
    "                    _, preds = torch.max(outputs, 1)\n",
    "\n",
    "                    # backward + optimize only if in training phase\n",
    "                    if phase == 'train':\n",
    "                        loss.backward()\n",
    "                        optimizer.step()\n",
    "\n",
    "                # statistics\n",
    "                running_loss += loss.item() * inputs.size(0)\n",
    "                rloss += loss.item()\n",
    "#                running_corrects += torch.sum(preds == labels.data)\n",
    "\n",
    "            epoch_loss = running_loss / len(dataloaders[phase].dataset)\n",
    "            if phase == 'train':\n",
    "                lossar[0][epoch] = rloss/bn\n",
    "            else: \n",
    "                lossar[1][epoch] = rloss/bn            \n",
    "#            epoch_acc = running_corrects.double() / len(dataloaders[phase].dataset)\n",
    "\n",
    "            print('{} Loss: {:.6f}'.format(phase, rloss/bn))\n",
    "#            print('{} Loss: {:.4f} Acc: {:.4f}'.format(phase, epoch_loss,epoch_acc))\n",
    "\n",
    "            # deep copy the model\n",
    "#            if phase == 'val' and epoch_acc > best_acc:\n",
    "#                best_acc = epoch_acc\n",
    "#            best_model_wts = copy.deepcopy(model.state_dict())\n",
    "#             if phase == 'val':\n",
    "#                 val_acc_history.append(epoch_acc)\n",
    "            val_acc_history = []\n",
    "\n",
    "        print()\n",
    "\n",
    "    time_elapsed = time.time() - since\n",
    "    print('Training complete in {:.0f}m {:.0f}s'.format(time_elapsed // 60, time_elapsed % 60))\n",
    "#    print('Best val Acc: {:4f}'.format(best_acc))\n",
    "    timel = str('{:.0f}m {:.0f}s'.format(time_elapsed // 60, time_elapsed % 60))\n",
    "    # load best model weights\n",
    "#    model.load_state_dict(best_model_wts)\n",
    "    return model, lossar, timel "
   ]
  },
  {
   "cell_type": "markdown",
   "metadata": {},
   "source": [
    "Set Model Parameters’ .requires_grad attribute\n",
    "~~~~~~~~~~~~~~~~~~~~~~~~~~~~~~~~~~~~~~~~~~~~~~\n",
    "\n",
    "This helper function sets the ``.requires_grad`` attribute of the\n",
    "parameters in the model to False when we are feature extracting. By\n",
    "default, when we load a pretrained model all of the parameters have\n",
    "``.requires_grad=True``, which is fine if we are training from scratch\n",
    "or finetuning. However, if we are feature extracting and only want to\n",
    "compute gradients for the newly initialized layer then we want all of\n",
    "the other parameters to not require gradients. This will make more sense\n",
    "later.\n",
    "\n",
    "\n"
   ]
  },
  {
   "cell_type": "code",
   "execution_count": 12,
   "metadata": {
    "collapsed": false,
    "jupyter": {
     "outputs_hidden": false
    }
   },
   "outputs": [],
   "source": [
    "def set_parameter_requires_grad(model, feature_extracting):\n",
    "    if feature_extracting:\n",
    "        for param in model.parameters():\n",
    "            param.requires_grad = False"
   ]
  },
  {
   "cell_type": "markdown",
   "metadata": {},
   "source": [
    "# Initialize and Reshape the Networks"
   ]
  },
  {
   "cell_type": "code",
   "execution_count": 13,
   "metadata": {
    "collapsed": false,
    "jupyter": {
     "outputs_hidden": false
    }
   },
   "outputs": [],
   "source": [
    "def initialize_model(model_name, num_classes, feature_extract, use_pretrained=True):\n",
    "    # Initialize these variables which will be set in this if statement. Each of these\n",
    "    #   variables is model specific.\n",
    "    model_ft = None\n",
    "    input_size = 0\n",
    "\n",
    "    if model_name == \"resnet\":\n",
    "        \"\"\" Resnet18\n",
    "        \"\"\"\n",
    "        model_ft = models.resnet18(pretrained=use_pretrained)\n",
    "        set_parameter_requires_grad(model_ft, feature_extract)\n",
    "        num_ftrs = model_ft.fc.in_features\n",
    "        model_ft.fc = nn.Linear(num_ftrs, num_classes)\n",
    "        input_size = 224\n",
    "\n",
    "    elif model_name == \"alexnet\":\n",
    "        \"\"\" Alexnet\n",
    "        \"\"\"\n",
    "        model_ft = models.alexnet(pretrained=use_pretrained)\n",
    "        set_parameter_requires_grad(model_ft, feature_extract)\n",
    "        num_ftrs = model_ft.classifier[6].in_features\n",
    "        model_ft.classifier[6] = nn.Linear(num_ftrs,num_classes)\n",
    "        input_size = 224\n",
    "\n",
    "    elif model_name == \"vgg\":\n",
    "        \"\"\" VGG11_bn\n",
    "        \"\"\"\n",
    "        model_ft = models.vgg11_bn(pretrained=use_pretrained)\n",
    "        set_parameter_requires_grad(model_ft, feature_extract)\n",
    "        num_ftrs = model_ft.classifier[6].in_features\n",
    "        model_ft.classifier[6] = nn.Linear(num_ftrs,num_classes)\n",
    "        input_size = 224\n",
    "\n",
    "    elif model_name == \"squeezenet\":\n",
    "        \"\"\" Squeezenet\n",
    "        \"\"\"\n",
    "        model_ft = models.squeezenet1_0(pretrained=use_pretrained)\n",
    "        set_parameter_requires_grad(model_ft, feature_extract)\n",
    "        model_ft.classifier[1] = nn.Conv2d(512, num_classes, kernel_size=(1,1), stride=(1,1))\n",
    "        model_ft.num_classes = num_classes\n",
    "        input_size = 224\n",
    "\n",
    "    elif model_name == \"densenet\":\n",
    "        \"\"\" Densenet\n",
    "        \"\"\"\n",
    "        model_ft = models.densenet121(pretrained=use_pretrained)\n",
    "        set_parameter_requires_grad(model_ft, feature_extract)\n",
    "        num_ftrs = model_ft.classifier.in_features\n",
    "        model_ft.classifier = nn.Linear(num_ftrs, num_classes) \n",
    "        input_size = 224\n",
    "\n",
    "    elif model_name == \"inception\":\n",
    "        \"\"\" Inception v3 \n",
    "        Be careful, expects (299,299) sized images and has auxiliary output\n",
    "        \"\"\"\n",
    "        model_ft = models.inception_v3(pretrained=use_pretrained)\n",
    "        set_parameter_requires_grad(model_ft, feature_extract)\n",
    "        # Handle the auxilary net\n",
    "        num_ftrs = model_ft.AuxLogits.fc.in_features\n",
    "        model_ft.AuxLogits.fc = nn.Linear(num_ftrs, num_classes)\n",
    "        # Handle the primary net\n",
    "        num_ftrs = model_ft.fc.in_features\n",
    "        model_ft.fc = nn.Linear(num_ftrs,num_classes)\n",
    "        input_size = 299\n",
    "\n",
    "    else:\n",
    "        print(\"Invalid model name, exiting...\")\n",
    "        exit()\n",
    "    \n",
    "    return model_ft, input_size\n",
    "\n"
   ]
  },
  {
   "cell_type": "code",
   "execution_count": 14,
   "metadata": {},
   "outputs": [],
   "source": [
    "# Initialize the model for this run\n",
    "#model_ft, input_size = initialize_model(model_name, num_classes, feature_extract, use_pretrained=True)\n",
    "\n",
    "# Print the model we just instantiated\n",
    "#print(model_ft)"
   ]
  },
  {
   "cell_type": "markdown",
   "metadata": {},
   "source": [
    "## search of the min max of the sh amplitudes"
   ]
  },
  {
   "cell_type": "code",
   "execution_count": 15,
   "metadata": {},
   "outputs": [],
   "source": [
    "# mainpath = data_dir + '\\train'\n",
    "# D_out = 441\n",
    "# if not(os.path.isfile('tmean.csv') and os.path.isfile(mainpath+'/sh.csv')):\n",
    "#     cip = []\n",
    "#     for root, directories, filenames in os.walk(mainpath): \n",
    "#         for filename in filenames:\n",
    "#             if filename[-8:] == 'F_20.csv':\n",
    "#                 cip.append(os.path.join(root,filename))\n",
    "#     labels = np.zeros([len(cip),D_out])\n",
    "#     for i in range(len(cip)):\n",
    "#         labels[i,:] = torch.tensor(np.genfromtxt(cip[i], delimiter='\\n'))\n",
    "#     tmean = np.zeros([4,D_out])\n",
    "#     tmean[0,:] = np.mean(labels, axis = 0)\n",
    "#     tmean[1,:] = np.std(labels, axis = 0)\n",
    "#     tmean[2,:] = np.min(labels, axis = 0)\n",
    "#     tmean[3,:] = np.max(labels, axis = 0)\n",
    "#     numpy.savetxt(\"tmean.csv\", tmean, delimiter=\",\")\n",
    "#     landmarks_frame = pd.DataFrame(data=labels,index=range(len(cip)),\\\n",
    "#                                    columns=['f'+str(i) for i in range(D_out)])\n",
    "#     landmarks_frame.insert(0, 'file_name', \\\n",
    "#                            [cip[i][-24:-9] for i in range(len(cip))])\n",
    "#     landmarks_frame.to_csv(mainpath+'/sh_paramters.csv', index=False)\n"
   ]
  },
  {
   "cell_type": "code",
   "execution_count": 16,
   "metadata": {},
   "outputs": [],
   "source": [
    "#tmean = np.genfromtxt(\"tmean.csv\", delimiter=',')"
   ]
  },
  {
   "cell_type": "markdown",
   "metadata": {},
   "source": [
    "Load Data\n",
    "---------\n",
    "\n",
    "Now that we know what the input size must be, we can initialize the data\n",
    "transforms, image datasets, and the dataloaders. Notice, the models were\n",
    "pretrained with the hard-coded normalization values, as described\n",
    "`here <https://pytorch.org/docs/master/torchvision/models.html>`__.\n",
    "\n",
    "\n"
   ]
  },
  {
   "cell_type": "code",
   "execution_count": 17,
   "metadata": {},
   "outputs": [],
   "source": [
    "def ls_ellipsoid(xx,yy,zz):                                  \n",
    "    #finds best fit ellipsoid. Found at http://www.juddzone.com/ALGORITHMS/least_squares_3D_ellipsoid.html\n",
    "    #least squares fit to a 3D-ellipsoid\n",
    "    #  Ax^2 + By^2 + Cz^2 +  Dxy +  Exz +  Fyz +  Gx +  Hy +  Iz  = 1\n",
    "    #\n",
    "    # Note that sometimes it is expressed as a solution to\n",
    "    #  Ax^2 + By^2 + Cz^2 + 2Dxy + 2Exz + 2Fyz + 2Gx + 2Hy + 2Iz  = 1\n",
    "    # where the last six terms have a factor of 2 in them\n",
    "    # This is in anticipation of forming a matrix with the polynomial coefficients.\n",
    "    # Those terms with factors of 2 are all off diagonal elements.  These contribute\n",
    "    # two terms when multiplied out (symmetric) so would need to be divided by two\n",
    "    \n",
    "    # change xx from vector of length N to Nx1 matrix so we can use hstack\n",
    "    x = xx[:,np.newaxis]\n",
    "    y = yy[:,np.newaxis]\n",
    "    z = zz[:,np.newaxis]\n",
    "    \n",
    "    #  Ax^2 + By^2 + Cz^2 +  Dxy +  Exz +  Fyz +  Gx +  Hy +  Iz = 1\n",
    "    J = np.hstack((x*x,y*y,z*z,x*y,x*z,y*z, x, y, z))\n",
    "    K = np.ones_like(x) #column of ones\n",
    "    \n",
    "    #np.hstack performs a loop over all samples and creates\n",
    "    #a row in J for each x,y,z sample:\n",
    "    # J[ix,0] = x[ix]*x[ix]\n",
    "    # J[ix,1] = y[ix]*y[ix]\n",
    "    # etc.\n",
    "    \n",
    "    JT=J.transpose()\n",
    "    JTJ = np.dot(JT,J)\n",
    "    InvJTJ=np.linalg.inv(JTJ);\n",
    "    ABC= np.dot(InvJTJ, np.dot(JT,K))\n",
    "\n",
    "    # Rearrange, move the 1 to the other side\n",
    "    #  Ax^2 + By^2 + Cz^2 +  Dxy +  Exz +  Fyz +  Gx +  Hy +  Iz - 1 = 0\n",
    "    #    or\n",
    "    #  Ax^2 + By^2 + Cz^2 +  Dxy +  Exz +  Fyz +  Gx +  Hy +  Iz + J = 0\n",
    "    #  where J = -1\n",
    "    eansa=np.append(ABC,-1)\n",
    "\n",
    "    return (eansa)\n",
    "def getelcoef(img):\n",
    "    #get convex hull\\\n",
    "    x = img[:,0]\n",
    "    y = img[:,1]\n",
    "    z = img[:,2]\n",
    "    surface  = np.stack((x,y,z), axis=-1)\n",
    "    #surface  = np.stack((conf.x,conf.y,conf.z), axis=-1)\n",
    "    hullV    = ConvexHull(surface)\n",
    "    lH       = len(hullV.vertices)\n",
    "    hull     = np.zeros((lH,3))\n",
    "    for i in range(len(hullV.vertices)):\n",
    "        hull[i] = surface[hullV.vertices[i]]\n",
    "    hull     = np.transpose(hull)         \n",
    "\n",
    "    #fit ellipsoid on convex hull\n",
    "    eansa = ls_ellipsoid(hull[0],hull[1],hull[2]) #get ellipsoid polynomial coefficients\n",
    "    return(eansa)"
   ]
  },
  {
   "cell_type": "code",
   "execution_count": 18,
   "metadata": {},
   "outputs": [],
   "source": [
    "class Seed3D_Dataset(Dataset):\n",
    "    \"\"\"seed point cloud dataset.\"\"\"\n",
    "\n",
    "    def __init__(self, root_dir, transform=None):\n",
    "        \"\"\"\n",
    "        Args:\n",
    "            csv_file (string): Path to the csv file with annotations.\n",
    "            root_dir (string): Directory with all the images.\n",
    "            transform (callable, optional): Optional transform to be applied\n",
    "                on a sample.\n",
    "        \"\"\"\n",
    "        self.landmarks_frame = pd.read_csv(os.path.join(root_dir,'sh.csv'))\n",
    "        self.root_dir = root_dir\n",
    "        self.transform = transform\n",
    "\n",
    "    def __len__(self):\n",
    "        return len(self.landmarks_frame)\n",
    "\n",
    "#     def __getitem__(self, idx):\n",
    "#         if torch.is_tensor(idx):\n",
    "#             idx = idx.tolist()\n",
    "# #        img = np.zeros([40000, 3, 1])\n",
    "#         img_name = \\\n",
    "#         os.path.join(self.root_dir,\\\n",
    "#                      self.landmarks_frame.iloc[idx, 0]+'_Surface.ply').replace('\\\\','/')\n",
    "#         img = np.genfromtxt(img_name, skip_header = 7, skip_footer = 1)\n",
    "        \n",
    "#         img = np.concatenate((img, np.zeros([60000-img.shape[0],3])), axis=0)\n",
    "#         #landmarks =  getelcoef(img) \n",
    "#         landmarks = self.landmarks_frame.iloc[idx, 1:]\n",
    "#         landmarks = np.array([landmarks])\n",
    "#         #landmarks = landmarks.astype('float').reshape(-1, D_out)\n",
    "#         landmarks = landmarks.astype('float')\n",
    "#         sample = {'image': img, 'landmarks': landmarks}\n",
    "#         if self.transform:\n",
    "#             sample = self.transform(sample)\n",
    "      \n",
    "    def __getitem__(self, idx):\n",
    "        if torch.is_tensor(idx):\n",
    "            idx = idx.tolist()\n",
    "        img = np.zeros([3,1000,1800,1])\n",
    "        rd = self.root_dir.replace('598test','598_processing')\n",
    "        for i in range(3):\n",
    "            img_name = \\\n",
    "            os.path.join(rd,\\\n",
    "                         self.landmarks_frame.iloc[idx, 0],\\\n",
    "            'rotation_'+str(120*i).zfill(3)+'.tif').replace('\\\\','/')\n",
    "            img[i] = np.expand_dims(np.asarray(io.imread(img_name)), axis=2)\n",
    "        landmarks = self.landmarks_frame.iloc[idx, 1:]\n",
    "        landmarks = np.array([landmarks])\n",
    "        landmarks = landmarks.astype('float')\n",
    "        sample = {'image': img, 'landmarks': landmarks}\n",
    "        if self.transform:\n",
    "            sample = self.transform(sample)\n",
    "        return sample"
   ]
  },
  {
   "cell_type": "code",
   "execution_count": 19,
   "metadata": {},
   "outputs": [],
   "source": [
    "tmean = np.genfromtxt(\"tmean.csv\", delimiter=',')"
   ]
  },
  {
   "cell_type": "code",
   "execution_count": 20,
   "metadata": {},
   "outputs": [
    {
     "data": {
      "text/plain": [
       "29.0"
      ]
     },
     "execution_count": 20,
     "metadata": {},
     "output_type": "execute_result"
    }
   ],
   "source": [
    "mins = [29.0, 1.0, 4.0]\n",
    "mins[0]"
   ]
  },
  {
   "cell_type": "code",
   "execution_count": 21,
   "metadata": {},
   "outputs": [],
   "source": [
    "#pwd"
   ]
  },
  {
   "cell_type": "code",
   "execution_count": 22,
   "metadata": {},
   "outputs": [],
   "source": [
    "#print(data_dir,os.path.join(data_dir,'/sh_paramters.csv'))"
   ]
  },
  {
   "cell_type": "code",
   "execution_count": 23,
   "metadata": {},
   "outputs": [],
   "source": [
    "#print(os.path.isfile('tmean.csv'),os.path.isfile(os.path.join(data_dir,'/sh_paramters.csv')))\n",
    "#print(not(os.path.isfile('tmean.csv') and os.path.isfile(mainpath+'/sh_paramters.csv')))"
   ]
  },
  {
   "cell_type": "code",
   "execution_count": 24,
   "metadata": {},
   "outputs": [],
   "source": [
    "class AmpCrop(object):\n",
    "    \"\"\"Crop the label, spherical harmonics amplitude.\"\"\"\n",
    "    def __init__(self, ampl):\n",
    "        self.ampl = ampl\n",
    "    def __call__(self, sample):\n",
    "        image, landmarks = sample['image'], sample['landmarks']\n",
    "        return {'image': image,\n",
    "                'landmarks': landmarks[:,:self.ampl]}\n",
    "class ToTensor(object):\n",
    "    \"\"\"Convert ndarrays in sample to Tensors.\"\"\"\n",
    "    def __init__(self, device):\n",
    "#        assert isinstance(device, str)\n",
    "        self.device = device\n",
    "    def __call__(self, sample):\n",
    "        image, landmarks = sample['image'], sample['landmarks']\n",
    "\n",
    "        landmarks = np.squeeze(landmarks)\n",
    "        return {'image': torch.Tensor(image).to(self.device),\n",
    "                'landmarks': torch.Tensor(landmarks).to(self.device)}\n",
    "class Minmax3Dimage(object):\n",
    "    \"\"\"Normalize 3D input data to be laying in [0,1]\"\"\"\n",
    "    def __init__(self):\n",
    "        a = 1\n",
    "#        assert isinstance(device, str)\n",
    "    def __call__(self, sample):\n",
    "        image, landmarks = sample['image'], sample['landmarks']\n",
    "        mins = [29.0, 1.0, 4.0]\n",
    "        maxs = [240., 116., 243.]\n",
    "        for i in range(3):\n",
    "            image[:,i] = (image[:,i]-mins[i])/\\\n",
    "            (maxs[i]-mins[i])\n",
    "#        landmarks = np.squeeze(landmarks)\n",
    "        return {'image': image,\n",
    "                'landmarks': landmarks}\n",
    "class Downsample(object):\n",
    "    \"\"\"Downsample the input ply file.\"\"\"\n",
    "    def __init__(self, ds):\n",
    "        #assert isinstance(output_size, (int, tuple))\n",
    "        self.ds = ds\n",
    "    def __call__(self, sample):\n",
    "        image, landmarks = sample['image'], sample['landmarks']\n",
    "        ds_image = image[::self.ds,:]\n",
    "        return {'image': ds_image,\n",
    "                'landmarks': landmarks}\n",
    "class Shuffleinput(object):\n",
    "    \"\"\"Shuffle the rows of input ply file.\"\"\"\n",
    "    def __init__(self, shuffle_seed):\n",
    "        #assert isinstance(output_size, (int, tuple))\n",
    "        self.shuffle_seed = shuffle_seed\n",
    "    def __call__(self, sample):\n",
    "        np.random.seed(self.shuffle_seed)\n",
    "        image, landmarks = sample['image'], sample['landmarks']\n",
    "        np.random.shuffle(image) \n",
    "        return {'image': image,\n",
    "                'landmarks': landmarks}\n",
    "class Minmax(object):\n",
    "    \"\"\"Normalize the input data to lay in [0,1].\"\"\"\n",
    "    def __init__(self, tmean):\n",
    "#        assert isinstance(tmean, numpy.ndarray)\n",
    "#         self.minv = minv\n",
    "#         self.maxv = maxv\n",
    "        self.tmean = tmean\n",
    "    def __call__(self, sample):\n",
    "        image, landmarks = sample['image'], sample['landmarks']\n",
    "#        print(type(landmarks))\n",
    "#        print(type(self.tmean[3]))\n",
    "        landmarks = (landmarks - self.tmean[2])/(self.tmean[3]-self.tmean[2])\n",
    "#        landmarks = (landmarks - np.min(self.tmean[2]))/(np.max(self.tmean[3])-np.min(self.tmean[2]))\n",
    "#        landmarks = (landmarks - self.minv)/(self.maxv-self.minv)\n",
    "        \n",
    "        return {'image': image,\n",
    "                'landmarks': landmarks}\n",
    "class Reshape(object):\n",
    "    \"\"\"Normalize the input data to lay in [0,1].\"\"\"\n",
    "    def __init__(self, input_layer):\n",
    "#        assert isinstance(tmean, numpy.ndarray)\n",
    "        self.input_layer = input_layer\n",
    "    def __call__(self, sample):\n",
    "        image, landmarks = sample['image'], sample['landmarks']\n",
    "#        print(type(landmarks))\n",
    "#        print(type(self.tmean[3]))\n",
    "        padval = self.input_layer**2-image.shape[0]\n",
    "        if padval >= 0:\n",
    "            image = np.pad(image, ((0,padval),(0,0)), mode='constant')\n",
    "        else: \n",
    "            image = image[:self.input_layer**2]\n",
    "        image = np.reshape(image, [3,self.input_layer,self.input_layer])\n",
    "#        landmarks = (landmarks - self.tmean[2])/(self.tmean[3]-self.tmean[2]) \n",
    "        return {'image': image,\n",
    "                'landmarks': landmarks}\n",
    "class CmsCrop(object):\n",
    "    \"\"\"Crop randomly the image in a sample.\n",
    "\n",
    "    Args:\n",
    "        output_size (tuple or int): Desired output size. If int, square crop\n",
    "            is made.\n",
    "    \"\"\"\n",
    "    def __init__(self, output_size):\n",
    "        assert isinstance(output_size, (int, tuple))\n",
    "        self.output_size = output_size\n",
    "\n",
    "    def __call__(self, sample):\n",
    "        image, landmarks = sample['image'], sample['landmarks']\n",
    "\n",
    "        h, w = image[0].shape[0:2]\n",
    "        if isinstance(self.output_size, int):\n",
    "            if h > w:\n",
    "                new_h, new_w = self.output_size * h / w, self.output_size\n",
    "            else:\n",
    "                new_h, new_w = self.output_size, self.output_size * w / h\n",
    "        else:\n",
    "            new_h, new_w = self.output_size\n",
    "\n",
    "        new_h, new_w = int(new_h), int(new_w)\n",
    "        h, w = image[0].shape[0:2]\n",
    "        new_image = np.zeros([3,new_h, new_w])\n",
    "        for i in range(3):\n",
    "            img = np.squeeze(255-image[i])\n",
    "            properties = regionprops((img > filters.threshold_otsu(img)).astype(int), img)\n",
    "            cms = tuple(map(lambda x: int(x), properties[0].centroid))\n",
    "#            print((cms[0]-new_h//2)-(cms[0]+new_h//2),(cms[1]-new_w//2)-(cms[1]+new_w//2))\n",
    "#            print(new_image.shape)\n",
    "            tempa = (255-img[cms[0]-new_h//2:cms[0]+new_h//2,\\\n",
    "                                  cms[1]-new_w//2:cms[1]+new_w//2]).astype(np.uint8)\n",
    "            padh = (new_h-tempa.shape[0])//2\n",
    "            padw = (new_w-tempa.shape[1])//2\n",
    "            tempb = np.pad(tempa, \\\n",
    "                ((padh, new_h-tempa.shape[0]-padh),(padw,new_w-tempa.shape[1]-padw)),\\\n",
    "                mode='constant', constant_values = 255)\n",
    "#            print(tempb.shape)\n",
    "            new_image[i] = tempb\n",
    "        return {'image': new_image/255, 'landmarks': landmarks}\n",
    "class Rescale(object):\n",
    "    \"\"\"Rescale the image in a sample to a given size.\n",
    "\n",
    "    Args:\n",
    "        output_size (tuple or int): Desired output size. If tuple, output is\n",
    "            matched to output_size. If int, smaller of image edges is matched\n",
    "            to output_size keeping aspect ratio the same.\n",
    "    \"\"\"\n",
    "\n",
    "    def __init__(self, output_size):\n",
    "        assert isinstance(output_size, (int, tuple))\n",
    "        self.output_size = output_size\n",
    "    def __call__(self, sample):\n",
    "        image, landmarks = sample['image'], sample['landmarks']\n",
    "        h, w = image[0].shape[0:2]\n",
    "        if isinstance(self.output_size, int):\n",
    "            if h > w:\n",
    "                new_h, new_w = self.output_size * h / w, self.output_size\n",
    "            else:\n",
    "                new_h, new_w = self.output_size, self.output_size * w / h\n",
    "        else:\n",
    "            new_h, new_w = self.output_size\n",
    "        new_h, new_w = int(new_h), int(new_w)\n",
    "        img = np.zeros([3,new_h, new_w])\n",
    "#        print(img.shape)\n",
    "        for i in range(3):\n",
    "            img[i] = np.squeeze(transform.resize(image[i], (new_h, new_w)))\n",
    "        transforms.ToTensor()\n",
    "        # h and w are swapped for landmarks because for images,\n",
    "        # x and y axes are axis 1 and 0 respectively\n",
    "#        print('.', end='')\n",
    "        return {'image': img, 'landmarks': landmarks}"
   ]
  },
  {
   "cell_type": "code",
   "execution_count": 25,
   "metadata": {},
   "outputs": [],
   "source": [
    "#np.zeros(5)+np.min(tmean[2])"
   ]
  },
  {
   "cell_type": "code",
   "execution_count": 26,
   "metadata": {},
   "outputs": [],
   "source": [
    "# a=np.zeros([50000,3])\n",
    "# a = np.pad(a, ((0,229**2-50000),(0,0)), mode='constant')\n",
    "# a = np.reshape(a, [229,229,3])\n",
    "# print(a.shape)\n",
    "# #a.reshape([])\n"
   ]
  },
  {
   "cell_type": "code",
   "execution_count": 27,
   "metadata": {},
   "outputs": [
    {
     "data": {
      "text/plain": [
       "'C:\\\\Users\\\\v.cherepashkin\\\\Documents\\\\GitHub\\\\circles\\\\elfit'"
      ]
     },
     "execution_count": 27,
     "metadata": {},
     "output_type": "execute_result"
    }
   ],
   "source": [
    "pwd"
   ]
  },
  {
   "cell_type": "code",
   "execution_count": 29,
   "metadata": {},
   "outputs": [
    {
     "data": {
      "text/plain": [
       "array([[ 1.18446613e+02, -1.43959153e-01,  1.09811419e-01, ...,\n",
       "        -1.61184057e-04, -1.43230692e-03,  2.20696234e-04],\n",
       "       [ 2.62229717e+01,  1.37617533e+01,  4.87977931e+00, ...,\n",
       "         9.54210781e-02,  1.24902228e-01,  1.27925041e-01],\n",
       "       [-1.12567668e+02, -9.01288999e+02, -1.11336390e+02, ...,\n",
       "        -2.92436962e+00, -5.36502479e+00, -3.49093930e+00],\n",
       "       [ 1.48966899e+03,  2.59427819e+02,  2.25410972e+02, ...,\n",
       "         2.93010811e+00,  1.10383388e+00,  4.87424803e+00]])"
      ]
     },
     "execution_count": 29,
     "metadata": {},
     "output_type": "execute_result"
    }
   ],
   "source": [
    "tmean"
   ]
  },
  {
   "cell_type": "code",
   "execution_count": 55,
   "metadata": {},
   "outputs": [
    {
     "name": "stdout",
     "output_type": "stream",
     "text": [
      "Initializing Datasets and Dataloaders...\n"
     ]
    }
   ],
   "source": [
    "ampl = 441\n",
    "batch_size = 1\n",
    "data_dir = 'D:/seva/598test/'\n",
    "data_transforms = {\n",
    "    'train': transforms.Compose([\\\n",
    "#             CmsCrop(550),\\\n",
    "#            Downsample(2),\\\n",
    "            Rescale(224),\\\n",
    "            AmpCrop(ampl),\\\n",
    "#             Minmax(tmean[:,:ampl]),\\\n",
    "#            Reshape(224),\\\n",
    "            ToTensor(device)\n",
    "    ]),\n",
    "    'val': transforms.Compose([\\\n",
    "#             CmsCrop(550),\\\n",
    "#            Downsample(2),\\\n",
    "            Rescale(224),\\\n",
    "            AmpCrop(ampl),\\\n",
    "#             Minmax(tmean[:,:ampl]),\\\n",
    "#            Reshape(224),\\\n",
    "            ToTensor(device)\n",
    "    ]),\n",
    "}\n",
    "print(\"Initializing Datasets and Dataloaders...\")\n",
    "\n",
    "# Create training and validation datasets\n",
    "image_datasets = {x: Seed3D_Dataset(root_dir=os.path.join(data_dir,x), \\\n",
    "                                    transform=data_transforms[x]) \n",
    "                  for x in ['train', 'val']}\n",
    "# Create training and validation dataloaders\n",
    "dataloaders_dict = {x: torch.utils.data.DataLoader(image_datasets[x], batch_size=batch_size, shuffle=False, num_workers=0) for x in ['train', 'val']}\n",
    "\n",
    "# Detect if we have a GPU available\n",
    "device = torch.device(\"cuda:0\" if torch.cuda.is_available() else \"cpu\")\n",
    "\n",
    "# dataset = Seed3D_Dataset(csv_file=mainpath+'/sh_paramters.csv', root_dir=data_dir, transform=data_transform)\n",
    "# dataloader = DataLoader(dataset, bs,\n",
    "#                         shuffle=False, num_workers=0)"
   ]
  },
  {
   "cell_type": "code",
   "execution_count": 43,
   "metadata": {},
   "outputs": [],
   "source": [
    "# phase = 'train'\n",
    "# bn = 100\n",
    "# for i_batch, sample_batched in enumerate(dataloaders_dict[phase]):\n",
    "#     print(i_batch)\n",
    "#     if i_batch == bn:\n",
    "#         break\n",
    "#     inputs = sample_batched['image']\n",
    "#     labels = sample_batched['landmarks']"
   ]
  },
  {
   "cell_type": "markdown",
   "metadata": {},
   "source": [
    "Create the Optimizer\n",
    "--------------------\n",
    "\n",
    "Now that the model structure is correct, the final step for finetuning\n",
    "and feature extracting is to create an optimizer that only updates the\n",
    "desired parameters. Recall that after loading the pretrained model, but\n",
    "before reshaping, if ``feature_extract=True`` we manually set all of the\n",
    "parameter’s ``.requires_grad`` attributes to False. Then the\n",
    "reinitialized layer’s parameters have ``.requires_grad=True`` by\n",
    "default. So now we know that *all parameters that have\n",
    ".requires_grad=True should be optimized.* Next, we make a list of such\n",
    "parameters and input this list to the SGD algorithm constructor.\n",
    "\n",
    "To verify this, check out the printed parameters to learn. When\n",
    "finetuning, this list should be long and include all of the model\n",
    "parameters. However, when feature extracting this list should be short\n",
    "and only include the weights and biases of the reshaped layers.\n",
    "\n",
    "\n"
   ]
  },
  {
   "cell_type": "code",
   "execution_count": 44,
   "metadata": {
    "collapsed": false,
    "jupyter": {
     "outputs_hidden": false
    }
   },
   "outputs": [],
   "source": [
    "# # Send the model to GPU\n",
    "# model_ft = model_ft.to(device)\n",
    "\n",
    "# # Gather the parameters to be optimized/updated in this run. If we are\n",
    "# #  finetuning we will be updating all parameters. However, if we are \n",
    "# #  doing feature extract method, we will only update the parameters\n",
    "# #  that we have just initialized, i.e. the parameters with requires_grad\n",
    "# #  is True.\n",
    "# params_to_update = model_ft.parameters()\n",
    "# print(\"Params to learn:\")\n",
    "# if feature_extract:\n",
    "#     params_to_update = []\n",
    "#     for name,param in model_ft.named_parameters():\n",
    "#         if param.requires_grad == True:\n",
    "#             params_to_update.append(param)\n",
    "#             print(\"\\t\",name)\n",
    "# else:\n",
    "#     for name,param in model_ft.named_parameters():\n",
    "#         if param.requires_grad == True:\n",
    "#             print(\"\\t\",name)\n",
    "\n",
    "# # Observe that all parameters are being optimized\n",
    "# optimizer_ft = optim.SGD(params_to_update, lr=0.001, momentum=0.9)"
   ]
  },
  {
   "cell_type": "code",
   "execution_count": 45,
   "metadata": {},
   "outputs": [],
   "source": [
    "#tmean[0][:9]/np.sum(tmean[0][:9])"
   ]
  },
  {
   "cell_type": "code",
   "execution_count": 46,
   "metadata": {},
   "outputs": [],
   "source": [
    "weightv = torch.tensor(tmean[0][:9]/np.sum(tmean[0][:9])).to(device)\n",
    "def my_loss(outputs, target):\n",
    "    l = torch.mean(torch.multiply(weightv,(outputs - target))**2)\n",
    "    return l"
   ]
  },
  {
   "cell_type": "markdown",
   "metadata": {},
   "source": [
    "Run Training and Validation Step\n",
    "--------------------------------\n",
    "\n",
    "Finally, the last step is to setup the loss for the model, then run the\n",
    "training and validation function for the set number of epochs. Notice,\n",
    "depending on the number of epochs this step may take a while on a CPU.\n",
    "Also, the default learning rate is not optimal for all of the models, so\n",
    "to achieve maximum accuracy it would be necessary to tune for each model\n",
    "separately.\n",
    "\n",
    "\n"
   ]
  },
  {
   "cell_type": "code",
   "execution_count": 49,
   "metadata": {
    "collapsed": false,
    "jupyter": {
     "outputs_hidden": false
    }
   },
   "outputs": [
    {
     "name": "stdout",
     "output_type": "stream",
     "text": [
      "Epoch 0/63\n",
      "----------\n",
      "train Loss: 829.643383\n",
      "val Loss: 658.783762\n",
      "\n",
      "Epoch 1/63\n",
      "----------\n",
      "train Loss: 627.080510\n",
      "val Loss: 480.730761\n",
      "\n",
      "Epoch 2/63\n",
      "----------\n",
      "train Loss: 439.091155\n",
      "val Loss: 331.083113\n",
      "\n",
      "Epoch 3/63\n",
      "----------\n",
      "train Loss: 290.601103\n",
      "val Loss: 219.655641\n",
      "\n",
      "Epoch 4/63\n",
      "----------\n",
      "train Loss: 178.828722\n",
      "val Loss: 137.718947\n",
      "\n",
      "Epoch 5/63\n",
      "----------\n",
      "train Loss: 102.194098\n",
      "val Loss: 78.955116\n",
      "\n",
      "Epoch 6/63\n",
      "----------\n",
      "train Loss: 56.296487\n",
      "val Loss: 40.429192\n",
      "\n",
      "Epoch 7/63\n",
      "----------\n",
      "train Loss: 33.062872\n",
      "val Loss: 20.233568\n",
      "\n",
      "Epoch 8/63\n",
      "----------\n",
      "train Loss: 22.982349\n",
      "val Loss: 14.871269\n",
      "\n",
      "Epoch 9/63\n",
      "----------\n",
      "train Loss: 18.984355\n",
      "val Loss: 14.541064\n",
      "\n",
      "Epoch 10/63\n",
      "----------\n",
      "train Loss: 15.602909\n",
      "val Loss: 15.786479\n",
      "\n",
      "Epoch 11/63\n",
      "----------\n",
      "train Loss: 13.242772\n",
      "val Loss: 20.237627\n",
      "\n",
      "Epoch 12/63\n",
      "----------\n",
      "train Loss: 11.468758\n",
      "val Loss: 17.666673\n",
      "\n",
      "Epoch 13/63\n",
      "----------\n",
      "train Loss: 10.562247\n",
      "val Loss: 22.068147\n",
      "\n",
      "Epoch 14/63\n",
      "----------\n",
      "train Loss: 9.791150\n",
      "val Loss: 26.831588\n",
      "\n",
      "Epoch 15/63\n",
      "----------\n",
      "train Loss: 9.755869\n",
      "val Loss: 27.823258\n",
      "\n",
      "Epoch 16/63\n",
      "----------\n",
      "train Loss: 9.368356\n",
      "val Loss: 19.014441\n",
      "\n",
      "Epoch 17/63\n",
      "----------\n",
      "train Loss: 9.068976\n",
      "val Loss: 25.862612\n",
      "\n",
      "Epoch 18/63\n",
      "----------\n",
      "train Loss: 8.777088\n",
      "val Loss: 21.406942\n",
      "\n",
      "Epoch 19/63\n",
      "----------\n",
      "train Loss: 8.565185\n",
      "val Loss: 30.063970\n",
      "\n",
      "Epoch 20/63\n",
      "----------\n",
      "train Loss: 8.625825\n",
      "val Loss: 24.018602\n",
      "\n",
      "Epoch 21/63\n",
      "----------\n",
      "train Loss: 8.351777\n",
      "val Loss: 30.187861\n",
      "\n",
      "Epoch 22/63\n",
      "----------\n",
      "train Loss: 8.453862\n",
      "val Loss: 55.822284\n",
      "\n",
      "Epoch 23/63\n",
      "----------\n",
      "train Loss: 8.229358\n",
      "val Loss: 32.971407\n",
      "\n",
      "Epoch 24/63\n",
      "----------\n",
      "train Loss: 8.346833\n",
      "val Loss: 42.202572\n",
      "\n",
      "Epoch 25/63\n",
      "----------\n",
      "train Loss: 8.166083\n",
      "val Loss: 42.031408\n",
      "\n",
      "Epoch 26/63\n",
      "----------\n",
      "train Loss: 8.161806\n",
      "val Loss: 75.969239\n",
      "\n",
      "Epoch 27/63\n",
      "----------\n",
      "train Loss: 8.028270\n",
      "val Loss: 36.095765\n",
      "\n",
      "Epoch 28/63\n",
      "----------\n",
      "train Loss: 8.125560\n",
      "val Loss: 29.141760\n",
      "\n",
      "Epoch 29/63\n",
      "----------\n",
      "train Loss: 8.249461\n",
      "val Loss: 21.002216\n",
      "\n",
      "Epoch 30/63\n",
      "----------\n",
      "train Loss: 8.035020\n",
      "val Loss: 20.947629\n",
      "\n",
      "Epoch 31/63\n",
      "----------\n",
      "train Loss: 8.269558\n",
      "val Loss: 39.015276\n",
      "\n",
      "Epoch 32/63\n",
      "----------\n",
      "train Loss: 7.964129\n",
      "val Loss: 46.730176\n",
      "\n",
      "Epoch 33/63\n",
      "----------\n",
      "train Loss: 8.298047\n",
      "val Loss: 18.321641\n",
      "\n",
      "Epoch 34/63\n",
      "----------\n",
      "train Loss: 8.090803\n",
      "val Loss: 21.727124\n",
      "\n",
      "Epoch 35/63\n",
      "----------\n",
      "train Loss: 7.925986\n",
      "val Loss: 27.386626\n",
      "\n",
      "Epoch 36/63\n",
      "----------\n",
      "train Loss: 8.149680\n",
      "val Loss: 23.098714\n",
      "\n",
      "Epoch 37/63\n",
      "----------\n",
      "train Loss: 8.118370\n",
      "val Loss: 20.500412\n",
      "\n",
      "Epoch 38/63\n",
      "----------\n",
      "train Loss: 8.124580\n",
      "val Loss: 42.817503\n",
      "\n",
      "Epoch 39/63\n",
      "----------\n",
      "train Loss: 7.948342\n",
      "val Loss: 19.311701\n",
      "\n",
      "Epoch 40/63\n",
      "----------\n",
      "train Loss: 7.868422\n",
      "val Loss: 19.540393\n",
      "\n",
      "Epoch 41/63\n",
      "----------\n",
      "train Loss: 8.118594\n",
      "val Loss: 20.804304\n",
      "\n",
      "Epoch 42/63\n",
      "----------\n",
      "train Loss: 7.945966\n",
      "val Loss: 22.931049\n",
      "\n",
      "Epoch 43/63\n",
      "----------\n",
      "train Loss: 7.879215\n",
      "val Loss: 22.202319\n",
      "\n",
      "Epoch 44/63\n",
      "----------\n",
      "train Loss: 7.836058\n",
      "val Loss: 22.524937\n",
      "\n",
      "Epoch 45/63\n",
      "----------\n",
      "train Loss: 8.042015\n",
      "val Loss: 22.938709\n",
      "\n",
      "Epoch 46/63\n",
      "----------\n",
      "train Loss: 7.856585\n",
      "val Loss: 21.714807\n",
      "\n",
      "Epoch 47/63\n",
      "----------\n",
      "train Loss: 7.847452\n",
      "val Loss: 24.330659\n",
      "\n",
      "Epoch 48/63\n",
      "----------\n",
      "train Loss: 7.875944\n",
      "val Loss: 20.706588\n",
      "\n",
      "Epoch 49/63\n",
      "----------\n",
      "train Loss: 7.830188\n",
      "val Loss: 20.653452\n",
      "\n",
      "Epoch 50/63\n",
      "----------\n",
      "train Loss: 7.772200\n",
      "val Loss: 21.526019\n",
      "\n",
      "Epoch 51/63\n",
      "----------\n",
      "train Loss: 7.847988\n",
      "val Loss: 25.032804\n",
      "\n",
      "Epoch 52/63\n",
      "----------\n",
      "train Loss: 7.797678\n",
      "val Loss: 23.885858\n",
      "\n",
      "Epoch 53/63\n",
      "----------\n",
      "train Loss: 7.816397\n",
      "val Loss: 21.779751\n",
      "\n",
      "Epoch 54/63\n",
      "----------\n",
      "train Loss: 7.827999\n",
      "val Loss: 32.000597\n",
      "\n",
      "Epoch 55/63\n",
      "----------\n",
      "train Loss: 7.848034\n",
      "val Loss: 20.163451\n",
      "\n",
      "Epoch 56/63\n",
      "----------\n",
      "train Loss: 7.890327\n",
      "val Loss: 21.012568\n",
      "\n",
      "Epoch 57/63\n",
      "----------\n",
      "train Loss: 7.818832\n",
      "val Loss: 23.669207\n",
      "\n",
      "Epoch 58/63\n",
      "----------\n",
      "train Loss: 8.009369\n",
      "val Loss: 26.645433\n",
      "\n",
      "Epoch 59/63\n",
      "----------\n",
      "train Loss: 8.017825\n",
      "val Loss: 23.607918\n",
      "\n",
      "Epoch 60/63\n",
      "----------\n",
      "train Loss: 7.888524\n",
      "val Loss: 23.185003\n",
      "\n",
      "Epoch 61/63\n",
      "----------\n",
      "train Loss: 7.863000\n",
      "val Loss: 26.507248\n",
      "\n",
      "Epoch 62/63\n",
      "----------\n",
      "train Loss: 7.918422\n",
      "val Loss: 27.457776\n",
      "\n",
      "Epoch 63/63\n",
      "----------\n",
      "train Loss: 7.822363\n",
      "val Loss: 24.912126\n",
      "\n",
      "Training complete in 257m 51s\n"
     ]
    }
   ],
   "source": [
    "# Setup the loss fxn\n",
    "#criterion = nn.CrossEntropyLoss()\n",
    "criterion = nn.MSELoss(reduction='mean')\n",
    "bn = 512\n",
    "num_epochs = 64\n",
    "model_name = 'densenet'\n",
    "lossar = np.zeros([2,num_epochs])\n",
    "#scratch_optimizer = optim.SGD(scratch_model.parameters(), lr=0.001, momentum=0.9)\n",
    "#for i,lr in enumerate([0.0001, 0.0005, 0.001, 0.005]):\n",
    "num_classes = 16\n",
    "ampl = num_classes\n",
    "smodel, input_size = initialize_model(model_name, num_classes, feature_extract=False, use_pretrained=False)\n",
    "# Train and evaluate\n",
    "smodel.to(device)\n",
    "lr=5e-5\n",
    "weight_decay=0.1\n",
    "scratch_optimizer = torch.optim.Adam(smodel.parameters(), \\\n",
    "            lr=lr, betas=(0.9, 0.999),\\\n",
    "            eps=1e-08, weight_decay=weight_decay, \\\n",
    "            amsgrad=False)\n",
    "model, lossar, timel = train_model(smodel, dataloaders_dict, criterion, scratch_optimizer, num_epochs=num_epochs, is_inception=(model_name==\"inception\"))"
   ]
  },
  {
   "cell_type": "code",
   "execution_count": 51,
   "metadata": {},
   "outputs": [
    {
     "name": "stderr",
     "output_type": "stream",
     "text": [
      "<ipython-input-51-3c48db08a4bd>:11: MatplotlibDeprecationWarning: Passing the minor parameter of set_ticks() positionally is deprecated since Matplotlib 3.2; the parameter will become keyword-only two minor releases later.\n",
      "  axes.set_xticks(np.arange(0, int(num_epochs*1.1)),\\\n"
     ]
    },
    {
     "data": {
      "image/png": "[encoded data removed]",
      "text/plain": [
       "<Figure size 648x360 with 1 Axes>"
      ]
     },
     "metadata": {
      "needs_background": "light"
     },
     "output_type": "display_data"
    }
   ],
   "source": [
    "def traplot(lossar,ampl,bn,batch_size,num_epochs,lr,timel):       \n",
    "    plt.rcParams[\"figure.figsize\"] = (9,5)\n",
    "#     linestyles = ['-', '--', '-.', ':', '-', '--',\\\n",
    "#                   '-.', ':', '-', '--', '-.', ':']\n",
    "#     colors = ['tab:blue', 'tab:orange', 'tab:green', 'tab:red']\n",
    "    fig = plt.figure()\n",
    "    axes = plt.gca()\n",
    "    labels_text = ['train', 'val']\n",
    "    for i in range(2):\n",
    "        plt.plot(np.arange(lossar.shape[1]),lossar[i,:],label=labels_text[i],linewidth=3)\n",
    "    axes.set_xticks(np.arange(0, int(num_epochs*1.1)),\\\n",
    "                              max(int(num_epochs*0.1),1))\n",
    "    plt.grid()\n",
    "    plt.legend(bbox_to_anchor=(1.05, 1), loc='best', borderaxespad=0., \\\n",
    "               fontsize = 24)\n",
    "    plt.xticks(fontsize=24)\n",
    "    plt.yticks(fontsize=24)\n",
    "    plt.autoscale(enable=True, axis='both', tight=None)\n",
    "    ymin, ymax = 0, 800\n",
    "    axes.set_ylim([ymin,ymax])\n",
    "    plt.xlabel('Epoch', fontsize=24)\n",
    "    plt.ylabel('log10(MSE Loss)', fontsize=24)\n",
    "    plt.savefig('plot output/'+\\\n",
    "                    'num_ampl='+str(ampl)+\\\n",
    "                    'bn'+str(bn)+\\\n",
    "                    'bs'+str(batch_size)+\\\n",
    "                    'epochs'+str(num_epochs)+\\\n",
    "                    'net_name=Densenet'+\\\n",
    "                    'lr'+str(lr)+\\\n",
    "                    'optimizer adam'+\\\n",
    "                    't'+timel+\\\n",
    "                '.png', bbox_inches='tight')\n",
    "    plt.title('Learning curve \\n', fontsize=24)\n",
    "    plt.show()\n",
    "traplot(lossar,ampl,bn,batch_size,num_epochs,lr,timel)"
   ]
  },
  {
   "cell_type": "markdown",
   "metadata": {},
   "source": [
    "### wegith decay search"
   ]
  },
  {
   "cell_type": "code",
   "execution_count": null,
   "metadata": {
    "collapsed": false,
    "jupyter": {
     "outputs_hidden": false
    }
   },
   "outputs": [],
   "source": [
    "# Setup the loss fxn\n",
    "#criterion = nn.CrossEntropyLoss()\n",
    "criterion = nn.MSELoss(reduction='mean')\n",
    "bn = 16\n",
    "num_epochs = 16\n",
    "model_name = 'densenet'\n",
    "wdl = [0.001, 0.01, 0.1, 1, 10]\n",
    "lossar = np.zeros([len(wdl),2,num_epochs])\n",
    "#scratch_optimizer = optim.SGD(scratch_model.parameters(), lr=0.001, momentum=0.9)\n",
    "for i,weight_decay in enumerate(wdl):\n",
    "    scratch_model, input_size = initialize_model(model_name, num_classes, feature_extract=False, use_pretrained=False)\n",
    "    # Train and evaluate\n",
    "    scratch_model.to(device)\n",
    "    scratch_optimizer = torch.optim.Adam(scratch_model.parameters(), weight_decay=weight_decay, \\\n",
    "                lr=1e-4, betas=(0.9, 0.999),\\\n",
    "                eps=1e-08,\\\n",
    "                amsgrad=False)\n",
    "    model, lossar[i] = train_model(scratch_model, dataloaders_dict, criterion, scratch_optimizer, num_epochs=num_epochs, is_inception=(model_name==\"inception\"))"
   ]
  },
  {
   "cell_type": "code",
   "execution_count": 33,
   "metadata": {},
   "outputs": [
    {
     "data": {
      "text/plain": [
       "7"
      ]
     },
     "execution_count": 33,
     "metadata": {},
     "output_type": "execute_result"
    }
   ],
   "source": [
    "lrl = [1e-5, 5e-5, 1e-4, 5e-4, 1e-3, 5e-3, 1e-2]\n",
    "len(lrl)"
   ]
  },
  {
   "cell_type": "code",
   "execution_count": 202,
   "metadata": {},
   "outputs": [
    {
     "data": {
      "text/plain": [
       "(2, 20)"
      ]
     },
     "execution_count": 202,
     "metadata": {},
     "output_type": "execute_result"
    }
   ],
   "source": [
    "lossar.shape"
   ]
  },
  {
   "cell_type": "code",
   "execution_count": 93,
   "metadata": {},
   "outputs": [
    {
     "data": {
      "text/plain": [
       "array([[2.04995030e-02, 9.64924691e-05, 1.37876347e-04, 1.84226616e-04,\n",
       "        1.50560811e-04, 1.58419303e-04, 2.41845946e-04, 3.11252642e-04,\n",
       "        3.25511936e-04, 3.05923130e-04, 3.45565953e-04, 2.97196371e-04,\n",
       "        3.12013336e-04, 3.74628986e-04, 3.71723389e-04, 3.41132772e-04],\n",
       "       [3.85777580e-03, 3.55341793e-03, 3.49242136e-03, 3.28530173e-03,\n",
       "        3.32482169e-03, 2.76218428e-03, 2.63229777e-03, 2.78199143e-03,\n",
       "        3.37241788e-03, 3.97525926e-03, 4.04708548e-03, 4.34427685e-03,\n",
       "        4.50497240e-03, 4.75319270e-03, 4.88700727e-03, 4.83826390e-03]])"
      ]
     },
     "execution_count": 93,
     "metadata": {},
     "output_type": "execute_result"
    }
   ],
   "source": [
    "lossar"
   ]
  },
  {
   "cell_type": "code",
   "execution_count": 91,
   "metadata": {},
   "outputs": [
    {
     "data": {
      "image/png": "[encoded data removed]",
      "text/plain": [
       "<Figure size 432x288 with 1 Axes>"
      ]
     },
     "metadata": {
      "needs_background": "light"
     },
     "output_type": "display_data"
    }
   ],
   "source": [
    "fig = plt.figure()\n",
    "axes = plt.gca()\n",
    "ymin, ymax = -5, 2\n",
    "axes.set_ylim([ymin,ymax])\n",
    "for i in range(2):\n",
    "    plt.plot(np.arange(lossar.shape[1]),np.log10(lossar[i,:]))\n",
    "plt.savefig('plot output/'+\\\n",
    "                'num_ampl='+str(ampl)+\\\n",
    "                'bn'+str(bn)+\\\n",
    "                'bs'+str(batch_size)+\\\n",
    "                'epochs'+str(num_epochs)+\\\n",
    "                'net_name=Densenet'+\\\n",
    "                'lr'+str(0.01)+\\\n",
    "                'optimizer adam'+\\\n",
    "                'time'+str(time.time())+\\\n",
    "            '.png', bbox_inches='tight')"
   ]
  },
  {
   "cell_type": "code",
   "execution_count": 35,
   "metadata": {},
   "outputs": [
    {
     "name": "stdout",
     "output_type": "stream",
     "text": [
      "(7, 2, 16)\n"
     ]
    }
   ],
   "source": [
    "print(lossar.shape)"
   ]
  },
  {
   "cell_type": "code",
   "execution_count": 97,
   "metadata": {},
   "outputs": [
    {
     "data": {
      "image/png": "[encoded data removed]",
      "text/plain": [
       "<Figure size 432x288 with 1 Axes>"
      ]
     },
     "metadata": {
      "needs_background": "light"
     },
     "output_type": "display_data"
    },
    {
     "data": {
      "image/png": "[encoded data removed]",
      "text/plain": [
       "<Figure size 432x288 with 1 Axes>"
      ]
     },
     "metadata": {
      "needs_background": "light"
     },
     "output_type": "display_data"
    }
   ],
   "source": [
    "for i in range(2):\n",
    "    fig = plt.figure()\n",
    "    axes = plt.gca()\n",
    "    ymin, ymax = -5, 1\n",
    "    axes.set_ylim([ymin,ymax])\n",
    "    for j in range(lossar.shape[0]):\n",
    "        plt.plot(np.arange(lossar.shape[2]),np.log10(lossar[j,i,:]))\n",
    "    plt.savefig('plot output/'+\\\n",
    "                    'num_ampl='+str(ampl)+\\\n",
    "                    'bn'+str(bn)+\\\n",
    "                    'bs'+str(batch_size)+\\\n",
    "                    'epochs'+str(num_epochs)+\\\n",
    "                    'net_name=Densenet'+\\\n",
    "                    'lr'+str(0.01)+\\\n",
    "                    'optimizer adam'+\\\n",
    "                    'time'+str(time.time())+\\\n",
    "                '.png', bbox_inches='tight')"
   ]
  },
  {
   "cell_type": "code",
   "execution_count": 64,
   "metadata": {},
   "outputs": [
    {
     "data": {
      "image/png": "[encoded data removed]",
      "text/plain": [
       "<Figure size 1080x432 with 8 Axes>"
      ]
     },
     "metadata": {
      "needs_background": "light"
     },
     "output_type": "display_data"
    }
   ],
   "source": [
    "linestyles = ['-', '--']\n",
    "colors = ['tab:blue', 'tab:orange', 'tab:green', 'tab:red', 'tab:purple', 'tab:brown', 'tab:pink']\n",
    "fig, axs = plt.subplots(2, 4, figsize=(15, 6), sharex=True, sharey=True)\n",
    "# fig = plt.figure()\n",
    "# axes = plt.gca()\n",
    "axs = axs.ravel()\n",
    "# ymin, ymax = -5, 1\n",
    "# axs.set_ylim([ymin,ymax])\n",
    "for j in range(lossar.shape[0]):\n",
    "    for i in range(2):\n",
    "        axs[j].plot(np.arange(lossar.shape[2]),np.log10(lossar[j,i,:]),linestyle=linestyles[i],color=colors[j])\n",
    "    plt.savefig('plot output/'+\\\n",
    "                    'num_ampl='+str(ampl)+\\\n",
    "                    'bn'+str(bn)+\\\n",
    "                    'bs'+str(batch_size)+\\\n",
    "                    'epochs'+str(num_epochs)+\\\n",
    "                    'net_name=Densenet'+\\\n",
    "                    'lr'+str(0.01)+\\\n",
    "                    'optimizer adam'+\\\n",
    "                    'time'+str(time.time())+\\\n",
    "                '.png', bbox_inches='tight')"
   ]
  },
  {
   "cell_type": "code",
   "execution_count": null,
   "metadata": {},
   "outputs": [],
   "source": [
    "# First create some toy data:\n",
    "x = np.linspace(0, 2*np.pi, 400)\n",
    "y = np.sin(x**2)\n",
    "\n",
    "# Create just a figure and only one subplot\n",
    "fig, ax = plt.subplots()\n",
    "ax.plot(x, y)\n",
    "ax.set_title('Simple plot')\n",
    "\n",
    "# Create two subplots and unpack the output array immediately\n",
    "f, (ax1, ax2) = plt.subplots(1, 2, sharey=True)\n",
    "ax1.plot(x, y)\n",
    "ax1.set_title('Sharing Y axis')\n",
    "ax2.scatter(x, y)\n",
    "\n",
    "# Create four polar axes and access them through the returned array\n",
    "fig, axs = plt.subplots(2, 2, subplot_kw=dict(projection=\"polar\"))\n",
    "axs[0, 0].plot(x, y)\n",
    "axs[1, 1].scatter(x, y)\n",
    "\n",
    "# Share a X axis with each column of subplots\n",
    "plt.subplots(2, 2, sharex='col')\n",
    "\n",
    "# Share a Y axis with each row of subplots\n",
    "plt.subplots(2, 2, sharey='row')\n",
    "\n",
    "# Share both X and Y axes with all subplots\n",
    "plt.subplots(2, 2, sharex='all', sharey='all')\n",
    "\n",
    "# Note that this is the same as\n",
    "plt.subplots(2, 2, sharex=True, sharey=True)\n",
    "\n",
    "# Create figure number 10 with a single subplot\n",
    "# and clears it if it already exists.\n",
    "fig, ax = plt.subplots(num=10, clear=True)"
   ]
  },
  {
   "cell_type": "code",
   "execution_count": 41,
   "metadata": {},
   "outputs": [
    {
     "data": {
      "image/png": "[encoded data removed]",
      "text/plain": [
       "<Figure size 432x288 with 1 Axes>"
      ]
     },
     "metadata": {
      "needs_background": "light"
     },
     "output_type": "display_data"
    }
   ],
   "source": [
    "linestyles = ['-', '--']\n",
    "colors = ['tab:blue', 'tab:orange', 'tab:green', 'tab:red', 'tab:purple', 'tab:brown', 'tab:pink']\n",
    "fig = plt.figure()\n",
    "axes = plt.gca()\n",
    "ymin, ymax = -5, 1\n",
    "axes.set_ylim([ymin,ymax])\n",
    "for j in range(lossar.shape[0]):\n",
    "    for i in range(2):\n",
    "        plt.plot(np.arange(lossar.shape[2]),np.log10(lossar[j,i,:]),linestyle=linestyles[i],color=colors[j])\n",
    "        plt.savefig('plot output/'+\\\n",
    "                        'num_ampl='+str(ampl)+\\\n",
    "                        'bn'+str(bn)+\\\n",
    "                        'bs'+str(batch_size)+\\\n",
    "                        'epochs'+str(num_epochs)+\\\n",
    "                        'net_name=Densenet'+\\\n",
    "                        'lr'+str(0.01)+\\\n",
    "                        'optimizer adam'+\\\n",
    "                        'time'+str(time.time())+\\\n",
    "                    '.png', bbox_inches='tight')"
   ]
  },
  {
   "cell_type": "code",
   "execution_count": 75,
   "metadata": {},
   "outputs": [
    {
     "data": {
      "text/plain": [
       "'C:\\\\Users\\\\v.cherepashkin\\\\Documents\\\\GitHub\\\\circles\\\\elfit'"
      ]
     },
     "execution_count": 75,
     "metadata": {},
     "output_type": "execute_result"
    }
   ],
   "source": [
    "pwd"
   ]
  },
  {
   "cell_type": "code",
   "execution_count": 79,
   "metadata": {},
   "outputs": [
    {
     "data": {
      "text/plain": [
       "-11610.3403257751"
      ]
     },
     "execution_count": 79,
     "metadata": {},
     "output_type": "execute_result"
    }
   ],
   "source": [
    "np.min(tmean[2])"
   ]
  },
  {
   "cell_type": "code",
   "execution_count": 80,
   "metadata": {},
   "outputs": [
    {
     "data": {
      "text/plain": [
       "11770.2364982778"
      ]
     },
     "execution_count": 80,
     "metadata": {},
     "output_type": "execute_result"
    }
   ],
   "source": [
    "np.max(tmean[3])"
   ]
  },
  {
   "cell_type": "code",
   "execution_count": null,
   "metadata": {},
   "outputs": [],
   "source": [
    "[-11610.3403257751, 11770.2364982778]"
   ]
  },
  {
   "cell_type": "markdown",
   "metadata": {},
   "source": [
    "### print results of the model regression"
   ]
  },
  {
   "cell_type": "code",
   "execution_count": 56,
   "metadata": {},
   "outputs": [],
   "source": [
    "phase = 'val'\n",
    "bn = 1\n",
    "ampl = 441\n",
    "dataloaders = dataloaders_dict\n",
    "for i_batch, sample_batched in enumerate(dataloaders[phase]):\n",
    "    if i_batch == bn:\n",
    "        break\n",
    "    inputs = sample_batched['image']\n",
    "    gt = sample_batched['landmarks']\n",
    "#    o = model(inputs)\n",
    "#    print(model(inputs).shape)\n",
    "#    minv, maxv = (-11610.3403257751, 11770.2364982778)\n",
    "    minv,maxv = tmean[2,:ampl], tmean[3,:ampl]\n",
    "#     minv = np.min(tmean[2])\n",
    "#     maxv = np.max(tmean[3])\n",
    "#    output = (model(inputs).detach().cpu().numpy()*(maxv-minv))+minv\n",
    "#    real_output = (gt.detach().cpu().numpy()*(maxv-minv))+minv#\n",
    "#    print(output[0])\n",
    " #   print(real_output[0])\n",
    "#    print(o[0])"
   ]
  },
  {
   "cell_type": "code",
   "execution_count": 57,
   "metadata": {},
   "outputs": [
    {
     "data": {
      "text/plain": [
       "tensor([ 1.1641e+02, -4.5133e+00, -1.2207e+00,  2.5304e+00,  1.2562e+00,\n",
       "         1.5972e+00,  2.8478e+01, -3.3876e-01, -4.0248e+00, -1.3099e+00,\n",
       "         8.2582e-01, -7.3362e-01,  2.0641e+00, -1.2145e+00, -7.4109e-01,\n",
       "        -2.9851e+00,  1.5615e-01, -5.8619e-01,  6.8383e-01, -6.0210e-01,\n",
       "         9.3158e+00,  6.1056e-01, -1.1432e+00, -1.3014e+00,  3.0312e+00,\n",
       "         2.4074e+00,  1.2658e-01, -6.6127e-01, -4.6614e-01,  7.0604e-01,\n",
       "         1.0466e+00, -1.1268e+00, -6.1773e-01, -1.6800e+00, -1.2789e+00,\n",
       "        -6.3853e-01, -6.1669e-01, -6.9443e-01, -5.7530e-01, -3.4175e-01,\n",
       "         6.8189e-01, -8.1126e-01,  3.3709e+00,  1.5084e-01, -2.1958e-01,\n",
       "        -8.6612e-01,  1.7996e+00, -2.5033e-01, -9.3355e-01, -1.9907e-01,\n",
       "         2.7847e-01,  1.4560e+00,  4.2285e-01, -6.0106e-01, -5.3946e-01,\n",
       "         5.1205e-01,  2.7113e-01, -4.6973e-01, -4.3039e-01, -1.1173e+00,\n",
       "        -8.7920e-01, -2.3119e-01,  8.4185e-02, -8.6129e-01, -1.0549e-01,\n",
       "        -9.1023e-02, -1.6747e-01, -4.9338e-01, -2.8680e-01, -6.6550e-02,\n",
       "         2.4039e-01, -1.4973e-01,  1.1219e+00,  5.2580e-02, -1.4318e-01,\n",
       "        -3.6527e-01,  6.9411e-01,  1.9737e-01, -4.7317e-01,  3.5967e-01,\n",
       "        -8.9395e-03,  1.1817e+00,  5.4227e-02, -1.4636e-02,  1.9901e-02,\n",
       "         9.9262e-01,  2.6778e-01, -4.8874e-01, -1.2356e-01,  7.6717e-02,\n",
       "        -2.5340e-02, -3.0001e-01, -1.8780e-01, -7.3781e-01, -3.5893e-01,\n",
       "        -3.3195e-01,  9.2400e-02, -4.8071e-01, -4.3719e-01,  2.1022e-01,\n",
       "        -1.2973e-02, -3.0289e-01, -2.5603e-01, -2.1053e-01, -1.9185e-01,\n",
       "        -3.0926e-01, -6.1280e-02,  2.9697e-03, -1.0761e-01, -7.3040e-02,\n",
       "         3.3188e-01,  2.8883e-02, -1.3287e-01, -2.3420e-01,  3.0887e-01,\n",
       "         3.0193e-01, -1.7764e-01,  3.4344e-01,  6.0186e-02,  2.5114e-02,\n",
       "        -9.2880e-02, -4.5466e-01,  5.7405e-04,  4.4702e-01,  1.0218e-01,\n",
       "         1.1584e-01,  5.5525e-02,  7.9781e-01,  1.4135e-01, -3.5462e-01,\n",
       "         1.4689e-01, -5.8344e-02, -8.0402e-02, -2.0618e-01, -7.7795e-02,\n",
       "        -4.9197e-01, -2.5086e-01, -1.9851e-01,  1.2964e-02, -1.1765e-01,\n",
       "        -2.2999e-01,  1.0492e-02,  2.5746e-01, -2.0144e-01, -5.6196e-01,\n",
       "        -1.9659e-01,  8.0035e-02, -5.6596e-02, -6.8007e-02, -1.9490e-01,\n",
       "        -2.2006e-01, -1.6214e-01, -1.1599e-02, -2.1521e-02, -1.9043e-01,\n",
       "         1.4375e-02,  1.8555e-01,  6.4625e-02, -7.8023e-02, -7.9174e-02,\n",
       "         1.4700e-01,  2.5092e-01, -5.9899e-02,  1.8659e-01, -4.9380e-02,\n",
       "         1.7934e-01,  1.3203e-01,  2.6821e-01, -1.6435e-02,  1.0972e-01,\n",
       "         1.9658e-01, -8.5247e-02,  1.5100e-01,  1.2307e-01,  9.8064e-02,\n",
       "         1.0099e-01, -1.0648e-02,  5.6942e-01,  1.2121e-02, -1.7664e-01,\n",
       "         2.2639e-01, -1.4936e-01, -7.9067e-02, -1.8780e-01,  1.3491e-03,\n",
       "        -3.0808e-01, -1.3369e-02, -1.1402e-01, -1.2221e-02,  2.0695e-02,\n",
       "        -1.8247e-01, -9.2898e-02,  1.7584e-01, -6.7241e-03,  5.0808e-02,\n",
       "         1.4643e-01,  4.1559e-02, -1.7706e-02, -3.3159e-01, -2.3859e-02,\n",
       "         4.3258e-02,  1.0781e-01, -1.0679e-02, -1.3682e-01, -1.4469e-01,\n",
       "        -4.9783e-02,  4.1417e-02, -3.6952e-02, -1.7025e-01,  7.3019e-02,\n",
       "         2.1862e-01,  1.3835e-02, -2.2306e-02, -2.2884e-02,  8.1060e-02,\n",
       "         2.3645e-01, -3.8986e-02,  5.7291e-02, -7.2268e-02,  9.7338e-02,\n",
       "         7.4063e-02,  1.7262e-01,  3.3656e-02, -4.9947e-02, -4.7586e-02,\n",
       "        -9.5339e-02, -1.1102e-01,  3.8455e-02,  1.2277e-01, -2.4097e-02,\n",
       "         1.6591e-01,  5.5874e-03,  1.1047e-01,  5.0822e-02,  1.8274e-03,\n",
       "         3.5516e-01,  2.3687e-02, -4.5473e-02,  2.5817e-01, -1.2863e-01,\n",
       "        -8.1075e-02, -9.1108e-02,  8.4395e-03, -1.3322e-01,  6.7577e-02,\n",
       "        -7.5107e-02, -4.8557e-03,  4.6515e-02, -1.2675e-01, -1.6499e-01,\n",
       "         1.5687e-01,  3.5106e-02, -7.9514e-02,  1.5128e-01, -8.7205e-03,\n",
       "        -1.3081e-01, -1.8644e-01, -6.7976e-03,  3.5424e-02, -6.7019e-02,\n",
       "        -1.3097e-01, -4.6636e-02, -1.9459e-02,  3.5790e-02, -3.2224e-02,\n",
       "        -1.0063e-01, -1.9750e-01,  1.3894e-02,  7.6855e-03, -1.8925e-03,\n",
       "        -1.6152e-01,  1.2058e-01,  2.2272e-01, -4.7815e-02, -1.3956e-02,\n",
       "        -2.6888e-02,  6.7284e-02,  2.0101e-01, -2.9138e-02,  1.2722e-02,\n",
       "        -1.0901e-01,  2.0890e-03, -4.0376e-02,  4.5695e-02, -6.1598e-03,\n",
       "        -1.5801e-01,  3.1907e-02,  2.2115e-02,  9.5621e-02,  1.8182e-01,\n",
       "         7.7823e-02, -2.2491e-02, -3.4016e-02,  2.6931e-02,  1.7254e-02,\n",
       "        -6.4505e-02,  1.0128e-01,  3.3644e-03,  5.4828e-02, -1.2063e-04,\n",
       "         1.0076e-02,  1.9526e-01,  3.1070e-02,  2.4672e-02,  1.9069e-01,\n",
       "        -5.6555e-02, -6.0717e-02, -3.4192e-02,  2.3300e-02, -1.4590e-02,\n",
       "         8.0165e-02, -3.8606e-02, -7.0129e-03,  6.3564e-02, -8.7510e-02,\n",
       "        -7.5095e-02,  1.3444e-01,  1.2013e-01, -1.0361e-01,  6.4733e-02,\n",
       "        -2.0260e-02, -1.3279e-01,  4.9085e-02,  8.8889e-02,  1.1069e-01,\n",
       "        -2.7441e-02, -9.1138e-03,  5.5724e-02, -2.0744e-02, -1.5666e-01,\n",
       "        -5.7550e-02, -4.2030e-03, -3.5733e-02,  5.5772e-03, -5.5485e-02,\n",
       "        -5.8257e-02, -1.3567e-01,  2.6436e-02, -1.8547e-02,  2.4980e-02,\n",
       "        -8.9152e-02,  1.2780e-01,  1.4757e-01, -8.1553e-02, -1.2290e-02,\n",
       "        -2.2310e-02,  9.5969e-02,  1.5176e-01,  1.8489e-02, -4.7094e-02,\n",
       "        -7.4854e-02, -2.6153e-02, -4.7675e-02, -5.2279e-03, -6.2720e-03,\n",
       "        -4.0596e-02, -7.9191e-02, -1.3673e-02, -1.9239e-02,  1.3131e-02,\n",
       "        -7.8643e-02, -4.8531e-03,  3.4483e-02,  8.3510e-02, -1.2165e-02,\n",
       "        -5.2699e-02, -1.0540e-02,  2.7745e-02, -3.0627e-02, -1.1753e-01,\n",
       "         1.2495e-01,  6.6750e-02,  4.9453e-02,  2.5902e-02,  3.2951e-02,\n",
       "         1.3119e-01,  9.5458e-03,  8.9066e-02,  1.7216e-01,  7.4870e-02,\n",
       "        -8.7194e-02,  8.0267e-04, -4.5847e-04,  2.8535e-02,  8.0987e-02,\n",
       "        -2.5662e-02, -8.2419e-02,  2.8537e-02, -5.5442e-02, -4.8939e-02,\n",
       "         1.9513e-01,  1.9561e-01, -2.5703e-02, -4.4817e-02,  1.3413e-01,\n",
       "        -4.8100e-02, -3.9752e-02,  3.4518e-02, -7.8486e-02, -8.6585e-02,\n",
       "        -1.7573e-01, -1.1413e-01, -1.6931e-02, -9.0406e-02,  1.2031e-02,\n",
       "         1.2222e-01, -8.8122e-02, -1.2949e-01, -3.6208e-02,  5.3222e-02,\n",
       "         1.8399e-02,  1.5750e-03, -1.2892e-01, -9.5873e-02, -2.3843e-01,\n",
       "         5.8401e-02, -1.6195e-02,  7.5223e-02, -3.2249e-02,  1.9260e-01,\n",
       "         1.4213e-01, -9.9569e-02, -5.6285e-02, -4.0349e-02,  1.4476e-01,\n",
       "         2.0668e-01,  3.8208e-02, -4.9936e-02, -8.4095e-02, -2.5114e-02,\n",
       "        -7.7722e-02, -1.9068e-02,  1.8543e-02,  1.2647e-02, -1.4143e-01,\n",
       "        -2.9373e-02,  2.7103e-02, -2.3505e-03,  2.4784e-02, -4.3243e-02,\n",
       "        -8.5931e-02], device='cuda:0')"
      ]
     },
     "execution_count": 57,
     "metadata": {},
     "output_type": "execute_result"
    }
   ],
   "source": [
    "gt[0]"
   ]
  },
  {
   "cell_type": "markdown",
   "metadata": {},
   "source": [
    "## Return SH coefficient vector from the trained model"
   ]
  },
  {
   "cell_type": "code",
   "execution_count": 55,
   "metadata": {},
   "outputs": [
    {
     "name": "stdout",
     "output_type": "stream",
     "text": [
      "(4, 9)\n"
     ]
    }
   ],
   "source": [
    "print(tmean[:,:ampl].shape)"
   ]
  },
  {
   "cell_type": "code",
   "execution_count": 35,
   "metadata": {},
   "outputs": [],
   "source": [
    "minar = np.array([-0.000137326, -0.000210213, -0.000158576, -5.0600000000000003e-05,\\\n",
    "-3.02e-05, -5.03e-05, -0.001162729, -0.007046136999999999,\\\n",
    "-0.001537516])\n",
    "maxar = np.array([-6.28e-06, -1.62e-05, -5.35e-06, 7.730000000000001e-05,\\\n",
    "0.000183897, 0.000125373, 0.018726644, 0.016954233, 0.018678133])"
   ]
  },
  {
   "cell_type": "code",
   "execution_count": 78,
   "metadata": {},
   "outputs": [],
   "source": [
    "def polyToParams3D(vec,printMe):                             \n",
    "    #gets 3D parameters of an ellipsoid. Found at http://www.juddzone.com/ALGORITHMS/least_squares_3D_ellipsoid.html\n",
    "    # convert the polynomial form of the 3D-ellipsoid to parameters\n",
    "    # center, axes, and transformation matrix\n",
    "    # vec is the vector whose elements are the polynomial\n",
    "    # coefficients A..J\n",
    "    # returns (center, axes, rotation matrix)\n",
    "    \n",
    "    #Algebraic form: X.T * Amat * X --> polynomial form\n",
    "    \n",
    "    if printMe: print('\\npolynomial\\n',vec)\n",
    "    \n",
    "    Amat=np.array(\n",
    "    [\n",
    "    [ vec[0],     vec[3]/2.0, vec[4]/2.0, vec[6]/2.0 ],\n",
    "    [ vec[3]/2.0, vec[1],     vec[5]/2.0, vec[7]/2.0 ],\n",
    "    [ vec[4]/2.0, vec[5]/2.0, vec[2],     vec[8]/2.0 ],\n",
    "    [ vec[6]/2.0, vec[7]/2.0, vec[8]/2.0, vec[9]     ]\n",
    "    ])\n",
    "    \n",
    "    if printMe: print('\\nAlgebraic form of polynomial\\n',Amat)\n",
    "    \n",
    "    #See B.Bartoni, Preprint SMU-HEP-10-14 Multi-dimensional Ellipsoidal Fitting\n",
    "    # equation 20 for the following method for finding the center\n",
    "    A3=Amat[0:3,0:3]\n",
    "    A3inv=inv(A3)\n",
    "    ofs=vec[6:9]/2.0\n",
    "    center=-np.dot(A3inv,ofs)\n",
    "    if printMe: print('\\nCenter at:',center)\n",
    "    \n",
    "    # Center the ellipsoid at the origin\n",
    "    Tofs=np.eye(4)\n",
    "    Tofs[3,0:3]=center\n",
    "    R = np.dot(Tofs,np.dot(Amat,Tofs.T))\n",
    "    if printMe: print('\\nAlgebraic form translated to center\\n',R,'\\n')\n",
    "    \n",
    "    R3=R[0:3,0:3]\n",
    "    R3test=R3/R3[0,0]\n",
    "    # print('normed \\n',R3test)\n",
    "    s1=-R[3, 3]\n",
    "    R3S=R3/s1\n",
    "    (el,ec)=eig(R3S)\n",
    "    \n",
    "    recip=1.0/np.abs(el)\n",
    "    axes=np.sqrt(recip)\n",
    "    if printMe: print('\\nAxes are\\n',axes  ,'\\n')\n",
    "    \n",
    "    inve=inv(ec) #inverse is actually the transpose here\n",
    "    if printMe: print('\\nRotation matrix\\n',inve)\n",
    "    return (center,R,axes,inve)"
   ]
  },
  {
   "cell_type": "code",
   "execution_count": 79,
   "metadata": {},
   "outputs": [],
   "source": [
    "phase = 'val'\n",
    "bn = 1\n",
    "ampl = 9\n",
    "dataloaders = dataloaders_dict\n",
    "for i_batch, sample_batched in enumerate(dataloaders[phase]):\n",
    "    if i_batch == bn:\n",
    "        break\n",
    "    inputs = sample_batched['image']\n",
    "    gt = sample_batched['landmarks']\n",
    "#    print(model(inputs).shape)\n",
    "    output = np.multiply(model(inputs).detach().cpu().numpy(),maxar-minar)+minar\n",
    "    real_output = np.multiply(gt.detach().cpu().numpy(),maxar-minar)+minar\n",
    "    opar = polyToParams3D(np.concatenate((output[0], [1])),False)\n",
    "    ropar = polyToParams3D(np.concatenate((real_output[0], [1])), False)"
   ]
  },
  {
   "cell_type": "code",
   "execution_count": 80,
   "metadata": {},
   "outputs": [],
   "source": [
    "def elplot(coefs):\n",
    "    fig = plt.figure(figsize=plt.figaspect(1))  # Square figure\n",
    "    ax = fig.add_subplot(111, projection='3d')\n",
    "\n",
    "    #coefs = (69.34982626, 37.77689546, 36.27027196)  # Coefficients in a0/c x**2 + a1/c y**2 + a2/c z**2 = 1 \n",
    "#    coefs = opar\n",
    "    # Radii corresponding to the coefficients:\n",
    "    rx, ry, rz = 1/np.sqrt(coefs)\n",
    "\n",
    "    # Set of all spherical angles:\n",
    "    u = np.linspace(0, 2 * np.pi, 100)\n",
    "    v = np.linspace(0, np.pi, 100)\n",
    "\n",
    "    # Cartesian coordinates that correspond to the spherical angles:\n",
    "    # (this is the equation of an ellipsoid):\n",
    "    x = rx * np.outer(np.cos(u), np.sin(v))\n",
    "    y = ry * np.outer(np.sin(u), np.sin(v))\n",
    "    z = rz * np.outer(np.ones_like(u), np.cos(v))\n",
    "\n",
    "    # Plot:\n",
    "    ax.plot_surface(x, y, z,  rstride=4, cstride=4, color='b')\n",
    "\n",
    "    # Adjustment of the axes, so that they all have the same span:\n",
    "    max_radius = max(rx, ry, rz)\n",
    "    for axis in 'xyz':\n",
    "        getattr(ax, 'set_{}lim'.format(axis))((-max_radius, max_radius))\n",
    "\n",
    "    plt.show()"
   ]
  },
  {
   "cell_type": "code",
   "execution_count": 81,
   "metadata": {},
   "outputs": [],
   "source": [
    "def elplot2(center,A):\n",
    "    # your ellispsoid and center in matrix form\n",
    "#    A = np.array([[1,0,0],[0,2,0],[0,0,2]])\n",
    "#    center = [0,0,0]\n",
    "\n",
    "    # find the rotation matrix and radii of the axes\n",
    "    U, s, rotation = linalg.svd(A)\n",
    "    radii = 1.0/np.sqrt(s)\n",
    "\n",
    "    # now carry on with EOL's answer\n",
    "    u = np.linspace(0.0, 2.0 * np.pi, 100)\n",
    "    v = np.linspace(0.0, np.pi, 100)\n",
    "    x = radii[0] * np.outer(np.cos(u), np.sin(v))\n",
    "    y = radii[1] * np.outer(np.sin(u), np.sin(v))\n",
    "    z = radii[2] * np.outer(np.ones_like(u), np.cos(v))\n",
    "    for i in range(len(x)):\n",
    "        for j in range(len(x)):\n",
    "            [x[i,j],y[i,j],z[i,j]] = np.dot([x[i,j],y[i,j],z[i,j]], rotation) + center\n",
    "\n",
    "    # plot\n",
    "    fig = plt.figure()\n",
    "    ax = fig.add_subplot(111, projection='3d')\n",
    "    ax.plot_wireframe(x, y, z,  rstride=4, cstride=4, color='b', alpha=0.2)\n",
    "    plt.show()\n",
    "    plt.close(fig)\n",
    "    del fig"
   ]
  },
  {
   "cell_type": "code",
   "execution_count": 82,
   "metadata": {},
   "outputs": [
    {
     "data": {
      "text/plain": [
       "array([[-3.77197154e-05, -5.56380590e-06, -1.43609538e-05],\n",
       "       [-5.56380590e-06, -5.27429310e-05,  5.05361075e-06],\n",
       "       [-1.43609538e-05,  5.05361075e-06, -1.40598868e-05]])"
      ]
     },
     "execution_count": 82,
     "metadata": {},
     "output_type": "execute_result"
    }
   ],
   "source": [
    "opar[1][:3,:3]"
   ]
  },
  {
   "cell_type": "code",
   "execution_count": 83,
   "metadata": {},
   "outputs": [
    {
     "data": {
      "image/png": "[encoded data removed]",
      "text/plain": [
       "<Figure size 432x288 with 1 Axes>"
      ]
     },
     "metadata": {
      "needs_background": "light"
     },
     "output_type": "display_data"
    }
   ],
   "source": [
    "elplot2(opar[0],opar[1][:3,:3])"
   ]
  },
  {
   "cell_type": "code",
   "execution_count": 84,
   "metadata": {},
   "outputs": [
    {
     "data": {
      "image/png": "[encoded data removed]",
      "text/plain": [
       "<Figure size 432x288 with 1 Axes>"
      ]
     },
     "metadata": {
      "needs_background": "light"
     },
     "output_type": "display_data"
    }
   ],
   "source": [
    "elplot2(ropar[0],ropar[1][:3,:3])"
   ]
  },
  {
   "cell_type": "code",
   "execution_count": 97,
   "metadata": {},
   "outputs": [
    {
     "name": "stderr",
     "output_type": "stream",
     "text": [
      "<ipython-input-97-6e214b117730>:4: MatplotlibDeprecationWarning: Adding an axes using the same arguments as a previous axes currently reuses the earlier instance.  In a future version, a new instance will always be created and returned.  Meanwhile, this warning can be suppressed, and the future behavior ensured, by passing a unique label to each axes instance.\n",
      "  ax1 = plt.subplot(2, 2, 1)\n"
     ]
    },
    {
     "ename": "ValueError",
     "evalue": "The Subplot must have been created in the present figure",
     "output_type": "error",
     "traceback": [
      "\u001b[1;31m---------------------------------------------------------------------------\u001b[0m",
      "\u001b[1;31mValueError\u001b[0m                                Traceback (most recent call last)",
      "\u001b[1;32m<ipython-input-97-6e214b117730>\u001b[0m in \u001b[0;36m<module>\u001b[1;34m\u001b[0m\n\u001b[0;32m     17\u001b[0m \u001b[1;33m\u001b[0m\u001b[0m\n\u001b[0;32m     18\u001b[0m \u001b[1;31m# add ax2 to the figure again\u001b[0m\u001b[1;33m\u001b[0m\u001b[1;33m\u001b[0m\u001b[1;33m\u001b[0m\u001b[0m\n\u001b[1;32m---> 19\u001b[1;33m \u001b[0mplt\u001b[0m\u001b[1;33m.\u001b[0m\u001b[0msubplot\u001b[0m\u001b[1;33m(\u001b[0m\u001b[0max2\u001b[0m\u001b[1;33m)\u001b[0m\u001b[1;33m\u001b[0m\u001b[1;33m\u001b[0m\u001b[0m\n\u001b[0m\u001b[0;32m     20\u001b[0m \u001b[1;33m\u001b[0m\u001b[0m\n\u001b[0;32m     21\u001b[0m \u001b[1;31m# make the first axes \"current\" again\u001b[0m\u001b[1;33m\u001b[0m\u001b[1;33m\u001b[0m\u001b[1;33m\u001b[0m\u001b[0m\n",
      "\u001b[1;32m~\\Anaconda3\\envs\\sh\\lib\\site-packages\\matplotlib\\pyplot.py\u001b[0m in \u001b[0;36msubplot\u001b[1;34m(*args, **kwargs)\u001b[0m\n\u001b[0;32m   1140\u001b[0m \u001b[1;33m\u001b[0m\u001b[0m\n\u001b[0;32m   1141\u001b[0m     \u001b[0mfig\u001b[0m \u001b[1;33m=\u001b[0m \u001b[0mgcf\u001b[0m\u001b[1;33m(\u001b[0m\u001b[1;33m)\u001b[0m\u001b[1;33m\u001b[0m\u001b[1;33m\u001b[0m\u001b[0m\n\u001b[1;32m-> 1142\u001b[1;33m     \u001b[0max\u001b[0m \u001b[1;33m=\u001b[0m \u001b[0mfig\u001b[0m\u001b[1;33m.\u001b[0m\u001b[0madd_subplot\u001b[0m\u001b[1;33m(\u001b[0m\u001b[1;33m*\u001b[0m\u001b[0margs\u001b[0m\u001b[1;33m,\u001b[0m \u001b[1;33m**\u001b[0m\u001b[0mkwargs\u001b[0m\u001b[1;33m)\u001b[0m\u001b[1;33m\u001b[0m\u001b[1;33m\u001b[0m\u001b[0m\n\u001b[0m\u001b[0;32m   1143\u001b[0m     \u001b[0mbbox\u001b[0m \u001b[1;33m=\u001b[0m \u001b[0max\u001b[0m\u001b[1;33m.\u001b[0m\u001b[0mbbox\u001b[0m\u001b[1;33m\u001b[0m\u001b[1;33m\u001b[0m\u001b[0m\n\u001b[0;32m   1144\u001b[0m     \u001b[0maxes_to_delete\u001b[0m \u001b[1;33m=\u001b[0m \u001b[1;33m[\u001b[0m\u001b[1;33m]\u001b[0m\u001b[1;33m\u001b[0m\u001b[1;33m\u001b[0m\u001b[0m\n",
      "\u001b[1;32m~\\Anaconda3\\envs\\sh\\lib\\site-packages\\matplotlib\\figure.py\u001b[0m in \u001b[0;36madd_subplot\u001b[1;34m(self, *args, **kwargs)\u001b[0m\n\u001b[0;32m   1370\u001b[0m             \u001b[0max\u001b[0m \u001b[1;33m=\u001b[0m \u001b[0margs\u001b[0m\u001b[1;33m[\u001b[0m\u001b[1;36m0\u001b[0m\u001b[1;33m]\u001b[0m\u001b[1;33m\u001b[0m\u001b[1;33m\u001b[0m\u001b[0m\n\u001b[0;32m   1371\u001b[0m             \u001b[1;32mif\u001b[0m \u001b[0max\u001b[0m\u001b[1;33m.\u001b[0m\u001b[0mget_figure\u001b[0m\u001b[1;33m(\u001b[0m\u001b[1;33m)\u001b[0m \u001b[1;32mis\u001b[0m \u001b[1;32mnot\u001b[0m \u001b[0mself\u001b[0m\u001b[1;33m:\u001b[0m\u001b[1;33m\u001b[0m\u001b[1;33m\u001b[0m\u001b[0m\n\u001b[1;32m-> 1372\u001b[1;33m                 raise ValueError(\"The Subplot must have been created in \"\n\u001b[0m\u001b[0;32m   1373\u001b[0m                                  \"the present figure\")\n\u001b[0;32m   1374\u001b[0m             \u001b[1;31m# make a key for the subplot (which includes the axes object id\u001b[0m\u001b[1;33m\u001b[0m\u001b[1;33m\u001b[0m\u001b[1;33m\u001b[0m\u001b[0m\n",
      "\u001b[1;31mValueError\u001b[0m: The Subplot must have been created in the present figure"
     ]
    },
    {
     "data": {
      "image/png": "[encoded data removed]",
      "text/plain": [
       "<Figure size 432x288 with 3 Axes>"
      ]
     },
     "metadata": {
      "needs_background": "light"
     },
     "output_type": "display_data"
    }
   ],
   "source": [
    "plt.subplot(221)\n",
    "\n",
    "# equivalent but more general\n",
    "ax1 = plt.subplot(2, 2, 1)\n",
    "\n",
    "# add a subplot with no frame\n",
    "ax2 = plt.subplot(222, frameon=False)\n",
    "\n",
    "# add a polar subplot\n",
    "plt.subplot(223, projection='polar')\n",
    "\n",
    "# add a red subplot that shares the x-axis with ax1\n",
    "plt.subplot(224, sharex=ax1, facecolor='red')\n",
    "\n",
    "# delete ax2 from the figure\n",
    "plt.delaxes(ax2)\n",
    "\n",
    "# add ax2 to the figure again\n",
    "plt.subplot(ax2)\n",
    "\n",
    "# make the first axes \"current\" again\n",
    "plt.subplot(221)"
   ]
  },
  {
   "cell_type": "code",
   "execution_count": 74,
   "metadata": {},
   "outputs": [
    {
     "data": {
      "image/png": "[encoded data removed]",
      "text/plain": [
       "<Figure size 288x288 with 1 Axes>"
      ]
     },
     "metadata": {
      "needs_background": "light"
     },
     "output_type": "display_data"
    }
   ],
   "source": [
    "elplot(opar[0])"
   ]
  },
  {
   "cell_type": "code",
   "execution_count": 76,
   "metadata": {},
   "outputs": [
    {
     "data": {
      "image/png": "[encoded data removed]",
      "text/plain": [
       "<Figure size 288x288 with 1 Axes>"
      ]
     },
     "metadata": {
      "needs_background": "light"
     },
     "output_type": "display_data"
    }
   ],
   "source": [
    "elplot(ropar[0])"
   ]
  },
  {
   "cell_type": "markdown",
   "metadata": {},
   "source": [
    "## seed before and after supervised learning"
   ]
  },
  {
   "cell_type": "code",
   "execution_count": null,
   "metadata": {},
   "outputs": [],
   "source": []
  },
  {
   "cell_type": "markdown",
   "metadata": {},
   "source": [
    "Comparison with Model Trained from Scratch\n",
    "------------------------------------------\n",
    "\n",
    "Just for fun, lets see how the model learns if we do not use transfer\n",
    "learning. The performance of finetuning vs. feature extracting depends\n",
    "largely on the dataset but in general both transfer learning methods\n",
    "produce favorable results in terms of training time and overall accuracy\n",
    "versus a model trained from scratch.\n",
    "\n",
    "\n"
   ]
  },
  {
   "cell_type": "code",
   "execution_count": null,
   "metadata": {
    "collapsed": false,
    "jupyter": {
     "outputs_hidden": false
    }
   },
   "outputs": [],
   "source": [
    "# Initialize the non-pretrained version of the model used for this run\n",
    "model_names = [\"resnet\", \"alexnet\", \"vgg\", \"squeezenet\", \"densenet\"]\n",
    "scratch_hist = np.zeros([len(model_names),2,num_epochs])\n",
    "for i, model_name in  enumerate(model_names):\n",
    "    scratch_model,_ = initialize_model(model_name, num_classes, feature_extract=False, use_pretrained=False)\n",
    "    scratch_model = scratch_model.to(device)\n",
    "    scratch_optimizer = optim.SGD(scratch_model.parameters(), lr=0.001, momentum=0.9)\n",
    "    scratch_criterion = nn.MSELoss('mean')\n",
    "    #scratch_criterion = nn.CrossEntropyLoss()\n",
    "    _,scratch_hist[i] = train_model(scratch_model, dataloaders_dict, scratch_criterion, \\\n",
    "                                 scratch_optimizer, num_epochs=num_epochs, is_inception=(model_name==\"inception\"))"
   ]
  },
  {
   "cell_type": "code",
   "execution_count": null,
   "metadata": {},
   "outputs": [],
   "source": [
    "scratch_hist.shape"
   ]
  },
  {
   "cell_type": "code",
   "execution_count": null,
   "metadata": {},
   "outputs": [],
   "source": [
    "linestyles = ['-','--']\n",
    "for i in range(2):\n",
    "    plt.plot(np.arange(num_epochs),scratch_hist[i,:],color = 'tab:blue',linestyle = linestyles[i],linewidth = 3)\n",
    "plt.savefig('plot output/'+\\\n",
    "                'num_ampl='+str(ampl)+\\\n",
    "                'bn'+str(bn)+\\\n",
    "                'bs'+str(batch_size)+\\\n",
    "                'epochs'+str(num_epochs)+\\\n",
    "                'net_names'+str(net_names)+\\\n",
    "                'lr'+str(0.001)+\\\n",
    "                'momentum'+str(0.9)+\\\n",
    "                'optimizer SGD'+\\\n",
    "                'scratch'+str(1)+\\\n",
    "                'time'+str(time.time())+\\\n",
    "            '.png', bbox_inches='tight')"
   ]
  },
  {
   "cell_type": "code",
   "execution_count": null,
   "metadata": {},
   "outputs": [],
   "source": [
    "# Plot the training curves of validation accuracy vs. number \n",
    "#  of training epochs for the transfer learning method and\n",
    "#  the model trained from scratch\n",
    "ohist = []\n",
    "shist = []\n",
    "\n",
    "ohist = [h.cpu().numpy() for h in hist]\n",
    "shist = [h.cpu().numpy() for h in scratch_hist]\n",
    "\n",
    "plt.title(\"Validation Accuracy vs. Number of Training Epochs\")\n",
    "plt.xlabel(\"Training Epochs\")\n",
    "plt.ylabel(\"Validation Accuracy\")\n",
    "plt.plot(range(1,num_epochs+1),ohist,label=\"Pretrained\")\n",
    "plt.plot(range(1,num_epochs+1),shist,label=\"Scratch\")\n",
    "plt.ylim((0,1.))\n",
    "plt.xticks(np.arange(1, num_epochs+1, 1.0))\n",
    "plt.legend()\n",
    "plt.show()"
   ]
  },
  {
   "cell_type": "markdown",
   "metadata": {},
   "source": [
    "Final Thoughts and Where to Go Next\n",
    "-----------------------------------\n",
    "\n",
    "Try running some of the other models and see how good the accuracy gets.\n",
    "Also, notice that feature extracting takes less time because in the\n",
    "backward pass we do not have to calculate most of the gradients. There\n",
    "are many places to go from here. You could:\n",
    "\n",
    "-  Run this code with a harder dataset and see some more benefits of\n",
    "   transfer learning\n",
    "-  Using the methods described here, use transfer learning to update a\n",
    "   different model, perhaps in a new domain (i.e. NLP, audio, etc.)\n",
    "-  Once you are happy with a model, you can export it as an ONNX model,\n",
    "   or trace it using the hybrid frontend for more speed and optimization\n",
    "   opportunities.\n",
    "\n",
    "\n"
   ]
  },
  {
   "cell_type": "markdown",
   "metadata": {},
   "source": [
    "## search for the best model"
   ]
  },
  {
   "cell_type": "code",
   "execution_count": null,
   "metadata": {
    "collapsed": false,
    "jupyter": {
     "outputs_hidden": false
    }
   },
   "outputs": [],
   "source": [
    "# Setup the loss fxn\n",
    "#criterion = nn.CrossEntropyLoss()\n",
    "criterion = nn.MSELoss(reduction='mean')\n",
    "bn = 1\n",
    "#model_ft = None\n",
    "num_epochs = 10\n",
    "net_names = [\"resnet\", \"alexnet\", \"vgg\", \"squeezenet\", \"densenet\"]\n",
    "#[\"vgg\", \"squeezenet\"]\n",
    "lossa = np.zeros([len(net_names),2,num_epochs])\n",
    "#[\"resnet\", \"alexnet\", \"vgg\", \"squeezenet\", \"densenet\"]\n",
    "for i, model_name in enumerate(net_names):\n",
    "# Train and evaluate\n",
    "    model_ft, input_size = initialize_model(model_name, num_classes, feature_extract, use_pretrained=True)\n",
    "    print(input_size)\n",
    "    model_ft.to(device)\n",
    "    model_ft, lossar = train_model(model_ft, dataloaders_dict, criterion, optimizer_ft, num_epochs=num_epochs, is_inception=(model_name==\"inception\"))\n",
    "    lossa[i] = lossar"
   ]
  },
  {
   "cell_type": "code",
   "execution_count": null,
   "metadata": {},
   "outputs": [],
   "source": [
    "print(scratch_hist.shape)"
   ]
  },
  {
   "cell_type": "code",
   "execution_count": null,
   "metadata": {},
   "outputs": [],
   "source": [
    "fig = plt.figure()\n",
    "axes = plt.gca()\n",
    "ymin, ymax = 0, 10\n",
    "axes.set_ylim([ymin,ymax])\n",
    "linestyles = ['-', '--', '-.', ':', '-', '--',\\\n",
    "                  '-.', ':', '-', '--', '-.', ':']\n",
    "colors = ['tab:blue', 'tab:orange', 'tab:green', 'tab:red', 'tab:purple']\n",
    "lossa = scratch_hist\n",
    "for i in range(lossa.shape[0]):\n",
    "    for j in range(lossa.shape[1]):\n",
    "        plt.plot(np.arange(num_epochs), \\\n",
    "                 lossa[i,j,:], \\\n",
    "                 color = colors[i], linestyle=linestyles[j], \\\n",
    "                 linewidth=3)\n",
    "plt.savefig('plot output/'+\\\n",
    "                'num_ampl='+str(ampl)+\\\n",
    "                'bn'+str(bn)+\\\n",
    "                'bs'+str(batch_size)+\\\n",
    "                'epochs'+str(num_epochs)+\\\n",
    "                'net_names'+str(net_names)+\\\n",
    "                'lr'+str(0.001)+\\\n",
    "                'momentum'+str(0.9)+\\\n",
    "                'optimizer SGD'+\\\n",
    "                'time'+str(time.time())+\\\n",
    "            '.png', bbox_inches='tight')"
   ]
  },
  {
   "cell_type": "code",
   "execution_count": null,
   "metadata": {},
   "outputs": [],
   "source": [
    "linestyles = ['-', '--', '-.', ':', '-', '--',\\\n",
    "                  '-.', ':', '-', '--', '-.', ':']\n",
    "colors = ['tab:blue', 'tab:orange', 'tab:green', 'tab:red', 'tab:purple']\n",
    "lossa = scratch_hist\n",
    "for j in range(lossa.shape[1]):\n",
    "    fig = plt.figure()\n",
    "    axes = plt.gca()\n",
    "    ymin, ymax = 0, 10\n",
    "    axes.set_ylim([ymin,ymax])\n",
    "    for i in range(lossa.shape[0]):\n",
    "        plt.plot(np.arange(num_epochs), \\\n",
    "                 lossa[i,j,:], \\\n",
    "                 color = colors[i], linestyle=linestyles[j], \\\n",
    "                 linewidth=3)\n",
    "    plt.savefig('plot output/'+\\\n",
    "                    'num_ampl='+str(ampl)+\\\n",
    "                    'bn'+str(bn)+\\\n",
    "                    'bs'+str(batch_size)+\\\n",
    "                    'epochs'+str(num_epochs)+\\\n",
    "                    'net_names'+str(net_names)+\\\n",
    "                    'lr'+str(0.001)+\\\n",
    "                    'momentum'+str(0.9)+\\\n",
    "                    'optimizer SGD'+\\\n",
    "                    'phase'+str(j)+\\\n",
    "                    'time'+str(time.time())+\\\n",
    "                '.png', bbox_inches='tight')"
   ]
  },
  {
   "cell_type": "markdown",
   "metadata": {},
   "source": [
    "## search for maximum size of the ply file"
   ]
  },
  {
   "cell_type": "code",
   "execution_count": null,
   "metadata": {},
   "outputs": [],
   "source": [
    "cip = []\n",
    "for root, directories, filenames in os.walk(data_dir): \n",
    "    for filename in filenames:\n",
    "        if filename[-4:] == '.ply':\n",
    "            cip.append(os.path.join(root,filename))"
   ]
  },
  {
   "cell_type": "code",
   "execution_count": null,
   "metadata": {},
   "outputs": [],
   "source": [
    "len(cip)\n",
    "cip[0]"
   ]
  },
  {
   "cell_type": "code",
   "execution_count": null,
   "metadata": {},
   "outputs": [],
   "source": [
    "maxsize = 0\n",
    "sizear = []\n",
    "i = 0\n",
    "sumav = 0\n",
    "for path in cip:\n",
    "    img = np.genfromtxt(path, skip_header = 7, skip_footer = 1)\n",
    "    sumav += os.stat(path).st_size/img.shape[0]\n",
    "\n",
    "    i+=1\n",
    "    if i == 50:\n",
    "        break\n",
    "    \n",
    "sumav/50\n",
    "\n",
    "#     sizear.append(img.shape[0])\n",
    "#     if img.shape[0]>maxsize:\n",
    "#         maxsize = img.shape[0]\n",
    "# print(maxsize)"
   ]
  },
  {
   "cell_type": "code",
   "execution_count": null,
   "metadata": {},
   "outputs": [],
   "source": [
    "32.761725985875024"
   ]
  },
  {
   "cell_type": "code",
   "execution_count": null,
   "metadata": {},
   "outputs": [],
   "source": [
    "maxsize = 0\n",
    "sizear = np.zeros(len(cip))\n",
    "i = 0\n",
    "sumav = 0\n",
    "for i, path in enumerate(cip):\n",
    "#    img = np.genfromtxt(path, skip_header = 7, skip_footer = 1)\n",
    "    sizear[i] = os.stat(path).st_size/32.761725985875024\n",
    "    \n",
    "#     sizear.append(img.shape[0])\n",
    "#     if img.shape[0]>maxsize:\n",
    "#         maxsize = img.shape[0]\n",
    "# print(maxsize)\n",
    "plt.plot(np.sort(sizear))"
   ]
  },
  {
   "cell_type": "code",
   "execution_count": null,
   "metadata": {},
   "outputs": [],
   "source": [
    "print(np.max(sizear))"
   ]
  }
 ],
 "metadata": {
  "kernelspec": {
   "display_name": "Python 3",
   "language": "python",
   "name": "python3"
  },
  "language_info": {
   "codemirror_mode": {
    "name": "ipython",
    "version": 3
   },
   "file_extension": ".py",
   "mimetype": "text/x-python",
   "name": "python",
   "nbconvert_exporter": "python",
   "pygments_lexer": "ipython3",
   "version": "3.8.5"
  }
 },
 "nbformat": 4,
 "nbformat_minor": 4
}
