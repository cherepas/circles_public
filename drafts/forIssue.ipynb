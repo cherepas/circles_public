{
 "cells": [
  {
   "cell_type": "code",
   "execution_count": 1,
   "metadata": {},
   "outputs": [
    {
     "data": {
      "text/plain": [
       "<torch._C.Generator at 0x29afb7053b0>"
      ]
     },
     "execution_count": 1,
     "metadata": {},
     "output_type": "execute_result"
    }
   ],
   "source": [
    "import numpy as np\n",
    "import torch as t\n",
    "import torch.nn as nn\n",
    "import torch.nn.functional as F\n",
    "\n",
    "device = t.device(\"cuda\" if t.cuda.is_available() else \"cpu\")\n",
    "C_in = 3 #number of views of the one object that are inserted in the color channel\n",
    "D_out = 441 #number of featers of spherical harmonics to regress\n",
    "epochs = 1 #how many epochs\n",
    "lr = 5e-5 #learning rate\n",
    "bn = 1 #how many batches\n",
    "bs = 1 #how many images in a batch\n",
    "modelname = 'CNet'\n",
    "lossb = np.zeros([2, 2, epochs])\n",
    "h = 500\n",
    "w = 900\n",
    "t.manual_seed(0)"
   ]
  },
  {
   "cell_type": "code",
   "execution_count": 105,
   "metadata": {},
   "outputs": [],
   "source": [
    "class CNet(t.nn.Module):\n",
    "    def __init__(self):\n",
    "        super().__init__()\n",
    "        cker = (5,5)\n",
    "        mker = (2,2)\n",
    "        msrd = (2,2)\n",
    "        self.conv0 = nn.Conv2d(C_in, 8, cker)\n",
    "        self.conv1 = nn.Conv2d(8, 16, cker)\n",
    "        self.pool = nn.MaxPool2d(mker,msrd)\n",
    "        self.linear0 = t.nn.Linear(16*122*222, 1000)\n",
    "        self.linear1 = t.nn.Linear(1000, D_out)\n",
    "nnarchitectures = {'CNet' : CNet}"
   ]
  },
  {
   "cell_type": "code",
   "execution_count": 100,
   "metadata": {
    "scrolled": true
   },
   "outputs": [],
   "source": [
    "def multit():\n",
    "    transformed_dataset = FaceLandmarksDataset(csv_file=mainpath+'/sh_paramters.csv',\n",
    "                                               root_dir=mainpath,\n",
    "                                               transform=composed)\n",
    "    dataloader = DataLoader(transformed_dataset, batch_size,\n",
    "                            shuffle=False, num_workers=1)\n",
    "    model = nnarchitectures[modelname]()\n",
    "    model.to(device)\n",
    "    optimizer = t.optim.Adam(model.parameters(), lr, betas=(0.9, 0.999), eps=1e-08, weight_decay=0, amsgrad=False)\n",
    "    sampled_val = next(iter(dataloader))\n",
    "    sampled_test = next(iter(dataloader))\n",
    "    [xtest, ytest] = [sampled_test['image'],sampled_test['landmarks']]\n",
    "    [xval, yval] = [sampled_val['image'],sampled_val['landmarks']]\n",
    "    for j in range(epochs):\n",
    "        start = time.time()  \n",
    "        for i_batch, sample_batched in enumerate(dataloader):\n",
    "            sample_batched['landmarks'].size()\n",
    "            try:\n",
    "                del loss\n",
    "            except:\n",
    "                1\n",
    "            criterion = t.nn.MSELoss(reduction='mean')\n",
    "            xtrain = xtrain.detach() \n",
    "            y_pred = model(xtrain) \n",
    "            loss = criterion(y_pred, ytrain)\n",
    "            optimizer.zero_grad()\n",
    "            loss.backward()\n",
    "            optimizer.step()\n",
    "        del loss\n",
    "    return(model)"
   ]
  }
 ],
 "metadata": {
  "kernelspec": {
   "display_name": "Python 3",
   "language": "python",
   "name": "python3"
  },
  "language_info": {
   "codemirror_mode": {
    "name": "ipython",
    "version": 3
   },
   "file_extension": ".py",
   "mimetype": "text/x-python",
   "name": "python",
   "nbconvert_exporter": "python",
   "pygments_lexer": "ipython3",
   "version": "3.8.5"
  }
 },
 "nbformat": 4,
 "nbformat_minor": 4
}
