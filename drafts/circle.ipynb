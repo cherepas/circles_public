{
 "cells": [
  {
   "cell_type": "code",
   "execution_count": 1,
   "metadata": {
    "scrolled": true
   },
   "outputs": [
    {
     "name": "stdout",
     "output_type": "stream",
     "text": [
      "hello\n"
     ]
    }
   ],
   "source": [
    "# -*- coding: utf-8 -*-\n",
    "#!/home/seva/anaconda3/envs/cirenv/bin/python python3\n",
    "print('hello')\n",
    "import numpy as np\n",
    "import torch as t\n",
    "import torch.nn as nn\n",
    "import torch.nn.functional as F\n",
    "import random as rnd\n",
    "import math\n",
    "#import cv2\n",
    "import time\n",
    "#%load_ext autoreload\n",
    "#%autoreload 2\n",
    "import importlib\n",
    "import matplotlib.pyplot as plt\n",
    "import matplotlib.font_manager as fm\n",
    "import os\n",
    "#import pandas as pd "
   ]
  },
  {
   "cell_type": "markdown",
   "metadata": {},
   "source": [
    "# Random data generation"
   ]
  },
  {
   "cell_type": "markdown",
   "metadata": {},
   "source": [
    "# GPU enabling"
   ]
  },
  {
   "cell_type": "code",
   "execution_count": 2,
   "metadata": {},
   "outputs": [
    {
     "name": "stdout",
     "output_type": "stream",
     "text": [
      "cuda\n"
     ]
    }
   ],
   "source": [
    "device = \"cuda\"\n",
    "#device = \"cpu\"\n",
    "print(device)"
   ]
  },
  {
   "cell_type": "markdown",
   "metadata": {},
   "source": [
    "# Generation of images"
   ]
  },
  {
   "cell_type": "code",
   "execution_count": 3,
   "metadata": {},
   "outputs": [],
   "source": [
    "def genbatch(k, imsize, N, n, device, randinit):\n",
    "    # np.random.seed(0)\n",
    "    # t.random.manual_seed(0)\n",
    "    data = t.zeros([N,1,imsize,imsize], dtype=t.float32)\n",
    "    #print(data.device)\n",
    "    labels = t.rand((N,k*n))\n",
    "    labels = labels.to(device)\n",
    "    #data, labels = data.to(device), labels.to(device), \n",
    "    if randinit: \n",
    "        data = t.rand([N,1,imsize,imsize])\n",
    "        data = data.to(device)\n",
    "    else: \n",
    "        data = data.to(device)\n",
    "        for i in range(N):\n",
    "            data[i,:,:,:] = ellipses(labels[i,:], k, imsize, device)\n",
    "    #t.cuda.set_device(device)\n",
    "\n",
    "    #print(data.device)\n",
    "\n",
    "        #image from circle generator is saved. first argument is batch iterable,\n",
    "        #second argument is color iterable, last two are image dimensions\n",
    "    #labels = t.from_numpy(labels)\n",
    "    #dividing data into train and test\n",
    "    testsize = int(N*0.2)\n",
    "    valsize = int((N-testsize)*0.2)\n",
    "    testset = [data[:testsize,:,:,:].float(), labels[:testsize,:].float()]\n",
    "    datar = data[testsize:,:,:,:]\n",
    "    #print(datar.device)\n",
    "    labelsr = labels[testsize:,:]\n",
    "    dataset = [datar[valsize:,:,:,:].float(), datar[:valsize,:,:,:].float(),\\\n",
    "                labelsr[valsize:,:].float(), labelsr[:valsize,:].float()]\n",
    "    #cross-validation splitting\n",
    "    # dataset_i = []\n",
    "    # dataset = []\n",
    "    #batcha = range(0, N, valsize)\n",
    "    #for i, n in enumerate(batcha[:-1]):\n",
    "    #    dataset_i = [datar[n:batcha[i+1],:,:,:].float(), \\\n",
    "    #                (t.cat((datar[:n,:,:,:], datar[batcha[i+1]:,:,:]), 0)).float(), \\\n",
    "    #                labelsr[n:batcha[i+1],:].float(), \\\n",
    "    #                (t.cat((labelsr[:n,:], labelsr[batcha[i+1]:]), 0)).float(),]\n",
    "    #    dataset.append(dataset_i)\n",
    "    return(dataset, testset)"
   ]
  },
  {
   "cell_type": "code",
   "execution_count": 1,
   "metadata": {},
   "outputs": [],
   "source": [
    "def figure_init(imsize, device):\n",
    "    X = t.arange(0, imsize, 1, dtype=t.float32, requires_grad=True)\n",
    "    Y = t.arange(0, imsize, 1, dtype=t.float32, requires_grad=True)\n",
    "    X, Y = t.meshgrid(X, Y)\n",
    "    #t.cuda.set_device(device)\n",
    "    X, Y = X.to(device), Y.to(device)\n",
    "    return(X, Y)\n",
    "def smoothborder(r, x):\n",
    "    if len(x) > 4:\n",
    "        r0 = t.sqrt(x[2]**2+x[3]**2)\n",
    "        #t.cuda.set_device(device)\n",
    "        r0 = r0.to(device)\n",
    "    else:\n",
    "        r0 = x[2]\n",
    "    I = (r <= r0)\n",
    "    a = 1\n",
    "    c = 4\n",
    "    I2 = (1+a*np.exp(c))/(1+a*t.exp(c*r/r0))\n",
    "    I = I + (r > r0) * I2\n",
    "    return(I)\n",
    "def ellipses(x, k, imsize, device):\n",
    "    X, Y = figure_init(imsize, device)\n",
    "    I = t.zeros([imsize,imsize], dtype=t.float32, requires_grad=True)\n",
    "    R = t.zeros([imsize,imsize], dtype=t.float32, requires_grad=True)\n",
    "    #t.cuda.set_device(device)\n",
    "    I, R = I.to(device), R.to(device)\n",
    "\n",
    "    for i in range(int(len(x)/k)):\n",
    "        if k == 3:\n",
    "            r = t.sqrt(((X-x[k*i]*imsize)**2 + (Y-x[k*i+1]*imsize)**2))/imsize\n",
    "        if k == 4:\n",
    "            r = t.sqrt((((X-x[k*i]*imsize)/x[k*i+2])**2 + \\\n",
    "            ((Y-x[k*i+1]*imsize)/x[k*i+3])**2))/imsize\n",
    "        #t.cuda.set_device(device)\n",
    "        r = r.to(device)\n",
    "        I = I + smoothborder(r, x[k*i:k*(i+1)])\n",
    "    R = (I>=1) + (I<1)*I\n",
    "    return(R)"
   ]
  },
  {
   "cell_type": "code",
   "execution_count": 5,
   "metadata": {
    "scrolled": true
   },
   "outputs": [],
   "source": [
    "#%run -i architecture"
   ]
  },
  {
   "cell_type": "markdown",
   "metadata": {},
   "source": [
    "# Network architectures "
   ]
  },
  {
   "cell_type": "code",
   "execution_count": 6,
   "metadata": {},
   "outputs": [],
   "source": [
    "class DNet(t.nn.Module):\n",
    "    def __init__(self, C_in, D_out, imsize, layers, dop):\n",
    "        #super(DNet, self).__init__()\n",
    "        super().__init__()\n",
    "        self.linear1 = t.nn.Linear(imsize*imsize*C_in, layers[0])\n",
    "        self.linear2 = t.nn.Linear(layers[0],layers[1])\n",
    "        self.linear3 = t.nn.Linear(layers[1],layers[2])\n",
    "        self.linear4 = t.nn.Linear(layers[2], D_out)\n",
    "        self.do = t.nn.Dropout(p=dop)\n",
    "        \n",
    "    def forward(self, x):\n",
    "        x = x.view(x.shape[0], -1)\n",
    "        #print(x.shape)\n",
    "        print(len(t.nonzero(x, as_tuple = False)))\n",
    "        x = self.do(F.leaky_relu(self.linear1(x).clamp(min=0)))\n",
    "        \n",
    "        #len(np.where( q < 0.1))\n",
    "        \n",
    "        x = self.do(F.leaky_relu(self.linear2(x)))\n",
    "\n",
    "        #print(x.shape)\n",
    "        #print(t.mean(x))\n",
    "        x = self.do(F.relu(self.linear3(x)))\n",
    "        #x = F.relu(self.linear4(x))\n",
    "        x = self.do(self.linear4(x))\n",
    "        return x\n",
    "class CNet(t.nn.Module):\n",
    "    def __init__(self, C_in, D_out):\n",
    "        super(CNet, self).__init__()\n",
    "        self.conv0 = nn.Conv2d(C_in, 6, 5)\n",
    "        self.conv1 = nn.Conv2d(6, 16, 5)\n",
    "        self.pool = nn.MaxPool2d(2, 2)\n",
    "        self.linear0 = t.nn.Linear(16*47*47, 1000)\n",
    "        self.linear1 = t.nn.Linear(1000, D_out)\n",
    "\n",
    "    def forward(self, x):\n",
    "        x = self.pool(F.relu(self.conv0(x)))\n",
    "        print(t.mean(x))\n",
    "        x = self.pool(F.relu(self.conv1(x)))\n",
    "        x = x.view(-1, x.size(1)*x.size(2)*x.size(3))\n",
    "        x = F.relu(self.linear0(x))\n",
    "        x = F.relu(self.linear1(x))\n",
    "        #x = self.linear1(x)\n",
    "        return x"
   ]
  },
  {
   "cell_type": "code",
   "execution_count": 7,
   "metadata": {
    "scrolled": true
   },
   "outputs": [],
   "source": [
    "nnarchitectures = { 'DNet' : DNet, \n",
    "                    'CNet' : CNet}"
   ]
  },
  {
   "cell_type": "code",
   "execution_count": 8,
   "metadata": {
    "scrolled": true
   },
   "outputs": [],
   "source": [
    "def ntime(fseconds):\n",
    "    #millis = int(millis)\n",
    "    seconds=(fseconds)%60\n",
    "    seconds = int(seconds)\n",
    "    minutes=(fseconds/(60))%60\n",
    "    minutes = int(minutes)\n",
    "    hours=(fseconds/(60*60))%24\n",
    "\n",
    "    print (\"%d:%d:%d\" % (hours, minutes, seconds))"
   ]
  },
  {
   "cell_type": "markdown",
   "metadata": {},
   "source": [
    "# Network training"
   ]
  },
  {
   "cell_type": "code",
   "execution_count": 9,
   "metadata": {},
   "outputs": [],
   "source": [
    "def train(data, lr, epochs, layers, dop, imsize, model = None, modelname = 'DNet', ltype = 'supervised') :\n",
    "    xtrain = data[0] #first counter is batch counter, second is data counter\n",
    "    xval = data[1]\n",
    "    ytrain = data[2]\n",
    "    yval = data[3]\n",
    "    op = data[3].shape[1] #output parameters\n",
    "    N = data[0].shape[0] #batch size\n",
    "    if model is None:\n",
    "        model = nnarchitectures[modelname](1, op, imsize, layers, dop)\n",
    "        model.to(device)\n",
    "    # Construct our loss function and an Optimizer. The call to model.parameters()\n",
    "    # in the SGD constructor will contain the learnable parameters of the \n",
    "    # modules which are members of the model.\n",
    "    criterion = t.nn.MSELoss(reduction='mean')\n",
    "    #criterion = t.nn.L1Loss()\n",
    "    optimizer = t.optim.Adam(model.parameters(), lr, betas=(0.9, 0.999), eps=1e-08, weight_decay=0, amsgrad=False)\n",
    "    #optimizer = t.optim.Adam(model.parameters(), lr)\n",
    "   \n",
    "    loss = []\n",
    "    lossa = np.zeros([2, epochs])\n",
    "    #tl = []\n",
    "    for tm in range(epochs):\n",
    "        #start = time.time()\n",
    "        print(tm)\n",
    "        xtrain = xtrain.detach() #xtrain contains images of the circle\n",
    "        y_pred = model(xtrain) #y_pred consists of coordinates of the circle center and its radius\n",
    "        if ltype == 'supervised': \n",
    "            # Forward pass: Compute predicted y by passing x to the model\n",
    "            #calculating loss between predicted parameters and parameters which were used for generation\n",
    "            loss = criterion(y_pred, ytrain)\n",
    "            lossa[0][tm] = loss.item() #the first number in the loss is a training loss\n",
    "            #updating list with losses \n",
    "            # Zero gradients, perform a backward pass, and update the weights.\n",
    "            optimizer.zero_grad()\n",
    "            loss.backward()\n",
    "            optimizer.step()\n",
    "            lossa[1][tm] = criterion(model(xval), yval).item() #the second number in the loss is a validation loss \n",
    "        else: \n",
    "            x_pred = t.zeros([N,1,imsize,imsize])\n",
    "            for i in range(N):\n",
    "                # Generating circles with inferred parameters y_pred.\n",
    "                #print(y_pred)\n",
    "                x_pred[i,0,:,:] = ellipses(y_pred, k, imsize, device)\n",
    "            # Compute and print loss\n",
    "            # Compare generated image with the input image, finding per-pixel distance between two images\n",
    "            loss = criterion(x_pred, xtrain)\n",
    "            #print(loss.item())\n",
    "            lossa[0][tm] = loss.item() #the first number in the loss is a training loss\n",
    "            optimizer.zero_grad()\n",
    "            loss.backward()\n",
    "            optimizer.step()\n",
    "            lossa[1][tm] = criterion(model(xval), yval).item() #the second number in the loss is a validation loss \n",
    "        #end = time.time()\n",
    "        #tl.append(end-start)\n",
    "        #if tm % 10 == 9:\n",
    "        #ntime(sum(tl) / len(tl)*epochs - sum(tl))\n",
    "    return model, lossa"
   ]
  },
  {
   "cell_type": "markdown",
   "metadata": {},
   "source": [
    "## Run the training with the different learning rate "
   ]
  },
  {
   "cell_type": "code",
   "execution_count": 10,
   "metadata": {},
   "outputs": [],
   "source": [
    "np.random.seed(0)\n",
    "t.manual_seed(0)\n",
    "rnd.seed(0)\n",
    "t.backends.cudnn.deterministic=True"
   ]
  },
  {
   "cell_type": "code",
   "execution_count": 11,
   "metadata": {},
   "outputs": [],
   "source": [
    "k = 4\n",
    "n = 3\n",
    "imsize = 200\n",
    "bs = 100"
   ]
  },
  {
   "cell_type": "code",
   "execution_count": 12,
   "metadata": {},
   "outputs": [
    {
     "ename": "RuntimeError",
     "evalue": "Found no NVIDIA driver on your system. Please check that you have an NVIDIA GPU and installed a driver from http://www.nvidia.com/Download/index.aspx",
     "output_type": "error",
     "traceback": [
      "\u001b[1;31m---------------------------------------------------------------------------\u001b[0m",
      "\u001b[1;31mRuntimeError\u001b[0m                              Traceback (most recent call last)",
      "\u001b[1;32m<ipython-input-12-fb216bfd07d7>\u001b[0m in \u001b[0;36m<module>\u001b[1;34m\u001b[0m\n\u001b[1;32m----> 1\u001b[1;33m \u001b[0mdataset\u001b[0m\u001b[1;33m,\u001b[0m \u001b[0m_\u001b[0m \u001b[1;33m=\u001b[0m \u001b[0mgenbatch\u001b[0m\u001b[1;33m(\u001b[0m\u001b[0mk\u001b[0m\u001b[1;33m,\u001b[0m \u001b[0mimsize\u001b[0m\u001b[1;33m,\u001b[0m \u001b[0mbs\u001b[0m\u001b[1;33m,\u001b[0m \u001b[0mn\u001b[0m\u001b[1;33m,\u001b[0m \u001b[0mdevice\u001b[0m\u001b[1;33m,\u001b[0m \u001b[0mrandinit\u001b[0m \u001b[1;33m=\u001b[0m \u001b[1;34m'True'\u001b[0m\u001b[1;33m)\u001b[0m\u001b[1;33m\u001b[0m\u001b[1;33m\u001b[0m\u001b[0m\n\u001b[0m\u001b[0;32m      2\u001b[0m \u001b[0mdataset\u001b[0m\u001b[1;33m[\u001b[0m\u001b[1;36m0\u001b[0m\u001b[1;33m]\u001b[0m\u001b[1;33m.\u001b[0m\u001b[0mshape\u001b[0m\u001b[1;33m\u001b[0m\u001b[1;33m\u001b[0m\u001b[0m\n",
      "\u001b[1;32m<ipython-input-3-0f169b9f5e9b>\u001b[0m in \u001b[0;36mgenbatch\u001b[1;34m(k, imsize, N, n, device, randinit)\u001b[0m\n\u001b[0;32m      5\u001b[0m     \u001b[1;31m#print(data.device)\u001b[0m\u001b[1;33m\u001b[0m\u001b[1;33m\u001b[0m\u001b[1;33m\u001b[0m\u001b[0m\n\u001b[0;32m      6\u001b[0m     \u001b[0mlabels\u001b[0m \u001b[1;33m=\u001b[0m \u001b[0mt\u001b[0m\u001b[1;33m.\u001b[0m\u001b[0mrand\u001b[0m\u001b[1;33m(\u001b[0m\u001b[1;33m(\u001b[0m\u001b[0mN\u001b[0m\u001b[1;33m,\u001b[0m\u001b[0mk\u001b[0m\u001b[1;33m*\u001b[0m\u001b[0mn\u001b[0m\u001b[1;33m)\u001b[0m\u001b[1;33m)\u001b[0m\u001b[1;33m\u001b[0m\u001b[1;33m\u001b[0m\u001b[0m\n\u001b[1;32m----> 7\u001b[1;33m     \u001b[0mlabels\u001b[0m \u001b[1;33m=\u001b[0m \u001b[0mlabels\u001b[0m\u001b[1;33m.\u001b[0m\u001b[0mto\u001b[0m\u001b[1;33m(\u001b[0m\u001b[0mdevice\u001b[0m\u001b[1;33m)\u001b[0m\u001b[1;33m\u001b[0m\u001b[1;33m\u001b[0m\u001b[0m\n\u001b[0m\u001b[0;32m      8\u001b[0m     \u001b[1;31m#data, labels = data.to(device), labels.to(device),\u001b[0m\u001b[1;33m\u001b[0m\u001b[1;33m\u001b[0m\u001b[1;33m\u001b[0m\u001b[0m\n\u001b[0;32m      9\u001b[0m     \u001b[1;32mif\u001b[0m \u001b[0mrandinit\u001b[0m\u001b[1;33m:\u001b[0m\u001b[1;33m\u001b[0m\u001b[1;33m\u001b[0m\u001b[0m\n",
      "\u001b[1;32mD:\\dprogramms\\anaconda\\envs\\ellipse\\lib\\site-packages\\torch\\cuda\\__init__.py\u001b[0m in \u001b[0;36m_lazy_init\u001b[1;34m()\u001b[0m\n\u001b[0;32m    170\u001b[0m         \u001b[1;31m# This function throws if there's a driver initialization error, no GPUs\u001b[0m\u001b[1;33m\u001b[0m\u001b[1;33m\u001b[0m\u001b[1;33m\u001b[0m\u001b[0m\n\u001b[0;32m    171\u001b[0m         \u001b[1;31m# are found or any other error occurs\u001b[0m\u001b[1;33m\u001b[0m\u001b[1;33m\u001b[0m\u001b[1;33m\u001b[0m\u001b[0m\n\u001b[1;32m--> 172\u001b[1;33m         \u001b[0mtorch\u001b[0m\u001b[1;33m.\u001b[0m\u001b[0m_C\u001b[0m\u001b[1;33m.\u001b[0m\u001b[0m_cuda_init\u001b[0m\u001b[1;33m(\u001b[0m\u001b[1;33m)\u001b[0m\u001b[1;33m\u001b[0m\u001b[1;33m\u001b[0m\u001b[0m\n\u001b[0m\u001b[0;32m    173\u001b[0m         \u001b[1;31m# Some of the queued calls may reentrantly call _lazy_init();\u001b[0m\u001b[1;33m\u001b[0m\u001b[1;33m\u001b[0m\u001b[1;33m\u001b[0m\u001b[0m\n\u001b[0;32m    174\u001b[0m         \u001b[1;31m# we need to just return without initializing in that case.\u001b[0m\u001b[1;33m\u001b[0m\u001b[1;33m\u001b[0m\u001b[1;33m\u001b[0m\u001b[0m\n",
      "\u001b[1;31mRuntimeError\u001b[0m: Found no NVIDIA driver on your system. Please check that you have an NVIDIA GPU and installed a driver from http://www.nvidia.com/Download/index.aspx"
     ]
    }
   ],
   "source": [
    "dataset, _ = genbatch(k, imsize, bs, n, device, randinit = 'True')\n",
    "dataset[0].shape"
   ]
  },
  {
   "cell_type": "code",
   "execution_count": null,
   "metadata": {
    "scrolled": true
   },
   "outputs": [],
   "source": [
    "datarnd = t.tensor(np.random.uniform(low = 0, high = 1.0, size = [bs, 1, imsize, imsize])).float()\n",
    "datarnd = datarnd.to(device)\n",
    "datarnd.shape\n",
    "#print(datarnd.shape)"
   ]
  },
  {
   "cell_type": "code",
   "execution_count": null,
   "metadata": {
    "code_folding": [],
    "scrolled": true
   },
   "outputs": [],
   "source": [
    "#%run -i architecture\n",
    "#lrrange = np.linspace(2.5e-5, 7.5e-5, 3) #test different learning rates (min, max, number of points)\n",
    "lrrange = np.linspace(5e-5, 5e-5, 1) #test different learning rates (min, max, number of points)\n",
    "epochs = 20\n",
    "#imsize = 100\n",
    "lossl = np.zeros([len(lrrange), 2, epochs])\n",
    "for i, lr in enumerate(lrrange):\n",
    "    model = None\n",
    "    _, lossa = train(dataset, lr, epochs, imsize, ltype = 'supervised')\n",
    "    #ntime(len(lrrange)*sum(tl) / len(tl)*epochs - sum(tl))\n",
    "    lossl[i] = lossa"
   ]
  },
  {
   "cell_type": "markdown",
   "metadata": {},
   "source": [
    "### Model test"
   ]
  },
  {
   "cell_type": "code",
   "execution_count": 13,
   "metadata": {},
   "outputs": [],
   "source": [
    "# print(model(testset[0]))\n",
    "# loss = criterion(model(testset[0]), testset[1])\n",
    "# print(loss.item()/(N-b))"
   ]
  },
  {
   "cell_type": "markdown",
   "metadata": {},
   "source": [
    "### Plotting the loss in dependence on epoch"
   ]
  },
  {
   "cell_type": "code",
   "execution_count": 14,
   "metadata": {},
   "outputs": [
    {
     "ename": "NameError",
     "evalue": "name 'lossl' is not defined",
     "output_type": "error",
     "traceback": [
      "\u001b[1;31m---------------------------------------------------------------------------\u001b[0m",
      "\u001b[1;31mNameError\u001b[0m                                 Traceback (most recent call last)",
      "\u001b[1;32m<ipython-input-14-65b626e2a198>\u001b[0m in \u001b[0;36m<module>\u001b[1;34m\u001b[0m\n\u001b[0;32m      6\u001b[0m \u001b[1;31m#axes.set_ylim([0,10000])\u001b[0m\u001b[1;33m\u001b[0m\u001b[1;33m\u001b[0m\u001b[1;33m\u001b[0m\u001b[0m\n\u001b[0;32m      7\u001b[0m \u001b[0mlabels_text\u001b[0m \u001b[1;33m=\u001b[0m \u001b[1;33m[\u001b[0m\u001b[1;34m'training'\u001b[0m\u001b[1;33m,\u001b[0m \u001b[1;34m'validation'\u001b[0m\u001b[1;33m]\u001b[0m\u001b[1;33m\u001b[0m\u001b[1;33m\u001b[0m\u001b[0m\n\u001b[1;32m----> 8\u001b[1;33m \u001b[1;32mfor\u001b[0m \u001b[0mpar\u001b[0m \u001b[1;32min\u001b[0m \u001b[0mrange\u001b[0m\u001b[1;33m(\u001b[0m\u001b[0mlen\u001b[0m\u001b[1;33m(\u001b[0m\u001b[0mlossl\u001b[0m\u001b[1;33m)\u001b[0m\u001b[1;33m)\u001b[0m\u001b[1;33m:\u001b[0m\u001b[1;33m\u001b[0m\u001b[1;33m\u001b[0m\u001b[0m\n\u001b[0m\u001b[0;32m      9\u001b[0m     \u001b[1;32mfor\u001b[0m \u001b[0mtrt\u001b[0m \u001b[1;32min\u001b[0m \u001b[0mrange\u001b[0m\u001b[1;33m(\u001b[0m\u001b[1;36m2\u001b[0m\u001b[1;33m)\u001b[0m\u001b[1;33m:\u001b[0m\u001b[1;33m\u001b[0m\u001b[1;33m\u001b[0m\u001b[0m\n\u001b[0;32m     10\u001b[0m         plt.plot(np.arange(epochs), lossl[par][trt][:], label=labels_text[trt], \\\n",
      "\u001b[1;31mNameError\u001b[0m: name 'lossl' is not defined"
     ]
    },
    {
     "data": {
      "image/png": "[encoded data removed]",
      "text/plain": [
       "<Figure size 1296x360 with 1 Axes>"
      ]
     },
     "metadata": {
      "needs_background": "light"
     },
     "output_type": "display_data"
    }
   ],
   "source": [
    "plt.rcParams[\"figure.figsize\"] = (18,5)\n",
    "linestyles = ['-', '--', '-.', ':', '-', '--', '-.', ':', '-', '--', '-.', ':']\n",
    "colors = ['red', 'green']\n",
    "axes = plt.gca()\n",
    "#axes.set_xlim([xmin,xmax])\n",
    "#axes.set_ylim([0,10000])\n",
    "labels_text = ['training', 'validation']\n",
    "for par in range(len(lossl)):\n",
    "    for trt in range(2):\n",
    "        plt.plot(np.arange(epochs), lossl[par][trt][:], label=labels_text[trt], \\\n",
    "                 color = colors[trt], linestyle = linestyles[par], linewidth=3)\n",
    "plt.legend(bbox_to_anchor=(1.05, 1), loc='best', borderaxespad=0., fontsize = 24)\n",
    "plt.xticks(fontsize=24)\n",
    "plt.yticks(fontsize=24)\n",
    "#axes.legend([1, 2, 3], (\"0-10\", \"10-100\"))\n",
    "plt.autoscale(enable=True, axis='both', tight=None)\n",
    "# font = fm.FontProperties(#family='Comic Sans MS',\n",
    "#                                    #weight='bold',\n",
    "#                                    style='normal', size=24)\n",
    "# axes.legend(prop=font)\n",
    "#ax.set_ylabel('Example', fontsize=40)\n",
    "plt.xlabel('Epoch', fontsize=24)\n",
    "plt.ylabel('MSE Loss', fontsize=24)\n",
    "plt.savefig('foo.png', bbox_inches='tight')\n",
    "plt.show()"
   ]
  },
  {
   "cell_type": "markdown",
   "metadata": {},
   "source": [
    "### Detecting a training line with a minimal validation loss trend and calculating corresponing lr"
   ]
  },
  {
   "cell_type": "code",
   "execution_count": 15,
   "metadata": {
    "scrolled": true
   },
   "outputs": [
    {
     "ename": "NameError",
     "evalue": "name 'losslv' is not defined",
     "output_type": "error",
     "traceback": [
      "\u001b[1;31m---------------------------------------------------------------------------\u001b[0m",
      "\u001b[1;31mNameError\u001b[0m                                 Traceback (most recent call last)",
      "\u001b[1;32m<ipython-input-15-76d567814143>\u001b[0m in \u001b[0;36m<module>\u001b[1;34m\u001b[0m\n\u001b[0;32m      1\u001b[0m \u001b[1;32mimport\u001b[0m \u001b[0moperator\u001b[0m\u001b[1;33m\u001b[0m\u001b[1;33m\u001b[0m\u001b[0m\n\u001b[1;32m----> 2\u001b[1;33m \u001b[0mlosval\u001b[0m \u001b[1;33m=\u001b[0m \u001b[0mnp\u001b[0m\u001b[1;33m.\u001b[0m\u001b[0marray\u001b[0m\u001b[1;33m(\u001b[0m\u001b[0mlosslv\u001b[0m\u001b[1;33m)\u001b[0m\u001b[1;33m\u001b[0m\u001b[1;33m\u001b[0m\u001b[0m\n\u001b[0m\u001b[0;32m      3\u001b[0m \u001b[1;31m#print(np.amin(losval, axis=0))\u001b[0m\u001b[1;33m\u001b[0m\u001b[1;33m\u001b[0m\u001b[1;33m\u001b[0m\u001b[0m\n\u001b[0;32m      4\u001b[0m \u001b[0mresult\u001b[0m \u001b[1;33m=\u001b[0m \u001b[0mnp\u001b[0m\u001b[1;33m.\u001b[0m\u001b[0mwhere\u001b[0m\u001b[1;33m(\u001b[0m\u001b[0mlosval\u001b[0m \u001b[1;33m==\u001b[0m \u001b[0mnp\u001b[0m\u001b[1;33m.\u001b[0m\u001b[0mamin\u001b[0m\u001b[1;33m(\u001b[0m\u001b[0mlosval\u001b[0m\u001b[1;33m,\u001b[0m \u001b[0maxis\u001b[0m\u001b[1;33m=\u001b[0m\u001b[1;36m0\u001b[0m\u001b[1;33m)\u001b[0m\u001b[1;33m)\u001b[0m\u001b[1;33m\u001b[0m\u001b[1;33m\u001b[0m\u001b[0m\n\u001b[0;32m      5\u001b[0m \u001b[1;31m#print('Tuple of arrays returned : ', result)\u001b[0m\u001b[1;33m\u001b[0m\u001b[1;33m\u001b[0m\u001b[1;33m\u001b[0m\u001b[0m\n",
      "\u001b[1;31mNameError\u001b[0m: name 'losslv' is not defined"
     ]
    }
   ],
   "source": [
    "import operator\n",
    "losval = np.array(losslv)\n",
    "#print(np.amin(losval, axis=0)) \n",
    "result = np.where(losval == np.amin(losval, axis=0))\n",
    "#print('Tuple of arrays returned : ', result)\n",
    "#print('List of coordinates of minimum value in Numpy array : ')\n",
    "# zip the 2 arrays to get the exact coordinates\n",
    "listOfCordinates = list(zip(result[0], result[1]))\n",
    "# travese over the list of cordinates\n",
    "d = dict()\n",
    "for cord in listOfCordinates:\n",
    "    #print(cord)\n",
    "    c = cord[0]\n",
    "    d[c] = d.get(c,0) + 1\n",
    "#print(d)\n",
    "print(max(d.items(), key=operator.itemgetter(1))[0])\n",
    "print(\"{:.2e}\".format(lrrange[int(max(d.items(), key=operator.itemgetter(1))[0])]))\n"
   ]
  },
  {
   "cell_type": "markdown",
   "metadata": {},
   "source": [
    "## Optimizing data size "
   ]
  },
  {
   "cell_type": "code",
   "execution_count": 16,
   "metadata": {},
   "outputs": [
    {
     "data": {
      "text/plain": [
       "<torch._C.Generator at 0x2abd677f2d0>"
      ]
     },
     "execution_count": 16,
     "metadata": {},
     "output_type": "execute_result"
    }
   ],
   "source": [
    "np.random.seed(0)\n",
    "t.random.manual_seed(0)"
   ]
  },
  {
   "cell_type": "code",
   "execution_count": 17,
   "metadata": {},
   "outputs": [],
   "source": [
    "#epochs, bn, bs = (7,)*3\n",
    "epochs = 100\n",
    "lr = 5e-5\n",
    "imsize = 100\n",
    "bn = 10\n",
    "bs = 100\n",
    "k = 4\n",
    "n = 3\n",
    "layers = [1000, 200, 100]\n",
    "dop = 0\n",
    "randinit = 1"
   ]
  },
  {
   "cell_type": "code",
   "execution_count": 18,
   "metadata": {},
   "outputs": [],
   "source": [
    "lossl = np.zeros([2, 1])\n",
    "lossl = np.delete(lossl, 0, 1)\n",
    "modeli = None\n",
    "tl = []\n",
    "#os.environ[\"CUDA_VISIBLE_DEVICES\"]=\"\""
   ]
  },
  {
   "cell_type": "code",
   "execution_count": 19,
   "metadata": {
    "scrolled": true
   },
   "outputs": [
    {
     "ename": "RuntimeError",
     "evalue": "Found no NVIDIA driver on your system. Please check that you have an NVIDIA GPU and installed a driver from http://www.nvidia.com/Download/index.aspx",
     "output_type": "error",
     "traceback": [
      "\u001b[1;31m---------------------------------------------------------------------------\u001b[0m",
      "\u001b[1;31mRuntimeError\u001b[0m                              Traceback (most recent call last)",
      "\u001b[1;32m<ipython-input-19-3d0ab8969462>\u001b[0m in \u001b[0;36m<module>\u001b[1;34m\u001b[0m\n\u001b[0;32m      7\u001b[0m     \u001b[1;31m#idata, _ = genbatch(int(1e+3), n, 'one_circle_gen', imsize)\u001b[0m\u001b[1;33m\u001b[0m\u001b[1;33m\u001b[0m\u001b[1;33m\u001b[0m\u001b[0m\n\u001b[0;32m      8\u001b[0m     \u001b[1;31m#print(i)\u001b[0m\u001b[1;33m\u001b[0m\u001b[1;33m\u001b[0m\u001b[1;33m\u001b[0m\u001b[0m\n\u001b[1;32m----> 9\u001b[1;33m     \u001b[0midata\u001b[0m\u001b[1;33m,\u001b[0m \u001b[0m_\u001b[0m \u001b[1;33m=\u001b[0m \u001b[0mgenbatch\u001b[0m\u001b[1;33m(\u001b[0m\u001b[0mk\u001b[0m\u001b[1;33m,\u001b[0m \u001b[0mimsize\u001b[0m\u001b[1;33m,\u001b[0m \u001b[0mbs\u001b[0m\u001b[1;33m,\u001b[0m \u001b[0mn\u001b[0m\u001b[1;33m,\u001b[0m \u001b[0mdevice\u001b[0m\u001b[1;33m,\u001b[0m \u001b[0mrandinit\u001b[0m\u001b[1;33m)\u001b[0m\u001b[1;33m\u001b[0m\u001b[1;33m\u001b[0m\u001b[0m\n\u001b[0m\u001b[0;32m     10\u001b[0m \u001b[1;31m#     idata = t.tensor(np.random.uniform(low = 0, high = 1.0, size = [bs, 1, imsize, imsize])).float()\u001b[0m\u001b[1;33m\u001b[0m\u001b[1;33m\u001b[0m\u001b[1;33m\u001b[0m\u001b[0m\n\u001b[0;32m     11\u001b[0m \u001b[1;31m#     idata = idata.to(device)\u001b[0m\u001b[1;33m\u001b[0m\u001b[1;33m\u001b[0m\u001b[1;33m\u001b[0m\u001b[0m\n",
      "\u001b[1;32m<ipython-input-3-0f169b9f5e9b>\u001b[0m in \u001b[0;36mgenbatch\u001b[1;34m(k, imsize, N, n, device, randinit)\u001b[0m\n\u001b[0;32m      5\u001b[0m     \u001b[1;31m#print(data.device)\u001b[0m\u001b[1;33m\u001b[0m\u001b[1;33m\u001b[0m\u001b[1;33m\u001b[0m\u001b[0m\n\u001b[0;32m      6\u001b[0m     \u001b[0mlabels\u001b[0m \u001b[1;33m=\u001b[0m \u001b[0mt\u001b[0m\u001b[1;33m.\u001b[0m\u001b[0mrand\u001b[0m\u001b[1;33m(\u001b[0m\u001b[1;33m(\u001b[0m\u001b[0mN\u001b[0m\u001b[1;33m,\u001b[0m\u001b[0mk\u001b[0m\u001b[1;33m*\u001b[0m\u001b[0mn\u001b[0m\u001b[1;33m)\u001b[0m\u001b[1;33m)\u001b[0m\u001b[1;33m\u001b[0m\u001b[1;33m\u001b[0m\u001b[0m\n\u001b[1;32m----> 7\u001b[1;33m     \u001b[0mlabels\u001b[0m \u001b[1;33m=\u001b[0m \u001b[0mlabels\u001b[0m\u001b[1;33m.\u001b[0m\u001b[0mto\u001b[0m\u001b[1;33m(\u001b[0m\u001b[0mdevice\u001b[0m\u001b[1;33m)\u001b[0m\u001b[1;33m\u001b[0m\u001b[1;33m\u001b[0m\u001b[0m\n\u001b[0m\u001b[0;32m      8\u001b[0m     \u001b[1;31m#data, labels = data.to(device), labels.to(device),\u001b[0m\u001b[1;33m\u001b[0m\u001b[1;33m\u001b[0m\u001b[1;33m\u001b[0m\u001b[0m\n\u001b[0;32m      9\u001b[0m     \u001b[1;32mif\u001b[0m \u001b[0mrandinit\u001b[0m\u001b[1;33m:\u001b[0m\u001b[1;33m\u001b[0m\u001b[1;33m\u001b[0m\u001b[0m\n",
      "\u001b[1;32mD:\\dprogramms\\anaconda\\envs\\ellipse\\lib\\site-packages\\torch\\cuda\\__init__.py\u001b[0m in \u001b[0;36m_lazy_init\u001b[1;34m()\u001b[0m\n\u001b[0;32m    170\u001b[0m         \u001b[1;31m# This function throws if there's a driver initialization error, no GPUs\u001b[0m\u001b[1;33m\u001b[0m\u001b[1;33m\u001b[0m\u001b[1;33m\u001b[0m\u001b[0m\n\u001b[0;32m    171\u001b[0m         \u001b[1;31m# are found or any other error occurs\u001b[0m\u001b[1;33m\u001b[0m\u001b[1;33m\u001b[0m\u001b[1;33m\u001b[0m\u001b[0m\n\u001b[1;32m--> 172\u001b[1;33m         \u001b[0mtorch\u001b[0m\u001b[1;33m.\u001b[0m\u001b[0m_C\u001b[0m\u001b[1;33m.\u001b[0m\u001b[0m_cuda_init\u001b[0m\u001b[1;33m(\u001b[0m\u001b[1;33m)\u001b[0m\u001b[1;33m\u001b[0m\u001b[1;33m\u001b[0m\u001b[0m\n\u001b[0m\u001b[0;32m    173\u001b[0m         \u001b[1;31m# Some of the queued calls may reentrantly call _lazy_init();\u001b[0m\u001b[1;33m\u001b[0m\u001b[1;33m\u001b[0m\u001b[1;33m\u001b[0m\u001b[0m\n\u001b[0;32m    174\u001b[0m         \u001b[1;31m# we need to just return without initializing in that case.\u001b[0m\u001b[1;33m\u001b[0m\u001b[1;33m\u001b[0m\u001b[1;33m\u001b[0m\u001b[0m\n",
      "\u001b[1;31mRuntimeError\u001b[0m: Found no NVIDIA driver on your system. Please check that you have an NVIDIA GPU and installed a driver from http://www.nvidia.com/Download/index.aspx"
     ]
    }
   ],
   "source": [
    "#cuda\n",
    "#drange = np.linspace(1e+4, 1e+4, 4, dtype = int)\n",
    "starta = time.time()\n",
    "for i in range(bn):\n",
    "    start = time.time()\n",
    "    #print(i)\n",
    "    #idata, _ = genbatch(int(1e+3), n, 'one_circle_gen', imsize)\n",
    "    #print(i)\n",
    "    idata, _ = genbatch(k, imsize, bs, n, device, randinit)\n",
    "#     idata = t.tensor(np.random.uniform(low = 0, high = 1.0, size = [bs, 1, imsize, imsize])).float()\n",
    "#     idata = idata.to(device)\n",
    "    #def train(dataset, lr, epochs, layers, dop, imsize, model = None, modelname = 'DNet', ltype = 'supervised') :\n",
    "    modeli, lossc = train(idata, lr, epochs, layers, dop, imsize, modelname = 'DNet',  model = modeli)\n",
    "    #lossl.append(lossa)\n",
    "    lossl = np.concatenate((lossl, lossc), axis=1)\n",
    "    #print(lossl.shape[1])\n",
    "    end = time.time()\n",
    "    tl.append(end-start)\n",
    "#lossl = np.delete(lossl, 0, 1)\n",
    "    #start = time.time()\n",
    "#     tl.append(end-start)\n",
    "    ntime(sum(tl) / len(tl)*bn - sum(tl))\n",
    "enda = time.time()\n",
    "timelapse = enda - starta"
   ]
  },
  {
   "cell_type": "code",
   "execution_count": 20,
   "metadata": {},
   "outputs": [
    {
     "ename": "ValueError",
     "evalue": "x and y must have same first dimension, but have shapes (1000,) and (0,)",
     "output_type": "error",
     "traceback": [
      "\u001b[1;31m---------------------------------------------------------------------------\u001b[0m",
      "\u001b[1;31mValueError\u001b[0m                                Traceback (most recent call last)",
      "\u001b[1;32m<ipython-input-20-d27e5fd2b37f>\u001b[0m in \u001b[0;36m<module>\u001b[1;34m\u001b[0m\n\u001b[0;32m      5\u001b[0m \u001b[0mlabels_text\u001b[0m \u001b[1;33m=\u001b[0m \u001b[1;33m[\u001b[0m\u001b[1;34m'training'\u001b[0m\u001b[1;33m,\u001b[0m \u001b[1;34m'validation'\u001b[0m\u001b[1;33m]\u001b[0m\u001b[1;33m\u001b[0m\u001b[1;33m\u001b[0m\u001b[0m\n\u001b[0;32m      6\u001b[0m \u001b[1;32mfor\u001b[0m \u001b[0mtrt\u001b[0m \u001b[1;32min\u001b[0m \u001b[0mrange\u001b[0m\u001b[1;33m(\u001b[0m\u001b[0mlen\u001b[0m\u001b[1;33m(\u001b[0m\u001b[0mlabels_text\u001b[0m\u001b[1;33m)\u001b[0m\u001b[1;33m)\u001b[0m\u001b[1;33m:\u001b[0m\u001b[1;33m\u001b[0m\u001b[1;33m\u001b[0m\u001b[0m\n\u001b[1;32m----> 7\u001b[1;33m     plt.plot(np.arange(epochs*bn), lossl[trt][:], label=labels_text[trt], \\\n\u001b[0m\u001b[0;32m      8\u001b[0m              color = colors[trt], linewidth=3)\n\u001b[0;32m      9\u001b[0m \u001b[0mplt\u001b[0m\u001b[1;33m.\u001b[0m\u001b[0mlegend\u001b[0m\u001b[1;33m(\u001b[0m\u001b[0mbbox_to_anchor\u001b[0m\u001b[1;33m=\u001b[0m\u001b[1;33m(\u001b[0m\u001b[1;36m1.05\u001b[0m\u001b[1;33m,\u001b[0m \u001b[1;36m1\u001b[0m\u001b[1;33m)\u001b[0m\u001b[1;33m,\u001b[0m \u001b[0mloc\u001b[0m\u001b[1;33m=\u001b[0m\u001b[1;34m'best'\u001b[0m\u001b[1;33m,\u001b[0m \u001b[0mborderaxespad\u001b[0m\u001b[1;33m=\u001b[0m\u001b[1;36m0.\u001b[0m\u001b[1;33m,\u001b[0m \u001b[0mfontsize\u001b[0m \u001b[1;33m=\u001b[0m \u001b[1;36m24\u001b[0m\u001b[1;33m)\u001b[0m\u001b[1;33m\u001b[0m\u001b[1;33m\u001b[0m\u001b[0m\n",
      "\u001b[1;32mD:\\dprogramms\\anaconda\\envs\\ellipse\\lib\\site-packages\\matplotlib\\pyplot.py\u001b[0m in \u001b[0;36mplot\u001b[1;34m(scalex, scaley, data, *args, **kwargs)\u001b[0m\n\u001b[0;32m   2838\u001b[0m \u001b[1;33m@\u001b[0m\u001b[0m_copy_docstring_and_deprecators\u001b[0m\u001b[1;33m(\u001b[0m\u001b[0mAxes\u001b[0m\u001b[1;33m.\u001b[0m\u001b[0mplot\u001b[0m\u001b[1;33m)\u001b[0m\u001b[1;33m\u001b[0m\u001b[1;33m\u001b[0m\u001b[0m\n\u001b[0;32m   2839\u001b[0m \u001b[1;32mdef\u001b[0m \u001b[0mplot\u001b[0m\u001b[1;33m(\u001b[0m\u001b[1;33m*\u001b[0m\u001b[0margs\u001b[0m\u001b[1;33m,\u001b[0m \u001b[0mscalex\u001b[0m\u001b[1;33m=\u001b[0m\u001b[1;32mTrue\u001b[0m\u001b[1;33m,\u001b[0m \u001b[0mscaley\u001b[0m\u001b[1;33m=\u001b[0m\u001b[1;32mTrue\u001b[0m\u001b[1;33m,\u001b[0m \u001b[0mdata\u001b[0m\u001b[1;33m=\u001b[0m\u001b[1;32mNone\u001b[0m\u001b[1;33m,\u001b[0m \u001b[1;33m**\u001b[0m\u001b[0mkwargs\u001b[0m\u001b[1;33m)\u001b[0m\u001b[1;33m:\u001b[0m\u001b[1;33m\u001b[0m\u001b[1;33m\u001b[0m\u001b[0m\n\u001b[1;32m-> 2840\u001b[1;33m     return gca().plot(\n\u001b[0m\u001b[0;32m   2841\u001b[0m         \u001b[1;33m*\u001b[0m\u001b[0margs\u001b[0m\u001b[1;33m,\u001b[0m \u001b[0mscalex\u001b[0m\u001b[1;33m=\u001b[0m\u001b[0mscalex\u001b[0m\u001b[1;33m,\u001b[0m \u001b[0mscaley\u001b[0m\u001b[1;33m=\u001b[0m\u001b[0mscaley\u001b[0m\u001b[1;33m,\u001b[0m\u001b[1;33m\u001b[0m\u001b[1;33m\u001b[0m\u001b[0m\n\u001b[0;32m   2842\u001b[0m         **({\"data\": data} if data is not None else {}), **kwargs)\n",
      "\u001b[1;32mD:\\dprogramms\\anaconda\\envs\\ellipse\\lib\\site-packages\\matplotlib\\axes\\_axes.py\u001b[0m in \u001b[0;36mplot\u001b[1;34m(self, scalex, scaley, data, *args, **kwargs)\u001b[0m\n\u001b[0;32m   1741\u001b[0m         \"\"\"\n\u001b[0;32m   1742\u001b[0m         \u001b[0mkwargs\u001b[0m \u001b[1;33m=\u001b[0m \u001b[0mcbook\u001b[0m\u001b[1;33m.\u001b[0m\u001b[0mnormalize_kwargs\u001b[0m\u001b[1;33m(\u001b[0m\u001b[0mkwargs\u001b[0m\u001b[1;33m,\u001b[0m \u001b[0mmlines\u001b[0m\u001b[1;33m.\u001b[0m\u001b[0mLine2D\u001b[0m\u001b[1;33m)\u001b[0m\u001b[1;33m\u001b[0m\u001b[1;33m\u001b[0m\u001b[0m\n\u001b[1;32m-> 1743\u001b[1;33m         \u001b[0mlines\u001b[0m \u001b[1;33m=\u001b[0m \u001b[1;33m[\u001b[0m\u001b[1;33m*\u001b[0m\u001b[0mself\u001b[0m\u001b[1;33m.\u001b[0m\u001b[0m_get_lines\u001b[0m\u001b[1;33m(\u001b[0m\u001b[1;33m*\u001b[0m\u001b[0margs\u001b[0m\u001b[1;33m,\u001b[0m \u001b[0mdata\u001b[0m\u001b[1;33m=\u001b[0m\u001b[0mdata\u001b[0m\u001b[1;33m,\u001b[0m \u001b[1;33m**\u001b[0m\u001b[0mkwargs\u001b[0m\u001b[1;33m)\u001b[0m\u001b[1;33m]\u001b[0m\u001b[1;33m\u001b[0m\u001b[1;33m\u001b[0m\u001b[0m\n\u001b[0m\u001b[0;32m   1744\u001b[0m         \u001b[1;32mfor\u001b[0m \u001b[0mline\u001b[0m \u001b[1;32min\u001b[0m \u001b[0mlines\u001b[0m\u001b[1;33m:\u001b[0m\u001b[1;33m\u001b[0m\u001b[1;33m\u001b[0m\u001b[0m\n\u001b[0;32m   1745\u001b[0m             \u001b[0mself\u001b[0m\u001b[1;33m.\u001b[0m\u001b[0madd_line\u001b[0m\u001b[1;33m(\u001b[0m\u001b[0mline\u001b[0m\u001b[1;33m)\u001b[0m\u001b[1;33m\u001b[0m\u001b[1;33m\u001b[0m\u001b[0m\n",
      "\u001b[1;32mD:\\dprogramms\\anaconda\\envs\\ellipse\\lib\\site-packages\\matplotlib\\axes\\_base.py\u001b[0m in \u001b[0;36m__call__\u001b[1;34m(self, data, *args, **kwargs)\u001b[0m\n\u001b[0;32m    271\u001b[0m                 \u001b[0mthis\u001b[0m \u001b[1;33m+=\u001b[0m \u001b[0margs\u001b[0m\u001b[1;33m[\u001b[0m\u001b[1;36m0\u001b[0m\u001b[1;33m]\u001b[0m\u001b[1;33m,\u001b[0m\u001b[1;33m\u001b[0m\u001b[1;33m\u001b[0m\u001b[0m\n\u001b[0;32m    272\u001b[0m                 \u001b[0margs\u001b[0m \u001b[1;33m=\u001b[0m \u001b[0margs\u001b[0m\u001b[1;33m[\u001b[0m\u001b[1;36m1\u001b[0m\u001b[1;33m:\u001b[0m\u001b[1;33m]\u001b[0m\u001b[1;33m\u001b[0m\u001b[1;33m\u001b[0m\u001b[0m\n\u001b[1;32m--> 273\u001b[1;33m             \u001b[1;32myield\u001b[0m \u001b[1;32mfrom\u001b[0m \u001b[0mself\u001b[0m\u001b[1;33m.\u001b[0m\u001b[0m_plot_args\u001b[0m\u001b[1;33m(\u001b[0m\u001b[0mthis\u001b[0m\u001b[1;33m,\u001b[0m \u001b[0mkwargs\u001b[0m\u001b[1;33m)\u001b[0m\u001b[1;33m\u001b[0m\u001b[1;33m\u001b[0m\u001b[0m\n\u001b[0m\u001b[0;32m    274\u001b[0m \u001b[1;33m\u001b[0m\u001b[0m\n\u001b[0;32m    275\u001b[0m     \u001b[1;32mdef\u001b[0m \u001b[0mget_next_color\u001b[0m\u001b[1;33m(\u001b[0m\u001b[0mself\u001b[0m\u001b[1;33m)\u001b[0m\u001b[1;33m:\u001b[0m\u001b[1;33m\u001b[0m\u001b[1;33m\u001b[0m\u001b[0m\n",
      "\u001b[1;32mD:\\dprogramms\\anaconda\\envs\\ellipse\\lib\\site-packages\\matplotlib\\axes\\_base.py\u001b[0m in \u001b[0;36m_plot_args\u001b[1;34m(self, tup, kwargs)\u001b[0m\n\u001b[0;32m    397\u001b[0m \u001b[1;33m\u001b[0m\u001b[0m\n\u001b[0;32m    398\u001b[0m         \u001b[1;32mif\u001b[0m \u001b[0mx\u001b[0m\u001b[1;33m.\u001b[0m\u001b[0mshape\u001b[0m\u001b[1;33m[\u001b[0m\u001b[1;36m0\u001b[0m\u001b[1;33m]\u001b[0m \u001b[1;33m!=\u001b[0m \u001b[0my\u001b[0m\u001b[1;33m.\u001b[0m\u001b[0mshape\u001b[0m\u001b[1;33m[\u001b[0m\u001b[1;36m0\u001b[0m\u001b[1;33m]\u001b[0m\u001b[1;33m:\u001b[0m\u001b[1;33m\u001b[0m\u001b[1;33m\u001b[0m\u001b[0m\n\u001b[1;32m--> 399\u001b[1;33m             raise ValueError(f\"x and y must have same first dimension, but \"\n\u001b[0m\u001b[0;32m    400\u001b[0m                              f\"have shapes {x.shape} and {y.shape}\")\n\u001b[0;32m    401\u001b[0m         \u001b[1;32mif\u001b[0m \u001b[0mx\u001b[0m\u001b[1;33m.\u001b[0m\u001b[0mndim\u001b[0m \u001b[1;33m>\u001b[0m \u001b[1;36m2\u001b[0m \u001b[1;32mor\u001b[0m \u001b[0my\u001b[0m\u001b[1;33m.\u001b[0m\u001b[0mndim\u001b[0m \u001b[1;33m>\u001b[0m \u001b[1;36m2\u001b[0m\u001b[1;33m:\u001b[0m\u001b[1;33m\u001b[0m\u001b[1;33m\u001b[0m\u001b[0m\n",
      "\u001b[1;31mValueError\u001b[0m: x and y must have same first dimension, but have shapes (1000,) and (0,)"
     ]
    },
    {
     "data": {
      "image/png": "[encoded data removed]",
      "text/plain": [
       "<Figure size 1296x360 with 1 Axes>"
      ]
     },
     "metadata": {
      "needs_background": "light"
     },
     "output_type": "display_data"
    }
   ],
   "source": [
    "plt.rcParams[\"figure.figsize\"] = (18,5)\n",
    "#linestyles = ['-', '--', '-.', ':', '-', '--', '-.', ':', '-', '--', '-.', ':']\n",
    "colors = ['red', 'green']\n",
    "axes = plt.gca()\n",
    "labels_text = ['training', 'validation']\n",
    "for trt in range(len(labels_text)):\n",
    "    plt.plot(np.arange(epochs*bn), lossl[trt][:], label=labels_text[trt], \\\n",
    "             color = colors[trt], linewidth=3)\n",
    "plt.legend(bbox_to_anchor=(1.05, 1), loc='best', borderaxespad=0., fontsize = 24)\n",
    "plt.xticks(fontsize=24)\n",
    "plt.yticks(fontsize=24)\n",
    "plt.autoscale(enable=True, axis='both', tight=None)\n",
    "plt.xlabel('Epoch', fontsize=24)\n",
    "plt.ylabel('MSE Loss', fontsize=24)\n",
    "#+n+bn+bs+epochs+lr+imgsize+layers+dop+\n",
    "plt.savefig('k'+str(k)+'_'+'n'+str(n)+'_'+'imsize'+str(imsize)+'_'+'bn'+str(bn)+','+'bs'+str(bs)+'_'+\\\n",
    "            'epochs'+str(epochs)+'_'+'layers'+str(layers)+'_'+'lr'+str(lr)+'_'+'etime'+\\\n",
    "            str(int(timelapse)) + '_' + 'noisein' + str(randinit) +'.png', bbox_inches='tight')\n",
    "plt.show()"
   ]
  },
  {
   "cell_type": "markdown",
   "metadata": {},
   "source": [
    "# Unsupervised model. NN infers parameters of a object, then conducts it to the image generator and calculate loss between generated image and input image"
   ]
  },
  {
   "cell_type": "code",
   "execution_count": null,
   "metadata": {
    "scrolled": true
   },
   "outputs": [],
   "source": []
  },
  {
   "cell_type": "code",
   "execution_count": null,
   "metadata": {
    "scrolled": true
   },
   "outputs": [],
   "source": [
    "%run -i 'architecture.py'\n",
    "# Choose NN model architecture, criterion for loss calculation and optimizer\n",
    "model = CNet(1, ytrain.shape[1])\n",
    "#criterion = t.nn.MSELoss(reduction='sum')\n",
    "criterion = t.nn.MSELoss()\n",
    "optimizer = t.optim.SGD(model.parameters(), lr=1e-5)\n",
    "from circle_generator import *\n",
    "lossl = []\n",
    "for t in range(100):\n",
    "    # Forward pass: Compute predicted y by passing x to the model\n",
    "    xtrain = xtrain.detach() #xtrain is an image with a single circle with smooth edges\n",
    "    y_pred = model(xtrain) #y_pred contains coordiantes of circle centre and its radius\n",
    "    x_pred = t.zeros([b,1,imsize,imsize])\n",
    "    for i in range(b):\n",
    "        # Generating circles with inferred parameters y_pred.\n",
    "        x_pred[i,0,:,:] = one_circle_gen(y_pred[i])\n",
    "    # Compute and print loss\n",
    "    # Compare generated image with the input image, finding per-pixel distance between two images\n",
    "    loss = criterion(x_pred, xtrain)\n",
    "    lossl.append(loss.item())\n",
    "    #print(y_pred[0])\n",
    "    #print(y_pred.grad_fn)\n",
    "    #print(t.sum((x_pred - xtrain)))\n",
    "    #print(t.sum(y_pred))\n",
    "\n",
    "\n",
    "    # Print loss every 10 epochs\n",
    "    print(y_pred[0])\n",
    "    if t % 10 == 9:\n",
    "        print(t, loss.item())\n",
    "        #print(y_pred[0])\n",
    "    # Zero gradients, perform a backward pass, and update the weights.\n",
    "    optimizer.zero_grad()\n",
    "    loss.backward()\n",
    "    optimizer.step()"
   ]
  },
  {
   "cell_type": "code",
   "execution_count": null,
   "metadata": {
    "scrolled": true
   },
   "outputs": [],
   "source": [
    "y_pred[0]"
   ]
  },
  {
   "cell_type": "code",
   "execution_count": null,
   "metadata": {
    "scrolled": true
   },
   "outputs": [],
   "source": [
    "plt.imshow(x_pred[0,0,:,:].detach().numpy())"
   ]
  },
  {
   "cell_type": "code",
   "execution_count": null,
   "metadata": {
    "scrolled": true
   },
   "outputs": [],
   "source": [
    "print(y_pred)"
   ]
  },
  {
   "cell_type": "code",
   "execution_count": null,
   "metadata": {
    "scrolled": true
   },
   "outputs": [],
   "source": [
    "plt.imshow(xtrain[9,0,:,:].detach().numpy())"
   ]
  },
  {
   "cell_type": "code",
   "execution_count": null,
   "metadata": {
    "scrolled": true
   },
   "outputs": [],
   "source": [
    "plt.imshow((x_pred - xtrain)[30,0,:,:].detach().numpy())"
   ]
  },
  {
   "cell_type": "code",
   "execution_count": null,
   "metadata": {
    "scrolled": true
   },
   "outputs": [],
   "source": [
    "t.sum((x_pred - xtrain))"
   ]
  },
  {
   "cell_type": "code",
   "execution_count": null,
   "metadata": {
    "scrolled": true
   },
   "outputs": [],
   "source": [
    "t.sum((x_pred))"
   ]
  },
  {
   "cell_type": "code",
   "execution_count": null,
   "metadata": {
    "scrolled": true
   },
   "outputs": [],
   "source": [
    "criterion(x_pred[i,0,:,:], xtrain[i,0,:,:])"
   ]
  },
  {
   "cell_type": "code",
   "execution_count": null,
   "metadata": {
    "scrolled": true
   },
   "outputs": [],
   "source": [
    "print(y_pred)"
   ]
  },
  {
   "cell_type": "code",
   "execution_count": null,
   "metadata": {
    "scrolled": true
   },
   "outputs": [],
   "source": [
    "a = t.tensor([1, 2, 3])\n",
    "b = t.tensor([4, 5, 6])\n",
    "x = t.cat((a, b), 0)\n",
    "print(x)"
   ]
  },
  {
   "cell_type": "code",
   "execution_count": null,
   "metadata": {
    "scrolled": true
   },
   "outputs": [],
   "source": []
  }
 ],
 "metadata": {
  "kernelspec": {
   "display_name": "Python 3",
   "language": "python",
   "name": "python3"
  },
  "language_info": {
   "codemirror_mode": {
    "name": "ipython",
    "version": 3
   },
   "file_extension": ".py",
   "mimetype": "text/x-python",
   "name": "python",
   "nbconvert_exporter": "python",
   "pygments_lexer": "ipython3",
   "version": "3.8.5"
  },
  "toc": {
   "base_numbering": 1,
   "nav_menu": {},
   "number_sections": true,
   "sideBar": false,
   "skip_h1_title": false,
   "title_cell": "Table of Contents",
   "title_sidebar": "Contents",
   "toc_cell": false,
   "toc_position": {
    "height": "303px",
    "left": "1438px",
    "top": "88px",
    "width": "428px"
   },
   "toc_section_display": true,
   "toc_window_display": true
  },
  "toc-autonumbering": true,
  "toc-showcode": false,
  "toc-showmarkdowntxt": true
 },
 "nbformat": 4,
 "nbformat_minor": 4
}
